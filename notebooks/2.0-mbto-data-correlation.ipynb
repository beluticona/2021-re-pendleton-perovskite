{
 "cells": [
  {
   "source": [
    "## Data Correlation\n",
    "For each columns used in the paper we calculate Spearman correlation for each posible pair "
   ],
   "cell_type": "markdown",
   "metadata": {}
  },
  {
   "cell_type": "code",
   "execution_count": 1,
   "metadata": {},
   "outputs": [],
   "source": [
    "from sklearn.preprocessing import StandardScaler\n",
    "from sklearn.decomposition import PCA\n",
    "import matplotlib.pyplot as plt\n",
    "import seaborn as sns; sns.set()\n",
    "import numpy as np\n",
    "import pandas as pd\n",
    "plt.rcParams['figure.figsize'] = [10, 10]"
   ]
  },
  {
   "cell_type": "code",
   "execution_count": 2,
   "metadata": {},
   "outputs": [
    {
     "output_type": "stream",
     "name": "stdout",
     "text": [
      "/home/belu/VS Workplace/2021-re-pendleton-perovskite\n"
     ]
    }
   ],
   "source": [
    "%cd .."
   ]
  },
  {
   "cell_type": "code",
   "execution_count": 3,
   "metadata": {},
   "outputs": [],
   "source": [
    "import src.data.notebook_utils as utils\n",
    "\n",
    "results = 'notebooks/results/correlation/'\n",
    "\n",
    "df = utils.read_data()\n",
    "\n",
    "columns_by_type = utils.get_columns(df.columns)\n",
    "used_data = utils.get_used_columns(df.columns)\n",
    "selected_columns = set()"
   ]
  },
  {
   "cell_type": "code",
   "execution_count": 4,
   "metadata": {},
   "outputs": [],
   "source": [
    "selected_columns = selected_columns.union(columns_by_type['_feat_'],columns_by_type['solUD'],columns_by_type['chem'])"
   ]
  },
  {
   "cell_type": "code",
   "execution_count": 5,
   "metadata": {},
   "outputs": [
    {
     "output_type": "execute_result",
     "data": {
      "text/plain": [
       "111"
      ]
     },
     "metadata": {},
     "execution_count": 5
    }
   ],
   "source": [
    "len(selected_columns)"
   ]
  },
  {
   "cell_type": "code",
   "execution_count": 6,
   "metadata": {},
   "outputs": [
    {
     "output_type": "stream",
     "name": "stdout",
     "text": [
      "#Cols for type _rxn_: 9\n#Cols for type _feat_: 67\n#Cols for type solUD: 8\n#Cols for type chem: 36\n"
     ]
    }
   ],
   "source": [
    "for key, cols in columns_by_type.items():\n",
    "    print('#Cols for type {}: {}'.format(key, len(cols)))"
   ]
  },
  {
   "cell_type": "code",
   "execution_count": 7,
   "metadata": {},
   "outputs": [
    {
     "output_type": "execute_result",
     "data": {
      "text/plain": [
       "dict_keys(['_rxn_', '_feat_', 'solUD', 'chem'])"
      ]
     },
     "metadata": {},
     "execution_count": 7
    }
   ],
   "source": [
    "columns_by_type.keys()"
   ]
  },
  {
   "source": [
    "All columns are numeric"
   ],
   "cell_type": "markdown",
   "metadata": {}
  },
  {
   "source": [
    "A bit more about raw_reagent information to be considered:\n",
    "\n",
    "For each reagent precursor (not all of them), there are +/-:\n",
    "-   Concentration of each compounds used: by inchikey NOT USED FOR STD. Ex _raw_reagent_2_conc_QNNYEDWTOZODAS-UHFFFAOYSA-N'\n",
    "-   instructions (duration, volume, volumen units, etc) Ex _raw_reagent_2_instructions_0_duration_units'\n",
    "-   Concentration for SolUD (\"_v1-\") Ex'_raw_reagent_2_v1-conc_BAMDIFIROXTEEM-UHFFFAOYSA-N\n",
    "-   Volume in total Ex _raw_reagent_2_volume\n",
    "-   Amount of each chemical c Ex_raw_reagent_3_chemicals_0_actual_amount \n",
    "\n",
    "'_raw_smiles','_raw_smiles_standard',\n",
    " '_raw_standard_molweight',\n",
    " '_raw_standardized_smiles',\n",
    " '_raw_temperatureC_nominal',\n",
    " '_raw_timecompleted_UTC',\n",
    " '_raw_timecreated_UTC',\n",
    " '_raw_v0-M_acid',\n",
    " '_raw_v0-M_inorganic',\n",
    " '_raw_v0-M_organic',\n",
    "\n",
    " +\n",
    " _raw_v1-mmol\n",
    " _raw_v1-M"
   ],
   "cell_type": "markdown",
   "metadata": {}
  },
  {
   "source": [
    "### Pearson Correlaation\n",
    "First we should check if our data has a Normal distribution."
   ],
   "cell_type": "markdown",
   "metadata": {}
  },
  {
   "cell_type": "code",
   "execution_count": 8,
   "metadata": {},
   "outputs": [],
   "source": [
    "import scipy.stats as stats\n",
    "import numpy as np "
   ]
  },
  {
   "cell_type": "code",
   "execution_count": 9,
   "metadata": {},
   "outputs": [
    {
     "output_type": "stream",
     "name": "stdout",
     "text": [
      "_feat_LengthPerpendicularToTheMaxArea\n_feat_maximalprojectionsize\n"
     ]
    }
   ],
   "source": [
    "normal_cols = 0\n",
    "column_normalization = dict()\n",
    "for column in selected_columns:\n",
    "    value = round(stats.normaltest(df[column])[1], 4)\n",
    "    if (value >= 0.05):\n",
    "        print(column)\n",
    "        normal_cols+=1"
   ]
  },
  {
   "source": [
    "From only two columns there are enough evidence to affirm that its data don't belong to a non-normal distribution."
   ],
   "cell_type": "markdown",
   "metadata": {}
  },
  {
   "source": [
    "### Spearman Correlation\n",
    "Decied to move on with this kind of correlation because it does not assume any specific distribution"
   ],
   "cell_type": "markdown",
   "metadata": {}
  },
  {
   "cell_type": "code",
   "execution_count": 10,
   "metadata": {},
   "outputs": [],
   "source": [
    "import itertools as it \n",
    "import numpy as np\n",
    "\n",
    "combinations = np.array(list(it.combinations(selected_columns, 2)))"
   ]
  },
  {
   "cell_type": "code",
   "execution_count": 11,
   "metadata": {},
   "outputs": [],
   "source": [
    "final_df = df[selected_columns]"
   ]
  },
  {
   "cell_type": "code",
   "execution_count": 12,
   "metadata": {},
   "outputs": [
    {
     "output_type": "execute_result",
     "data": {
      "text/plain": [
       "6241"
      ]
     },
     "metadata": {},
     "execution_count": 12
    }
   ],
   "source": [
    "len(final_df)"
   ]
  },
  {
   "cell_type": "code",
   "execution_count": 13,
   "metadata": {},
   "outputs": [],
   "source": [
    "spearman_corr = final_df.corr('spearman')"
   ]
  },
  {
   "cell_type": "code",
   "execution_count": 14,
   "metadata": {},
   "outputs": [],
   "source": [
    "spearman_correlation = np.zeros(combinations.shape[0])\n",
    "for i, pair in enumerate(combinations):\n",
    "    spearman_correlation[i] = spearman_corr[pair[0]][pair[1]]"
   ]
  },
  {
   "cell_type": "code",
   "execution_count": 15,
   "metadata": {},
   "outputs": [],
   "source": [
    "sort_index = np.argsort(spearman_correlation)\n",
    "spearman_correlation = spearman_correlation[sort_index]\n",
    "combinations = combinations[sort_index]"
   ]
  },
  {
   "cell_type": "code",
   "execution_count": 16,
   "metadata": {},
   "outputs": [],
   "source": [
    "correlations = pd.DataFrame(combinations)\n",
    "correlations['correlation'] = spearman_correlation\n",
    "correlations.sort_values(['correlation'],ascending=False)\n",
    "correlations.dropna(inplace=True)\n",
    "correlations.rename({0:'column1', 1:'column2'}, inplace=True, axis=1)"
   ]
  },
  {
   "cell_type": "code",
   "execution_count": 17,
   "metadata": {},
   "outputs": [],
   "source": [
    "correlations.sort_values(['correlation'],ascending=False).to_csv(results+'feat_correlations_spearman.csv', index=None)\n"
   ]
  },
  {
   "cell_type": "code",
   "execution_count": 18,
   "metadata": {},
   "outputs": [],
   "source": [
    "correlations_plot = correlations.sort_values(['correlation'],ascending=False)\n"
   ]
  },
  {
   "cell_type": "code",
   "execution_count": 19,
   "metadata": {},
   "outputs": [
    {
     "output_type": "execute_result",
     "data": {
      "text/plain": [
       "3486"
      ]
     },
     "metadata": {},
     "execution_count": 19
    }
   ],
   "source": [
    "len(correlations_plot)"
   ]
  },
  {
   "source": [
    "### Spearman Correlation - by Plotly"
   ],
   "cell_type": "markdown",
   "metadata": {}
  },
  {
   "cell_type": "code",
   "execution_count": 190,
   "metadata": {},
   "outputs": [
    {
     "output_type": "display_data",
     "data": {
      "text/html": "        <script type=\"text/javascript\">\n        window.PlotlyConfig = {MathJaxConfig: 'local'};\n        if (window.MathJax) {MathJax.Hub.Config({SVG: {font: \"STIX-Web\"}});}\n        if (typeof require !== 'undefined') {\n        require.undef(\"plotly\");\n        requirejs.config({\n            paths: {\n                'plotly': ['https://cdn.plot.ly/plotly-latest.min']\n            }\n        });\n        require(['plotly'], function(Plotly) {\n            window._Plotly = Plotly;\n        });\n        }\n        </script>\n        "
     },
     "metadata": {}
    }
   ],
   "source": [
    "import plotly.graph_objects as go\n",
    "import plotly.figure_factory as ff\n",
    "import plotly.offline as pyo\n",
    "\n",
    "from scipy.spatial.distance import pdist, squareform\n",
    "\n",
    "import scipy.cluster.hierarchy as sch\n",
    "\n",
    "pyo.init_notebook_mode(connected=True)\n",
    "\n",
    "def corr_heatmap(numpy_array, columns, title):\n",
    "    data_array = numpy_array\n",
    "    labels = columns\n",
    "    colorScale = 'default'\n",
    "    dendogramMethod='median'\n",
    "   \n",
    "    # Initialize figure by creating upper dendrogram\n",
    "    #fig = ff.create_dendrogram(data_array, orientation='bottom', linkagefun=lambda x: sch.linkage(x, method=dendogramMethod, metric=distanceMethod ,optimal_ordering=True), labels=labels)\n",
    "    fig = ff.create_dendrogram(data_array, orientation='bottom', linkagefun=lambda x: sch.linkage(x, method=dendogramMethod, optimal_ordering=True), labels=labels)\n",
    "    for i in range(len(fig['data'])):\n",
    "        fig['data'][i]['yaxis'] = 'y2'\n",
    "\n",
    "    # Create Side Dendrogram\n",
    "    #dendro_side = ff.create_dendrogram(data_array, orientation='right', linkagefun=lambda x: sch.linkage(x, method=dendogramMethod, metric=distanceMethod,  optimal_ordering=True) )\n",
    "    dendro_side = ff.create_dendrogram(data_array, orientation='right', linkagefun=lambda x: sch.linkage(x, method=dendogramMethod, optimal_ordering=True) )\n",
    "\n",
    "    for i in range(len(dendro_side['data'])):\n",
    "        dendro_side['data'][i]['xaxis'] = 'x2'\n",
    "\n",
    "    # Add Side Dendrogram Data to Figure\n",
    "    # ~ stack1 = []\n",
    "    for data in dendro_side['data']:\n",
    "        fig.add_trace(data)\n",
    "\n",
    "\n",
    "    # Create Heatmap\n",
    "    dendro_leaves = dendro_side['layout']['yaxis']['ticktext']\n",
    "    dendro_leaves = list(map(int, dendro_leaves))\n",
    "    heat_data = data_array\n",
    "    heat_data = heat_data[dendro_leaves,:]\n",
    "    heat_data = heat_data[:,dendro_leaves]\n",
    "\n",
    "    if(colorScale!='default'):\n",
    "        aux=go.Heatmap(\n",
    "            x = dendro_leaves,\n",
    "            y = dendro_leaves,\n",
    "            z = heat_data,\n",
    "            colorscale = colorScale,\n",
    "            colorbar=dict(title='Trie distances'),\n",
    "            )\n",
    "        heatmap = [aux]\n",
    "    else:\n",
    "        aux = go.Heatmap(\n",
    "            x=dendro_leaves,\n",
    "            y=dendro_leaves,\n",
    "            z=heat_data,\n",
    "            colorbar=dict(title='Correlación (abs)'),\n",
    "        )\n",
    "        heatmap = [aux]\n",
    "        # heatmap = [\n",
    "        # \tgo.Heatmap(\n",
    "        # \t\tx = dendro_leaves,\n",
    "        # \t\ty = dendro_leaves,\n",
    "        # \t\tz = heat_data\n",
    "        # \t)\n",
    "        # ]\n",
    "\t\n",
    "    heatmap[0]['x'] = fig['layout']['xaxis']['tickvals']\n",
    "    heatmap[0]['y'] = dendro_side['layout']['yaxis']['tickvals']\n",
    "    # Add Heatmap Data to Figure\n",
    "    for data in heatmap:\n",
    "        fig.add_trace(data)\n",
    "\n",
    "\n",
    "    # Edit Layout\n",
    "    fig.update_layout({'width':800, 'height':800,\n",
    "                            'showlegend':False, 'hovermode': 'closest',\n",
    "                            })\n",
    "\n",
    "    fig.update_layout(title={\n",
    "                        'text': title,\n",
    "                        'y':0.9,\n",
    "                        'x':0.5,\n",
    "                        'xanchor': 'center',\n",
    "                        'yanchor': 'top'})\n",
    "\n",
    "    # Edit xaxis\n",
    "    fig.update_layout(xaxis={'domain': [.15, 1],\n",
    "                                    'mirror': False,\n",
    "                                    'showgrid': False,\n",
    "                                    'showline': False,\n",
    "                                    'zeroline': False,\n",
    "                                    'ticks':\"\"})\n",
    "    # Edit xaxis2\n",
    "    fig.update_layout(xaxis2={'domain': [0, .15],\n",
    "                                    'mirror': False,\n",
    "                                    'showgrid': False,\n",
    "                                    'showline': False,\n",
    "                                    'zeroline': False,\n",
    "                                    'showticklabels': False,\n",
    "                                    'ticks':\"\"})\n",
    "\n",
    "    # Edit yaxis\n",
    "    fig.update_layout(yaxis={'domain': [0, .85],\n",
    "                                    'mirror': False,\n",
    "                                    'showgrid': False,\n",
    "                                    'showline': False,\n",
    "                                    'zeroline': False,\n",
    "                                    'showticklabels': False,\n",
    "                                    'ticks': \"\"\n",
    "                            })\n",
    "    # Edit yaxis2\n",
    "    fig.update_layout(yaxis2={'domain':[.825, .975],\n",
    "                                        'mirror': False,\n",
    "                                        'showgrid': False,\n",
    "                                        'showline': False,\n",
    "                                        'zeroline': False,\n",
    "                                        'showticklabels': False,\n",
    "                                        'ticks':\"\"})\n",
    "    # ~ print(fig)\n",
    "    fig['layout']['yaxis']['ticktext'] = fig['layout']['xaxis']['ticktext']\n",
    "    fig['layout']['yaxis']['tickvals'] = fig['layout']['xaxis']['tickvals']\n",
    "\n",
    "\n",
    "    #fig.show()\n",
    "\n",
    "    pyo.iplot(fig, filename='test')"
   ]
  },
  {
   "cell_type": "code",
   "execution_count": 191,
   "metadata": {},
   "outputs": [],
   "source": [
    "feat_col = list(columns_by_type['_feat_'])\n",
    "solud_col = list(columns_by_type['solUD'])\n",
    "chem_col = list(columns_by_type['chem'])\n",
    "feat_solud = feat_col + solud_col\n",
    "chem_solud = chem_col + solud_col\n"
   ]
  },
  {
   "cell_type": "code",
   "execution_count": 192,
   "metadata": {},
   "outputs": [],
   "source": [
    "def plot_corr_dendogram(df, columns, title):\n",
    "    df_feat = df[columns]\n",
    "    df_feat_noctes = df_feat.loc[:, (df_feat != df_feat.iloc[0]).any()] \n",
    "    df_feat_cols = df_feat_noctes.columns\n",
    "    corr_df = df_feat_noctes.corr(method='spearman').values\n",
    "    corr_df = np.absolute(corr_df)\n",
    "    corr_heatmap(corr_df, df_feat_cols,title)\n",
    "     "
   ]
  },
  {
   "cell_type": "code",
   "execution_count": 203,
   "metadata": {},
   "outputs": [
    {
     "output_type": "display_data",
     "data": {
      "application/vnd.plotly.v1+json": {
       "config": {
        "linkText": "Export to plot.ly",
        "plotlyServerURL": "https://plot.ly",
        "showLink": false
       },
       "data": [
        {
         "hoverinfo": "text",
         "marker": {
          "color": "rgb(61,153,112)"
         },
         "mode": "lines",
         "type": "scatter",
         "x": [
          15,
          15,
          25,
          25
         ],
         "xaxis": "x",
         "y": [
          0,
          0,
          0,
          0
         ],
         "yaxis": "y2"
        },
        {
         "hoverinfo": "text",
         "marker": {
          "color": "rgb(61,153,112)"
         },
         "mode": "lines",
         "type": "scatter",
         "x": [
          20,
          20,
          35,
          35
         ],
         "xaxis": "x",
         "y": [
          0,
          0,
          0,
          0
         ],
         "yaxis": "y2"
        },
        {
         "hoverinfo": "text",
         "marker": {
          "color": "rgb(61,153,112)"
         },
         "mode": "lines",
         "type": "scatter",
         "x": [
          5,
          5,
          27.5,
          27.5
         ],
         "xaxis": "x",
         "y": [
          0,
          0.2226002828703737,
          0.2226002828703737,
          0
         ],
         "yaxis": "y2"
        },
        {
         "hoverinfo": "text",
         "marker": {
          "color": "rgb(61,153,112)"
         },
         "mode": "lines",
         "type": "scatter",
         "x": [
          55,
          55,
          65,
          65
         ],
         "xaxis": "x",
         "y": [
          0,
          0,
          0,
          0
         ],
         "yaxis": "y2"
        },
        {
         "hoverinfo": "text",
         "marker": {
          "color": "rgb(61,153,112)"
         },
         "mode": "lines",
         "type": "scatter",
         "x": [
          60,
          60,
          75,
          75
         ],
         "xaxis": "x",
         "y": [
          0,
          0,
          0,
          0
         ],
         "yaxis": "y2"
        },
        {
         "hoverinfo": "text",
         "marker": {
          "color": "rgb(61,153,112)"
         },
         "mode": "lines",
         "type": "scatter",
         "x": [
          45,
          45,
          67.5,
          67.5
         ],
         "xaxis": "x",
         "y": [
          0,
          0.3276521208435322,
          0.3276521208435322,
          0
         ],
         "yaxis": "y2"
        },
        {
         "hoverinfo": "text",
         "marker": {
          "color": "rgb(61,153,112)"
         },
         "mode": "lines",
         "type": "scatter",
         "x": [
          16.25,
          16.25,
          56.25,
          56.25
         ],
         "xaxis": "x",
         "y": [
          0.2226002828703737,
          0.7657008817379827,
          0.7657008817379827,
          0.3276521208435322
         ],
         "yaxis": "y2"
        },
        {
         "hoverinfo": "text",
         "marker": {
          "color": "rgb(255,65,54)"
         },
         "mode": "lines",
         "type": "scatter",
         "x": [
          95,
          95,
          105,
          105
         ],
         "xaxis": "x",
         "y": [
          0,
          0.7684918206132706,
          0.7684918206132706,
          0
         ],
         "yaxis": "y2"
        },
        {
         "hoverinfo": "text",
         "marker": {
          "color": "rgb(255,65,54)"
         },
         "mode": "lines",
         "type": "scatter",
         "x": [
          85,
          85,
          100,
          100
         ],
         "xaxis": "x",
         "y": [
          0,
          0.9058421340760913,
          0.9058421340760913,
          0.7684918206132706
         ],
         "yaxis": "y2"
        },
        {
         "hoverinfo": "text",
         "marker": {
          "color": "rgb(35,205,205)"
         },
         "mode": "lines",
         "type": "scatter",
         "x": [
          135,
          135,
          145,
          145
         ],
         "xaxis": "x",
         "y": [
          0,
          0,
          0,
          0
         ],
         "yaxis": "y2"
        },
        {
         "hoverinfo": "text",
         "marker": {
          "color": "rgb(35,205,205)"
         },
         "mode": "lines",
         "type": "scatter",
         "x": [
          175,
          175,
          185,
          185
         ],
         "xaxis": "x",
         "y": [
          0,
          0,
          0,
          0
         ],
         "yaxis": "y2"
        },
        {
         "hoverinfo": "text",
         "marker": {
          "color": "rgb(35,205,205)"
         },
         "mode": "lines",
         "type": "scatter",
         "x": [
          180,
          180,
          195,
          195
         ],
         "xaxis": "x",
         "y": [
          0,
          0,
          0,
          0
         ],
         "yaxis": "y2"
        },
        {
         "hoverinfo": "text",
         "marker": {
          "color": "rgb(35,205,205)"
         },
         "mode": "lines",
         "type": "scatter",
         "x": [
          165,
          165,
          187.5,
          187.5
         ],
         "xaxis": "x",
         "y": [
          0,
          0.25250409461172246,
          0.25250409461172246,
          0
         ],
         "yaxis": "y2"
        },
        {
         "hoverinfo": "text",
         "marker": {
          "color": "rgb(35,205,205)"
         },
         "mode": "lines",
         "type": "scatter",
         "x": [
          155,
          155,
          176.25,
          176.25
         ],
         "xaxis": "x",
         "y": [
          0,
          0.2899592860357415,
          0.2899592860357415,
          0.25250409461172246
         ],
         "yaxis": "y2"
        },
        {
         "hoverinfo": "text",
         "marker": {
          "color": "rgb(35,205,205)"
         },
         "mode": "lines",
         "type": "scatter",
         "x": [
          140,
          140,
          165.625,
          165.625
         ],
         "xaxis": "x",
         "y": [
          0,
          0.5607289497353385,
          0.5607289497353385,
          0.2899592860357415
         ],
         "yaxis": "y2"
        },
        {
         "hoverinfo": "text",
         "marker": {
          "color": "rgb(35,205,205)"
         },
         "mode": "lines",
         "type": "scatter",
         "x": [
          215,
          215,
          225,
          225
         ],
         "xaxis": "x",
         "y": [
          0,
          0.5734500922268384,
          0.5734500922268384,
          0
         ],
         "yaxis": "y2"
        },
        {
         "hoverinfo": "text",
         "marker": {
          "color": "rgb(35,205,205)"
         },
         "mode": "lines",
         "type": "scatter",
         "x": [
          205,
          205,
          220,
          220
         ],
         "xaxis": "x",
         "y": [
          0,
          0.5686858446086093,
          0.5686858446086093,
          0.5734500922268384
         ],
         "yaxis": "y2"
        },
        {
         "hoverinfo": "text",
         "marker": {
          "color": "rgb(35,205,205)"
         },
         "mode": "lines",
         "type": "scatter",
         "x": [
          152.8125,
          152.8125,
          212.5,
          212.5
         ],
         "xaxis": "x",
         "y": [
          0.5607289497353385,
          0.6437761269740719,
          0.6437761269740719,
          0.5686858446086093
         ],
         "yaxis": "y2"
        },
        {
         "hoverinfo": "text",
         "marker": {
          "color": "rgb(35,205,205)"
         },
         "mode": "lines",
         "type": "scatter",
         "x": [
          125,
          125,
          182.65625,
          182.65625
         ],
         "xaxis": "x",
         "y": [
          0,
          0.7553474210513476,
          0.7553474210513476,
          0.6437761269740719
         ],
         "yaxis": "y2"
        },
        {
         "hoverinfo": "text",
         "marker": {
          "color": "rgb(35,205,205)"
         },
         "mode": "lines",
         "type": "scatter",
         "x": [
          245,
          245,
          255,
          255
         ],
         "xaxis": "x",
         "y": [
          0,
          0.16255966993922116,
          0.16255966993922116,
          0
         ],
         "yaxis": "y2"
        },
        {
         "hoverinfo": "text",
         "marker": {
          "color": "rgb(35,205,205)"
         },
         "mode": "lines",
         "type": "scatter",
         "x": [
          265,
          265,
          275,
          275
         ],
         "xaxis": "x",
         "y": [
          0,
          0,
          0,
          0
         ],
         "yaxis": "y2"
        },
        {
         "hoverinfo": "text",
         "marker": {
          "color": "rgb(35,205,205)"
         },
         "mode": "lines",
         "type": "scatter",
         "x": [
          250,
          250,
          270,
          270
         ],
         "xaxis": "x",
         "y": [
          0.16255966993922116,
          0.3158141017295844,
          0.3158141017295844,
          0
         ],
         "yaxis": "y2"
        },
        {
         "hoverinfo": "text",
         "marker": {
          "color": "rgb(35,205,205)"
         },
         "mode": "lines",
         "type": "scatter",
         "x": [
          260,
          260,
          285,
          285
         ],
         "xaxis": "x",
         "y": [
          0.3158141017295844,
          0.5345571553806212,
          0.5345571553806212,
          0
         ],
         "yaxis": "y2"
        },
        {
         "hoverinfo": "text",
         "marker": {
          "color": "rgb(35,205,205)"
         },
         "mode": "lines",
         "type": "scatter",
         "x": [
          272.5,
          272.5,
          295,
          295
         ],
         "xaxis": "x",
         "y": [
          0.5345571553806212,
          0.7113710883153603,
          0.7113710883153603,
          0
         ],
         "yaxis": "y2"
        },
        {
         "hoverinfo": "text",
         "marker": {
          "color": "rgb(35,205,205)"
         },
         "mode": "lines",
         "type": "scatter",
         "x": [
          235,
          235,
          283.75,
          283.75
         ],
         "xaxis": "x",
         "y": [
          0,
          0.8857829567036106,
          0.8857829567036106,
          0.7113710883153603
         ],
         "yaxis": "y2"
        },
        {
         "hoverinfo": "text",
         "marker": {
          "color": "rgb(35,205,205)"
         },
         "mode": "lines",
         "type": "scatter",
         "x": [
          153.828125,
          153.828125,
          259.375,
          259.375
         ],
         "xaxis": "x",
         "y": [
          0.7553474210513476,
          1.0433159171013389,
          1.0433159171013389,
          0.8857829567036106
         ],
         "yaxis": "y2"
        },
        {
         "hoverinfo": "text",
         "marker": {
          "color": "rgb(35,205,205)"
         },
         "mode": "lines",
         "type": "scatter",
         "x": [
          305,
          305,
          315,
          315
         ],
         "xaxis": "x",
         "y": [
          0,
          0.2688460996461375,
          0.2688460996461375,
          0
         ],
         "yaxis": "y2"
        },
        {
         "hoverinfo": "text",
         "marker": {
          "color": "rgb(35,205,205)"
         },
         "mode": "lines",
         "type": "scatter",
         "x": [
          325,
          325,
          335,
          335
         ],
         "xaxis": "x",
         "y": [
          0,
          0.02935285008197524,
          0.02935285008197524,
          0
         ],
         "yaxis": "y2"
        },
        {
         "hoverinfo": "text",
         "marker": {
          "color": "rgb(35,205,205)"
         },
         "mode": "lines",
         "type": "scatter",
         "x": [
          330,
          330,
          345,
          345
         ],
         "xaxis": "x",
         "y": [
          0.02935285008197524,
          0.29594340653154144,
          0.29594340653154144,
          0
         ],
         "yaxis": "y2"
        },
        {
         "hoverinfo": "text",
         "marker": {
          "color": "rgb(35,205,205)"
         },
         "mode": "lines",
         "type": "scatter",
         "x": [
          310,
          310,
          337.5,
          337.5
         ],
         "xaxis": "x",
         "y": [
          0.2688460996461375,
          0.3784092454442201,
          0.3784092454442201,
          0.29594340653154144
         ],
         "yaxis": "y2"
        },
        {
         "hoverinfo": "text",
         "marker": {
          "color": "rgb(35,205,205)"
         },
         "mode": "lines",
         "type": "scatter",
         "x": [
          323.75,
          323.75,
          355,
          355
         ],
         "xaxis": "x",
         "y": [
          0.3784092454442201,
          0.7724984940230295,
          0.7724984940230295,
          0
         ],
         "yaxis": "y2"
        },
        {
         "hoverinfo": "text",
         "marker": {
          "color": "rgb(35,205,205)"
         },
         "mode": "lines",
         "type": "scatter",
         "x": [
          206.6015625,
          206.6015625,
          339.375,
          339.375
         ],
         "xaxis": "x",
         "y": [
          1.0433159171013389,
          1.5949448244607223,
          1.5949448244607223,
          0.7724984940230295
         ],
         "yaxis": "y2"
        },
        {
         "hoverinfo": "text",
         "marker": {
          "color": "rgb(35,205,205)"
         },
         "mode": "lines",
         "type": "scatter",
         "x": [
          115,
          115,
          272.98828125,
          272.98828125
         ],
         "xaxis": "x",
         "y": [
          0,
          1.724677421568404,
          1.724677421568404,
          1.5949448244607223
         ],
         "yaxis": "y2"
        },
        {
         "hoverinfo": "text",
         "marker": {
          "color": "rgb(0,116,217)"
         },
         "mode": "lines",
         "type": "scatter",
         "x": [
          92.5,
          92.5,
          193.994140625,
          193.994140625
         ],
         "xaxis": "x",
         "y": [
          0.9058421340760913,
          1.9329178763148178,
          1.9329178763148178,
          1.724677421568404
         ],
         "yaxis": "y2"
        },
        {
         "hoverinfo": "text",
         "marker": {
          "color": "rgb(133,20,75)"
         },
         "mode": "lines",
         "type": "scatter",
         "x": [
          365,
          365,
          375,
          375
         ],
         "xaxis": "x",
         "y": [
          0,
          0,
          0,
          0
         ],
         "yaxis": "y2"
        },
        {
         "hoverinfo": "text",
         "marker": {
          "color": "rgb(0,116,217)"
         },
         "mode": "lines",
         "type": "scatter",
         "x": [
          143.2470703125,
          143.2470703125,
          370,
          370
         ],
         "xaxis": "x",
         "y": [
          1.9329178763148178,
          1.926966720076081,
          1.926966720076081,
          0
         ],
         "yaxis": "y2"
        },
        {
         "hoverinfo": "text",
         "marker": {
          "color": "rgb(255,220,0)"
         },
         "mode": "lines",
         "type": "scatter",
         "x": [
          415,
          415,
          425,
          425
         ],
         "xaxis": "x",
         "y": [
          0,
          0,
          0,
          0
         ],
         "yaxis": "y2"
        },
        {
         "hoverinfo": "text",
         "marker": {
          "color": "rgb(255,220,0)"
         },
         "mode": "lines",
         "type": "scatter",
         "x": [
          405,
          405,
          420,
          420
         ],
         "xaxis": "x",
         "y": [
          0,
          0.560899270815052,
          0.560899270815052,
          0
         ],
         "yaxis": "y2"
        },
        {
         "hoverinfo": "text",
         "marker": {
          "color": "rgb(255,220,0)"
         },
         "mode": "lines",
         "type": "scatter",
         "x": [
          445,
          445,
          455,
          455
         ],
         "xaxis": "x",
         "y": [
          0,
          0,
          0,
          0
         ],
         "yaxis": "y2"
        },
        {
         "hoverinfo": "text",
         "marker": {
          "color": "rgb(255,220,0)"
         },
         "mode": "lines",
         "type": "scatter",
         "x": [
          435,
          435,
          450,
          450
         ],
         "xaxis": "x",
         "y": [
          0,
          0.3063526048416229,
          0.3063526048416229,
          0
         ],
         "yaxis": "y2"
        },
        {
         "hoverinfo": "text",
         "marker": {
          "color": "rgb(255,220,0)"
         },
         "mode": "lines",
         "type": "scatter",
         "x": [
          442.5,
          442.5,
          465,
          465
         ],
         "xaxis": "x",
         "y": [
          0.3063526048416229,
          0.38534580644581046,
          0.38534580644581046,
          0
         ],
         "yaxis": "y2"
        },
        {
         "hoverinfo": "text",
         "marker": {
          "color": "rgb(255,220,0)"
         },
         "mode": "lines",
         "type": "scatter",
         "x": [
          475,
          475,
          485,
          485
         ],
         "xaxis": "x",
         "y": [
          0,
          0,
          0,
          0
         ],
         "yaxis": "y2"
        },
        {
         "hoverinfo": "text",
         "marker": {
          "color": "rgb(255,220,0)"
         },
         "mode": "lines",
         "type": "scatter",
         "x": [
          480,
          480,
          495,
          495
         ],
         "xaxis": "x",
         "y": [
          0,
          0.6119268504010204,
          0.6119268504010204,
          0
         ],
         "yaxis": "y2"
        },
        {
         "hoverinfo": "text",
         "marker": {
          "color": "rgb(255,220,0)"
         },
         "mode": "lines",
         "type": "scatter",
         "x": [
          505,
          505,
          515,
          515
         ],
         "xaxis": "x",
         "y": [
          0,
          0.709173886557931,
          0.709173886557931,
          0
         ],
         "yaxis": "y2"
        },
        {
         "hoverinfo": "text",
         "marker": {
          "color": "rgb(255,220,0)"
         },
         "mode": "lines",
         "type": "scatter",
         "x": [
          487.5,
          487.5,
          510,
          510
         ],
         "xaxis": "x",
         "y": [
          0.6119268504010204,
          0.7438009339838272,
          0.7438009339838272,
          0.709173886557931
         ],
         "yaxis": "y2"
        },
        {
         "hoverinfo": "text",
         "marker": {
          "color": "rgb(255,220,0)"
         },
         "mode": "lines",
         "type": "scatter",
         "x": [
          453.75,
          453.75,
          498.75,
          498.75
         ],
         "xaxis": "x",
         "y": [
          0.38534580644581046,
          0.7417121303385653,
          0.7417121303385653,
          0.7438009339838272
         ],
         "yaxis": "y2"
        },
        {
         "hoverinfo": "text",
         "marker": {
          "color": "rgb(255,220,0)"
         },
         "mode": "lines",
         "type": "scatter",
         "x": [
          412.5,
          412.5,
          476.25,
          476.25
         ],
         "xaxis": "x",
         "y": [
          0.560899270815052,
          0.8691877162478583,
          0.8691877162478583,
          0.7417121303385653
         ],
         "yaxis": "y2"
        },
        {
         "hoverinfo": "text",
         "marker": {
          "color": "rgb(255,220,0)"
         },
         "mode": "lines",
         "type": "scatter",
         "x": [
          395,
          395,
          444.375,
          444.375
         ],
         "xaxis": "x",
         "y": [
          0,
          1.1657998922633515,
          1.1657998922633515,
          0.8691877162478583
         ],
         "yaxis": "y2"
        },
        {
         "hoverinfo": "text",
         "marker": {
          "color": "rgb(255,220,0)"
         },
         "mode": "lines",
         "type": "scatter",
         "x": [
          419.6875,
          419.6875,
          525,
          525
         ],
         "xaxis": "x",
         "y": [
          1.1657998922633515,
          1.3602672474998225,
          1.3602672474998225,
          0
         ],
         "yaxis": "y2"
        },
        {
         "hoverinfo": "text",
         "marker": {
          "color": "rgb(255,220,0)"
         },
         "mode": "lines",
         "type": "scatter",
         "x": [
          385,
          385,
          472.34375,
          472.34375
         ],
         "xaxis": "x",
         "y": [
          0,
          1.444588211084877,
          1.444588211084877,
          1.3602672474998225
         ],
         "yaxis": "y2"
        },
        {
         "hoverinfo": "text",
         "marker": {
          "color": "rgb(40,35,35)"
         },
         "mode": "lines",
         "type": "scatter",
         "x": [
          535,
          535,
          545,
          545
         ],
         "xaxis": "x",
         "y": [
          0,
          1.7323179083156426,
          1.7323179083156426,
          0
         ],
         "yaxis": "y2"
        },
        {
         "hoverinfo": "text",
         "marker": {
          "color": "rgb(40,35,35)"
         },
         "mode": "lines",
         "type": "scatter",
         "x": [
          565,
          565,
          575,
          575
         ],
         "xaxis": "x",
         "y": [
          0,
          0,
          0,
          0
         ],
         "yaxis": "y2"
        },
        {
         "hoverinfo": "text",
         "marker": {
          "color": "rgb(40,35,35)"
         },
         "mode": "lines",
         "type": "scatter",
         "x": [
          570,
          570,
          585,
          585
         ],
         "xaxis": "x",
         "y": [
          0,
          0,
          0,
          0
         ],
         "yaxis": "y2"
        },
        {
         "hoverinfo": "text",
         "marker": {
          "color": "rgb(40,35,35)"
         },
         "mode": "lines",
         "type": "scatter",
         "x": [
          555,
          555,
          577.5,
          577.5
         ],
         "xaxis": "x",
         "y": [
          0,
          0.9155503795041793,
          0.9155503795041793,
          0
         ],
         "yaxis": "y2"
        },
        {
         "hoverinfo": "text",
         "marker": {
          "color": "rgb(40,35,35)"
         },
         "mode": "lines",
         "type": "scatter",
         "x": [
          540,
          540,
          566.25,
          566.25
         ],
         "xaxis": "x",
         "y": [
          1.7323179083156426,
          1.8352227667702377,
          1.8352227667702377,
          0.9155503795041793
         ],
         "yaxis": "y2"
        },
        {
         "hoverinfo": "text",
         "marker": {
          "color": "rgb(0,116,217)"
         },
         "mode": "lines",
         "type": "scatter",
         "x": [
          428.671875,
          428.671875,
          553.125,
          553.125
         ],
         "xaxis": "x",
         "y": [
          1.444588211084877,
          2.0762534885694883,
          2.0762534885694883,
          1.8352227667702377
         ],
         "yaxis": "y2"
        },
        {
         "hoverinfo": "text",
         "marker": {
          "color": "rgb(0,116,217)"
         },
         "mode": "lines",
         "type": "scatter",
         "x": [
          256.62353515625,
          256.62353515625,
          490.8984375,
          490.8984375
         ],
         "xaxis": "x",
         "y": [
          1.926966720076081,
          2.2908809725665686,
          2.2908809725665686,
          2.0762534885694883
         ],
         "yaxis": "y2"
        },
        {
         "hoverinfo": "text",
         "marker": {
          "color": "rgb(0,116,217)"
         },
         "mode": "lines",
         "type": "scatter",
         "x": [
          36.25,
          36.25,
          373.760986328125,
          373.760986328125
         ],
         "xaxis": "x",
         "y": [
          0.7657008817379827,
          2.6250894940227956,
          2.6250894940227956,
          2.2908809725665686
         ],
         "yaxis": "y2"
        },
        {
         "hoverinfo": "text",
         "marker": {
          "color": "rgb(61,153,112)"
         },
         "mode": "lines",
         "type": "scatter",
         "x": [
          0,
          0,
          0,
          0
         ],
         "xaxis": "x2",
         "y": [
          15,
          15,
          25,
          25
         ],
         "yaxis": "y"
        },
        {
         "hoverinfo": "text",
         "marker": {
          "color": "rgb(61,153,112)"
         },
         "mode": "lines",
         "type": "scatter",
         "x": [
          0,
          0,
          0,
          0
         ],
         "xaxis": "x2",
         "y": [
          20,
          20,
          35,
          35
         ],
         "yaxis": "y"
        },
        {
         "hoverinfo": "text",
         "marker": {
          "color": "rgb(61,153,112)"
         },
         "mode": "lines",
         "type": "scatter",
         "x": [
          0,
          -0.2226002828703737,
          -0.2226002828703737,
          0
         ],
         "xaxis": "x2",
         "y": [
          5,
          5,
          27.5,
          27.5
         ],
         "yaxis": "y"
        },
        {
         "hoverinfo": "text",
         "marker": {
          "color": "rgb(61,153,112)"
         },
         "mode": "lines",
         "type": "scatter",
         "x": [
          0,
          0,
          0,
          0
         ],
         "xaxis": "x2",
         "y": [
          55,
          55,
          65,
          65
         ],
         "yaxis": "y"
        },
        {
         "hoverinfo": "text",
         "marker": {
          "color": "rgb(61,153,112)"
         },
         "mode": "lines",
         "type": "scatter",
         "x": [
          0,
          0,
          0,
          0
         ],
         "xaxis": "x2",
         "y": [
          60,
          60,
          75,
          75
         ],
         "yaxis": "y"
        },
        {
         "hoverinfo": "text",
         "marker": {
          "color": "rgb(61,153,112)"
         },
         "mode": "lines",
         "type": "scatter",
         "x": [
          0,
          -0.3276521208435322,
          -0.3276521208435322,
          0
         ],
         "xaxis": "x2",
         "y": [
          45,
          45,
          67.5,
          67.5
         ],
         "yaxis": "y"
        },
        {
         "hoverinfo": "text",
         "marker": {
          "color": "rgb(61,153,112)"
         },
         "mode": "lines",
         "type": "scatter",
         "x": [
          -0.2226002828703737,
          -0.7657008817379827,
          -0.7657008817379827,
          -0.3276521208435322
         ],
         "xaxis": "x2",
         "y": [
          16.25,
          16.25,
          56.25,
          56.25
         ],
         "yaxis": "y"
        },
        {
         "hoverinfo": "text",
         "marker": {
          "color": "rgb(255,65,54)"
         },
         "mode": "lines",
         "type": "scatter",
         "x": [
          0,
          -0.7684918206132706,
          -0.7684918206132706,
          0
         ],
         "xaxis": "x2",
         "y": [
          95,
          95,
          105,
          105
         ],
         "yaxis": "y"
        },
        {
         "hoverinfo": "text",
         "marker": {
          "color": "rgb(255,65,54)"
         },
         "mode": "lines",
         "type": "scatter",
         "x": [
          0,
          -0.9058421340760913,
          -0.9058421340760913,
          -0.7684918206132706
         ],
         "xaxis": "x2",
         "y": [
          85,
          85,
          100,
          100
         ],
         "yaxis": "y"
        },
        {
         "hoverinfo": "text",
         "marker": {
          "color": "rgb(35,205,205)"
         },
         "mode": "lines",
         "type": "scatter",
         "x": [
          0,
          0,
          0,
          0
         ],
         "xaxis": "x2",
         "y": [
          135,
          135,
          145,
          145
         ],
         "yaxis": "y"
        },
        {
         "hoverinfo": "text",
         "marker": {
          "color": "rgb(35,205,205)"
         },
         "mode": "lines",
         "type": "scatter",
         "x": [
          0,
          0,
          0,
          0
         ],
         "xaxis": "x2",
         "y": [
          175,
          175,
          185,
          185
         ],
         "yaxis": "y"
        },
        {
         "hoverinfo": "text",
         "marker": {
          "color": "rgb(35,205,205)"
         },
         "mode": "lines",
         "type": "scatter",
         "x": [
          0,
          0,
          0,
          0
         ],
         "xaxis": "x2",
         "y": [
          180,
          180,
          195,
          195
         ],
         "yaxis": "y"
        },
        {
         "hoverinfo": "text",
         "marker": {
          "color": "rgb(35,205,205)"
         },
         "mode": "lines",
         "type": "scatter",
         "x": [
          0,
          -0.25250409461172246,
          -0.25250409461172246,
          0
         ],
         "xaxis": "x2",
         "y": [
          165,
          165,
          187.5,
          187.5
         ],
         "yaxis": "y"
        },
        {
         "hoverinfo": "text",
         "marker": {
          "color": "rgb(35,205,205)"
         },
         "mode": "lines",
         "type": "scatter",
         "x": [
          0,
          -0.2899592860357415,
          -0.2899592860357415,
          -0.25250409461172246
         ],
         "xaxis": "x2",
         "y": [
          155,
          155,
          176.25,
          176.25
         ],
         "yaxis": "y"
        },
        {
         "hoverinfo": "text",
         "marker": {
          "color": "rgb(35,205,205)"
         },
         "mode": "lines",
         "type": "scatter",
         "x": [
          0,
          -0.5607289497353385,
          -0.5607289497353385,
          -0.2899592860357415
         ],
         "xaxis": "x2",
         "y": [
          140,
          140,
          165.625,
          165.625
         ],
         "yaxis": "y"
        },
        {
         "hoverinfo": "text",
         "marker": {
          "color": "rgb(35,205,205)"
         },
         "mode": "lines",
         "type": "scatter",
         "x": [
          0,
          -0.5734500922268384,
          -0.5734500922268384,
          0
         ],
         "xaxis": "x2",
         "y": [
          215,
          215,
          225,
          225
         ],
         "yaxis": "y"
        },
        {
         "hoverinfo": "text",
         "marker": {
          "color": "rgb(35,205,205)"
         },
         "mode": "lines",
         "type": "scatter",
         "x": [
          0,
          -0.5686858446086093,
          -0.5686858446086093,
          -0.5734500922268384
         ],
         "xaxis": "x2",
         "y": [
          205,
          205,
          220,
          220
         ],
         "yaxis": "y"
        },
        {
         "hoverinfo": "text",
         "marker": {
          "color": "rgb(35,205,205)"
         },
         "mode": "lines",
         "type": "scatter",
         "x": [
          -0.5607289497353385,
          -0.6437761269740719,
          -0.6437761269740719,
          -0.5686858446086093
         ],
         "xaxis": "x2",
         "y": [
          152.8125,
          152.8125,
          212.5,
          212.5
         ],
         "yaxis": "y"
        },
        {
         "hoverinfo": "text",
         "marker": {
          "color": "rgb(35,205,205)"
         },
         "mode": "lines",
         "type": "scatter",
         "x": [
          0,
          -0.7553474210513476,
          -0.7553474210513476,
          -0.6437761269740719
         ],
         "xaxis": "x2",
         "y": [
          125,
          125,
          182.65625,
          182.65625
         ],
         "yaxis": "y"
        },
        {
         "hoverinfo": "text",
         "marker": {
          "color": "rgb(35,205,205)"
         },
         "mode": "lines",
         "type": "scatter",
         "x": [
          0,
          -0.16255966993922116,
          -0.16255966993922116,
          0
         ],
         "xaxis": "x2",
         "y": [
          245,
          245,
          255,
          255
         ],
         "yaxis": "y"
        },
        {
         "hoverinfo": "text",
         "marker": {
          "color": "rgb(35,205,205)"
         },
         "mode": "lines",
         "type": "scatter",
         "x": [
          0,
          0,
          0,
          0
         ],
         "xaxis": "x2",
         "y": [
          265,
          265,
          275,
          275
         ],
         "yaxis": "y"
        },
        {
         "hoverinfo": "text",
         "marker": {
          "color": "rgb(35,205,205)"
         },
         "mode": "lines",
         "type": "scatter",
         "x": [
          -0.16255966993922116,
          -0.3158141017295844,
          -0.3158141017295844,
          0
         ],
         "xaxis": "x2",
         "y": [
          250,
          250,
          270,
          270
         ],
         "yaxis": "y"
        },
        {
         "hoverinfo": "text",
         "marker": {
          "color": "rgb(35,205,205)"
         },
         "mode": "lines",
         "type": "scatter",
         "x": [
          -0.3158141017295844,
          -0.5345571553806212,
          -0.5345571553806212,
          0
         ],
         "xaxis": "x2",
         "y": [
          260,
          260,
          285,
          285
         ],
         "yaxis": "y"
        },
        {
         "hoverinfo": "text",
         "marker": {
          "color": "rgb(35,205,205)"
         },
         "mode": "lines",
         "type": "scatter",
         "x": [
          -0.5345571553806212,
          -0.7113710883153603,
          -0.7113710883153603,
          0
         ],
         "xaxis": "x2",
         "y": [
          272.5,
          272.5,
          295,
          295
         ],
         "yaxis": "y"
        },
        {
         "hoverinfo": "text",
         "marker": {
          "color": "rgb(35,205,205)"
         },
         "mode": "lines",
         "type": "scatter",
         "x": [
          0,
          -0.8857829567036106,
          -0.8857829567036106,
          -0.7113710883153603
         ],
         "xaxis": "x2",
         "y": [
          235,
          235,
          283.75,
          283.75
         ],
         "yaxis": "y"
        },
        {
         "hoverinfo": "text",
         "marker": {
          "color": "rgb(35,205,205)"
         },
         "mode": "lines",
         "type": "scatter",
         "x": [
          -0.7553474210513476,
          -1.0433159171013389,
          -1.0433159171013389,
          -0.8857829567036106
         ],
         "xaxis": "x2",
         "y": [
          153.828125,
          153.828125,
          259.375,
          259.375
         ],
         "yaxis": "y"
        },
        {
         "hoverinfo": "text",
         "marker": {
          "color": "rgb(35,205,205)"
         },
         "mode": "lines",
         "type": "scatter",
         "x": [
          0,
          -0.2688460996461375,
          -0.2688460996461375,
          0
         ],
         "xaxis": "x2",
         "y": [
          305,
          305,
          315,
          315
         ],
         "yaxis": "y"
        },
        {
         "hoverinfo": "text",
         "marker": {
          "color": "rgb(35,205,205)"
         },
         "mode": "lines",
         "type": "scatter",
         "x": [
          0,
          -0.02935285008197524,
          -0.02935285008197524,
          0
         ],
         "xaxis": "x2",
         "y": [
          325,
          325,
          335,
          335
         ],
         "yaxis": "y"
        },
        {
         "hoverinfo": "text",
         "marker": {
          "color": "rgb(35,205,205)"
         },
         "mode": "lines",
         "type": "scatter",
         "x": [
          -0.02935285008197524,
          -0.29594340653154144,
          -0.29594340653154144,
          0
         ],
         "xaxis": "x2",
         "y": [
          330,
          330,
          345,
          345
         ],
         "yaxis": "y"
        },
        {
         "hoverinfo": "text",
         "marker": {
          "color": "rgb(35,205,205)"
         },
         "mode": "lines",
         "type": "scatter",
         "x": [
          -0.2688460996461375,
          -0.3784092454442201,
          -0.3784092454442201,
          -0.29594340653154144
         ],
         "xaxis": "x2",
         "y": [
          310,
          310,
          337.5,
          337.5
         ],
         "yaxis": "y"
        },
        {
         "hoverinfo": "text",
         "marker": {
          "color": "rgb(35,205,205)"
         },
         "mode": "lines",
         "type": "scatter",
         "x": [
          -0.3784092454442201,
          -0.7724984940230295,
          -0.7724984940230295,
          0
         ],
         "xaxis": "x2",
         "y": [
          323.75,
          323.75,
          355,
          355
         ],
         "yaxis": "y"
        },
        {
         "hoverinfo": "text",
         "marker": {
          "color": "rgb(35,205,205)"
         },
         "mode": "lines",
         "type": "scatter",
         "x": [
          -1.0433159171013389,
          -1.5949448244607223,
          -1.5949448244607223,
          -0.7724984940230295
         ],
         "xaxis": "x2",
         "y": [
          206.6015625,
          206.6015625,
          339.375,
          339.375
         ],
         "yaxis": "y"
        },
        {
         "hoverinfo": "text",
         "marker": {
          "color": "rgb(35,205,205)"
         },
         "mode": "lines",
         "type": "scatter",
         "x": [
          0,
          -1.724677421568404,
          -1.724677421568404,
          -1.5949448244607223
         ],
         "xaxis": "x2",
         "y": [
          115,
          115,
          272.98828125,
          272.98828125
         ],
         "yaxis": "y"
        },
        {
         "hoverinfo": "text",
         "marker": {
          "color": "rgb(0,116,217)"
         },
         "mode": "lines",
         "type": "scatter",
         "x": [
          -0.9058421340760913,
          -1.9329178763148178,
          -1.9329178763148178,
          -1.724677421568404
         ],
         "xaxis": "x2",
         "y": [
          92.5,
          92.5,
          193.994140625,
          193.994140625
         ],
         "yaxis": "y"
        },
        {
         "hoverinfo": "text",
         "marker": {
          "color": "rgb(133,20,75)"
         },
         "mode": "lines",
         "type": "scatter",
         "x": [
          0,
          0,
          0,
          0
         ],
         "xaxis": "x2",
         "y": [
          365,
          365,
          375,
          375
         ],
         "yaxis": "y"
        },
        {
         "hoverinfo": "text",
         "marker": {
          "color": "rgb(0,116,217)"
         },
         "mode": "lines",
         "type": "scatter",
         "x": [
          -1.9329178763148178,
          -1.926966720076081,
          -1.926966720076081,
          0
         ],
         "xaxis": "x2",
         "y": [
          143.2470703125,
          143.2470703125,
          370,
          370
         ],
         "yaxis": "y"
        },
        {
         "hoverinfo": "text",
         "marker": {
          "color": "rgb(255,220,0)"
         },
         "mode": "lines",
         "type": "scatter",
         "x": [
          0,
          0,
          0,
          0
         ],
         "xaxis": "x2",
         "y": [
          415,
          415,
          425,
          425
         ],
         "yaxis": "y"
        },
        {
         "hoverinfo": "text",
         "marker": {
          "color": "rgb(255,220,0)"
         },
         "mode": "lines",
         "type": "scatter",
         "x": [
          0,
          -0.560899270815052,
          -0.560899270815052,
          0
         ],
         "xaxis": "x2",
         "y": [
          405,
          405,
          420,
          420
         ],
         "yaxis": "y"
        },
        {
         "hoverinfo": "text",
         "marker": {
          "color": "rgb(255,220,0)"
         },
         "mode": "lines",
         "type": "scatter",
         "x": [
          0,
          0,
          0,
          0
         ],
         "xaxis": "x2",
         "y": [
          445,
          445,
          455,
          455
         ],
         "yaxis": "y"
        },
        {
         "hoverinfo": "text",
         "marker": {
          "color": "rgb(255,220,0)"
         },
         "mode": "lines",
         "type": "scatter",
         "x": [
          0,
          -0.3063526048416229,
          -0.3063526048416229,
          0
         ],
         "xaxis": "x2",
         "y": [
          435,
          435,
          450,
          450
         ],
         "yaxis": "y"
        },
        {
         "hoverinfo": "text",
         "marker": {
          "color": "rgb(255,220,0)"
         },
         "mode": "lines",
         "type": "scatter",
         "x": [
          -0.3063526048416229,
          -0.38534580644581046,
          -0.38534580644581046,
          0
         ],
         "xaxis": "x2",
         "y": [
          442.5,
          442.5,
          465,
          465
         ],
         "yaxis": "y"
        },
        {
         "hoverinfo": "text",
         "marker": {
          "color": "rgb(255,220,0)"
         },
         "mode": "lines",
         "type": "scatter",
         "x": [
          0,
          0,
          0,
          0
         ],
         "xaxis": "x2",
         "y": [
          475,
          475,
          485,
          485
         ],
         "yaxis": "y"
        },
        {
         "hoverinfo": "text",
         "marker": {
          "color": "rgb(255,220,0)"
         },
         "mode": "lines",
         "type": "scatter",
         "x": [
          0,
          -0.6119268504010204,
          -0.6119268504010204,
          0
         ],
         "xaxis": "x2",
         "y": [
          480,
          480,
          495,
          495
         ],
         "yaxis": "y"
        },
        {
         "hoverinfo": "text",
         "marker": {
          "color": "rgb(255,220,0)"
         },
         "mode": "lines",
         "type": "scatter",
         "x": [
          0,
          -0.709173886557931,
          -0.709173886557931,
          0
         ],
         "xaxis": "x2",
         "y": [
          505,
          505,
          515,
          515
         ],
         "yaxis": "y"
        },
        {
         "hoverinfo": "text",
         "marker": {
          "color": "rgb(255,220,0)"
         },
         "mode": "lines",
         "type": "scatter",
         "x": [
          -0.6119268504010204,
          -0.7438009339838272,
          -0.7438009339838272,
          -0.709173886557931
         ],
         "xaxis": "x2",
         "y": [
          487.5,
          487.5,
          510,
          510
         ],
         "yaxis": "y"
        },
        {
         "hoverinfo": "text",
         "marker": {
          "color": "rgb(255,220,0)"
         },
         "mode": "lines",
         "type": "scatter",
         "x": [
          -0.38534580644581046,
          -0.7417121303385653,
          -0.7417121303385653,
          -0.7438009339838272
         ],
         "xaxis": "x2",
         "y": [
          453.75,
          453.75,
          498.75,
          498.75
         ],
         "yaxis": "y"
        },
        {
         "hoverinfo": "text",
         "marker": {
          "color": "rgb(255,220,0)"
         },
         "mode": "lines",
         "type": "scatter",
         "x": [
          -0.560899270815052,
          -0.8691877162478583,
          -0.8691877162478583,
          -0.7417121303385653
         ],
         "xaxis": "x2",
         "y": [
          412.5,
          412.5,
          476.25,
          476.25
         ],
         "yaxis": "y"
        },
        {
         "hoverinfo": "text",
         "marker": {
          "color": "rgb(255,220,0)"
         },
         "mode": "lines",
         "type": "scatter",
         "x": [
          0,
          -1.1657998922633515,
          -1.1657998922633515,
          -0.8691877162478583
         ],
         "xaxis": "x2",
         "y": [
          395,
          395,
          444.375,
          444.375
         ],
         "yaxis": "y"
        },
        {
         "hoverinfo": "text",
         "marker": {
          "color": "rgb(255,220,0)"
         },
         "mode": "lines",
         "type": "scatter",
         "x": [
          -1.1657998922633515,
          -1.3602672474998225,
          -1.3602672474998225,
          0
         ],
         "xaxis": "x2",
         "y": [
          419.6875,
          419.6875,
          525,
          525
         ],
         "yaxis": "y"
        },
        {
         "hoverinfo": "text",
         "marker": {
          "color": "rgb(255,220,0)"
         },
         "mode": "lines",
         "type": "scatter",
         "x": [
          0,
          -1.444588211084877,
          -1.444588211084877,
          -1.3602672474998225
         ],
         "xaxis": "x2",
         "y": [
          385,
          385,
          472.34375,
          472.34375
         ],
         "yaxis": "y"
        },
        {
         "hoverinfo": "text",
         "marker": {
          "color": "rgb(40,35,35)"
         },
         "mode": "lines",
         "type": "scatter",
         "x": [
          0,
          -1.7323179083156426,
          -1.7323179083156426,
          0
         ],
         "xaxis": "x2",
         "y": [
          535,
          535,
          545,
          545
         ],
         "yaxis": "y"
        },
        {
         "hoverinfo": "text",
         "marker": {
          "color": "rgb(40,35,35)"
         },
         "mode": "lines",
         "type": "scatter",
         "x": [
          0,
          0,
          0,
          0
         ],
         "xaxis": "x2",
         "y": [
          565,
          565,
          575,
          575
         ],
         "yaxis": "y"
        },
        {
         "hoverinfo": "text",
         "marker": {
          "color": "rgb(40,35,35)"
         },
         "mode": "lines",
         "type": "scatter",
         "x": [
          0,
          0,
          0,
          0
         ],
         "xaxis": "x2",
         "y": [
          570,
          570,
          585,
          585
         ],
         "yaxis": "y"
        },
        {
         "hoverinfo": "text",
         "marker": {
          "color": "rgb(40,35,35)"
         },
         "mode": "lines",
         "type": "scatter",
         "x": [
          0,
          -0.9155503795041793,
          -0.9155503795041793,
          0
         ],
         "xaxis": "x2",
         "y": [
          555,
          555,
          577.5,
          577.5
         ],
         "yaxis": "y"
        },
        {
         "hoverinfo": "text",
         "marker": {
          "color": "rgb(40,35,35)"
         },
         "mode": "lines",
         "type": "scatter",
         "x": [
          -1.7323179083156426,
          -1.8352227667702377,
          -1.8352227667702377,
          -0.9155503795041793
         ],
         "xaxis": "x2",
         "y": [
          540,
          540,
          566.25,
          566.25
         ],
         "yaxis": "y"
        },
        {
         "hoverinfo": "text",
         "marker": {
          "color": "rgb(0,116,217)"
         },
         "mode": "lines",
         "type": "scatter",
         "x": [
          -1.444588211084877,
          -2.0762534885694883,
          -2.0762534885694883,
          -1.8352227667702377
         ],
         "xaxis": "x2",
         "y": [
          428.671875,
          428.671875,
          553.125,
          553.125
         ],
         "yaxis": "y"
        },
        {
         "hoverinfo": "text",
         "marker": {
          "color": "rgb(0,116,217)"
         },
         "mode": "lines",
         "type": "scatter",
         "x": [
          -1.926966720076081,
          -2.2908809725665686,
          -2.2908809725665686,
          -2.0762534885694883
         ],
         "xaxis": "x2",
         "y": [
          256.62353515625,
          256.62353515625,
          490.8984375,
          490.8984375
         ],
         "yaxis": "y"
        },
        {
         "hoverinfo": "text",
         "marker": {
          "color": "rgb(0,116,217)"
         },
         "mode": "lines",
         "type": "scatter",
         "x": [
          -0.7657008817379827,
          -2.6250894940227956,
          -2.6250894940227956,
          -2.2908809725665686
         ],
         "xaxis": "x2",
         "y": [
          36.25,
          36.25,
          373.760986328125,
          373.760986328125
         ],
         "yaxis": "y"
        },
        {
         "colorbar": {
          "title": {
           "text": "Correlación (abs)"
          }
         },
         "type": "heatmap",
         "x": [
          5,
          15,
          25,
          35,
          45,
          55,
          65,
          75,
          85,
          95,
          105,
          115,
          125,
          135,
          145,
          155,
          165,
          175,
          185,
          195,
          205,
          215,
          225,
          235,
          245,
          255,
          265,
          275,
          285,
          295,
          305,
          315,
          325,
          335,
          345,
          355,
          365,
          375,
          385,
          395,
          405,
          415,
          425,
          435,
          445,
          455,
          465,
          475,
          485,
          495,
          505,
          515,
          525,
          535,
          545,
          555,
          565,
          575,
          585
         ],
         "y": [
          5,
          15,
          25,
          35,
          45,
          55,
          65,
          75,
          85,
          95,
          105,
          115,
          125,
          135,
          145,
          155,
          165,
          175,
          185,
          195,
          205,
          215,
          225,
          235,
          245,
          255,
          265,
          275,
          285,
          295,
          305,
          315,
          325,
          335,
          345,
          355,
          365,
          375,
          385,
          395,
          405,
          415,
          425,
          435,
          445,
          455,
          465,
          475,
          485,
          495,
          505,
          515,
          525,
          535,
          545,
          555,
          565,
          575,
          585
         ],
         "z": [
          [
           1,
           0.9964468837907493,
           0.9964468837907493,
           0.9964468837907493,
           0.9075470878163188,
           0.8604354490248182,
           0.8604354490248182,
           0.8604354490248182,
           0.06623107250050131,
           0.0642476147079002,
           0.3240578671822735,
           0.26040609170675166,
           0.2332253609298242,
           0.4614873089191161,
           0.4614873089191161,
           0.4421472504057532,
           0.36728080937031155,
           0.3423274031030006,
           0.3423274031030006,
           0.3423274031030006,
           0.4550100142278063,
           0.42063447276628707,
           0.5933049918718245,
           0.6017362324073491,
           0.5279889997534616,
           0.49336422635084765,
           0.43661747401009854,
           0.43661747401009854,
           0.3479878613721205,
           0.29765969900220574,
           0.5472910465331224,
           0.5123201796241794,
           0.597043035283676,
           0.5891431089875478,
           0.5577785650649603,
           0.5309189742597004,
           0.08206880266004143,
           0.08206880266004143,
           0.18529330298222052,
           0.2513072341355524,
           0.31087378438466684,
           0.18263466931958228,
           0.18263466931958228,
           0.0738265763232332,
           0.030760473318362958,
           0.030760473318362958,
           0.015948946628449166,
           0.14156290455989917,
           0.14156290455989917,
           0.27795563904630716,
           0.21039558997830404,
           0.14181666335871276,
           0.13337781439295146,
           0.11949291842267666,
           0.239949073048688,
           0.4222529634725271,
           0.3420213569795332,
           0.3420213569795332,
           0.3420213569795332
          ],
          [
           0.9964468837907493,
           1,
           1,
           1,
           0.9396921790511394,
           0.8909118577774785,
           0.8909118577774785,
           0.8909118577774785,
           0.05905953160727838,
           0.08084861553688859,
           0.3052003936603368,
           0.2945586939727216,
           0.26470626945084197,
           0.4907249630425602,
           0.4907249630425602,
           0.4745644051593947,
           0.404329916901618,
           0.37547515158017053,
           0.37547515158017053,
           0.37547515158017053,
           0.4665129737787905,
           0.44209860904856085,
           0.6068934976447125,
           0.6309971135270699,
           0.5414697627994691,
           0.5121865945859027,
           0.45196685387218416,
           0.45196685387218416,
           0.3797839839062706,
           0.3180419581146699,
           0.5612944090584414,
           0.5350963696872163,
           0.6091367554095051,
           0.601022726296427,
           0.570776691446072,
           0.5497742461344434,
           0.06429210103699219,
           0.06429210103699219,
           0.1846349343439288,
           0.2381181874805562,
           0.2866409708291216,
           0.1573490541545511,
           0.1573490541545511,
           0.053906014758734334,
           0.008247605219254417,
           0.008247605219254417,
           0.031189254764986914,
           0.17026895731801991,
           0.17026895731801991,
           0.2769680303597591,
           0.20964802999719725,
           0.1676359265199184,
           0.13290390751867745,
           0.11906834619733839,
           0.24844800930049146,
           0.36109816925326216,
           0.2616618962644557,
           0.2616618962644557,
           0.2616618962644557
          ],
          [
           0.9964468837907493,
           1,
           1,
           1,
           0.9396921790511394,
           0.8909118577774785,
           0.8909118577774785,
           0.8909118577774785,
           0.05905953160727838,
           0.08084861553688859,
           0.3052003936603368,
           0.2945586939727216,
           0.26470626945084197,
           0.4907249630425602,
           0.4907249630425602,
           0.4745644051593947,
           0.404329916901618,
           0.37547515158017053,
           0.37547515158017053,
           0.37547515158017053,
           0.4665129737787905,
           0.44209860904856085,
           0.6068934976447125,
           0.6309971135270699,
           0.5414697627994691,
           0.5121865945859027,
           0.45196685387218416,
           0.45196685387218416,
           0.3797839839062706,
           0.3180419581146699,
           0.5612944090584414,
           0.5350963696872163,
           0.6091367554095051,
           0.601022726296427,
           0.570776691446072,
           0.5497742461344434,
           0.06429210103699219,
           0.06429210103699219,
           0.1846349343439288,
           0.2381181874805562,
           0.2866409708291216,
           0.1573490541545511,
           0.1573490541545511,
           0.053906014758734334,
           0.008247605219254417,
           0.008247605219254417,
           0.031189254764986914,
           0.17026895731801991,
           0.17026895731801991,
           0.2769680303597591,
           0.20964802999719725,
           0.1676359265199184,
           0.13290390751867745,
           0.11906834619733839,
           0.24844800930049146,
           0.36109816925326216,
           0.2616618962644557,
           0.2616618962644557,
           0.2616618962644557
          ],
          [
           0.9964468837907493,
           1,
           1,
           1,
           0.9396921790511394,
           0.8909118577774785,
           0.8909118577774785,
           0.8909118577774785,
           0.05905953160727838,
           0.08084861553688859,
           0.3052003936603368,
           0.2945586939727216,
           0.26470626945084197,
           0.4907249630425602,
           0.4907249630425602,
           0.4745644051593947,
           0.404329916901618,
           0.37547515158017053,
           0.37547515158017053,
           0.37547515158017053,
           0.4665129737787905,
           0.44209860904856085,
           0.6068934976447125,
           0.6309971135270699,
           0.5414697627994691,
           0.5121865945859027,
           0.45196685387218416,
           0.45196685387218416,
           0.3797839839062706,
           0.3180419581146699,
           0.5612944090584414,
           0.5350963696872163,
           0.6091367554095051,
           0.601022726296427,
           0.570776691446072,
           0.5497742461344434,
           0.06429210103699219,
           0.06429210103699219,
           0.1846349343439288,
           0.2381181874805562,
           0.2866409708291216,
           0.1573490541545511,
           0.1573490541545511,
           0.053906014758734334,
           0.008247605219254417,
           0.008247605219254417,
           0.031189254764986914,
           0.17026895731801991,
           0.17026895731801991,
           0.2769680303597591,
           0.20964802999719725,
           0.1676359265199184,
           0.13290390751867745,
           0.11906834619733839,
           0.24844800930049146,
           0.36109816925326216,
           0.2616618962644557,
           0.2616618962644557,
           0.2616618962644557
          ],
          [
           0.9075470878163188,
           0.9396921790511394,
           0.9396921790511394,
           0.9396921790511394,
           1,
           0.9480890419638086,
           0.9480890419638086,
           0.9480890419638086,
           0.025522891709019016,
           0.1422208584048713,
           0.2058129132953055,
           0.41123383845311196,
           0.3727630673212234,
           0.5727803201229653,
           0.5727803201229653,
           0.5707391022701177,
           0.5245634816554258,
           0.4820222907622677,
           0.4820222907622677,
           0.4820222907622677,
           0.4783594713337454,
           0.4962208480456557,
           0.6167175774889707,
           0.7026633314148767,
           0.5557458592257114,
           0.5503428068101325,
           0.4805203114539255,
           0.4805203114539255,
           0.4805203114539255,
           0.3770423990824852,
           0.576211090427053,
           0.5875963605099817,
           0.6127230439149856,
           0.6043459847934526,
           0.5809025609372108,
           0.5852549033170916,
           0.012701837109633565,
           0.012701837109633565,
           0.16816239751338102,
           0.16676297586405409,
           0.1668119734185335,
           0.042907596804799664,
           0.042907596804799664,
           0.03101765040189288,
           0.08379073969923054,
           0.08379073969923054,
           0.09074726536823846,
           0.2741153342721595,
           0.2741153342721595,
           0.2522578307585999,
           0.19094390497420607,
           0.2599561949990696,
           0.1210466470316286,
           0.10844545012917314,
           0.2643929734004634,
           0.08576894075984084,
           0.08422355836525108,
           0.08422355836525108,
           0.08422355836525108
          ],
          [
           0.8604354490248182,
           0.8909118577774785,
           0.8909118577774785,
           0.8909118577774785,
           0.9480890419638086,
           1,
           1,
           1,
           0.023846493643268973,
           0.2118433539699705,
           0.15234708112618522,
           0.4689182188791279,
           0.35042959974549853,
           0.5452455775741811,
           0.5452455775741811,
           0.5420136741427991,
           0.5120233819623299,
           0.4446285722014271,
           0.4446285722014271,
           0.4446285722014271,
           0.4341774343639014,
           0.4510272339373128,
           0.5879161086266498,
           0.6758322684795537,
           0.5198382114969027,
           0.5142488731500773,
           0.4508426060373453,
           0.4508426060373453,
           0.4508426060373453,
           0.35757339373821195,
           0.5432115484931351,
           0.5605853338279567,
           0.588301629380891,
           0.581867182760178,
           0.5525450461188913,
           0.5403957024313496,
           0.032922979963184475,
           0.032922979963184475,
           0.1594329263527986,
           0.23085424725265744,
           0.15815260406646972,
           0.02718347321357576,
           0.02718347321357576,
           0.0068666268102511255,
           0.061424466492146695,
           0.061424466492146695,
           0.07144309145255129,
           0.25988574465768094,
           0.25988574465768094,
           0.23916288509178954,
           0.18103182393582357,
           0.2464616198692249,
           0.11476299961714806,
           0.10281594291830175,
           0.05602070420949957,
           0.09858303709087159,
           0.0798514327612938,
           0.0798514327612938,
           0.0798514327612938
          ],
          [
           0.8604354490248182,
           0.8909118577774785,
           0.8909118577774785,
           0.8909118577774785,
           0.9480890419638086,
           1,
           1,
           1,
           0.023846493643268973,
           0.2118433539699705,
           0.15234708112618522,
           0.4689182188791279,
           0.35042959974549853,
           0.5452455775741811,
           0.5452455775741811,
           0.5420136741427991,
           0.5120233819623299,
           0.4446285722014271,
           0.4446285722014271,
           0.4446285722014271,
           0.4341774343639014,
           0.4510272339373128,
           0.5879161086266498,
           0.6758322684795537,
           0.5198382114969027,
           0.5142488731500773,
           0.4508426060373453,
           0.4508426060373453,
           0.4508426060373453,
           0.35757339373821195,
           0.5432115484931351,
           0.5605853338279567,
           0.588301629380891,
           0.581867182760178,
           0.5525450461188913,
           0.5403957024313496,
           0.032922979963184475,
           0.032922979963184475,
           0.1594329263527986,
           0.23085424725265744,
           0.15815260406646972,
           0.02718347321357576,
           0.02718347321357576,
           0.0068666268102511255,
           0.061424466492146695,
           0.061424466492146695,
           0.07144309145255129,
           0.25988574465768094,
           0.25988574465768094,
           0.23916288509178954,
           0.18103182393582357,
           0.2464616198692249,
           0.11476299961714806,
           0.10281594291830175,
           0.05602070420949957,
           0.09858303709087159,
           0.0798514327612938,
           0.0798514327612938,
           0.0798514327612938
          ],
          [
           0.8604354490248182,
           0.8909118577774785,
           0.8909118577774785,
           0.8909118577774785,
           0.9480890419638086,
           1,
           1,
           1,
           0.023846493643268973,
           0.2118433539699705,
           0.15234708112618522,
           0.4689182188791279,
           0.35042959974549853,
           0.5452455775741811,
           0.5452455775741811,
           0.5420136741427991,
           0.5120233819623299,
           0.4446285722014271,
           0.4446285722014271,
           0.4446285722014271,
           0.4341774343639014,
           0.4510272339373128,
           0.5879161086266498,
           0.6758322684795537,
           0.5198382114969027,
           0.5142488731500773,
           0.4508426060373453,
           0.4508426060373453,
           0.4508426060373453,
           0.35757339373821195,
           0.5432115484931351,
           0.5605853338279567,
           0.588301629380891,
           0.581867182760178,
           0.5525450461188913,
           0.5403957024313496,
           0.032922979963184475,
           0.032922979963184475,
           0.1594329263527986,
           0.23085424725265744,
           0.15815260406646972,
           0.02718347321357576,
           0.02718347321357576,
           0.0068666268102511255,
           0.061424466492146695,
           0.061424466492146695,
           0.07144309145255129,
           0.25988574465768094,
           0.25988574465768094,
           0.23916288509178954,
           0.18103182393582357,
           0.2464616198692249,
           0.11476299961714806,
           0.10281594291830175,
           0.05602070420949957,
           0.09858303709087159,
           0.0798514327612938,
           0.0798514327612938,
           0.0798514327612938
          ],
          [
           0.06623107250050131,
           0.05905953160727838,
           0.05905953160727838,
           0.05905953160727838,
           0.025522891709019016,
           0.023846493643268973,
           0.023846493643268973,
           0.023846493643268973,
           1,
           0.7907167814506373,
           0.8113983053453189,
           0.17011359674014814,
           0.3929604550589789,
           0.24428437218681684,
           0.24428437218681684,
           0.36601212646184306,
           0.38037633920395536,
           0.4482302032799032,
           0.4482302032799032,
           0.4482302032799032,
           0.4641818787186441,
           0.5502375551816802,
           0.4667399988863917,
           0.4352840517131485,
           0.5931162979397152,
           0.6234301309764959,
           0.5749304628997906,
           0.5749304628997906,
           0.5619802331948656,
           0.5139952474258347,
           0.689563082954938,
           0.6983001256258313,
           0.6704921346777297,
           0.6741123363591098,
           0.6284270481365569,
           0.7217955665919372,
           0.3263475836253803,
           0.3263475836253803,
           0.24069787893911776,
           0.2607273583442675,
           0.201958521764898,
           0.16948377585448873,
           0.16948377585448873,
           0.11270500753576096,
           0.12493090518951355,
           0.12493090518951355,
           0.14793507253899577,
           0.20581991645726191,
           0.20581991645726191,
           0.2510334069482603,
           0.24375641935172876,
           0.30699987072418317,
           0.1732591329811807,
           0.07046810544769051,
           0.007814009014234924,
           0.08692239218789506,
           0.10004060154768024,
           0.10004060154768024,
           0.10004060154768024
          ],
          [
           0.0642476147079002,
           0.08084861553688859,
           0.08084861553688859,
           0.08084861553688859,
           0.1422208584048713,
           0.2118433539699705,
           0.2118433539699705,
           0.2118433539699705,
           0.7907167814506373,
           1,
           0.810119933017295,
           0.1903134047551694,
           0.37197398103535456,
           0.31185016883698113,
           0.31185016883698113,
           0.380696559233901,
           0.3784698674466485,
           0.4612076069236282,
           0.4612076069236282,
           0.4612076069236282,
           0.5057835518529885,
           0.5618608923319948,
           0.47239115964227163,
           0.4094492558110527,
           0.5796949441049155,
           0.5765231352525927,
           0.5419618920492933,
           0.5419618920492933,
           0.4821325254555721,
           0.6149231427585992,
           0.6079014602298023,
           0.5968332715970164,
           0.6046818991547849,
           0.6120513274910192,
           0.5771677222617357,
           0.5194659081045865,
           0.4902450730260483,
           0.4902450730260483,
           0.06479877895778484,
           0.2610071485398317,
           0.05448560683570541,
           0.06689035404149052,
           0.06689035404149052,
           0.05023242775325164,
           0.05611722457511864,
           0.05611722457511864,
           0.03352690504998449,
           0.12434345116681118,
           0.12434345116681118,
           0.06528594413889878,
           0.026031262177369317,
           0.2043089913516891,
           0.046643453236680725,
           0.023678729417292703,
           0.19593214862815864,
           0.2513871409343639,
           0.16579220723134844,
           0.16579220723134844,
           0.16579220723134844
          ],
          [
           0.3240578671822735,
           0.3052003936603368,
           0.3052003936603368,
           0.3052003936603368,
           0.2058129132953055,
           0.15234708112618522,
           0.15234708112618522,
           0.15234708112618522,
           0.8113983053453189,
           0.810119933017295,
           1,
           0.36791647390807203,
           0.4362578193160846,
           0.31876325095834873,
           0.31876325095834873,
           0.40465085108306703,
           0.45782915351645403,
           0.4932918684416809,
           0.4932918684416809,
           0.4932918684416809,
           0.3966034379569661,
           0.5084233767349736,
           0.36861658673305864,
           0.38784272276988235,
           0.47780787190442164,
           0.5084905941114488,
           0.4747838181899877,
           0.4747838181899877,
           0.5176914565102566,
           0.6079747537345052,
           0.509440360904119,
           0.5584181287340826,
           0.4977940800038817,
           0.5075435113592426,
           0.4769140846381047,
           0.440229486861374,
           0.5146488688536062,
           0.5146488688536062,
           0.12336875478009551,
           0.2809051240368001,
           0.15027459812342106,
           0.12943627313211625,
           0.12943627313211625,
           0.023623570696024557,
           0.024916734942878726,
           0.024916734942878726,
           0.0062384242004848165,
           0.02860013654253826,
           0.02860013654253826,
           0.147503768091455,
           0.09791915745991167,
           0.12244472953429412,
           0.0888032897688051,
           0.0025196614990341416,
           0.18416029395386566,
           0.36184205899293154,
           0.30838329280788246,
           0.30838329280788246,
           0.30838329280788246
          ],
          [
           0.26040609170675166,
           0.2945586939727216,
           0.2945586939727216,
           0.2945586939727216,
           0.41123383845311196,
           0.4689182188791279,
           0.4689182188791279,
           0.4689182188791279,
           0.17011359674014814,
           0.1903134047551694,
           0.36791647390807203,
           1,
           0.6558008609071226,
           0.7419637484475607,
           0.7419637484475607,
           0.700740021185754,
           0.7204128595236129,
           0.6861602544913641,
           0.6861602544913641,
           0.6861602544913641,
           0.5531551830953825,
           0.5826433270724988,
           0.5555317282097276,
           0.6316067518231372,
           0.5004838421022587,
           0.4959720226213032,
           0.4351340061570871,
           0.4351340061570871,
           0.48384624051100017,
           0.6625518655138233,
           0.5283613907896011,
           0.5688937281642181,
           0.535626242747437,
           0.5403798667916934,
           0.45510569330901524,
           0.38281149531709163,
           0.4380010561377879,
           0.4380010561377879,
           0.45221456662459697,
           0.23291875906096188,
           0.24858907739580957,
           0.20941656713930587,
           0.20941656713930587,
           0.314807555459286,
           0.35567273024785656,
           0.35567273024785656,
           0.3697672287742803,
           0.41577461939072324,
           0.41577461939072324,
           0.3206007044884499,
           0.32075635786241524,
           0.2795163971840181,
           0.12346799528016295,
           0.17097343851799107,
           0.13095310455614656,
           0.3256272784515578,
           0.3023033267102683,
           0.3023033267102683,
           0.3023033267102683
          ],
          [
           0.2332253609298242,
           0.26470626945084197,
           0.26470626945084197,
           0.26470626945084197,
           0.3727630673212234,
           0.35042959974549853,
           0.35042959974549853,
           0.35042959974549853,
           0.3929604550589789,
           0.37197398103535456,
           0.4362578193160846,
           0.6558008609071226,
           1,
           0.8620461892161981,
           0.8620461892161981,
           0.9366758857340857,
           0.9499203939031047,
           0.9493115276478866,
           0.9493115276478866,
           0.9493115276478866,
           0.884686173861116,
           0.917795693487848,
           0.8538023501878916,
           0.7805415602622953,
           0.8213414462604488,
           0.8218203154322615,
           0.8263320135583585,
           0.8263320135583585,
           0.8683691454422823,
           0.827189261271187,
           0.7576044718368475,
           0.7501466577260204,
           0.6821337621920537,
           0.6844467825125898,
           0.6674329181501311,
           0.5662828643789316,
           0.832469187099956,
           0.832469187099956,
           0.3660024338876923,
           0.693982104206276,
           0.48719383082488765,
           0.4262898643769414,
           0.4262898643769414,
           0.5292631373004855,
           0.5854399278646069,
           0.5854399278646069,
           0.5808787947316739,
           0.6580095848995158,
           0.6580095848995158,
           0.5739414429007285,
           0.5615995589005325,
           0.5144767801445131,
           0.3620722304870863,
           0.15244112753071917,
           0.1076024304907132,
           0.16792438126425627,
           0.2807138016418544,
           0.2807138016418544,
           0.2807138016418544
          ],
          [
           0.4614873089191161,
           0.4907249630425602,
           0.4907249630425602,
           0.4907249630425602,
           0.5727803201229653,
           0.5452455775741811,
           0.5452455775741811,
           0.5452455775741811,
           0.24428437218681684,
           0.31185016883698113,
           0.31876325095834873,
           0.7419637484475607,
           0.8620461892161981,
           1,
           1,
           0.9430316922827354,
           0.9301732362375251,
           0.9095640778322409,
           0.9095640778322409,
           0.9095640778322409,
           0.828054646533783,
           0.8633877368205923,
           0.8499683775218991,
           0.8913296215435247,
           0.7924178872104114,
           0.77229680721318,
           0.7578875210375914,
           0.7578875210375914,
           0.7821096043361802,
           0.8483613735041695,
           0.7423037084114622,
           0.7553210927923869,
           0.7316248018231881,
           0.73347908241674,
           0.674247486412046,
           0.5425396120324798,
           0.6343711714226183,
           0.6343711714226183,
           0.4618049086060528,
           0.39095774547380985,
           0.45975087700604844,
           0.39507460180461756,
           0.39507460180461756,
           0.46337850291061167,
           0.5183142549855795,
           0.5183142549855795,
           0.5068794793646285,
           0.5999220957415762,
           0.5999220957415762,
           0.5518534863805682,
           0.5498979889412272,
           0.5046768191683986,
           0.22690219333010678,
           0.15292002904875368,
           0.1447706831202169,
           0.06871389887614308,
           0.18666396910265876,
           0.18666396910265876,
           0.18666396910265876
          ],
          [
           0.4614873089191161,
           0.4907249630425602,
           0.4907249630425602,
           0.4907249630425602,
           0.5727803201229653,
           0.5452455775741811,
           0.5452455775741811,
           0.5452455775741811,
           0.24428437218681684,
           0.31185016883698113,
           0.31876325095834873,
           0.7419637484475607,
           0.8620461892161981,
           1,
           1,
           0.9430316922827354,
           0.9301732362375251,
           0.9095640778322409,
           0.9095640778322409,
           0.9095640778322409,
           0.828054646533783,
           0.8633877368205923,
           0.8499683775218991,
           0.8913296215435247,
           0.7924178872104114,
           0.77229680721318,
           0.7578875210375914,
           0.7578875210375914,
           0.7821096043361802,
           0.8483613735041695,
           0.7423037084114622,
           0.7553210927923869,
           0.7316248018231881,
           0.73347908241674,
           0.674247486412046,
           0.5425396120324798,
           0.6343711714226183,
           0.6343711714226183,
           0.4618049086060528,
           0.39095774547380985,
           0.45975087700604844,
           0.39507460180461756,
           0.39507460180461756,
           0.46337850291061167,
           0.5183142549855795,
           0.5183142549855795,
           0.5068794793646285,
           0.5999220957415762,
           0.5999220957415762,
           0.5518534863805682,
           0.5498979889412272,
           0.5046768191683986,
           0.22690219333010678,
           0.15292002904875368,
           0.1447706831202169,
           0.06871389887614308,
           0.18666396910265876,
           0.18666396910265876,
           0.18666396910265876
          ],
          [
           0.4421472504057532,
           0.4745644051593947,
           0.4745644051593947,
           0.4745644051593947,
           0.5707391022701177,
           0.5420136741427991,
           0.5420136741427991,
           0.5420136741427991,
           0.36601212646184306,
           0.380696559233901,
           0.40465085108306703,
           0.700740021185754,
           0.9366758857340857,
           0.9430316922827354,
           0.9430316922827354,
           1,
           0.9893722744945731,
           0.9780379464301426,
           0.9780379464301426,
           0.9780379464301426,
           0.9180508006781581,
           0.9548593095345775,
           0.9343464291973597,
           0.8920077329241802,
           0.8921330847645287,
           0.8879131833942812,
           0.8551807602707848,
           0.8551807602707848,
           0.886067584640692,
           0.8495495671421616,
           0.8260210571414874,
           0.8358872810365999,
           0.787169750602508,
           0.7890468642932883,
           0.755050295281412,
           0.6527413609383187,
           0.7274671372699417,
           0.7274671372699417,
           0.3660773395932965,
           0.5020822289111014,
           0.471056112393148,
           0.4043465323703719,
           0.4043465323703719,
           0.5030321942585655,
           0.559693571708316,
           0.559693571708316,
           0.5353878207602022,
           0.6433876034377921,
           0.6433876034377921,
           0.5788824874502317,
           0.5597666108244839,
           0.5423502616246093,
           0.36904298882512654,
           0.15294761069767612,
           0.14816334668283254,
           0.10073410795294416,
           0.2279860568896788,
           0.2279860568896788,
           0.2279860568896788
          ],
          [
           0.36728080937031155,
           0.404329916901618,
           0.404329916901618,
           0.404329916901618,
           0.5245634816554258,
           0.5120233819623299,
           0.5120233819623299,
           0.5120233819623299,
           0.38037633920395536,
           0.3784698674466485,
           0.45782915351645403,
           0.7204128595236129,
           0.9499203939031047,
           0.9301732362375251,
           0.9301732362375251,
           0.9893722744945731,
           1,
           0.9825060848666559,
           0.9825060848666559,
           0.9825060848666559,
           0.8993441180432551,
           0.9441565899064936,
           0.9067427533099055,
           0.885452552221369,
           0.869077924554275,
           0.870871748669025,
           0.845339700112379,
           0.845339700112379,
           0.8903110008570618,
           0.8606274331889737,
           0.8023138162959498,
           0.8198513116128114,
           0.7607627518844028,
           0.7632178830112404,
           0.7338164089596924,
           0.6277762428378981,
           0.765655905844999,
           0.765655905844999,
           0.3660024338876923,
           0.5224160950327029,
           0.45687630144593777,
           0.39014449037092336,
           0.39014449037092336,
           0.5174258796200045,
           0.5759785652775978,
           0.5759785652775978,
           0.5570809492477716,
           0.6597802184657194,
           0.6597802184657194,
           0.5674545675299806,
           0.5598550770630601,
           0.5426756651329214,
           0.3620722304870863,
           0.13913587861678037,
           0.09413897877731019,
           0.19359120647157924,
           0.3023033267102683,
           0.3023033267102683,
           0.3023033267102683
          ],
          [
           0.3423274031030006,
           0.37547515158017053,
           0.37547515158017053,
           0.37547515158017053,
           0.4820222907622677,
           0.4446285722014271,
           0.4446285722014271,
           0.4446285722014271,
           0.4482302032799032,
           0.4612076069236282,
           0.4932918684416809,
           0.6861602544913641,
           0.9493115276478866,
           0.9095640778322409,
           0.9095640778322409,
           0.9780379464301426,
           0.9825060848666559,
           1,
           1,
           1,
           0.9425151068342682,
           0.9673208491751655,
           0.9172920114689589,
           0.8674004855348063,
           0.8831837393324978,
           0.8897446393609187,
           0.842304428454472,
           0.842304428454472,
           0.8801422548327791,
           0.854798883679441,
           0.8218170243051764,
           0.8243227354897031,
           0.7711747634416707,
           0.7729020013784415,
           0.7419084152296544,
           0.6679088938252378,
           0.7981106791025532,
           0.7981106791025532,
           0.3660024338876923,
           0.5816133934624684,
           0.4630177790924802,
           0.41366269848365106,
           0.41366269848365106,
           0.5305164810775265,
           0.5821709211356351,
           0.5821709211356351,
           0.5627233690787579,
           0.6409622864876635,
           0.6409622864876635,
           0.5620220724482803,
           0.5473804755604211,
           0.5166125880525327,
           0.3413864930579491,
           0.15624262722041596,
           0.16496234456135733,
           0.12243157889358453,
           0.26632078492957845,
           0.26632078492957845,
           0.26632078492957845
          ],
          [
           0.3423274031030006,
           0.37547515158017053,
           0.37547515158017053,
           0.37547515158017053,
           0.4820222907622677,
           0.4446285722014271,
           0.4446285722014271,
           0.4446285722014271,
           0.4482302032799032,
           0.4612076069236282,
           0.4932918684416809,
           0.6861602544913641,
           0.9493115276478866,
           0.9095640778322409,
           0.9095640778322409,
           0.9780379464301426,
           0.9825060848666559,
           1,
           1,
           1,
           0.9425151068342682,
           0.9673208491751655,
           0.9172920114689589,
           0.8674004855348063,
           0.8831837393324978,
           0.8897446393609187,
           0.842304428454472,
           0.842304428454472,
           0.8801422548327791,
           0.854798883679441,
           0.8218170243051764,
           0.8243227354897031,
           0.7711747634416707,
           0.7729020013784415,
           0.7419084152296544,
           0.6679088938252378,
           0.7981106791025532,
           0.7981106791025532,
           0.3660024338876923,
           0.5816133934624684,
           0.4630177790924802,
           0.41366269848365106,
           0.41366269848365106,
           0.5305164810775265,
           0.5821709211356351,
           0.5821709211356351,
           0.5627233690787579,
           0.6409622864876635,
           0.6409622864876635,
           0.5620220724482803,
           0.5473804755604211,
           0.5166125880525327,
           0.3413864930579491,
           0.15624262722041596,
           0.16496234456135733,
           0.12243157889358453,
           0.26632078492957845,
           0.26632078492957845,
           0.26632078492957845
          ],
          [
           0.3423274031030006,
           0.37547515158017053,
           0.37547515158017053,
           0.37547515158017053,
           0.4820222907622677,
           0.4446285722014271,
           0.4446285722014271,
           0.4446285722014271,
           0.4482302032799032,
           0.4612076069236282,
           0.4932918684416809,
           0.6861602544913641,
           0.9493115276478866,
           0.9095640778322409,
           0.9095640778322409,
           0.9780379464301426,
           0.9825060848666559,
           1,
           1,
           1,
           0.9425151068342682,
           0.9673208491751655,
           0.9172920114689589,
           0.8674004855348063,
           0.8831837393324978,
           0.8897446393609187,
           0.842304428454472,
           0.842304428454472,
           0.8801422548327791,
           0.854798883679441,
           0.8218170243051764,
           0.8243227354897031,
           0.7711747634416707,
           0.7729020013784415,
           0.7419084152296544,
           0.6679088938252378,
           0.7981106791025532,
           0.7981106791025532,
           0.3660024338876923,
           0.5816133934624684,
           0.4630177790924802,
           0.41366269848365106,
           0.41366269848365106,
           0.5305164810775265,
           0.5821709211356351,
           0.5821709211356351,
           0.5627233690787579,
           0.6409622864876635,
           0.6409622864876635,
           0.5620220724482803,
           0.5473804755604211,
           0.5166125880525327,
           0.3413864930579491,
           0.15624262722041596,
           0.16496234456135733,
           0.12243157889358453,
           0.26632078492957845,
           0.26632078492957845,
           0.26632078492957845
          ],
          [
           0.4550100142278063,
           0.4665129737787905,
           0.4665129737787905,
           0.4665129737787905,
           0.4783594713337454,
           0.4341774343639014,
           0.4341774343639014,
           0.4341774343639014,
           0.4641818787186441,
           0.5057835518529885,
           0.3966034379569661,
           0.5531551830953825,
           0.884686173861116,
           0.828054646533783,
           0.828054646533783,
           0.9180508006781581,
           0.8993441180432551,
           0.9425151068342682,
           0.9425151068342682,
           0.9425151068342682,
           1,
           0.9570574809010548,
           0.950329412573049,
           0.8284904024013465,
           0.9031806961978444,
           0.8972112472451945,
           0.8316310449539354,
           0.8316310449539354,
           0.8116066186932042,
           0.7908236073405892,
           0.8495570162021508,
           0.8106614245523744,
           0.7984090894982095,
           0.7967428900858272,
           0.7731492734537244,
           0.7187689547462708,
           0.7550847668365992,
           0.7550847668365992,
           0.4037202419600881,
           0.5615755172191534,
           0.5668856219207159,
           0.5132625031782461,
           0.5132625031782461,
           0.48403721364704894,
           0.5316267029033299,
           0.5316267029033299,
           0.5261649396936174,
           0.5782975654677827,
           0.5782975654677827,
           0.6023966083928373,
           0.5982635786290318,
           0.483818650812909,
           0.3689674762967987,
           0.14673887799617397,
           0.18515752213146186,
           0.11622053625527401,
           0.009245514207538377,
           0.009245514207538377,
           0.009245514207538377
          ],
          [
           0.42063447276628707,
           0.44209860904856085,
           0.44209860904856085,
           0.44209860904856085,
           0.4962208480456557,
           0.4510272339373128,
           0.4510272339373128,
           0.4510272339373128,
           0.5502375551816802,
           0.5618608923319948,
           0.5084233767349736,
           0.5826433270724988,
           0.917795693487848,
           0.8633877368205923,
           0.8633877368205923,
           0.9548593095345775,
           0.9441565899064936,
           0.9673208491751655,
           0.9673208491751655,
           0.9673208491751655,
           0.9570574809010548,
           1,
           0.9707652748595985,
           0.8884854143132692,
           0.9679922351513445,
           0.9677987939341502,
           0.9334621881353824,
           0.9334621881353824,
           0.932637450787738,
           0.8761335351407161,
           0.914741879918441,
           0.9026495946683026,
           0.8660577861251426,
           0.8677621676021727,
           0.8384762418923409,
           0.77110814454745,
           0.749991883473187,
           0.749991883473187,
           0.2241943033512761,
           0.5300316829381366,
           0.43699525707284786,
           0.37639045312913233,
           0.37639045312913233,
           0.40472268745385725,
           0.45228430670266484,
           0.45228430670266484,
           0.43915888682249604,
           0.5108769353549817,
           0.5108769353549817,
           0.4847006031001691,
           0.45990097336569286,
           0.3916133844960866,
           0.3788878640415018,
           0.15190413942129366,
           0.19013583195927714,
           0.019112995433260293,
           0.11228694567083876,
           0.11228694567083876,
           0.11228694567083876
          ],
          [
           0.5933049918718245,
           0.6068934976447125,
           0.6068934976447125,
           0.6068934976447125,
           0.6167175774889707,
           0.5879161086266498,
           0.5879161086266498,
           0.5879161086266498,
           0.4667399988863917,
           0.47239115964227163,
           0.36861658673305864,
           0.5555317282097276,
           0.8538023501878916,
           0.8499683775218991,
           0.8499683775218991,
           0.9343464291973597,
           0.9067427533099055,
           0.9172920114689589,
           0.9172920114689589,
           0.9172920114689589,
           0.950329412573049,
           0.9707652748595985,
           1,
           0.9096087381760758,
           0.9760972365269428,
           0.9655231951359453,
           0.9251987061844641,
           0.9251987061844641,
           0.894588488850099,
           0.8274967018516838,
           0.9275497435948842,
           0.90231636048332,
           0.8965149516300388,
           0.895830262553189,
           0.8673180878874643,
           0.7882538698360319,
           0.6314948771183951,
           0.6314948771183951,
           0.24234357885942195,
           0.41359432388146833,
           0.4915499890881038,
           0.4153817017574534,
           0.4153817017574534,
           0.3615155868432161,
           0.4102165391418768,
           0.4102165391418768,
           0.4105603415510597,
           0.4924261125462147,
           0.4924261125462147,
           0.5190790252931492,
           0.4747465087562953,
           0.392327109743909,
           0.4029064042356334,
           0.16332010680040765,
           0.15331192355469583,
           0.11280697408282885,
           0.027794301090376217,
           0.027794301090376217,
           0.027794301090376217
          ],
          [
           0.6017362324073491,
           0.6309971135270699,
           0.6309971135270699,
           0.6309971135270699,
           0.7026633314148767,
           0.6758322684795537,
           0.6758322684795537,
           0.6758322684795537,
           0.4352840517131485,
           0.4094492558110527,
           0.38784272276988235,
           0.6316067518231372,
           0.7805415602622953,
           0.8913296215435247,
           0.8913296215435247,
           0.8920077329241802,
           0.885452552221369,
           0.8674004855348063,
           0.8674004855348063,
           0.8674004855348063,
           0.8284904024013465,
           0.8884854143132692,
           0.9096087381760758,
           1,
           0.8921685893219349,
           0.8827996109833958,
           0.8599528791684432,
           0.8599528791684432,
           0.8599528791684432,
           0.8892327559585307,
           0.8883128436048705,
           0.8993819264598456,
           0.9075549938488746,
           0.9066049840828813,
           0.8875463486519887,
           0.7502766240118605,
           0.5095243432946025,
           0.5095243432946025,
           0.2885410879978933,
           0.22568434214384916,
           0.30239748839548647,
           0.22115140713459422,
           0.22115140713459422,
           0.2527799495977336,
           0.303276519466103,
           0.303276519466103,
           0.3022780255223634,
           0.396760607653404,
           0.396760607653404,
           0.35581734748381993,
           0.40012353881255097,
           0.3527583574307289,
           0.20769762889604299,
           0.028102595126064174,
           0.1565292289563218,
           0.027125465526968963,
           0.14451481142703057,
           0.14451481142703057,
           0.14451481142703057
          ],
          [
           0.5279889997534616,
           0.5414697627994691,
           0.5414697627994691,
           0.5414697627994691,
           0.5557458592257114,
           0.5198382114969027,
           0.5198382114969027,
           0.5198382114969027,
           0.5931162979397152,
           0.5796949441049155,
           0.47780787190442164,
           0.5004838421022587,
           0.8213414462604488,
           0.7924178872104114,
           0.7924178872104114,
           0.8921330847645287,
           0.869077924554275,
           0.8831837393324978,
           0.8831837393324978,
           0.8831837393324978,
           0.9031806961978444,
           0.9679922351513445,
           0.9760972365269428,
           0.8921685893219349,
           1,
           0.9945664108211634,
           0.9659141216493848,
           0.9659141216493848,
           0.9339895804757258,
           0.8429276810883655,
           0.9643249499062505,
           0.9496205491234653,
           0.9317862209063567,
           0.9325233091057196,
           0.8998493294415266,
           0.8473262959250722,
           0.6069198352871196,
           0.6069198352871196,
           0.07065149801168676,
           0.3754041558597524,
           0.36134342647944884,
           0.2894021020016203,
           0.2894021020016203,
           0.24616176712738888,
           0.28864286116568166,
           0.28864286116568166,
           0.2811360723495725,
           0.3519938791478395,
           0.3519938791478395,
           0.36551526395725753,
           0.3299865241487806,
           0.24215719204179612,
           0.36899591317068625,
           0.1434236187881006,
           0.16834118079580038,
           0.10635687685777186,
           0.009246226773112405,
           0.009246226773112405,
           0.009246226773112405
          ],
          [
           0.49336422635084765,
           0.5121865945859027,
           0.5121865945859027,
           0.5121865945859027,
           0.5503428068101325,
           0.5142488731500773,
           0.5142488731500773,
           0.5142488731500773,
           0.6234301309764959,
           0.5765231352525927,
           0.5084905941114488,
           0.4959720226213032,
           0.8218203154322615,
           0.77229680721318,
           0.77229680721318,
           0.8879131833942812,
           0.870871748669025,
           0.8897446393609187,
           0.8897446393609187,
           0.8897446393609187,
           0.8972112472451945,
           0.9677987939341502,
           0.9655231951359453,
           0.8827996109833958,
           0.9945664108211634,
           1,
           0.9607430018827922,
           0.9607430018827922,
           0.9434035341761469,
           0.8271692299509674,
           0.9604754413935633,
           0.9515375771031095,
           0.9227575148834106,
           0.9231458886038472,
           0.8931948188122025,
           0.8668998581043015,
           0.6092904192156354,
           0.6092904192156354,
           0.032329549776339235,
           0.39097161120424184,
           0.3227585101827089,
           0.2592493844104783,
           0.2592493844104783,
           0.25690393988071347,
           0.297221855459598,
           0.297221855459598,
           0.28439778336292904,
           0.3519667525450961,
           0.3519667525450961,
           0.3384198355900108,
           0.2995975669808757,
           0.23148523622164366,
           0.3689674762967987,
           0.14341256576768927,
           0.1683282074897081,
           0.048680589155235106,
           0.06082049075986057,
           0.06082049075986057,
           0.06082049075986057
          ],
          [
           0.43661747401009854,
           0.45196685387218416,
           0.45196685387218416,
           0.45196685387218416,
           0.4805203114539255,
           0.4508426060373453,
           0.4508426060373453,
           0.4508426060373453,
           0.5749304628997906,
           0.5419618920492933,
           0.4747838181899877,
           0.4351340061570871,
           0.8263320135583585,
           0.7578875210375914,
           0.7578875210375914,
           0.8551807602707848,
           0.845339700112379,
           0.842304428454472,
           0.842304428454472,
           0.842304428454472,
           0.8316310449539354,
           0.9334621881353824,
           0.9251987061844641,
           0.8599528791684432,
           0.9659141216493848,
           0.9607430018827922,
           1,
           1,
           0.9760283253301674,
           0.8382910208790105,
           0.9165372184099708,
           0.9101327349548252,
           0.8831989743501031,
           0.8848424454059953,
           0.8622890092191344,
           0.7754596553712353,
           0.6155343753589658,
           0.6155343753589658,
           0.010776516592113079,
           0.4053797134683844,
           0.3360560907122722,
           0.2531960368054884,
           0.2531960368054884,
           0.2169939544121075,
           0.26218658717231996,
           0.26218658717231996,
           0.2643998272925442,
           0.33871320971616287,
           0.33871320971616287,
           0.3319757415135821,
           0.296625103341575,
           0.21281585591786312,
           0.42068181986964187,
           0.12202913001314478,
           0.14140130406290205,
           0.050654960325029176,
           0.03923096569144663,
           0.03923096569144663,
           0.03923096569144663
          ],
          [
           0.43661747401009854,
           0.45196685387218416,
           0.45196685387218416,
           0.45196685387218416,
           0.4805203114539255,
           0.4508426060373453,
           0.4508426060373453,
           0.4508426060373453,
           0.5749304628997906,
           0.5419618920492933,
           0.4747838181899877,
           0.4351340061570871,
           0.8263320135583585,
           0.7578875210375914,
           0.7578875210375914,
           0.8551807602707848,
           0.845339700112379,
           0.842304428454472,
           0.842304428454472,
           0.842304428454472,
           0.8316310449539354,
           0.9334621881353824,
           0.9251987061844641,
           0.8599528791684432,
           0.9659141216493848,
           0.9607430018827922,
           1,
           1,
           0.9760283253301674,
           0.8382910208790105,
           0.9165372184099708,
           0.9101327349548252,
           0.8831989743501031,
           0.8848424454059953,
           0.8622890092191344,
           0.7754596553712353,
           0.6155343753589658,
           0.6155343753589658,
           0.010776516592113079,
           0.4053797134683844,
           0.3360560907122722,
           0.2531960368054884,
           0.2531960368054884,
           0.2169939544121075,
           0.26218658717231996,
           0.26218658717231996,
           0.2643998272925442,
           0.33871320971616287,
           0.33871320971616287,
           0.3319757415135821,
           0.296625103341575,
           0.21281585591786312,
           0.42068181986964187,
           0.12202913001314478,
           0.14140130406290205,
           0.050654960325029176,
           0.03923096569144663,
           0.03923096569144663,
           0.03923096569144663
          ],
          [
           0.3479878613721205,
           0.3797839839062706,
           0.3797839839062706,
           0.3797839839062706,
           0.4805203114539255,
           0.4508426060373453,
           0.4508426060373453,
           0.4508426060373453,
           0.5619802331948656,
           0.4821325254555721,
           0.5176914565102566,
           0.48384624051100017,
           0.8683691454422823,
           0.7821096043361802,
           0.7821096043361802,
           0.886067584640692,
           0.8903110008570618,
           0.8801422548327791,
           0.8801422548327791,
           0.8801422548327791,
           0.8116066186932042,
           0.932637450787738,
           0.894588488850099,
           0.8599528791684432,
           0.9339895804757258,
           0.9434035341761469,
           0.9760283253301674,
           0.9760283253301674,
           1,
           0.8382910208790105,
           0.8785219363776917,
           0.8940983751463283,
           0.8371229331816303,
           0.8387664042375226,
           0.8289770328067988,
           0.7509978590159596,
           0.655156806861353,
           0.655156806861353,
           0.010776516592113079,
           0.4504206734175669,
           0.26222079327945197,
           0.18703381001096617,
           0.18703381001096617,
           0.2761371860402861,
           0.32404382893435657,
           0.32404382893435657,
           0.3060136984021262,
           0.40238224170089926,
           0.40238224170089926,
           0.3173802719293993,
           0.296625103341575,
           0.2826606627090752,
           0.42068181986964187,
           0.09209231995678248,
           0.14140130406290205,
           0.12243157889358453,
           0.2495289320985898,
           0.2495289320985898,
           0.2495289320985898
          ],
          [
           0.29765969900220574,
           0.3180419581146699,
           0.3180419581146699,
           0.3180419581146699,
           0.3770423990824852,
           0.35757339373821195,
           0.35757339373821195,
           0.35757339373821195,
           0.5139952474258347,
           0.6149231427585992,
           0.6079747537345052,
           0.6625518655138233,
           0.827189261271187,
           0.8483613735041695,
           0.8483613735041695,
           0.8495495671421616,
           0.8606274331889737,
           0.854798883679441,
           0.854798883679441,
           0.854798883679441,
           0.7908236073405892,
           0.8761335351407161,
           0.8274967018516838,
           0.8892327559585307,
           0.8429276810883655,
           0.8271692299509674,
           0.8382910208790105,
           0.8382910208790105,
           0.8382910208790105,
           1,
           0.8244066251492633,
           0.8338224648844667,
           0.8243078803150283,
           0.8288671680658172,
           0.8176617244220107,
           0.6024187896136562,
           0.6864130934438853,
           0.6864130934438853,
           0.2743380754104577,
           0.4031957776141031,
           0.30933006238781113,
           0.2565012227455928,
           0.2565012227455928,
           0.27822946504797547,
           0.31863493886110267,
           0.31863493886110267,
           0.3316773817786563,
           0.3606711427889107,
           0.3606711427889107,
           0.32096926354590577,
           0.39674296939102033,
           0.2937108406717541,
           0.19747401721543353,
           0.00883349792229151,
           0.09937309152607308,
           0.05479769030824186,
           0.13740128142681102,
           0.13740128142681102,
           0.13740128142681102
          ],
          [
           0.5472910465331224,
           0.5612944090584414,
           0.5612944090584414,
           0.5612944090584414,
           0.576211090427053,
           0.5432115484931351,
           0.5432115484931351,
           0.5432115484931351,
           0.689563082954938,
           0.6079014602298023,
           0.509440360904119,
           0.5283613907896011,
           0.7576044718368475,
           0.7423037084114622,
           0.7423037084114622,
           0.8260210571414874,
           0.8023138162959498,
           0.8218170243051764,
           0.8218170243051764,
           0.8218170243051764,
           0.8495570162021508,
           0.914741879918441,
           0.9275497435948842,
           0.8883128436048705,
           0.9643249499062505,
           0.9604754413935633,
           0.9165372184099708,
           0.9165372184099708,
           0.8785219363776917,
           0.8244066251492633,
           1,
           0.9871323223726475,
           0.9830293476197656,
           0.982865798750918,
           0.9335980173949051,
           0.9145102023146623,
           0.4996092108469407,
           0.4996092108469407,
           0.07069601572820254,
           0.29023056653592694,
           0.21966673414625354,
           0.14683351969394384,
           0.14683351969394384,
           0.09304161090834545,
           0.13082872682899227,
           0.13082872682899227,
           0.13164841784810902,
           0.19705662073769786,
           0.19705662073769786,
           0.20757009655922973,
           0.18350231294219357,
           0.08978568009564343,
           0.12887415894759435,
           0.14731817862945532,
           0.16171076638049842,
           0.10247235765745705,
           0.009252052847773383,
           0.009252052847773383,
           0.009252052847773383
          ],
          [
           0.5123201796241794,
           0.5350963696872163,
           0.5350963696872163,
           0.5350963696872163,
           0.5875963605099817,
           0.5605853338279567,
           0.5605853338279567,
           0.5605853338279567,
           0.6983001256258313,
           0.5968332715970164,
           0.5584181287340826,
           0.5688937281642181,
           0.7501466577260204,
           0.7553210927923869,
           0.7553210927923869,
           0.8358872810365999,
           0.8198513116128114,
           0.8243227354897031,
           0.8243227354897031,
           0.8243227354897031,
           0.8106614245523744,
           0.9026495946683026,
           0.90231636048332,
           0.8993819264598456,
           0.9496205491234653,
           0.9515375771031095,
           0.9101327349548252,
           0.9101327349548252,
           0.8940983751463283,
           0.8338224648844667,
           0.9871323223726475,
           1,
           0.9784132255555225,
           0.9790124809341144,
           0.9218157456270573,
           0.9095684034130597,
           0.48276568920417623,
           0.48276568920417623,
           0.032329549776339235,
           0.24901194122940695,
           0.14557457289725867,
           0.07674988453268378,
           0.07674988453268378,
           0.08784008228187053,
           0.12580417558178694,
           0.12580417558178694,
           0.11330773184211694,
           0.18953311594681424,
           0.18953311594681424,
           0.15828567174827732,
           0.1398652627008542,
           0.07948989359814941,
           0.1012020973529666,
           0.13961106607799248,
           0.1447671669912528,
           0.0032700522499714327,
           0.09920186865926313,
           0.09920186865926313,
           0.09920186865926313
          ],
          [
           0.597043035283676,
           0.6091367554095051,
           0.6091367554095051,
           0.6091367554095051,
           0.6127230439149856,
           0.588301629380891,
           0.588301629380891,
           0.588301629380891,
           0.6704921346777297,
           0.6046818991547849,
           0.4977940800038817,
           0.535626242747437,
           0.6821337621920537,
           0.7316248018231881,
           0.7316248018231881,
           0.787169750602508,
           0.7607627518844028,
           0.7711747634416707,
           0.7711747634416707,
           0.7711747634416707,
           0.7984090894982095,
           0.8660577861251426,
           0.8965149516300388,
           0.9075549938488746,
           0.9317862209063567,
           0.9227575148834106,
           0.8831989743501031,
           0.8831989743501031,
           0.8371229331816303,
           0.8243078803150283,
           0.9830293476197656,
           0.9784132255555225,
           1,
           0.9995715591839943,
           0.9571757224823869,
           0.8959744948465692,
           0.4096276234968113,
           0.4096276234968113,
           0.08813242744870742,
           0.1648273561747586,
           0.17581536996339528,
           0.09947168590131894,
           0.09947168590131894,
           0.016867516378298943,
           0.05209889591278342,
           0.05209889591278342,
           0.06679782526471446,
           0.12268674271244172,
           0.12268674271244172,
           0.14491973122263102,
           0.15383783912102358,
           0.04800031833554973,
           0.0634394787132802,
           0.08291226587433578,
           0.13960124967630344,
           0.11942125359589918,
           0.04560210609574801,
           0.04560210609574801,
           0.04560210609574801
          ],
          [
           0.5891431089875478,
           0.601022726296427,
           0.601022726296427,
           0.601022726296427,
           0.6043459847934526,
           0.581867182760178,
           0.581867182760178,
           0.581867182760178,
           0.6741123363591098,
           0.6120513274910192,
           0.5075435113592426,
           0.5403798667916934,
           0.6844467825125898,
           0.73347908241674,
           0.73347908241674,
           0.7890468642932883,
           0.7632178830112404,
           0.7729020013784415,
           0.7729020013784415,
           0.7729020013784415,
           0.7967428900858272,
           0.8677621676021727,
           0.895830262553189,
           0.9066049840828813,
           0.9325233091057196,
           0.9231458886038472,
           0.8848424454059953,
           0.8848424454059953,
           0.8387664042375226,
           0.8288671680658172,
           0.982865798750918,
           0.9790124809341144,
           0.9995715591839943,
           1,
           0.956818274084537,
           0.8905298690675065,
           0.41495698024508815,
           0.41495698024508815,
           0.08813242744870742,
           0.16719602582175247,
           0.17581536996339528,
           0.09947168590131894,
           0.09947168590131894,
           0.016867516378298943,
           0.05209889591278342,
           0.05209889591278342,
           0.06679782526471446,
           0.12268674271244172,
           0.12268674271244172,
           0.14491973122263102,
           0.15383783912102358,
           0.04800031833554973,
           0.0634394787132802,
           0.08291226587433578,
           0.13281385035043605,
           0.11543985392748234,
           0.04560210609574801,
           0.04560210609574801,
           0.04560210609574801
          ],
          [
           0.5577785650649603,
           0.570776691446072,
           0.570776691446072,
           0.570776691446072,
           0.5809025609372108,
           0.5525450461188913,
           0.5525450461188913,
           0.5525450461188913,
           0.6284270481365569,
           0.5771677222617357,
           0.4769140846381047,
           0.45510569330901524,
           0.6674329181501311,
           0.674247486412046,
           0.674247486412046,
           0.755050295281412,
           0.7338164089596924,
           0.7419084152296544,
           0.7419084152296544,
           0.7419084152296544,
           0.7731492734537244,
           0.8384762418923409,
           0.8673180878874643,
           0.8875463486519887,
           0.8998493294415266,
           0.8931948188122025,
           0.8622890092191344,
           0.8622890092191344,
           0.8289770328067988,
           0.8176617244220107,
           0.9335980173949051,
           0.9218157456270573,
           0.9571757224823869,
           0.956818274084537,
           1,
           0.8378383756926141,
           0.41555766422343093,
           0.41555766422343093,
           0.11375338848319172,
           0.16601206886952435,
           0.1452208972281486,
           0.07008687042468176,
           0.07008687042468176,
           0.005798910417488819,
           0.039628892120462056,
           0.039628892120462056,
           0.05764086201638962,
           0.1000943751452733,
           0.1000943751452733,
           0.1110883554611743,
           0.23973513513317674,
           0.1330547632380979,
           0.15981346942769725,
           0.15521478578242795,
           0.14813468233688734,
           0.10634986672104864,
           0.02363879460656318,
           0.02363879460656318,
           0.02363879460656318
          ],
          [
           0.5309189742597004,
           0.5497742461344434,
           0.5497742461344434,
           0.5497742461344434,
           0.5852549033170916,
           0.5403957024313496,
           0.5403957024313496,
           0.5403957024313496,
           0.7217955665919372,
           0.5194659081045865,
           0.440229486861374,
           0.38281149531709163,
           0.5662828643789316,
           0.5425396120324798,
           0.5425396120324798,
           0.6527413609383187,
           0.6277762428378981,
           0.6679088938252378,
           0.6679088938252378,
           0.6679088938252378,
           0.7187689547462708,
           0.77110814454745,
           0.7882538698360319,
           0.7502766240118605,
           0.8473262959250722,
           0.8668998581043015,
           0.7754596553712353,
           0.7754596553712353,
           0.7509978590159596,
           0.6024187896136562,
           0.9145102023146623,
           0.9095684034130597,
           0.8959744948465692,
           0.8905298690675065,
           0.8378383756926141,
           1,
           0.31262684849409783,
           0.31262684849409783,
           0.12414449083738327,
           0.14336824502990617,
           0.003529323252709044,
           0.06648817897351754,
           0.06648817897351754,
           0.059775628028730356,
           0.031019908554216317,
           0.031019908554216317,
           0.06459333325590443,
           0.016733827900990445,
           0.016733827900990445,
           0.002267565357773273,
           0.02430016136869525,
           0.06946068101937179,
           0.030242176287585833,
           0.1339249820072048,
           0.1986449513561076,
           0.07550824512851587,
           0.049831840186190045,
           0.049831840186190045,
           0.049831840186190045
          ],
          [
           0.08206880266004143,
           0.06429210103699219,
           0.06429210103699219,
           0.06429210103699219,
           0.012701837109633565,
           0.032922979963184475,
           0.032922979963184475,
           0.032922979963184475,
           0.3263475836253803,
           0.4902450730260483,
           0.5146488688536062,
           0.4380010561377879,
           0.832469187099956,
           0.6343711714226183,
           0.6343711714226183,
           0.7274671372699417,
           0.765655905844999,
           0.7981106791025532,
           0.7981106791025532,
           0.7981106791025532,
           0.7550847668365992,
           0.749991883473187,
           0.6314948771183951,
           0.5095243432946025,
           0.6069198352871196,
           0.6092904192156354,
           0.6155343753589658,
           0.6155343753589658,
           0.655156806861353,
           0.6864130934438853,
           0.4996092108469407,
           0.48276568920417623,
           0.4096276234968113,
           0.41495698024508815,
           0.41555766422343093,
           0.31262684849409783,
           1,
           1,
           0.3564407035114978,
           0.7770060285795225,
           0.514497773728353,
           0.4574946493990836,
           0.4574946493990836,
           0.5353515503627531,
           0.5880558930381578,
           0.5880558930381578,
           0.5866773167457446,
           0.6570873636565862,
           0.6570873636565862,
           0.5941794013022291,
           0.5810954521635914,
           0.5351243614717508,
           0.42070235153374824,
           0.12773761356507995,
           0.13972519164951563,
           0.10170564518211019,
           0.223152625377821,
           0.223152625377821,
           0.223152625377821
          ],
          [
           0.08206880266004143,
           0.06429210103699219,
           0.06429210103699219,
           0.06429210103699219,
           0.012701837109633565,
           0.032922979963184475,
           0.032922979963184475,
           0.032922979963184475,
           0.3263475836253803,
           0.4902450730260483,
           0.5146488688536062,
           0.4380010561377879,
           0.832469187099956,
           0.6343711714226183,
           0.6343711714226183,
           0.7274671372699417,
           0.765655905844999,
           0.7981106791025532,
           0.7981106791025532,
           0.7981106791025532,
           0.7550847668365992,
           0.749991883473187,
           0.6314948771183951,
           0.5095243432946025,
           0.6069198352871196,
           0.6092904192156354,
           0.6155343753589658,
           0.6155343753589658,
           0.655156806861353,
           0.6864130934438853,
           0.4996092108469407,
           0.48276568920417623,
           0.4096276234968113,
           0.41495698024508815,
           0.41555766422343093,
           0.31262684849409783,
           1,
           1,
           0.3564407035114978,
           0.7770060285795225,
           0.514497773728353,
           0.4574946493990836,
           0.4574946493990836,
           0.5353515503627531,
           0.5880558930381578,
           0.5880558930381578,
           0.5866773167457446,
           0.6570873636565862,
           0.6570873636565862,
           0.5941794013022291,
           0.5810954521635914,
           0.5351243614717508,
           0.42070235153374824,
           0.12773761356507995,
           0.13972519164951563,
           0.10170564518211019,
           0.223152625377821,
           0.223152625377821,
           0.223152625377821
          ],
          [
           0.18529330298222052,
           0.1846349343439288,
           0.1846349343439288,
           0.1846349343439288,
           0.16816239751338102,
           0.1594329263527986,
           0.1594329263527986,
           0.1594329263527986,
           0.24069787893911776,
           0.06479877895778484,
           0.12336875478009551,
           0.45221456662459697,
           0.3660024338876923,
           0.4618049086060528,
           0.4618049086060528,
           0.3660773395932965,
           0.3660024338876923,
           0.3660024338876923,
           0.3660024338876923,
           0.3660024338876923,
           0.4037202419600881,
           0.2241943033512761,
           0.24234357885942195,
           0.2885410879978933,
           0.07065149801168676,
           0.032329549776339235,
           0.010776516592113079,
           0.010776516592113079,
           0.010776516592113079,
           0.2743380754104577,
           0.07069601572820254,
           0.032329549776339235,
           0.08813242744870742,
           0.08813242744870742,
           0.11375338848319172,
           0.12414449083738327,
           0.3564407035114978,
           0.3564407035114978,
           1,
           0.3085276787297559,
           0.5542683343552314,
           0.5422586091990824,
           0.5422586091990824,
           0.48833249229326403,
           0.5200795257029629,
           0.5200795257029629,
           0.5672610909234441,
           0.5540043915060341,
           0.5540043915060341,
           0.6059858343066338,
           0.7490344282087421,
           0.6341210341973098,
           0.09108190948327063,
           0.0816001014051797,
           0.04446095629271351,
           0.07824064629585546,
           0.06337426692519885,
           0.06337426692519885,
           0.06337426692519885
          ],
          [
           0.2513072341355524,
           0.2381181874805562,
           0.2381181874805562,
           0.2381181874805562,
           0.16676297586405409,
           0.23085424725265744,
           0.23085424725265744,
           0.23085424725265744,
           0.2607273583442675,
           0.2610071485398317,
           0.2809051240368001,
           0.23291875906096188,
           0.693982104206276,
           0.39095774547380985,
           0.39095774547380985,
           0.5020822289111014,
           0.5224160950327029,
           0.5816133934624684,
           0.5816133934624684,
           0.5816133934624684,
           0.5615755172191534,
           0.5300316829381366,
           0.41359432388146833,
           0.22568434214384916,
           0.3754041558597524,
           0.39097161120424184,
           0.4053797134683844,
           0.4053797134683844,
           0.4504206734175669,
           0.4031957776141031,
           0.29023056653592694,
           0.24901194122940695,
           0.1648273561747586,
           0.16719602582175247,
           0.16601206886952435,
           0.14336824502990617,
           0.7770060285795225,
           0.7770060285795225,
           0.3085276787297559,
           1,
           0.5365842931324791,
           0.5762925878546614,
           0.5762925878546614,
           0.6649506042133736,
           0.6783153867442812,
           0.6783153867442812,
           0.7110444700371746,
           0.6581018053977556,
           0.6581018053977556,
           0.5962786893410716,
           0.44896440503987617,
           0.4376484523929708,
           0.3620722304870863,
           0.2815337211600063,
           0.17653249837756305,
           0.0801059969411241,
           0.22314173479275057,
           0.22314173479275057,
           0.22314173479275057
          ],
          [
           0.31087378438466684,
           0.2866409708291216,
           0.2866409708291216,
           0.2866409708291216,
           0.1668119734185335,
           0.15815260406646972,
           0.15815260406646972,
           0.15815260406646972,
           0.201958521764898,
           0.05448560683570541,
           0.15027459812342106,
           0.24858907739580957,
           0.48719383082488765,
           0.45975087700604844,
           0.45975087700604844,
           0.471056112393148,
           0.45687630144593777,
           0.4630177790924802,
           0.4630177790924802,
           0.4630177790924802,
           0.5668856219207159,
           0.43699525707284786,
           0.4915499890881038,
           0.30239748839548647,
           0.36134342647944884,
           0.3227585101827089,
           0.3360560907122722,
           0.3360560907122722,
           0.26222079327945197,
           0.30933006238781113,
           0.21966673414625354,
           0.14557457289725867,
           0.17581536996339528,
           0.17581536996339528,
           0.1452208972281486,
           0.003529323252709044,
           0.514497773728353,
           0.514497773728353,
           0.5542683343552314,
           0.5365842931324791,
           1,
           0.9529966155108327,
           0.9529966155108327,
           0.6214472365327534,
           0.655352700823648,
           0.655352700823648,
           0.8050734322584021,
           0.7481598385002878,
           0.7481598385002878,
           0.9146555958513828,
           0.7047203878869037,
           0.5086679720365315,
           0.5239433187803657,
           0.3574394745812136,
           0.04410391365092514,
           0.32576689693127614,
           0.3643700084510418,
           0.3643700084510418,
           0.3643700084510418
          ],
          [
           0.18263466931958228,
           0.1573490541545511,
           0.1573490541545511,
           0.1573490541545511,
           0.042907596804799664,
           0.02718347321357576,
           0.02718347321357576,
           0.02718347321357576,
           0.16948377585448873,
           0.06689035404149052,
           0.12943627313211625,
           0.20941656713930587,
           0.4262898643769414,
           0.39507460180461756,
           0.39507460180461756,
           0.4043465323703719,
           0.39014449037092336,
           0.41366269848365106,
           0.41366269848365106,
           0.41366269848365106,
           0.5132625031782461,
           0.37639045312913233,
           0.4153817017574534,
           0.22115140713459422,
           0.2894021020016203,
           0.2592493844104783,
           0.2531960368054884,
           0.2531960368054884,
           0.18703381001096617,
           0.2565012227455928,
           0.14683351969394384,
           0.07674988453268378,
           0.09947168590131894,
           0.09947168590131894,
           0.07008687042468176,
           0.06648817897351754,
           0.4574946493990836,
           0.4574946493990836,
           0.5422586091990824,
           0.5762925878546614,
           0.9529966155108327,
           1,
           1,
           0.7559050919202119,
           0.759408895802548,
           0.759408895802548,
           0.8708430492362266,
           0.7155359419844377,
           0.7155359419844377,
           0.8704550650119405,
           0.6991177635829727,
           0.4955759221581538,
           0.5017898103426928,
           0.31443463479367495,
           0.052276114404611704,
           0.30831299759821956,
           0.33733944792607834,
           0.33733944792607834,
           0.33733944792607834
          ],
          [
           0.18263466931958228,
           0.1573490541545511,
           0.1573490541545511,
           0.1573490541545511,
           0.042907596804799664,
           0.02718347321357576,
           0.02718347321357576,
           0.02718347321357576,
           0.16948377585448873,
           0.06689035404149052,
           0.12943627313211625,
           0.20941656713930587,
           0.4262898643769414,
           0.39507460180461756,
           0.39507460180461756,
           0.4043465323703719,
           0.39014449037092336,
           0.41366269848365106,
           0.41366269848365106,
           0.41366269848365106,
           0.5132625031782461,
           0.37639045312913233,
           0.4153817017574534,
           0.22115140713459422,
           0.2894021020016203,
           0.2592493844104783,
           0.2531960368054884,
           0.2531960368054884,
           0.18703381001096617,
           0.2565012227455928,
           0.14683351969394384,
           0.07674988453268378,
           0.09947168590131894,
           0.09947168590131894,
           0.07008687042468176,
           0.06648817897351754,
           0.4574946493990836,
           0.4574946493990836,
           0.5422586091990824,
           0.5762925878546614,
           0.9529966155108327,
           1,
           1,
           0.7559050919202119,
           0.759408895802548,
           0.759408895802548,
           0.8708430492362266,
           0.7155359419844377,
           0.7155359419844377,
           0.8704550650119405,
           0.6991177635829727,
           0.4955759221581538,
           0.5017898103426928,
           0.31443463479367495,
           0.052276114404611704,
           0.30831299759821956,
           0.33733944792607834,
           0.33733944792607834,
           0.33733944792607834
          ],
          [
           0.0738265763232332,
           0.053906014758734334,
           0.053906014758734334,
           0.053906014758734334,
           0.03101765040189288,
           0.0068666268102511255,
           0.0068666268102511255,
           0.0068666268102511255,
           0.11270500753576096,
           0.05023242775325164,
           0.023623570696024557,
           0.314807555459286,
           0.5292631373004855,
           0.46337850291061167,
           0.46337850291061167,
           0.5030321942585655,
           0.5174258796200045,
           0.5305164810775265,
           0.5305164810775265,
           0.5305164810775265,
           0.48403721364704894,
           0.40472268745385725,
           0.3615155868432161,
           0.2527799495977336,
           0.24616176712738888,
           0.25690393988071347,
           0.2169939544121075,
           0.2169939544121075,
           0.2761371860402861,
           0.27822946504797547,
           0.09304161090834545,
           0.08784008228187053,
           0.016867516378298943,
           0.016867516378298943,
           0.005798910417488819,
           0.059775628028730356,
           0.5353515503627531,
           0.5353515503627531,
           0.48833249229326403,
           0.6649506042133736,
           0.6214472365327534,
           0.7559050919202119,
           0.7559050919202119,
           1,
           0.99377061237255,
           0.99377061237255,
           0.9271110143527715,
           0.8331465000406704,
           0.8331465000406704,
           0.7686454164029227,
           0.7133777812970028,
           0.7386008123819798,
           0.5083521892229413,
           0.17478558723346646,
           0.07656063198719738,
           0.1563927428488065,
           0.24457964904453455,
           0.24457964904453455,
           0.24457964904453455
          ],
          [
           0.030760473318362958,
           0.008247605219254417,
           0.008247605219254417,
           0.008247605219254417,
           0.08379073969923054,
           0.061424466492146695,
           0.061424466492146695,
           0.061424466492146695,
           0.12493090518951355,
           0.05611722457511864,
           0.024916734942878726,
           0.35567273024785656,
           0.5854399278646069,
           0.5183142549855795,
           0.5183142549855795,
           0.559693571708316,
           0.5759785652775978,
           0.5821709211356351,
           0.5821709211356351,
           0.5821709211356351,
           0.5316267029033299,
           0.45228430670266484,
           0.4102165391418768,
           0.303276519466103,
           0.28864286116568166,
           0.297221855459598,
           0.26218658717231996,
           0.26218658717231996,
           0.32404382893435657,
           0.31863493886110267,
           0.13082872682899227,
           0.12580417558178694,
           0.05209889591278342,
           0.05209889591278342,
           0.039628892120462056,
           0.031019908554216317,
           0.5880558930381578,
           0.5880558930381578,
           0.5200795257029629,
           0.6783153867442812,
           0.655352700823648,
           0.759408895802548,
           0.759408895802548,
           0.99377061237255,
           1,
           1,
           0.938510009909378,
           0.8822114773246416,
           0.8822114773246416,
           0.8134500982065702,
           0.7526633684009523,
           0.7825074257273529,
           0.5316798457465768,
           0.1888282574816113,
           0.07679274807530405,
           0.16934346495383906,
           0.26048004152729864,
           0.26048004152729864,
           0.26048004152729864
          ],
          [
           0.030760473318362958,
           0.008247605219254417,
           0.008247605219254417,
           0.008247605219254417,
           0.08379073969923054,
           0.061424466492146695,
           0.061424466492146695,
           0.061424466492146695,
           0.12493090518951355,
           0.05611722457511864,
           0.024916734942878726,
           0.35567273024785656,
           0.5854399278646069,
           0.5183142549855795,
           0.5183142549855795,
           0.559693571708316,
           0.5759785652775978,
           0.5821709211356351,
           0.5821709211356351,
           0.5821709211356351,
           0.5316267029033299,
           0.45228430670266484,
           0.4102165391418768,
           0.303276519466103,
           0.28864286116568166,
           0.297221855459598,
           0.26218658717231996,
           0.26218658717231996,
           0.32404382893435657,
           0.31863493886110267,
           0.13082872682899227,
           0.12580417558178694,
           0.05209889591278342,
           0.05209889591278342,
           0.039628892120462056,
           0.031019908554216317,
           0.5880558930381578,
           0.5880558930381578,
           0.5200795257029629,
           0.6783153867442812,
           0.655352700823648,
           0.759408895802548,
           0.759408895802548,
           0.99377061237255,
           1,
           1,
           0.938510009909378,
           0.8822114773246416,
           0.8822114773246416,
           0.8134500982065702,
           0.7526633684009523,
           0.7825074257273529,
           0.5316798457465768,
           0.1888282574816113,
           0.07679274807530405,
           0.16934346495383906,
           0.26048004152729864,
           0.26048004152729864,
           0.26048004152729864
          ],
          [
           0.015948946628449166,
           0.031189254764986914,
           0.031189254764986914,
           0.031189254764986914,
           0.09074726536823846,
           0.07144309145255129,
           0.07144309145255129,
           0.07144309145255129,
           0.14793507253899577,
           0.03352690504998449,
           0.0062384242004848165,
           0.3697672287742803,
           0.5808787947316739,
           0.5068794793646285,
           0.5068794793646285,
           0.5353878207602022,
           0.5570809492477716,
           0.5627233690787579,
           0.5627233690787579,
           0.5627233690787579,
           0.5261649396936174,
           0.43915888682249604,
           0.4105603415510597,
           0.3022780255223634,
           0.2811360723495725,
           0.28439778336292904,
           0.2643998272925442,
           0.2643998272925442,
           0.3060136984021262,
           0.3316773817786563,
           0.13164841784810902,
           0.11330773184211694,
           0.06679782526471446,
           0.06679782526471446,
           0.05764086201638962,
           0.06459333325590443,
           0.5866773167457446,
           0.5866773167457446,
           0.5672610909234441,
           0.7110444700371746,
           0.8050734322584021,
           0.8708430492362266,
           0.8708430492362266,
           0.9271110143527715,
           0.938510009909378,
           0.938510009909378,
           1,
           0.8999650879435929,
           0.8999650879435929,
           0.8693730577950078,
           0.7185958410769073,
           0.6808803142464668,
           0.5011660674086831,
           0.27684041972912604,
           0.06825039344762804,
           0.09594628534030458,
           0.16521529256953368,
           0.16521529256953368,
           0.16521529256953368
          ],
          [
           0.14156290455989917,
           0.17026895731801991,
           0.17026895731801991,
           0.17026895731801991,
           0.2741153342721595,
           0.25988574465768094,
           0.25988574465768094,
           0.25988574465768094,
           0.20581991645726191,
           0.12434345116681118,
           0.02860013654253826,
           0.41577461939072324,
           0.6580095848995158,
           0.5999220957415762,
           0.5999220957415762,
           0.6433876034377921,
           0.6597802184657194,
           0.6409622864876635,
           0.6409622864876635,
           0.6409622864876635,
           0.5782975654677827,
           0.5108769353549817,
           0.4924261125462147,
           0.396760607653404,
           0.3519938791478395,
           0.3519667525450961,
           0.33871320971616287,
           0.33871320971616287,
           0.40238224170089926,
           0.3606711427889107,
           0.19705662073769786,
           0.18953311594681424,
           0.12268674271244172,
           0.12268674271244172,
           0.1000943751452733,
           0.016733827900990445,
           0.6570873636565862,
           0.6570873636565862,
           0.5540043915060341,
           0.6581018053977556,
           0.7481598385002878,
           0.7155359419844377,
           0.7155359419844377,
           0.8331465000406704,
           0.8822114773246416,
           0.8822114773246416,
           0.8999650879435929,
           1,
           1,
           0.9299057522767564,
           0.7185920469117119,
           0.8254700530283949,
           0.547252676326963,
           0.3572692617303455,
           0.07247416828287823,
           0.18586131978551437,
           0.2774711938731786,
           0.2774711938731786,
           0.2774711938731786
          ],
          [
           0.14156290455989917,
           0.17026895731801991,
           0.17026895731801991,
           0.17026895731801991,
           0.2741153342721595,
           0.25988574465768094,
           0.25988574465768094,
           0.25988574465768094,
           0.20581991645726191,
           0.12434345116681118,
           0.02860013654253826,
           0.41577461939072324,
           0.6580095848995158,
           0.5999220957415762,
           0.5999220957415762,
           0.6433876034377921,
           0.6597802184657194,
           0.6409622864876635,
           0.6409622864876635,
           0.6409622864876635,
           0.5782975654677827,
           0.5108769353549817,
           0.4924261125462147,
           0.396760607653404,
           0.3519938791478395,
           0.3519667525450961,
           0.33871320971616287,
           0.33871320971616287,
           0.40238224170089926,
           0.3606711427889107,
           0.19705662073769786,
           0.18953311594681424,
           0.12268674271244172,
           0.12268674271244172,
           0.1000943751452733,
           0.016733827900990445,
           0.6570873636565862,
           0.6570873636565862,
           0.5540043915060341,
           0.6581018053977556,
           0.7481598385002878,
           0.7155359419844377,
           0.7155359419844377,
           0.8331465000406704,
           0.8822114773246416,
           0.8822114773246416,
           0.8999650879435929,
           1,
           1,
           0.9299057522767564,
           0.7185920469117119,
           0.8254700530283949,
           0.547252676326963,
           0.3572692617303455,
           0.07247416828287823,
           0.18586131978551437,
           0.2774711938731786,
           0.2774711938731786,
           0.2774711938731786
          ],
          [
           0.27795563904630716,
           0.2769680303597591,
           0.2769680303597591,
           0.2769680303597591,
           0.2522578307585999,
           0.23916288509178954,
           0.23916288509178954,
           0.23916288509178954,
           0.2510334069482603,
           0.06528594413889878,
           0.147503768091455,
           0.3206007044884499,
           0.5739414429007285,
           0.5518534863805682,
           0.5518534863805682,
           0.5788824874502317,
           0.5674545675299806,
           0.5620220724482803,
           0.5620220724482803,
           0.5620220724482803,
           0.6023966083928373,
           0.4847006031001691,
           0.5190790252931492,
           0.35581734748381993,
           0.36551526395725753,
           0.3384198355900108,
           0.3319757415135821,
           0.3319757415135821,
           0.3173802719293993,
           0.32096926354590577,
           0.20757009655922973,
           0.15828567174827732,
           0.14491973122263102,
           0.14491973122263102,
           0.1110883554611743,
           0.002267565357773273,
           0.5941794013022291,
           0.5941794013022291,
           0.6059858343066338,
           0.5962786893410716,
           0.9146555958513828,
           0.8704550650119405,
           0.8704550650119405,
           0.7686454164029227,
           0.8134500982065702,
           0.8134500982065702,
           0.8693730577950078,
           0.9299057522767564,
           0.9299057522767564,
           1,
           0.7704762219608284,
           0.7594615198209025,
           0.5728312614680579,
           0.39079132757997354,
           0.06669519793781711,
           0.11736759230120326,
           0.0950667648467313,
           0.0950667648467313,
           0.0950667648467313
          ],
          [
           0.21039558997830404,
           0.20964802999719725,
           0.20964802999719725,
           0.20964802999719725,
           0.19094390497420607,
           0.18103182393582357,
           0.18103182393582357,
           0.18103182393582357,
           0.24375641935172876,
           0.026031262177369317,
           0.09791915745991167,
           0.32075635786241524,
           0.5615995589005325,
           0.5498979889412272,
           0.5498979889412272,
           0.5597666108244839,
           0.5598550770630601,
           0.5473804755604211,
           0.5473804755604211,
           0.5473804755604211,
           0.5982635786290318,
           0.45990097336569286,
           0.4747465087562953,
           0.40012353881255097,
           0.3299865241487806,
           0.2995975669808757,
           0.296625103341575,
           0.296625103341575,
           0.296625103341575,
           0.39674296939102033,
           0.18350231294219357,
           0.1398652627008542,
           0.15383783912102358,
           0.15383783912102358,
           0.23973513513317674,
           0.02430016136869525,
           0.5810954521635914,
           0.5810954521635914,
           0.7490344282087421,
           0.44896440503987617,
           0.7047203878869037,
           0.6991177635829727,
           0.6991177635829727,
           0.7133777812970028,
           0.7526633684009523,
           0.7526633684009523,
           0.7185958410769073,
           0.7185920469117119,
           0.7185920469117119,
           0.7704762219608284,
           1,
           0.8581658908183206,
           0.5391699178094003,
           0.24128281161033788,
           0.05048422678882589,
           0.0888401613698896,
           0.07195978518688903,
           0.07195978518688903,
           0.07195978518688903
          ],
          [
           0.14181666335871276,
           0.1676359265199184,
           0.1676359265199184,
           0.1676359265199184,
           0.2599561949990696,
           0.2464616198692249,
           0.2464616198692249,
           0.2464616198692249,
           0.30699987072418317,
           0.2043089913516891,
           0.12244472953429412,
           0.2795163971840181,
           0.5144767801445131,
           0.5046768191683986,
           0.5046768191683986,
           0.5423502616246093,
           0.5426756651329214,
           0.5166125880525327,
           0.5166125880525327,
           0.5166125880525327,
           0.483818650812909,
           0.3916133844960866,
           0.392327109743909,
           0.3527583574307289,
           0.24215719204179612,
           0.23148523622164366,
           0.21281585591786312,
           0.21281585591786312,
           0.2826606627090752,
           0.2937108406717541,
           0.08978568009564343,
           0.07948989359814941,
           0.04800031833554973,
           0.04800031833554973,
           0.1330547632380979,
           0.06946068101937179,
           0.5351243614717508,
           0.5351243614717508,
           0.6341210341973098,
           0.4376484523929708,
           0.5086679720365315,
           0.4955759221581538,
           0.4955759221581538,
           0.7386008123819798,
           0.7825074257273529,
           0.7825074257273529,
           0.6808803142464668,
           0.8254700530283949,
           0.8254700530283949,
           0.7594615198209025,
           0.8581658908183206,
           1,
           0.5602357539672718,
           0.1261426584450357,
           0.06873059134967469,
           0.16148497490955277,
           0.24518621041336996,
           0.24518621041336996,
           0.24518621041336996
          ],
          [
           0.13337781439295146,
           0.13290390751867745,
           0.13290390751867745,
           0.13290390751867745,
           0.1210466470316286,
           0.11476299961714806,
           0.11476299961714806,
           0.11476299961714806,
           0.1732591329811807,
           0.046643453236680725,
           0.0888032897688051,
           0.12346799528016295,
           0.3620722304870863,
           0.22690219333010678,
           0.22690219333010678,
           0.36904298882512654,
           0.3620722304870863,
           0.3413864930579491,
           0.3413864930579491,
           0.3413864930579491,
           0.3689674762967987,
           0.3788878640415018,
           0.4029064042356334,
           0.20769762889604299,
           0.36899591317068625,
           0.3689674762967987,
           0.42068181986964187,
           0.42068181986964187,
           0.42068181986964187,
           0.19747401721543353,
           0.12887415894759435,
           0.1012020973529666,
           0.0634394787132802,
           0.0634394787132802,
           0.15981346942769725,
           0.030242176287585833,
           0.42070235153374824,
           0.42070235153374824,
           0.09108190948327063,
           0.3620722304870863,
           0.5239433187803657,
           0.5017898103426928,
           0.5017898103426928,
           0.5083521892229413,
           0.5316798457465768,
           0.5316798457465768,
           0.5011660674086831,
           0.547252676326963,
           0.547252676326963,
           0.5728312614680579,
           0.5391699178094003,
           0.5602357539672718,
           1,
           0.05873738016700149,
           0.03200388292884867,
           0.05631917738891245,
           0.04561806106964158,
           0.04561806106964158,
           0.04561806106964158
          ],
          [
           0.11949291842267666,
           0.11906834619733839,
           0.11906834619733839,
           0.11906834619733839,
           0.10844545012917314,
           0.10281594291830175,
           0.10281594291830175,
           0.10281594291830175,
           0.07046810544769051,
           0.023678729417292703,
           0.0025196614990341416,
           0.17097343851799107,
           0.15244112753071917,
           0.15292002904875368,
           0.15292002904875368,
           0.15294761069767612,
           0.13913587861678037,
           0.15624262722041596,
           0.15624262722041596,
           0.15624262722041596,
           0.14673887799617397,
           0.15190413942129366,
           0.16332010680040765,
           0.028102595126064174,
           0.1434236187881006,
           0.14341256576768927,
           0.12202913001314478,
           0.12202913001314478,
           0.09209231995678248,
           0.00883349792229151,
           0.14731817862945532,
           0.13961106607799248,
           0.08291226587433578,
           0.08291226587433578,
           0.15521478578242795,
           0.1339249820072048,
           0.12773761356507995,
           0.12773761356507995,
           0.0816001014051797,
           0.2815337211600063,
           0.3574394745812136,
           0.31443463479367495,
           0.31443463479367495,
           0.17478558723346646,
           0.1888282574816113,
           0.1888282574816113,
           0.27684041972912604,
           0.3572692617303455,
           0.3572692617303455,
           0.39079132757997354,
           0.24128281161033788,
           0.1261426584450357,
           0.05873738016700149,
           1,
           0.028672215011403757,
           0.05045623891795615,
           0.04086913010836853,
           0.04086913010836853,
           0.04086913010836853
          ],
          [
           0.239949073048688,
           0.24844800930049146,
           0.24844800930049146,
           0.24844800930049146,
           0.2643929734004634,
           0.05602070420949957,
           0.05602070420949957,
           0.05602070420949957,
           0.007814009014234924,
           0.19593214862815864,
           0.18416029395386566,
           0.13095310455614656,
           0.1076024304907132,
           0.1447706831202169,
           0.1447706831202169,
           0.14816334668283254,
           0.09413897877731019,
           0.16496234456135733,
           0.16496234456135733,
           0.16496234456135733,
           0.18515752213146186,
           0.19013583195927714,
           0.15331192355469583,
           0.1565292289563218,
           0.16834118079580038,
           0.1683282074897081,
           0.14140130406290205,
           0.14140130406290205,
           0.14140130406290205,
           0.09937309152607308,
           0.16171076638049842,
           0.1447671669912528,
           0.13960124967630344,
           0.13281385035043605,
           0.14813468233688734,
           0.1986449513561076,
           0.13972519164951563,
           0.13972519164951563,
           0.04446095629271351,
           0.17653249837756305,
           0.04410391365092514,
           0.052276114404611704,
           0.052276114404611704,
           0.07656063198719738,
           0.07679274807530405,
           0.07679274807530405,
           0.06825039344762804,
           0.07247416828287823,
           0.07247416828287823,
           0.06669519793781711,
           0.05048422678882589,
           0.06873059134967469,
           0.03200388292884867,
           0.028672215011403757,
           1,
           0.5682590622346213,
           0.02226811702655621,
           0.02226811702655621,
           0.02226811702655621
          ],
          [
           0.4222529634725271,
           0.36109816925326216,
           0.36109816925326216,
           0.36109816925326216,
           0.08576894075984084,
           0.09858303709087159,
           0.09858303709087159,
           0.09858303709087159,
           0.08692239218789506,
           0.2513871409343639,
           0.36184205899293154,
           0.3256272784515578,
           0.16792438126425627,
           0.06871389887614308,
           0.06871389887614308,
           0.10073410795294416,
           0.19359120647157924,
           0.12243157889358453,
           0.12243157889358453,
           0.12243157889358453,
           0.11622053625527401,
           0.019112995433260293,
           0.11280697408282885,
           0.027125465526968963,
           0.10635687685777186,
           0.048680589155235106,
           0.050654960325029176,
           0.050654960325029176,
           0.12243157889358453,
           0.05479769030824186,
           0.10247235765745705,
           0.0032700522499714327,
           0.11942125359589918,
           0.11543985392748234,
           0.10634986672104864,
           0.07550824512851587,
           0.10170564518211019,
           0.10170564518211019,
           0.07824064629585546,
           0.0801059969411241,
           0.32576689693127614,
           0.30831299759821956,
           0.30831299759821956,
           0.1563927428488065,
           0.16934346495383906,
           0.16934346495383906,
           0.09594628534030458,
           0.18586131978551437,
           0.18586131978551437,
           0.11736759230120326,
           0.0888401613698896,
           0.16148497490955277,
           0.05631917738891245,
           0.05045623891795615,
           0.5682590622346213,
           1,
           0.8099916082691649,
           0.8099916082691649,
           0.8099916082691649
          ],
          [
           0.3420213569795332,
           0.2616618962644557,
           0.2616618962644557,
           0.2616618962644557,
           0.08422355836525108,
           0.0798514327612938,
           0.0798514327612938,
           0.0798514327612938,
           0.10004060154768024,
           0.16579220723134844,
           0.30838329280788246,
           0.3023033267102683,
           0.2807138016418544,
           0.18666396910265876,
           0.18666396910265876,
           0.2279860568896788,
           0.3023033267102683,
           0.26632078492957845,
           0.26632078492957845,
           0.26632078492957845,
           0.009245514207538377,
           0.11228694567083876,
           0.027794301090376217,
           0.14451481142703057,
           0.009246226773112405,
           0.06082049075986057,
           0.03923096569144663,
           0.03923096569144663,
           0.2495289320985898,
           0.13740128142681102,
           0.009252052847773383,
           0.09920186865926313,
           0.04560210609574801,
           0.04560210609574801,
           0.02363879460656318,
           0.049831840186190045,
           0.223152625377821,
           0.223152625377821,
           0.06337426692519885,
           0.22314173479275057,
           0.3643700084510418,
           0.33733944792607834,
           0.33733944792607834,
           0.24457964904453455,
           0.26048004152729864,
           0.26048004152729864,
           0.16521529256953368,
           0.2774711938731786,
           0.2774711938731786,
           0.0950667648467313,
           0.07195978518688903,
           0.24518621041336996,
           0.04561806106964158,
           0.04086913010836853,
           0.02226811702655621,
           0.8099916082691649,
           1,
           1,
           1
          ],
          [
           0.3420213569795332,
           0.2616618962644557,
           0.2616618962644557,
           0.2616618962644557,
           0.08422355836525108,
           0.0798514327612938,
           0.0798514327612938,
           0.0798514327612938,
           0.10004060154768024,
           0.16579220723134844,
           0.30838329280788246,
           0.3023033267102683,
           0.2807138016418544,
           0.18666396910265876,
           0.18666396910265876,
           0.2279860568896788,
           0.3023033267102683,
           0.26632078492957845,
           0.26632078492957845,
           0.26632078492957845,
           0.009245514207538377,
           0.11228694567083876,
           0.027794301090376217,
           0.14451481142703057,
           0.009246226773112405,
           0.06082049075986057,
           0.03923096569144663,
           0.03923096569144663,
           0.2495289320985898,
           0.13740128142681102,
           0.009252052847773383,
           0.09920186865926313,
           0.04560210609574801,
           0.04560210609574801,
           0.02363879460656318,
           0.049831840186190045,
           0.223152625377821,
           0.223152625377821,
           0.06337426692519885,
           0.22314173479275057,
           0.3643700084510418,
           0.33733944792607834,
           0.33733944792607834,
           0.24457964904453455,
           0.26048004152729864,
           0.26048004152729864,
           0.16521529256953368,
           0.2774711938731786,
           0.2774711938731786,
           0.0950667648467313,
           0.07195978518688903,
           0.24518621041336996,
           0.04561806106964158,
           0.04086913010836853,
           0.02226811702655621,
           0.8099916082691649,
           1,
           1,
           1
          ],
          [
           0.3420213569795332,
           0.2616618962644557,
           0.2616618962644557,
           0.2616618962644557,
           0.08422355836525108,
           0.0798514327612938,
           0.0798514327612938,
           0.0798514327612938,
           0.10004060154768024,
           0.16579220723134844,
           0.30838329280788246,
           0.3023033267102683,
           0.2807138016418544,
           0.18666396910265876,
           0.18666396910265876,
           0.2279860568896788,
           0.3023033267102683,
           0.26632078492957845,
           0.26632078492957845,
           0.26632078492957845,
           0.009245514207538377,
           0.11228694567083876,
           0.027794301090376217,
           0.14451481142703057,
           0.009246226773112405,
           0.06082049075986057,
           0.03923096569144663,
           0.03923096569144663,
           0.2495289320985898,
           0.13740128142681102,
           0.009252052847773383,
           0.09920186865926313,
           0.04560210609574801,
           0.04560210609574801,
           0.02363879460656318,
           0.049831840186190045,
           0.223152625377821,
           0.223152625377821,
           0.06337426692519885,
           0.22314173479275057,
           0.3643700084510418,
           0.33733944792607834,
           0.33733944792607834,
           0.24457964904453455,
           0.26048004152729864,
           0.26048004152729864,
           0.16521529256953368,
           0.2774711938731786,
           0.2774711938731786,
           0.0950667648467313,
           0.07195978518688903,
           0.24518621041336996,
           0.04561806106964158,
           0.04086913010836853,
           0.02226811702655621,
           0.8099916082691649,
           1,
           1,
           1
          ]
         ]
        }
       ],
       "layout": {
        "autosize": false,
        "height": 800,
        "hovermode": "closest",
        "showlegend": false,
        "template": {
         "data": {
          "bar": [
           {
            "error_x": {
             "color": "#2a3f5f"
            },
            "error_y": {
             "color": "#2a3f5f"
            },
            "marker": {
             "line": {
              "color": "#E5ECF6",
              "width": 0.5
             }
            },
            "type": "bar"
           }
          ],
          "barpolar": [
           {
            "marker": {
             "line": {
              "color": "#E5ECF6",
              "width": 0.5
             }
            },
            "type": "barpolar"
           }
          ],
          "carpet": [
           {
            "aaxis": {
             "endlinecolor": "#2a3f5f",
             "gridcolor": "white",
             "linecolor": "white",
             "minorgridcolor": "white",
             "startlinecolor": "#2a3f5f"
            },
            "baxis": {
             "endlinecolor": "#2a3f5f",
             "gridcolor": "white",
             "linecolor": "white",
             "minorgridcolor": "white",
             "startlinecolor": "#2a3f5f"
            },
            "type": "carpet"
           }
          ],
          "choropleth": [
           {
            "colorbar": {
             "outlinewidth": 0,
             "ticks": ""
            },
            "type": "choropleth"
           }
          ],
          "contour": [
           {
            "colorbar": {
             "outlinewidth": 0,
             "ticks": ""
            },
            "colorscale": [
             [
              0,
              "#0d0887"
             ],
             [
              0.1111111111111111,
              "#46039f"
             ],
             [
              0.2222222222222222,
              "#7201a8"
             ],
             [
              0.3333333333333333,
              "#9c179e"
             ],
             [
              0.4444444444444444,
              "#bd3786"
             ],
             [
              0.5555555555555556,
              "#d8576b"
             ],
             [
              0.6666666666666666,
              "#ed7953"
             ],
             [
              0.7777777777777778,
              "#fb9f3a"
             ],
             [
              0.8888888888888888,
              "#fdca26"
             ],
             [
              1,
              "#f0f921"
             ]
            ],
            "type": "contour"
           }
          ],
          "contourcarpet": [
           {
            "colorbar": {
             "outlinewidth": 0,
             "ticks": ""
            },
            "type": "contourcarpet"
           }
          ],
          "heatmap": [
           {
            "colorbar": {
             "outlinewidth": 0,
             "ticks": ""
            },
            "colorscale": [
             [
              0,
              "#0d0887"
             ],
             [
              0.1111111111111111,
              "#46039f"
             ],
             [
              0.2222222222222222,
              "#7201a8"
             ],
             [
              0.3333333333333333,
              "#9c179e"
             ],
             [
              0.4444444444444444,
              "#bd3786"
             ],
             [
              0.5555555555555556,
              "#d8576b"
             ],
             [
              0.6666666666666666,
              "#ed7953"
             ],
             [
              0.7777777777777778,
              "#fb9f3a"
             ],
             [
              0.8888888888888888,
              "#fdca26"
             ],
             [
              1,
              "#f0f921"
             ]
            ],
            "type": "heatmap"
           }
          ],
          "heatmapgl": [
           {
            "colorbar": {
             "outlinewidth": 0,
             "ticks": ""
            },
            "colorscale": [
             [
              0,
              "#0d0887"
             ],
             [
              0.1111111111111111,
              "#46039f"
             ],
             [
              0.2222222222222222,
              "#7201a8"
             ],
             [
              0.3333333333333333,
              "#9c179e"
             ],
             [
              0.4444444444444444,
              "#bd3786"
             ],
             [
              0.5555555555555556,
              "#d8576b"
             ],
             [
              0.6666666666666666,
              "#ed7953"
             ],
             [
              0.7777777777777778,
              "#fb9f3a"
             ],
             [
              0.8888888888888888,
              "#fdca26"
             ],
             [
              1,
              "#f0f921"
             ]
            ],
            "type": "heatmapgl"
           }
          ],
          "histogram": [
           {
            "marker": {
             "colorbar": {
              "outlinewidth": 0,
              "ticks": ""
             }
            },
            "type": "histogram"
           }
          ],
          "histogram2d": [
           {
            "colorbar": {
             "outlinewidth": 0,
             "ticks": ""
            },
            "colorscale": [
             [
              0,
              "#0d0887"
             ],
             [
              0.1111111111111111,
              "#46039f"
             ],
             [
              0.2222222222222222,
              "#7201a8"
             ],
             [
              0.3333333333333333,
              "#9c179e"
             ],
             [
              0.4444444444444444,
              "#bd3786"
             ],
             [
              0.5555555555555556,
              "#d8576b"
             ],
             [
              0.6666666666666666,
              "#ed7953"
             ],
             [
              0.7777777777777778,
              "#fb9f3a"
             ],
             [
              0.8888888888888888,
              "#fdca26"
             ],
             [
              1,
              "#f0f921"
             ]
            ],
            "type": "histogram2d"
           }
          ],
          "histogram2dcontour": [
           {
            "colorbar": {
             "outlinewidth": 0,
             "ticks": ""
            },
            "colorscale": [
             [
              0,
              "#0d0887"
             ],
             [
              0.1111111111111111,
              "#46039f"
             ],
             [
              0.2222222222222222,
              "#7201a8"
             ],
             [
              0.3333333333333333,
              "#9c179e"
             ],
             [
              0.4444444444444444,
              "#bd3786"
             ],
             [
              0.5555555555555556,
              "#d8576b"
             ],
             [
              0.6666666666666666,
              "#ed7953"
             ],
             [
              0.7777777777777778,
              "#fb9f3a"
             ],
             [
              0.8888888888888888,
              "#fdca26"
             ],
             [
              1,
              "#f0f921"
             ]
            ],
            "type": "histogram2dcontour"
           }
          ],
          "mesh3d": [
           {
            "colorbar": {
             "outlinewidth": 0,
             "ticks": ""
            },
            "type": "mesh3d"
           }
          ],
          "parcoords": [
           {
            "line": {
             "colorbar": {
              "outlinewidth": 0,
              "ticks": ""
             }
            },
            "type": "parcoords"
           }
          ],
          "pie": [
           {
            "automargin": true,
            "type": "pie"
           }
          ],
          "scatter": [
           {
            "marker": {
             "colorbar": {
              "outlinewidth": 0,
              "ticks": ""
             }
            },
            "type": "scatter"
           }
          ],
          "scatter3d": [
           {
            "line": {
             "colorbar": {
              "outlinewidth": 0,
              "ticks": ""
             }
            },
            "marker": {
             "colorbar": {
              "outlinewidth": 0,
              "ticks": ""
             }
            },
            "type": "scatter3d"
           }
          ],
          "scattercarpet": [
           {
            "marker": {
             "colorbar": {
              "outlinewidth": 0,
              "ticks": ""
             }
            },
            "type": "scattercarpet"
           }
          ],
          "scattergeo": [
           {
            "marker": {
             "colorbar": {
              "outlinewidth": 0,
              "ticks": ""
             }
            },
            "type": "scattergeo"
           }
          ],
          "scattergl": [
           {
            "marker": {
             "colorbar": {
              "outlinewidth": 0,
              "ticks": ""
             }
            },
            "type": "scattergl"
           }
          ],
          "scattermapbox": [
           {
            "marker": {
             "colorbar": {
              "outlinewidth": 0,
              "ticks": ""
             }
            },
            "type": "scattermapbox"
           }
          ],
          "scatterpolar": [
           {
            "marker": {
             "colorbar": {
              "outlinewidth": 0,
              "ticks": ""
             }
            },
            "type": "scatterpolar"
           }
          ],
          "scatterpolargl": [
           {
            "marker": {
             "colorbar": {
              "outlinewidth": 0,
              "ticks": ""
             }
            },
            "type": "scatterpolargl"
           }
          ],
          "scatterternary": [
           {
            "marker": {
             "colorbar": {
              "outlinewidth": 0,
              "ticks": ""
             }
            },
            "type": "scatterternary"
           }
          ],
          "surface": [
           {
            "colorbar": {
             "outlinewidth": 0,
             "ticks": ""
            },
            "colorscale": [
             [
              0,
              "#0d0887"
             ],
             [
              0.1111111111111111,
              "#46039f"
             ],
             [
              0.2222222222222222,
              "#7201a8"
             ],
             [
              0.3333333333333333,
              "#9c179e"
             ],
             [
              0.4444444444444444,
              "#bd3786"
             ],
             [
              0.5555555555555556,
              "#d8576b"
             ],
             [
              0.6666666666666666,
              "#ed7953"
             ],
             [
              0.7777777777777778,
              "#fb9f3a"
             ],
             [
              0.8888888888888888,
              "#fdca26"
             ],
             [
              1,
              "#f0f921"
             ]
            ],
            "type": "surface"
           }
          ],
          "table": [
           {
            "cells": {
             "fill": {
              "color": "#EBF0F8"
             },
             "line": {
              "color": "white"
             }
            },
            "header": {
             "fill": {
              "color": "#C8D4E3"
             },
             "line": {
              "color": "white"
             }
            },
            "type": "table"
           }
          ]
         },
         "layout": {
          "annotationdefaults": {
           "arrowcolor": "#2a3f5f",
           "arrowhead": 0,
           "arrowwidth": 1
          },
          "autotypenumbers": "strict",
          "coloraxis": {
           "colorbar": {
            "outlinewidth": 0,
            "ticks": ""
           }
          },
          "colorscale": {
           "diverging": [
            [
             0,
             "#8e0152"
            ],
            [
             0.1,
             "#c51b7d"
            ],
            [
             0.2,
             "#de77ae"
            ],
            [
             0.3,
             "#f1b6da"
            ],
            [
             0.4,
             "#fde0ef"
            ],
            [
             0.5,
             "#f7f7f7"
            ],
            [
             0.6,
             "#e6f5d0"
            ],
            [
             0.7,
             "#b8e186"
            ],
            [
             0.8,
             "#7fbc41"
            ],
            [
             0.9,
             "#4d9221"
            ],
            [
             1,
             "#276419"
            ]
           ],
           "sequential": [
            [
             0,
             "#0d0887"
            ],
            [
             0.1111111111111111,
             "#46039f"
            ],
            [
             0.2222222222222222,
             "#7201a8"
            ],
            [
             0.3333333333333333,
             "#9c179e"
            ],
            [
             0.4444444444444444,
             "#bd3786"
            ],
            [
             0.5555555555555556,
             "#d8576b"
            ],
            [
             0.6666666666666666,
             "#ed7953"
            ],
            [
             0.7777777777777778,
             "#fb9f3a"
            ],
            [
             0.8888888888888888,
             "#fdca26"
            ],
            [
             1,
             "#f0f921"
            ]
           ],
           "sequentialminus": [
            [
             0,
             "#0d0887"
            ],
            [
             0.1111111111111111,
             "#46039f"
            ],
            [
             0.2222222222222222,
             "#7201a8"
            ],
            [
             0.3333333333333333,
             "#9c179e"
            ],
            [
             0.4444444444444444,
             "#bd3786"
            ],
            [
             0.5555555555555556,
             "#d8576b"
            ],
            [
             0.6666666666666666,
             "#ed7953"
            ],
            [
             0.7777777777777778,
             "#fb9f3a"
            ],
            [
             0.8888888888888888,
             "#fdca26"
            ],
            [
             1,
             "#f0f921"
            ]
           ]
          },
          "colorway": [
           "#636efa",
           "#EF553B",
           "#00cc96",
           "#ab63fa",
           "#FFA15A",
           "#19d3f3",
           "#FF6692",
           "#B6E880",
           "#FF97FF",
           "#FECB52"
          ],
          "font": {
           "color": "#2a3f5f"
          },
          "geo": {
           "bgcolor": "white",
           "lakecolor": "white",
           "landcolor": "#E5ECF6",
           "showlakes": true,
           "showland": true,
           "subunitcolor": "white"
          },
          "hoverlabel": {
           "align": "left"
          },
          "hovermode": "closest",
          "mapbox": {
           "style": "light"
          },
          "paper_bgcolor": "white",
          "plot_bgcolor": "#E5ECF6",
          "polar": {
           "angularaxis": {
            "gridcolor": "white",
            "linecolor": "white",
            "ticks": ""
           },
           "bgcolor": "#E5ECF6",
           "radialaxis": {
            "gridcolor": "white",
            "linecolor": "white",
            "ticks": ""
           }
          },
          "scene": {
           "xaxis": {
            "backgroundcolor": "#E5ECF6",
            "gridcolor": "white",
            "gridwidth": 2,
            "linecolor": "white",
            "showbackground": true,
            "ticks": "",
            "zerolinecolor": "white"
           },
           "yaxis": {
            "backgroundcolor": "#E5ECF6",
            "gridcolor": "white",
            "gridwidth": 2,
            "linecolor": "white",
            "showbackground": true,
            "ticks": "",
            "zerolinecolor": "white"
           },
           "zaxis": {
            "backgroundcolor": "#E5ECF6",
            "gridcolor": "white",
            "gridwidth": 2,
            "linecolor": "white",
            "showbackground": true,
            "ticks": "",
            "zerolinecolor": "white"
           }
          },
          "shapedefaults": {
           "line": {
            "color": "#2a3f5f"
           }
          },
          "ternary": {
           "aaxis": {
            "gridcolor": "white",
            "linecolor": "white",
            "ticks": ""
           },
           "baxis": {
            "gridcolor": "white",
            "linecolor": "white",
            "ticks": ""
           },
           "bgcolor": "#E5ECF6",
           "caxis": {
            "gridcolor": "white",
            "linecolor": "white",
            "ticks": ""
           }
          },
          "title": {
           "x": 0.05
          },
          "xaxis": {
           "automargin": true,
           "gridcolor": "white",
           "linecolor": "white",
           "ticks": "",
           "title": {
            "standoff": 15
           },
           "zerolinecolor": "white",
           "zerolinewidth": 2
          },
          "yaxis": {
           "automargin": true,
           "gridcolor": "white",
           "linecolor": "white",
           "ticks": "",
           "title": {
            "standoff": 15
           },
           "zerolinecolor": "white",
           "zerolinewidth": 2
          }
         }
        },
        "title": {
         "text": "Propiedades físico-químicas",
         "x": 0.5,
         "xanchor": "center",
         "y": 0.9,
         "yanchor": "top"
        },
        "width": 800,
        "xaxis": {
         "domain": [
          0.15,
          1
         ],
         "mirror": false,
         "rangemode": "tozero",
         "showgrid": false,
         "showline": false,
         "showticklabels": true,
         "tickmode": "array",
         "ticks": "",
         "ticktext": [
          "_feat_CyclomaticNumber",
          "_feat_LargestRingSize",
          "_feat_RingAtomCount",
          "_feat_SmallestRingSize",
          "_feat_CarboRingCount",
          "_feat_CarboaromaticRingCount",
          "_feat_AromaticAtomCount",
          "_feat_AromaticRingCount",
          "_feat_BalabanIndex",
          "_feat_Aliphatic AtomCount",
          "_feat_ChainAtomCount",
          "_feat_ASA-",
          "_feat_ASA_H",
          "_feat_LengthPerpendicularToTheMinArea",
          "_feat_minimalprojectionsize",
          "_feat_MaximalProjectionRadius",
          "_feat_ASA",
          "_feat_msareaVDWp",
          "_feat_molsurfaceareaVDWp",
          "_feat_VanderWaalsSurfaceArea",
          "_feat_MinimalProjectionArea",
          "_feat_BondCount",
          "_feat_AtomCount_C",
          "_feat_WienerPolarity",
          "_feat_AvgPol",
          "_feat_VanderWaalsVolume",
          "_feat_molsurfaceareaASAp",
          "_feat_msareaASAp",
          "_feat_ASA+",
          "_feat_RotatableBondCount",
          "_feat_MolPol",
          "_feat_MaximalProjectionArea",
          "_feat_WienerIndex",
          "_feat_HyperWienerIndex",
          "_feat_Refractivity",
          "_feat_MinimalProjectionRadius",
          "_feat_maximalprojectionsize",
          "_feat_LengthPerpendicularToTheMaxArea",
          "_feat_fr_amidine",
          "_feat_ASA_P",
          "_feat_donsitecount",
          "_feat_ProtPolarSurfaceArea",
          "_feat_Protpsa",
          "_feat_Accsitecount",
          "_feat_acceptorcount",
          "_feat_Hacceptorcount",
          "_feat_PolarSurfaceArea",
          "_feat_AtomCount_N",
          "_feat_Hdonorcount",
          "_feat_donorcount",
          "_feat_fr_quatN",
          "_feat_fr_NH2",
          "_feat_fr_guanido",
          "_feat_fr_NH1",
          "_feat_CarboaliphaticRingCount",
          "_feat_AliphaticRingCount",
          "_feat_HeteroaliphaticRingCount",
          "_feat_fr_NH0",
          "_feat_fr_Imine"
         ],
         "tickvals": [
          5,
          15,
          25,
          35,
          45,
          55,
          65,
          75,
          85,
          95,
          105,
          115,
          125,
          135,
          145,
          155,
          165,
          175,
          185,
          195,
          205,
          215,
          225,
          235,
          245,
          255,
          265,
          275,
          285,
          295,
          305,
          315,
          325,
          335,
          345,
          355,
          365,
          375,
          385,
          395,
          405,
          415,
          425,
          435,
          445,
          455,
          465,
          475,
          485,
          495,
          505,
          515,
          525,
          535,
          545,
          555,
          565,
          575,
          585
         ],
         "type": "linear",
         "zeroline": false
        },
        "xaxis2": {
         "domain": [
          0,
          0.15
         ],
         "mirror": false,
         "showgrid": false,
         "showline": false,
         "showticklabels": false,
         "ticks": "",
         "zeroline": false
        },
        "yaxis": {
         "domain": [
          0,
          0.85
         ],
         "mirror": false,
         "rangemode": "tozero",
         "showgrid": false,
         "showline": false,
         "showticklabels": false,
         "ticks": "",
         "ticktext": [
          "_feat_CyclomaticNumber",
          "_feat_LargestRingSize",
          "_feat_RingAtomCount",
          "_feat_SmallestRingSize",
          "_feat_CarboRingCount",
          "_feat_CarboaromaticRingCount",
          "_feat_AromaticAtomCount",
          "_feat_AromaticRingCount",
          "_feat_BalabanIndex",
          "_feat_Aliphatic AtomCount",
          "_feat_ChainAtomCount",
          "_feat_ASA-",
          "_feat_ASA_H",
          "_feat_LengthPerpendicularToTheMinArea",
          "_feat_minimalprojectionsize",
          "_feat_MaximalProjectionRadius",
          "_feat_ASA",
          "_feat_msareaVDWp",
          "_feat_molsurfaceareaVDWp",
          "_feat_VanderWaalsSurfaceArea",
          "_feat_MinimalProjectionArea",
          "_feat_BondCount",
          "_feat_AtomCount_C",
          "_feat_WienerPolarity",
          "_feat_AvgPol",
          "_feat_VanderWaalsVolume",
          "_feat_molsurfaceareaASAp",
          "_feat_msareaASAp",
          "_feat_ASA+",
          "_feat_RotatableBondCount",
          "_feat_MolPol",
          "_feat_MaximalProjectionArea",
          "_feat_WienerIndex",
          "_feat_HyperWienerIndex",
          "_feat_Refractivity",
          "_feat_MinimalProjectionRadius",
          "_feat_maximalprojectionsize",
          "_feat_LengthPerpendicularToTheMaxArea",
          "_feat_fr_amidine",
          "_feat_ASA_P",
          "_feat_donsitecount",
          "_feat_ProtPolarSurfaceArea",
          "_feat_Protpsa",
          "_feat_Accsitecount",
          "_feat_acceptorcount",
          "_feat_Hacceptorcount",
          "_feat_PolarSurfaceArea",
          "_feat_AtomCount_N",
          "_feat_Hdonorcount",
          "_feat_donorcount",
          "_feat_fr_quatN",
          "_feat_fr_NH2",
          "_feat_fr_guanido",
          "_feat_fr_NH1",
          "_feat_CarboaliphaticRingCount",
          "_feat_AliphaticRingCount",
          "_feat_HeteroaliphaticRingCount",
          "_feat_fr_NH0",
          "_feat_fr_Imine"
         ],
         "tickvals": [
          5,
          15,
          25,
          35,
          45,
          55,
          65,
          75,
          85,
          95,
          105,
          115,
          125,
          135,
          145,
          155,
          165,
          175,
          185,
          195,
          205,
          215,
          225,
          235,
          245,
          255,
          265,
          275,
          285,
          295,
          305,
          315,
          325,
          335,
          345,
          355,
          365,
          375,
          385,
          395,
          405,
          415,
          425,
          435,
          445,
          455,
          465,
          475,
          485,
          495,
          505,
          515,
          525,
          535,
          545,
          555,
          565,
          575,
          585
         ],
         "type": "linear",
         "zeroline": false
        },
        "yaxis2": {
         "domain": [
          0.825,
          0.975
         ],
         "mirror": false,
         "showgrid": false,
         "showline": false,
         "showticklabels": false,
         "ticks": "",
         "zeroline": false
        }
       }
      },
      "text/html": "<div>                            <div id=\"13facff4-5729-4323-af21-071524b52b29\" class=\"plotly-graph-div\" style=\"height:800px; width:800px;\"></div>            <script type=\"text/javascript\">                require([\"plotly\"], function(Plotly) {                    window.PLOTLYENV=window.PLOTLYENV || {};                                    if (document.getElementById(\"13facff4-5729-4323-af21-071524b52b29\")) {                    Plotly.newPlot(                        \"13facff4-5729-4323-af21-071524b52b29\",                        [{\"hoverinfo\": \"text\", \"marker\": {\"color\": \"rgb(61,153,112)\"}, \"mode\": \"lines\", \"type\": \"scatter\", \"x\": [15.0, 15.0, 25.0, 25.0], \"xaxis\": \"x\", \"y\": [0.0, 0.0, 0.0, 0.0], \"yaxis\": \"y2\"}, {\"hoverinfo\": \"text\", \"marker\": {\"color\": \"rgb(61,153,112)\"}, \"mode\": \"lines\", \"type\": \"scatter\", \"x\": [20.0, 20.0, 35.0, 35.0], \"xaxis\": \"x\", \"y\": [0.0, 0.0, 0.0, 0.0], \"yaxis\": \"y2\"}, {\"hoverinfo\": \"text\", \"marker\": {\"color\": \"rgb(61,153,112)\"}, \"mode\": \"lines\", \"type\": \"scatter\", \"x\": [5.0, 5.0, 27.5, 27.5], \"xaxis\": \"x\", \"y\": [0.0, 0.2226002828703737, 0.2226002828703737, 0.0], \"yaxis\": \"y2\"}, {\"hoverinfo\": \"text\", \"marker\": {\"color\": \"rgb(61,153,112)\"}, \"mode\": \"lines\", \"type\": \"scatter\", \"x\": [55.0, 55.0, 65.0, 65.0], \"xaxis\": \"x\", \"y\": [0.0, 0.0, 0.0, 0.0], \"yaxis\": \"y2\"}, {\"hoverinfo\": \"text\", \"marker\": {\"color\": \"rgb(61,153,112)\"}, \"mode\": \"lines\", \"type\": \"scatter\", \"x\": [60.0, 60.0, 75.0, 75.0], \"xaxis\": \"x\", \"y\": [0.0, 0.0, 0.0, 0.0], \"yaxis\": \"y2\"}, {\"hoverinfo\": \"text\", \"marker\": {\"color\": \"rgb(61,153,112)\"}, \"mode\": \"lines\", \"type\": \"scatter\", \"x\": [45.0, 45.0, 67.5, 67.5], \"xaxis\": \"x\", \"y\": [0.0, 0.3276521208435322, 0.3276521208435322, 0.0], \"yaxis\": \"y2\"}, {\"hoverinfo\": \"text\", \"marker\": {\"color\": \"rgb(61,153,112)\"}, \"mode\": \"lines\", \"type\": \"scatter\", \"x\": [16.25, 16.25, 56.25, 56.25], \"xaxis\": \"x\", \"y\": [0.2226002828703737, 0.7657008817379827, 0.7657008817379827, 0.3276521208435322], \"yaxis\": \"y2\"}, {\"hoverinfo\": \"text\", \"marker\": {\"color\": \"rgb(255,65,54)\"}, \"mode\": \"lines\", \"type\": \"scatter\", \"x\": [95.0, 95.0, 105.0, 105.0], \"xaxis\": \"x\", \"y\": [0.0, 0.7684918206132706, 0.7684918206132706, 0.0], \"yaxis\": \"y2\"}, {\"hoverinfo\": \"text\", \"marker\": {\"color\": \"rgb(255,65,54)\"}, \"mode\": \"lines\", \"type\": \"scatter\", \"x\": [85.0, 85.0, 100.0, 100.0], \"xaxis\": \"x\", \"y\": [0.0, 0.9058421340760913, 0.9058421340760913, 0.7684918206132706], \"yaxis\": \"y2\"}, {\"hoverinfo\": \"text\", \"marker\": {\"color\": \"rgb(35,205,205)\"}, \"mode\": \"lines\", \"type\": \"scatter\", \"x\": [135.0, 135.0, 145.0, 145.0], \"xaxis\": \"x\", \"y\": [0.0, 0.0, 0.0, 0.0], \"yaxis\": \"y2\"}, {\"hoverinfo\": \"text\", \"marker\": {\"color\": \"rgb(35,205,205)\"}, \"mode\": \"lines\", \"type\": \"scatter\", \"x\": [175.0, 175.0, 185.0, 185.0], \"xaxis\": \"x\", \"y\": [0.0, 0.0, 0.0, 0.0], \"yaxis\": \"y2\"}, {\"hoverinfo\": \"text\", \"marker\": {\"color\": \"rgb(35,205,205)\"}, \"mode\": \"lines\", \"type\": \"scatter\", \"x\": [180.0, 180.0, 195.0, 195.0], \"xaxis\": \"x\", \"y\": [0.0, 0.0, 0.0, 0.0], \"yaxis\": \"y2\"}, {\"hoverinfo\": \"text\", \"marker\": {\"color\": \"rgb(35,205,205)\"}, \"mode\": \"lines\", \"type\": \"scatter\", \"x\": [165.0, 165.0, 187.5, 187.5], \"xaxis\": \"x\", \"y\": [0.0, 0.25250409461172246, 0.25250409461172246, 0.0], \"yaxis\": \"y2\"}, {\"hoverinfo\": \"text\", \"marker\": {\"color\": \"rgb(35,205,205)\"}, \"mode\": \"lines\", \"type\": \"scatter\", \"x\": [155.0, 155.0, 176.25, 176.25], \"xaxis\": \"x\", \"y\": [0.0, 0.2899592860357415, 0.2899592860357415, 0.25250409461172246], \"yaxis\": \"y2\"}, {\"hoverinfo\": \"text\", \"marker\": {\"color\": \"rgb(35,205,205)\"}, \"mode\": \"lines\", \"type\": \"scatter\", \"x\": [140.0, 140.0, 165.625, 165.625], \"xaxis\": \"x\", \"y\": [0.0, 0.5607289497353385, 0.5607289497353385, 0.2899592860357415], \"yaxis\": \"y2\"}, {\"hoverinfo\": \"text\", \"marker\": {\"color\": \"rgb(35,205,205)\"}, \"mode\": \"lines\", \"type\": \"scatter\", \"x\": [215.0, 215.0, 225.0, 225.0], \"xaxis\": \"x\", \"y\": [0.0, 0.5734500922268384, 0.5734500922268384, 0.0], \"yaxis\": \"y2\"}, {\"hoverinfo\": \"text\", \"marker\": {\"color\": \"rgb(35,205,205)\"}, \"mode\": \"lines\", \"type\": \"scatter\", \"x\": [205.0, 205.0, 220.0, 220.0], \"xaxis\": \"x\", \"y\": [0.0, 0.5686858446086093, 0.5686858446086093, 0.5734500922268384], \"yaxis\": \"y2\"}, {\"hoverinfo\": \"text\", \"marker\": {\"color\": \"rgb(35,205,205)\"}, \"mode\": \"lines\", \"type\": \"scatter\", \"x\": [152.8125, 152.8125, 212.5, 212.5], \"xaxis\": \"x\", \"y\": [0.5607289497353385, 0.6437761269740719, 0.6437761269740719, 0.5686858446086093], \"yaxis\": \"y2\"}, {\"hoverinfo\": \"text\", \"marker\": {\"color\": \"rgb(35,205,205)\"}, \"mode\": \"lines\", \"type\": \"scatter\", \"x\": [125.0, 125.0, 182.65625, 182.65625], \"xaxis\": \"x\", \"y\": [0.0, 0.7553474210513476, 0.7553474210513476, 0.6437761269740719], \"yaxis\": \"y2\"}, {\"hoverinfo\": \"text\", \"marker\": {\"color\": \"rgb(35,205,205)\"}, \"mode\": \"lines\", \"type\": \"scatter\", \"x\": [245.0, 245.0, 255.0, 255.0], \"xaxis\": \"x\", \"y\": [0.0, 0.16255966993922116, 0.16255966993922116, 0.0], \"yaxis\": \"y2\"}, {\"hoverinfo\": \"text\", \"marker\": {\"color\": \"rgb(35,205,205)\"}, \"mode\": \"lines\", \"type\": \"scatter\", \"x\": [265.0, 265.0, 275.0, 275.0], \"xaxis\": \"x\", \"y\": [0.0, 0.0, 0.0, 0.0], \"yaxis\": \"y2\"}, {\"hoverinfo\": \"text\", \"marker\": {\"color\": \"rgb(35,205,205)\"}, \"mode\": \"lines\", \"type\": \"scatter\", \"x\": [250.0, 250.0, 270.0, 270.0], \"xaxis\": \"x\", \"y\": [0.16255966993922116, 0.3158141017295844, 0.3158141017295844, 0.0], \"yaxis\": \"y2\"}, {\"hoverinfo\": \"text\", \"marker\": {\"color\": \"rgb(35,205,205)\"}, \"mode\": \"lines\", \"type\": \"scatter\", \"x\": [260.0, 260.0, 285.0, 285.0], \"xaxis\": \"x\", \"y\": [0.3158141017295844, 0.5345571553806212, 0.5345571553806212, 0.0], \"yaxis\": \"y2\"}, {\"hoverinfo\": \"text\", \"marker\": {\"color\": \"rgb(35,205,205)\"}, \"mode\": \"lines\", \"type\": \"scatter\", \"x\": [272.5, 272.5, 295.0, 295.0], \"xaxis\": \"x\", \"y\": [0.5345571553806212, 0.7113710883153603, 0.7113710883153603, 0.0], \"yaxis\": \"y2\"}, {\"hoverinfo\": \"text\", \"marker\": {\"color\": \"rgb(35,205,205)\"}, \"mode\": \"lines\", \"type\": \"scatter\", \"x\": [235.0, 235.0, 283.75, 283.75], \"xaxis\": \"x\", \"y\": [0.0, 0.8857829567036106, 0.8857829567036106, 0.7113710883153603], \"yaxis\": \"y2\"}, {\"hoverinfo\": \"text\", \"marker\": {\"color\": \"rgb(35,205,205)\"}, \"mode\": \"lines\", \"type\": \"scatter\", \"x\": [153.828125, 153.828125, 259.375, 259.375], \"xaxis\": \"x\", \"y\": [0.7553474210513476, 1.0433159171013389, 1.0433159171013389, 0.8857829567036106], \"yaxis\": \"y2\"}, {\"hoverinfo\": \"text\", \"marker\": {\"color\": \"rgb(35,205,205)\"}, \"mode\": \"lines\", \"type\": \"scatter\", \"x\": [305.0, 305.0, 315.0, 315.0], \"xaxis\": \"x\", \"y\": [0.0, 0.2688460996461375, 0.2688460996461375, 0.0], \"yaxis\": \"y2\"}, {\"hoverinfo\": \"text\", \"marker\": {\"color\": \"rgb(35,205,205)\"}, \"mode\": \"lines\", \"type\": \"scatter\", \"x\": [325.0, 325.0, 335.0, 335.0], \"xaxis\": \"x\", \"y\": [0.0, 0.02935285008197524, 0.02935285008197524, 0.0], \"yaxis\": \"y2\"}, {\"hoverinfo\": \"text\", \"marker\": {\"color\": \"rgb(35,205,205)\"}, \"mode\": \"lines\", \"type\": \"scatter\", \"x\": [330.0, 330.0, 345.0, 345.0], \"xaxis\": \"x\", \"y\": [0.02935285008197524, 0.29594340653154144, 0.29594340653154144, 0.0], \"yaxis\": \"y2\"}, {\"hoverinfo\": \"text\", \"marker\": {\"color\": \"rgb(35,205,205)\"}, \"mode\": \"lines\", \"type\": \"scatter\", \"x\": [310.0, 310.0, 337.5, 337.5], \"xaxis\": \"x\", \"y\": [0.2688460996461375, 0.3784092454442201, 0.3784092454442201, 0.29594340653154144], \"yaxis\": \"y2\"}, {\"hoverinfo\": \"text\", \"marker\": {\"color\": \"rgb(35,205,205)\"}, \"mode\": \"lines\", \"type\": \"scatter\", \"x\": [323.75, 323.75, 355.0, 355.0], \"xaxis\": \"x\", \"y\": [0.3784092454442201, 0.7724984940230295, 0.7724984940230295, 0.0], \"yaxis\": \"y2\"}, {\"hoverinfo\": \"text\", \"marker\": {\"color\": \"rgb(35,205,205)\"}, \"mode\": \"lines\", \"type\": \"scatter\", \"x\": [206.6015625, 206.6015625, 339.375, 339.375], \"xaxis\": \"x\", \"y\": [1.0433159171013389, 1.5949448244607223, 1.5949448244607223, 0.7724984940230295], \"yaxis\": \"y2\"}, {\"hoverinfo\": \"text\", \"marker\": {\"color\": \"rgb(35,205,205)\"}, \"mode\": \"lines\", \"type\": \"scatter\", \"x\": [115.0, 115.0, 272.98828125, 272.98828125], \"xaxis\": \"x\", \"y\": [0.0, 1.724677421568404, 1.724677421568404, 1.5949448244607223], \"yaxis\": \"y2\"}, {\"hoverinfo\": \"text\", \"marker\": {\"color\": \"rgb(0,116,217)\"}, \"mode\": \"lines\", \"type\": \"scatter\", \"x\": [92.5, 92.5, 193.994140625, 193.994140625], \"xaxis\": \"x\", \"y\": [0.9058421340760913, 1.9329178763148178, 1.9329178763148178, 1.724677421568404], \"yaxis\": \"y2\"}, {\"hoverinfo\": \"text\", \"marker\": {\"color\": \"rgb(133,20,75)\"}, \"mode\": \"lines\", \"type\": \"scatter\", \"x\": [365.0, 365.0, 375.0, 375.0], \"xaxis\": \"x\", \"y\": [0.0, 0.0, 0.0, 0.0], \"yaxis\": \"y2\"}, {\"hoverinfo\": \"text\", \"marker\": {\"color\": \"rgb(0,116,217)\"}, \"mode\": \"lines\", \"type\": \"scatter\", \"x\": [143.2470703125, 143.2470703125, 370.0, 370.0], \"xaxis\": \"x\", \"y\": [1.9329178763148178, 1.926966720076081, 1.926966720076081, 0.0], \"yaxis\": \"y2\"}, {\"hoverinfo\": \"text\", \"marker\": {\"color\": \"rgb(255,220,0)\"}, \"mode\": \"lines\", \"type\": \"scatter\", \"x\": [415.0, 415.0, 425.0, 425.0], \"xaxis\": \"x\", \"y\": [0.0, 0.0, 0.0, 0.0], \"yaxis\": \"y2\"}, {\"hoverinfo\": \"text\", \"marker\": {\"color\": \"rgb(255,220,0)\"}, \"mode\": \"lines\", \"type\": \"scatter\", \"x\": [405.0, 405.0, 420.0, 420.0], \"xaxis\": \"x\", \"y\": [0.0, 0.560899270815052, 0.560899270815052, 0.0], \"yaxis\": \"y2\"}, {\"hoverinfo\": \"text\", \"marker\": {\"color\": \"rgb(255,220,0)\"}, \"mode\": \"lines\", \"type\": \"scatter\", \"x\": [445.0, 445.0, 455.0, 455.0], \"xaxis\": \"x\", \"y\": [0.0, 0.0, 0.0, 0.0], \"yaxis\": \"y2\"}, {\"hoverinfo\": \"text\", \"marker\": {\"color\": \"rgb(255,220,0)\"}, \"mode\": \"lines\", \"type\": \"scatter\", \"x\": [435.0, 435.0, 450.0, 450.0], \"xaxis\": \"x\", \"y\": [0.0, 0.3063526048416229, 0.3063526048416229, 0.0], \"yaxis\": \"y2\"}, {\"hoverinfo\": \"text\", \"marker\": {\"color\": \"rgb(255,220,0)\"}, \"mode\": \"lines\", \"type\": \"scatter\", \"x\": [442.5, 442.5, 465.0, 465.0], \"xaxis\": \"x\", \"y\": [0.3063526048416229, 0.38534580644581046, 0.38534580644581046, 0.0], \"yaxis\": \"y2\"}, {\"hoverinfo\": \"text\", \"marker\": {\"color\": \"rgb(255,220,0)\"}, \"mode\": \"lines\", \"type\": \"scatter\", \"x\": [475.0, 475.0, 485.0, 485.0], \"xaxis\": \"x\", \"y\": [0.0, 0.0, 0.0, 0.0], \"yaxis\": \"y2\"}, {\"hoverinfo\": \"text\", \"marker\": {\"color\": \"rgb(255,220,0)\"}, \"mode\": \"lines\", \"type\": \"scatter\", \"x\": [480.0, 480.0, 495.0, 495.0], \"xaxis\": \"x\", \"y\": [0.0, 0.6119268504010204, 0.6119268504010204, 0.0], \"yaxis\": \"y2\"}, {\"hoverinfo\": \"text\", \"marker\": {\"color\": \"rgb(255,220,0)\"}, \"mode\": \"lines\", \"type\": \"scatter\", \"x\": [505.0, 505.0, 515.0, 515.0], \"xaxis\": \"x\", \"y\": [0.0, 0.709173886557931, 0.709173886557931, 0.0], \"yaxis\": \"y2\"}, {\"hoverinfo\": \"text\", \"marker\": {\"color\": \"rgb(255,220,0)\"}, \"mode\": \"lines\", \"type\": \"scatter\", \"x\": [487.5, 487.5, 510.0, 510.0], \"xaxis\": \"x\", \"y\": [0.6119268504010204, 0.7438009339838272, 0.7438009339838272, 0.709173886557931], \"yaxis\": \"y2\"}, {\"hoverinfo\": \"text\", \"marker\": {\"color\": \"rgb(255,220,0)\"}, \"mode\": \"lines\", \"type\": \"scatter\", \"x\": [453.75, 453.75, 498.75, 498.75], \"xaxis\": \"x\", \"y\": [0.38534580644581046, 0.7417121303385653, 0.7417121303385653, 0.7438009339838272], \"yaxis\": \"y2\"}, {\"hoverinfo\": \"text\", \"marker\": {\"color\": \"rgb(255,220,0)\"}, \"mode\": \"lines\", \"type\": \"scatter\", \"x\": [412.5, 412.5, 476.25, 476.25], \"xaxis\": \"x\", \"y\": [0.560899270815052, 0.8691877162478583, 0.8691877162478583, 0.7417121303385653], \"yaxis\": \"y2\"}, {\"hoverinfo\": \"text\", \"marker\": {\"color\": \"rgb(255,220,0)\"}, \"mode\": \"lines\", \"type\": \"scatter\", \"x\": [395.0, 395.0, 444.375, 444.375], \"xaxis\": \"x\", \"y\": [0.0, 1.1657998922633515, 1.1657998922633515, 0.8691877162478583], \"yaxis\": \"y2\"}, {\"hoverinfo\": \"text\", \"marker\": {\"color\": \"rgb(255,220,0)\"}, \"mode\": \"lines\", \"type\": \"scatter\", \"x\": [419.6875, 419.6875, 525.0, 525.0], \"xaxis\": \"x\", \"y\": [1.1657998922633515, 1.3602672474998225, 1.3602672474998225, 0.0], \"yaxis\": \"y2\"}, {\"hoverinfo\": \"text\", \"marker\": {\"color\": \"rgb(255,220,0)\"}, \"mode\": \"lines\", \"type\": \"scatter\", \"x\": [385.0, 385.0, 472.34375, 472.34375], \"xaxis\": \"x\", \"y\": [0.0, 1.444588211084877, 1.444588211084877, 1.3602672474998225], \"yaxis\": \"y2\"}, {\"hoverinfo\": \"text\", \"marker\": {\"color\": \"rgb(40,35,35)\"}, \"mode\": \"lines\", \"type\": \"scatter\", \"x\": [535.0, 535.0, 545.0, 545.0], \"xaxis\": \"x\", \"y\": [0.0, 1.7323179083156426, 1.7323179083156426, 0.0], \"yaxis\": \"y2\"}, {\"hoverinfo\": \"text\", \"marker\": {\"color\": \"rgb(40,35,35)\"}, \"mode\": \"lines\", \"type\": \"scatter\", \"x\": [565.0, 565.0, 575.0, 575.0], \"xaxis\": \"x\", \"y\": [0.0, 0.0, 0.0, 0.0], \"yaxis\": \"y2\"}, {\"hoverinfo\": \"text\", \"marker\": {\"color\": \"rgb(40,35,35)\"}, \"mode\": \"lines\", \"type\": \"scatter\", \"x\": [570.0, 570.0, 585.0, 585.0], \"xaxis\": \"x\", \"y\": [0.0, 0.0, 0.0, 0.0], \"yaxis\": \"y2\"}, {\"hoverinfo\": \"text\", \"marker\": {\"color\": \"rgb(40,35,35)\"}, \"mode\": \"lines\", \"type\": \"scatter\", \"x\": [555.0, 555.0, 577.5, 577.5], \"xaxis\": \"x\", \"y\": [0.0, 0.9155503795041793, 0.9155503795041793, 0.0], \"yaxis\": \"y2\"}, {\"hoverinfo\": \"text\", \"marker\": {\"color\": \"rgb(40,35,35)\"}, \"mode\": \"lines\", \"type\": \"scatter\", \"x\": [540.0, 540.0, 566.25, 566.25], \"xaxis\": \"x\", \"y\": [1.7323179083156426, 1.8352227667702377, 1.8352227667702377, 0.9155503795041793], \"yaxis\": \"y2\"}, {\"hoverinfo\": \"text\", \"marker\": {\"color\": \"rgb(0,116,217)\"}, \"mode\": \"lines\", \"type\": \"scatter\", \"x\": [428.671875, 428.671875, 553.125, 553.125], \"xaxis\": \"x\", \"y\": [1.444588211084877, 2.0762534885694883, 2.0762534885694883, 1.8352227667702377], \"yaxis\": \"y2\"}, {\"hoverinfo\": \"text\", \"marker\": {\"color\": \"rgb(0,116,217)\"}, \"mode\": \"lines\", \"type\": \"scatter\", \"x\": [256.62353515625, 256.62353515625, 490.8984375, 490.8984375], \"xaxis\": \"x\", \"y\": [1.926966720076081, 2.2908809725665686, 2.2908809725665686, 2.0762534885694883], \"yaxis\": \"y2\"}, {\"hoverinfo\": \"text\", \"marker\": {\"color\": \"rgb(0,116,217)\"}, \"mode\": \"lines\", \"type\": \"scatter\", \"x\": [36.25, 36.25, 373.760986328125, 373.760986328125], \"xaxis\": \"x\", \"y\": [0.7657008817379827, 2.6250894940227956, 2.6250894940227956, 2.2908809725665686], \"yaxis\": \"y2\"}, {\"hoverinfo\": \"text\", \"marker\": {\"color\": \"rgb(61,153,112)\"}, \"mode\": \"lines\", \"type\": \"scatter\", \"x\": [-0.0, -0.0, -0.0, -0.0], \"xaxis\": \"x2\", \"y\": [15.0, 15.0, 25.0, 25.0], \"yaxis\": \"y\"}, {\"hoverinfo\": \"text\", \"marker\": {\"color\": \"rgb(61,153,112)\"}, \"mode\": \"lines\", \"type\": \"scatter\", \"x\": [-0.0, -0.0, -0.0, -0.0], \"xaxis\": \"x2\", \"y\": [20.0, 20.0, 35.0, 35.0], \"yaxis\": \"y\"}, {\"hoverinfo\": \"text\", \"marker\": {\"color\": \"rgb(61,153,112)\"}, \"mode\": \"lines\", \"type\": \"scatter\", \"x\": [-0.0, -0.2226002828703737, -0.2226002828703737, -0.0], \"xaxis\": \"x2\", \"y\": [5.0, 5.0, 27.5, 27.5], \"yaxis\": \"y\"}, {\"hoverinfo\": \"text\", \"marker\": {\"color\": \"rgb(61,153,112)\"}, \"mode\": \"lines\", \"type\": \"scatter\", \"x\": [-0.0, -0.0, -0.0, -0.0], \"xaxis\": \"x2\", \"y\": [55.0, 55.0, 65.0, 65.0], \"yaxis\": \"y\"}, {\"hoverinfo\": \"text\", \"marker\": {\"color\": \"rgb(61,153,112)\"}, \"mode\": \"lines\", \"type\": \"scatter\", \"x\": [-0.0, -0.0, -0.0, -0.0], \"xaxis\": \"x2\", \"y\": [60.0, 60.0, 75.0, 75.0], \"yaxis\": \"y\"}, {\"hoverinfo\": \"text\", \"marker\": {\"color\": \"rgb(61,153,112)\"}, \"mode\": \"lines\", \"type\": \"scatter\", \"x\": [-0.0, -0.3276521208435322, -0.3276521208435322, -0.0], \"xaxis\": \"x2\", \"y\": [45.0, 45.0, 67.5, 67.5], \"yaxis\": \"y\"}, {\"hoverinfo\": \"text\", \"marker\": {\"color\": \"rgb(61,153,112)\"}, \"mode\": \"lines\", \"type\": \"scatter\", \"x\": [-0.2226002828703737, -0.7657008817379827, -0.7657008817379827, -0.3276521208435322], \"xaxis\": \"x2\", \"y\": [16.25, 16.25, 56.25, 56.25], \"yaxis\": \"y\"}, {\"hoverinfo\": \"text\", \"marker\": {\"color\": \"rgb(255,65,54)\"}, \"mode\": \"lines\", \"type\": \"scatter\", \"x\": [-0.0, -0.7684918206132706, -0.7684918206132706, -0.0], \"xaxis\": \"x2\", \"y\": [95.0, 95.0, 105.0, 105.0], \"yaxis\": \"y\"}, {\"hoverinfo\": \"text\", \"marker\": {\"color\": \"rgb(255,65,54)\"}, \"mode\": \"lines\", \"type\": \"scatter\", \"x\": [-0.0, -0.9058421340760913, -0.9058421340760913, -0.7684918206132706], \"xaxis\": \"x2\", \"y\": [85.0, 85.0, 100.0, 100.0], \"yaxis\": \"y\"}, {\"hoverinfo\": \"text\", \"marker\": {\"color\": \"rgb(35,205,205)\"}, \"mode\": \"lines\", \"type\": \"scatter\", \"x\": [-0.0, -0.0, -0.0, -0.0], \"xaxis\": \"x2\", \"y\": [135.0, 135.0, 145.0, 145.0], \"yaxis\": \"y\"}, {\"hoverinfo\": \"text\", \"marker\": {\"color\": \"rgb(35,205,205)\"}, \"mode\": \"lines\", \"type\": \"scatter\", \"x\": [-0.0, -0.0, -0.0, -0.0], \"xaxis\": \"x2\", \"y\": [175.0, 175.0, 185.0, 185.0], \"yaxis\": \"y\"}, {\"hoverinfo\": \"text\", \"marker\": {\"color\": \"rgb(35,205,205)\"}, \"mode\": \"lines\", \"type\": \"scatter\", \"x\": [-0.0, -0.0, -0.0, -0.0], \"xaxis\": \"x2\", \"y\": [180.0, 180.0, 195.0, 195.0], \"yaxis\": \"y\"}, {\"hoverinfo\": \"text\", \"marker\": {\"color\": \"rgb(35,205,205)\"}, \"mode\": \"lines\", \"type\": \"scatter\", \"x\": [-0.0, -0.25250409461172246, -0.25250409461172246, -0.0], \"xaxis\": \"x2\", \"y\": [165.0, 165.0, 187.5, 187.5], \"yaxis\": \"y\"}, {\"hoverinfo\": \"text\", \"marker\": {\"color\": \"rgb(35,205,205)\"}, \"mode\": \"lines\", \"type\": \"scatter\", \"x\": [-0.0, -0.2899592860357415, -0.2899592860357415, -0.25250409461172246], \"xaxis\": \"x2\", \"y\": [155.0, 155.0, 176.25, 176.25], \"yaxis\": \"y\"}, {\"hoverinfo\": \"text\", \"marker\": {\"color\": \"rgb(35,205,205)\"}, \"mode\": \"lines\", \"type\": \"scatter\", \"x\": [-0.0, -0.5607289497353385, -0.5607289497353385, -0.2899592860357415], \"xaxis\": \"x2\", \"y\": [140.0, 140.0, 165.625, 165.625], \"yaxis\": \"y\"}, {\"hoverinfo\": \"text\", \"marker\": {\"color\": \"rgb(35,205,205)\"}, \"mode\": \"lines\", \"type\": \"scatter\", \"x\": [-0.0, -0.5734500922268384, -0.5734500922268384, -0.0], \"xaxis\": \"x2\", \"y\": [215.0, 215.0, 225.0, 225.0], \"yaxis\": \"y\"}, {\"hoverinfo\": \"text\", \"marker\": {\"color\": \"rgb(35,205,205)\"}, \"mode\": \"lines\", \"type\": \"scatter\", \"x\": [-0.0, -0.5686858446086093, -0.5686858446086093, -0.5734500922268384], \"xaxis\": \"x2\", \"y\": [205.0, 205.0, 220.0, 220.0], \"yaxis\": \"y\"}, {\"hoverinfo\": \"text\", \"marker\": {\"color\": \"rgb(35,205,205)\"}, \"mode\": \"lines\", \"type\": \"scatter\", \"x\": [-0.5607289497353385, -0.6437761269740719, -0.6437761269740719, -0.5686858446086093], \"xaxis\": \"x2\", \"y\": [152.8125, 152.8125, 212.5, 212.5], \"yaxis\": \"y\"}, {\"hoverinfo\": \"text\", \"marker\": {\"color\": \"rgb(35,205,205)\"}, \"mode\": \"lines\", \"type\": \"scatter\", \"x\": [-0.0, -0.7553474210513476, -0.7553474210513476, -0.6437761269740719], \"xaxis\": \"x2\", \"y\": [125.0, 125.0, 182.65625, 182.65625], \"yaxis\": \"y\"}, {\"hoverinfo\": \"text\", \"marker\": {\"color\": \"rgb(35,205,205)\"}, \"mode\": \"lines\", \"type\": \"scatter\", \"x\": [-0.0, -0.16255966993922116, -0.16255966993922116, -0.0], \"xaxis\": \"x2\", \"y\": [245.0, 245.0, 255.0, 255.0], \"yaxis\": \"y\"}, {\"hoverinfo\": \"text\", \"marker\": {\"color\": \"rgb(35,205,205)\"}, \"mode\": \"lines\", \"type\": \"scatter\", \"x\": [-0.0, -0.0, -0.0, -0.0], \"xaxis\": \"x2\", \"y\": [265.0, 265.0, 275.0, 275.0], \"yaxis\": \"y\"}, {\"hoverinfo\": \"text\", \"marker\": {\"color\": \"rgb(35,205,205)\"}, \"mode\": \"lines\", \"type\": \"scatter\", \"x\": [-0.16255966993922116, -0.3158141017295844, -0.3158141017295844, -0.0], \"xaxis\": \"x2\", \"y\": [250.0, 250.0, 270.0, 270.0], \"yaxis\": \"y\"}, {\"hoverinfo\": \"text\", \"marker\": {\"color\": \"rgb(35,205,205)\"}, \"mode\": \"lines\", \"type\": \"scatter\", \"x\": [-0.3158141017295844, -0.5345571553806212, -0.5345571553806212, -0.0], \"xaxis\": \"x2\", \"y\": [260.0, 260.0, 285.0, 285.0], \"yaxis\": \"y\"}, {\"hoverinfo\": \"text\", \"marker\": {\"color\": \"rgb(35,205,205)\"}, \"mode\": \"lines\", \"type\": \"scatter\", \"x\": [-0.5345571553806212, -0.7113710883153603, -0.7113710883153603, -0.0], \"xaxis\": \"x2\", \"y\": [272.5, 272.5, 295.0, 295.0], \"yaxis\": \"y\"}, {\"hoverinfo\": \"text\", \"marker\": {\"color\": \"rgb(35,205,205)\"}, \"mode\": \"lines\", \"type\": \"scatter\", \"x\": [-0.0, -0.8857829567036106, -0.8857829567036106, -0.7113710883153603], \"xaxis\": \"x2\", \"y\": [235.0, 235.0, 283.75, 283.75], \"yaxis\": \"y\"}, {\"hoverinfo\": \"text\", \"marker\": {\"color\": \"rgb(35,205,205)\"}, \"mode\": \"lines\", \"type\": \"scatter\", \"x\": [-0.7553474210513476, -1.0433159171013389, -1.0433159171013389, -0.8857829567036106], \"xaxis\": \"x2\", \"y\": [153.828125, 153.828125, 259.375, 259.375], \"yaxis\": \"y\"}, {\"hoverinfo\": \"text\", \"marker\": {\"color\": \"rgb(35,205,205)\"}, \"mode\": \"lines\", \"type\": \"scatter\", \"x\": [-0.0, -0.2688460996461375, -0.2688460996461375, -0.0], \"xaxis\": \"x2\", \"y\": [305.0, 305.0, 315.0, 315.0], \"yaxis\": \"y\"}, {\"hoverinfo\": \"text\", \"marker\": {\"color\": \"rgb(35,205,205)\"}, \"mode\": \"lines\", \"type\": \"scatter\", \"x\": [-0.0, -0.02935285008197524, -0.02935285008197524, -0.0], \"xaxis\": \"x2\", \"y\": [325.0, 325.0, 335.0, 335.0], \"yaxis\": \"y\"}, {\"hoverinfo\": \"text\", \"marker\": {\"color\": \"rgb(35,205,205)\"}, \"mode\": \"lines\", \"type\": \"scatter\", \"x\": [-0.02935285008197524, -0.29594340653154144, -0.29594340653154144, -0.0], \"xaxis\": \"x2\", \"y\": [330.0, 330.0, 345.0, 345.0], \"yaxis\": \"y\"}, {\"hoverinfo\": \"text\", \"marker\": {\"color\": \"rgb(35,205,205)\"}, \"mode\": \"lines\", \"type\": \"scatter\", \"x\": [-0.2688460996461375, -0.3784092454442201, -0.3784092454442201, -0.29594340653154144], \"xaxis\": \"x2\", \"y\": [310.0, 310.0, 337.5, 337.5], \"yaxis\": \"y\"}, {\"hoverinfo\": \"text\", \"marker\": {\"color\": \"rgb(35,205,205)\"}, \"mode\": \"lines\", \"type\": \"scatter\", \"x\": [-0.3784092454442201, -0.7724984940230295, -0.7724984940230295, -0.0], \"xaxis\": \"x2\", \"y\": [323.75, 323.75, 355.0, 355.0], \"yaxis\": \"y\"}, {\"hoverinfo\": \"text\", \"marker\": {\"color\": \"rgb(35,205,205)\"}, \"mode\": \"lines\", \"type\": \"scatter\", \"x\": [-1.0433159171013389, -1.5949448244607223, -1.5949448244607223, -0.7724984940230295], \"xaxis\": \"x2\", \"y\": [206.6015625, 206.6015625, 339.375, 339.375], \"yaxis\": \"y\"}, {\"hoverinfo\": \"text\", \"marker\": {\"color\": \"rgb(35,205,205)\"}, \"mode\": \"lines\", \"type\": \"scatter\", \"x\": [-0.0, -1.724677421568404, -1.724677421568404, -1.5949448244607223], \"xaxis\": \"x2\", \"y\": [115.0, 115.0, 272.98828125, 272.98828125], \"yaxis\": \"y\"}, {\"hoverinfo\": \"text\", \"marker\": {\"color\": \"rgb(0,116,217)\"}, \"mode\": \"lines\", \"type\": \"scatter\", \"x\": [-0.9058421340760913, -1.9329178763148178, -1.9329178763148178, -1.724677421568404], \"xaxis\": \"x2\", \"y\": [92.5, 92.5, 193.994140625, 193.994140625], \"yaxis\": \"y\"}, {\"hoverinfo\": \"text\", \"marker\": {\"color\": \"rgb(133,20,75)\"}, \"mode\": \"lines\", \"type\": \"scatter\", \"x\": [-0.0, -0.0, -0.0, -0.0], \"xaxis\": \"x2\", \"y\": [365.0, 365.0, 375.0, 375.0], \"yaxis\": \"y\"}, {\"hoverinfo\": \"text\", \"marker\": {\"color\": \"rgb(0,116,217)\"}, \"mode\": \"lines\", \"type\": \"scatter\", \"x\": [-1.9329178763148178, -1.926966720076081, -1.926966720076081, -0.0], \"xaxis\": \"x2\", \"y\": [143.2470703125, 143.2470703125, 370.0, 370.0], \"yaxis\": \"y\"}, {\"hoverinfo\": \"text\", \"marker\": {\"color\": \"rgb(255,220,0)\"}, \"mode\": \"lines\", \"type\": \"scatter\", \"x\": [-0.0, -0.0, -0.0, -0.0], \"xaxis\": \"x2\", \"y\": [415.0, 415.0, 425.0, 425.0], \"yaxis\": \"y\"}, {\"hoverinfo\": \"text\", \"marker\": {\"color\": \"rgb(255,220,0)\"}, \"mode\": \"lines\", \"type\": \"scatter\", \"x\": [-0.0, -0.560899270815052, -0.560899270815052, -0.0], \"xaxis\": \"x2\", \"y\": [405.0, 405.0, 420.0, 420.0], \"yaxis\": \"y\"}, {\"hoverinfo\": \"text\", \"marker\": {\"color\": \"rgb(255,220,0)\"}, \"mode\": \"lines\", \"type\": \"scatter\", \"x\": [-0.0, -0.0, -0.0, -0.0], \"xaxis\": \"x2\", \"y\": [445.0, 445.0, 455.0, 455.0], \"yaxis\": \"y\"}, {\"hoverinfo\": \"text\", \"marker\": {\"color\": \"rgb(255,220,0)\"}, \"mode\": \"lines\", \"type\": \"scatter\", \"x\": [-0.0, -0.3063526048416229, -0.3063526048416229, -0.0], \"xaxis\": \"x2\", \"y\": [435.0, 435.0, 450.0, 450.0], \"yaxis\": \"y\"}, {\"hoverinfo\": \"text\", \"marker\": {\"color\": \"rgb(255,220,0)\"}, \"mode\": \"lines\", \"type\": \"scatter\", \"x\": [-0.3063526048416229, -0.38534580644581046, -0.38534580644581046, -0.0], \"xaxis\": \"x2\", \"y\": [442.5, 442.5, 465.0, 465.0], \"yaxis\": \"y\"}, {\"hoverinfo\": \"text\", \"marker\": {\"color\": \"rgb(255,220,0)\"}, \"mode\": \"lines\", \"type\": \"scatter\", \"x\": [-0.0, -0.0, -0.0, -0.0], \"xaxis\": \"x2\", \"y\": [475.0, 475.0, 485.0, 485.0], \"yaxis\": \"y\"}, {\"hoverinfo\": \"text\", \"marker\": {\"color\": \"rgb(255,220,0)\"}, \"mode\": \"lines\", \"type\": \"scatter\", \"x\": [-0.0, -0.6119268504010204, -0.6119268504010204, -0.0], \"xaxis\": \"x2\", \"y\": [480.0, 480.0, 495.0, 495.0], \"yaxis\": \"y\"}, {\"hoverinfo\": \"text\", \"marker\": {\"color\": \"rgb(255,220,0)\"}, \"mode\": \"lines\", \"type\": \"scatter\", \"x\": [-0.0, -0.709173886557931, -0.709173886557931, -0.0], \"xaxis\": \"x2\", \"y\": [505.0, 505.0, 515.0, 515.0], \"yaxis\": \"y\"}, {\"hoverinfo\": \"text\", \"marker\": {\"color\": \"rgb(255,220,0)\"}, \"mode\": \"lines\", \"type\": \"scatter\", \"x\": [-0.6119268504010204, -0.7438009339838272, -0.7438009339838272, -0.709173886557931], \"xaxis\": \"x2\", \"y\": [487.5, 487.5, 510.0, 510.0], \"yaxis\": \"y\"}, {\"hoverinfo\": \"text\", \"marker\": {\"color\": \"rgb(255,220,0)\"}, \"mode\": \"lines\", \"type\": \"scatter\", \"x\": [-0.38534580644581046, -0.7417121303385653, -0.7417121303385653, -0.7438009339838272], \"xaxis\": \"x2\", \"y\": [453.75, 453.75, 498.75, 498.75], \"yaxis\": \"y\"}, {\"hoverinfo\": \"text\", \"marker\": {\"color\": \"rgb(255,220,0)\"}, \"mode\": \"lines\", \"type\": \"scatter\", \"x\": [-0.560899270815052, -0.8691877162478583, -0.8691877162478583, -0.7417121303385653], \"xaxis\": \"x2\", \"y\": [412.5, 412.5, 476.25, 476.25], \"yaxis\": \"y\"}, {\"hoverinfo\": \"text\", \"marker\": {\"color\": \"rgb(255,220,0)\"}, \"mode\": \"lines\", \"type\": \"scatter\", \"x\": [-0.0, -1.1657998922633515, -1.1657998922633515, -0.8691877162478583], \"xaxis\": \"x2\", \"y\": [395.0, 395.0, 444.375, 444.375], \"yaxis\": \"y\"}, {\"hoverinfo\": \"text\", \"marker\": {\"color\": \"rgb(255,220,0)\"}, \"mode\": \"lines\", \"type\": \"scatter\", \"x\": [-1.1657998922633515, -1.3602672474998225, -1.3602672474998225, -0.0], \"xaxis\": \"x2\", \"y\": [419.6875, 419.6875, 525.0, 525.0], \"yaxis\": \"y\"}, {\"hoverinfo\": \"text\", \"marker\": {\"color\": \"rgb(255,220,0)\"}, \"mode\": \"lines\", \"type\": \"scatter\", \"x\": [-0.0, -1.444588211084877, -1.444588211084877, -1.3602672474998225], \"xaxis\": \"x2\", \"y\": [385.0, 385.0, 472.34375, 472.34375], \"yaxis\": \"y\"}, {\"hoverinfo\": \"text\", \"marker\": {\"color\": \"rgb(40,35,35)\"}, \"mode\": \"lines\", \"type\": \"scatter\", \"x\": [-0.0, -1.7323179083156426, -1.7323179083156426, -0.0], \"xaxis\": \"x2\", \"y\": [535.0, 535.0, 545.0, 545.0], \"yaxis\": \"y\"}, {\"hoverinfo\": \"text\", \"marker\": {\"color\": \"rgb(40,35,35)\"}, \"mode\": \"lines\", \"type\": \"scatter\", \"x\": [-0.0, -0.0, -0.0, -0.0], \"xaxis\": \"x2\", \"y\": [565.0, 565.0, 575.0, 575.0], \"yaxis\": \"y\"}, {\"hoverinfo\": \"text\", \"marker\": {\"color\": \"rgb(40,35,35)\"}, \"mode\": \"lines\", \"type\": \"scatter\", \"x\": [-0.0, -0.0, -0.0, -0.0], \"xaxis\": \"x2\", \"y\": [570.0, 570.0, 585.0, 585.0], \"yaxis\": \"y\"}, {\"hoverinfo\": \"text\", \"marker\": {\"color\": \"rgb(40,35,35)\"}, \"mode\": \"lines\", \"type\": \"scatter\", \"x\": [-0.0, -0.9155503795041793, -0.9155503795041793, -0.0], \"xaxis\": \"x2\", \"y\": [555.0, 555.0, 577.5, 577.5], \"yaxis\": \"y\"}, {\"hoverinfo\": \"text\", \"marker\": {\"color\": \"rgb(40,35,35)\"}, \"mode\": \"lines\", \"type\": \"scatter\", \"x\": [-1.7323179083156426, -1.8352227667702377, -1.8352227667702377, -0.9155503795041793], \"xaxis\": \"x2\", \"y\": [540.0, 540.0, 566.25, 566.25], \"yaxis\": \"y\"}, {\"hoverinfo\": \"text\", \"marker\": {\"color\": \"rgb(0,116,217)\"}, \"mode\": \"lines\", \"type\": \"scatter\", \"x\": [-1.444588211084877, -2.0762534885694883, -2.0762534885694883, -1.8352227667702377], \"xaxis\": \"x2\", \"y\": [428.671875, 428.671875, 553.125, 553.125], \"yaxis\": \"y\"}, {\"hoverinfo\": \"text\", \"marker\": {\"color\": \"rgb(0,116,217)\"}, \"mode\": \"lines\", \"type\": \"scatter\", \"x\": [-1.926966720076081, -2.2908809725665686, -2.2908809725665686, -2.0762534885694883], \"xaxis\": \"x2\", \"y\": [256.62353515625, 256.62353515625, 490.8984375, 490.8984375], \"yaxis\": \"y\"}, {\"hoverinfo\": \"text\", \"marker\": {\"color\": \"rgb(0,116,217)\"}, \"mode\": \"lines\", \"type\": \"scatter\", \"x\": [-0.7657008817379827, -2.6250894940227956, -2.6250894940227956, -2.2908809725665686], \"xaxis\": \"x2\", \"y\": [36.25, 36.25, 373.760986328125, 373.760986328125], \"yaxis\": \"y\"}, {\"colorbar\": {\"title\": {\"text\": \"Correlaci\\u00f3n (abs)\"}}, \"type\": \"heatmap\", \"x\": [5, 15, 25, 35, 45, 55, 65, 75, 85, 95, 105, 115, 125, 135, 145, 155, 165, 175, 185, 195, 205, 215, 225, 235, 245, 255, 265, 275, 285, 295, 305, 315, 325, 335, 345, 355, 365, 375, 385, 395, 405, 415, 425, 435, 445, 455, 465, 475, 485, 495, 505, 515, 525, 535, 545, 555, 565, 575, 585], \"y\": [5, 15, 25, 35, 45, 55, 65, 75, 85, 95, 105, 115, 125, 135, 145, 155, 165, 175, 185, 195, 205, 215, 225, 235, 245, 255, 265, 275, 285, 295, 305, 315, 325, 335, 345, 355, 365, 375, 385, 395, 405, 415, 425, 435, 445, 455, 465, 475, 485, 495, 505, 515, 525, 535, 545, 555, 565, 575, 585], \"z\": [[1.0, 0.9964468837907493, 0.9964468837907493, 0.9964468837907493, 0.9075470878163188, 0.8604354490248182, 0.8604354490248182, 0.8604354490248182, 0.06623107250050131, 0.0642476147079002, 0.3240578671822735, 0.26040609170675166, 0.2332253609298242, 0.4614873089191161, 0.4614873089191161, 0.4421472504057532, 0.36728080937031155, 0.3423274031030006, 0.3423274031030006, 0.3423274031030006, 0.4550100142278063, 0.42063447276628707, 0.5933049918718245, 0.6017362324073491, 0.5279889997534616, 0.49336422635084765, 0.43661747401009854, 0.43661747401009854, 0.3479878613721205, 0.29765969900220574, 0.5472910465331224, 0.5123201796241794, 0.597043035283676, 0.5891431089875478, 0.5577785650649603, 0.5309189742597004, 0.08206880266004143, 0.08206880266004143, 0.18529330298222052, 0.2513072341355524, 0.31087378438466684, 0.18263466931958228, 0.18263466931958228, 0.0738265763232332, 0.030760473318362958, 0.030760473318362958, 0.015948946628449166, 0.14156290455989917, 0.14156290455989917, 0.27795563904630716, 0.21039558997830404, 0.14181666335871276, 0.13337781439295146, 0.11949291842267666, 0.239949073048688, 0.4222529634725271, 0.3420213569795332, 0.3420213569795332, 0.3420213569795332], [0.9964468837907493, 1.0, 1.0, 1.0, 0.9396921790511394, 0.8909118577774785, 0.8909118577774785, 0.8909118577774785, 0.05905953160727838, 0.08084861553688859, 0.3052003936603368, 0.2945586939727216, 0.26470626945084197, 0.4907249630425602, 0.4907249630425602, 0.4745644051593947, 0.404329916901618, 0.37547515158017053, 0.37547515158017053, 0.37547515158017053, 0.4665129737787905, 0.44209860904856085, 0.6068934976447125, 0.6309971135270699, 0.5414697627994691, 0.5121865945859027, 0.45196685387218416, 0.45196685387218416, 0.3797839839062706, 0.3180419581146699, 0.5612944090584414, 0.5350963696872163, 0.6091367554095051, 0.601022726296427, 0.570776691446072, 0.5497742461344434, 0.06429210103699219, 0.06429210103699219, 0.1846349343439288, 0.2381181874805562, 0.2866409708291216, 0.1573490541545511, 0.1573490541545511, 0.053906014758734334, 0.008247605219254417, 0.008247605219254417, 0.031189254764986914, 0.17026895731801991, 0.17026895731801991, 0.2769680303597591, 0.20964802999719725, 0.1676359265199184, 0.13290390751867745, 0.11906834619733839, 0.24844800930049146, 0.36109816925326216, 0.2616618962644557, 0.2616618962644557, 0.2616618962644557], [0.9964468837907493, 1.0, 1.0, 1.0, 0.9396921790511394, 0.8909118577774785, 0.8909118577774785, 0.8909118577774785, 0.05905953160727838, 0.08084861553688859, 0.3052003936603368, 0.2945586939727216, 0.26470626945084197, 0.4907249630425602, 0.4907249630425602, 0.4745644051593947, 0.404329916901618, 0.37547515158017053, 0.37547515158017053, 0.37547515158017053, 0.4665129737787905, 0.44209860904856085, 0.6068934976447125, 0.6309971135270699, 0.5414697627994691, 0.5121865945859027, 0.45196685387218416, 0.45196685387218416, 0.3797839839062706, 0.3180419581146699, 0.5612944090584414, 0.5350963696872163, 0.6091367554095051, 0.601022726296427, 0.570776691446072, 0.5497742461344434, 0.06429210103699219, 0.06429210103699219, 0.1846349343439288, 0.2381181874805562, 0.2866409708291216, 0.1573490541545511, 0.1573490541545511, 0.053906014758734334, 0.008247605219254417, 0.008247605219254417, 0.031189254764986914, 0.17026895731801991, 0.17026895731801991, 0.2769680303597591, 0.20964802999719725, 0.1676359265199184, 0.13290390751867745, 0.11906834619733839, 0.24844800930049146, 0.36109816925326216, 0.2616618962644557, 0.2616618962644557, 0.2616618962644557], [0.9964468837907493, 1.0, 1.0, 1.0, 0.9396921790511394, 0.8909118577774785, 0.8909118577774785, 0.8909118577774785, 0.05905953160727838, 0.08084861553688859, 0.3052003936603368, 0.2945586939727216, 0.26470626945084197, 0.4907249630425602, 0.4907249630425602, 0.4745644051593947, 0.404329916901618, 0.37547515158017053, 0.37547515158017053, 0.37547515158017053, 0.4665129737787905, 0.44209860904856085, 0.6068934976447125, 0.6309971135270699, 0.5414697627994691, 0.5121865945859027, 0.45196685387218416, 0.45196685387218416, 0.3797839839062706, 0.3180419581146699, 0.5612944090584414, 0.5350963696872163, 0.6091367554095051, 0.601022726296427, 0.570776691446072, 0.5497742461344434, 0.06429210103699219, 0.06429210103699219, 0.1846349343439288, 0.2381181874805562, 0.2866409708291216, 0.1573490541545511, 0.1573490541545511, 0.053906014758734334, 0.008247605219254417, 0.008247605219254417, 0.031189254764986914, 0.17026895731801991, 0.17026895731801991, 0.2769680303597591, 0.20964802999719725, 0.1676359265199184, 0.13290390751867745, 0.11906834619733839, 0.24844800930049146, 0.36109816925326216, 0.2616618962644557, 0.2616618962644557, 0.2616618962644557], [0.9075470878163188, 0.9396921790511394, 0.9396921790511394, 0.9396921790511394, 1.0, 0.9480890419638086, 0.9480890419638086, 0.9480890419638086, 0.025522891709019016, 0.1422208584048713, 0.2058129132953055, 0.41123383845311196, 0.3727630673212234, 0.5727803201229653, 0.5727803201229653, 0.5707391022701177, 0.5245634816554258, 0.4820222907622677, 0.4820222907622677, 0.4820222907622677, 0.4783594713337454, 0.4962208480456557, 0.6167175774889707, 0.7026633314148767, 0.5557458592257114, 0.5503428068101325, 0.4805203114539255, 0.4805203114539255, 0.4805203114539255, 0.3770423990824852, 0.576211090427053, 0.5875963605099817, 0.6127230439149856, 0.6043459847934526, 0.5809025609372108, 0.5852549033170916, 0.012701837109633565, 0.012701837109633565, 0.16816239751338102, 0.16676297586405409, 0.1668119734185335, 0.042907596804799664, 0.042907596804799664, 0.03101765040189288, 0.08379073969923054, 0.08379073969923054, 0.09074726536823846, 0.2741153342721595, 0.2741153342721595, 0.2522578307585999, 0.19094390497420607, 0.2599561949990696, 0.1210466470316286, 0.10844545012917314, 0.2643929734004634, 0.08576894075984084, 0.08422355836525108, 0.08422355836525108, 0.08422355836525108], [0.8604354490248182, 0.8909118577774785, 0.8909118577774785, 0.8909118577774785, 0.9480890419638086, 1.0, 1.0, 1.0, 0.023846493643268973, 0.2118433539699705, 0.15234708112618522, 0.4689182188791279, 0.35042959974549853, 0.5452455775741811, 0.5452455775741811, 0.5420136741427991, 0.5120233819623299, 0.4446285722014271, 0.4446285722014271, 0.4446285722014271, 0.4341774343639014, 0.4510272339373128, 0.5879161086266498, 0.6758322684795537, 0.5198382114969027, 0.5142488731500773, 0.4508426060373453, 0.4508426060373453, 0.4508426060373453, 0.35757339373821195, 0.5432115484931351, 0.5605853338279567, 0.588301629380891, 0.581867182760178, 0.5525450461188913, 0.5403957024313496, 0.032922979963184475, 0.032922979963184475, 0.1594329263527986, 0.23085424725265744, 0.15815260406646972, 0.02718347321357576, 0.02718347321357576, 0.0068666268102511255, 0.061424466492146695, 0.061424466492146695, 0.07144309145255129, 0.25988574465768094, 0.25988574465768094, 0.23916288509178954, 0.18103182393582357, 0.2464616198692249, 0.11476299961714806, 0.10281594291830175, 0.05602070420949957, 0.09858303709087159, 0.0798514327612938, 0.0798514327612938, 0.0798514327612938], [0.8604354490248182, 0.8909118577774785, 0.8909118577774785, 0.8909118577774785, 0.9480890419638086, 1.0, 1.0, 1.0, 0.023846493643268973, 0.2118433539699705, 0.15234708112618522, 0.4689182188791279, 0.35042959974549853, 0.5452455775741811, 0.5452455775741811, 0.5420136741427991, 0.5120233819623299, 0.4446285722014271, 0.4446285722014271, 0.4446285722014271, 0.4341774343639014, 0.4510272339373128, 0.5879161086266498, 0.6758322684795537, 0.5198382114969027, 0.5142488731500773, 0.4508426060373453, 0.4508426060373453, 0.4508426060373453, 0.35757339373821195, 0.5432115484931351, 0.5605853338279567, 0.588301629380891, 0.581867182760178, 0.5525450461188913, 0.5403957024313496, 0.032922979963184475, 0.032922979963184475, 0.1594329263527986, 0.23085424725265744, 0.15815260406646972, 0.02718347321357576, 0.02718347321357576, 0.0068666268102511255, 0.061424466492146695, 0.061424466492146695, 0.07144309145255129, 0.25988574465768094, 0.25988574465768094, 0.23916288509178954, 0.18103182393582357, 0.2464616198692249, 0.11476299961714806, 0.10281594291830175, 0.05602070420949957, 0.09858303709087159, 0.0798514327612938, 0.0798514327612938, 0.0798514327612938], [0.8604354490248182, 0.8909118577774785, 0.8909118577774785, 0.8909118577774785, 0.9480890419638086, 1.0, 1.0, 1.0, 0.023846493643268973, 0.2118433539699705, 0.15234708112618522, 0.4689182188791279, 0.35042959974549853, 0.5452455775741811, 0.5452455775741811, 0.5420136741427991, 0.5120233819623299, 0.4446285722014271, 0.4446285722014271, 0.4446285722014271, 0.4341774343639014, 0.4510272339373128, 0.5879161086266498, 0.6758322684795537, 0.5198382114969027, 0.5142488731500773, 0.4508426060373453, 0.4508426060373453, 0.4508426060373453, 0.35757339373821195, 0.5432115484931351, 0.5605853338279567, 0.588301629380891, 0.581867182760178, 0.5525450461188913, 0.5403957024313496, 0.032922979963184475, 0.032922979963184475, 0.1594329263527986, 0.23085424725265744, 0.15815260406646972, 0.02718347321357576, 0.02718347321357576, 0.0068666268102511255, 0.061424466492146695, 0.061424466492146695, 0.07144309145255129, 0.25988574465768094, 0.25988574465768094, 0.23916288509178954, 0.18103182393582357, 0.2464616198692249, 0.11476299961714806, 0.10281594291830175, 0.05602070420949957, 0.09858303709087159, 0.0798514327612938, 0.0798514327612938, 0.0798514327612938], [0.06623107250050131, 0.05905953160727838, 0.05905953160727838, 0.05905953160727838, 0.025522891709019016, 0.023846493643268973, 0.023846493643268973, 0.023846493643268973, 1.0, 0.7907167814506373, 0.8113983053453189, 0.17011359674014814, 0.3929604550589789, 0.24428437218681684, 0.24428437218681684, 0.36601212646184306, 0.38037633920395536, 0.4482302032799032, 0.4482302032799032, 0.4482302032799032, 0.4641818787186441, 0.5502375551816802, 0.4667399988863917, 0.4352840517131485, 0.5931162979397152, 0.6234301309764959, 0.5749304628997906, 0.5749304628997906, 0.5619802331948656, 0.5139952474258347, 0.689563082954938, 0.6983001256258313, 0.6704921346777297, 0.6741123363591098, 0.6284270481365569, 0.7217955665919372, 0.3263475836253803, 0.3263475836253803, 0.24069787893911776, 0.2607273583442675, 0.201958521764898, 0.16948377585448873, 0.16948377585448873, 0.11270500753576096, 0.12493090518951355, 0.12493090518951355, 0.14793507253899577, 0.20581991645726191, 0.20581991645726191, 0.2510334069482603, 0.24375641935172876, 0.30699987072418317, 0.1732591329811807, 0.07046810544769051, 0.007814009014234924, 0.08692239218789506, 0.10004060154768024, 0.10004060154768024, 0.10004060154768024], [0.0642476147079002, 0.08084861553688859, 0.08084861553688859, 0.08084861553688859, 0.1422208584048713, 0.2118433539699705, 0.2118433539699705, 0.2118433539699705, 0.7907167814506373, 1.0, 0.810119933017295, 0.1903134047551694, 0.37197398103535456, 0.31185016883698113, 0.31185016883698113, 0.380696559233901, 0.3784698674466485, 0.4612076069236282, 0.4612076069236282, 0.4612076069236282, 0.5057835518529885, 0.5618608923319948, 0.47239115964227163, 0.4094492558110527, 0.5796949441049155, 0.5765231352525927, 0.5419618920492933, 0.5419618920492933, 0.4821325254555721, 0.6149231427585992, 0.6079014602298023, 0.5968332715970164, 0.6046818991547849, 0.6120513274910192, 0.5771677222617357, 0.5194659081045865, 0.4902450730260483, 0.4902450730260483, 0.06479877895778484, 0.2610071485398317, 0.05448560683570541, 0.06689035404149052, 0.06689035404149052, 0.05023242775325164, 0.05611722457511864, 0.05611722457511864, 0.03352690504998449, 0.12434345116681118, 0.12434345116681118, 0.06528594413889878, 0.026031262177369317, 0.2043089913516891, 0.046643453236680725, 0.023678729417292703, 0.19593214862815864, 0.2513871409343639, 0.16579220723134844, 0.16579220723134844, 0.16579220723134844], [0.3240578671822735, 0.3052003936603368, 0.3052003936603368, 0.3052003936603368, 0.2058129132953055, 0.15234708112618522, 0.15234708112618522, 0.15234708112618522, 0.8113983053453189, 0.810119933017295, 1.0, 0.36791647390807203, 0.4362578193160846, 0.31876325095834873, 0.31876325095834873, 0.40465085108306703, 0.45782915351645403, 0.4932918684416809, 0.4932918684416809, 0.4932918684416809, 0.3966034379569661, 0.5084233767349736, 0.36861658673305864, 0.38784272276988235, 0.47780787190442164, 0.5084905941114488, 0.4747838181899877, 0.4747838181899877, 0.5176914565102566, 0.6079747537345052, 0.509440360904119, 0.5584181287340826, 0.4977940800038817, 0.5075435113592426, 0.4769140846381047, 0.440229486861374, 0.5146488688536062, 0.5146488688536062, 0.12336875478009551, 0.2809051240368001, 0.15027459812342106, 0.12943627313211625, 0.12943627313211625, 0.023623570696024557, 0.024916734942878726, 0.024916734942878726, 0.0062384242004848165, 0.02860013654253826, 0.02860013654253826, 0.147503768091455, 0.09791915745991167, 0.12244472953429412, 0.0888032897688051, 0.0025196614990341416, 0.18416029395386566, 0.36184205899293154, 0.30838329280788246, 0.30838329280788246, 0.30838329280788246], [0.26040609170675166, 0.2945586939727216, 0.2945586939727216, 0.2945586939727216, 0.41123383845311196, 0.4689182188791279, 0.4689182188791279, 0.4689182188791279, 0.17011359674014814, 0.1903134047551694, 0.36791647390807203, 1.0, 0.6558008609071226, 0.7419637484475607, 0.7419637484475607, 0.700740021185754, 0.7204128595236129, 0.6861602544913641, 0.6861602544913641, 0.6861602544913641, 0.5531551830953825, 0.5826433270724988, 0.5555317282097276, 0.6316067518231372, 0.5004838421022587, 0.4959720226213032, 0.4351340061570871, 0.4351340061570871, 0.48384624051100017, 0.6625518655138233, 0.5283613907896011, 0.5688937281642181, 0.535626242747437, 0.5403798667916934, 0.45510569330901524, 0.38281149531709163, 0.4380010561377879, 0.4380010561377879, 0.45221456662459697, 0.23291875906096188, 0.24858907739580957, 0.20941656713930587, 0.20941656713930587, 0.314807555459286, 0.35567273024785656, 0.35567273024785656, 0.3697672287742803, 0.41577461939072324, 0.41577461939072324, 0.3206007044884499, 0.32075635786241524, 0.2795163971840181, 0.12346799528016295, 0.17097343851799107, 0.13095310455614656, 0.3256272784515578, 0.3023033267102683, 0.3023033267102683, 0.3023033267102683], [0.2332253609298242, 0.26470626945084197, 0.26470626945084197, 0.26470626945084197, 0.3727630673212234, 0.35042959974549853, 0.35042959974549853, 0.35042959974549853, 0.3929604550589789, 0.37197398103535456, 0.4362578193160846, 0.6558008609071226, 1.0, 0.8620461892161981, 0.8620461892161981, 0.9366758857340857, 0.9499203939031047, 0.9493115276478866, 0.9493115276478866, 0.9493115276478866, 0.884686173861116, 0.917795693487848, 0.8538023501878916, 0.7805415602622953, 0.8213414462604488, 0.8218203154322615, 0.8263320135583585, 0.8263320135583585, 0.8683691454422823, 0.827189261271187, 0.7576044718368475, 0.7501466577260204, 0.6821337621920537, 0.6844467825125898, 0.6674329181501311, 0.5662828643789316, 0.832469187099956, 0.832469187099956, 0.3660024338876923, 0.693982104206276, 0.48719383082488765, 0.4262898643769414, 0.4262898643769414, 0.5292631373004855, 0.5854399278646069, 0.5854399278646069, 0.5808787947316739, 0.6580095848995158, 0.6580095848995158, 0.5739414429007285, 0.5615995589005325, 0.5144767801445131, 0.3620722304870863, 0.15244112753071917, 0.1076024304907132, 0.16792438126425627, 0.2807138016418544, 0.2807138016418544, 0.2807138016418544], [0.4614873089191161, 0.4907249630425602, 0.4907249630425602, 0.4907249630425602, 0.5727803201229653, 0.5452455775741811, 0.5452455775741811, 0.5452455775741811, 0.24428437218681684, 0.31185016883698113, 0.31876325095834873, 0.7419637484475607, 0.8620461892161981, 1.0, 1.0, 0.9430316922827354, 0.9301732362375251, 0.9095640778322409, 0.9095640778322409, 0.9095640778322409, 0.828054646533783, 0.8633877368205923, 0.8499683775218991, 0.8913296215435247, 0.7924178872104114, 0.77229680721318, 0.7578875210375914, 0.7578875210375914, 0.7821096043361802, 0.8483613735041695, 0.7423037084114622, 0.7553210927923869, 0.7316248018231881, 0.73347908241674, 0.674247486412046, 0.5425396120324798, 0.6343711714226183, 0.6343711714226183, 0.4618049086060528, 0.39095774547380985, 0.45975087700604844, 0.39507460180461756, 0.39507460180461756, 0.46337850291061167, 0.5183142549855795, 0.5183142549855795, 0.5068794793646285, 0.5999220957415762, 0.5999220957415762, 0.5518534863805682, 0.5498979889412272, 0.5046768191683986, 0.22690219333010678, 0.15292002904875368, 0.1447706831202169, 0.06871389887614308, 0.18666396910265876, 0.18666396910265876, 0.18666396910265876], [0.4614873089191161, 0.4907249630425602, 0.4907249630425602, 0.4907249630425602, 0.5727803201229653, 0.5452455775741811, 0.5452455775741811, 0.5452455775741811, 0.24428437218681684, 0.31185016883698113, 0.31876325095834873, 0.7419637484475607, 0.8620461892161981, 1.0, 1.0, 0.9430316922827354, 0.9301732362375251, 0.9095640778322409, 0.9095640778322409, 0.9095640778322409, 0.828054646533783, 0.8633877368205923, 0.8499683775218991, 0.8913296215435247, 0.7924178872104114, 0.77229680721318, 0.7578875210375914, 0.7578875210375914, 0.7821096043361802, 0.8483613735041695, 0.7423037084114622, 0.7553210927923869, 0.7316248018231881, 0.73347908241674, 0.674247486412046, 0.5425396120324798, 0.6343711714226183, 0.6343711714226183, 0.4618049086060528, 0.39095774547380985, 0.45975087700604844, 0.39507460180461756, 0.39507460180461756, 0.46337850291061167, 0.5183142549855795, 0.5183142549855795, 0.5068794793646285, 0.5999220957415762, 0.5999220957415762, 0.5518534863805682, 0.5498979889412272, 0.5046768191683986, 0.22690219333010678, 0.15292002904875368, 0.1447706831202169, 0.06871389887614308, 0.18666396910265876, 0.18666396910265876, 0.18666396910265876], [0.4421472504057532, 0.4745644051593947, 0.4745644051593947, 0.4745644051593947, 0.5707391022701177, 0.5420136741427991, 0.5420136741427991, 0.5420136741427991, 0.36601212646184306, 0.380696559233901, 0.40465085108306703, 0.700740021185754, 0.9366758857340857, 0.9430316922827354, 0.9430316922827354, 1.0, 0.9893722744945731, 0.9780379464301426, 0.9780379464301426, 0.9780379464301426, 0.9180508006781581, 0.9548593095345775, 0.9343464291973597, 0.8920077329241802, 0.8921330847645287, 0.8879131833942812, 0.8551807602707848, 0.8551807602707848, 0.886067584640692, 0.8495495671421616, 0.8260210571414874, 0.8358872810365999, 0.787169750602508, 0.7890468642932883, 0.755050295281412, 0.6527413609383187, 0.7274671372699417, 0.7274671372699417, 0.3660773395932965, 0.5020822289111014, 0.471056112393148, 0.4043465323703719, 0.4043465323703719, 0.5030321942585655, 0.559693571708316, 0.559693571708316, 0.5353878207602022, 0.6433876034377921, 0.6433876034377921, 0.5788824874502317, 0.5597666108244839, 0.5423502616246093, 0.36904298882512654, 0.15294761069767612, 0.14816334668283254, 0.10073410795294416, 0.2279860568896788, 0.2279860568896788, 0.2279860568896788], [0.36728080937031155, 0.404329916901618, 0.404329916901618, 0.404329916901618, 0.5245634816554258, 0.5120233819623299, 0.5120233819623299, 0.5120233819623299, 0.38037633920395536, 0.3784698674466485, 0.45782915351645403, 0.7204128595236129, 0.9499203939031047, 0.9301732362375251, 0.9301732362375251, 0.9893722744945731, 1.0, 0.9825060848666559, 0.9825060848666559, 0.9825060848666559, 0.8993441180432551, 0.9441565899064936, 0.9067427533099055, 0.885452552221369, 0.869077924554275, 0.870871748669025, 0.845339700112379, 0.845339700112379, 0.8903110008570618, 0.8606274331889737, 0.8023138162959498, 0.8198513116128114, 0.7607627518844028, 0.7632178830112404, 0.7338164089596924, 0.6277762428378981, 0.765655905844999, 0.765655905844999, 0.3660024338876923, 0.5224160950327029, 0.45687630144593777, 0.39014449037092336, 0.39014449037092336, 0.5174258796200045, 0.5759785652775978, 0.5759785652775978, 0.5570809492477716, 0.6597802184657194, 0.6597802184657194, 0.5674545675299806, 0.5598550770630601, 0.5426756651329214, 0.3620722304870863, 0.13913587861678037, 0.09413897877731019, 0.19359120647157924, 0.3023033267102683, 0.3023033267102683, 0.3023033267102683], [0.3423274031030006, 0.37547515158017053, 0.37547515158017053, 0.37547515158017053, 0.4820222907622677, 0.4446285722014271, 0.4446285722014271, 0.4446285722014271, 0.4482302032799032, 0.4612076069236282, 0.4932918684416809, 0.6861602544913641, 0.9493115276478866, 0.9095640778322409, 0.9095640778322409, 0.9780379464301426, 0.9825060848666559, 1.0, 1.0, 1.0, 0.9425151068342682, 0.9673208491751655, 0.9172920114689589, 0.8674004855348063, 0.8831837393324978, 0.8897446393609187, 0.842304428454472, 0.842304428454472, 0.8801422548327791, 0.854798883679441, 0.8218170243051764, 0.8243227354897031, 0.7711747634416707, 0.7729020013784415, 0.7419084152296544, 0.6679088938252378, 0.7981106791025532, 0.7981106791025532, 0.3660024338876923, 0.5816133934624684, 0.4630177790924802, 0.41366269848365106, 0.41366269848365106, 0.5305164810775265, 0.5821709211356351, 0.5821709211356351, 0.5627233690787579, 0.6409622864876635, 0.6409622864876635, 0.5620220724482803, 0.5473804755604211, 0.5166125880525327, 0.3413864930579491, 0.15624262722041596, 0.16496234456135733, 0.12243157889358453, 0.26632078492957845, 0.26632078492957845, 0.26632078492957845], [0.3423274031030006, 0.37547515158017053, 0.37547515158017053, 0.37547515158017053, 0.4820222907622677, 0.4446285722014271, 0.4446285722014271, 0.4446285722014271, 0.4482302032799032, 0.4612076069236282, 0.4932918684416809, 0.6861602544913641, 0.9493115276478866, 0.9095640778322409, 0.9095640778322409, 0.9780379464301426, 0.9825060848666559, 1.0, 1.0, 1.0, 0.9425151068342682, 0.9673208491751655, 0.9172920114689589, 0.8674004855348063, 0.8831837393324978, 0.8897446393609187, 0.842304428454472, 0.842304428454472, 0.8801422548327791, 0.854798883679441, 0.8218170243051764, 0.8243227354897031, 0.7711747634416707, 0.7729020013784415, 0.7419084152296544, 0.6679088938252378, 0.7981106791025532, 0.7981106791025532, 0.3660024338876923, 0.5816133934624684, 0.4630177790924802, 0.41366269848365106, 0.41366269848365106, 0.5305164810775265, 0.5821709211356351, 0.5821709211356351, 0.5627233690787579, 0.6409622864876635, 0.6409622864876635, 0.5620220724482803, 0.5473804755604211, 0.5166125880525327, 0.3413864930579491, 0.15624262722041596, 0.16496234456135733, 0.12243157889358453, 0.26632078492957845, 0.26632078492957845, 0.26632078492957845], [0.3423274031030006, 0.37547515158017053, 0.37547515158017053, 0.37547515158017053, 0.4820222907622677, 0.4446285722014271, 0.4446285722014271, 0.4446285722014271, 0.4482302032799032, 0.4612076069236282, 0.4932918684416809, 0.6861602544913641, 0.9493115276478866, 0.9095640778322409, 0.9095640778322409, 0.9780379464301426, 0.9825060848666559, 1.0, 1.0, 1.0, 0.9425151068342682, 0.9673208491751655, 0.9172920114689589, 0.8674004855348063, 0.8831837393324978, 0.8897446393609187, 0.842304428454472, 0.842304428454472, 0.8801422548327791, 0.854798883679441, 0.8218170243051764, 0.8243227354897031, 0.7711747634416707, 0.7729020013784415, 0.7419084152296544, 0.6679088938252378, 0.7981106791025532, 0.7981106791025532, 0.3660024338876923, 0.5816133934624684, 0.4630177790924802, 0.41366269848365106, 0.41366269848365106, 0.5305164810775265, 0.5821709211356351, 0.5821709211356351, 0.5627233690787579, 0.6409622864876635, 0.6409622864876635, 0.5620220724482803, 0.5473804755604211, 0.5166125880525327, 0.3413864930579491, 0.15624262722041596, 0.16496234456135733, 0.12243157889358453, 0.26632078492957845, 0.26632078492957845, 0.26632078492957845], [0.4550100142278063, 0.4665129737787905, 0.4665129737787905, 0.4665129737787905, 0.4783594713337454, 0.4341774343639014, 0.4341774343639014, 0.4341774343639014, 0.4641818787186441, 0.5057835518529885, 0.3966034379569661, 0.5531551830953825, 0.884686173861116, 0.828054646533783, 0.828054646533783, 0.9180508006781581, 0.8993441180432551, 0.9425151068342682, 0.9425151068342682, 0.9425151068342682, 1.0, 0.9570574809010548, 0.950329412573049, 0.8284904024013465, 0.9031806961978444, 0.8972112472451945, 0.8316310449539354, 0.8316310449539354, 0.8116066186932042, 0.7908236073405892, 0.8495570162021508, 0.8106614245523744, 0.7984090894982095, 0.7967428900858272, 0.7731492734537244, 0.7187689547462708, 0.7550847668365992, 0.7550847668365992, 0.4037202419600881, 0.5615755172191534, 0.5668856219207159, 0.5132625031782461, 0.5132625031782461, 0.48403721364704894, 0.5316267029033299, 0.5316267029033299, 0.5261649396936174, 0.5782975654677827, 0.5782975654677827, 0.6023966083928373, 0.5982635786290318, 0.483818650812909, 0.3689674762967987, 0.14673887799617397, 0.18515752213146186, 0.11622053625527401, 0.009245514207538377, 0.009245514207538377, 0.009245514207538377], [0.42063447276628707, 0.44209860904856085, 0.44209860904856085, 0.44209860904856085, 0.4962208480456557, 0.4510272339373128, 0.4510272339373128, 0.4510272339373128, 0.5502375551816802, 0.5618608923319948, 0.5084233767349736, 0.5826433270724988, 0.917795693487848, 0.8633877368205923, 0.8633877368205923, 0.9548593095345775, 0.9441565899064936, 0.9673208491751655, 0.9673208491751655, 0.9673208491751655, 0.9570574809010548, 1.0, 0.9707652748595985, 0.8884854143132692, 0.9679922351513445, 0.9677987939341502, 0.9334621881353824, 0.9334621881353824, 0.932637450787738, 0.8761335351407161, 0.914741879918441, 0.9026495946683026, 0.8660577861251426, 0.8677621676021727, 0.8384762418923409, 0.77110814454745, 0.749991883473187, 0.749991883473187, 0.2241943033512761, 0.5300316829381366, 0.43699525707284786, 0.37639045312913233, 0.37639045312913233, 0.40472268745385725, 0.45228430670266484, 0.45228430670266484, 0.43915888682249604, 0.5108769353549817, 0.5108769353549817, 0.4847006031001691, 0.45990097336569286, 0.3916133844960866, 0.3788878640415018, 0.15190413942129366, 0.19013583195927714, 0.019112995433260293, 0.11228694567083876, 0.11228694567083876, 0.11228694567083876], [0.5933049918718245, 0.6068934976447125, 0.6068934976447125, 0.6068934976447125, 0.6167175774889707, 0.5879161086266498, 0.5879161086266498, 0.5879161086266498, 0.4667399988863917, 0.47239115964227163, 0.36861658673305864, 0.5555317282097276, 0.8538023501878916, 0.8499683775218991, 0.8499683775218991, 0.9343464291973597, 0.9067427533099055, 0.9172920114689589, 0.9172920114689589, 0.9172920114689589, 0.950329412573049, 0.9707652748595985, 1.0, 0.9096087381760758, 0.9760972365269428, 0.9655231951359453, 0.9251987061844641, 0.9251987061844641, 0.894588488850099, 0.8274967018516838, 0.9275497435948842, 0.90231636048332, 0.8965149516300388, 0.895830262553189, 0.8673180878874643, 0.7882538698360319, 0.6314948771183951, 0.6314948771183951, 0.24234357885942195, 0.41359432388146833, 0.4915499890881038, 0.4153817017574534, 0.4153817017574534, 0.3615155868432161, 0.4102165391418768, 0.4102165391418768, 0.4105603415510597, 0.4924261125462147, 0.4924261125462147, 0.5190790252931492, 0.4747465087562953, 0.392327109743909, 0.4029064042356334, 0.16332010680040765, 0.15331192355469583, 0.11280697408282885, 0.027794301090376217, 0.027794301090376217, 0.027794301090376217], [0.6017362324073491, 0.6309971135270699, 0.6309971135270699, 0.6309971135270699, 0.7026633314148767, 0.6758322684795537, 0.6758322684795537, 0.6758322684795537, 0.4352840517131485, 0.4094492558110527, 0.38784272276988235, 0.6316067518231372, 0.7805415602622953, 0.8913296215435247, 0.8913296215435247, 0.8920077329241802, 0.885452552221369, 0.8674004855348063, 0.8674004855348063, 0.8674004855348063, 0.8284904024013465, 0.8884854143132692, 0.9096087381760758, 1.0, 0.8921685893219349, 0.8827996109833958, 0.8599528791684432, 0.8599528791684432, 0.8599528791684432, 0.8892327559585307, 0.8883128436048705, 0.8993819264598456, 0.9075549938488746, 0.9066049840828813, 0.8875463486519887, 0.7502766240118605, 0.5095243432946025, 0.5095243432946025, 0.2885410879978933, 0.22568434214384916, 0.30239748839548647, 0.22115140713459422, 0.22115140713459422, 0.2527799495977336, 0.303276519466103, 0.303276519466103, 0.3022780255223634, 0.396760607653404, 0.396760607653404, 0.35581734748381993, 0.40012353881255097, 0.3527583574307289, 0.20769762889604299, 0.028102595126064174, 0.1565292289563218, 0.027125465526968963, 0.14451481142703057, 0.14451481142703057, 0.14451481142703057], [0.5279889997534616, 0.5414697627994691, 0.5414697627994691, 0.5414697627994691, 0.5557458592257114, 0.5198382114969027, 0.5198382114969027, 0.5198382114969027, 0.5931162979397152, 0.5796949441049155, 0.47780787190442164, 0.5004838421022587, 0.8213414462604488, 0.7924178872104114, 0.7924178872104114, 0.8921330847645287, 0.869077924554275, 0.8831837393324978, 0.8831837393324978, 0.8831837393324978, 0.9031806961978444, 0.9679922351513445, 0.9760972365269428, 0.8921685893219349, 1.0, 0.9945664108211634, 0.9659141216493848, 0.9659141216493848, 0.9339895804757258, 0.8429276810883655, 0.9643249499062505, 0.9496205491234653, 0.9317862209063567, 0.9325233091057196, 0.8998493294415266, 0.8473262959250722, 0.6069198352871196, 0.6069198352871196, 0.07065149801168676, 0.3754041558597524, 0.36134342647944884, 0.2894021020016203, 0.2894021020016203, 0.24616176712738888, 0.28864286116568166, 0.28864286116568166, 0.2811360723495725, 0.3519938791478395, 0.3519938791478395, 0.36551526395725753, 0.3299865241487806, 0.24215719204179612, 0.36899591317068625, 0.1434236187881006, 0.16834118079580038, 0.10635687685777186, 0.009246226773112405, 0.009246226773112405, 0.009246226773112405], [0.49336422635084765, 0.5121865945859027, 0.5121865945859027, 0.5121865945859027, 0.5503428068101325, 0.5142488731500773, 0.5142488731500773, 0.5142488731500773, 0.6234301309764959, 0.5765231352525927, 0.5084905941114488, 0.4959720226213032, 0.8218203154322615, 0.77229680721318, 0.77229680721318, 0.8879131833942812, 0.870871748669025, 0.8897446393609187, 0.8897446393609187, 0.8897446393609187, 0.8972112472451945, 0.9677987939341502, 0.9655231951359453, 0.8827996109833958, 0.9945664108211634, 1.0, 0.9607430018827922, 0.9607430018827922, 0.9434035341761469, 0.8271692299509674, 0.9604754413935633, 0.9515375771031095, 0.9227575148834106, 0.9231458886038472, 0.8931948188122025, 0.8668998581043015, 0.6092904192156354, 0.6092904192156354, 0.032329549776339235, 0.39097161120424184, 0.3227585101827089, 0.2592493844104783, 0.2592493844104783, 0.25690393988071347, 0.297221855459598, 0.297221855459598, 0.28439778336292904, 0.3519667525450961, 0.3519667525450961, 0.3384198355900108, 0.2995975669808757, 0.23148523622164366, 0.3689674762967987, 0.14341256576768927, 0.1683282074897081, 0.048680589155235106, 0.06082049075986057, 0.06082049075986057, 0.06082049075986057], [0.43661747401009854, 0.45196685387218416, 0.45196685387218416, 0.45196685387218416, 0.4805203114539255, 0.4508426060373453, 0.4508426060373453, 0.4508426060373453, 0.5749304628997906, 0.5419618920492933, 0.4747838181899877, 0.4351340061570871, 0.8263320135583585, 0.7578875210375914, 0.7578875210375914, 0.8551807602707848, 0.845339700112379, 0.842304428454472, 0.842304428454472, 0.842304428454472, 0.8316310449539354, 0.9334621881353824, 0.9251987061844641, 0.8599528791684432, 0.9659141216493848, 0.9607430018827922, 1.0, 1.0, 0.9760283253301674, 0.8382910208790105, 0.9165372184099708, 0.9101327349548252, 0.8831989743501031, 0.8848424454059953, 0.8622890092191344, 0.7754596553712353, 0.6155343753589658, 0.6155343753589658, 0.010776516592113079, 0.4053797134683844, 0.3360560907122722, 0.2531960368054884, 0.2531960368054884, 0.2169939544121075, 0.26218658717231996, 0.26218658717231996, 0.2643998272925442, 0.33871320971616287, 0.33871320971616287, 0.3319757415135821, 0.296625103341575, 0.21281585591786312, 0.42068181986964187, 0.12202913001314478, 0.14140130406290205, 0.050654960325029176, 0.03923096569144663, 0.03923096569144663, 0.03923096569144663], [0.43661747401009854, 0.45196685387218416, 0.45196685387218416, 0.45196685387218416, 0.4805203114539255, 0.4508426060373453, 0.4508426060373453, 0.4508426060373453, 0.5749304628997906, 0.5419618920492933, 0.4747838181899877, 0.4351340061570871, 0.8263320135583585, 0.7578875210375914, 0.7578875210375914, 0.8551807602707848, 0.845339700112379, 0.842304428454472, 0.842304428454472, 0.842304428454472, 0.8316310449539354, 0.9334621881353824, 0.9251987061844641, 0.8599528791684432, 0.9659141216493848, 0.9607430018827922, 1.0, 1.0, 0.9760283253301674, 0.8382910208790105, 0.9165372184099708, 0.9101327349548252, 0.8831989743501031, 0.8848424454059953, 0.8622890092191344, 0.7754596553712353, 0.6155343753589658, 0.6155343753589658, 0.010776516592113079, 0.4053797134683844, 0.3360560907122722, 0.2531960368054884, 0.2531960368054884, 0.2169939544121075, 0.26218658717231996, 0.26218658717231996, 0.2643998272925442, 0.33871320971616287, 0.33871320971616287, 0.3319757415135821, 0.296625103341575, 0.21281585591786312, 0.42068181986964187, 0.12202913001314478, 0.14140130406290205, 0.050654960325029176, 0.03923096569144663, 0.03923096569144663, 0.03923096569144663], [0.3479878613721205, 0.3797839839062706, 0.3797839839062706, 0.3797839839062706, 0.4805203114539255, 0.4508426060373453, 0.4508426060373453, 0.4508426060373453, 0.5619802331948656, 0.4821325254555721, 0.5176914565102566, 0.48384624051100017, 0.8683691454422823, 0.7821096043361802, 0.7821096043361802, 0.886067584640692, 0.8903110008570618, 0.8801422548327791, 0.8801422548327791, 0.8801422548327791, 0.8116066186932042, 0.932637450787738, 0.894588488850099, 0.8599528791684432, 0.9339895804757258, 0.9434035341761469, 0.9760283253301674, 0.9760283253301674, 1.0, 0.8382910208790105, 0.8785219363776917, 0.8940983751463283, 0.8371229331816303, 0.8387664042375226, 0.8289770328067988, 0.7509978590159596, 0.655156806861353, 0.655156806861353, 0.010776516592113079, 0.4504206734175669, 0.26222079327945197, 0.18703381001096617, 0.18703381001096617, 0.2761371860402861, 0.32404382893435657, 0.32404382893435657, 0.3060136984021262, 0.40238224170089926, 0.40238224170089926, 0.3173802719293993, 0.296625103341575, 0.2826606627090752, 0.42068181986964187, 0.09209231995678248, 0.14140130406290205, 0.12243157889358453, 0.2495289320985898, 0.2495289320985898, 0.2495289320985898], [0.29765969900220574, 0.3180419581146699, 0.3180419581146699, 0.3180419581146699, 0.3770423990824852, 0.35757339373821195, 0.35757339373821195, 0.35757339373821195, 0.5139952474258347, 0.6149231427585992, 0.6079747537345052, 0.6625518655138233, 0.827189261271187, 0.8483613735041695, 0.8483613735041695, 0.8495495671421616, 0.8606274331889737, 0.854798883679441, 0.854798883679441, 0.854798883679441, 0.7908236073405892, 0.8761335351407161, 0.8274967018516838, 0.8892327559585307, 0.8429276810883655, 0.8271692299509674, 0.8382910208790105, 0.8382910208790105, 0.8382910208790105, 1.0, 0.8244066251492633, 0.8338224648844667, 0.8243078803150283, 0.8288671680658172, 0.8176617244220107, 0.6024187896136562, 0.6864130934438853, 0.6864130934438853, 0.2743380754104577, 0.4031957776141031, 0.30933006238781113, 0.2565012227455928, 0.2565012227455928, 0.27822946504797547, 0.31863493886110267, 0.31863493886110267, 0.3316773817786563, 0.3606711427889107, 0.3606711427889107, 0.32096926354590577, 0.39674296939102033, 0.2937108406717541, 0.19747401721543353, 0.00883349792229151, 0.09937309152607308, 0.05479769030824186, 0.13740128142681102, 0.13740128142681102, 0.13740128142681102], [0.5472910465331224, 0.5612944090584414, 0.5612944090584414, 0.5612944090584414, 0.576211090427053, 0.5432115484931351, 0.5432115484931351, 0.5432115484931351, 0.689563082954938, 0.6079014602298023, 0.509440360904119, 0.5283613907896011, 0.7576044718368475, 0.7423037084114622, 0.7423037084114622, 0.8260210571414874, 0.8023138162959498, 0.8218170243051764, 0.8218170243051764, 0.8218170243051764, 0.8495570162021508, 0.914741879918441, 0.9275497435948842, 0.8883128436048705, 0.9643249499062505, 0.9604754413935633, 0.9165372184099708, 0.9165372184099708, 0.8785219363776917, 0.8244066251492633, 1.0, 0.9871323223726475, 0.9830293476197656, 0.982865798750918, 0.9335980173949051, 0.9145102023146623, 0.4996092108469407, 0.4996092108469407, 0.07069601572820254, 0.29023056653592694, 0.21966673414625354, 0.14683351969394384, 0.14683351969394384, 0.09304161090834545, 0.13082872682899227, 0.13082872682899227, 0.13164841784810902, 0.19705662073769786, 0.19705662073769786, 0.20757009655922973, 0.18350231294219357, 0.08978568009564343, 0.12887415894759435, 0.14731817862945532, 0.16171076638049842, 0.10247235765745705, 0.009252052847773383, 0.009252052847773383, 0.009252052847773383], [0.5123201796241794, 0.5350963696872163, 0.5350963696872163, 0.5350963696872163, 0.5875963605099817, 0.5605853338279567, 0.5605853338279567, 0.5605853338279567, 0.6983001256258313, 0.5968332715970164, 0.5584181287340826, 0.5688937281642181, 0.7501466577260204, 0.7553210927923869, 0.7553210927923869, 0.8358872810365999, 0.8198513116128114, 0.8243227354897031, 0.8243227354897031, 0.8243227354897031, 0.8106614245523744, 0.9026495946683026, 0.90231636048332, 0.8993819264598456, 0.9496205491234653, 0.9515375771031095, 0.9101327349548252, 0.9101327349548252, 0.8940983751463283, 0.8338224648844667, 0.9871323223726475, 1.0, 0.9784132255555225, 0.9790124809341144, 0.9218157456270573, 0.9095684034130597, 0.48276568920417623, 0.48276568920417623, 0.032329549776339235, 0.24901194122940695, 0.14557457289725867, 0.07674988453268378, 0.07674988453268378, 0.08784008228187053, 0.12580417558178694, 0.12580417558178694, 0.11330773184211694, 0.18953311594681424, 0.18953311594681424, 0.15828567174827732, 0.1398652627008542, 0.07948989359814941, 0.1012020973529666, 0.13961106607799248, 0.1447671669912528, 0.0032700522499714327, 0.09920186865926313, 0.09920186865926313, 0.09920186865926313], [0.597043035283676, 0.6091367554095051, 0.6091367554095051, 0.6091367554095051, 0.6127230439149856, 0.588301629380891, 0.588301629380891, 0.588301629380891, 0.6704921346777297, 0.6046818991547849, 0.4977940800038817, 0.535626242747437, 0.6821337621920537, 0.7316248018231881, 0.7316248018231881, 0.787169750602508, 0.7607627518844028, 0.7711747634416707, 0.7711747634416707, 0.7711747634416707, 0.7984090894982095, 0.8660577861251426, 0.8965149516300388, 0.9075549938488746, 0.9317862209063567, 0.9227575148834106, 0.8831989743501031, 0.8831989743501031, 0.8371229331816303, 0.8243078803150283, 0.9830293476197656, 0.9784132255555225, 1.0, 0.9995715591839943, 0.9571757224823869, 0.8959744948465692, 0.4096276234968113, 0.4096276234968113, 0.08813242744870742, 0.1648273561747586, 0.17581536996339528, 0.09947168590131894, 0.09947168590131894, 0.016867516378298943, 0.05209889591278342, 0.05209889591278342, 0.06679782526471446, 0.12268674271244172, 0.12268674271244172, 0.14491973122263102, 0.15383783912102358, 0.04800031833554973, 0.0634394787132802, 0.08291226587433578, 0.13960124967630344, 0.11942125359589918, 0.04560210609574801, 0.04560210609574801, 0.04560210609574801], [0.5891431089875478, 0.601022726296427, 0.601022726296427, 0.601022726296427, 0.6043459847934526, 0.581867182760178, 0.581867182760178, 0.581867182760178, 0.6741123363591098, 0.6120513274910192, 0.5075435113592426, 0.5403798667916934, 0.6844467825125898, 0.73347908241674, 0.73347908241674, 0.7890468642932883, 0.7632178830112404, 0.7729020013784415, 0.7729020013784415, 0.7729020013784415, 0.7967428900858272, 0.8677621676021727, 0.895830262553189, 0.9066049840828813, 0.9325233091057196, 0.9231458886038472, 0.8848424454059953, 0.8848424454059953, 0.8387664042375226, 0.8288671680658172, 0.982865798750918, 0.9790124809341144, 0.9995715591839943, 1.0, 0.956818274084537, 0.8905298690675065, 0.41495698024508815, 0.41495698024508815, 0.08813242744870742, 0.16719602582175247, 0.17581536996339528, 0.09947168590131894, 0.09947168590131894, 0.016867516378298943, 0.05209889591278342, 0.05209889591278342, 0.06679782526471446, 0.12268674271244172, 0.12268674271244172, 0.14491973122263102, 0.15383783912102358, 0.04800031833554973, 0.0634394787132802, 0.08291226587433578, 0.13281385035043605, 0.11543985392748234, 0.04560210609574801, 0.04560210609574801, 0.04560210609574801], [0.5577785650649603, 0.570776691446072, 0.570776691446072, 0.570776691446072, 0.5809025609372108, 0.5525450461188913, 0.5525450461188913, 0.5525450461188913, 0.6284270481365569, 0.5771677222617357, 0.4769140846381047, 0.45510569330901524, 0.6674329181501311, 0.674247486412046, 0.674247486412046, 0.755050295281412, 0.7338164089596924, 0.7419084152296544, 0.7419084152296544, 0.7419084152296544, 0.7731492734537244, 0.8384762418923409, 0.8673180878874643, 0.8875463486519887, 0.8998493294415266, 0.8931948188122025, 0.8622890092191344, 0.8622890092191344, 0.8289770328067988, 0.8176617244220107, 0.9335980173949051, 0.9218157456270573, 0.9571757224823869, 0.956818274084537, 1.0, 0.8378383756926141, 0.41555766422343093, 0.41555766422343093, 0.11375338848319172, 0.16601206886952435, 0.1452208972281486, 0.07008687042468176, 0.07008687042468176, 0.005798910417488819, 0.039628892120462056, 0.039628892120462056, 0.05764086201638962, 0.1000943751452733, 0.1000943751452733, 0.1110883554611743, 0.23973513513317674, 0.1330547632380979, 0.15981346942769725, 0.15521478578242795, 0.14813468233688734, 0.10634986672104864, 0.02363879460656318, 0.02363879460656318, 0.02363879460656318], [0.5309189742597004, 0.5497742461344434, 0.5497742461344434, 0.5497742461344434, 0.5852549033170916, 0.5403957024313496, 0.5403957024313496, 0.5403957024313496, 0.7217955665919372, 0.5194659081045865, 0.440229486861374, 0.38281149531709163, 0.5662828643789316, 0.5425396120324798, 0.5425396120324798, 0.6527413609383187, 0.6277762428378981, 0.6679088938252378, 0.6679088938252378, 0.6679088938252378, 0.7187689547462708, 0.77110814454745, 0.7882538698360319, 0.7502766240118605, 0.8473262959250722, 0.8668998581043015, 0.7754596553712353, 0.7754596553712353, 0.7509978590159596, 0.6024187896136562, 0.9145102023146623, 0.9095684034130597, 0.8959744948465692, 0.8905298690675065, 0.8378383756926141, 1.0, 0.31262684849409783, 0.31262684849409783, 0.12414449083738327, 0.14336824502990617, 0.003529323252709044, 0.06648817897351754, 0.06648817897351754, 0.059775628028730356, 0.031019908554216317, 0.031019908554216317, 0.06459333325590443, 0.016733827900990445, 0.016733827900990445, 0.002267565357773273, 0.02430016136869525, 0.06946068101937179, 0.030242176287585833, 0.1339249820072048, 0.1986449513561076, 0.07550824512851587, 0.049831840186190045, 0.049831840186190045, 0.049831840186190045], [0.08206880266004143, 0.06429210103699219, 0.06429210103699219, 0.06429210103699219, 0.012701837109633565, 0.032922979963184475, 0.032922979963184475, 0.032922979963184475, 0.3263475836253803, 0.4902450730260483, 0.5146488688536062, 0.4380010561377879, 0.832469187099956, 0.6343711714226183, 0.6343711714226183, 0.7274671372699417, 0.765655905844999, 0.7981106791025532, 0.7981106791025532, 0.7981106791025532, 0.7550847668365992, 0.749991883473187, 0.6314948771183951, 0.5095243432946025, 0.6069198352871196, 0.6092904192156354, 0.6155343753589658, 0.6155343753589658, 0.655156806861353, 0.6864130934438853, 0.4996092108469407, 0.48276568920417623, 0.4096276234968113, 0.41495698024508815, 0.41555766422343093, 0.31262684849409783, 1.0, 1.0, 0.3564407035114978, 0.7770060285795225, 0.514497773728353, 0.4574946493990836, 0.4574946493990836, 0.5353515503627531, 0.5880558930381578, 0.5880558930381578, 0.5866773167457446, 0.6570873636565862, 0.6570873636565862, 0.5941794013022291, 0.5810954521635914, 0.5351243614717508, 0.42070235153374824, 0.12773761356507995, 0.13972519164951563, 0.10170564518211019, 0.223152625377821, 0.223152625377821, 0.223152625377821], [0.08206880266004143, 0.06429210103699219, 0.06429210103699219, 0.06429210103699219, 0.012701837109633565, 0.032922979963184475, 0.032922979963184475, 0.032922979963184475, 0.3263475836253803, 0.4902450730260483, 0.5146488688536062, 0.4380010561377879, 0.832469187099956, 0.6343711714226183, 0.6343711714226183, 0.7274671372699417, 0.765655905844999, 0.7981106791025532, 0.7981106791025532, 0.7981106791025532, 0.7550847668365992, 0.749991883473187, 0.6314948771183951, 0.5095243432946025, 0.6069198352871196, 0.6092904192156354, 0.6155343753589658, 0.6155343753589658, 0.655156806861353, 0.6864130934438853, 0.4996092108469407, 0.48276568920417623, 0.4096276234968113, 0.41495698024508815, 0.41555766422343093, 0.31262684849409783, 1.0, 1.0, 0.3564407035114978, 0.7770060285795225, 0.514497773728353, 0.4574946493990836, 0.4574946493990836, 0.5353515503627531, 0.5880558930381578, 0.5880558930381578, 0.5866773167457446, 0.6570873636565862, 0.6570873636565862, 0.5941794013022291, 0.5810954521635914, 0.5351243614717508, 0.42070235153374824, 0.12773761356507995, 0.13972519164951563, 0.10170564518211019, 0.223152625377821, 0.223152625377821, 0.223152625377821], [0.18529330298222052, 0.1846349343439288, 0.1846349343439288, 0.1846349343439288, 0.16816239751338102, 0.1594329263527986, 0.1594329263527986, 0.1594329263527986, 0.24069787893911776, 0.06479877895778484, 0.12336875478009551, 0.45221456662459697, 0.3660024338876923, 0.4618049086060528, 0.4618049086060528, 0.3660773395932965, 0.3660024338876923, 0.3660024338876923, 0.3660024338876923, 0.3660024338876923, 0.4037202419600881, 0.2241943033512761, 0.24234357885942195, 0.2885410879978933, 0.07065149801168676, 0.032329549776339235, 0.010776516592113079, 0.010776516592113079, 0.010776516592113079, 0.2743380754104577, 0.07069601572820254, 0.032329549776339235, 0.08813242744870742, 0.08813242744870742, 0.11375338848319172, 0.12414449083738327, 0.3564407035114978, 0.3564407035114978, 1.0, 0.3085276787297559, 0.5542683343552314, 0.5422586091990824, 0.5422586091990824, 0.48833249229326403, 0.5200795257029629, 0.5200795257029629, 0.5672610909234441, 0.5540043915060341, 0.5540043915060341, 0.6059858343066338, 0.7490344282087421, 0.6341210341973098, 0.09108190948327063, 0.0816001014051797, 0.04446095629271351, 0.07824064629585546, 0.06337426692519885, 0.06337426692519885, 0.06337426692519885], [0.2513072341355524, 0.2381181874805562, 0.2381181874805562, 0.2381181874805562, 0.16676297586405409, 0.23085424725265744, 0.23085424725265744, 0.23085424725265744, 0.2607273583442675, 0.2610071485398317, 0.2809051240368001, 0.23291875906096188, 0.693982104206276, 0.39095774547380985, 0.39095774547380985, 0.5020822289111014, 0.5224160950327029, 0.5816133934624684, 0.5816133934624684, 0.5816133934624684, 0.5615755172191534, 0.5300316829381366, 0.41359432388146833, 0.22568434214384916, 0.3754041558597524, 0.39097161120424184, 0.4053797134683844, 0.4053797134683844, 0.4504206734175669, 0.4031957776141031, 0.29023056653592694, 0.24901194122940695, 0.1648273561747586, 0.16719602582175247, 0.16601206886952435, 0.14336824502990617, 0.7770060285795225, 0.7770060285795225, 0.3085276787297559, 1.0, 0.5365842931324791, 0.5762925878546614, 0.5762925878546614, 0.6649506042133736, 0.6783153867442812, 0.6783153867442812, 0.7110444700371746, 0.6581018053977556, 0.6581018053977556, 0.5962786893410716, 0.44896440503987617, 0.4376484523929708, 0.3620722304870863, 0.2815337211600063, 0.17653249837756305, 0.0801059969411241, 0.22314173479275057, 0.22314173479275057, 0.22314173479275057], [0.31087378438466684, 0.2866409708291216, 0.2866409708291216, 0.2866409708291216, 0.1668119734185335, 0.15815260406646972, 0.15815260406646972, 0.15815260406646972, 0.201958521764898, 0.05448560683570541, 0.15027459812342106, 0.24858907739580957, 0.48719383082488765, 0.45975087700604844, 0.45975087700604844, 0.471056112393148, 0.45687630144593777, 0.4630177790924802, 0.4630177790924802, 0.4630177790924802, 0.5668856219207159, 0.43699525707284786, 0.4915499890881038, 0.30239748839548647, 0.36134342647944884, 0.3227585101827089, 0.3360560907122722, 0.3360560907122722, 0.26222079327945197, 0.30933006238781113, 0.21966673414625354, 0.14557457289725867, 0.17581536996339528, 0.17581536996339528, 0.1452208972281486, 0.003529323252709044, 0.514497773728353, 0.514497773728353, 0.5542683343552314, 0.5365842931324791, 1.0, 0.9529966155108327, 0.9529966155108327, 0.6214472365327534, 0.655352700823648, 0.655352700823648, 0.8050734322584021, 0.7481598385002878, 0.7481598385002878, 0.9146555958513828, 0.7047203878869037, 0.5086679720365315, 0.5239433187803657, 0.3574394745812136, 0.04410391365092514, 0.32576689693127614, 0.3643700084510418, 0.3643700084510418, 0.3643700084510418], [0.18263466931958228, 0.1573490541545511, 0.1573490541545511, 0.1573490541545511, 0.042907596804799664, 0.02718347321357576, 0.02718347321357576, 0.02718347321357576, 0.16948377585448873, 0.06689035404149052, 0.12943627313211625, 0.20941656713930587, 0.4262898643769414, 0.39507460180461756, 0.39507460180461756, 0.4043465323703719, 0.39014449037092336, 0.41366269848365106, 0.41366269848365106, 0.41366269848365106, 0.5132625031782461, 0.37639045312913233, 0.4153817017574534, 0.22115140713459422, 0.2894021020016203, 0.2592493844104783, 0.2531960368054884, 0.2531960368054884, 0.18703381001096617, 0.2565012227455928, 0.14683351969394384, 0.07674988453268378, 0.09947168590131894, 0.09947168590131894, 0.07008687042468176, 0.06648817897351754, 0.4574946493990836, 0.4574946493990836, 0.5422586091990824, 0.5762925878546614, 0.9529966155108327, 1.0, 1.0, 0.7559050919202119, 0.759408895802548, 0.759408895802548, 0.8708430492362266, 0.7155359419844377, 0.7155359419844377, 0.8704550650119405, 0.6991177635829727, 0.4955759221581538, 0.5017898103426928, 0.31443463479367495, 0.052276114404611704, 0.30831299759821956, 0.33733944792607834, 0.33733944792607834, 0.33733944792607834], [0.18263466931958228, 0.1573490541545511, 0.1573490541545511, 0.1573490541545511, 0.042907596804799664, 0.02718347321357576, 0.02718347321357576, 0.02718347321357576, 0.16948377585448873, 0.06689035404149052, 0.12943627313211625, 0.20941656713930587, 0.4262898643769414, 0.39507460180461756, 0.39507460180461756, 0.4043465323703719, 0.39014449037092336, 0.41366269848365106, 0.41366269848365106, 0.41366269848365106, 0.5132625031782461, 0.37639045312913233, 0.4153817017574534, 0.22115140713459422, 0.2894021020016203, 0.2592493844104783, 0.2531960368054884, 0.2531960368054884, 0.18703381001096617, 0.2565012227455928, 0.14683351969394384, 0.07674988453268378, 0.09947168590131894, 0.09947168590131894, 0.07008687042468176, 0.06648817897351754, 0.4574946493990836, 0.4574946493990836, 0.5422586091990824, 0.5762925878546614, 0.9529966155108327, 1.0, 1.0, 0.7559050919202119, 0.759408895802548, 0.759408895802548, 0.8708430492362266, 0.7155359419844377, 0.7155359419844377, 0.8704550650119405, 0.6991177635829727, 0.4955759221581538, 0.5017898103426928, 0.31443463479367495, 0.052276114404611704, 0.30831299759821956, 0.33733944792607834, 0.33733944792607834, 0.33733944792607834], [0.0738265763232332, 0.053906014758734334, 0.053906014758734334, 0.053906014758734334, 0.03101765040189288, 0.0068666268102511255, 0.0068666268102511255, 0.0068666268102511255, 0.11270500753576096, 0.05023242775325164, 0.023623570696024557, 0.314807555459286, 0.5292631373004855, 0.46337850291061167, 0.46337850291061167, 0.5030321942585655, 0.5174258796200045, 0.5305164810775265, 0.5305164810775265, 0.5305164810775265, 0.48403721364704894, 0.40472268745385725, 0.3615155868432161, 0.2527799495977336, 0.24616176712738888, 0.25690393988071347, 0.2169939544121075, 0.2169939544121075, 0.2761371860402861, 0.27822946504797547, 0.09304161090834545, 0.08784008228187053, 0.016867516378298943, 0.016867516378298943, 0.005798910417488819, 0.059775628028730356, 0.5353515503627531, 0.5353515503627531, 0.48833249229326403, 0.6649506042133736, 0.6214472365327534, 0.7559050919202119, 0.7559050919202119, 1.0, 0.99377061237255, 0.99377061237255, 0.9271110143527715, 0.8331465000406704, 0.8331465000406704, 0.7686454164029227, 0.7133777812970028, 0.7386008123819798, 0.5083521892229413, 0.17478558723346646, 0.07656063198719738, 0.1563927428488065, 0.24457964904453455, 0.24457964904453455, 0.24457964904453455], [0.030760473318362958, 0.008247605219254417, 0.008247605219254417, 0.008247605219254417, 0.08379073969923054, 0.061424466492146695, 0.061424466492146695, 0.061424466492146695, 0.12493090518951355, 0.05611722457511864, 0.024916734942878726, 0.35567273024785656, 0.5854399278646069, 0.5183142549855795, 0.5183142549855795, 0.559693571708316, 0.5759785652775978, 0.5821709211356351, 0.5821709211356351, 0.5821709211356351, 0.5316267029033299, 0.45228430670266484, 0.4102165391418768, 0.303276519466103, 0.28864286116568166, 0.297221855459598, 0.26218658717231996, 0.26218658717231996, 0.32404382893435657, 0.31863493886110267, 0.13082872682899227, 0.12580417558178694, 0.05209889591278342, 0.05209889591278342, 0.039628892120462056, 0.031019908554216317, 0.5880558930381578, 0.5880558930381578, 0.5200795257029629, 0.6783153867442812, 0.655352700823648, 0.759408895802548, 0.759408895802548, 0.99377061237255, 1.0, 1.0, 0.938510009909378, 0.8822114773246416, 0.8822114773246416, 0.8134500982065702, 0.7526633684009523, 0.7825074257273529, 0.5316798457465768, 0.1888282574816113, 0.07679274807530405, 0.16934346495383906, 0.26048004152729864, 0.26048004152729864, 0.26048004152729864], [0.030760473318362958, 0.008247605219254417, 0.008247605219254417, 0.008247605219254417, 0.08379073969923054, 0.061424466492146695, 0.061424466492146695, 0.061424466492146695, 0.12493090518951355, 0.05611722457511864, 0.024916734942878726, 0.35567273024785656, 0.5854399278646069, 0.5183142549855795, 0.5183142549855795, 0.559693571708316, 0.5759785652775978, 0.5821709211356351, 0.5821709211356351, 0.5821709211356351, 0.5316267029033299, 0.45228430670266484, 0.4102165391418768, 0.303276519466103, 0.28864286116568166, 0.297221855459598, 0.26218658717231996, 0.26218658717231996, 0.32404382893435657, 0.31863493886110267, 0.13082872682899227, 0.12580417558178694, 0.05209889591278342, 0.05209889591278342, 0.039628892120462056, 0.031019908554216317, 0.5880558930381578, 0.5880558930381578, 0.5200795257029629, 0.6783153867442812, 0.655352700823648, 0.759408895802548, 0.759408895802548, 0.99377061237255, 1.0, 1.0, 0.938510009909378, 0.8822114773246416, 0.8822114773246416, 0.8134500982065702, 0.7526633684009523, 0.7825074257273529, 0.5316798457465768, 0.1888282574816113, 0.07679274807530405, 0.16934346495383906, 0.26048004152729864, 0.26048004152729864, 0.26048004152729864], [0.015948946628449166, 0.031189254764986914, 0.031189254764986914, 0.031189254764986914, 0.09074726536823846, 0.07144309145255129, 0.07144309145255129, 0.07144309145255129, 0.14793507253899577, 0.03352690504998449, 0.0062384242004848165, 0.3697672287742803, 0.5808787947316739, 0.5068794793646285, 0.5068794793646285, 0.5353878207602022, 0.5570809492477716, 0.5627233690787579, 0.5627233690787579, 0.5627233690787579, 0.5261649396936174, 0.43915888682249604, 0.4105603415510597, 0.3022780255223634, 0.2811360723495725, 0.28439778336292904, 0.2643998272925442, 0.2643998272925442, 0.3060136984021262, 0.3316773817786563, 0.13164841784810902, 0.11330773184211694, 0.06679782526471446, 0.06679782526471446, 0.05764086201638962, 0.06459333325590443, 0.5866773167457446, 0.5866773167457446, 0.5672610909234441, 0.7110444700371746, 0.8050734322584021, 0.8708430492362266, 0.8708430492362266, 0.9271110143527715, 0.938510009909378, 0.938510009909378, 1.0, 0.8999650879435929, 0.8999650879435929, 0.8693730577950078, 0.7185958410769073, 0.6808803142464668, 0.5011660674086831, 0.27684041972912604, 0.06825039344762804, 0.09594628534030458, 0.16521529256953368, 0.16521529256953368, 0.16521529256953368], [0.14156290455989917, 0.17026895731801991, 0.17026895731801991, 0.17026895731801991, 0.2741153342721595, 0.25988574465768094, 0.25988574465768094, 0.25988574465768094, 0.20581991645726191, 0.12434345116681118, 0.02860013654253826, 0.41577461939072324, 0.6580095848995158, 0.5999220957415762, 0.5999220957415762, 0.6433876034377921, 0.6597802184657194, 0.6409622864876635, 0.6409622864876635, 0.6409622864876635, 0.5782975654677827, 0.5108769353549817, 0.4924261125462147, 0.396760607653404, 0.3519938791478395, 0.3519667525450961, 0.33871320971616287, 0.33871320971616287, 0.40238224170089926, 0.3606711427889107, 0.19705662073769786, 0.18953311594681424, 0.12268674271244172, 0.12268674271244172, 0.1000943751452733, 0.016733827900990445, 0.6570873636565862, 0.6570873636565862, 0.5540043915060341, 0.6581018053977556, 0.7481598385002878, 0.7155359419844377, 0.7155359419844377, 0.8331465000406704, 0.8822114773246416, 0.8822114773246416, 0.8999650879435929, 1.0, 1.0, 0.9299057522767564, 0.7185920469117119, 0.8254700530283949, 0.547252676326963, 0.3572692617303455, 0.07247416828287823, 0.18586131978551437, 0.2774711938731786, 0.2774711938731786, 0.2774711938731786], [0.14156290455989917, 0.17026895731801991, 0.17026895731801991, 0.17026895731801991, 0.2741153342721595, 0.25988574465768094, 0.25988574465768094, 0.25988574465768094, 0.20581991645726191, 0.12434345116681118, 0.02860013654253826, 0.41577461939072324, 0.6580095848995158, 0.5999220957415762, 0.5999220957415762, 0.6433876034377921, 0.6597802184657194, 0.6409622864876635, 0.6409622864876635, 0.6409622864876635, 0.5782975654677827, 0.5108769353549817, 0.4924261125462147, 0.396760607653404, 0.3519938791478395, 0.3519667525450961, 0.33871320971616287, 0.33871320971616287, 0.40238224170089926, 0.3606711427889107, 0.19705662073769786, 0.18953311594681424, 0.12268674271244172, 0.12268674271244172, 0.1000943751452733, 0.016733827900990445, 0.6570873636565862, 0.6570873636565862, 0.5540043915060341, 0.6581018053977556, 0.7481598385002878, 0.7155359419844377, 0.7155359419844377, 0.8331465000406704, 0.8822114773246416, 0.8822114773246416, 0.8999650879435929, 1.0, 1.0, 0.9299057522767564, 0.7185920469117119, 0.8254700530283949, 0.547252676326963, 0.3572692617303455, 0.07247416828287823, 0.18586131978551437, 0.2774711938731786, 0.2774711938731786, 0.2774711938731786], [0.27795563904630716, 0.2769680303597591, 0.2769680303597591, 0.2769680303597591, 0.2522578307585999, 0.23916288509178954, 0.23916288509178954, 0.23916288509178954, 0.2510334069482603, 0.06528594413889878, 0.147503768091455, 0.3206007044884499, 0.5739414429007285, 0.5518534863805682, 0.5518534863805682, 0.5788824874502317, 0.5674545675299806, 0.5620220724482803, 0.5620220724482803, 0.5620220724482803, 0.6023966083928373, 0.4847006031001691, 0.5190790252931492, 0.35581734748381993, 0.36551526395725753, 0.3384198355900108, 0.3319757415135821, 0.3319757415135821, 0.3173802719293993, 0.32096926354590577, 0.20757009655922973, 0.15828567174827732, 0.14491973122263102, 0.14491973122263102, 0.1110883554611743, 0.002267565357773273, 0.5941794013022291, 0.5941794013022291, 0.6059858343066338, 0.5962786893410716, 0.9146555958513828, 0.8704550650119405, 0.8704550650119405, 0.7686454164029227, 0.8134500982065702, 0.8134500982065702, 0.8693730577950078, 0.9299057522767564, 0.9299057522767564, 1.0, 0.7704762219608284, 0.7594615198209025, 0.5728312614680579, 0.39079132757997354, 0.06669519793781711, 0.11736759230120326, 0.0950667648467313, 0.0950667648467313, 0.0950667648467313], [0.21039558997830404, 0.20964802999719725, 0.20964802999719725, 0.20964802999719725, 0.19094390497420607, 0.18103182393582357, 0.18103182393582357, 0.18103182393582357, 0.24375641935172876, 0.026031262177369317, 0.09791915745991167, 0.32075635786241524, 0.5615995589005325, 0.5498979889412272, 0.5498979889412272, 0.5597666108244839, 0.5598550770630601, 0.5473804755604211, 0.5473804755604211, 0.5473804755604211, 0.5982635786290318, 0.45990097336569286, 0.4747465087562953, 0.40012353881255097, 0.3299865241487806, 0.2995975669808757, 0.296625103341575, 0.296625103341575, 0.296625103341575, 0.39674296939102033, 0.18350231294219357, 0.1398652627008542, 0.15383783912102358, 0.15383783912102358, 0.23973513513317674, 0.02430016136869525, 0.5810954521635914, 0.5810954521635914, 0.7490344282087421, 0.44896440503987617, 0.7047203878869037, 0.6991177635829727, 0.6991177635829727, 0.7133777812970028, 0.7526633684009523, 0.7526633684009523, 0.7185958410769073, 0.7185920469117119, 0.7185920469117119, 0.7704762219608284, 1.0, 0.8581658908183206, 0.5391699178094003, 0.24128281161033788, 0.05048422678882589, 0.0888401613698896, 0.07195978518688903, 0.07195978518688903, 0.07195978518688903], [0.14181666335871276, 0.1676359265199184, 0.1676359265199184, 0.1676359265199184, 0.2599561949990696, 0.2464616198692249, 0.2464616198692249, 0.2464616198692249, 0.30699987072418317, 0.2043089913516891, 0.12244472953429412, 0.2795163971840181, 0.5144767801445131, 0.5046768191683986, 0.5046768191683986, 0.5423502616246093, 0.5426756651329214, 0.5166125880525327, 0.5166125880525327, 0.5166125880525327, 0.483818650812909, 0.3916133844960866, 0.392327109743909, 0.3527583574307289, 0.24215719204179612, 0.23148523622164366, 0.21281585591786312, 0.21281585591786312, 0.2826606627090752, 0.2937108406717541, 0.08978568009564343, 0.07948989359814941, 0.04800031833554973, 0.04800031833554973, 0.1330547632380979, 0.06946068101937179, 0.5351243614717508, 0.5351243614717508, 0.6341210341973098, 0.4376484523929708, 0.5086679720365315, 0.4955759221581538, 0.4955759221581538, 0.7386008123819798, 0.7825074257273529, 0.7825074257273529, 0.6808803142464668, 0.8254700530283949, 0.8254700530283949, 0.7594615198209025, 0.8581658908183206, 1.0, 0.5602357539672718, 0.1261426584450357, 0.06873059134967469, 0.16148497490955277, 0.24518621041336996, 0.24518621041336996, 0.24518621041336996], [0.13337781439295146, 0.13290390751867745, 0.13290390751867745, 0.13290390751867745, 0.1210466470316286, 0.11476299961714806, 0.11476299961714806, 0.11476299961714806, 0.1732591329811807, 0.046643453236680725, 0.0888032897688051, 0.12346799528016295, 0.3620722304870863, 0.22690219333010678, 0.22690219333010678, 0.36904298882512654, 0.3620722304870863, 0.3413864930579491, 0.3413864930579491, 0.3413864930579491, 0.3689674762967987, 0.3788878640415018, 0.4029064042356334, 0.20769762889604299, 0.36899591317068625, 0.3689674762967987, 0.42068181986964187, 0.42068181986964187, 0.42068181986964187, 0.19747401721543353, 0.12887415894759435, 0.1012020973529666, 0.0634394787132802, 0.0634394787132802, 0.15981346942769725, 0.030242176287585833, 0.42070235153374824, 0.42070235153374824, 0.09108190948327063, 0.3620722304870863, 0.5239433187803657, 0.5017898103426928, 0.5017898103426928, 0.5083521892229413, 0.5316798457465768, 0.5316798457465768, 0.5011660674086831, 0.547252676326963, 0.547252676326963, 0.5728312614680579, 0.5391699178094003, 0.5602357539672718, 1.0, 0.05873738016700149, 0.03200388292884867, 0.05631917738891245, 0.04561806106964158, 0.04561806106964158, 0.04561806106964158], [0.11949291842267666, 0.11906834619733839, 0.11906834619733839, 0.11906834619733839, 0.10844545012917314, 0.10281594291830175, 0.10281594291830175, 0.10281594291830175, 0.07046810544769051, 0.023678729417292703, 0.0025196614990341416, 0.17097343851799107, 0.15244112753071917, 0.15292002904875368, 0.15292002904875368, 0.15294761069767612, 0.13913587861678037, 0.15624262722041596, 0.15624262722041596, 0.15624262722041596, 0.14673887799617397, 0.15190413942129366, 0.16332010680040765, 0.028102595126064174, 0.1434236187881006, 0.14341256576768927, 0.12202913001314478, 0.12202913001314478, 0.09209231995678248, 0.00883349792229151, 0.14731817862945532, 0.13961106607799248, 0.08291226587433578, 0.08291226587433578, 0.15521478578242795, 0.1339249820072048, 0.12773761356507995, 0.12773761356507995, 0.0816001014051797, 0.2815337211600063, 0.3574394745812136, 0.31443463479367495, 0.31443463479367495, 0.17478558723346646, 0.1888282574816113, 0.1888282574816113, 0.27684041972912604, 0.3572692617303455, 0.3572692617303455, 0.39079132757997354, 0.24128281161033788, 0.1261426584450357, 0.05873738016700149, 1.0, 0.028672215011403757, 0.05045623891795615, 0.04086913010836853, 0.04086913010836853, 0.04086913010836853], [0.239949073048688, 0.24844800930049146, 0.24844800930049146, 0.24844800930049146, 0.2643929734004634, 0.05602070420949957, 0.05602070420949957, 0.05602070420949957, 0.007814009014234924, 0.19593214862815864, 0.18416029395386566, 0.13095310455614656, 0.1076024304907132, 0.1447706831202169, 0.1447706831202169, 0.14816334668283254, 0.09413897877731019, 0.16496234456135733, 0.16496234456135733, 0.16496234456135733, 0.18515752213146186, 0.19013583195927714, 0.15331192355469583, 0.1565292289563218, 0.16834118079580038, 0.1683282074897081, 0.14140130406290205, 0.14140130406290205, 0.14140130406290205, 0.09937309152607308, 0.16171076638049842, 0.1447671669912528, 0.13960124967630344, 0.13281385035043605, 0.14813468233688734, 0.1986449513561076, 0.13972519164951563, 0.13972519164951563, 0.04446095629271351, 0.17653249837756305, 0.04410391365092514, 0.052276114404611704, 0.052276114404611704, 0.07656063198719738, 0.07679274807530405, 0.07679274807530405, 0.06825039344762804, 0.07247416828287823, 0.07247416828287823, 0.06669519793781711, 0.05048422678882589, 0.06873059134967469, 0.03200388292884867, 0.028672215011403757, 1.0, 0.5682590622346213, 0.02226811702655621, 0.02226811702655621, 0.02226811702655621], [0.4222529634725271, 0.36109816925326216, 0.36109816925326216, 0.36109816925326216, 0.08576894075984084, 0.09858303709087159, 0.09858303709087159, 0.09858303709087159, 0.08692239218789506, 0.2513871409343639, 0.36184205899293154, 0.3256272784515578, 0.16792438126425627, 0.06871389887614308, 0.06871389887614308, 0.10073410795294416, 0.19359120647157924, 0.12243157889358453, 0.12243157889358453, 0.12243157889358453, 0.11622053625527401, 0.019112995433260293, 0.11280697408282885, 0.027125465526968963, 0.10635687685777186, 0.048680589155235106, 0.050654960325029176, 0.050654960325029176, 0.12243157889358453, 0.05479769030824186, 0.10247235765745705, 0.0032700522499714327, 0.11942125359589918, 0.11543985392748234, 0.10634986672104864, 0.07550824512851587, 0.10170564518211019, 0.10170564518211019, 0.07824064629585546, 0.0801059969411241, 0.32576689693127614, 0.30831299759821956, 0.30831299759821956, 0.1563927428488065, 0.16934346495383906, 0.16934346495383906, 0.09594628534030458, 0.18586131978551437, 0.18586131978551437, 0.11736759230120326, 0.0888401613698896, 0.16148497490955277, 0.05631917738891245, 0.05045623891795615, 0.5682590622346213, 1.0, 0.8099916082691649, 0.8099916082691649, 0.8099916082691649], [0.3420213569795332, 0.2616618962644557, 0.2616618962644557, 0.2616618962644557, 0.08422355836525108, 0.0798514327612938, 0.0798514327612938, 0.0798514327612938, 0.10004060154768024, 0.16579220723134844, 0.30838329280788246, 0.3023033267102683, 0.2807138016418544, 0.18666396910265876, 0.18666396910265876, 0.2279860568896788, 0.3023033267102683, 0.26632078492957845, 0.26632078492957845, 0.26632078492957845, 0.009245514207538377, 0.11228694567083876, 0.027794301090376217, 0.14451481142703057, 0.009246226773112405, 0.06082049075986057, 0.03923096569144663, 0.03923096569144663, 0.2495289320985898, 0.13740128142681102, 0.009252052847773383, 0.09920186865926313, 0.04560210609574801, 0.04560210609574801, 0.02363879460656318, 0.049831840186190045, 0.223152625377821, 0.223152625377821, 0.06337426692519885, 0.22314173479275057, 0.3643700084510418, 0.33733944792607834, 0.33733944792607834, 0.24457964904453455, 0.26048004152729864, 0.26048004152729864, 0.16521529256953368, 0.2774711938731786, 0.2774711938731786, 0.0950667648467313, 0.07195978518688903, 0.24518621041336996, 0.04561806106964158, 0.04086913010836853, 0.02226811702655621, 0.8099916082691649, 1.0, 1.0, 1.0], [0.3420213569795332, 0.2616618962644557, 0.2616618962644557, 0.2616618962644557, 0.08422355836525108, 0.0798514327612938, 0.0798514327612938, 0.0798514327612938, 0.10004060154768024, 0.16579220723134844, 0.30838329280788246, 0.3023033267102683, 0.2807138016418544, 0.18666396910265876, 0.18666396910265876, 0.2279860568896788, 0.3023033267102683, 0.26632078492957845, 0.26632078492957845, 0.26632078492957845, 0.009245514207538377, 0.11228694567083876, 0.027794301090376217, 0.14451481142703057, 0.009246226773112405, 0.06082049075986057, 0.03923096569144663, 0.03923096569144663, 0.2495289320985898, 0.13740128142681102, 0.009252052847773383, 0.09920186865926313, 0.04560210609574801, 0.04560210609574801, 0.02363879460656318, 0.049831840186190045, 0.223152625377821, 0.223152625377821, 0.06337426692519885, 0.22314173479275057, 0.3643700084510418, 0.33733944792607834, 0.33733944792607834, 0.24457964904453455, 0.26048004152729864, 0.26048004152729864, 0.16521529256953368, 0.2774711938731786, 0.2774711938731786, 0.0950667648467313, 0.07195978518688903, 0.24518621041336996, 0.04561806106964158, 0.04086913010836853, 0.02226811702655621, 0.8099916082691649, 1.0, 1.0, 1.0], [0.3420213569795332, 0.2616618962644557, 0.2616618962644557, 0.2616618962644557, 0.08422355836525108, 0.0798514327612938, 0.0798514327612938, 0.0798514327612938, 0.10004060154768024, 0.16579220723134844, 0.30838329280788246, 0.3023033267102683, 0.2807138016418544, 0.18666396910265876, 0.18666396910265876, 0.2279860568896788, 0.3023033267102683, 0.26632078492957845, 0.26632078492957845, 0.26632078492957845, 0.009245514207538377, 0.11228694567083876, 0.027794301090376217, 0.14451481142703057, 0.009246226773112405, 0.06082049075986057, 0.03923096569144663, 0.03923096569144663, 0.2495289320985898, 0.13740128142681102, 0.009252052847773383, 0.09920186865926313, 0.04560210609574801, 0.04560210609574801, 0.02363879460656318, 0.049831840186190045, 0.223152625377821, 0.223152625377821, 0.06337426692519885, 0.22314173479275057, 0.3643700084510418, 0.33733944792607834, 0.33733944792607834, 0.24457964904453455, 0.26048004152729864, 0.26048004152729864, 0.16521529256953368, 0.2774711938731786, 0.2774711938731786, 0.0950667648467313, 0.07195978518688903, 0.24518621041336996, 0.04561806106964158, 0.04086913010836853, 0.02226811702655621, 0.8099916082691649, 1.0, 1.0, 1.0]]}],                        {\"autosize\": false, \"height\": 800, \"hovermode\": \"closest\", \"showlegend\": false, \"template\": {\"data\": {\"bar\": [{\"error_x\": {\"color\": \"#2a3f5f\"}, \"error_y\": {\"color\": \"#2a3f5f\"}, \"marker\": {\"line\": {\"color\": \"#E5ECF6\", \"width\": 0.5}}, \"type\": \"bar\"}], \"barpolar\": [{\"marker\": {\"line\": {\"color\": \"#E5ECF6\", \"width\": 0.5}}, \"type\": \"barpolar\"}], \"carpet\": [{\"aaxis\": {\"endlinecolor\": \"#2a3f5f\", \"gridcolor\": \"white\", \"linecolor\": \"white\", \"minorgridcolor\": \"white\", \"startlinecolor\": \"#2a3f5f\"}, \"baxis\": {\"endlinecolor\": \"#2a3f5f\", \"gridcolor\": \"white\", \"linecolor\": \"white\", \"minorgridcolor\": \"white\", \"startlinecolor\": \"#2a3f5f\"}, \"type\": \"carpet\"}], \"choropleth\": [{\"colorbar\": {\"outlinewidth\": 0, \"ticks\": \"\"}, \"type\": \"choropleth\"}], \"contour\": [{\"colorbar\": {\"outlinewidth\": 0, \"ticks\": \"\"}, \"colorscale\": [[0.0, \"#0d0887\"], [0.1111111111111111, \"#46039f\"], [0.2222222222222222, \"#7201a8\"], [0.3333333333333333, \"#9c179e\"], [0.4444444444444444, \"#bd3786\"], [0.5555555555555556, \"#d8576b\"], [0.6666666666666666, \"#ed7953\"], [0.7777777777777778, \"#fb9f3a\"], [0.8888888888888888, \"#fdca26\"], [1.0, \"#f0f921\"]], \"type\": \"contour\"}], \"contourcarpet\": [{\"colorbar\": {\"outlinewidth\": 0, \"ticks\": \"\"}, \"type\": \"contourcarpet\"}], \"heatmap\": [{\"colorbar\": {\"outlinewidth\": 0, \"ticks\": \"\"}, \"colorscale\": [[0.0, \"#0d0887\"], [0.1111111111111111, \"#46039f\"], [0.2222222222222222, \"#7201a8\"], [0.3333333333333333, \"#9c179e\"], [0.4444444444444444, \"#bd3786\"], [0.5555555555555556, \"#d8576b\"], [0.6666666666666666, \"#ed7953\"], [0.7777777777777778, \"#fb9f3a\"], [0.8888888888888888, \"#fdca26\"], [1.0, \"#f0f921\"]], \"type\": \"heatmap\"}], \"heatmapgl\": [{\"colorbar\": {\"outlinewidth\": 0, \"ticks\": \"\"}, \"colorscale\": [[0.0, \"#0d0887\"], [0.1111111111111111, \"#46039f\"], [0.2222222222222222, \"#7201a8\"], [0.3333333333333333, \"#9c179e\"], [0.4444444444444444, \"#bd3786\"], [0.5555555555555556, \"#d8576b\"], [0.6666666666666666, \"#ed7953\"], [0.7777777777777778, \"#fb9f3a\"], [0.8888888888888888, \"#fdca26\"], [1.0, \"#f0f921\"]], \"type\": \"heatmapgl\"}], \"histogram\": [{\"marker\": {\"colorbar\": {\"outlinewidth\": 0, \"ticks\": \"\"}}, \"type\": \"histogram\"}], \"histogram2d\": [{\"colorbar\": {\"outlinewidth\": 0, \"ticks\": \"\"}, \"colorscale\": [[0.0, \"#0d0887\"], [0.1111111111111111, \"#46039f\"], [0.2222222222222222, \"#7201a8\"], [0.3333333333333333, \"#9c179e\"], [0.4444444444444444, \"#bd3786\"], [0.5555555555555556, \"#d8576b\"], [0.6666666666666666, \"#ed7953\"], [0.7777777777777778, \"#fb9f3a\"], [0.8888888888888888, \"#fdca26\"], [1.0, \"#f0f921\"]], \"type\": \"histogram2d\"}], \"histogram2dcontour\": [{\"colorbar\": {\"outlinewidth\": 0, \"ticks\": \"\"}, \"colorscale\": [[0.0, \"#0d0887\"], [0.1111111111111111, \"#46039f\"], [0.2222222222222222, \"#7201a8\"], [0.3333333333333333, \"#9c179e\"], [0.4444444444444444, \"#bd3786\"], [0.5555555555555556, \"#d8576b\"], [0.6666666666666666, \"#ed7953\"], [0.7777777777777778, \"#fb9f3a\"], [0.8888888888888888, \"#fdca26\"], [1.0, \"#f0f921\"]], \"type\": \"histogram2dcontour\"}], \"mesh3d\": [{\"colorbar\": {\"outlinewidth\": 0, \"ticks\": \"\"}, \"type\": \"mesh3d\"}], \"parcoords\": [{\"line\": {\"colorbar\": {\"outlinewidth\": 0, \"ticks\": \"\"}}, \"type\": \"parcoords\"}], \"pie\": [{\"automargin\": true, \"type\": \"pie\"}], \"scatter\": [{\"marker\": {\"colorbar\": {\"outlinewidth\": 0, \"ticks\": \"\"}}, \"type\": \"scatter\"}], \"scatter3d\": [{\"line\": {\"colorbar\": {\"outlinewidth\": 0, \"ticks\": \"\"}}, \"marker\": {\"colorbar\": {\"outlinewidth\": 0, \"ticks\": \"\"}}, \"type\": \"scatter3d\"}], \"scattercarpet\": [{\"marker\": {\"colorbar\": {\"outlinewidth\": 0, \"ticks\": \"\"}}, \"type\": \"scattercarpet\"}], \"scattergeo\": [{\"marker\": {\"colorbar\": {\"outlinewidth\": 0, \"ticks\": \"\"}}, \"type\": \"scattergeo\"}], \"scattergl\": [{\"marker\": {\"colorbar\": {\"outlinewidth\": 0, \"ticks\": \"\"}}, \"type\": \"scattergl\"}], \"scattermapbox\": [{\"marker\": {\"colorbar\": {\"outlinewidth\": 0, \"ticks\": \"\"}}, \"type\": \"scattermapbox\"}], \"scatterpolar\": [{\"marker\": {\"colorbar\": {\"outlinewidth\": 0, \"ticks\": \"\"}}, \"type\": \"scatterpolar\"}], \"scatterpolargl\": [{\"marker\": {\"colorbar\": {\"outlinewidth\": 0, \"ticks\": \"\"}}, \"type\": \"scatterpolargl\"}], \"scatterternary\": [{\"marker\": {\"colorbar\": {\"outlinewidth\": 0, \"ticks\": \"\"}}, \"type\": \"scatterternary\"}], \"surface\": [{\"colorbar\": {\"outlinewidth\": 0, \"ticks\": \"\"}, \"colorscale\": [[0.0, \"#0d0887\"], [0.1111111111111111, \"#46039f\"], [0.2222222222222222, \"#7201a8\"], [0.3333333333333333, \"#9c179e\"], [0.4444444444444444, \"#bd3786\"], [0.5555555555555556, \"#d8576b\"], [0.6666666666666666, \"#ed7953\"], [0.7777777777777778, \"#fb9f3a\"], [0.8888888888888888, \"#fdca26\"], [1.0, \"#f0f921\"]], \"type\": \"surface\"}], \"table\": [{\"cells\": {\"fill\": {\"color\": \"#EBF0F8\"}, \"line\": {\"color\": \"white\"}}, \"header\": {\"fill\": {\"color\": \"#C8D4E3\"}, \"line\": {\"color\": \"white\"}}, \"type\": \"table\"}]}, \"layout\": {\"annotationdefaults\": {\"arrowcolor\": \"#2a3f5f\", \"arrowhead\": 0, \"arrowwidth\": 1}, \"autotypenumbers\": \"strict\", \"coloraxis\": {\"colorbar\": {\"outlinewidth\": 0, \"ticks\": \"\"}}, \"colorscale\": {\"diverging\": [[0, \"#8e0152\"], [0.1, \"#c51b7d\"], [0.2, \"#de77ae\"], [0.3, \"#f1b6da\"], [0.4, \"#fde0ef\"], [0.5, \"#f7f7f7\"], [0.6, \"#e6f5d0\"], [0.7, \"#b8e186\"], [0.8, \"#7fbc41\"], [0.9, \"#4d9221\"], [1, \"#276419\"]], \"sequential\": [[0.0, \"#0d0887\"], [0.1111111111111111, \"#46039f\"], [0.2222222222222222, \"#7201a8\"], [0.3333333333333333, \"#9c179e\"], [0.4444444444444444, \"#bd3786\"], [0.5555555555555556, \"#d8576b\"], [0.6666666666666666, \"#ed7953\"], [0.7777777777777778, \"#fb9f3a\"], [0.8888888888888888, \"#fdca26\"], [1.0, \"#f0f921\"]], \"sequentialminus\": [[0.0, \"#0d0887\"], [0.1111111111111111, \"#46039f\"], [0.2222222222222222, \"#7201a8\"], [0.3333333333333333, \"#9c179e\"], [0.4444444444444444, \"#bd3786\"], [0.5555555555555556, \"#d8576b\"], [0.6666666666666666, \"#ed7953\"], [0.7777777777777778, \"#fb9f3a\"], [0.8888888888888888, \"#fdca26\"], [1.0, \"#f0f921\"]]}, \"colorway\": [\"#636efa\", \"#EF553B\", \"#00cc96\", \"#ab63fa\", \"#FFA15A\", \"#19d3f3\", \"#FF6692\", \"#B6E880\", \"#FF97FF\", \"#FECB52\"], \"font\": {\"color\": \"#2a3f5f\"}, \"geo\": {\"bgcolor\": \"white\", \"lakecolor\": \"white\", \"landcolor\": \"#E5ECF6\", \"showlakes\": true, \"showland\": true, \"subunitcolor\": \"white\"}, \"hoverlabel\": {\"align\": \"left\"}, \"hovermode\": \"closest\", \"mapbox\": {\"style\": \"light\"}, \"paper_bgcolor\": \"white\", \"plot_bgcolor\": \"#E5ECF6\", \"polar\": {\"angularaxis\": {\"gridcolor\": \"white\", \"linecolor\": \"white\", \"ticks\": \"\"}, \"bgcolor\": \"#E5ECF6\", \"radialaxis\": {\"gridcolor\": \"white\", \"linecolor\": \"white\", \"ticks\": \"\"}}, \"scene\": {\"xaxis\": {\"backgroundcolor\": \"#E5ECF6\", \"gridcolor\": \"white\", \"gridwidth\": 2, \"linecolor\": \"white\", \"showbackground\": true, \"ticks\": \"\", \"zerolinecolor\": \"white\"}, \"yaxis\": {\"backgroundcolor\": \"#E5ECF6\", \"gridcolor\": \"white\", \"gridwidth\": 2, \"linecolor\": \"white\", \"showbackground\": true, \"ticks\": \"\", \"zerolinecolor\": \"white\"}, \"zaxis\": {\"backgroundcolor\": \"#E5ECF6\", \"gridcolor\": \"white\", \"gridwidth\": 2, \"linecolor\": \"white\", \"showbackground\": true, \"ticks\": \"\", \"zerolinecolor\": \"white\"}}, \"shapedefaults\": {\"line\": {\"color\": \"#2a3f5f\"}}, \"ternary\": {\"aaxis\": {\"gridcolor\": \"white\", \"linecolor\": \"white\", \"ticks\": \"\"}, \"baxis\": {\"gridcolor\": \"white\", \"linecolor\": \"white\", \"ticks\": \"\"}, \"bgcolor\": \"#E5ECF6\", \"caxis\": {\"gridcolor\": \"white\", \"linecolor\": \"white\", \"ticks\": \"\"}}, \"title\": {\"x\": 0.05}, \"xaxis\": {\"automargin\": true, \"gridcolor\": \"white\", \"linecolor\": \"white\", \"ticks\": \"\", \"title\": {\"standoff\": 15}, \"zerolinecolor\": \"white\", \"zerolinewidth\": 2}, \"yaxis\": {\"automargin\": true, \"gridcolor\": \"white\", \"linecolor\": \"white\", \"ticks\": \"\", \"title\": {\"standoff\": 15}, \"zerolinecolor\": \"white\", \"zerolinewidth\": 2}}}, \"title\": {\"text\": \"Propiedades f\\u00edsico-qu\\u00edmicas\", \"x\": 0.5, \"xanchor\": \"center\", \"y\": 0.9, \"yanchor\": \"top\"}, \"width\": 800, \"xaxis\": {\"domain\": [0.15, 1], \"mirror\": false, \"rangemode\": \"tozero\", \"showgrid\": false, \"showline\": false, \"showticklabels\": true, \"tickmode\": \"array\", \"ticks\": \"\", \"ticktext\": [\"_feat_CyclomaticNumber\", \"_feat_LargestRingSize\", \"_feat_RingAtomCount\", \"_feat_SmallestRingSize\", \"_feat_CarboRingCount\", \"_feat_CarboaromaticRingCount\", \"_feat_AromaticAtomCount\", \"_feat_AromaticRingCount\", \"_feat_BalabanIndex\", \"_feat_Aliphatic AtomCount\", \"_feat_ChainAtomCount\", \"_feat_ASA-\", \"_feat_ASA_H\", \"_feat_LengthPerpendicularToTheMinArea\", \"_feat_minimalprojectionsize\", \"_feat_MaximalProjectionRadius\", \"_feat_ASA\", \"_feat_msareaVDWp\", \"_feat_molsurfaceareaVDWp\", \"_feat_VanderWaalsSurfaceArea\", \"_feat_MinimalProjectionArea\", \"_feat_BondCount\", \"_feat_AtomCount_C\", \"_feat_WienerPolarity\", \"_feat_AvgPol\", \"_feat_VanderWaalsVolume\", \"_feat_molsurfaceareaASAp\", \"_feat_msareaASAp\", \"_feat_ASA+\", \"_feat_RotatableBondCount\", \"_feat_MolPol\", \"_feat_MaximalProjectionArea\", \"_feat_WienerIndex\", \"_feat_HyperWienerIndex\", \"_feat_Refractivity\", \"_feat_MinimalProjectionRadius\", \"_feat_maximalprojectionsize\", \"_feat_LengthPerpendicularToTheMaxArea\", \"_feat_fr_amidine\", \"_feat_ASA_P\", \"_feat_donsitecount\", \"_feat_ProtPolarSurfaceArea\", \"_feat_Protpsa\", \"_feat_Accsitecount\", \"_feat_acceptorcount\", \"_feat_Hacceptorcount\", \"_feat_PolarSurfaceArea\", \"_feat_AtomCount_N\", \"_feat_Hdonorcount\", \"_feat_donorcount\", \"_feat_fr_quatN\", \"_feat_fr_NH2\", \"_feat_fr_guanido\", \"_feat_fr_NH1\", \"_feat_CarboaliphaticRingCount\", \"_feat_AliphaticRingCount\", \"_feat_HeteroaliphaticRingCount\", \"_feat_fr_NH0\", \"_feat_fr_Imine\"], \"tickvals\": [5, 15, 25, 35, 45, 55, 65, 75, 85, 95, 105, 115, 125, 135, 145, 155, 165, 175, 185, 195, 205, 215, 225, 235, 245, 255, 265, 275, 285, 295, 305, 315, 325, 335, 345, 355, 365, 375, 385, 395, 405, 415, 425, 435, 445, 455, 465, 475, 485, 495, 505, 515, 525, 535, 545, 555, 565, 575, 585], \"type\": \"linear\", \"zeroline\": false}, \"xaxis2\": {\"domain\": [0, 0.15], \"mirror\": false, \"showgrid\": false, \"showline\": false, \"showticklabels\": false, \"ticks\": \"\", \"zeroline\": false}, \"yaxis\": {\"domain\": [0, 0.85], \"mirror\": false, \"rangemode\": \"tozero\", \"showgrid\": false, \"showline\": false, \"showticklabels\": false, \"ticks\": \"\", \"ticktext\": [\"_feat_CyclomaticNumber\", \"_feat_LargestRingSize\", \"_feat_RingAtomCount\", \"_feat_SmallestRingSize\", \"_feat_CarboRingCount\", \"_feat_CarboaromaticRingCount\", \"_feat_AromaticAtomCount\", \"_feat_AromaticRingCount\", \"_feat_BalabanIndex\", \"_feat_Aliphatic AtomCount\", \"_feat_ChainAtomCount\", \"_feat_ASA-\", \"_feat_ASA_H\", \"_feat_LengthPerpendicularToTheMinArea\", \"_feat_minimalprojectionsize\", \"_feat_MaximalProjectionRadius\", \"_feat_ASA\", \"_feat_msareaVDWp\", \"_feat_molsurfaceareaVDWp\", \"_feat_VanderWaalsSurfaceArea\", \"_feat_MinimalProjectionArea\", \"_feat_BondCount\", \"_feat_AtomCount_C\", \"_feat_WienerPolarity\", \"_feat_AvgPol\", \"_feat_VanderWaalsVolume\", \"_feat_molsurfaceareaASAp\", \"_feat_msareaASAp\", \"_feat_ASA+\", \"_feat_RotatableBondCount\", \"_feat_MolPol\", \"_feat_MaximalProjectionArea\", \"_feat_WienerIndex\", \"_feat_HyperWienerIndex\", \"_feat_Refractivity\", \"_feat_MinimalProjectionRadius\", \"_feat_maximalprojectionsize\", \"_feat_LengthPerpendicularToTheMaxArea\", \"_feat_fr_amidine\", \"_feat_ASA_P\", \"_feat_donsitecount\", \"_feat_ProtPolarSurfaceArea\", \"_feat_Protpsa\", \"_feat_Accsitecount\", \"_feat_acceptorcount\", \"_feat_Hacceptorcount\", \"_feat_PolarSurfaceArea\", \"_feat_AtomCount_N\", \"_feat_Hdonorcount\", \"_feat_donorcount\", \"_feat_fr_quatN\", \"_feat_fr_NH2\", \"_feat_fr_guanido\", \"_feat_fr_NH1\", \"_feat_CarboaliphaticRingCount\", \"_feat_AliphaticRingCount\", \"_feat_HeteroaliphaticRingCount\", \"_feat_fr_NH0\", \"_feat_fr_Imine\"], \"tickvals\": [5, 15, 25, 35, 45, 55, 65, 75, 85, 95, 105, 115, 125, 135, 145, 155, 165, 175, 185, 195, 205, 215, 225, 235, 245, 255, 265, 275, 285, 295, 305, 315, 325, 335, 345, 355, 365, 375, 385, 395, 405, 415, 425, 435, 445, 455, 465, 475, 485, 495, 505, 515, 525, 535, 545, 555, 565, 575, 585], \"type\": \"linear\", \"zeroline\": false}, \"yaxis2\": {\"domain\": [0.825, 0.975], \"mirror\": false, \"showgrid\": false, \"showline\": false, \"showticklabels\": false, \"ticks\": \"\", \"zeroline\": false}},                        {\"responsive\": true}                    ).then(function(){\n                            \nvar gd = document.getElementById('13facff4-5729-4323-af21-071524b52b29');\nvar x = new MutationObserver(function (mutations, observer) {{\n        var display = window.getComputedStyle(gd).display;\n        if (!display || display === 'none') {{\n            console.log([gd, 'removed!']);\n            Plotly.purge(gd);\n            observer.disconnect();\n        }}\n}});\n\n// Listen for the removal of the full notebook cells\nvar notebookContainer = gd.closest('#notebook-container');\nif (notebookContainer) {{\n    x.observe(notebookContainer, {childList: true});\n}}\n\n// Listen for the clearing of the current output cell\nvar outputEl = gd.closest('.output');\nif (outputEl) {{\n    x.observe(outputEl, {childList: true});\n}}\n\n                        })                };                });            </script>        </div>"
     },
     "metadata": {}
    }
   ],
   "source": [
    "\n",
    "plot_corr_dendogram(final_df, feat_col, 'Propiedades físico-químicas')"
   ]
  },
  {
   "cell_type": "code",
   "execution_count": 204,
   "metadata": {},
   "outputs": [
    {
     "output_type": "display_data",
     "data": {
      "application/vnd.plotly.v1+json": {
       "config": {
        "linkText": "Export to plot.ly",
        "plotlyServerURL": "https://plot.ly",
        "showLink": false
       },
       "data": [
        {
         "hoverinfo": "text",
         "marker": {
          "color": "rgb(0,116,217)"
         },
         "mode": "lines",
         "type": "scatter",
         "x": [
          25,
          25,
          35,
          35
         ],
         "xaxis": "x",
         "y": [
          0,
          1.138386267920647,
          1.138386267920647,
          0
         ],
         "yaxis": "y2"
        },
        {
         "hoverinfo": "text",
         "marker": {
          "color": "rgb(0,116,217)"
         },
         "mode": "lines",
         "type": "scatter",
         "x": [
          15,
          15,
          30,
          30
         ],
         "xaxis": "x",
         "y": [
          0,
          1.1009190722622824,
          1.1009190722622824,
          1.138386267920647
         ],
         "yaxis": "y2"
        },
        {
         "hoverinfo": "text",
         "marker": {
          "color": "rgb(0,116,217)"
         },
         "mode": "lines",
         "type": "scatter",
         "x": [
          5,
          5,
          22.5,
          22.5
         ],
         "xaxis": "x",
         "y": [
          0,
          1.0490279551302837,
          1.0490279551302837,
          1.1009190722622824
         ],
         "yaxis": "y2"
        },
        {
         "hoverinfo": "text",
         "marker": {
          "color": "rgb(0,116,217)"
         },
         "mode": "lines",
         "type": "scatter",
         "x": [
          0,
          -1.138386267920647,
          -1.138386267920647,
          0
         ],
         "xaxis": "x2",
         "y": [
          25,
          25,
          35,
          35
         ],
         "yaxis": "y"
        },
        {
         "hoverinfo": "text",
         "marker": {
          "color": "rgb(0,116,217)"
         },
         "mode": "lines",
         "type": "scatter",
         "x": [
          0,
          -1.1009190722622824,
          -1.1009190722622824,
          -1.138386267920647
         ],
         "xaxis": "x2",
         "y": [
          15,
          15,
          30,
          30
         ],
         "yaxis": "y"
        },
        {
         "hoverinfo": "text",
         "marker": {
          "color": "rgb(0,116,217)"
         },
         "mode": "lines",
         "type": "scatter",
         "x": [
          0,
          -1.0490279551302837,
          -1.0490279551302837,
          -1.1009190722622824
         ],
         "xaxis": "x2",
         "y": [
          5,
          5,
          22.5,
          22.5
         ],
         "yaxis": "y"
        },
        {
         "colorbar": {
          "title": {
           "text": "Correlación (abs)"
          }
         },
         "type": "heatmap",
         "x": [
          5,
          15,
          25,
          35
         ],
         "y": [
          5,
          15,
          25,
          35
         ],
         "z": [
          [
           1,
           0.16937981789003254,
           0.1443184362952596,
           0.007788138663034455
          ],
          [
           0.16937981789003254,
           1,
           0.1391381849332868,
           0.11893632634140695
          ],
          [
           0.1443184362952596,
           0.1391381849332868,
           1,
           0.20097726636590985
          ],
          [
           0.007788138663034455,
           0.11893632634140695,
           0.20097726636590985,
           1
          ]
         ]
        }
       ],
       "layout": {
        "autosize": false,
        "height": 800,
        "hovermode": "closest",
        "showlegend": false,
        "template": {
         "data": {
          "bar": [
           {
            "error_x": {
             "color": "#2a3f5f"
            },
            "error_y": {
             "color": "#2a3f5f"
            },
            "marker": {
             "line": {
              "color": "#E5ECF6",
              "width": 0.5
             }
            },
            "type": "bar"
           }
          ],
          "barpolar": [
           {
            "marker": {
             "line": {
              "color": "#E5ECF6",
              "width": 0.5
             }
            },
            "type": "barpolar"
           }
          ],
          "carpet": [
           {
            "aaxis": {
             "endlinecolor": "#2a3f5f",
             "gridcolor": "white",
             "linecolor": "white",
             "minorgridcolor": "white",
             "startlinecolor": "#2a3f5f"
            },
            "baxis": {
             "endlinecolor": "#2a3f5f",
             "gridcolor": "white",
             "linecolor": "white",
             "minorgridcolor": "white",
             "startlinecolor": "#2a3f5f"
            },
            "type": "carpet"
           }
          ],
          "choropleth": [
           {
            "colorbar": {
             "outlinewidth": 0,
             "ticks": ""
            },
            "type": "choropleth"
           }
          ],
          "contour": [
           {
            "colorbar": {
             "outlinewidth": 0,
             "ticks": ""
            },
            "colorscale": [
             [
              0,
              "#0d0887"
             ],
             [
              0.1111111111111111,
              "#46039f"
             ],
             [
              0.2222222222222222,
              "#7201a8"
             ],
             [
              0.3333333333333333,
              "#9c179e"
             ],
             [
              0.4444444444444444,
              "#bd3786"
             ],
             [
              0.5555555555555556,
              "#d8576b"
             ],
             [
              0.6666666666666666,
              "#ed7953"
             ],
             [
              0.7777777777777778,
              "#fb9f3a"
             ],
             [
              0.8888888888888888,
              "#fdca26"
             ],
             [
              1,
              "#f0f921"
             ]
            ],
            "type": "contour"
           }
          ],
          "contourcarpet": [
           {
            "colorbar": {
             "outlinewidth": 0,
             "ticks": ""
            },
            "type": "contourcarpet"
           }
          ],
          "heatmap": [
           {
            "colorbar": {
             "outlinewidth": 0,
             "ticks": ""
            },
            "colorscale": [
             [
              0,
              "#0d0887"
             ],
             [
              0.1111111111111111,
              "#46039f"
             ],
             [
              0.2222222222222222,
              "#7201a8"
             ],
             [
              0.3333333333333333,
              "#9c179e"
             ],
             [
              0.4444444444444444,
              "#bd3786"
             ],
             [
              0.5555555555555556,
              "#d8576b"
             ],
             [
              0.6666666666666666,
              "#ed7953"
             ],
             [
              0.7777777777777778,
              "#fb9f3a"
             ],
             [
              0.8888888888888888,
              "#fdca26"
             ],
             [
              1,
              "#f0f921"
             ]
            ],
            "type": "heatmap"
           }
          ],
          "heatmapgl": [
           {
            "colorbar": {
             "outlinewidth": 0,
             "ticks": ""
            },
            "colorscale": [
             [
              0,
              "#0d0887"
             ],
             [
              0.1111111111111111,
              "#46039f"
             ],
             [
              0.2222222222222222,
              "#7201a8"
             ],
             [
              0.3333333333333333,
              "#9c179e"
             ],
             [
              0.4444444444444444,
              "#bd3786"
             ],
             [
              0.5555555555555556,
              "#d8576b"
             ],
             [
              0.6666666666666666,
              "#ed7953"
             ],
             [
              0.7777777777777778,
              "#fb9f3a"
             ],
             [
              0.8888888888888888,
              "#fdca26"
             ],
             [
              1,
              "#f0f921"
             ]
            ],
            "type": "heatmapgl"
           }
          ],
          "histogram": [
           {
            "marker": {
             "colorbar": {
              "outlinewidth": 0,
              "ticks": ""
             }
            },
            "type": "histogram"
           }
          ],
          "histogram2d": [
           {
            "colorbar": {
             "outlinewidth": 0,
             "ticks": ""
            },
            "colorscale": [
             [
              0,
              "#0d0887"
             ],
             [
              0.1111111111111111,
              "#46039f"
             ],
             [
              0.2222222222222222,
              "#7201a8"
             ],
             [
              0.3333333333333333,
              "#9c179e"
             ],
             [
              0.4444444444444444,
              "#bd3786"
             ],
             [
              0.5555555555555556,
              "#d8576b"
             ],
             [
              0.6666666666666666,
              "#ed7953"
             ],
             [
              0.7777777777777778,
              "#fb9f3a"
             ],
             [
              0.8888888888888888,
              "#fdca26"
             ],
             [
              1,
              "#f0f921"
             ]
            ],
            "type": "histogram2d"
           }
          ],
          "histogram2dcontour": [
           {
            "colorbar": {
             "outlinewidth": 0,
             "ticks": ""
            },
            "colorscale": [
             [
              0,
              "#0d0887"
             ],
             [
              0.1111111111111111,
              "#46039f"
             ],
             [
              0.2222222222222222,
              "#7201a8"
             ],
             [
              0.3333333333333333,
              "#9c179e"
             ],
             [
              0.4444444444444444,
              "#bd3786"
             ],
             [
              0.5555555555555556,
              "#d8576b"
             ],
             [
              0.6666666666666666,
              "#ed7953"
             ],
             [
              0.7777777777777778,
              "#fb9f3a"
             ],
             [
              0.8888888888888888,
              "#fdca26"
             ],
             [
              1,
              "#f0f921"
             ]
            ],
            "type": "histogram2dcontour"
           }
          ],
          "mesh3d": [
           {
            "colorbar": {
             "outlinewidth": 0,
             "ticks": ""
            },
            "type": "mesh3d"
           }
          ],
          "parcoords": [
           {
            "line": {
             "colorbar": {
              "outlinewidth": 0,
              "ticks": ""
             }
            },
            "type": "parcoords"
           }
          ],
          "pie": [
           {
            "automargin": true,
            "type": "pie"
           }
          ],
          "scatter": [
           {
            "marker": {
             "colorbar": {
              "outlinewidth": 0,
              "ticks": ""
             }
            },
            "type": "scatter"
           }
          ],
          "scatter3d": [
           {
            "line": {
             "colorbar": {
              "outlinewidth": 0,
              "ticks": ""
             }
            },
            "marker": {
             "colorbar": {
              "outlinewidth": 0,
              "ticks": ""
             }
            },
            "type": "scatter3d"
           }
          ],
          "scattercarpet": [
           {
            "marker": {
             "colorbar": {
              "outlinewidth": 0,
              "ticks": ""
             }
            },
            "type": "scattercarpet"
           }
          ],
          "scattergeo": [
           {
            "marker": {
             "colorbar": {
              "outlinewidth": 0,
              "ticks": ""
             }
            },
            "type": "scattergeo"
           }
          ],
          "scattergl": [
           {
            "marker": {
             "colorbar": {
              "outlinewidth": 0,
              "ticks": ""
             }
            },
            "type": "scattergl"
           }
          ],
          "scattermapbox": [
           {
            "marker": {
             "colorbar": {
              "outlinewidth": 0,
              "ticks": ""
             }
            },
            "type": "scattermapbox"
           }
          ],
          "scatterpolar": [
           {
            "marker": {
             "colorbar": {
              "outlinewidth": 0,
              "ticks": ""
             }
            },
            "type": "scatterpolar"
           }
          ],
          "scatterpolargl": [
           {
            "marker": {
             "colorbar": {
              "outlinewidth": 0,
              "ticks": ""
             }
            },
            "type": "scatterpolargl"
           }
          ],
          "scatterternary": [
           {
            "marker": {
             "colorbar": {
              "outlinewidth": 0,
              "ticks": ""
             }
            },
            "type": "scatterternary"
           }
          ],
          "surface": [
           {
            "colorbar": {
             "outlinewidth": 0,
             "ticks": ""
            },
            "colorscale": [
             [
              0,
              "#0d0887"
             ],
             [
              0.1111111111111111,
              "#46039f"
             ],
             [
              0.2222222222222222,
              "#7201a8"
             ],
             [
              0.3333333333333333,
              "#9c179e"
             ],
             [
              0.4444444444444444,
              "#bd3786"
             ],
             [
              0.5555555555555556,
              "#d8576b"
             ],
             [
              0.6666666666666666,
              "#ed7953"
             ],
             [
              0.7777777777777778,
              "#fb9f3a"
             ],
             [
              0.8888888888888888,
              "#fdca26"
             ],
             [
              1,
              "#f0f921"
             ]
            ],
            "type": "surface"
           }
          ],
          "table": [
           {
            "cells": {
             "fill": {
              "color": "#EBF0F8"
             },
             "line": {
              "color": "white"
             }
            },
            "header": {
             "fill": {
              "color": "#C8D4E3"
             },
             "line": {
              "color": "white"
             }
            },
            "type": "table"
           }
          ]
         },
         "layout": {
          "annotationdefaults": {
           "arrowcolor": "#2a3f5f",
           "arrowhead": 0,
           "arrowwidth": 1
          },
          "autotypenumbers": "strict",
          "coloraxis": {
           "colorbar": {
            "outlinewidth": 0,
            "ticks": ""
           }
          },
          "colorscale": {
           "diverging": [
            [
             0,
             "#8e0152"
            ],
            [
             0.1,
             "#c51b7d"
            ],
            [
             0.2,
             "#de77ae"
            ],
            [
             0.3,
             "#f1b6da"
            ],
            [
             0.4,
             "#fde0ef"
            ],
            [
             0.5,
             "#f7f7f7"
            ],
            [
             0.6,
             "#e6f5d0"
            ],
            [
             0.7,
             "#b8e186"
            ],
            [
             0.8,
             "#7fbc41"
            ],
            [
             0.9,
             "#4d9221"
            ],
            [
             1,
             "#276419"
            ]
           ],
           "sequential": [
            [
             0,
             "#0d0887"
            ],
            [
             0.1111111111111111,
             "#46039f"
            ],
            [
             0.2222222222222222,
             "#7201a8"
            ],
            [
             0.3333333333333333,
             "#9c179e"
            ],
            [
             0.4444444444444444,
             "#bd3786"
            ],
            [
             0.5555555555555556,
             "#d8576b"
            ],
            [
             0.6666666666666666,
             "#ed7953"
            ],
            [
             0.7777777777777778,
             "#fb9f3a"
            ],
            [
             0.8888888888888888,
             "#fdca26"
            ],
            [
             1,
             "#f0f921"
            ]
           ],
           "sequentialminus": [
            [
             0,
             "#0d0887"
            ],
            [
             0.1111111111111111,
             "#46039f"
            ],
            [
             0.2222222222222222,
             "#7201a8"
            ],
            [
             0.3333333333333333,
             "#9c179e"
            ],
            [
             0.4444444444444444,
             "#bd3786"
            ],
            [
             0.5555555555555556,
             "#d8576b"
            ],
            [
             0.6666666666666666,
             "#ed7953"
            ],
            [
             0.7777777777777778,
             "#fb9f3a"
            ],
            [
             0.8888888888888888,
             "#fdca26"
            ],
            [
             1,
             "#f0f921"
            ]
           ]
          },
          "colorway": [
           "#636efa",
           "#EF553B",
           "#00cc96",
           "#ab63fa",
           "#FFA15A",
           "#19d3f3",
           "#FF6692",
           "#B6E880",
           "#FF97FF",
           "#FECB52"
          ],
          "font": {
           "color": "#2a3f5f"
          },
          "geo": {
           "bgcolor": "white",
           "lakecolor": "white",
           "landcolor": "#E5ECF6",
           "showlakes": true,
           "showland": true,
           "subunitcolor": "white"
          },
          "hoverlabel": {
           "align": "left"
          },
          "hovermode": "closest",
          "mapbox": {
           "style": "light"
          },
          "paper_bgcolor": "white",
          "plot_bgcolor": "#E5ECF6",
          "polar": {
           "angularaxis": {
            "gridcolor": "white",
            "linecolor": "white",
            "ticks": ""
           },
           "bgcolor": "#E5ECF6",
           "radialaxis": {
            "gridcolor": "white",
            "linecolor": "white",
            "ticks": ""
           }
          },
          "scene": {
           "xaxis": {
            "backgroundcolor": "#E5ECF6",
            "gridcolor": "white",
            "gridwidth": 2,
            "linecolor": "white",
            "showbackground": true,
            "ticks": "",
            "zerolinecolor": "white"
           },
           "yaxis": {
            "backgroundcolor": "#E5ECF6",
            "gridcolor": "white",
            "gridwidth": 2,
            "linecolor": "white",
            "showbackground": true,
            "ticks": "",
            "zerolinecolor": "white"
           },
           "zaxis": {
            "backgroundcolor": "#E5ECF6",
            "gridcolor": "white",
            "gridwidth": 2,
            "linecolor": "white",
            "showbackground": true,
            "ticks": "",
            "zerolinecolor": "white"
           }
          },
          "shapedefaults": {
           "line": {
            "color": "#2a3f5f"
           }
          },
          "ternary": {
           "aaxis": {
            "gridcolor": "white",
            "linecolor": "white",
            "ticks": ""
           },
           "baxis": {
            "gridcolor": "white",
            "linecolor": "white",
            "ticks": ""
           },
           "bgcolor": "#E5ECF6",
           "caxis": {
            "gridcolor": "white",
            "linecolor": "white",
            "ticks": ""
           }
          },
          "title": {
           "x": 0.05
          },
          "xaxis": {
           "automargin": true,
           "gridcolor": "white",
           "linecolor": "white",
           "ticks": "",
           "title": {
            "standoff": 15
           },
           "zerolinecolor": "white",
           "zerolinewidth": 2
          },
          "yaxis": {
           "automargin": true,
           "gridcolor": "white",
           "linecolor": "white",
           "ticks": "",
           "title": {
            "standoff": 15
           },
           "zerolinecolor": "white",
           "zerolinewidth": 2
          }
         }
        },
        "title": {
         "text": "Condiciones de Reacción",
         "x": 0.5,
         "xanchor": "center",
         "y": 0.9,
         "yanchor": "top"
        },
        "width": 800,
        "xaxis": {
         "domain": [
          0.15,
          1
         ],
         "mirror": false,
         "rangemode": "tozero",
         "showgrid": false,
         "showline": false,
         "showticklabels": true,
         "tickmode": "array",
         "ticks": "",
         "ticktext": [
          "_rxn_M_acid",
          "_rxn_M_inorganic",
          "_rxn_M_organic",
          "_rxn_temperatureC_actual_bulk"
         ],
         "tickvals": [
          5,
          15,
          25,
          35
         ],
         "type": "linear",
         "zeroline": false
        },
        "xaxis2": {
         "domain": [
          0,
          0.15
         ],
         "mirror": false,
         "showgrid": false,
         "showline": false,
         "showticklabels": false,
         "ticks": "",
         "zeroline": false
        },
        "yaxis": {
         "domain": [
          0,
          0.85
         ],
         "mirror": false,
         "rangemode": "tozero",
         "showgrid": false,
         "showline": false,
         "showticklabels": false,
         "ticks": "",
         "ticktext": [
          "_rxn_M_acid",
          "_rxn_M_inorganic",
          "_rxn_M_organic",
          "_rxn_temperatureC_actual_bulk"
         ],
         "tickvals": [
          5,
          15,
          25,
          35
         ],
         "type": "linear",
         "zeroline": false
        },
        "yaxis2": {
         "domain": [
          0.825,
          0.975
         ],
         "mirror": false,
         "showgrid": false,
         "showline": false,
         "showticklabels": false,
         "ticks": "",
         "zeroline": false
        }
       }
      },
      "text/html": "<div>                            <div id=\"6f401d74-2324-4190-af62-a967879a21a6\" class=\"plotly-graph-div\" style=\"height:800px; width:800px;\"></div>            <script type=\"text/javascript\">                require([\"plotly\"], function(Plotly) {                    window.PLOTLYENV=window.PLOTLYENV || {};                                    if (document.getElementById(\"6f401d74-2324-4190-af62-a967879a21a6\")) {                    Plotly.newPlot(                        \"6f401d74-2324-4190-af62-a967879a21a6\",                        [{\"hoverinfo\": \"text\", \"marker\": {\"color\": \"rgb(0,116,217)\"}, \"mode\": \"lines\", \"type\": \"scatter\", \"x\": [25.0, 25.0, 35.0, 35.0], \"xaxis\": \"x\", \"y\": [0.0, 1.138386267920647, 1.138386267920647, 0.0], \"yaxis\": \"y2\"}, {\"hoverinfo\": \"text\", \"marker\": {\"color\": \"rgb(0,116,217)\"}, \"mode\": \"lines\", \"type\": \"scatter\", \"x\": [15.0, 15.0, 30.0, 30.0], \"xaxis\": \"x\", \"y\": [0.0, 1.1009190722622824, 1.1009190722622824, 1.138386267920647], \"yaxis\": \"y2\"}, {\"hoverinfo\": \"text\", \"marker\": {\"color\": \"rgb(0,116,217)\"}, \"mode\": \"lines\", \"type\": \"scatter\", \"x\": [5.0, 5.0, 22.5, 22.5], \"xaxis\": \"x\", \"y\": [0.0, 1.0490279551302837, 1.0490279551302837, 1.1009190722622824], \"yaxis\": \"y2\"}, {\"hoverinfo\": \"text\", \"marker\": {\"color\": \"rgb(0,116,217)\"}, \"mode\": \"lines\", \"type\": \"scatter\", \"x\": [-0.0, -1.138386267920647, -1.138386267920647, -0.0], \"xaxis\": \"x2\", \"y\": [25.0, 25.0, 35.0, 35.0], \"yaxis\": \"y\"}, {\"hoverinfo\": \"text\", \"marker\": {\"color\": \"rgb(0,116,217)\"}, \"mode\": \"lines\", \"type\": \"scatter\", \"x\": [-0.0, -1.1009190722622824, -1.1009190722622824, -1.138386267920647], \"xaxis\": \"x2\", \"y\": [15.0, 15.0, 30.0, 30.0], \"yaxis\": \"y\"}, {\"hoverinfo\": \"text\", \"marker\": {\"color\": \"rgb(0,116,217)\"}, \"mode\": \"lines\", \"type\": \"scatter\", \"x\": [-0.0, -1.0490279551302837, -1.0490279551302837, -1.1009190722622824], \"xaxis\": \"x2\", \"y\": [5.0, 5.0, 22.5, 22.5], \"yaxis\": \"y\"}, {\"colorbar\": {\"title\": {\"text\": \"Correlaci\\u00f3n (abs)\"}}, \"type\": \"heatmap\", \"x\": [5.0, 15.0, 25.0, 35.0], \"y\": [5.0, 15.0, 25.0, 35.0], \"z\": [[1.0, 0.16937981789003254, 0.1443184362952596, 0.007788138663034455], [0.16937981789003254, 1.0, 0.1391381849332868, 0.11893632634140695], [0.1443184362952596, 0.1391381849332868, 1.0, 0.20097726636590985], [0.007788138663034455, 0.11893632634140695, 0.20097726636590985, 1.0]]}],                        {\"autosize\": false, \"height\": 800, \"hovermode\": \"closest\", \"showlegend\": false, \"template\": {\"data\": {\"bar\": [{\"error_x\": {\"color\": \"#2a3f5f\"}, \"error_y\": {\"color\": \"#2a3f5f\"}, \"marker\": {\"line\": {\"color\": \"#E5ECF6\", \"width\": 0.5}}, \"type\": \"bar\"}], \"barpolar\": [{\"marker\": {\"line\": {\"color\": \"#E5ECF6\", \"width\": 0.5}}, \"type\": \"barpolar\"}], \"carpet\": [{\"aaxis\": {\"endlinecolor\": \"#2a3f5f\", \"gridcolor\": \"white\", \"linecolor\": \"white\", \"minorgridcolor\": \"white\", \"startlinecolor\": \"#2a3f5f\"}, \"baxis\": {\"endlinecolor\": \"#2a3f5f\", \"gridcolor\": \"white\", \"linecolor\": \"white\", \"minorgridcolor\": \"white\", \"startlinecolor\": \"#2a3f5f\"}, \"type\": \"carpet\"}], \"choropleth\": [{\"colorbar\": {\"outlinewidth\": 0, \"ticks\": \"\"}, \"type\": \"choropleth\"}], \"contour\": [{\"colorbar\": {\"outlinewidth\": 0, \"ticks\": \"\"}, \"colorscale\": [[0.0, \"#0d0887\"], [0.1111111111111111, \"#46039f\"], [0.2222222222222222, \"#7201a8\"], [0.3333333333333333, \"#9c179e\"], [0.4444444444444444, \"#bd3786\"], [0.5555555555555556, \"#d8576b\"], [0.6666666666666666, \"#ed7953\"], [0.7777777777777778, \"#fb9f3a\"], [0.8888888888888888, \"#fdca26\"], [1.0, \"#f0f921\"]], \"type\": \"contour\"}], \"contourcarpet\": [{\"colorbar\": {\"outlinewidth\": 0, \"ticks\": \"\"}, \"type\": \"contourcarpet\"}], \"heatmap\": [{\"colorbar\": {\"outlinewidth\": 0, \"ticks\": \"\"}, \"colorscale\": [[0.0, \"#0d0887\"], [0.1111111111111111, \"#46039f\"], [0.2222222222222222, \"#7201a8\"], [0.3333333333333333, \"#9c179e\"], [0.4444444444444444, \"#bd3786\"], [0.5555555555555556, \"#d8576b\"], [0.6666666666666666, \"#ed7953\"], [0.7777777777777778, \"#fb9f3a\"], [0.8888888888888888, \"#fdca26\"], [1.0, \"#f0f921\"]], \"type\": \"heatmap\"}], \"heatmapgl\": [{\"colorbar\": {\"outlinewidth\": 0, \"ticks\": \"\"}, \"colorscale\": [[0.0, \"#0d0887\"], [0.1111111111111111, \"#46039f\"], [0.2222222222222222, \"#7201a8\"], [0.3333333333333333, \"#9c179e\"], [0.4444444444444444, \"#bd3786\"], [0.5555555555555556, \"#d8576b\"], [0.6666666666666666, \"#ed7953\"], [0.7777777777777778, \"#fb9f3a\"], [0.8888888888888888, \"#fdca26\"], [1.0, \"#f0f921\"]], \"type\": \"heatmapgl\"}], \"histogram\": [{\"marker\": {\"colorbar\": {\"outlinewidth\": 0, \"ticks\": \"\"}}, \"type\": \"histogram\"}], \"histogram2d\": [{\"colorbar\": {\"outlinewidth\": 0, \"ticks\": \"\"}, \"colorscale\": [[0.0, \"#0d0887\"], [0.1111111111111111, \"#46039f\"], [0.2222222222222222, \"#7201a8\"], [0.3333333333333333, \"#9c179e\"], [0.4444444444444444, \"#bd3786\"], [0.5555555555555556, \"#d8576b\"], [0.6666666666666666, \"#ed7953\"], [0.7777777777777778, \"#fb9f3a\"], [0.8888888888888888, \"#fdca26\"], [1.0, \"#f0f921\"]], \"type\": \"histogram2d\"}], \"histogram2dcontour\": [{\"colorbar\": {\"outlinewidth\": 0, \"ticks\": \"\"}, \"colorscale\": [[0.0, \"#0d0887\"], [0.1111111111111111, \"#46039f\"], [0.2222222222222222, \"#7201a8\"], [0.3333333333333333, \"#9c179e\"], [0.4444444444444444, \"#bd3786\"], [0.5555555555555556, \"#d8576b\"], [0.6666666666666666, \"#ed7953\"], [0.7777777777777778, \"#fb9f3a\"], [0.8888888888888888, \"#fdca26\"], [1.0, \"#f0f921\"]], \"type\": \"histogram2dcontour\"}], \"mesh3d\": [{\"colorbar\": {\"outlinewidth\": 0, \"ticks\": \"\"}, \"type\": \"mesh3d\"}], \"parcoords\": [{\"line\": {\"colorbar\": {\"outlinewidth\": 0, \"ticks\": \"\"}}, \"type\": \"parcoords\"}], \"pie\": [{\"automargin\": true, \"type\": \"pie\"}], \"scatter\": [{\"marker\": {\"colorbar\": {\"outlinewidth\": 0, \"ticks\": \"\"}}, \"type\": \"scatter\"}], \"scatter3d\": [{\"line\": {\"colorbar\": {\"outlinewidth\": 0, \"ticks\": \"\"}}, \"marker\": {\"colorbar\": {\"outlinewidth\": 0, \"ticks\": \"\"}}, \"type\": \"scatter3d\"}], \"scattercarpet\": [{\"marker\": {\"colorbar\": {\"outlinewidth\": 0, \"ticks\": \"\"}}, \"type\": \"scattercarpet\"}], \"scattergeo\": [{\"marker\": {\"colorbar\": {\"outlinewidth\": 0, \"ticks\": \"\"}}, \"type\": \"scattergeo\"}], \"scattergl\": [{\"marker\": {\"colorbar\": {\"outlinewidth\": 0, \"ticks\": \"\"}}, \"type\": \"scattergl\"}], \"scattermapbox\": [{\"marker\": {\"colorbar\": {\"outlinewidth\": 0, \"ticks\": \"\"}}, \"type\": \"scattermapbox\"}], \"scatterpolar\": [{\"marker\": {\"colorbar\": {\"outlinewidth\": 0, \"ticks\": \"\"}}, \"type\": \"scatterpolar\"}], \"scatterpolargl\": [{\"marker\": {\"colorbar\": {\"outlinewidth\": 0, \"ticks\": \"\"}}, \"type\": \"scatterpolargl\"}], \"scatterternary\": [{\"marker\": {\"colorbar\": {\"outlinewidth\": 0, \"ticks\": \"\"}}, \"type\": \"scatterternary\"}], \"surface\": [{\"colorbar\": {\"outlinewidth\": 0, \"ticks\": \"\"}, \"colorscale\": [[0.0, \"#0d0887\"], [0.1111111111111111, \"#46039f\"], [0.2222222222222222, \"#7201a8\"], [0.3333333333333333, \"#9c179e\"], [0.4444444444444444, \"#bd3786\"], [0.5555555555555556, \"#d8576b\"], [0.6666666666666666, \"#ed7953\"], [0.7777777777777778, \"#fb9f3a\"], [0.8888888888888888, \"#fdca26\"], [1.0, \"#f0f921\"]], \"type\": \"surface\"}], \"table\": [{\"cells\": {\"fill\": {\"color\": \"#EBF0F8\"}, \"line\": {\"color\": \"white\"}}, \"header\": {\"fill\": {\"color\": \"#C8D4E3\"}, \"line\": {\"color\": \"white\"}}, \"type\": \"table\"}]}, \"layout\": {\"annotationdefaults\": {\"arrowcolor\": \"#2a3f5f\", \"arrowhead\": 0, \"arrowwidth\": 1}, \"autotypenumbers\": \"strict\", \"coloraxis\": {\"colorbar\": {\"outlinewidth\": 0, \"ticks\": \"\"}}, \"colorscale\": {\"diverging\": [[0, \"#8e0152\"], [0.1, \"#c51b7d\"], [0.2, \"#de77ae\"], [0.3, \"#f1b6da\"], [0.4, \"#fde0ef\"], [0.5, \"#f7f7f7\"], [0.6, \"#e6f5d0\"], [0.7, \"#b8e186\"], [0.8, \"#7fbc41\"], [0.9, \"#4d9221\"], [1, \"#276419\"]], \"sequential\": [[0.0, \"#0d0887\"], [0.1111111111111111, \"#46039f\"], [0.2222222222222222, \"#7201a8\"], [0.3333333333333333, \"#9c179e\"], [0.4444444444444444, \"#bd3786\"], [0.5555555555555556, \"#d8576b\"], [0.6666666666666666, \"#ed7953\"], [0.7777777777777778, \"#fb9f3a\"], [0.8888888888888888, \"#fdca26\"], [1.0, \"#f0f921\"]], \"sequentialminus\": [[0.0, \"#0d0887\"], [0.1111111111111111, \"#46039f\"], [0.2222222222222222, \"#7201a8\"], [0.3333333333333333, \"#9c179e\"], [0.4444444444444444, \"#bd3786\"], [0.5555555555555556, \"#d8576b\"], [0.6666666666666666, \"#ed7953\"], [0.7777777777777778, \"#fb9f3a\"], [0.8888888888888888, \"#fdca26\"], [1.0, \"#f0f921\"]]}, \"colorway\": [\"#636efa\", \"#EF553B\", \"#00cc96\", \"#ab63fa\", \"#FFA15A\", \"#19d3f3\", \"#FF6692\", \"#B6E880\", \"#FF97FF\", \"#FECB52\"], \"font\": {\"color\": \"#2a3f5f\"}, \"geo\": {\"bgcolor\": \"white\", \"lakecolor\": \"white\", \"landcolor\": \"#E5ECF6\", \"showlakes\": true, \"showland\": true, \"subunitcolor\": \"white\"}, \"hoverlabel\": {\"align\": \"left\"}, \"hovermode\": \"closest\", \"mapbox\": {\"style\": \"light\"}, \"paper_bgcolor\": \"white\", \"plot_bgcolor\": \"#E5ECF6\", \"polar\": {\"angularaxis\": {\"gridcolor\": \"white\", \"linecolor\": \"white\", \"ticks\": \"\"}, \"bgcolor\": \"#E5ECF6\", \"radialaxis\": {\"gridcolor\": \"white\", \"linecolor\": \"white\", \"ticks\": \"\"}}, \"scene\": {\"xaxis\": {\"backgroundcolor\": \"#E5ECF6\", \"gridcolor\": \"white\", \"gridwidth\": 2, \"linecolor\": \"white\", \"showbackground\": true, \"ticks\": \"\", \"zerolinecolor\": \"white\"}, \"yaxis\": {\"backgroundcolor\": \"#E5ECF6\", \"gridcolor\": \"white\", \"gridwidth\": 2, \"linecolor\": \"white\", \"showbackground\": true, \"ticks\": \"\", \"zerolinecolor\": \"white\"}, \"zaxis\": {\"backgroundcolor\": \"#E5ECF6\", \"gridcolor\": \"white\", \"gridwidth\": 2, \"linecolor\": \"white\", \"showbackground\": true, \"ticks\": \"\", \"zerolinecolor\": \"white\"}}, \"shapedefaults\": {\"line\": {\"color\": \"#2a3f5f\"}}, \"ternary\": {\"aaxis\": {\"gridcolor\": \"white\", \"linecolor\": \"white\", \"ticks\": \"\"}, \"baxis\": {\"gridcolor\": \"white\", \"linecolor\": \"white\", \"ticks\": \"\"}, \"bgcolor\": \"#E5ECF6\", \"caxis\": {\"gridcolor\": \"white\", \"linecolor\": \"white\", \"ticks\": \"\"}}, \"title\": {\"x\": 0.05}, \"xaxis\": {\"automargin\": true, \"gridcolor\": \"white\", \"linecolor\": \"white\", \"ticks\": \"\", \"title\": {\"standoff\": 15}, \"zerolinecolor\": \"white\", \"zerolinewidth\": 2}, \"yaxis\": {\"automargin\": true, \"gridcolor\": \"white\", \"linecolor\": \"white\", \"ticks\": \"\", \"title\": {\"standoff\": 15}, \"zerolinecolor\": \"white\", \"zerolinewidth\": 2}}}, \"title\": {\"text\": \"Condiciones de Reacci\\u00f3n\", \"x\": 0.5, \"xanchor\": \"center\", \"y\": 0.9, \"yanchor\": \"top\"}, \"width\": 800, \"xaxis\": {\"domain\": [0.15, 1], \"mirror\": false, \"rangemode\": \"tozero\", \"showgrid\": false, \"showline\": false, \"showticklabels\": true, \"tickmode\": \"array\", \"ticks\": \"\", \"ticktext\": [\"_rxn_M_acid\", \"_rxn_M_inorganic\", \"_rxn_M_organic\", \"_rxn_temperatureC_actual_bulk\"], \"tickvals\": [5.0, 15.0, 25.0, 35.0], \"type\": \"linear\", \"zeroline\": false}, \"xaxis2\": {\"domain\": [0, 0.15], \"mirror\": false, \"showgrid\": false, \"showline\": false, \"showticklabels\": false, \"ticks\": \"\", \"zeroline\": false}, \"yaxis\": {\"domain\": [0, 0.85], \"mirror\": false, \"rangemode\": \"tozero\", \"showgrid\": false, \"showline\": false, \"showticklabels\": false, \"ticks\": \"\", \"ticktext\": [\"_rxn_M_acid\", \"_rxn_M_inorganic\", \"_rxn_M_organic\", \"_rxn_temperatureC_actual_bulk\"], \"tickvals\": [5.0, 15.0, 25.0, 35.0], \"type\": \"linear\", \"zeroline\": false}, \"yaxis2\": {\"domain\": [0.825, 0.975], \"mirror\": false, \"showgrid\": false, \"showline\": false, \"showticklabels\": false, \"ticks\": \"\", \"zeroline\": false}},                        {\"responsive\": true}                    ).then(function(){\n                            \nvar gd = document.getElementById('6f401d74-2324-4190-af62-a967879a21a6');\nvar x = new MutationObserver(function (mutations, observer) {{\n        var display = window.getComputedStyle(gd).display;\n        if (!display || display === 'none') {{\n            console.log([gd, 'removed!']);\n            Plotly.purge(gd);\n            observer.disconnect();\n        }}\n}});\n\n// Listen for the removal of the full notebook cells\nvar notebookContainer = gd.closest('#notebook-container');\nif (notebookContainer) {{\n    x.observe(notebookContainer, {childList: true});\n}}\n\n// Listen for the clearing of the current output cell\nvar outputEl = gd.closest('.output');\nif (outputEl) {{\n    x.observe(outputEl, {childList: true});\n}}\n\n                        })                };                });            </script>        </div>"
     },
     "metadata": {}
    }
   ],
   "source": [
    "plot_corr_dendogram(final_df, solud_col, 'Condiciones de Reacción')\n"
   ]
  },
  {
   "cell_type": "code",
   "execution_count": 195,
   "metadata": {},
   "outputs": [
    {
     "output_type": "display_data",
     "data": {
      "application/vnd.plotly.v1+json": {
       "config": {
        "linkText": "Export to plot.ly",
        "plotlyServerURL": "https://plot.ly",
        "showLink": false
       },
       "data": [
        {
         "hoverinfo": "text",
         "marker": {
          "color": "rgb(61,153,112)"
         },
         "mode": "lines",
         "type": "scatter",
         "x": [
          25,
          25,
          35,
          35
         ],
         "xaxis": "x",
         "y": [
          0,
          0.021710862788720232,
          0.021710862788720232,
          0
         ],
         "yaxis": "y2"
        },
        {
         "hoverinfo": "text",
         "marker": {
          "color": "rgb(61,153,112)"
         },
         "mode": "lines",
         "type": "scatter",
         "x": [
          15,
          15,
          30,
          30
         ],
         "xaxis": "x",
         "y": [
          0,
          0.029430769124701512,
          0.029430769124701512,
          0.021710862788720232
         ],
         "yaxis": "y2"
        },
        {
         "hoverinfo": "text",
         "marker": {
          "color": "rgb(61,153,112)"
         },
         "mode": "lines",
         "type": "scatter",
         "x": [
          22.5,
          22.5,
          45,
          45
         ],
         "xaxis": "x",
         "y": [
          0.029430769124701512,
          0.04318437806192933,
          0.04318437806192933,
          0
         ],
         "yaxis": "y2"
        },
        {
         "hoverinfo": "text",
         "marker": {
          "color": "rgb(0,116,217)"
         },
         "mode": "lines",
         "type": "scatter",
         "x": [
          33.75,
          33.75,
          55,
          55
         ],
         "xaxis": "x",
         "y": [
          0.04318437806192933,
          0.9724959978277716,
          0.9724959978277716,
          0
         ],
         "yaxis": "y2"
        },
        {
         "hoverinfo": "text",
         "marker": {
          "color": "rgb(255,65,54)"
         },
         "mode": "lines",
         "type": "scatter",
         "x": [
          75,
          75,
          85,
          85
         ],
         "xaxis": "x",
         "y": [
          0,
          0.7093973173759354,
          0.7093973173759354,
          0
         ],
         "yaxis": "y2"
        },
        {
         "hoverinfo": "text",
         "marker": {
          "color": "rgb(0,116,217)"
         },
         "mode": "lines",
         "type": "scatter",
         "x": [
          80,
          80,
          95,
          95
         ],
         "xaxis": "x",
         "y": [
          0.7093973173759354,
          1.0132674261711283,
          1.0132674261711283,
          0
         ],
         "yaxis": "y2"
        },
        {
         "hoverinfo": "text",
         "marker": {
          "color": "rgb(0,116,217)"
         },
         "mode": "lines",
         "type": "scatter",
         "x": [
          87.5,
          87.5,
          105,
          105
         ],
         "xaxis": "x",
         "y": [
          1.0132674261711283,
          1.1490744358996865,
          1.1490744358996865,
          0
         ],
         "yaxis": "y2"
        },
        {
         "hoverinfo": "text",
         "marker": {
          "color": "rgb(0,116,217)"
         },
         "mode": "lines",
         "type": "scatter",
         "x": [
          65,
          65,
          96.25,
          96.25
         ],
         "xaxis": "x",
         "y": [
          0,
          1.1593930937604444,
          1.1593930937604444,
          1.1490744358996865
         ],
         "yaxis": "y2"
        },
        {
         "hoverinfo": "text",
         "marker": {
          "color": "rgb(0,116,217)"
         },
         "mode": "lines",
         "type": "scatter",
         "x": [
          44.375,
          44.375,
          80.625,
          80.625
         ],
         "xaxis": "x",
         "y": [
          0.9724959978277716,
          1.1121993232728726,
          1.1121993232728726,
          1.1593930937604444
         ],
         "yaxis": "y2"
        },
        {
         "hoverinfo": "text",
         "marker": {
          "color": "rgb(0,116,217)"
         },
         "mode": "lines",
         "type": "scatter",
         "x": [
          62.5,
          62.5,
          115,
          115
         ],
         "xaxis": "x",
         "y": [
          1.1121993232728726,
          1.3245817382481173,
          1.3245817382481173,
          0
         ],
         "yaxis": "y2"
        },
        {
         "hoverinfo": "text",
         "marker": {
          "color": "rgb(35,205,205)"
         },
         "mode": "lines",
         "type": "scatter",
         "x": [
          125,
          125,
          135,
          135
         ],
         "xaxis": "x",
         "y": [
          0,
          0.5480996496212883,
          0.5480996496212883,
          0
         ],
         "yaxis": "y2"
        },
        {
         "hoverinfo": "text",
         "marker": {
          "color": "rgb(35,205,205)"
         },
         "mode": "lines",
         "type": "scatter",
         "x": [
          145,
          145,
          155,
          155
         ],
         "xaxis": "x",
         "y": [
          0,
          0.5250289491405792,
          0.5250289491405792,
          0
         ],
         "yaxis": "y2"
        },
        {
         "hoverinfo": "text",
         "marker": {
          "color": "rgb(35,205,205)"
         },
         "mode": "lines",
         "type": "scatter",
         "x": [
          130,
          130,
          150,
          150
         ],
         "xaxis": "x",
         "y": [
          0.5480996496212883,
          0.8083862917890606,
          0.8083862917890606,
          0.5250289491405792
         ],
         "yaxis": "y2"
        },
        {
         "hoverinfo": "text",
         "marker": {
          "color": "rgb(0,116,217)"
         },
         "mode": "lines",
         "type": "scatter",
         "x": [
          140,
          140,
          165,
          165
         ],
         "xaxis": "x",
         "y": [
          0.8083862917890606,
          1.0057596061439615,
          1.0057596061439615,
          0
         ],
         "yaxis": "y2"
        },
        {
         "hoverinfo": "text",
         "marker": {
          "color": "rgb(0,116,217)"
         },
         "mode": "lines",
         "type": "scatter",
         "x": [
          152.5,
          152.5,
          175,
          175
         ],
         "xaxis": "x",
         "y": [
          1.0057596061439615,
          1.0399219476127572,
          1.0399219476127572,
          0
         ],
         "yaxis": "y2"
        },
        {
         "hoverinfo": "text",
         "marker": {
          "color": "rgb(0,116,217)"
         },
         "mode": "lines",
         "type": "scatter",
         "x": [
          185,
          185,
          195,
          195
         ],
         "xaxis": "x",
         "y": [
          0,
          0.9541358101344486,
          0.9541358101344486,
          0
         ],
         "yaxis": "y2"
        },
        {
         "hoverinfo": "text",
         "marker": {
          "color": "rgb(0,116,217)"
         },
         "mode": "lines",
         "type": "scatter",
         "x": [
          163.75,
          163.75,
          190,
          190
         ],
         "xaxis": "x",
         "y": [
          1.0399219476127572,
          0.9704825706814484,
          0.9704825706814484,
          0.9541358101344486
         ],
         "yaxis": "y2"
        },
        {
         "hoverinfo": "text",
         "marker": {
          "color": "rgb(0,116,217)"
         },
         "mode": "lines",
         "type": "scatter",
         "x": [
          176.875,
          176.875,
          205,
          205
         ],
         "xaxis": "x",
         "y": [
          0.9704825706814484,
          1.136118918799711,
          1.136118918799711,
          0
         ],
         "yaxis": "y2"
        },
        {
         "hoverinfo": "text",
         "marker": {
          "color": "rgb(0,116,217)"
         },
         "mode": "lines",
         "type": "scatter",
         "x": [
          88.75,
          88.75,
          190.9375,
          190.9375
         ],
         "xaxis": "x",
         "y": [
          1.3245817382481173,
          1.2422035448204216,
          1.2422035448204216,
          1.136118918799711
         ],
         "yaxis": "y2"
        },
        {
         "hoverinfo": "text",
         "marker": {
          "color": "rgb(0,116,217)"
         },
         "mode": "lines",
         "type": "scatter",
         "x": [
          5,
          5,
          139.84375,
          139.84375
         ],
         "xaxis": "x",
         "y": [
          0,
          1.2113585120170574,
          1.2113585120170574,
          1.2422035448204216
         ],
         "yaxis": "y2"
        },
        {
         "hoverinfo": "text",
         "marker": {
          "color": "rgb(61,153,112)"
         },
         "mode": "lines",
         "type": "scatter",
         "x": [
          0,
          -0.021710862788720232,
          -0.021710862788720232,
          0
         ],
         "xaxis": "x2",
         "y": [
          25,
          25,
          35,
          35
         ],
         "yaxis": "y"
        },
        {
         "hoverinfo": "text",
         "marker": {
          "color": "rgb(61,153,112)"
         },
         "mode": "lines",
         "type": "scatter",
         "x": [
          0,
          -0.029430769124701512,
          -0.029430769124701512,
          -0.021710862788720232
         ],
         "xaxis": "x2",
         "y": [
          15,
          15,
          30,
          30
         ],
         "yaxis": "y"
        },
        {
         "hoverinfo": "text",
         "marker": {
          "color": "rgb(61,153,112)"
         },
         "mode": "lines",
         "type": "scatter",
         "x": [
          -0.029430769124701512,
          -0.04318437806192933,
          -0.04318437806192933,
          0
         ],
         "xaxis": "x2",
         "y": [
          22.5,
          22.5,
          45,
          45
         ],
         "yaxis": "y"
        },
        {
         "hoverinfo": "text",
         "marker": {
          "color": "rgb(0,116,217)"
         },
         "mode": "lines",
         "type": "scatter",
         "x": [
          -0.04318437806192933,
          -0.9724959978277716,
          -0.9724959978277716,
          0
         ],
         "xaxis": "x2",
         "y": [
          33.75,
          33.75,
          55,
          55
         ],
         "yaxis": "y"
        },
        {
         "hoverinfo": "text",
         "marker": {
          "color": "rgb(255,65,54)"
         },
         "mode": "lines",
         "type": "scatter",
         "x": [
          0,
          -0.7093973173759354,
          -0.7093973173759354,
          0
         ],
         "xaxis": "x2",
         "y": [
          75,
          75,
          85,
          85
         ],
         "yaxis": "y"
        },
        {
         "hoverinfo": "text",
         "marker": {
          "color": "rgb(0,116,217)"
         },
         "mode": "lines",
         "type": "scatter",
         "x": [
          -0.7093973173759354,
          -1.0132674261711283,
          -1.0132674261711283,
          0
         ],
         "xaxis": "x2",
         "y": [
          80,
          80,
          95,
          95
         ],
         "yaxis": "y"
        },
        {
         "hoverinfo": "text",
         "marker": {
          "color": "rgb(0,116,217)"
         },
         "mode": "lines",
         "type": "scatter",
         "x": [
          -1.0132674261711283,
          -1.1490744358996865,
          -1.1490744358996865,
          0
         ],
         "xaxis": "x2",
         "y": [
          87.5,
          87.5,
          105,
          105
         ],
         "yaxis": "y"
        },
        {
         "hoverinfo": "text",
         "marker": {
          "color": "rgb(0,116,217)"
         },
         "mode": "lines",
         "type": "scatter",
         "x": [
          0,
          -1.1593930937604444,
          -1.1593930937604444,
          -1.1490744358996865
         ],
         "xaxis": "x2",
         "y": [
          65,
          65,
          96.25,
          96.25
         ],
         "yaxis": "y"
        },
        {
         "hoverinfo": "text",
         "marker": {
          "color": "rgb(0,116,217)"
         },
         "mode": "lines",
         "type": "scatter",
         "x": [
          -0.9724959978277716,
          -1.1121993232728726,
          -1.1121993232728726,
          -1.1593930937604444
         ],
         "xaxis": "x2",
         "y": [
          44.375,
          44.375,
          80.625,
          80.625
         ],
         "yaxis": "y"
        },
        {
         "hoverinfo": "text",
         "marker": {
          "color": "rgb(0,116,217)"
         },
         "mode": "lines",
         "type": "scatter",
         "x": [
          -1.1121993232728726,
          -1.3245817382481173,
          -1.3245817382481173,
          0
         ],
         "xaxis": "x2",
         "y": [
          62.5,
          62.5,
          115,
          115
         ],
         "yaxis": "y"
        },
        {
         "hoverinfo": "text",
         "marker": {
          "color": "rgb(35,205,205)"
         },
         "mode": "lines",
         "type": "scatter",
         "x": [
          0,
          -0.5480996496212883,
          -0.5480996496212883,
          0
         ],
         "xaxis": "x2",
         "y": [
          125,
          125,
          135,
          135
         ],
         "yaxis": "y"
        },
        {
         "hoverinfo": "text",
         "marker": {
          "color": "rgb(35,205,205)"
         },
         "mode": "lines",
         "type": "scatter",
         "x": [
          0,
          -0.5250289491405792,
          -0.5250289491405792,
          0
         ],
         "xaxis": "x2",
         "y": [
          145,
          145,
          155,
          155
         ],
         "yaxis": "y"
        },
        {
         "hoverinfo": "text",
         "marker": {
          "color": "rgb(35,205,205)"
         },
         "mode": "lines",
         "type": "scatter",
         "x": [
          -0.5480996496212883,
          -0.8083862917890606,
          -0.8083862917890606,
          -0.5250289491405792
         ],
         "xaxis": "x2",
         "y": [
          130,
          130,
          150,
          150
         ],
         "yaxis": "y"
        },
        {
         "hoverinfo": "text",
         "marker": {
          "color": "rgb(0,116,217)"
         },
         "mode": "lines",
         "type": "scatter",
         "x": [
          -0.8083862917890606,
          -1.0057596061439615,
          -1.0057596061439615,
          0
         ],
         "xaxis": "x2",
         "y": [
          140,
          140,
          165,
          165
         ],
         "yaxis": "y"
        },
        {
         "hoverinfo": "text",
         "marker": {
          "color": "rgb(0,116,217)"
         },
         "mode": "lines",
         "type": "scatter",
         "x": [
          -1.0057596061439615,
          -1.0399219476127572,
          -1.0399219476127572,
          0
         ],
         "xaxis": "x2",
         "y": [
          152.5,
          152.5,
          175,
          175
         ],
         "yaxis": "y"
        },
        {
         "hoverinfo": "text",
         "marker": {
          "color": "rgb(0,116,217)"
         },
         "mode": "lines",
         "type": "scatter",
         "x": [
          0,
          -0.9541358101344486,
          -0.9541358101344486,
          0
         ],
         "xaxis": "x2",
         "y": [
          185,
          185,
          195,
          195
         ],
         "yaxis": "y"
        },
        {
         "hoverinfo": "text",
         "marker": {
          "color": "rgb(0,116,217)"
         },
         "mode": "lines",
         "type": "scatter",
         "x": [
          -1.0399219476127572,
          -0.9704825706814484,
          -0.9704825706814484,
          -0.9541358101344486
         ],
         "xaxis": "x2",
         "y": [
          163.75,
          163.75,
          190,
          190
         ],
         "yaxis": "y"
        },
        {
         "hoverinfo": "text",
         "marker": {
          "color": "rgb(0,116,217)"
         },
         "mode": "lines",
         "type": "scatter",
         "x": [
          -0.9704825706814484,
          -1.136118918799711,
          -1.136118918799711,
          0
         ],
         "xaxis": "x2",
         "y": [
          176.875,
          176.875,
          205,
          205
         ],
         "yaxis": "y"
        },
        {
         "hoverinfo": "text",
         "marker": {
          "color": "rgb(0,116,217)"
         },
         "mode": "lines",
         "type": "scatter",
         "x": [
          -1.3245817382481173,
          -1.2422035448204216,
          -1.2422035448204216,
          -1.136118918799711
         ],
         "xaxis": "x2",
         "y": [
          88.75,
          88.75,
          190.9375,
          190.9375
         ],
         "yaxis": "y"
        },
        {
         "hoverinfo": "text",
         "marker": {
          "color": "rgb(0,116,217)"
         },
         "mode": "lines",
         "type": "scatter",
         "x": [
          0,
          -1.2113585120170574,
          -1.2113585120170574,
          -1.2422035448204216
         ],
         "xaxis": "x2",
         "y": [
          5,
          5,
          139.84375,
          139.84375
         ],
         "yaxis": "y"
        },
        {
         "colorbar": {
          "title": {
           "text": "Correlación (abs)"
          }
         },
         "type": "heatmap",
         "x": [
          5,
          15,
          25,
          35,
          45,
          55,
          65,
          75,
          85,
          95,
          105,
          115,
          125,
          135,
          145,
          155,
          165,
          175,
          185,
          195,
          205
         ],
         "y": [
          5,
          15,
          25,
          35,
          45,
          55,
          65,
          75,
          85,
          95,
          105,
          115,
          125,
          135,
          145,
          155,
          165,
          175,
          185,
          195,
          205
         ],
         "z": [
          [
           1,
           0.11957352899559869,
           0.12403839836976947,
           0.12372444458587013,
           0.12122597148330308,
           0.10360194695748634,
           0.43536958979374935,
           0.05560549802583023,
           0.00446259314440087,
           0.07781751712966063,
           0.0068864717298259695,
           0.15690607112789212,
           0.017627721115925806,
           0.021211264692578596,
           0.10682030060193948,
           0.06532371737178827,
           0.05119820890808344,
           0.0656719054759359,
           0.0031111709494897975,
           0.014304449627896799,
           0.02615955446172247
          ],
          [
           0.11957352899559869,
           1,
           0.9978189316249797,
           0.9962133087083455,
           0.9910333855693608,
           0.6190277950531026,
           0.35527154860492666,
           0.2991597793460278,
           0.48595269901836563,
           0.4787352738671349,
           0.31297995047756444,
           0.2289308518447113,
           0.008487487432241394,
           0.2281550060792135,
           0.3334891682258429,
           0.4019900164124165,
           0.2872168426738292,
           0.0845397822937381,
           0.1648175908334891,
           0.0952516640166716,
           0.019873736804963467
          ],
          [
           0.12403839836976947,
           0.9978189316249797,
           1,
           0.9982126819526114,
           0.9952743518541226,
           0.6240422334174163,
           0.35655745560626395,
           0.30093950465499475,
           0.48184281484796976,
           0.4704958011213219,
           0.3190316607403423,
           0.2313032148610553,
           0.01215939588076484,
           0.23524006377657167,
           0.3318615468261861,
           0.4001618374068543,
           0.27746529911718576,
           0.08729355014245352,
           0.1738793751329419,
           0.08936534391180766,
           0.03176563956233471
          ],
          [
           0.12372444458587013,
           0.9962133087083455,
           0.9982126819526114,
           1,
           0.9970009405924503,
           0.6228380879053793,
           0.35584008727671596,
           0.29850180388024594,
           0.4779622634252459,
           0.46518515648409847,
           0.3165003162364458,
           0.22873700538170733,
           0.013903071768501803,
           0.2427902188279589,
           0.33263062984846786,
           0.4040919960072519,
           0.2836144793301224,
           0.08413383509143055,
           0.17333594403493244,
           0.09944717339983712,
           0.044778533868657315
          ],
          [
           0.12122597148330308,
           0.9910333855693608,
           0.9952743518541226,
           0.9970009405924503,
           1,
           0.6222104731979019,
           0.352982345799223,
           0.2939759882949097,
           0.46728580670764813,
           0.4510217860664643,
           0.3112243232106447,
           0.22591097648042469,
           0.015309099752541471,
           0.24853449788285048,
           0.3232626027567537,
           0.4004621029064847,
           0.27700062485424,
           0.08437132742468549,
           0.1873230315289918,
           0.08895837160637288,
           0.04317812676810864
          ],
          [
           0.10360194695748634,
           0.6190277950531026,
           0.6240422334174163,
           0.6228380879053793,
           0.6222104731979019,
           1,
           0.39618969753991556,
           0.1989231851341709,
           0.2981512017275089,
           0.2865363403408448,
           0.15557549422722433,
           0.39510218025381894,
           0.2093819796358763,
           0.14953185645386094,
           0.1851817622360822,
           0.22845377556667762,
           0.16978116988466913,
           0.10871832948758774,
           0.1291587756182769,
           0.04152817387230886,
           0.020268148494039358
          ],
          [
           0.43536958979374935,
           0.35527154860492666,
           0.35655745560626395,
           0.35584008727671596,
           0.352982345799223,
           0.39618969753991556,
           1,
           0.4386896474643322,
           0.38327704026968834,
           0.18153370050448672,
           0.13375618489979757,
           0.20655696559290546,
           0.18551036664517423,
           0.18267995400487308,
           0.33574686286794475,
           0.3619957279617114,
           0.23717581143782596,
           0.1930358136793713,
           0.07449605341458065,
           0.12501559846460658,
           0.0353542090341672
          ],
          [
           0.05560549802583023,
           0.2991597793460278,
           0.30093950465499475,
           0.29850180388024594,
           0.2939759882949097,
           0.1989231851341709,
           0.4386896474643322,
           1,
           0.7999752543579974,
           0.35728724034215936,
           0.2310574187332417,
           0.0805816064543728,
           0.42876646299407084,
           0.37255058067300967,
           0.4482949637880447,
           0.41283977001742267,
           0.2859877515113984,
           0.14199169415533505,
           0.16671383799489267,
           0.06631707786086864,
           0.21564811591192323
          ],
          [
           0.00446259314440087,
           0.48595269901836563,
           0.48184281484796976,
           0.4779622634252459,
           0.46728580670764813,
           0.2981512017275089,
           0.38327704026968834,
           0.7999752543579974,
           1,
           0.6418241407504329,
           0.3430283196133676,
           0.03737703166569352,
           0.2068917713138807,
           0.11174595820818956,
           0.3473555072326199,
           0.29598672219120226,
           0.23800836838019945,
           0.07671883001284704,
           0.3201823590886682,
           0.07978156672395981,
           0.11038749021367066
          ],
          [
           0.07781751712966063,
           0.4787352738671349,
           0.4704958011213219,
           0.46518515648409847,
           0.4510217860664643,
           0.2865363403408448,
           0.18153370050448672,
           0.35728724034215936,
           0.6418241407504329,
           1,
           0.29512062141400003,
           0.12370346463330126,
           0.03439227221204969,
           0.12059718176202182,
           0.10360835779682577,
           0.08585209855412629,
           0.13494472177333428,
           0.015102814939543201,
           0.30882242644007174,
           0.2759829998234739,
           0.23800257989342763
          ],
          [
           0.0068864717298259695,
           0.31297995047756444,
           0.3190316607403423,
           0.3165003162364458,
           0.3112243232106447,
           0.15557549422722433,
           0.13375618489979757,
           0.2310574187332417,
           0.3430283196133676,
           0.29512062141400003,
           1,
           0.0075922017035977805,
           0.06332852808246106,
           0.0017595936295958727,
           0.20527011813860624,
           0.14728086160554993,
           0.08172131094074961,
           0.08392259499900256,
           0.05040748491764506,
           0.010125491763062785,
           0.03715431857673264
          ],
          [
           0.15690607112789212,
           0.2289308518447113,
           0.2313032148610553,
           0.22873700538170733,
           0.22591097648042469,
           0.39510218025381894,
           0.20655696559290546,
           0.0805816064543728,
           0.03737703166569352,
           0.12370346463330126,
           0.0075922017035977805,
           1,
           0.32529214048500715,
           0.2624375981182722,
           0.06823094228165306,
           0.10025562688872137,
           0.043404705478058754,
           0.09080049892954448,
           0.18515365773987513,
           0.0785541752142165,
           0.010785946584789674
          ],
          [
           0.017627721115925806,
           0.008487487432241394,
           0.01215939588076484,
           0.013903071768501803,
           0.015309099752541471,
           0.2093819796358763,
           0.18551036664517423,
           0.42876646299407084,
           0.2068917713138807,
           0.03439227221204969,
           0.06332852808246106,
           0.32529214048500715,
           1,
           0.849069331905105,
           0.6651450548340158,
           0.6752950072991162,
           0.449828384369761,
           0.3919254951265797,
           0.41108734565641514,
           0.2652780778243355,
           0.01856093419125685
          ],
          [
           0.021211264692578596,
           0.2281550060792135,
           0.23524006377657167,
           0.2427902188279589,
           0.24853449788285048,
           0.14953185645386094,
           0.18267995400487308,
           0.37255058067300967,
           0.11174595820818956,
           0.12059718176202182,
           0.0017595936295958727,
           0.2624375981182722,
           0.849069331905105,
           1,
           0.6119600625313032,
           0.6103090160246292,
           0.44134634067935563,
           0.38100980908437826,
           0.443922905435805,
           0.21901761789064847,
           0.11130357961309263
          ],
          [
           0.10682030060193948,
           0.3334891682258429,
           0.3318615468261861,
           0.33263062984846786,
           0.3232626027567537,
           0.1851817622360822,
           0.33574686286794475,
           0.4482949637880447,
           0.3473555072326199,
           0.10360835779682577,
           0.20527011813860624,
           0.06823094228165306,
           0.6651450548340158,
           0.6119600625313032,
           1,
           0.7119288697321544,
           0.4714086647930607,
           0.29859215107483,
           0.3101670503515771,
           0.3073783737474348,
           0.09580761040106962
          ],
          [
           0.06532371737178827,
           0.4019900164124165,
           0.4001618374068543,
           0.4040919960072519,
           0.4004621029064847,
           0.22845377556667762,
           0.3619957279617114,
           0.41283977001742267,
           0.29598672219120226,
           0.08585209855412629,
           0.14728086160554993,
           0.10025562688872137,
           0.6752950072991162,
           0.6103090160246292,
           0.7119288697321544,
           1,
           0.2883899100438163,
           0.3607445053542887,
           0.3194083269018267,
           0.31895149957514973,
           0.29251784313474544
          ],
          [
           0.05119820890808344,
           0.2872168426738292,
           0.27746529911718576,
           0.2836144793301224,
           0.27700062485424,
           0.16978116988466913,
           0.23717581143782596,
           0.2859877515113984,
           0.23800836838019945,
           0.13494472177333428,
           0.08172131094074961,
           0.043404705478058754,
           0.449828384369761,
           0.44134634067935563,
           0.4714086647930607,
           0.2883899100438163,
           1,
           0.31229743257867737,
           0.15882445565549333,
           0.19570387233443898,
           0.35159012094600034
          ],
          [
           0.0656719054759359,
           0.0845397822937381,
           0.08729355014245352,
           0.08413383509143055,
           0.08437132742468549,
           0.10871832948758774,
           0.1930358136793713,
           0.14199169415533505,
           0.07671883001284704,
           0.015102814939543201,
           0.08392259499900256,
           0.09080049892954448,
           0.3919254951265797,
           0.38100980908437826,
           0.29859215107483,
           0.3607445053542887,
           0.31229743257867737,
           1,
           0.40113950554266475,
           0.10443984177052512,
           0.15889122472519382
          ],
          [
           0.0031111709494897975,
           0.1648175908334891,
           0.1738793751329419,
           0.17333594403493244,
           0.1873230315289918,
           0.1291587756182769,
           0.07449605341458065,
           0.16671383799489267,
           0.3201823590886682,
           0.30882242644007174,
           0.05040748491764506,
           0.18515365773987513,
           0.41108734565641514,
           0.443922905435805,
           0.3101670503515771,
           0.3194083269018267,
           0.15882445565549333,
           0.40113950554266475,
           1,
           0.45276157905571746,
           0.15933782602293547
          ],
          [
           0.014304449627896799,
           0.0952516640166716,
           0.08936534391180766,
           0.09944717339983712,
           0.08895837160637288,
           0.04152817387230886,
           0.12501559846460658,
           0.06631707786086864,
           0.07978156672395981,
           0.2759829998234739,
           0.010125491763062785,
           0.0785541752142165,
           0.2652780778243355,
           0.21901761789064847,
           0.3073783737474348,
           0.31895149957514973,
           0.19570387233443898,
           0.10443984177052512,
           0.45276157905571746,
           1,
           0.33479000631497347
          ],
          [
           0.02615955446172247,
           0.019873736804963467,
           0.03176563956233471,
           0.044778533868657315,
           0.04317812676810864,
           0.020268148494039358,
           0.0353542090341672,
           0.21564811591192323,
           0.11038749021367066,
           0.23800257989342763,
           0.03715431857673264,
           0.010785946584789674,
           0.01856093419125685,
           0.11130357961309263,
           0.09580761040106962,
           0.29251784313474544,
           0.35159012094600034,
           0.15889122472519382,
           0.15933782602293547,
           0.33479000631497347,
           1
          ]
         ]
        }
       ],
       "layout": {
        "autosize": false,
        "height": 800,
        "hovermode": "closest",
        "showlegend": false,
        "template": {
         "data": {
          "bar": [
           {
            "error_x": {
             "color": "#2a3f5f"
            },
            "error_y": {
             "color": "#2a3f5f"
            },
            "marker": {
             "line": {
              "color": "#E5ECF6",
              "width": 0.5
             }
            },
            "type": "bar"
           }
          ],
          "barpolar": [
           {
            "marker": {
             "line": {
              "color": "#E5ECF6",
              "width": 0.5
             }
            },
            "type": "barpolar"
           }
          ],
          "carpet": [
           {
            "aaxis": {
             "endlinecolor": "#2a3f5f",
             "gridcolor": "white",
             "linecolor": "white",
             "minorgridcolor": "white",
             "startlinecolor": "#2a3f5f"
            },
            "baxis": {
             "endlinecolor": "#2a3f5f",
             "gridcolor": "white",
             "linecolor": "white",
             "minorgridcolor": "white",
             "startlinecolor": "#2a3f5f"
            },
            "type": "carpet"
           }
          ],
          "choropleth": [
           {
            "colorbar": {
             "outlinewidth": 0,
             "ticks": ""
            },
            "type": "choropleth"
           }
          ],
          "contour": [
           {
            "colorbar": {
             "outlinewidth": 0,
             "ticks": ""
            },
            "colorscale": [
             [
              0,
              "#0d0887"
             ],
             [
              0.1111111111111111,
              "#46039f"
             ],
             [
              0.2222222222222222,
              "#7201a8"
             ],
             [
              0.3333333333333333,
              "#9c179e"
             ],
             [
              0.4444444444444444,
              "#bd3786"
             ],
             [
              0.5555555555555556,
              "#d8576b"
             ],
             [
              0.6666666666666666,
              "#ed7953"
             ],
             [
              0.7777777777777778,
              "#fb9f3a"
             ],
             [
              0.8888888888888888,
              "#fdca26"
             ],
             [
              1,
              "#f0f921"
             ]
            ],
            "type": "contour"
           }
          ],
          "contourcarpet": [
           {
            "colorbar": {
             "outlinewidth": 0,
             "ticks": ""
            },
            "type": "contourcarpet"
           }
          ],
          "heatmap": [
           {
            "colorbar": {
             "outlinewidth": 0,
             "ticks": ""
            },
            "colorscale": [
             [
              0,
              "#0d0887"
             ],
             [
              0.1111111111111111,
              "#46039f"
             ],
             [
              0.2222222222222222,
              "#7201a8"
             ],
             [
              0.3333333333333333,
              "#9c179e"
             ],
             [
              0.4444444444444444,
              "#bd3786"
             ],
             [
              0.5555555555555556,
              "#d8576b"
             ],
             [
              0.6666666666666666,
              "#ed7953"
             ],
             [
              0.7777777777777778,
              "#fb9f3a"
             ],
             [
              0.8888888888888888,
              "#fdca26"
             ],
             [
              1,
              "#f0f921"
             ]
            ],
            "type": "heatmap"
           }
          ],
          "heatmapgl": [
           {
            "colorbar": {
             "outlinewidth": 0,
             "ticks": ""
            },
            "colorscale": [
             [
              0,
              "#0d0887"
             ],
             [
              0.1111111111111111,
              "#46039f"
             ],
             [
              0.2222222222222222,
              "#7201a8"
             ],
             [
              0.3333333333333333,
              "#9c179e"
             ],
             [
              0.4444444444444444,
              "#bd3786"
             ],
             [
              0.5555555555555556,
              "#d8576b"
             ],
             [
              0.6666666666666666,
              "#ed7953"
             ],
             [
              0.7777777777777778,
              "#fb9f3a"
             ],
             [
              0.8888888888888888,
              "#fdca26"
             ],
             [
              1,
              "#f0f921"
             ]
            ],
            "type": "heatmapgl"
           }
          ],
          "histogram": [
           {
            "marker": {
             "colorbar": {
              "outlinewidth": 0,
              "ticks": ""
             }
            },
            "type": "histogram"
           }
          ],
          "histogram2d": [
           {
            "colorbar": {
             "outlinewidth": 0,
             "ticks": ""
            },
            "colorscale": [
             [
              0,
              "#0d0887"
             ],
             [
              0.1111111111111111,
              "#46039f"
             ],
             [
              0.2222222222222222,
              "#7201a8"
             ],
             [
              0.3333333333333333,
              "#9c179e"
             ],
             [
              0.4444444444444444,
              "#bd3786"
             ],
             [
              0.5555555555555556,
              "#d8576b"
             ],
             [
              0.6666666666666666,
              "#ed7953"
             ],
             [
              0.7777777777777778,
              "#fb9f3a"
             ],
             [
              0.8888888888888888,
              "#fdca26"
             ],
             [
              1,
              "#f0f921"
             ]
            ],
            "type": "histogram2d"
           }
          ],
          "histogram2dcontour": [
           {
            "colorbar": {
             "outlinewidth": 0,
             "ticks": ""
            },
            "colorscale": [
             [
              0,
              "#0d0887"
             ],
             [
              0.1111111111111111,
              "#46039f"
             ],
             [
              0.2222222222222222,
              "#7201a8"
             ],
             [
              0.3333333333333333,
              "#9c179e"
             ],
             [
              0.4444444444444444,
              "#bd3786"
             ],
             [
              0.5555555555555556,
              "#d8576b"
             ],
             [
              0.6666666666666666,
              "#ed7953"
             ],
             [
              0.7777777777777778,
              "#fb9f3a"
             ],
             [
              0.8888888888888888,
              "#fdca26"
             ],
             [
              1,
              "#f0f921"
             ]
            ],
            "type": "histogram2dcontour"
           }
          ],
          "mesh3d": [
           {
            "colorbar": {
             "outlinewidth": 0,
             "ticks": ""
            },
            "type": "mesh3d"
           }
          ],
          "parcoords": [
           {
            "line": {
             "colorbar": {
              "outlinewidth": 0,
              "ticks": ""
             }
            },
            "type": "parcoords"
           }
          ],
          "pie": [
           {
            "automargin": true,
            "type": "pie"
           }
          ],
          "scatter": [
           {
            "marker": {
             "colorbar": {
              "outlinewidth": 0,
              "ticks": ""
             }
            },
            "type": "scatter"
           }
          ],
          "scatter3d": [
           {
            "line": {
             "colorbar": {
              "outlinewidth": 0,
              "ticks": ""
             }
            },
            "marker": {
             "colorbar": {
              "outlinewidth": 0,
              "ticks": ""
             }
            },
            "type": "scatter3d"
           }
          ],
          "scattercarpet": [
           {
            "marker": {
             "colorbar": {
              "outlinewidth": 0,
              "ticks": ""
             }
            },
            "type": "scattercarpet"
           }
          ],
          "scattergeo": [
           {
            "marker": {
             "colorbar": {
              "outlinewidth": 0,
              "ticks": ""
             }
            },
            "type": "scattergeo"
           }
          ],
          "scattergl": [
           {
            "marker": {
             "colorbar": {
              "outlinewidth": 0,
              "ticks": ""
             }
            },
            "type": "scattergl"
           }
          ],
          "scattermapbox": [
           {
            "marker": {
             "colorbar": {
              "outlinewidth": 0,
              "ticks": ""
             }
            },
            "type": "scattermapbox"
           }
          ],
          "scatterpolar": [
           {
            "marker": {
             "colorbar": {
              "outlinewidth": 0,
              "ticks": ""
             }
            },
            "type": "scatterpolar"
           }
          ],
          "scatterpolargl": [
           {
            "marker": {
             "colorbar": {
              "outlinewidth": 0,
              "ticks": ""
             }
            },
            "type": "scatterpolargl"
           }
          ],
          "scatterternary": [
           {
            "marker": {
             "colorbar": {
              "outlinewidth": 0,
              "ticks": ""
             }
            },
            "type": "scatterternary"
           }
          ],
          "surface": [
           {
            "colorbar": {
             "outlinewidth": 0,
             "ticks": ""
            },
            "colorscale": [
             [
              0,
              "#0d0887"
             ],
             [
              0.1111111111111111,
              "#46039f"
             ],
             [
              0.2222222222222222,
              "#7201a8"
             ],
             [
              0.3333333333333333,
              "#9c179e"
             ],
             [
              0.4444444444444444,
              "#bd3786"
             ],
             [
              0.5555555555555556,
              "#d8576b"
             ],
             [
              0.6666666666666666,
              "#ed7953"
             ],
             [
              0.7777777777777778,
              "#fb9f3a"
             ],
             [
              0.8888888888888888,
              "#fdca26"
             ],
             [
              1,
              "#f0f921"
             ]
            ],
            "type": "surface"
           }
          ],
          "table": [
           {
            "cells": {
             "fill": {
              "color": "#EBF0F8"
             },
             "line": {
              "color": "white"
             }
            },
            "header": {
             "fill": {
              "color": "#C8D4E3"
             },
             "line": {
              "color": "white"
             }
            },
            "type": "table"
           }
          ]
         },
         "layout": {
          "annotationdefaults": {
           "arrowcolor": "#2a3f5f",
           "arrowhead": 0,
           "arrowwidth": 1
          },
          "autotypenumbers": "strict",
          "coloraxis": {
           "colorbar": {
            "outlinewidth": 0,
            "ticks": ""
           }
          },
          "colorscale": {
           "diverging": [
            [
             0,
             "#8e0152"
            ],
            [
             0.1,
             "#c51b7d"
            ],
            [
             0.2,
             "#de77ae"
            ],
            [
             0.3,
             "#f1b6da"
            ],
            [
             0.4,
             "#fde0ef"
            ],
            [
             0.5,
             "#f7f7f7"
            ],
            [
             0.6,
             "#e6f5d0"
            ],
            [
             0.7,
             "#b8e186"
            ],
            [
             0.8,
             "#7fbc41"
            ],
            [
             0.9,
             "#4d9221"
            ],
            [
             1,
             "#276419"
            ]
           ],
           "sequential": [
            [
             0,
             "#0d0887"
            ],
            [
             0.1111111111111111,
             "#46039f"
            ],
            [
             0.2222222222222222,
             "#7201a8"
            ],
            [
             0.3333333333333333,
             "#9c179e"
            ],
            [
             0.4444444444444444,
             "#bd3786"
            ],
            [
             0.5555555555555556,
             "#d8576b"
            ],
            [
             0.6666666666666666,
             "#ed7953"
            ],
            [
             0.7777777777777778,
             "#fb9f3a"
            ],
            [
             0.8888888888888888,
             "#fdca26"
            ],
            [
             1,
             "#f0f921"
            ]
           ],
           "sequentialminus": [
            [
             0,
             "#0d0887"
            ],
            [
             0.1111111111111111,
             "#46039f"
            ],
            [
             0.2222222222222222,
             "#7201a8"
            ],
            [
             0.3333333333333333,
             "#9c179e"
            ],
            [
             0.4444444444444444,
             "#bd3786"
            ],
            [
             0.5555555555555556,
             "#d8576b"
            ],
            [
             0.6666666666666666,
             "#ed7953"
            ],
            [
             0.7777777777777778,
             "#fb9f3a"
            ],
            [
             0.8888888888888888,
             "#fdca26"
            ],
            [
             1,
             "#f0f921"
            ]
           ]
          },
          "colorway": [
           "#636efa",
           "#EF553B",
           "#00cc96",
           "#ab63fa",
           "#FFA15A",
           "#19d3f3",
           "#FF6692",
           "#B6E880",
           "#FF97FF",
           "#FECB52"
          ],
          "font": {
           "color": "#2a3f5f"
          },
          "geo": {
           "bgcolor": "white",
           "lakecolor": "white",
           "landcolor": "#E5ECF6",
           "showlakes": true,
           "showland": true,
           "subunitcolor": "white"
          },
          "hoverlabel": {
           "align": "left"
          },
          "hovermode": "closest",
          "mapbox": {
           "style": "light"
          },
          "paper_bgcolor": "white",
          "plot_bgcolor": "#E5ECF6",
          "polar": {
           "angularaxis": {
            "gridcolor": "white",
            "linecolor": "white",
            "ticks": ""
           },
           "bgcolor": "#E5ECF6",
           "radialaxis": {
            "gridcolor": "white",
            "linecolor": "white",
            "ticks": ""
           }
          },
          "scene": {
           "xaxis": {
            "backgroundcolor": "#E5ECF6",
            "gridcolor": "white",
            "gridwidth": 2,
            "linecolor": "white",
            "showbackground": true,
            "ticks": "",
            "zerolinecolor": "white"
           },
           "yaxis": {
            "backgroundcolor": "#E5ECF6",
            "gridcolor": "white",
            "gridwidth": 2,
            "linecolor": "white",
            "showbackground": true,
            "ticks": "",
            "zerolinecolor": "white"
           },
           "zaxis": {
            "backgroundcolor": "#E5ECF6",
            "gridcolor": "white",
            "gridwidth": 2,
            "linecolor": "white",
            "showbackground": true,
            "ticks": "",
            "zerolinecolor": "white"
           }
          },
          "shapedefaults": {
           "line": {
            "color": "#2a3f5f"
           }
          },
          "ternary": {
           "aaxis": {
            "gridcolor": "white",
            "linecolor": "white",
            "ticks": ""
           },
           "baxis": {
            "gridcolor": "white",
            "linecolor": "white",
            "ticks": ""
           },
           "bgcolor": "#E5ECF6",
           "caxis": {
            "gridcolor": "white",
            "linecolor": "white",
            "ticks": ""
           }
          },
          "title": {
           "x": 0.05
          },
          "xaxis": {
           "automargin": true,
           "gridcolor": "white",
           "linecolor": "white",
           "ticks": "",
           "title": {
            "standoff": 15
           },
           "zerolinecolor": "white",
           "zerolinewidth": 2
          },
          "yaxis": {
           "automargin": true,
           "gridcolor": "white",
           "linecolor": "white",
           "ticks": "",
           "title": {
            "standoff": 15
           },
           "zerolinecolor": "white",
           "zerolinewidth": 2
          }
         }
        },
        "title": {
         "text": "Info usada de las soluciones precursoras",
         "x": 0.5,
         "xanchor": "center",
         "y": 0.9,
         "yanchor": "top"
        },
        "width": 800,
        "xaxis": {
         "domain": [
          0.15,
          1
         ],
         "mirror": false,
         "rangemode": "tozero",
         "showgrid": false,
         "showline": false,
         "showticklabels": true,
         "tickmode": "array",
         "ticks": "",
         "ticktext": [
          "_raw_reagent_0_volume",
          "_raw_reagent_3_chemicals_1_actual_amount",
          "_raw_reagent_3_chemicals_0_actual_amount",
          "_raw_reagent_4_chemicals_1_actual_amount",
          "_raw_reagent_3_chemicals_2_actual_amount",
          "_raw_reagent_3_volume",
          "_raw_reagent_1_volume",
          "_raw_reagent_1_chemicals_2_actual_amount",
          "_raw_reagent_1_chemicals_0_actual_amount",
          "_raw_reagent_1_chemicals_1_actual_amount",
          "_raw_reagent_5_volume",
          "_raw_reagent_2_volume",
          "_raw_reagent_4_volume",
          "_raw_reagent_4_chemicals_0_actual_amount",
          "_raw_reagent_6_volume",
          "_raw_reagent_6_chemicals_0_actual_amount",
          "_raw_reagent_0_chemicals_0_actual_amount",
          "_raw_molweight",
          "_raw_reagent_2_chemicals_1_actual_amount",
          "_raw_reagent_2_chemicals_0_actual_amount",
          "_raw_reagent_5_chemicals_0_actual_amount"
         ],
         "tickvals": [
          5,
          15,
          25,
          35,
          45,
          55,
          65,
          75,
          85,
          95,
          105,
          115,
          125,
          135,
          145,
          155,
          165,
          175,
          185,
          195,
          205
         ],
         "type": "linear",
         "zeroline": false
        },
        "xaxis2": {
         "domain": [
          0,
          0.15
         ],
         "mirror": false,
         "showgrid": false,
         "showline": false,
         "showticklabels": false,
         "ticks": "",
         "zeroline": false
        },
        "yaxis": {
         "domain": [
          0,
          0.85
         ],
         "mirror": false,
         "rangemode": "tozero",
         "showgrid": false,
         "showline": false,
         "showticklabels": false,
         "ticks": "",
         "ticktext": [
          "_raw_reagent_0_volume",
          "_raw_reagent_3_chemicals_1_actual_amount",
          "_raw_reagent_3_chemicals_0_actual_amount",
          "_raw_reagent_4_chemicals_1_actual_amount",
          "_raw_reagent_3_chemicals_2_actual_amount",
          "_raw_reagent_3_volume",
          "_raw_reagent_1_volume",
          "_raw_reagent_1_chemicals_2_actual_amount",
          "_raw_reagent_1_chemicals_0_actual_amount",
          "_raw_reagent_1_chemicals_1_actual_amount",
          "_raw_reagent_5_volume",
          "_raw_reagent_2_volume",
          "_raw_reagent_4_volume",
          "_raw_reagent_4_chemicals_0_actual_amount",
          "_raw_reagent_6_volume",
          "_raw_reagent_6_chemicals_0_actual_amount",
          "_raw_reagent_0_chemicals_0_actual_amount",
          "_raw_molweight",
          "_raw_reagent_2_chemicals_1_actual_amount",
          "_raw_reagent_2_chemicals_0_actual_amount",
          "_raw_reagent_5_chemicals_0_actual_amount"
         ],
         "tickvals": [
          5,
          15,
          25,
          35,
          45,
          55,
          65,
          75,
          85,
          95,
          105,
          115,
          125,
          135,
          145,
          155,
          165,
          175,
          185,
          195,
          205
         ],
         "type": "linear",
         "zeroline": false
        },
        "yaxis2": {
         "domain": [
          0.825,
          0.975
         ],
         "mirror": false,
         "showgrid": false,
         "showline": false,
         "showticklabels": false,
         "ticks": "",
         "zeroline": false
        }
       }
      },
      "text/html": "<div>                            <div id=\"a509eef8-a1cf-43b6-bb2c-99f2b3281b00\" class=\"plotly-graph-div\" style=\"height:800px; width:800px;\"></div>            <script type=\"text/javascript\">                require([\"plotly\"], function(Plotly) {                    window.PLOTLYENV=window.PLOTLYENV || {};                                    if (document.getElementById(\"a509eef8-a1cf-43b6-bb2c-99f2b3281b00\")) {                    Plotly.newPlot(                        \"a509eef8-a1cf-43b6-bb2c-99f2b3281b00\",                        [{\"hoverinfo\": \"text\", \"marker\": {\"color\": \"rgb(61,153,112)\"}, \"mode\": \"lines\", \"type\": \"scatter\", \"x\": [25.0, 25.0, 35.0, 35.0], \"xaxis\": \"x\", \"y\": [0.0, 0.021710862788720232, 0.021710862788720232, 0.0], \"yaxis\": \"y2\"}, {\"hoverinfo\": \"text\", \"marker\": {\"color\": \"rgb(61,153,112)\"}, \"mode\": \"lines\", \"type\": \"scatter\", \"x\": [15.0, 15.0, 30.0, 30.0], \"xaxis\": \"x\", \"y\": [0.0, 0.029430769124701512, 0.029430769124701512, 0.021710862788720232], \"yaxis\": \"y2\"}, {\"hoverinfo\": \"text\", \"marker\": {\"color\": \"rgb(61,153,112)\"}, \"mode\": \"lines\", \"type\": \"scatter\", \"x\": [22.5, 22.5, 45.0, 45.0], \"xaxis\": \"x\", \"y\": [0.029430769124701512, 0.04318437806192933, 0.04318437806192933, 0.0], \"yaxis\": \"y2\"}, {\"hoverinfo\": \"text\", \"marker\": {\"color\": \"rgb(0,116,217)\"}, \"mode\": \"lines\", \"type\": \"scatter\", \"x\": [33.75, 33.75, 55.0, 55.0], \"xaxis\": \"x\", \"y\": [0.04318437806192933, 0.9724959978277716, 0.9724959978277716, 0.0], \"yaxis\": \"y2\"}, {\"hoverinfo\": \"text\", \"marker\": {\"color\": \"rgb(255,65,54)\"}, \"mode\": \"lines\", \"type\": \"scatter\", \"x\": [75.0, 75.0, 85.0, 85.0], \"xaxis\": \"x\", \"y\": [0.0, 0.7093973173759354, 0.7093973173759354, 0.0], \"yaxis\": \"y2\"}, {\"hoverinfo\": \"text\", \"marker\": {\"color\": \"rgb(0,116,217)\"}, \"mode\": \"lines\", \"type\": \"scatter\", \"x\": [80.0, 80.0, 95.0, 95.0], \"xaxis\": \"x\", \"y\": [0.7093973173759354, 1.0132674261711283, 1.0132674261711283, 0.0], \"yaxis\": \"y2\"}, {\"hoverinfo\": \"text\", \"marker\": {\"color\": \"rgb(0,116,217)\"}, \"mode\": \"lines\", \"type\": \"scatter\", \"x\": [87.5, 87.5, 105.0, 105.0], \"xaxis\": \"x\", \"y\": [1.0132674261711283, 1.1490744358996865, 1.1490744358996865, 0.0], \"yaxis\": \"y2\"}, {\"hoverinfo\": \"text\", \"marker\": {\"color\": \"rgb(0,116,217)\"}, \"mode\": \"lines\", \"type\": \"scatter\", \"x\": [65.0, 65.0, 96.25, 96.25], \"xaxis\": \"x\", \"y\": [0.0, 1.1593930937604444, 1.1593930937604444, 1.1490744358996865], \"yaxis\": \"y2\"}, {\"hoverinfo\": \"text\", \"marker\": {\"color\": \"rgb(0,116,217)\"}, \"mode\": \"lines\", \"type\": \"scatter\", \"x\": [44.375, 44.375, 80.625, 80.625], \"xaxis\": \"x\", \"y\": [0.9724959978277716, 1.1121993232728726, 1.1121993232728726, 1.1593930937604444], \"yaxis\": \"y2\"}, {\"hoverinfo\": \"text\", \"marker\": {\"color\": \"rgb(0,116,217)\"}, \"mode\": \"lines\", \"type\": \"scatter\", \"x\": [62.5, 62.5, 115.0, 115.0], \"xaxis\": \"x\", \"y\": [1.1121993232728726, 1.3245817382481173, 1.3245817382481173, 0.0], \"yaxis\": \"y2\"}, {\"hoverinfo\": \"text\", \"marker\": {\"color\": \"rgb(35,205,205)\"}, \"mode\": \"lines\", \"type\": \"scatter\", \"x\": [125.0, 125.0, 135.0, 135.0], \"xaxis\": \"x\", \"y\": [0.0, 0.5480996496212883, 0.5480996496212883, 0.0], \"yaxis\": \"y2\"}, {\"hoverinfo\": \"text\", \"marker\": {\"color\": \"rgb(35,205,205)\"}, \"mode\": \"lines\", \"type\": \"scatter\", \"x\": [145.0, 145.0, 155.0, 155.0], \"xaxis\": \"x\", \"y\": [0.0, 0.5250289491405792, 0.5250289491405792, 0.0], \"yaxis\": \"y2\"}, {\"hoverinfo\": \"text\", \"marker\": {\"color\": \"rgb(35,205,205)\"}, \"mode\": \"lines\", \"type\": \"scatter\", \"x\": [130.0, 130.0, 150.0, 150.0], \"xaxis\": \"x\", \"y\": [0.5480996496212883, 0.8083862917890606, 0.8083862917890606, 0.5250289491405792], \"yaxis\": \"y2\"}, {\"hoverinfo\": \"text\", \"marker\": {\"color\": \"rgb(0,116,217)\"}, \"mode\": \"lines\", \"type\": \"scatter\", \"x\": [140.0, 140.0, 165.0, 165.0], \"xaxis\": \"x\", \"y\": [0.8083862917890606, 1.0057596061439615, 1.0057596061439615, 0.0], \"yaxis\": \"y2\"}, {\"hoverinfo\": \"text\", \"marker\": {\"color\": \"rgb(0,116,217)\"}, \"mode\": \"lines\", \"type\": \"scatter\", \"x\": [152.5, 152.5, 175.0, 175.0], \"xaxis\": \"x\", \"y\": [1.0057596061439615, 1.0399219476127572, 1.0399219476127572, 0.0], \"yaxis\": \"y2\"}, {\"hoverinfo\": \"text\", \"marker\": {\"color\": \"rgb(0,116,217)\"}, \"mode\": \"lines\", \"type\": \"scatter\", \"x\": [185.0, 185.0, 195.0, 195.0], \"xaxis\": \"x\", \"y\": [0.0, 0.9541358101344486, 0.9541358101344486, 0.0], \"yaxis\": \"y2\"}, {\"hoverinfo\": \"text\", \"marker\": {\"color\": \"rgb(0,116,217)\"}, \"mode\": \"lines\", \"type\": \"scatter\", \"x\": [163.75, 163.75, 190.0, 190.0], \"xaxis\": \"x\", \"y\": [1.0399219476127572, 0.9704825706814484, 0.9704825706814484, 0.9541358101344486], \"yaxis\": \"y2\"}, {\"hoverinfo\": \"text\", \"marker\": {\"color\": \"rgb(0,116,217)\"}, \"mode\": \"lines\", \"type\": \"scatter\", \"x\": [176.875, 176.875, 205.0, 205.0], \"xaxis\": \"x\", \"y\": [0.9704825706814484, 1.136118918799711, 1.136118918799711, 0.0], \"yaxis\": \"y2\"}, {\"hoverinfo\": \"text\", \"marker\": {\"color\": \"rgb(0,116,217)\"}, \"mode\": \"lines\", \"type\": \"scatter\", \"x\": [88.75, 88.75, 190.9375, 190.9375], \"xaxis\": \"x\", \"y\": [1.3245817382481173, 1.2422035448204216, 1.2422035448204216, 1.136118918799711], \"yaxis\": \"y2\"}, {\"hoverinfo\": \"text\", \"marker\": {\"color\": \"rgb(0,116,217)\"}, \"mode\": \"lines\", \"type\": \"scatter\", \"x\": [5.0, 5.0, 139.84375, 139.84375], \"xaxis\": \"x\", \"y\": [0.0, 1.2113585120170574, 1.2113585120170574, 1.2422035448204216], \"yaxis\": \"y2\"}, {\"hoverinfo\": \"text\", \"marker\": {\"color\": \"rgb(61,153,112)\"}, \"mode\": \"lines\", \"type\": \"scatter\", \"x\": [-0.0, -0.021710862788720232, -0.021710862788720232, -0.0], \"xaxis\": \"x2\", \"y\": [25.0, 25.0, 35.0, 35.0], \"yaxis\": \"y\"}, {\"hoverinfo\": \"text\", \"marker\": {\"color\": \"rgb(61,153,112)\"}, \"mode\": \"lines\", \"type\": \"scatter\", \"x\": [-0.0, -0.029430769124701512, -0.029430769124701512, -0.021710862788720232], \"xaxis\": \"x2\", \"y\": [15.0, 15.0, 30.0, 30.0], \"yaxis\": \"y\"}, {\"hoverinfo\": \"text\", \"marker\": {\"color\": \"rgb(61,153,112)\"}, \"mode\": \"lines\", \"type\": \"scatter\", \"x\": [-0.029430769124701512, -0.04318437806192933, -0.04318437806192933, -0.0], \"xaxis\": \"x2\", \"y\": [22.5, 22.5, 45.0, 45.0], \"yaxis\": \"y\"}, {\"hoverinfo\": \"text\", \"marker\": {\"color\": \"rgb(0,116,217)\"}, \"mode\": \"lines\", \"type\": \"scatter\", \"x\": [-0.04318437806192933, -0.9724959978277716, -0.9724959978277716, -0.0], \"xaxis\": \"x2\", \"y\": [33.75, 33.75, 55.0, 55.0], \"yaxis\": \"y\"}, {\"hoverinfo\": \"text\", \"marker\": {\"color\": \"rgb(255,65,54)\"}, \"mode\": \"lines\", \"type\": \"scatter\", \"x\": [-0.0, -0.7093973173759354, -0.7093973173759354, -0.0], \"xaxis\": \"x2\", \"y\": [75.0, 75.0, 85.0, 85.0], \"yaxis\": \"y\"}, {\"hoverinfo\": \"text\", \"marker\": {\"color\": \"rgb(0,116,217)\"}, \"mode\": \"lines\", \"type\": \"scatter\", \"x\": [-0.7093973173759354, -1.0132674261711283, -1.0132674261711283, -0.0], \"xaxis\": \"x2\", \"y\": [80.0, 80.0, 95.0, 95.0], \"yaxis\": \"y\"}, {\"hoverinfo\": \"text\", \"marker\": {\"color\": \"rgb(0,116,217)\"}, \"mode\": \"lines\", \"type\": \"scatter\", \"x\": [-1.0132674261711283, -1.1490744358996865, -1.1490744358996865, -0.0], \"xaxis\": \"x2\", \"y\": [87.5, 87.5, 105.0, 105.0], \"yaxis\": \"y\"}, {\"hoverinfo\": \"text\", \"marker\": {\"color\": \"rgb(0,116,217)\"}, \"mode\": \"lines\", \"type\": \"scatter\", \"x\": [-0.0, -1.1593930937604444, -1.1593930937604444, -1.1490744358996865], \"xaxis\": \"x2\", \"y\": [65.0, 65.0, 96.25, 96.25], \"yaxis\": \"y\"}, {\"hoverinfo\": \"text\", \"marker\": {\"color\": \"rgb(0,116,217)\"}, \"mode\": \"lines\", \"type\": \"scatter\", \"x\": [-0.9724959978277716, -1.1121993232728726, -1.1121993232728726, -1.1593930937604444], \"xaxis\": \"x2\", \"y\": [44.375, 44.375, 80.625, 80.625], \"yaxis\": \"y\"}, {\"hoverinfo\": \"text\", \"marker\": {\"color\": \"rgb(0,116,217)\"}, \"mode\": \"lines\", \"type\": \"scatter\", \"x\": [-1.1121993232728726, -1.3245817382481173, -1.3245817382481173, -0.0], \"xaxis\": \"x2\", \"y\": [62.5, 62.5, 115.0, 115.0], \"yaxis\": \"y\"}, {\"hoverinfo\": \"text\", \"marker\": {\"color\": \"rgb(35,205,205)\"}, \"mode\": \"lines\", \"type\": \"scatter\", \"x\": [-0.0, -0.5480996496212883, -0.5480996496212883, -0.0], \"xaxis\": \"x2\", \"y\": [125.0, 125.0, 135.0, 135.0], \"yaxis\": \"y\"}, {\"hoverinfo\": \"text\", \"marker\": {\"color\": \"rgb(35,205,205)\"}, \"mode\": \"lines\", \"type\": \"scatter\", \"x\": [-0.0, -0.5250289491405792, -0.5250289491405792, -0.0], \"xaxis\": \"x2\", \"y\": [145.0, 145.0, 155.0, 155.0], \"yaxis\": \"y\"}, {\"hoverinfo\": \"text\", \"marker\": {\"color\": \"rgb(35,205,205)\"}, \"mode\": \"lines\", \"type\": \"scatter\", \"x\": [-0.5480996496212883, -0.8083862917890606, -0.8083862917890606, -0.5250289491405792], \"xaxis\": \"x2\", \"y\": [130.0, 130.0, 150.0, 150.0], \"yaxis\": \"y\"}, {\"hoverinfo\": \"text\", \"marker\": {\"color\": \"rgb(0,116,217)\"}, \"mode\": \"lines\", \"type\": \"scatter\", \"x\": [-0.8083862917890606, -1.0057596061439615, -1.0057596061439615, -0.0], \"xaxis\": \"x2\", \"y\": [140.0, 140.0, 165.0, 165.0], \"yaxis\": \"y\"}, {\"hoverinfo\": \"text\", \"marker\": {\"color\": \"rgb(0,116,217)\"}, \"mode\": \"lines\", \"type\": \"scatter\", \"x\": [-1.0057596061439615, -1.0399219476127572, -1.0399219476127572, -0.0], \"xaxis\": \"x2\", \"y\": [152.5, 152.5, 175.0, 175.0], \"yaxis\": \"y\"}, {\"hoverinfo\": \"text\", \"marker\": {\"color\": \"rgb(0,116,217)\"}, \"mode\": \"lines\", \"type\": \"scatter\", \"x\": [-0.0, -0.9541358101344486, -0.9541358101344486, -0.0], \"xaxis\": \"x2\", \"y\": [185.0, 185.0, 195.0, 195.0], \"yaxis\": \"y\"}, {\"hoverinfo\": \"text\", \"marker\": {\"color\": \"rgb(0,116,217)\"}, \"mode\": \"lines\", \"type\": \"scatter\", \"x\": [-1.0399219476127572, -0.9704825706814484, -0.9704825706814484, -0.9541358101344486], \"xaxis\": \"x2\", \"y\": [163.75, 163.75, 190.0, 190.0], \"yaxis\": \"y\"}, {\"hoverinfo\": \"text\", \"marker\": {\"color\": \"rgb(0,116,217)\"}, \"mode\": \"lines\", \"type\": \"scatter\", \"x\": [-0.9704825706814484, -1.136118918799711, -1.136118918799711, -0.0], \"xaxis\": \"x2\", \"y\": [176.875, 176.875, 205.0, 205.0], \"yaxis\": \"y\"}, {\"hoverinfo\": \"text\", \"marker\": {\"color\": \"rgb(0,116,217)\"}, \"mode\": \"lines\", \"type\": \"scatter\", \"x\": [-1.3245817382481173, -1.2422035448204216, -1.2422035448204216, -1.136118918799711], \"xaxis\": \"x2\", \"y\": [88.75, 88.75, 190.9375, 190.9375], \"yaxis\": \"y\"}, {\"hoverinfo\": \"text\", \"marker\": {\"color\": \"rgb(0,116,217)\"}, \"mode\": \"lines\", \"type\": \"scatter\", \"x\": [-0.0, -1.2113585120170574, -1.2113585120170574, -1.2422035448204216], \"xaxis\": \"x2\", \"y\": [5.0, 5.0, 139.84375, 139.84375], \"yaxis\": \"y\"}, {\"colorbar\": {\"title\": {\"text\": \"Correlaci\\u00f3n (abs)\"}}, \"type\": \"heatmap\", \"x\": [5.0, 15.0, 25.0, 35.0, 45.0, 55.0, 65.0, 75.0, 85.0, 95.0, 105.0, 115.0, 125.0, 135.0, 145.0, 155.0, 165.0, 175.0, 185.0, 195.0, 205.0], \"y\": [5.0, 15.0, 25.0, 35.0, 45.0, 55.0, 65.0, 75.0, 85.0, 95.0, 105.0, 115.0, 125.0, 135.0, 145.0, 155.0, 165.0, 175.0, 185.0, 195.0, 205.0], \"z\": [[1.0, 0.11957352899559869, 0.12403839836976947, 0.12372444458587013, 0.12122597148330308, 0.10360194695748634, 0.43536958979374935, 0.05560549802583023, 0.00446259314440087, 0.07781751712966063, 0.0068864717298259695, 0.15690607112789212, 0.017627721115925806, 0.021211264692578596, 0.10682030060193948, 0.06532371737178827, 0.05119820890808344, 0.0656719054759359, 0.0031111709494897975, 0.014304449627896799, 0.02615955446172247], [0.11957352899559869, 1.0, 0.9978189316249797, 0.9962133087083455, 0.9910333855693608, 0.6190277950531026, 0.35527154860492666, 0.2991597793460278, 0.48595269901836563, 0.4787352738671349, 0.31297995047756444, 0.2289308518447113, 0.008487487432241394, 0.2281550060792135, 0.3334891682258429, 0.4019900164124165, 0.2872168426738292, 0.0845397822937381, 0.1648175908334891, 0.0952516640166716, 0.019873736804963467], [0.12403839836976947, 0.9978189316249797, 1.0, 0.9982126819526114, 0.9952743518541226, 0.6240422334174163, 0.35655745560626395, 0.30093950465499475, 0.48184281484796976, 0.4704958011213219, 0.3190316607403423, 0.2313032148610553, 0.01215939588076484, 0.23524006377657167, 0.3318615468261861, 0.4001618374068543, 0.27746529911718576, 0.08729355014245352, 0.1738793751329419, 0.08936534391180766, 0.03176563956233471], [0.12372444458587013, 0.9962133087083455, 0.9982126819526114, 1.0, 0.9970009405924503, 0.6228380879053793, 0.35584008727671596, 0.29850180388024594, 0.4779622634252459, 0.46518515648409847, 0.3165003162364458, 0.22873700538170733, 0.013903071768501803, 0.2427902188279589, 0.33263062984846786, 0.4040919960072519, 0.2836144793301224, 0.08413383509143055, 0.17333594403493244, 0.09944717339983712, 0.044778533868657315], [0.12122597148330308, 0.9910333855693608, 0.9952743518541226, 0.9970009405924503, 1.0, 0.6222104731979019, 0.352982345799223, 0.2939759882949097, 0.46728580670764813, 0.4510217860664643, 0.3112243232106447, 0.22591097648042469, 0.015309099752541471, 0.24853449788285048, 0.3232626027567537, 0.4004621029064847, 0.27700062485424, 0.08437132742468549, 0.1873230315289918, 0.08895837160637288, 0.04317812676810864], [0.10360194695748634, 0.6190277950531026, 0.6240422334174163, 0.6228380879053793, 0.6222104731979019, 1.0, 0.39618969753991556, 0.1989231851341709, 0.2981512017275089, 0.2865363403408448, 0.15557549422722433, 0.39510218025381894, 0.2093819796358763, 0.14953185645386094, 0.1851817622360822, 0.22845377556667762, 0.16978116988466913, 0.10871832948758774, 0.1291587756182769, 0.04152817387230886, 0.020268148494039358], [0.43536958979374935, 0.35527154860492666, 0.35655745560626395, 0.35584008727671596, 0.352982345799223, 0.39618969753991556, 1.0, 0.4386896474643322, 0.38327704026968834, 0.18153370050448672, 0.13375618489979757, 0.20655696559290546, 0.18551036664517423, 0.18267995400487308, 0.33574686286794475, 0.3619957279617114, 0.23717581143782596, 0.1930358136793713, 0.07449605341458065, 0.12501559846460658, 0.0353542090341672], [0.05560549802583023, 0.2991597793460278, 0.30093950465499475, 0.29850180388024594, 0.2939759882949097, 0.1989231851341709, 0.4386896474643322, 1.0, 0.7999752543579974, 0.35728724034215936, 0.2310574187332417, 0.0805816064543728, 0.42876646299407084, 0.37255058067300967, 0.4482949637880447, 0.41283977001742267, 0.2859877515113984, 0.14199169415533505, 0.16671383799489267, 0.06631707786086864, 0.21564811591192323], [0.00446259314440087, 0.48595269901836563, 0.48184281484796976, 0.4779622634252459, 0.46728580670764813, 0.2981512017275089, 0.38327704026968834, 0.7999752543579974, 1.0, 0.6418241407504329, 0.3430283196133676, 0.03737703166569352, 0.2068917713138807, 0.11174595820818956, 0.3473555072326199, 0.29598672219120226, 0.23800836838019945, 0.07671883001284704, 0.3201823590886682, 0.07978156672395981, 0.11038749021367066], [0.07781751712966063, 0.4787352738671349, 0.4704958011213219, 0.46518515648409847, 0.4510217860664643, 0.2865363403408448, 0.18153370050448672, 0.35728724034215936, 0.6418241407504329, 1.0, 0.29512062141400003, 0.12370346463330126, 0.03439227221204969, 0.12059718176202182, 0.10360835779682577, 0.08585209855412629, 0.13494472177333428, 0.015102814939543201, 0.30882242644007174, 0.2759829998234739, 0.23800257989342763], [0.0068864717298259695, 0.31297995047756444, 0.3190316607403423, 0.3165003162364458, 0.3112243232106447, 0.15557549422722433, 0.13375618489979757, 0.2310574187332417, 0.3430283196133676, 0.29512062141400003, 1.0, 0.0075922017035977805, 0.06332852808246106, 0.0017595936295958727, 0.20527011813860624, 0.14728086160554993, 0.08172131094074961, 0.08392259499900256, 0.05040748491764506, 0.010125491763062785, 0.03715431857673264], [0.15690607112789212, 0.2289308518447113, 0.2313032148610553, 0.22873700538170733, 0.22591097648042469, 0.39510218025381894, 0.20655696559290546, 0.0805816064543728, 0.03737703166569352, 0.12370346463330126, 0.0075922017035977805, 1.0, 0.32529214048500715, 0.2624375981182722, 0.06823094228165306, 0.10025562688872137, 0.043404705478058754, 0.09080049892954448, 0.18515365773987513, 0.0785541752142165, 0.010785946584789674], [0.017627721115925806, 0.008487487432241394, 0.01215939588076484, 0.013903071768501803, 0.015309099752541471, 0.2093819796358763, 0.18551036664517423, 0.42876646299407084, 0.2068917713138807, 0.03439227221204969, 0.06332852808246106, 0.32529214048500715, 1.0, 0.849069331905105, 0.6651450548340158, 0.6752950072991162, 0.449828384369761, 0.3919254951265797, 0.41108734565641514, 0.2652780778243355, 0.01856093419125685], [0.021211264692578596, 0.2281550060792135, 0.23524006377657167, 0.2427902188279589, 0.24853449788285048, 0.14953185645386094, 0.18267995400487308, 0.37255058067300967, 0.11174595820818956, 0.12059718176202182, 0.0017595936295958727, 0.2624375981182722, 0.849069331905105, 1.0, 0.6119600625313032, 0.6103090160246292, 0.44134634067935563, 0.38100980908437826, 0.443922905435805, 0.21901761789064847, 0.11130357961309263], [0.10682030060193948, 0.3334891682258429, 0.3318615468261861, 0.33263062984846786, 0.3232626027567537, 0.1851817622360822, 0.33574686286794475, 0.4482949637880447, 0.3473555072326199, 0.10360835779682577, 0.20527011813860624, 0.06823094228165306, 0.6651450548340158, 0.6119600625313032, 1.0, 0.7119288697321544, 0.4714086647930607, 0.29859215107483, 0.3101670503515771, 0.3073783737474348, 0.09580761040106962], [0.06532371737178827, 0.4019900164124165, 0.4001618374068543, 0.4040919960072519, 0.4004621029064847, 0.22845377556667762, 0.3619957279617114, 0.41283977001742267, 0.29598672219120226, 0.08585209855412629, 0.14728086160554993, 0.10025562688872137, 0.6752950072991162, 0.6103090160246292, 0.7119288697321544, 1.0, 0.2883899100438163, 0.3607445053542887, 0.3194083269018267, 0.31895149957514973, 0.29251784313474544], [0.05119820890808344, 0.2872168426738292, 0.27746529911718576, 0.2836144793301224, 0.27700062485424, 0.16978116988466913, 0.23717581143782596, 0.2859877515113984, 0.23800836838019945, 0.13494472177333428, 0.08172131094074961, 0.043404705478058754, 0.449828384369761, 0.44134634067935563, 0.4714086647930607, 0.2883899100438163, 1.0, 0.31229743257867737, 0.15882445565549333, 0.19570387233443898, 0.35159012094600034], [0.0656719054759359, 0.0845397822937381, 0.08729355014245352, 0.08413383509143055, 0.08437132742468549, 0.10871832948758774, 0.1930358136793713, 0.14199169415533505, 0.07671883001284704, 0.015102814939543201, 0.08392259499900256, 0.09080049892954448, 0.3919254951265797, 0.38100980908437826, 0.29859215107483, 0.3607445053542887, 0.31229743257867737, 1.0, 0.40113950554266475, 0.10443984177052512, 0.15889122472519382], [0.0031111709494897975, 0.1648175908334891, 0.1738793751329419, 0.17333594403493244, 0.1873230315289918, 0.1291587756182769, 0.07449605341458065, 0.16671383799489267, 0.3201823590886682, 0.30882242644007174, 0.05040748491764506, 0.18515365773987513, 0.41108734565641514, 0.443922905435805, 0.3101670503515771, 0.3194083269018267, 0.15882445565549333, 0.40113950554266475, 1.0, 0.45276157905571746, 0.15933782602293547], [0.014304449627896799, 0.0952516640166716, 0.08936534391180766, 0.09944717339983712, 0.08895837160637288, 0.04152817387230886, 0.12501559846460658, 0.06631707786086864, 0.07978156672395981, 0.2759829998234739, 0.010125491763062785, 0.0785541752142165, 0.2652780778243355, 0.21901761789064847, 0.3073783737474348, 0.31895149957514973, 0.19570387233443898, 0.10443984177052512, 0.45276157905571746, 1.0, 0.33479000631497347], [0.02615955446172247, 0.019873736804963467, 0.03176563956233471, 0.044778533868657315, 0.04317812676810864, 0.020268148494039358, 0.0353542090341672, 0.21564811591192323, 0.11038749021367066, 0.23800257989342763, 0.03715431857673264, 0.010785946584789674, 0.01856093419125685, 0.11130357961309263, 0.09580761040106962, 0.29251784313474544, 0.35159012094600034, 0.15889122472519382, 0.15933782602293547, 0.33479000631497347, 1.0]]}],                        {\"autosize\": false, \"height\": 800, \"hovermode\": \"closest\", \"showlegend\": false, \"template\": {\"data\": {\"bar\": [{\"error_x\": {\"color\": \"#2a3f5f\"}, \"error_y\": {\"color\": \"#2a3f5f\"}, \"marker\": {\"line\": {\"color\": \"#E5ECF6\", \"width\": 0.5}}, \"type\": \"bar\"}], \"barpolar\": [{\"marker\": {\"line\": {\"color\": \"#E5ECF6\", \"width\": 0.5}}, \"type\": \"barpolar\"}], \"carpet\": [{\"aaxis\": {\"endlinecolor\": \"#2a3f5f\", \"gridcolor\": \"white\", \"linecolor\": \"white\", \"minorgridcolor\": \"white\", \"startlinecolor\": \"#2a3f5f\"}, \"baxis\": {\"endlinecolor\": \"#2a3f5f\", \"gridcolor\": \"white\", \"linecolor\": \"white\", \"minorgridcolor\": \"white\", \"startlinecolor\": \"#2a3f5f\"}, \"type\": \"carpet\"}], \"choropleth\": [{\"colorbar\": {\"outlinewidth\": 0, \"ticks\": \"\"}, \"type\": \"choropleth\"}], \"contour\": [{\"colorbar\": {\"outlinewidth\": 0, \"ticks\": \"\"}, \"colorscale\": [[0.0, \"#0d0887\"], [0.1111111111111111, \"#46039f\"], [0.2222222222222222, \"#7201a8\"], [0.3333333333333333, \"#9c179e\"], [0.4444444444444444, \"#bd3786\"], [0.5555555555555556, \"#d8576b\"], [0.6666666666666666, \"#ed7953\"], [0.7777777777777778, \"#fb9f3a\"], [0.8888888888888888, \"#fdca26\"], [1.0, \"#f0f921\"]], \"type\": \"contour\"}], \"contourcarpet\": [{\"colorbar\": {\"outlinewidth\": 0, \"ticks\": \"\"}, \"type\": \"contourcarpet\"}], \"heatmap\": [{\"colorbar\": {\"outlinewidth\": 0, \"ticks\": \"\"}, \"colorscale\": [[0.0, \"#0d0887\"], [0.1111111111111111, \"#46039f\"], [0.2222222222222222, \"#7201a8\"], [0.3333333333333333, \"#9c179e\"], [0.4444444444444444, \"#bd3786\"], [0.5555555555555556, \"#d8576b\"], [0.6666666666666666, \"#ed7953\"], [0.7777777777777778, \"#fb9f3a\"], [0.8888888888888888, \"#fdca26\"], [1.0, \"#f0f921\"]], \"type\": \"heatmap\"}], \"heatmapgl\": [{\"colorbar\": {\"outlinewidth\": 0, \"ticks\": \"\"}, \"colorscale\": [[0.0, \"#0d0887\"], [0.1111111111111111, \"#46039f\"], [0.2222222222222222, \"#7201a8\"], [0.3333333333333333, \"#9c179e\"], [0.4444444444444444, \"#bd3786\"], [0.5555555555555556, \"#d8576b\"], [0.6666666666666666, \"#ed7953\"], [0.7777777777777778, \"#fb9f3a\"], [0.8888888888888888, \"#fdca26\"], [1.0, \"#f0f921\"]], \"type\": \"heatmapgl\"}], \"histogram\": [{\"marker\": {\"colorbar\": {\"outlinewidth\": 0, \"ticks\": \"\"}}, \"type\": \"histogram\"}], \"histogram2d\": [{\"colorbar\": {\"outlinewidth\": 0, \"ticks\": \"\"}, \"colorscale\": [[0.0, \"#0d0887\"], [0.1111111111111111, \"#46039f\"], [0.2222222222222222, \"#7201a8\"], [0.3333333333333333, \"#9c179e\"], [0.4444444444444444, \"#bd3786\"], [0.5555555555555556, \"#d8576b\"], [0.6666666666666666, \"#ed7953\"], [0.7777777777777778, \"#fb9f3a\"], [0.8888888888888888, \"#fdca26\"], [1.0, \"#f0f921\"]], \"type\": \"histogram2d\"}], \"histogram2dcontour\": [{\"colorbar\": {\"outlinewidth\": 0, \"ticks\": \"\"}, \"colorscale\": [[0.0, \"#0d0887\"], [0.1111111111111111, \"#46039f\"], [0.2222222222222222, \"#7201a8\"], [0.3333333333333333, \"#9c179e\"], [0.4444444444444444, \"#bd3786\"], [0.5555555555555556, \"#d8576b\"], [0.6666666666666666, \"#ed7953\"], [0.7777777777777778, \"#fb9f3a\"], [0.8888888888888888, \"#fdca26\"], [1.0, \"#f0f921\"]], \"type\": \"histogram2dcontour\"}], \"mesh3d\": [{\"colorbar\": {\"outlinewidth\": 0, \"ticks\": \"\"}, \"type\": \"mesh3d\"}], \"parcoords\": [{\"line\": {\"colorbar\": {\"outlinewidth\": 0, \"ticks\": \"\"}}, \"type\": \"parcoords\"}], \"pie\": [{\"automargin\": true, \"type\": \"pie\"}], \"scatter\": [{\"marker\": {\"colorbar\": {\"outlinewidth\": 0, \"ticks\": \"\"}}, \"type\": \"scatter\"}], \"scatter3d\": [{\"line\": {\"colorbar\": {\"outlinewidth\": 0, \"ticks\": \"\"}}, \"marker\": {\"colorbar\": {\"outlinewidth\": 0, \"ticks\": \"\"}}, \"type\": \"scatter3d\"}], \"scattercarpet\": [{\"marker\": {\"colorbar\": {\"outlinewidth\": 0, \"ticks\": \"\"}}, \"type\": \"scattercarpet\"}], \"scattergeo\": [{\"marker\": {\"colorbar\": {\"outlinewidth\": 0, \"ticks\": \"\"}}, \"type\": \"scattergeo\"}], \"scattergl\": [{\"marker\": {\"colorbar\": {\"outlinewidth\": 0, \"ticks\": \"\"}}, \"type\": \"scattergl\"}], \"scattermapbox\": [{\"marker\": {\"colorbar\": {\"outlinewidth\": 0, \"ticks\": \"\"}}, \"type\": \"scattermapbox\"}], \"scatterpolar\": [{\"marker\": {\"colorbar\": {\"outlinewidth\": 0, \"ticks\": \"\"}}, \"type\": \"scatterpolar\"}], \"scatterpolargl\": [{\"marker\": {\"colorbar\": {\"outlinewidth\": 0, \"ticks\": \"\"}}, \"type\": \"scatterpolargl\"}], \"scatterternary\": [{\"marker\": {\"colorbar\": {\"outlinewidth\": 0, \"ticks\": \"\"}}, \"type\": \"scatterternary\"}], \"surface\": [{\"colorbar\": {\"outlinewidth\": 0, \"ticks\": \"\"}, \"colorscale\": [[0.0, \"#0d0887\"], [0.1111111111111111, \"#46039f\"], [0.2222222222222222, \"#7201a8\"], [0.3333333333333333, \"#9c179e\"], [0.4444444444444444, \"#bd3786\"], [0.5555555555555556, \"#d8576b\"], [0.6666666666666666, \"#ed7953\"], [0.7777777777777778, \"#fb9f3a\"], [0.8888888888888888, \"#fdca26\"], [1.0, \"#f0f921\"]], \"type\": \"surface\"}], \"table\": [{\"cells\": {\"fill\": {\"color\": \"#EBF0F8\"}, \"line\": {\"color\": \"white\"}}, \"header\": {\"fill\": {\"color\": \"#C8D4E3\"}, \"line\": {\"color\": \"white\"}}, \"type\": \"table\"}]}, \"layout\": {\"annotationdefaults\": {\"arrowcolor\": \"#2a3f5f\", \"arrowhead\": 0, \"arrowwidth\": 1}, \"autotypenumbers\": \"strict\", \"coloraxis\": {\"colorbar\": {\"outlinewidth\": 0, \"ticks\": \"\"}}, \"colorscale\": {\"diverging\": [[0, \"#8e0152\"], [0.1, \"#c51b7d\"], [0.2, \"#de77ae\"], [0.3, \"#f1b6da\"], [0.4, \"#fde0ef\"], [0.5, \"#f7f7f7\"], [0.6, \"#e6f5d0\"], [0.7, \"#b8e186\"], [0.8, \"#7fbc41\"], [0.9, \"#4d9221\"], [1, \"#276419\"]], \"sequential\": [[0.0, \"#0d0887\"], [0.1111111111111111, \"#46039f\"], [0.2222222222222222, \"#7201a8\"], [0.3333333333333333, \"#9c179e\"], [0.4444444444444444, \"#bd3786\"], [0.5555555555555556, \"#d8576b\"], [0.6666666666666666, \"#ed7953\"], [0.7777777777777778, \"#fb9f3a\"], [0.8888888888888888, \"#fdca26\"], [1.0, \"#f0f921\"]], \"sequentialminus\": [[0.0, \"#0d0887\"], [0.1111111111111111, \"#46039f\"], [0.2222222222222222, \"#7201a8\"], [0.3333333333333333, \"#9c179e\"], [0.4444444444444444, \"#bd3786\"], [0.5555555555555556, \"#d8576b\"], [0.6666666666666666, \"#ed7953\"], [0.7777777777777778, \"#fb9f3a\"], [0.8888888888888888, \"#fdca26\"], [1.0, \"#f0f921\"]]}, \"colorway\": [\"#636efa\", \"#EF553B\", \"#00cc96\", \"#ab63fa\", \"#FFA15A\", \"#19d3f3\", \"#FF6692\", \"#B6E880\", \"#FF97FF\", \"#FECB52\"], \"font\": {\"color\": \"#2a3f5f\"}, \"geo\": {\"bgcolor\": \"white\", \"lakecolor\": \"white\", \"landcolor\": \"#E5ECF6\", \"showlakes\": true, \"showland\": true, \"subunitcolor\": \"white\"}, \"hoverlabel\": {\"align\": \"left\"}, \"hovermode\": \"closest\", \"mapbox\": {\"style\": \"light\"}, \"paper_bgcolor\": \"white\", \"plot_bgcolor\": \"#E5ECF6\", \"polar\": {\"angularaxis\": {\"gridcolor\": \"white\", \"linecolor\": \"white\", \"ticks\": \"\"}, \"bgcolor\": \"#E5ECF6\", \"radialaxis\": {\"gridcolor\": \"white\", \"linecolor\": \"white\", \"ticks\": \"\"}}, \"scene\": {\"xaxis\": {\"backgroundcolor\": \"#E5ECF6\", \"gridcolor\": \"white\", \"gridwidth\": 2, \"linecolor\": \"white\", \"showbackground\": true, \"ticks\": \"\", \"zerolinecolor\": \"white\"}, \"yaxis\": {\"backgroundcolor\": \"#E5ECF6\", \"gridcolor\": \"white\", \"gridwidth\": 2, \"linecolor\": \"white\", \"showbackground\": true, \"ticks\": \"\", \"zerolinecolor\": \"white\"}, \"zaxis\": {\"backgroundcolor\": \"#E5ECF6\", \"gridcolor\": \"white\", \"gridwidth\": 2, \"linecolor\": \"white\", \"showbackground\": true, \"ticks\": \"\", \"zerolinecolor\": \"white\"}}, \"shapedefaults\": {\"line\": {\"color\": \"#2a3f5f\"}}, \"ternary\": {\"aaxis\": {\"gridcolor\": \"white\", \"linecolor\": \"white\", \"ticks\": \"\"}, \"baxis\": {\"gridcolor\": \"white\", \"linecolor\": \"white\", \"ticks\": \"\"}, \"bgcolor\": \"#E5ECF6\", \"caxis\": {\"gridcolor\": \"white\", \"linecolor\": \"white\", \"ticks\": \"\"}}, \"title\": {\"x\": 0.05}, \"xaxis\": {\"automargin\": true, \"gridcolor\": \"white\", \"linecolor\": \"white\", \"ticks\": \"\", \"title\": {\"standoff\": 15}, \"zerolinecolor\": \"white\", \"zerolinewidth\": 2}, \"yaxis\": {\"automargin\": true, \"gridcolor\": \"white\", \"linecolor\": \"white\", \"ticks\": \"\", \"title\": {\"standoff\": 15}, \"zerolinecolor\": \"white\", \"zerolinewidth\": 2}}}, \"title\": {\"text\": \"Info usada de las soluciones precursoras\", \"x\": 0.5, \"xanchor\": \"center\", \"y\": 0.9, \"yanchor\": \"top\"}, \"width\": 800, \"xaxis\": {\"domain\": [0.15, 1], \"mirror\": false, \"rangemode\": \"tozero\", \"showgrid\": false, \"showline\": false, \"showticklabels\": true, \"tickmode\": \"array\", \"ticks\": \"\", \"ticktext\": [\"_raw_reagent_0_volume\", \"_raw_reagent_3_chemicals_1_actual_amount\", \"_raw_reagent_3_chemicals_0_actual_amount\", \"_raw_reagent_4_chemicals_1_actual_amount\", \"_raw_reagent_3_chemicals_2_actual_amount\", \"_raw_reagent_3_volume\", \"_raw_reagent_1_volume\", \"_raw_reagent_1_chemicals_2_actual_amount\", \"_raw_reagent_1_chemicals_0_actual_amount\", \"_raw_reagent_1_chemicals_1_actual_amount\", \"_raw_reagent_5_volume\", \"_raw_reagent_2_volume\", \"_raw_reagent_4_volume\", \"_raw_reagent_4_chemicals_0_actual_amount\", \"_raw_reagent_6_volume\", \"_raw_reagent_6_chemicals_0_actual_amount\", \"_raw_reagent_0_chemicals_0_actual_amount\", \"_raw_molweight\", \"_raw_reagent_2_chemicals_1_actual_amount\", \"_raw_reagent_2_chemicals_0_actual_amount\", \"_raw_reagent_5_chemicals_0_actual_amount\"], \"tickvals\": [5.0, 15.0, 25.0, 35.0, 45.0, 55.0, 65.0, 75.0, 85.0, 95.0, 105.0, 115.0, 125.0, 135.0, 145.0, 155.0, 165.0, 175.0, 185.0, 195.0, 205.0], \"type\": \"linear\", \"zeroline\": false}, \"xaxis2\": {\"domain\": [0, 0.15], \"mirror\": false, \"showgrid\": false, \"showline\": false, \"showticklabels\": false, \"ticks\": \"\", \"zeroline\": false}, \"yaxis\": {\"domain\": [0, 0.85], \"mirror\": false, \"rangemode\": \"tozero\", \"showgrid\": false, \"showline\": false, \"showticklabels\": false, \"ticks\": \"\", \"ticktext\": [\"_raw_reagent_0_volume\", \"_raw_reagent_3_chemicals_1_actual_amount\", \"_raw_reagent_3_chemicals_0_actual_amount\", \"_raw_reagent_4_chemicals_1_actual_amount\", \"_raw_reagent_3_chemicals_2_actual_amount\", \"_raw_reagent_3_volume\", \"_raw_reagent_1_volume\", \"_raw_reagent_1_chemicals_2_actual_amount\", \"_raw_reagent_1_chemicals_0_actual_amount\", \"_raw_reagent_1_chemicals_1_actual_amount\", \"_raw_reagent_5_volume\", \"_raw_reagent_2_volume\", \"_raw_reagent_4_volume\", \"_raw_reagent_4_chemicals_0_actual_amount\", \"_raw_reagent_6_volume\", \"_raw_reagent_6_chemicals_0_actual_amount\", \"_raw_reagent_0_chemicals_0_actual_amount\", \"_raw_molweight\", \"_raw_reagent_2_chemicals_1_actual_amount\", \"_raw_reagent_2_chemicals_0_actual_amount\", \"_raw_reagent_5_chemicals_0_actual_amount\"], \"tickvals\": [5.0, 15.0, 25.0, 35.0, 45.0, 55.0, 65.0, 75.0, 85.0, 95.0, 105.0, 115.0, 125.0, 135.0, 145.0, 155.0, 165.0, 175.0, 185.0, 195.0, 205.0], \"type\": \"linear\", \"zeroline\": false}, \"yaxis2\": {\"domain\": [0.825, 0.975], \"mirror\": false, \"showgrid\": false, \"showline\": false, \"showticklabels\": false, \"ticks\": \"\", \"zeroline\": false}},                        {\"responsive\": true}                    ).then(function(){\n                            \nvar gd = document.getElementById('a509eef8-a1cf-43b6-bb2c-99f2b3281b00');\nvar x = new MutationObserver(function (mutations, observer) {{\n        var display = window.getComputedStyle(gd).display;\n        if (!display || display === 'none') {{\n            console.log([gd, 'removed!']);\n            Plotly.purge(gd);\n            observer.disconnect();\n        }}\n}});\n\n// Listen for the removal of the full notebook cells\nvar notebookContainer = gd.closest('#notebook-container');\nif (notebookContainer) {{\n    x.observe(notebookContainer, {childList: true});\n}}\n\n// Listen for the clearing of the current output cell\nvar outputEl = gd.closest('.output');\nif (outputEl) {{\n    x.observe(outputEl, {childList: true});\n}}\n\n                        })                };                });            </script>        </div>"
     },
     "metadata": {}
    }
   ],
   "source": [
    "plot_corr_dendogram(final_df, chem_col, 'Info usada de las soluciones precursoras')\n"
   ]
  },
  {
   "cell_type": "code",
   "execution_count": 196,
   "metadata": {},
   "outputs": [
    {
     "output_type": "display_data",
     "data": {
      "application/vnd.plotly.v1+json": {
       "config": {
        "linkText": "Export to plot.ly",
        "plotlyServerURL": "https://plot.ly",
        "showLink": false
       },
       "data": [
        {
         "hoverinfo": "text",
         "marker": {
          "color": "rgb(61,153,112)"
         },
         "mode": "lines",
         "type": "scatter",
         "x": [
          15,
          15,
          25,
          25
         ],
         "xaxis": "x",
         "y": [
          0,
          0,
          0,
          0
         ],
         "yaxis": "y2"
        },
        {
         "hoverinfo": "text",
         "marker": {
          "color": "rgb(61,153,112)"
         },
         "mode": "lines",
         "type": "scatter",
         "x": [
          20,
          20,
          35,
          35
         ],
         "xaxis": "x",
         "y": [
          0,
          0,
          0,
          0
         ],
         "yaxis": "y2"
        },
        {
         "hoverinfo": "text",
         "marker": {
          "color": "rgb(61,153,112)"
         },
         "mode": "lines",
         "type": "scatter",
         "x": [
          5,
          5,
          27.5,
          27.5
         ],
         "xaxis": "x",
         "y": [
          0,
          0.23272233612431234,
          0.23272233612431234,
          0
         ],
         "yaxis": "y2"
        },
        {
         "hoverinfo": "text",
         "marker": {
          "color": "rgb(61,153,112)"
         },
         "mode": "lines",
         "type": "scatter",
         "x": [
          55,
          55,
          65,
          65
         ],
         "xaxis": "x",
         "y": [
          0,
          0,
          0,
          0
         ],
         "yaxis": "y2"
        },
        {
         "hoverinfo": "text",
         "marker": {
          "color": "rgb(61,153,112)"
         },
         "mode": "lines",
         "type": "scatter",
         "x": [
          60,
          60,
          75,
          75
         ],
         "xaxis": "x",
         "y": [
          0,
          0,
          0,
          0
         ],
         "yaxis": "y2"
        },
        {
         "hoverinfo": "text",
         "marker": {
          "color": "rgb(61,153,112)"
         },
         "mode": "lines",
         "type": "scatter",
         "x": [
          45,
          45,
          67.5,
          67.5
         ],
         "xaxis": "x",
         "y": [
          0,
          0.35228995536714974,
          0.35228995536714974,
          0
         ],
         "yaxis": "y2"
        },
        {
         "hoverinfo": "text",
         "marker": {
          "color": "rgb(61,153,112)"
         },
         "mode": "lines",
         "type": "scatter",
         "x": [
          16.25,
          16.25,
          56.25,
          56.25
         ],
         "xaxis": "x",
         "y": [
          0.23272233612431234,
          0.8225423946856198,
          0.8225423946856198,
          0.35228995536714974
         ],
         "yaxis": "y2"
        },
        {
         "hoverinfo": "text",
         "marker": {
          "color": "rgb(255,65,54)"
         },
         "mode": "lines",
         "type": "scatter",
         "x": [
          95,
          95,
          105,
          105
         ],
         "xaxis": "x",
         "y": [
          0,
          0.8496656116699915,
          0.8496656116699915,
          0
         ],
         "yaxis": "y2"
        },
        {
         "hoverinfo": "text",
         "marker": {
          "color": "rgb(255,65,54)"
         },
         "mode": "lines",
         "type": "scatter",
         "x": [
          85,
          85,
          100,
          100
         ],
         "xaxis": "x",
         "y": [
          0,
          0.966950327866998,
          0.966950327866998,
          0.8496656116699915
         ],
         "yaxis": "y2"
        },
        {
         "hoverinfo": "text",
         "marker": {
          "color": "rgb(35,205,205)"
         },
         "mode": "lines",
         "type": "scatter",
         "x": [
          145,
          145,
          155,
          155
         ],
         "xaxis": "x",
         "y": [
          0,
          0,
          0,
          0
         ],
         "yaxis": "y2"
        },
        {
         "hoverinfo": "text",
         "marker": {
          "color": "rgb(35,205,205)"
         },
         "mode": "lines",
         "type": "scatter",
         "x": [
          135,
          135,
          150,
          150
         ],
         "xaxis": "x",
         "y": [
          0,
          0,
          0,
          0
         ],
         "yaxis": "y2"
        },
        {
         "hoverinfo": "text",
         "marker": {
          "color": "rgb(35,205,205)"
         },
         "mode": "lines",
         "type": "scatter",
         "x": [
          142.5,
          142.5,
          165,
          165
         ],
         "xaxis": "x",
         "y": [
          0,
          0.2570942575691794,
          0.2570942575691794,
          0
         ],
         "yaxis": "y2"
        },
        {
         "hoverinfo": "text",
         "marker": {
          "color": "rgb(35,205,205)"
         },
         "mode": "lines",
         "type": "scatter",
         "x": [
          153.75,
          153.75,
          175,
          175
         ],
         "xaxis": "x",
         "y": [
          0.2570942575691794,
          0.29978174957798703,
          0.29978174957798703,
          0
         ],
         "yaxis": "y2"
        },
        {
         "hoverinfo": "text",
         "marker": {
          "color": "rgb(35,205,205)"
         },
         "mode": "lines",
         "type": "scatter",
         "x": [
          125,
          125,
          164.375,
          164.375
         ],
         "xaxis": "x",
         "y": [
          0,
          0.6170913823333711,
          0.6170913823333711,
          0.29978174957798703
         ],
         "yaxis": "y2"
        },
        {
         "hoverinfo": "text",
         "marker": {
          "color": "rgb(35,205,205)"
         },
         "mode": "lines",
         "type": "scatter",
         "x": [
          185,
          185,
          195,
          195
         ],
         "xaxis": "x",
         "y": [
          0,
          0,
          0,
          0
         ],
         "yaxis": "y2"
        },
        {
         "hoverinfo": "text",
         "marker": {
          "color": "rgb(35,205,205)"
         },
         "mode": "lines",
         "type": "scatter",
         "x": [
          144.6875,
          144.6875,
          190,
          190
         ],
         "xaxis": "x",
         "y": [
          0.6170913823333711,
          0.7329422983701843,
          0.7329422983701843,
          0
         ],
         "yaxis": "y2"
        },
        {
         "hoverinfo": "text",
         "marker": {
          "color": "rgb(35,205,205)"
         },
         "mode": "lines",
         "type": "scatter",
         "x": [
          215,
          215,
          225,
          225
         ],
         "xaxis": "x",
         "y": [
          0,
          0.5897856575177266,
          0.5897856575177266,
          0
         ],
         "yaxis": "y2"
        },
        {
         "hoverinfo": "text",
         "marker": {
          "color": "rgb(35,205,205)"
         },
         "mode": "lines",
         "type": "scatter",
         "x": [
          205,
          205,
          220,
          220
         ],
         "xaxis": "x",
         "y": [
          0,
          0.5999579056035879,
          0.5999579056035879,
          0.5897856575177266
         ],
         "yaxis": "y2"
        },
        {
         "hoverinfo": "text",
         "marker": {
          "color": "rgb(35,205,205)"
         },
         "mode": "lines",
         "type": "scatter",
         "x": [
          167.34375,
          167.34375,
          212.5,
          212.5
         ],
         "xaxis": "x",
         "y": [
          0.7329422983701843,
          0.7211554229540333,
          0.7211554229540333,
          0.5999579056035879
         ],
         "yaxis": "y2"
        },
        {
         "hoverinfo": "text",
         "marker": {
          "color": "rgb(35,205,205)"
         },
         "mode": "lines",
         "type": "scatter",
         "x": [
          245,
          245,
          255,
          255
         ],
         "xaxis": "x",
         "y": [
          0,
          0.17865320422845038,
          0.17865320422845038,
          0
         ],
         "yaxis": "y2"
        },
        {
         "hoverinfo": "text",
         "marker": {
          "color": "rgb(35,205,205)"
         },
         "mode": "lines",
         "type": "scatter",
         "x": [
          265,
          265,
          275,
          275
         ],
         "xaxis": "x",
         "y": [
          0,
          0,
          0,
          0
         ],
         "yaxis": "y2"
        },
        {
         "hoverinfo": "text",
         "marker": {
          "color": "rgb(35,205,205)"
         },
         "mode": "lines",
         "type": "scatter",
         "x": [
          250,
          250,
          270,
          270
         ],
         "xaxis": "x",
         "y": [
          0.17865320422845038,
          0.35022051064743154,
          0.35022051064743154,
          0
         ],
         "yaxis": "y2"
        },
        {
         "hoverinfo": "text",
         "marker": {
          "color": "rgb(35,205,205)"
         },
         "mode": "lines",
         "type": "scatter",
         "x": [
          260,
          260,
          285,
          285
         ],
         "xaxis": "x",
         "y": [
          0.35022051064743154,
          0.5533842316671019,
          0.5533842316671019,
          0
         ],
         "yaxis": "y2"
        },
        {
         "hoverinfo": "text",
         "marker": {
          "color": "rgb(35,205,205)"
         },
         "mode": "lines",
         "type": "scatter",
         "x": [
          272.5,
          272.5,
          295,
          295
         ],
         "xaxis": "x",
         "y": [
          0.5533842316671019,
          0.8252781924159924,
          0.8252781924159924,
          0
         ],
         "yaxis": "y2"
        },
        {
         "hoverinfo": "text",
         "marker": {
          "color": "rgb(35,205,205)"
         },
         "mode": "lines",
         "type": "scatter",
         "x": [
          235,
          235,
          283.75,
          283.75
         ],
         "xaxis": "x",
         "y": [
          0,
          0.9172572393901185,
          0.9172572393901185,
          0.8252781924159924
         ],
         "yaxis": "y2"
        },
        {
         "hoverinfo": "text",
         "marker": {
          "color": "rgb(35,205,205)"
         },
         "mode": "lines",
         "type": "scatter",
         "x": [
          189.921875,
          189.921875,
          259.375,
          259.375
         ],
         "xaxis": "x",
         "y": [
          0.7211554229540333,
          0.9013987479259493,
          0.9013987479259493,
          0.9172572393901185
         ],
         "yaxis": "y2"
        },
        {
         "hoverinfo": "text",
         "marker": {
          "color": "rgb(35,205,205)"
         },
         "mode": "lines",
         "type": "scatter",
         "x": [
          305,
          305,
          315,
          315
         ],
         "xaxis": "x",
         "y": [
          0,
          0.28452022608451233,
          0.28452022608451233,
          0
         ],
         "yaxis": "y2"
        },
        {
         "hoverinfo": "text",
         "marker": {
          "color": "rgb(35,205,205)"
         },
         "mode": "lines",
         "type": "scatter",
         "x": [
          335,
          335,
          345,
          345
         ],
         "xaxis": "x",
         "y": [
          0,
          0.030933886566840752,
          0.030933886566840752,
          0
         ],
         "yaxis": "y2"
        },
        {
         "hoverinfo": "text",
         "marker": {
          "color": "rgb(35,205,205)"
         },
         "mode": "lines",
         "type": "scatter",
         "x": [
          325,
          325,
          340,
          340
         ],
         "xaxis": "x",
         "y": [
          0,
          0.23512748450091794,
          0.23512748450091794,
          0.030933886566840752
         ],
         "yaxis": "y2"
        },
        {
         "hoverinfo": "text",
         "marker": {
          "color": "rgb(35,205,205)"
         },
         "mode": "lines",
         "type": "scatter",
         "x": [
          310,
          310,
          332.5,
          332.5
         ],
         "xaxis": "x",
         "y": [
          0.28452022608451233,
          0.3202721490338715,
          0.3202721490338715,
          0.23512748450091794
         ],
         "yaxis": "y2"
        },
        {
         "hoverinfo": "text",
         "marker": {
          "color": "rgb(35,205,205)"
         },
         "mode": "lines",
         "type": "scatter",
         "x": [
          321.25,
          321.25,
          355,
          355
         ],
         "xaxis": "x",
         "y": [
          0.3202721490338715,
          0.4176607831912853,
          0.4176607831912853,
          0
         ],
         "yaxis": "y2"
        },
        {
         "hoverinfo": "text",
         "marker": {
          "color": "rgb(35,205,205)"
         },
         "mode": "lines",
         "type": "scatter",
         "x": [
          338.125,
          338.125,
          365,
          365
         ],
         "xaxis": "x",
         "y": [
          0.4176607831912853,
          0.7401350512949869,
          0.7401350512949869,
          0
         ],
         "yaxis": "y2"
        },
        {
         "hoverinfo": "text",
         "marker": {
          "color": "rgb(35,205,205)"
         },
         "mode": "lines",
         "type": "scatter",
         "x": [
          224.6484375,
          224.6484375,
          351.5625,
          351.5625
         ],
         "xaxis": "x",
         "y": [
          0.9013987479259493,
          1.5809623817564868,
          1.5809623817564868,
          0.7401350512949869
         ],
         "yaxis": "y2"
        },
        {
         "hoverinfo": "text",
         "marker": {
          "color": "rgb(0,116,217)"
         },
         "mode": "lines",
         "type": "scatter",
         "x": [
          115,
          115,
          288.10546875,
          288.10546875
         ],
         "xaxis": "x",
         "y": [
          0,
          1.882743509785516,
          1.882743509785516,
          1.5809623817564868
         ],
         "yaxis": "y2"
        },
        {
         "hoverinfo": "text",
         "marker": {
          "color": "rgb(0,116,217)"
         },
         "mode": "lines",
         "type": "scatter",
         "x": [
          92.5,
          92.5,
          201.552734375,
          201.552734375
         ],
         "xaxis": "x",
         "y": [
          0.966950327866998,
          1.9630006416511423,
          1.9630006416511423,
          1.882743509785516
         ],
         "yaxis": "y2"
        },
        {
         "hoverinfo": "text",
         "marker": {
          "color": "rgb(133,20,75)"
         },
         "mode": "lines",
         "type": "scatter",
         "x": [
          375,
          375,
          385,
          385
         ],
         "xaxis": "x",
         "y": [
          0,
          0,
          0,
          0
         ],
         "yaxis": "y2"
        },
        {
         "hoverinfo": "text",
         "marker": {
          "color": "rgb(0,116,217)"
         },
         "mode": "lines",
         "type": "scatter",
         "x": [
          147.0263671875,
          147.0263671875,
          380,
          380
         ],
         "xaxis": "x",
         "y": [
          1.9630006416511423,
          2.0146397217413425,
          2.0146397217413425,
          0
         ],
         "yaxis": "y2"
        },
        {
         "hoverinfo": "text",
         "marker": {
          "color": "rgb(255,220,0)"
         },
         "mode": "lines",
         "type": "scatter",
         "x": [
          425,
          425,
          435,
          435
         ],
         "xaxis": "x",
         "y": [
          0,
          0,
          0,
          0
         ],
         "yaxis": "y2"
        },
        {
         "hoverinfo": "text",
         "marker": {
          "color": "rgb(255,220,0)"
         },
         "mode": "lines",
         "type": "scatter",
         "x": [
          415,
          415,
          430,
          430
         ],
         "xaxis": "x",
         "y": [
          0,
          0.5749702712536731,
          0.5749702712536731,
          0
         ],
         "yaxis": "y2"
        },
        {
         "hoverinfo": "text",
         "marker": {
          "color": "rgb(255,220,0)"
         },
         "mode": "lines",
         "type": "scatter",
         "x": [
          455,
          455,
          465,
          465
         ],
         "xaxis": "x",
         "y": [
          0,
          0,
          0,
          0
         ],
         "yaxis": "y2"
        },
        {
         "hoverinfo": "text",
         "marker": {
          "color": "rgb(255,220,0)"
         },
         "mode": "lines",
         "type": "scatter",
         "x": [
          445,
          445,
          460,
          460
         ],
         "xaxis": "x",
         "y": [
          0,
          0.3158783259584002,
          0.3158783259584002,
          0
         ],
         "yaxis": "y2"
        },
        {
         "hoverinfo": "text",
         "marker": {
          "color": "rgb(255,220,0)"
         },
         "mode": "lines",
         "type": "scatter",
         "x": [
          452.5,
          452.5,
          475,
          475
         ],
         "xaxis": "x",
         "y": [
          0.3158783259584002,
          0.40606661230279867,
          0.40606661230279867,
          0
         ],
         "yaxis": "y2"
        },
        {
         "hoverinfo": "text",
         "marker": {
          "color": "rgb(255,220,0)"
         },
         "mode": "lines",
         "type": "scatter",
         "x": [
          485,
          485,
          495,
          495
         ],
         "xaxis": "x",
         "y": [
          0,
          0,
          0,
          0
         ],
         "yaxis": "y2"
        },
        {
         "hoverinfo": "text",
         "marker": {
          "color": "rgb(255,220,0)"
         },
         "mode": "lines",
         "type": "scatter",
         "x": [
          490,
          490,
          505,
          505
         ],
         "xaxis": "x",
         "y": [
          0,
          0.6633234064833606,
          0.6633234064833606,
          0
         ],
         "yaxis": "y2"
        },
        {
         "hoverinfo": "text",
         "marker": {
          "color": "rgb(255,220,0)"
         },
         "mode": "lines",
         "type": "scatter",
         "x": [
          463.75,
          463.75,
          497.5,
          497.5
         ],
         "xaxis": "x",
         "y": [
          0.40606661230279867,
          0.7756350419252821,
          0.7756350419252821,
          0.6633234064833606
         ],
         "yaxis": "y2"
        },
        {
         "hoverinfo": "text",
         "marker": {
          "color": "rgb(255,220,0)"
         },
         "mode": "lines",
         "type": "scatter",
         "x": [
          515,
          515,
          525,
          525
         ],
         "xaxis": "x",
         "y": [
          0,
          0.7872949023179604,
          0.7872949023179604,
          0
         ],
         "yaxis": "y2"
        },
        {
         "hoverinfo": "text",
         "marker": {
          "color": "rgb(255,220,0)"
         },
         "mode": "lines",
         "type": "scatter",
         "x": [
          480.625,
          480.625,
          520,
          520
         ],
         "xaxis": "x",
         "y": [
          0.7756350419252821,
          0.7737749242586186,
          0.7737749242586186,
          0.7872949023179604
         ],
         "yaxis": "y2"
        },
        {
         "hoverinfo": "text",
         "marker": {
          "color": "rgb(255,220,0)"
         },
         "mode": "lines",
         "type": "scatter",
         "x": [
          422.5,
          422.5,
          500.3125,
          500.3125
         ],
         "xaxis": "x",
         "y": [
          0.5749702712536731,
          0.9526880674059116,
          0.9526880674059116,
          0.7737749242586186
         ],
         "yaxis": "y2"
        },
        {
         "hoverinfo": "text",
         "marker": {
          "color": "rgb(255,220,0)"
         },
         "mode": "lines",
         "type": "scatter",
         "x": [
          405,
          405,
          461.40625,
          461.40625
         ],
         "xaxis": "x",
         "y": [
          0,
          1.251227466354911,
          1.251227466354911,
          0.9526880674059116
         ],
         "yaxis": "y2"
        },
        {
         "hoverinfo": "text",
         "marker": {
          "color": "rgb(255,220,0)"
         },
         "mode": "lines",
         "type": "scatter",
         "x": [
          395,
          395,
          433.203125,
          433.203125
         ],
         "xaxis": "x",
         "y": [
          0,
          1.4163373050484684,
          1.4163373050484684,
          1.251227466354911
         ],
         "yaxis": "y2"
        },
        {
         "hoverinfo": "text",
         "marker": {
          "color": "rgb(255,220,0)"
         },
         "mode": "lines",
         "type": "scatter",
         "x": [
          535,
          535,
          545,
          545
         ],
         "xaxis": "x",
         "y": [
          0,
          1.5187757845935246,
          1.5187757845935246,
          0
         ],
         "yaxis": "y2"
        },
        {
         "hoverinfo": "text",
         "marker": {
          "color": "rgb(255,220,0)"
         },
         "mode": "lines",
         "type": "scatter",
         "x": [
          555,
          555,
          565,
          565
         ],
         "xaxis": "x",
         "y": [
          0,
          0.036123378728196834,
          0.036123378728196834,
          0
         ],
         "yaxis": "y2"
        },
        {
         "hoverinfo": "text",
         "marker": {
          "color": "rgb(255,220,0)"
         },
         "mode": "lines",
         "type": "scatter",
         "x": [
          575,
          575,
          585,
          585
         ],
         "xaxis": "x",
         "y": [
          0,
          0.035850595128976474,
          0.035850595128976474,
          0
         ],
         "yaxis": "y2"
        },
        {
         "hoverinfo": "text",
         "marker": {
          "color": "rgb(255,220,0)"
         },
         "mode": "lines",
         "type": "scatter",
         "x": [
          560,
          560,
          580,
          580
         ],
         "xaxis": "x",
         "y": [
          0.036123378728196834,
          0.04320999624577331,
          0.04320999624577331,
          0.035850595128976474
         ],
         "yaxis": "y2"
        },
        {
         "hoverinfo": "text",
         "marker": {
          "color": "rgb(255,220,0)"
         },
         "mode": "lines",
         "type": "scatter",
         "x": [
          570,
          570,
          595,
          595
         ],
         "xaxis": "x",
         "y": [
          0.04320999624577331,
          1.1760997353810778,
          1.1760997353810778,
          0
         ],
         "yaxis": "y2"
        },
        {
         "hoverinfo": "text",
         "marker": {
          "color": "rgb(255,220,0)"
         },
         "mode": "lines",
         "type": "scatter",
         "x": [
          582.5,
          582.5,
          605,
          605
         ],
         "xaxis": "x",
         "y": [
          1.1760997353810778,
          1.4301723507196589,
          1.4301723507196589,
          0
         ],
         "yaxis": "y2"
        },
        {
         "hoverinfo": "text",
         "marker": {
          "color": "rgb(255,220,0)"
         },
         "mode": "lines",
         "type": "scatter",
         "x": [
          635,
          635,
          645,
          645
         ],
         "xaxis": "x",
         "y": [
          0,
          0.7056639461703166,
          0.7056639461703166,
          0
         ],
         "yaxis": "y2"
        },
        {
         "hoverinfo": "text",
         "marker": {
          "color": "rgb(255,220,0)"
         },
         "mode": "lines",
         "type": "scatter",
         "x": [
          655,
          655,
          665,
          665
         ],
         "xaxis": "x",
         "y": [
          0,
          0.657036205785555,
          0.657036205785555,
          0
         ],
         "yaxis": "y2"
        },
        {
         "hoverinfo": "text",
         "marker": {
          "color": "rgb(255,220,0)"
         },
         "mode": "lines",
         "type": "scatter",
         "x": [
          640,
          640,
          660,
          660
         ],
         "xaxis": "x",
         "y": [
          0.7056639461703166,
          1.063389691773093,
          1.063389691773093,
          0.657036205785555
         ],
         "yaxis": "y2"
        },
        {
         "hoverinfo": "text",
         "marker": {
          "color": "rgb(255,220,0)"
         },
         "mode": "lines",
         "type": "scatter",
         "x": [
          625,
          625,
          650,
          650
         ],
         "xaxis": "x",
         "y": [
          0,
          1.48065003548875,
          1.48065003548875,
          1.063389691773093
         ],
         "yaxis": "y2"
        },
        {
         "hoverinfo": "text",
         "marker": {
          "color": "rgb(255,220,0)"
         },
         "mode": "lines",
         "type": "scatter",
         "x": [
          615,
          615,
          637.5,
          637.5
         ],
         "xaxis": "x",
         "y": [
          0,
          1.3104445099215112,
          1.3104445099215112,
          1.48065003548875
         ],
         "yaxis": "y2"
        },
        {
         "hoverinfo": "text",
         "marker": {
          "color": "rgb(255,220,0)"
         },
         "mode": "lines",
         "type": "scatter",
         "x": [
          626.25,
          626.25,
          675,
          675
         ],
         "xaxis": "x",
         "y": [
          1.3104445099215112,
          1.5638760370851024,
          1.5638760370851024,
          0
         ],
         "yaxis": "y2"
        },
        {
         "hoverinfo": "text",
         "marker": {
          "color": "rgb(255,220,0)"
         },
         "mode": "lines",
         "type": "scatter",
         "x": [
          685,
          685,
          695,
          695
         ],
         "xaxis": "x",
         "y": [
          0,
          1.1000071040466979,
          1.1000071040466979,
          0
         ],
         "yaxis": "y2"
        },
        {
         "hoverinfo": "text",
         "marker": {
          "color": "rgb(255,220,0)"
         },
         "mode": "lines",
         "type": "scatter",
         "x": [
          690,
          690,
          705,
          705
         ],
         "xaxis": "x",
         "y": [
          1.1000071040466979,
          1.32780708995779,
          1.32780708995779,
          0
         ],
         "yaxis": "y2"
        },
        {
         "hoverinfo": "text",
         "marker": {
          "color": "rgb(255,220,0)"
         },
         "mode": "lines",
         "type": "scatter",
         "x": [
          697.5,
          697.5,
          715,
          715
         ],
         "xaxis": "x",
         "y": [
          1.32780708995779,
          1.3013112982589221,
          1.3013112982589221,
          0
         ],
         "yaxis": "y2"
        },
        {
         "hoverinfo": "text",
         "marker": {
          "color": "rgb(255,220,0)"
         },
         "mode": "lines",
         "type": "scatter",
         "x": [
          706.25,
          706.25,
          725,
          725
         ],
         "xaxis": "x",
         "y": [
          1.3013112982589221,
          1.3417019160769164,
          1.3417019160769164,
          0
         ],
         "yaxis": "y2"
        },
        {
         "hoverinfo": "text",
         "marker": {
          "color": "rgb(255,220,0)"
         },
         "mode": "lines",
         "type": "scatter",
         "x": [
          735,
          735,
          745,
          745
         ],
         "xaxis": "x",
         "y": [
          0,
          1.3545165129126244,
          1.3545165129126244,
          0
         ],
         "yaxis": "y2"
        },
        {
         "hoverinfo": "text",
         "marker": {
          "color": "rgb(255,220,0)"
         },
         "mode": "lines",
         "type": "scatter",
         "x": [
          715.625,
          715.625,
          740,
          740
         ],
         "xaxis": "x",
         "y": [
          1.3417019160769164,
          1.3718296138411608,
          1.3718296138411608,
          1.3545165129126244
         ],
         "yaxis": "y2"
        },
        {
         "hoverinfo": "text",
         "marker": {
          "color": "rgb(255,220,0)"
         },
         "mode": "lines",
         "type": "scatter",
         "x": [
          727.8125,
          727.8125,
          755,
          755
         ],
         "xaxis": "x",
         "y": [
          1.3718296138411608,
          1.2264418074653862,
          1.2264418074653862,
          0
         ],
         "yaxis": "y2"
        },
        {
         "hoverinfo": "text",
         "marker": {
          "color": "rgb(255,220,0)"
         },
         "mode": "lines",
         "type": "scatter",
         "x": [
          765,
          765,
          775,
          775
         ],
         "xaxis": "x",
         "y": [
          0,
          1.1117662268366177,
          1.1117662268366177,
          0
         ],
         "yaxis": "y2"
        },
        {
         "hoverinfo": "text",
         "marker": {
          "color": "rgb(255,220,0)"
         },
         "mode": "lines",
         "type": "scatter",
         "x": [
          741.40625,
          741.40625,
          770,
          770
         ],
         "xaxis": "x",
         "y": [
          1.2264418074653862,
          1.3143677520472123,
          1.3143677520472123,
          1.1117662268366177
         ],
         "yaxis": "y2"
        },
        {
         "hoverinfo": "text",
         "marker": {
          "color": "rgb(255,220,0)"
         },
         "mode": "lines",
         "type": "scatter",
         "x": [
          755.703125,
          755.703125,
          785,
          785
         ],
         "xaxis": "x",
         "y": [
          1.3143677520472123,
          1.3587598928599176,
          1.3587598928599176,
          0
         ],
         "yaxis": "y2"
        },
        {
         "hoverinfo": "text",
         "marker": {
          "color": "rgb(255,220,0)"
         },
         "mode": "lines",
         "type": "scatter",
         "x": [
          770.3515625,
          770.3515625,
          795,
          795
         ],
         "xaxis": "x",
         "y": [
          1.3587598928599176,
          1.438190615407098,
          1.438190615407098,
          0
         ],
         "yaxis": "y2"
        },
        {
         "hoverinfo": "text",
         "marker": {
          "color": "rgb(255,220,0)"
         },
         "mode": "lines",
         "type": "scatter",
         "x": [
          650.625,
          650.625,
          782.67578125,
          782.67578125
         ],
         "xaxis": "x",
         "y": [
          1.5638760370851024,
          1.5692840374987629,
          1.5692840374987629,
          1.438190615407098
         ],
         "yaxis": "y2"
        },
        {
         "hoverinfo": "text",
         "marker": {
          "color": "rgb(255,220,0)"
         },
         "mode": "lines",
         "type": "scatter",
         "x": [
          593.75,
          593.75,
          716.650390625,
          716.650390625
         ],
         "xaxis": "x",
         "y": [
          1.4301723507196589,
          1.5077386383310771,
          1.5077386383310771,
          1.5692840374987629
         ],
         "yaxis": "y2"
        },
        {
         "hoverinfo": "text",
         "marker": {
          "color": "rgb(255,220,0)"
         },
         "mode": "lines",
         "type": "scatter",
         "x": [
          540,
          540,
          655.2001953125,
          655.2001953125
         ],
         "xaxis": "x",
         "y": [
          1.5187757845935246,
          1.6874511320025385,
          1.6874511320025385,
          1.5077386383310771
         ],
         "yaxis": "y2"
        },
        {
         "hoverinfo": "text",
         "marker": {
          "color": "rgb(255,220,0)"
         },
         "mode": "lines",
         "type": "scatter",
         "x": [
          414.1015625,
          414.1015625,
          597.60009765625,
          597.60009765625
         ],
         "xaxis": "x",
         "y": [
          1.4163373050484684,
          1.8657202219315796,
          1.8657202219315796,
          1.6874511320025385
         ],
         "yaxis": "y2"
        },
        {
         "hoverinfo": "text",
         "marker": {
          "color": "rgb(40,35,35)"
         },
         "mode": "lines",
         "type": "scatter",
         "x": [
          815,
          815,
          825,
          825
         ],
         "xaxis": "x",
         "y": [
          0,
          0,
          0,
          0
         ],
         "yaxis": "y2"
        },
        {
         "hoverinfo": "text",
         "marker": {
          "color": "rgb(40,35,35)"
         },
         "mode": "lines",
         "type": "scatter",
         "x": [
          820,
          820,
          835,
          835
         ],
         "xaxis": "x",
         "y": [
          0,
          0,
          0,
          0
         ],
         "yaxis": "y2"
        },
        {
         "hoverinfo": "text",
         "marker": {
          "color": "rgb(40,35,35)"
         },
         "mode": "lines",
         "type": "scatter",
         "x": [
          805,
          805,
          827.5,
          827.5
         ],
         "xaxis": "x",
         "y": [
          0,
          0.9549369736063766,
          0.9549369736063766,
          0
         ],
         "yaxis": "y2"
        },
        {
         "hoverinfo": "text",
         "marker": {
          "color": "rgb(0,116,217)"
         },
         "mode": "lines",
         "type": "scatter",
         "x": [
          505.850830078125,
          505.850830078125,
          816.25,
          816.25
         ],
         "xaxis": "x",
         "y": [
          1.8657202219315796,
          2.1917442443519235,
          2.1917442443519235,
          0.9549369736063766
         ],
         "yaxis": "y2"
        },
        {
         "hoverinfo": "text",
         "marker": {
          "color": "rgb(0,116,217)"
         },
         "mode": "lines",
         "type": "scatter",
         "x": [
          263.51318359375,
          263.51318359375,
          661.0504150390625,
          661.0504150390625
         ],
         "xaxis": "x",
         "y": [
          2.0146397217413425,
          2.5411476741310457,
          2.5411476741310457,
          2.1917442443519235
         ],
         "yaxis": "y2"
        },
        {
         "hoverinfo": "text",
         "marker": {
          "color": "rgb(0,116,217)"
         },
         "mode": "lines",
         "type": "scatter",
         "x": [
          36.25,
          36.25,
          462.28179931640625,
          462.28179931640625
         ],
         "xaxis": "x",
         "y": [
          0.8225423946856198,
          2.6658111467421843,
          2.6658111467421843,
          2.5411476741310457
         ],
         "yaxis": "y2"
        },
        {
         "hoverinfo": "text",
         "marker": {
          "color": "rgb(61,153,112)"
         },
         "mode": "lines",
         "type": "scatter",
         "x": [
          0,
          0,
          0,
          0
         ],
         "xaxis": "x2",
         "y": [
          15,
          15,
          25,
          25
         ],
         "yaxis": "y"
        },
        {
         "hoverinfo": "text",
         "marker": {
          "color": "rgb(61,153,112)"
         },
         "mode": "lines",
         "type": "scatter",
         "x": [
          0,
          0,
          0,
          0
         ],
         "xaxis": "x2",
         "y": [
          20,
          20,
          35,
          35
         ],
         "yaxis": "y"
        },
        {
         "hoverinfo": "text",
         "marker": {
          "color": "rgb(61,153,112)"
         },
         "mode": "lines",
         "type": "scatter",
         "x": [
          0,
          -0.23272233612431234,
          -0.23272233612431234,
          0
         ],
         "xaxis": "x2",
         "y": [
          5,
          5,
          27.5,
          27.5
         ],
         "yaxis": "y"
        },
        {
         "hoverinfo": "text",
         "marker": {
          "color": "rgb(61,153,112)"
         },
         "mode": "lines",
         "type": "scatter",
         "x": [
          0,
          0,
          0,
          0
         ],
         "xaxis": "x2",
         "y": [
          55,
          55,
          65,
          65
         ],
         "yaxis": "y"
        },
        {
         "hoverinfo": "text",
         "marker": {
          "color": "rgb(61,153,112)"
         },
         "mode": "lines",
         "type": "scatter",
         "x": [
          0,
          0,
          0,
          0
         ],
         "xaxis": "x2",
         "y": [
          60,
          60,
          75,
          75
         ],
         "yaxis": "y"
        },
        {
         "hoverinfo": "text",
         "marker": {
          "color": "rgb(61,153,112)"
         },
         "mode": "lines",
         "type": "scatter",
         "x": [
          0,
          -0.35228995536714974,
          -0.35228995536714974,
          0
         ],
         "xaxis": "x2",
         "y": [
          45,
          45,
          67.5,
          67.5
         ],
         "yaxis": "y"
        },
        {
         "hoverinfo": "text",
         "marker": {
          "color": "rgb(61,153,112)"
         },
         "mode": "lines",
         "type": "scatter",
         "x": [
          -0.23272233612431234,
          -0.8225423946856198,
          -0.8225423946856198,
          -0.35228995536714974
         ],
         "xaxis": "x2",
         "y": [
          16.25,
          16.25,
          56.25,
          56.25
         ],
         "yaxis": "y"
        },
        {
         "hoverinfo": "text",
         "marker": {
          "color": "rgb(255,65,54)"
         },
         "mode": "lines",
         "type": "scatter",
         "x": [
          0,
          -0.8496656116699915,
          -0.8496656116699915,
          0
         ],
         "xaxis": "x2",
         "y": [
          95,
          95,
          105,
          105
         ],
         "yaxis": "y"
        },
        {
         "hoverinfo": "text",
         "marker": {
          "color": "rgb(255,65,54)"
         },
         "mode": "lines",
         "type": "scatter",
         "x": [
          0,
          -0.966950327866998,
          -0.966950327866998,
          -0.8496656116699915
         ],
         "xaxis": "x2",
         "y": [
          85,
          85,
          100,
          100
         ],
         "yaxis": "y"
        },
        {
         "hoverinfo": "text",
         "marker": {
          "color": "rgb(35,205,205)"
         },
         "mode": "lines",
         "type": "scatter",
         "x": [
          0,
          0,
          0,
          0
         ],
         "xaxis": "x2",
         "y": [
          145,
          145,
          155,
          155
         ],
         "yaxis": "y"
        },
        {
         "hoverinfo": "text",
         "marker": {
          "color": "rgb(35,205,205)"
         },
         "mode": "lines",
         "type": "scatter",
         "x": [
          0,
          0,
          0,
          0
         ],
         "xaxis": "x2",
         "y": [
          135,
          135,
          150,
          150
         ],
         "yaxis": "y"
        },
        {
         "hoverinfo": "text",
         "marker": {
          "color": "rgb(35,205,205)"
         },
         "mode": "lines",
         "type": "scatter",
         "x": [
          0,
          -0.2570942575691794,
          -0.2570942575691794,
          0
         ],
         "xaxis": "x2",
         "y": [
          142.5,
          142.5,
          165,
          165
         ],
         "yaxis": "y"
        },
        {
         "hoverinfo": "text",
         "marker": {
          "color": "rgb(35,205,205)"
         },
         "mode": "lines",
         "type": "scatter",
         "x": [
          -0.2570942575691794,
          -0.29978174957798703,
          -0.29978174957798703,
          0
         ],
         "xaxis": "x2",
         "y": [
          153.75,
          153.75,
          175,
          175
         ],
         "yaxis": "y"
        },
        {
         "hoverinfo": "text",
         "marker": {
          "color": "rgb(35,205,205)"
         },
         "mode": "lines",
         "type": "scatter",
         "x": [
          0,
          -0.6170913823333711,
          -0.6170913823333711,
          -0.29978174957798703
         ],
         "xaxis": "x2",
         "y": [
          125,
          125,
          164.375,
          164.375
         ],
         "yaxis": "y"
        },
        {
         "hoverinfo": "text",
         "marker": {
          "color": "rgb(35,205,205)"
         },
         "mode": "lines",
         "type": "scatter",
         "x": [
          0,
          0,
          0,
          0
         ],
         "xaxis": "x2",
         "y": [
          185,
          185,
          195,
          195
         ],
         "yaxis": "y"
        },
        {
         "hoverinfo": "text",
         "marker": {
          "color": "rgb(35,205,205)"
         },
         "mode": "lines",
         "type": "scatter",
         "x": [
          -0.6170913823333711,
          -0.7329422983701843,
          -0.7329422983701843,
          0
         ],
         "xaxis": "x2",
         "y": [
          144.6875,
          144.6875,
          190,
          190
         ],
         "yaxis": "y"
        },
        {
         "hoverinfo": "text",
         "marker": {
          "color": "rgb(35,205,205)"
         },
         "mode": "lines",
         "type": "scatter",
         "x": [
          0,
          -0.5897856575177266,
          -0.5897856575177266,
          0
         ],
         "xaxis": "x2",
         "y": [
          215,
          215,
          225,
          225
         ],
         "yaxis": "y"
        },
        {
         "hoverinfo": "text",
         "marker": {
          "color": "rgb(35,205,205)"
         },
         "mode": "lines",
         "type": "scatter",
         "x": [
          0,
          -0.5999579056035879,
          -0.5999579056035879,
          -0.5897856575177266
         ],
         "xaxis": "x2",
         "y": [
          205,
          205,
          220,
          220
         ],
         "yaxis": "y"
        },
        {
         "hoverinfo": "text",
         "marker": {
          "color": "rgb(35,205,205)"
         },
         "mode": "lines",
         "type": "scatter",
         "x": [
          -0.7329422983701843,
          -0.7211554229540333,
          -0.7211554229540333,
          -0.5999579056035879
         ],
         "xaxis": "x2",
         "y": [
          167.34375,
          167.34375,
          212.5,
          212.5
         ],
         "yaxis": "y"
        },
        {
         "hoverinfo": "text",
         "marker": {
          "color": "rgb(35,205,205)"
         },
         "mode": "lines",
         "type": "scatter",
         "x": [
          0,
          -0.17865320422845038,
          -0.17865320422845038,
          0
         ],
         "xaxis": "x2",
         "y": [
          245,
          245,
          255,
          255
         ],
         "yaxis": "y"
        },
        {
         "hoverinfo": "text",
         "marker": {
          "color": "rgb(35,205,205)"
         },
         "mode": "lines",
         "type": "scatter",
         "x": [
          0,
          0,
          0,
          0
         ],
         "xaxis": "x2",
         "y": [
          265,
          265,
          275,
          275
         ],
         "yaxis": "y"
        },
        {
         "hoverinfo": "text",
         "marker": {
          "color": "rgb(35,205,205)"
         },
         "mode": "lines",
         "type": "scatter",
         "x": [
          -0.17865320422845038,
          -0.35022051064743154,
          -0.35022051064743154,
          0
         ],
         "xaxis": "x2",
         "y": [
          250,
          250,
          270,
          270
         ],
         "yaxis": "y"
        },
        {
         "hoverinfo": "text",
         "marker": {
          "color": "rgb(35,205,205)"
         },
         "mode": "lines",
         "type": "scatter",
         "x": [
          -0.35022051064743154,
          -0.5533842316671019,
          -0.5533842316671019,
          0
         ],
         "xaxis": "x2",
         "y": [
          260,
          260,
          285,
          285
         ],
         "yaxis": "y"
        },
        {
         "hoverinfo": "text",
         "marker": {
          "color": "rgb(35,205,205)"
         },
         "mode": "lines",
         "type": "scatter",
         "x": [
          -0.5533842316671019,
          -0.8252781924159924,
          -0.8252781924159924,
          0
         ],
         "xaxis": "x2",
         "y": [
          272.5,
          272.5,
          295,
          295
         ],
         "yaxis": "y"
        },
        {
         "hoverinfo": "text",
         "marker": {
          "color": "rgb(35,205,205)"
         },
         "mode": "lines",
         "type": "scatter",
         "x": [
          0,
          -0.9172572393901185,
          -0.9172572393901185,
          -0.8252781924159924
         ],
         "xaxis": "x2",
         "y": [
          235,
          235,
          283.75,
          283.75
         ],
         "yaxis": "y"
        },
        {
         "hoverinfo": "text",
         "marker": {
          "color": "rgb(35,205,205)"
         },
         "mode": "lines",
         "type": "scatter",
         "x": [
          -0.7211554229540333,
          -0.9013987479259493,
          -0.9013987479259493,
          -0.9172572393901185
         ],
         "xaxis": "x2",
         "y": [
          189.921875,
          189.921875,
          259.375,
          259.375
         ],
         "yaxis": "y"
        },
        {
         "hoverinfo": "text",
         "marker": {
          "color": "rgb(35,205,205)"
         },
         "mode": "lines",
         "type": "scatter",
         "x": [
          0,
          -0.28452022608451233,
          -0.28452022608451233,
          0
         ],
         "xaxis": "x2",
         "y": [
          305,
          305,
          315,
          315
         ],
         "yaxis": "y"
        },
        {
         "hoverinfo": "text",
         "marker": {
          "color": "rgb(35,205,205)"
         },
         "mode": "lines",
         "type": "scatter",
         "x": [
          0,
          -0.030933886566840752,
          -0.030933886566840752,
          0
         ],
         "xaxis": "x2",
         "y": [
          335,
          335,
          345,
          345
         ],
         "yaxis": "y"
        },
        {
         "hoverinfo": "text",
         "marker": {
          "color": "rgb(35,205,205)"
         },
         "mode": "lines",
         "type": "scatter",
         "x": [
          0,
          -0.23512748450091794,
          -0.23512748450091794,
          -0.030933886566840752
         ],
         "xaxis": "x2",
         "y": [
          325,
          325,
          340,
          340
         ],
         "yaxis": "y"
        },
        {
         "hoverinfo": "text",
         "marker": {
          "color": "rgb(35,205,205)"
         },
         "mode": "lines",
         "type": "scatter",
         "x": [
          -0.28452022608451233,
          -0.3202721490338715,
          -0.3202721490338715,
          -0.23512748450091794
         ],
         "xaxis": "x2",
         "y": [
          310,
          310,
          332.5,
          332.5
         ],
         "yaxis": "y"
        },
        {
         "hoverinfo": "text",
         "marker": {
          "color": "rgb(35,205,205)"
         },
         "mode": "lines",
         "type": "scatter",
         "x": [
          -0.3202721490338715,
          -0.4176607831912853,
          -0.4176607831912853,
          0
         ],
         "xaxis": "x2",
         "y": [
          321.25,
          321.25,
          355,
          355
         ],
         "yaxis": "y"
        },
        {
         "hoverinfo": "text",
         "marker": {
          "color": "rgb(35,205,205)"
         },
         "mode": "lines",
         "type": "scatter",
         "x": [
          -0.4176607831912853,
          -0.7401350512949869,
          -0.7401350512949869,
          0
         ],
         "xaxis": "x2",
         "y": [
          338.125,
          338.125,
          365,
          365
         ],
         "yaxis": "y"
        },
        {
         "hoverinfo": "text",
         "marker": {
          "color": "rgb(35,205,205)"
         },
         "mode": "lines",
         "type": "scatter",
         "x": [
          -0.9013987479259493,
          -1.5809623817564868,
          -1.5809623817564868,
          -0.7401350512949869
         ],
         "xaxis": "x2",
         "y": [
          224.6484375,
          224.6484375,
          351.5625,
          351.5625
         ],
         "yaxis": "y"
        },
        {
         "hoverinfo": "text",
         "marker": {
          "color": "rgb(0,116,217)"
         },
         "mode": "lines",
         "type": "scatter",
         "x": [
          0,
          -1.882743509785516,
          -1.882743509785516,
          -1.5809623817564868
         ],
         "xaxis": "x2",
         "y": [
          115,
          115,
          288.10546875,
          288.10546875
         ],
         "yaxis": "y"
        },
        {
         "hoverinfo": "text",
         "marker": {
          "color": "rgb(0,116,217)"
         },
         "mode": "lines",
         "type": "scatter",
         "x": [
          -0.966950327866998,
          -1.9630006416511423,
          -1.9630006416511423,
          -1.882743509785516
         ],
         "xaxis": "x2",
         "y": [
          92.5,
          92.5,
          201.552734375,
          201.552734375
         ],
         "yaxis": "y"
        },
        {
         "hoverinfo": "text",
         "marker": {
          "color": "rgb(133,20,75)"
         },
         "mode": "lines",
         "type": "scatter",
         "x": [
          0,
          0,
          0,
          0
         ],
         "xaxis": "x2",
         "y": [
          375,
          375,
          385,
          385
         ],
         "yaxis": "y"
        },
        {
         "hoverinfo": "text",
         "marker": {
          "color": "rgb(0,116,217)"
         },
         "mode": "lines",
         "type": "scatter",
         "x": [
          -1.9630006416511423,
          -2.0146397217413425,
          -2.0146397217413425,
          0
         ],
         "xaxis": "x2",
         "y": [
          147.0263671875,
          147.0263671875,
          380,
          380
         ],
         "yaxis": "y"
        },
        {
         "hoverinfo": "text",
         "marker": {
          "color": "rgb(255,220,0)"
         },
         "mode": "lines",
         "type": "scatter",
         "x": [
          0,
          0,
          0,
          0
         ],
         "xaxis": "x2",
         "y": [
          425,
          425,
          435,
          435
         ],
         "yaxis": "y"
        },
        {
         "hoverinfo": "text",
         "marker": {
          "color": "rgb(255,220,0)"
         },
         "mode": "lines",
         "type": "scatter",
         "x": [
          0,
          -0.5749702712536731,
          -0.5749702712536731,
          0
         ],
         "xaxis": "x2",
         "y": [
          415,
          415,
          430,
          430
         ],
         "yaxis": "y"
        },
        {
         "hoverinfo": "text",
         "marker": {
          "color": "rgb(255,220,0)"
         },
         "mode": "lines",
         "type": "scatter",
         "x": [
          0,
          0,
          0,
          0
         ],
         "xaxis": "x2",
         "y": [
          455,
          455,
          465,
          465
         ],
         "yaxis": "y"
        },
        {
         "hoverinfo": "text",
         "marker": {
          "color": "rgb(255,220,0)"
         },
         "mode": "lines",
         "type": "scatter",
         "x": [
          0,
          -0.3158783259584002,
          -0.3158783259584002,
          0
         ],
         "xaxis": "x2",
         "y": [
          445,
          445,
          460,
          460
         ],
         "yaxis": "y"
        },
        {
         "hoverinfo": "text",
         "marker": {
          "color": "rgb(255,220,0)"
         },
         "mode": "lines",
         "type": "scatter",
         "x": [
          -0.3158783259584002,
          -0.40606661230279867,
          -0.40606661230279867,
          0
         ],
         "xaxis": "x2",
         "y": [
          452.5,
          452.5,
          475,
          475
         ],
         "yaxis": "y"
        },
        {
         "hoverinfo": "text",
         "marker": {
          "color": "rgb(255,220,0)"
         },
         "mode": "lines",
         "type": "scatter",
         "x": [
          0,
          0,
          0,
          0
         ],
         "xaxis": "x2",
         "y": [
          485,
          485,
          495,
          495
         ],
         "yaxis": "y"
        },
        {
         "hoverinfo": "text",
         "marker": {
          "color": "rgb(255,220,0)"
         },
         "mode": "lines",
         "type": "scatter",
         "x": [
          0,
          -0.6633234064833606,
          -0.6633234064833606,
          0
         ],
         "xaxis": "x2",
         "y": [
          490,
          490,
          505,
          505
         ],
         "yaxis": "y"
        },
        {
         "hoverinfo": "text",
         "marker": {
          "color": "rgb(255,220,0)"
         },
         "mode": "lines",
         "type": "scatter",
         "x": [
          -0.40606661230279867,
          -0.7756350419252821,
          -0.7756350419252821,
          -0.6633234064833606
         ],
         "xaxis": "x2",
         "y": [
          463.75,
          463.75,
          497.5,
          497.5
         ],
         "yaxis": "y"
        },
        {
         "hoverinfo": "text",
         "marker": {
          "color": "rgb(255,220,0)"
         },
         "mode": "lines",
         "type": "scatter",
         "x": [
          0,
          -0.7872949023179604,
          -0.7872949023179604,
          0
         ],
         "xaxis": "x2",
         "y": [
          515,
          515,
          525,
          525
         ],
         "yaxis": "y"
        },
        {
         "hoverinfo": "text",
         "marker": {
          "color": "rgb(255,220,0)"
         },
         "mode": "lines",
         "type": "scatter",
         "x": [
          -0.7756350419252821,
          -0.7737749242586186,
          -0.7737749242586186,
          -0.7872949023179604
         ],
         "xaxis": "x2",
         "y": [
          480.625,
          480.625,
          520,
          520
         ],
         "yaxis": "y"
        },
        {
         "hoverinfo": "text",
         "marker": {
          "color": "rgb(255,220,0)"
         },
         "mode": "lines",
         "type": "scatter",
         "x": [
          -0.5749702712536731,
          -0.9526880674059116,
          -0.9526880674059116,
          -0.7737749242586186
         ],
         "xaxis": "x2",
         "y": [
          422.5,
          422.5,
          500.3125,
          500.3125
         ],
         "yaxis": "y"
        },
        {
         "hoverinfo": "text",
         "marker": {
          "color": "rgb(255,220,0)"
         },
         "mode": "lines",
         "type": "scatter",
         "x": [
          0,
          -1.251227466354911,
          -1.251227466354911,
          -0.9526880674059116
         ],
         "xaxis": "x2",
         "y": [
          405,
          405,
          461.40625,
          461.40625
         ],
         "yaxis": "y"
        },
        {
         "hoverinfo": "text",
         "marker": {
          "color": "rgb(255,220,0)"
         },
         "mode": "lines",
         "type": "scatter",
         "x": [
          0,
          -1.4163373050484684,
          -1.4163373050484684,
          -1.251227466354911
         ],
         "xaxis": "x2",
         "y": [
          395,
          395,
          433.203125,
          433.203125
         ],
         "yaxis": "y"
        },
        {
         "hoverinfo": "text",
         "marker": {
          "color": "rgb(255,220,0)"
         },
         "mode": "lines",
         "type": "scatter",
         "x": [
          0,
          -1.5187757845935246,
          -1.5187757845935246,
          0
         ],
         "xaxis": "x2",
         "y": [
          535,
          535,
          545,
          545
         ],
         "yaxis": "y"
        },
        {
         "hoverinfo": "text",
         "marker": {
          "color": "rgb(255,220,0)"
         },
         "mode": "lines",
         "type": "scatter",
         "x": [
          0,
          -0.036123378728196834,
          -0.036123378728196834,
          0
         ],
         "xaxis": "x2",
         "y": [
          555,
          555,
          565,
          565
         ],
         "yaxis": "y"
        },
        {
         "hoverinfo": "text",
         "marker": {
          "color": "rgb(255,220,0)"
         },
         "mode": "lines",
         "type": "scatter",
         "x": [
          0,
          -0.035850595128976474,
          -0.035850595128976474,
          0
         ],
         "xaxis": "x2",
         "y": [
          575,
          575,
          585,
          585
         ],
         "yaxis": "y"
        },
        {
         "hoverinfo": "text",
         "marker": {
          "color": "rgb(255,220,0)"
         },
         "mode": "lines",
         "type": "scatter",
         "x": [
          -0.036123378728196834,
          -0.04320999624577331,
          -0.04320999624577331,
          -0.035850595128976474
         ],
         "xaxis": "x2",
         "y": [
          560,
          560,
          580,
          580
         ],
         "yaxis": "y"
        },
        {
         "hoverinfo": "text",
         "marker": {
          "color": "rgb(255,220,0)"
         },
         "mode": "lines",
         "type": "scatter",
         "x": [
          -0.04320999624577331,
          -1.1760997353810778,
          -1.1760997353810778,
          0
         ],
         "xaxis": "x2",
         "y": [
          570,
          570,
          595,
          595
         ],
         "yaxis": "y"
        },
        {
         "hoverinfo": "text",
         "marker": {
          "color": "rgb(255,220,0)"
         },
         "mode": "lines",
         "type": "scatter",
         "x": [
          -1.1760997353810778,
          -1.4301723507196589,
          -1.4301723507196589,
          0
         ],
         "xaxis": "x2",
         "y": [
          582.5,
          582.5,
          605,
          605
         ],
         "yaxis": "y"
        },
        {
         "hoverinfo": "text",
         "marker": {
          "color": "rgb(255,220,0)"
         },
         "mode": "lines",
         "type": "scatter",
         "x": [
          0,
          -0.7056639461703166,
          -0.7056639461703166,
          0
         ],
         "xaxis": "x2",
         "y": [
          635,
          635,
          645,
          645
         ],
         "yaxis": "y"
        },
        {
         "hoverinfo": "text",
         "marker": {
          "color": "rgb(255,220,0)"
         },
         "mode": "lines",
         "type": "scatter",
         "x": [
          0,
          -0.657036205785555,
          -0.657036205785555,
          0
         ],
         "xaxis": "x2",
         "y": [
          655,
          655,
          665,
          665
         ],
         "yaxis": "y"
        },
        {
         "hoverinfo": "text",
         "marker": {
          "color": "rgb(255,220,0)"
         },
         "mode": "lines",
         "type": "scatter",
         "x": [
          -0.7056639461703166,
          -1.063389691773093,
          -1.063389691773093,
          -0.657036205785555
         ],
         "xaxis": "x2",
         "y": [
          640,
          640,
          660,
          660
         ],
         "yaxis": "y"
        },
        {
         "hoverinfo": "text",
         "marker": {
          "color": "rgb(255,220,0)"
         },
         "mode": "lines",
         "type": "scatter",
         "x": [
          0,
          -1.48065003548875,
          -1.48065003548875,
          -1.063389691773093
         ],
         "xaxis": "x2",
         "y": [
          625,
          625,
          650,
          650
         ],
         "yaxis": "y"
        },
        {
         "hoverinfo": "text",
         "marker": {
          "color": "rgb(255,220,0)"
         },
         "mode": "lines",
         "type": "scatter",
         "x": [
          0,
          -1.3104445099215112,
          -1.3104445099215112,
          -1.48065003548875
         ],
         "xaxis": "x2",
         "y": [
          615,
          615,
          637.5,
          637.5
         ],
         "yaxis": "y"
        },
        {
         "hoverinfo": "text",
         "marker": {
          "color": "rgb(255,220,0)"
         },
         "mode": "lines",
         "type": "scatter",
         "x": [
          -1.3104445099215112,
          -1.5638760370851024,
          -1.5638760370851024,
          0
         ],
         "xaxis": "x2",
         "y": [
          626.25,
          626.25,
          675,
          675
         ],
         "yaxis": "y"
        },
        {
         "hoverinfo": "text",
         "marker": {
          "color": "rgb(255,220,0)"
         },
         "mode": "lines",
         "type": "scatter",
         "x": [
          0,
          -1.1000071040466979,
          -1.1000071040466979,
          0
         ],
         "xaxis": "x2",
         "y": [
          685,
          685,
          695,
          695
         ],
         "yaxis": "y"
        },
        {
         "hoverinfo": "text",
         "marker": {
          "color": "rgb(255,220,0)"
         },
         "mode": "lines",
         "type": "scatter",
         "x": [
          -1.1000071040466979,
          -1.32780708995779,
          -1.32780708995779,
          0
         ],
         "xaxis": "x2",
         "y": [
          690,
          690,
          705,
          705
         ],
         "yaxis": "y"
        },
        {
         "hoverinfo": "text",
         "marker": {
          "color": "rgb(255,220,0)"
         },
         "mode": "lines",
         "type": "scatter",
         "x": [
          -1.32780708995779,
          -1.3013112982589221,
          -1.3013112982589221,
          0
         ],
         "xaxis": "x2",
         "y": [
          697.5,
          697.5,
          715,
          715
         ],
         "yaxis": "y"
        },
        {
         "hoverinfo": "text",
         "marker": {
          "color": "rgb(255,220,0)"
         },
         "mode": "lines",
         "type": "scatter",
         "x": [
          -1.3013112982589221,
          -1.3417019160769164,
          -1.3417019160769164,
          0
         ],
         "xaxis": "x2",
         "y": [
          706.25,
          706.25,
          725,
          725
         ],
         "yaxis": "y"
        },
        {
         "hoverinfo": "text",
         "marker": {
          "color": "rgb(255,220,0)"
         },
         "mode": "lines",
         "type": "scatter",
         "x": [
          0,
          -1.3545165129126244,
          -1.3545165129126244,
          0
         ],
         "xaxis": "x2",
         "y": [
          735,
          735,
          745,
          745
         ],
         "yaxis": "y"
        },
        {
         "hoverinfo": "text",
         "marker": {
          "color": "rgb(255,220,0)"
         },
         "mode": "lines",
         "type": "scatter",
         "x": [
          -1.3417019160769164,
          -1.3718296138411608,
          -1.3718296138411608,
          -1.3545165129126244
         ],
         "xaxis": "x2",
         "y": [
          715.625,
          715.625,
          740,
          740
         ],
         "yaxis": "y"
        },
        {
         "hoverinfo": "text",
         "marker": {
          "color": "rgb(255,220,0)"
         },
         "mode": "lines",
         "type": "scatter",
         "x": [
          -1.3718296138411608,
          -1.2264418074653862,
          -1.2264418074653862,
          0
         ],
         "xaxis": "x2",
         "y": [
          727.8125,
          727.8125,
          755,
          755
         ],
         "yaxis": "y"
        },
        {
         "hoverinfo": "text",
         "marker": {
          "color": "rgb(255,220,0)"
         },
         "mode": "lines",
         "type": "scatter",
         "x": [
          0,
          -1.1117662268366177,
          -1.1117662268366177,
          0
         ],
         "xaxis": "x2",
         "y": [
          765,
          765,
          775,
          775
         ],
         "yaxis": "y"
        },
        {
         "hoverinfo": "text",
         "marker": {
          "color": "rgb(255,220,0)"
         },
         "mode": "lines",
         "type": "scatter",
         "x": [
          -1.2264418074653862,
          -1.3143677520472123,
          -1.3143677520472123,
          -1.1117662268366177
         ],
         "xaxis": "x2",
         "y": [
          741.40625,
          741.40625,
          770,
          770
         ],
         "yaxis": "y"
        },
        {
         "hoverinfo": "text",
         "marker": {
          "color": "rgb(255,220,0)"
         },
         "mode": "lines",
         "type": "scatter",
         "x": [
          -1.3143677520472123,
          -1.3587598928599176,
          -1.3587598928599176,
          0
         ],
         "xaxis": "x2",
         "y": [
          755.703125,
          755.703125,
          785,
          785
         ],
         "yaxis": "y"
        },
        {
         "hoverinfo": "text",
         "marker": {
          "color": "rgb(255,220,0)"
         },
         "mode": "lines",
         "type": "scatter",
         "x": [
          -1.3587598928599176,
          -1.438190615407098,
          -1.438190615407098,
          0
         ],
         "xaxis": "x2",
         "y": [
          770.3515625,
          770.3515625,
          795,
          795
         ],
         "yaxis": "y"
        },
        {
         "hoverinfo": "text",
         "marker": {
          "color": "rgb(255,220,0)"
         },
         "mode": "lines",
         "type": "scatter",
         "x": [
          -1.5638760370851024,
          -1.5692840374987629,
          -1.5692840374987629,
          -1.438190615407098
         ],
         "xaxis": "x2",
         "y": [
          650.625,
          650.625,
          782.67578125,
          782.67578125
         ],
         "yaxis": "y"
        },
        {
         "hoverinfo": "text",
         "marker": {
          "color": "rgb(255,220,0)"
         },
         "mode": "lines",
         "type": "scatter",
         "x": [
          -1.4301723507196589,
          -1.5077386383310771,
          -1.5077386383310771,
          -1.5692840374987629
         ],
         "xaxis": "x2",
         "y": [
          593.75,
          593.75,
          716.650390625,
          716.650390625
         ],
         "yaxis": "y"
        },
        {
         "hoverinfo": "text",
         "marker": {
          "color": "rgb(255,220,0)"
         },
         "mode": "lines",
         "type": "scatter",
         "x": [
          -1.5187757845935246,
          -1.6874511320025385,
          -1.6874511320025385,
          -1.5077386383310771
         ],
         "xaxis": "x2",
         "y": [
          540,
          540,
          655.2001953125,
          655.2001953125
         ],
         "yaxis": "y"
        },
        {
         "hoverinfo": "text",
         "marker": {
          "color": "rgb(255,220,0)"
         },
         "mode": "lines",
         "type": "scatter",
         "x": [
          -1.4163373050484684,
          -1.8657202219315796,
          -1.8657202219315796,
          -1.6874511320025385
         ],
         "xaxis": "x2",
         "y": [
          414.1015625,
          414.1015625,
          597.60009765625,
          597.60009765625
         ],
         "yaxis": "y"
        },
        {
         "hoverinfo": "text",
         "marker": {
          "color": "rgb(40,35,35)"
         },
         "mode": "lines",
         "type": "scatter",
         "x": [
          0,
          0,
          0,
          0
         ],
         "xaxis": "x2",
         "y": [
          815,
          815,
          825,
          825
         ],
         "yaxis": "y"
        },
        {
         "hoverinfo": "text",
         "marker": {
          "color": "rgb(40,35,35)"
         },
         "mode": "lines",
         "type": "scatter",
         "x": [
          0,
          0,
          0,
          0
         ],
         "xaxis": "x2",
         "y": [
          820,
          820,
          835,
          835
         ],
         "yaxis": "y"
        },
        {
         "hoverinfo": "text",
         "marker": {
          "color": "rgb(40,35,35)"
         },
         "mode": "lines",
         "type": "scatter",
         "x": [
          0,
          -0.9549369736063766,
          -0.9549369736063766,
          0
         ],
         "xaxis": "x2",
         "y": [
          805,
          805,
          827.5,
          827.5
         ],
         "yaxis": "y"
        },
        {
         "hoverinfo": "text",
         "marker": {
          "color": "rgb(0,116,217)"
         },
         "mode": "lines",
         "type": "scatter",
         "x": [
          -1.8657202219315796,
          -2.1917442443519235,
          -2.1917442443519235,
          -0.9549369736063766
         ],
         "xaxis": "x2",
         "y": [
          505.850830078125,
          505.850830078125,
          816.25,
          816.25
         ],
         "yaxis": "y"
        },
        {
         "hoverinfo": "text",
         "marker": {
          "color": "rgb(0,116,217)"
         },
         "mode": "lines",
         "type": "scatter",
         "x": [
          -2.0146397217413425,
          -2.5411476741310457,
          -2.5411476741310457,
          -2.1917442443519235
         ],
         "xaxis": "x2",
         "y": [
          263.51318359375,
          263.51318359375,
          661.0504150390625,
          661.0504150390625
         ],
         "yaxis": "y"
        },
        {
         "hoverinfo": "text",
         "marker": {
          "color": "rgb(0,116,217)"
         },
         "mode": "lines",
         "type": "scatter",
         "x": [
          -0.8225423946856198,
          -2.6658111467421843,
          -2.6658111467421843,
          -2.5411476741310457
         ],
         "xaxis": "x2",
         "y": [
          36.25,
          36.25,
          462.28179931640625,
          462.28179931640625
         ],
         "yaxis": "y"
        },
        {
         "colorbar": {
          "title": {
           "text": "Correlación (abs)"
          }
         },
         "type": "heatmap",
         "x": [
          5,
          15,
          25,
          35,
          45,
          55,
          65,
          75,
          85,
          95,
          105,
          115,
          125,
          135,
          145,
          155,
          165,
          175,
          185,
          195,
          205,
          215,
          225,
          235,
          245,
          255,
          265,
          275,
          285,
          295,
          305,
          315,
          325,
          335,
          345,
          355,
          365,
          375,
          385,
          395,
          405,
          415,
          425,
          435,
          445,
          455,
          465,
          475,
          485,
          495,
          505,
          515,
          525,
          535,
          545,
          555,
          565,
          575,
          585,
          595,
          605,
          615,
          625,
          635,
          645,
          655,
          665,
          675,
          685,
          695,
          705,
          715,
          725,
          735,
          745,
          755,
          765,
          775,
          785,
          795,
          805,
          815,
          825,
          835
         ],
         "y": [
          5,
          15,
          25,
          35,
          45,
          55,
          65,
          75,
          85,
          95,
          105,
          115,
          125,
          135,
          145,
          155,
          165,
          175,
          185,
          195,
          205,
          215,
          225,
          235,
          245,
          255,
          265,
          275,
          285,
          295,
          305,
          315,
          325,
          335,
          345,
          355,
          365,
          375,
          385,
          395,
          405,
          415,
          425,
          435,
          445,
          455,
          465,
          475,
          485,
          495,
          505,
          515,
          525,
          535,
          545,
          555,
          565,
          575,
          585,
          595,
          605,
          615,
          625,
          635,
          645,
          655,
          665,
          675,
          685,
          695,
          705,
          715,
          725,
          735,
          745,
          755,
          765,
          775,
          785,
          795,
          805,
          815,
          825,
          835
         ],
         "z": [
          [
           1,
           0.9964468837907493,
           0.9964468837907493,
           0.9964468837907493,
           0.9075470878163188,
           0.8604354490248182,
           0.8604354490248182,
           0.8604354490248182,
           0.06623107250050131,
           0.0642476147079002,
           0.3240578671822735,
           0.26040609170675166,
           0.2332253609298242,
           0.3423274031030006,
           0.3423274031030006,
           0.3423274031030006,
           0.36728080937031155,
           0.4421472504057532,
           0.4614873089191161,
           0.4614873089191161,
           0.4550100142278063,
           0.42063447276628707,
           0.5933049918718245,
           0.6017362324073491,
           0.5279889997534616,
           0.49336422635084765,
           0.43661747401009854,
           0.43661747401009854,
           0.3479878613721205,
           0.29765969900220574,
           0.5123201796241794,
           0.5472910465331224,
           0.5781521365255432,
           0.5891431089875478,
           0.597043035283676,
           0.5577785650649603,
           0.5309189742597004,
           0.08206880266004143,
           0.08206880266004143,
           0.13337781439295146,
           0.2513072341355524,
           0.31087378438466684,
           0.18263466931958228,
           0.18263466931958228,
           0.0738265763232332,
           0.030760473318362958,
           0.030760473318362958,
           0.015948946628449166,
           0.14156290455989917,
           0.14156290455989917,
           0.27795563904630716,
           0.21039558997830404,
           0.14181666335871276,
           0.18529330298222052,
           0.014834444212974978,
           0.04058341719993432,
           0.03391930250898937,
           0.04225072577708188,
           0.04058341719993432,
           0.023833982474802916,
           0.045844932212141566,
           0.23645378665812458,
           0.08839617205482533,
           0.07154099907501957,
           0.08175268302082316,
           0.11949503198338875,
           0.1233106359851409,
           0.013325507910053689,
           0.06975312092401581,
           0.004221586167809012,
           0.04426173263871806,
           0.044917769772839365,
           0.2237124744756925,
           0.08809814761430888,
           0.1989360428533735,
           0.07789209920878304,
           0.07636739899507085,
           0.0359378511945764,
           0.11949291842267666,
           0.239949073048688,
           0.4222529634725271,
           0.3420213569795332,
           0.3420213569795332,
           0.3420213569795332
          ],
          [
           0.9964468837907493,
           1,
           1,
           1,
           0.9396921790511394,
           0.8909118577774785,
           0.8909118577774785,
           0.8909118577774785,
           0.05905953160727838,
           0.08084861553688859,
           0.3052003936603368,
           0.2945586939727216,
           0.26470626945084197,
           0.37547515158017053,
           0.37547515158017053,
           0.37547515158017053,
           0.404329916901618,
           0.4745644051593947,
           0.4907249630425602,
           0.4907249630425602,
           0.4665129737787905,
           0.44209860904856085,
           0.6068934976447125,
           0.6309971135270699,
           0.5414697627994691,
           0.5121865945859027,
           0.45196685387218416,
           0.45196685387218416,
           0.3797839839062706,
           0.3180419581146699,
           0.5350963696872163,
           0.5612944090584414,
           0.5897662806336262,
           0.601022726296427,
           0.6091367554095051,
           0.570776691446072,
           0.5497742461344434,
           0.06429210103699219,
           0.06429210103699219,
           0.13290390751867745,
           0.2381181874805562,
           0.2866409708291216,
           0.1573490541545511,
           0.1573490541545511,
           0.053906014758734334,
           0.008247605219254417,
           0.008247605219254417,
           0.031189254764986914,
           0.17026895731801991,
           0.17026895731801991,
           0.2769680303597591,
           0.20964802999719725,
           0.1676359265199184,
           0.1846349343439288,
           0.036461827729976595,
           0.03530567608049898,
           0.02846095138455833,
           0.037017978642893246,
           0.03530567608049898,
           0.0284399828484746,
           0.05540204146293957,
           0.24218799461298762,
           0.10893125665573027,
           0.09157677978599575,
           0.10303285919573575,
           0.14799491213087548,
           0.14575368894226715,
           0.002192492851839895,
           0.08129744721385808,
           0.0034180022477050694,
           0.04399812583342385,
           0.047339390265811396,
           0.21197259169818441,
           0.10177768641857901,
           0.18040748900433076,
           0.09076149090649992,
           0.08327971793687156,
           0.03917644150210975,
           0.11906834619733839,
           0.24844800930049146,
           0.36109816925326216,
           0.2616618962644557,
           0.2616618962644557,
           0.2616618962644557
          ],
          [
           0.9964468837907493,
           1,
           1,
           1,
           0.9396921790511394,
           0.8909118577774785,
           0.8909118577774785,
           0.8909118577774785,
           0.05905953160727838,
           0.08084861553688859,
           0.3052003936603368,
           0.2945586939727216,
           0.26470626945084197,
           0.37547515158017053,
           0.37547515158017053,
           0.37547515158017053,
           0.404329916901618,
           0.4745644051593947,
           0.4907249630425602,
           0.4907249630425602,
           0.4665129737787905,
           0.44209860904856085,
           0.6068934976447125,
           0.6309971135270699,
           0.5414697627994691,
           0.5121865945859027,
           0.45196685387218416,
           0.45196685387218416,
           0.3797839839062706,
           0.3180419581146699,
           0.5350963696872163,
           0.5612944090584414,
           0.5897662806336262,
           0.601022726296427,
           0.6091367554095051,
           0.570776691446072,
           0.5497742461344434,
           0.06429210103699219,
           0.06429210103699219,
           0.13290390751867745,
           0.2381181874805562,
           0.2866409708291216,
           0.1573490541545511,
           0.1573490541545511,
           0.053906014758734334,
           0.008247605219254417,
           0.008247605219254417,
           0.031189254764986914,
           0.17026895731801991,
           0.17026895731801991,
           0.2769680303597591,
           0.20964802999719725,
           0.1676359265199184,
           0.1846349343439288,
           0.036461827729976595,
           0.03530567608049898,
           0.02846095138455833,
           0.037017978642893246,
           0.03530567608049898,
           0.0284399828484746,
           0.05540204146293957,
           0.24218799461298762,
           0.10893125665573027,
           0.09157677978599575,
           0.10303285919573575,
           0.14799491213087548,
           0.14575368894226715,
           0.002192492851839895,
           0.08129744721385808,
           0.0034180022477050694,
           0.04399812583342385,
           0.047339390265811396,
           0.21197259169818441,
           0.10177768641857901,
           0.18040748900433076,
           0.09076149090649992,
           0.08327971793687156,
           0.03917644150210975,
           0.11906834619733839,
           0.24844800930049146,
           0.36109816925326216,
           0.2616618962644557,
           0.2616618962644557,
           0.2616618962644557
          ],
          [
           0.9964468837907493,
           1,
           1,
           1,
           0.9396921790511394,
           0.8909118577774785,
           0.8909118577774785,
           0.8909118577774785,
           0.05905953160727838,
           0.08084861553688859,
           0.3052003936603368,
           0.2945586939727216,
           0.26470626945084197,
           0.37547515158017053,
           0.37547515158017053,
           0.37547515158017053,
           0.404329916901618,
           0.4745644051593947,
           0.4907249630425602,
           0.4907249630425602,
           0.4665129737787905,
           0.44209860904856085,
           0.6068934976447125,
           0.6309971135270699,
           0.5414697627994691,
           0.5121865945859027,
           0.45196685387218416,
           0.45196685387218416,
           0.3797839839062706,
           0.3180419581146699,
           0.5350963696872163,
           0.5612944090584414,
           0.5897662806336262,
           0.601022726296427,
           0.6091367554095051,
           0.570776691446072,
           0.5497742461344434,
           0.06429210103699219,
           0.06429210103699219,
           0.13290390751867745,
           0.2381181874805562,
           0.2866409708291216,
           0.1573490541545511,
           0.1573490541545511,
           0.053906014758734334,
           0.008247605219254417,
           0.008247605219254417,
           0.031189254764986914,
           0.17026895731801991,
           0.17026895731801991,
           0.2769680303597591,
           0.20964802999719725,
           0.1676359265199184,
           0.1846349343439288,
           0.036461827729976595,
           0.03530567608049898,
           0.02846095138455833,
           0.037017978642893246,
           0.03530567608049898,
           0.0284399828484746,
           0.05540204146293957,
           0.24218799461298762,
           0.10893125665573027,
           0.09157677978599575,
           0.10303285919573575,
           0.14799491213087548,
           0.14575368894226715,
           0.002192492851839895,
           0.08129744721385808,
           0.0034180022477050694,
           0.04399812583342385,
           0.047339390265811396,
           0.21197259169818441,
           0.10177768641857901,
           0.18040748900433076,
           0.09076149090649992,
           0.08327971793687156,
           0.03917644150210975,
           0.11906834619733839,
           0.24844800930049146,
           0.36109816925326216,
           0.2616618962644557,
           0.2616618962644557,
           0.2616618962644557
          ],
          [
           0.9075470878163188,
           0.9396921790511394,
           0.9396921790511394,
           0.9396921790511394,
           1,
           0.9480890419638086,
           0.9480890419638086,
           0.9480890419638086,
           0.025522891709019016,
           0.1422208584048713,
           0.2058129132953055,
           0.41123383845311196,
           0.3727630673212234,
           0.4820222907622677,
           0.4820222907622677,
           0.4820222907622677,
           0.5245634816554258,
           0.5707391022701177,
           0.5727803201229653,
           0.5727803201229653,
           0.4783594713337454,
           0.4962208480456557,
           0.6167175774889707,
           0.7026633314148767,
           0.5557458592257114,
           0.5503428068101325,
           0.4805203114539255,
           0.4805203114539255,
           0.4805203114539255,
           0.3770423990824852,
           0.5875963605099817,
           0.576211090427053,
           0.592852753879135,
           0.6043459847934526,
           0.6127230439149856,
           0.5809025609372108,
           0.5852549033170916,
           0.012701837109633565,
           0.012701837109633565,
           0.1210466470316286,
           0.16676297586405409,
           0.1668119734185335,
           0.042907596804799664,
           0.042907596804799664,
           0.03101765040189288,
           0.08379073969923054,
           0.08379073969923054,
           0.09074726536823846,
           0.2741153342721595,
           0.2741153342721595,
           0.2522578307585999,
           0.19094390497420607,
           0.2599561949990696,
           0.16816239751338102,
           0.1215629000775652,
           0.011234802642011528,
           0.004168194591999363,
           0.013001848520488952,
           0.011234802642011528,
           0.04501886828359874,
           0.09007170989238249,
           0.24737359432048567,
           0.18418052201338167,
           0.16609544866383666,
           0.1817486744938623,
           0.2526687338617836,
           0.2259989928821278,
           0.0431811509990948,
           0.12210162185236162,
           0.00010070154770086721,
           0.03963938194862043,
           0.05363530456067483,
           0.1484562861625867,
           0.14972206945802963,
           0.09168230556682193,
           0.13623928047907505,
           0.10512574080466262,
           0.049400039124827426,
           0.10844545012917314,
           0.2643929734004634,
           0.08576894075984084,
           0.08422355836525108,
           0.08422355836525108,
           0.08422355836525108
          ],
          [
           0.8604354490248182,
           0.8909118577774785,
           0.8909118577774785,
           0.8909118577774785,
           0.9480890419638086,
           1,
           1,
           1,
           0.023846493643268973,
           0.2118433539699705,
           0.15234708112618522,
           0.4689182188791279,
           0.35042959974549853,
           0.4446285722014271,
           0.4446285722014271,
           0.4446285722014271,
           0.5120233819623299,
           0.5420136741427991,
           0.5452455775741811,
           0.5452455775741811,
           0.4341774343639014,
           0.4510272339373128,
           0.5879161086266498,
           0.6758322684795537,
           0.5198382114969027,
           0.5142488731500773,
           0.4508426060373453,
           0.4508426060373453,
           0.4508426060373453,
           0.35757339373821195,
           0.5605853338279567,
           0.5432115484931351,
           0.5660138951240046,
           0.581867182760178,
           0.588301629380891,
           0.5525450461188913,
           0.5403957024313496,
           0.032922979963184475,
           0.032922979963184475,
           0.11476299961714806,
           0.23085424725265744,
           0.15815260406646972,
           0.02718347321357576,
           0.02718347321357576,
           0.0068666268102511255,
           0.061424466492146695,
           0.061424466492146695,
           0.07144309145255129,
           0.25988574465768094,
           0.25988574465768094,
           0.23916288509178954,
           0.18103182393582357,
           0.2464616198692249,
           0.1594329263527986,
           0.17591999396901167,
           0.004829600666675655,
           0.01214544546353345,
           0.0030007303688117876,
           0.004829600666675655,
           0.056827564919840416,
           0.14771079417855038,
           0.2902675256394624,
           0.19598682027036202,
           0.16063091343588148,
           0.14472489357916068,
           0.22483123671544925,
           0.20251059030798813,
           0.00043046625213009204,
           0.10807963139319794,
           0.021746514195005614,
           0.052747739781368035,
           0.044804764763126614,
           0.13718363972867437,
           0.16349336942679196,
           0.0569260941787204,
           0.1275329583815641,
           0.12173322534254066,
           0.05606487536078064,
           0.10281594291830175,
           0.05602070420949957,
           0.09858303709087159,
           0.0798514327612938,
           0.0798514327612938,
           0.0798514327612938
          ],
          [
           0.8604354490248182,
           0.8909118577774785,
           0.8909118577774785,
           0.8909118577774785,
           0.9480890419638086,
           1,
           1,
           1,
           0.023846493643268973,
           0.2118433539699705,
           0.15234708112618522,
           0.4689182188791279,
           0.35042959974549853,
           0.4446285722014271,
           0.4446285722014271,
           0.4446285722014271,
           0.5120233819623299,
           0.5420136741427991,
           0.5452455775741811,
           0.5452455775741811,
           0.4341774343639014,
           0.4510272339373128,
           0.5879161086266498,
           0.6758322684795537,
           0.5198382114969027,
           0.5142488731500773,
           0.4508426060373453,
           0.4508426060373453,
           0.4508426060373453,
           0.35757339373821195,
           0.5605853338279567,
           0.5432115484931351,
           0.5660138951240046,
           0.581867182760178,
           0.588301629380891,
           0.5525450461188913,
           0.5403957024313496,
           0.032922979963184475,
           0.032922979963184475,
           0.11476299961714806,
           0.23085424725265744,
           0.15815260406646972,
           0.02718347321357576,
           0.02718347321357576,
           0.0068666268102511255,
           0.061424466492146695,
           0.061424466492146695,
           0.07144309145255129,
           0.25988574465768094,
           0.25988574465768094,
           0.23916288509178954,
           0.18103182393582357,
           0.2464616198692249,
           0.1594329263527986,
           0.17591999396901167,
           0.004829600666675655,
           0.01214544546353345,
           0.0030007303688117876,
           0.004829600666675655,
           0.056827564919840416,
           0.14771079417855038,
           0.2902675256394624,
           0.19598682027036202,
           0.16063091343588148,
           0.14472489357916068,
           0.22483123671544925,
           0.20251059030798813,
           0.00043046625213009204,
           0.10807963139319794,
           0.021746514195005614,
           0.052747739781368035,
           0.044804764763126614,
           0.13718363972867437,
           0.16349336942679196,
           0.0569260941787204,
           0.1275329583815641,
           0.12173322534254066,
           0.05606487536078064,
           0.10281594291830175,
           0.05602070420949957,
           0.09858303709087159,
           0.0798514327612938,
           0.0798514327612938,
           0.0798514327612938
          ],
          [
           0.8604354490248182,
           0.8909118577774785,
           0.8909118577774785,
           0.8909118577774785,
           0.9480890419638086,
           1,
           1,
           1,
           0.023846493643268973,
           0.2118433539699705,
           0.15234708112618522,
           0.4689182188791279,
           0.35042959974549853,
           0.4446285722014271,
           0.4446285722014271,
           0.4446285722014271,
           0.5120233819623299,
           0.5420136741427991,
           0.5452455775741811,
           0.5452455775741811,
           0.4341774343639014,
           0.4510272339373128,
           0.5879161086266498,
           0.6758322684795537,
           0.5198382114969027,
           0.5142488731500773,
           0.4508426060373453,
           0.4508426060373453,
           0.4508426060373453,
           0.35757339373821195,
           0.5605853338279567,
           0.5432115484931351,
           0.5660138951240046,
           0.581867182760178,
           0.588301629380891,
           0.5525450461188913,
           0.5403957024313496,
           0.032922979963184475,
           0.032922979963184475,
           0.11476299961714806,
           0.23085424725265744,
           0.15815260406646972,
           0.02718347321357576,
           0.02718347321357576,
           0.0068666268102511255,
           0.061424466492146695,
           0.061424466492146695,
           0.07144309145255129,
           0.25988574465768094,
           0.25988574465768094,
           0.23916288509178954,
           0.18103182393582357,
           0.2464616198692249,
           0.1594329263527986,
           0.17591999396901167,
           0.004829600666675655,
           0.01214544546353345,
           0.0030007303688117876,
           0.004829600666675655,
           0.056827564919840416,
           0.14771079417855038,
           0.2902675256394624,
           0.19598682027036202,
           0.16063091343588148,
           0.14472489357916068,
           0.22483123671544925,
           0.20251059030798813,
           0.00043046625213009204,
           0.10807963139319794,
           0.021746514195005614,
           0.052747739781368035,
           0.044804764763126614,
           0.13718363972867437,
           0.16349336942679196,
           0.0569260941787204,
           0.1275329583815641,
           0.12173322534254066,
           0.05606487536078064,
           0.10281594291830175,
           0.05602070420949957,
           0.09858303709087159,
           0.0798514327612938,
           0.0798514327612938,
           0.0798514327612938
          ],
          [
           0.06623107250050131,
           0.05905953160727838,
           0.05905953160727838,
           0.05905953160727838,
           0.025522891709019016,
           0.023846493643268973,
           0.023846493643268973,
           0.023846493643268973,
           1,
           0.7907167814506373,
           0.8113983053453189,
           0.17011359674014814,
           0.3929604550589789,
           0.4482302032799032,
           0.4482302032799032,
           0.4482302032799032,
           0.38037633920395536,
           0.36601212646184306,
           0.24428437218681684,
           0.24428437218681684,
           0.4641818787186441,
           0.5502375551816802,
           0.4667399988863917,
           0.4352840517131485,
           0.5931162979397152,
           0.6234301309764959,
           0.5749304628997906,
           0.5749304628997906,
           0.5619802331948656,
           0.5139952474258347,
           0.6983001256258313,
           0.689563082954938,
           0.681875552924822,
           0.6741123363591098,
           0.6704921346777297,
           0.6284270481365569,
           0.7217955665919372,
           0.3263475836253803,
           0.3263475836253803,
           0.1732591329811807,
           0.2607273583442675,
           0.201958521764898,
           0.16948377585448873,
           0.16948377585448873,
           0.11270500753576096,
           0.12493090518951355,
           0.12493090518951355,
           0.14793507253899577,
           0.20581991645726191,
           0.20581991645726191,
           0.2510334069482603,
           0.24375641935172876,
           0.30699987072418317,
           0.24069787893911776,
           0.17133921508805422,
           0.2286119329644338,
           0.22874586842394745,
           0.2319154369984731,
           0.23592724775497442,
           0.08013927802136898,
           0.09370309578169334,
           0.28441303458401795,
           0.31481238984035365,
           0.2598781003932539,
           0.3416599471237916,
           0.2393697947243005,
           0.31517173849855645,
           0.08336116242789766,
           0.13798957833759207,
           0.0269494492362438,
           0.0683492501431025,
           0.06680371898570364,
           0.20786897466577317,
           0.11515629347528153,
           0.2051174760812373,
           0.29859708793854306,
           0.04051578455165563,
           0.017700302970806044,
           0.07046810544769051,
           0.007814009014234924,
           0.08692239218789506,
           0.10004060154768024,
           0.10004060154768024,
           0.10004060154768024
          ],
          [
           0.0642476147079002,
           0.08084861553688859,
           0.08084861553688859,
           0.08084861553688859,
           0.1422208584048713,
           0.2118433539699705,
           0.2118433539699705,
           0.2118433539699705,
           0.7907167814506373,
           1,
           0.810119933017295,
           0.1903134047551694,
           0.37197398103535456,
           0.4612076069236282,
           0.4612076069236282,
           0.4612076069236282,
           0.3784698674466485,
           0.380696559233901,
           0.31185016883698113,
           0.31185016883698113,
           0.5057835518529885,
           0.5618608923319948,
           0.47239115964227163,
           0.4094492558110527,
           0.5796949441049155,
           0.5765231352525927,
           0.5419618920492933,
           0.5419618920492933,
           0.4821325254555721,
           0.6149231427585992,
           0.5968332715970164,
           0.6079014602298023,
           0.6107704479061233,
           0.6120513274910192,
           0.6046818991547849,
           0.5771677222617357,
           0.5194659081045865,
           0.4902450730260483,
           0.4902450730260483,
           0.046643453236680725,
           0.2610071485398317,
           0.05448560683570541,
           0.06689035404149052,
           0.06689035404149052,
           0.05023242775325164,
           0.05611722457511864,
           0.05611722457511864,
           0.03352690504998449,
           0.12434345116681118,
           0.12434345116681118,
           0.06528594413889878,
           0.026031262177369317,
           0.2043089913516891,
           0.06479877895778484,
           0.20577020247985886,
           0.11059900835090732,
           0.10581310446873125,
           0.11183700701013768,
           0.10971688864431366,
           0.07492686315725143,
           0.060250321538148764,
           0.18799623310308533,
           0.237831251947612,
           0.1946937238446223,
           0.2717337100475154,
           0.20828564565379787,
           0.2464145477488178,
           0.19760766915985598,
           0.1332113043903333,
           0.04662239220846611,
           0.02944811265293167,
           0.059224097852549284,
           0.1608905886166509,
           0.05339763282552054,
           0.22200757289263096,
           0.19018992573284027,
           0.005634935470671757,
           0.01527557742184604,
           0.023678729417292703,
           0.19593214862815864,
           0.2513871409343639,
           0.16579220723134844,
           0.16579220723134844,
           0.16579220723134844
          ],
          [
           0.3240578671822735,
           0.3052003936603368,
           0.3052003936603368,
           0.3052003936603368,
           0.2058129132953055,
           0.15234708112618522,
           0.15234708112618522,
           0.15234708112618522,
           0.8113983053453189,
           0.810119933017295,
           1,
           0.36791647390807203,
           0.4362578193160846,
           0.4932918684416809,
           0.4932918684416809,
           0.4932918684416809,
           0.45782915351645403,
           0.40465085108306703,
           0.31876325095834873,
           0.31876325095834873,
           0.3966034379569661,
           0.5084233767349736,
           0.36861658673305864,
           0.38784272276988235,
           0.47780787190442164,
           0.5084905941114488,
           0.4747838181899877,
           0.4747838181899877,
           0.5176914565102566,
           0.6079747537345052,
           0.5584181287340826,
           0.509440360904119,
           0.5014777313162545,
           0.5075435113592426,
           0.4977940800038817,
           0.4769140846381047,
           0.440229486861374,
           0.5146488688536062,
           0.5146488688536062,
           0.0888032897688051,
           0.2809051240368001,
           0.15027459812342106,
           0.12943627313211625,
           0.12943627313211625,
           0.023623570696024557,
           0.024916734942878726,
           0.024916734942878726,
           0.0062384242004848165,
           0.02860013654253826,
           0.02860013654253826,
           0.147503768091455,
           0.09791915745991167,
           0.12244472953429412,
           0.12336875478009551,
           0.03157010844545902,
           0.16605693040611297,
           0.16133176701136323,
           0.1673142047080371,
           0.16504437359240773,
           0.10858465688082482,
           0.051820811241029635,
           0.2118089963676178,
           0.33047051852793674,
           0.26946500667698126,
           0.3134826315037424,
           0.28458497520037235,
           0.2955975637162684,
           0.19341324549760275,
           0.156249218530254,
           0.02216690587205233,
           0.03534271925344433,
           0.047150196834561044,
           0.03643719899958597,
           0.11423250125146711,
           0.38772342226275874,
           0.22446514984392152,
           0.0447664968581084,
           0.027649555741285588,
           0.0025196614990341416,
           0.18416029395386566,
           0.36184205899293154,
           0.30838329280788246,
           0.30838329280788246,
           0.30838329280788246
          ],
          [
           0.26040609170675166,
           0.2945586939727216,
           0.2945586939727216,
           0.2945586939727216,
           0.41123383845311196,
           0.4689182188791279,
           0.4689182188791279,
           0.4689182188791279,
           0.17011359674014814,
           0.1903134047551694,
           0.36791647390807203,
           1,
           0.6558008609071226,
           0.6861602544913641,
           0.6861602544913641,
           0.6861602544913641,
           0.7204128595236129,
           0.700740021185754,
           0.7419637484475607,
           0.7419637484475607,
           0.5531551830953825,
           0.5826433270724988,
           0.5555317282097276,
           0.6316067518231372,
           0.5004838421022587,
           0.4959720226213032,
           0.4351340061570871,
           0.4351340061570871,
           0.48384624051100017,
           0.6625518655138233,
           0.5688937281642181,
           0.5283613907896011,
           0.555777623254763,
           0.5403798667916934,
           0.535626242747437,
           0.45510569330901524,
           0.38281149531709163,
           0.4380010561377879,
           0.4380010561377879,
           0.12346799528016295,
           0.23291875906096188,
           0.24858907739580957,
           0.20941656713930587,
           0.20941656713930587,
           0.314807555459286,
           0.35567273024785656,
           0.35567273024785656,
           0.3697672287742803,
           0.41577461939072324,
           0.41577461939072324,
           0.3206007044884499,
           0.32075635786241524,
           0.2795163971840181,
           0.45221456662459697,
           0.2794831922457924,
           0.13181048747925947,
           0.13079150925282465,
           0.13620454058813403,
           0.14115917010466186,
           0.0689304911894269,
           0.10485297846298655,
           0.2177734853294586,
           0.11929315320787183,
           0.12790728919962957,
           0.1129745213485463,
           0.31680664808596487,
           0.19579229145288124,
           0.17550844961462067,
           0.1271804548665937,
           0.06412507051719853,
           0.0009825177545249042,
           0.040017957313138994,
           0.015760976143151327,
           0.19296745745527488,
           0.2091667715283831,
           0.06054253246046254,
           0.09138799811372159,
           0.12226478031647134,
           0.17097343851799107,
           0.13095310455614656,
           0.3256272784515578,
           0.3023033267102683,
           0.3023033267102683,
           0.3023033267102683
          ],
          [
           0.2332253609298242,
           0.26470626945084197,
           0.26470626945084197,
           0.26470626945084197,
           0.3727630673212234,
           0.35042959974549853,
           0.35042959974549853,
           0.35042959974549853,
           0.3929604550589789,
           0.37197398103535456,
           0.4362578193160846,
           0.6558008609071226,
           1,
           0.9493115276478866,
           0.9493115276478866,
           0.9493115276478866,
           0.9499203939031047,
           0.9366758857340857,
           0.8620461892161981,
           0.8620461892161981,
           0.884686173861116,
           0.917795693487848,
           0.8538023501878916,
           0.7805415602622953,
           0.8213414462604488,
           0.8218203154322615,
           0.8263320135583585,
           0.8263320135583585,
           0.8683691454422823,
           0.827189261271187,
           0.7501466577260204,
           0.7576044718368475,
           0.7087086626537851,
           0.6844467825125898,
           0.6821337621920537,
           0.6674329181501311,
           0.5662828643789316,
           0.832469187099956,
           0.832469187099956,
           0.3620722304870863,
           0.693982104206276,
           0.48719383082488765,
           0.4262898643769414,
           0.4262898643769414,
           0.5292631373004855,
           0.5854399278646069,
           0.5854399278646069,
           0.5808787947316739,
           0.6580095848995158,
           0.6580095848995158,
           0.5739414429007285,
           0.5615995589005325,
           0.5144767801445131,
           0.3660024338876923,
           0.22930817858434488,
           0.008412799551026438,
           0.006522307997576611,
           0.009244286002952181,
           0.009857178468483392,
           0.07910133546592235,
           0.050903775675279504,
           0.2688277780468033,
           0.23585628520229326,
           0.3704823956471613,
           0.4200700894537551,
           0.5111034680182526,
           0.47657181153929956,
           0.32058140676101404,
           0.21759979979699093,
           0.059943587277939914,
           0.009482177061420433,
           0.10726619226609986,
           0.009934243655851762,
           0.06927989577069424,
           0.12417846433199908,
           0.09388808903691463,
           0.13829860736259256,
           0.11322335132566219,
           0.15244112753071917,
           0.1076024304907132,
           0.16792438126425627,
           0.2807138016418544,
           0.2807138016418544,
           0.2807138016418544
          ],
          [
           0.3423274031030006,
           0.37547515158017053,
           0.37547515158017053,
           0.37547515158017053,
           0.4820222907622677,
           0.4446285722014271,
           0.4446285722014271,
           0.4446285722014271,
           0.4482302032799032,
           0.4612076069236282,
           0.4932918684416809,
           0.6861602544913641,
           0.9493115276478866,
           1,
           1,
           1,
           0.9825060848666559,
           0.9780379464301426,
           0.9095640778322409,
           0.9095640778322409,
           0.9425151068342682,
           0.9673208491751655,
           0.9172920114689589,
           0.8674004855348063,
           0.8831837393324978,
           0.8897446393609187,
           0.842304428454472,
           0.842304428454472,
           0.8801422548327791,
           0.854798883679441,
           0.8243227354897031,
           0.8218170243051764,
           0.796835054475429,
           0.7729020013784415,
           0.7711747634416707,
           0.7419084152296544,
           0.6679088938252378,
           0.7981106791025532,
           0.7981106791025532,
           0.3413864930579491,
           0.5816133934624684,
           0.4630177790924802,
           0.41366269848365106,
           0.41366269848365106,
           0.5305164810775265,
           0.5821709211356351,
           0.5821709211356351,
           0.5627233690787579,
           0.6409622864876635,
           0.6409622864876635,
           0.5620220724482803,
           0.5473804755604211,
           0.5166125880525327,
           0.3660024338876923,
           0.2625558969195209,
           0.024594226962894684,
           0.022646482359710708,
           0.024936378404581815,
           0.025075069605227124,
           0.06040722624301712,
           0.029981733517633974,
           0.33368282670314314,
           0.2945527845488996,
           0.38919500791738826,
           0.4404161130934742,
           0.5428954510210618,
           0.5074884500563214,
           0.3332066883179206,
           0.23531988706153337,
           0.0728611526698382,
           0.002424625193222481,
           0.13329587822345546,
           0.014686588333035641,
           0.09894150865183025,
           0.19529588218879956,
           0.11064522780053436,
           0.15298239412565914,
           0.12077287227772265,
           0.15624262722041596,
           0.16496234456135733,
           0.12243157889358453,
           0.26632078492957845,
           0.26632078492957845,
           0.26632078492957845
          ],
          [
           0.3423274031030006,
           0.37547515158017053,
           0.37547515158017053,
           0.37547515158017053,
           0.4820222907622677,
           0.4446285722014271,
           0.4446285722014271,
           0.4446285722014271,
           0.4482302032799032,
           0.4612076069236282,
           0.4932918684416809,
           0.6861602544913641,
           0.9493115276478866,
           1,
           1,
           1,
           0.9825060848666559,
           0.9780379464301426,
           0.9095640778322409,
           0.9095640778322409,
           0.9425151068342682,
           0.9673208491751655,
           0.9172920114689589,
           0.8674004855348063,
           0.8831837393324978,
           0.8897446393609187,
           0.842304428454472,
           0.842304428454472,
           0.8801422548327791,
           0.854798883679441,
           0.8243227354897031,
           0.8218170243051764,
           0.796835054475429,
           0.7729020013784415,
           0.7711747634416707,
           0.7419084152296544,
           0.6679088938252378,
           0.7981106791025532,
           0.7981106791025532,
           0.3413864930579491,
           0.5816133934624684,
           0.4630177790924802,
           0.41366269848365106,
           0.41366269848365106,
           0.5305164810775265,
           0.5821709211356351,
           0.5821709211356351,
           0.5627233690787579,
           0.6409622864876635,
           0.6409622864876635,
           0.5620220724482803,
           0.5473804755604211,
           0.5166125880525327,
           0.3660024338876923,
           0.2625558969195209,
           0.024594226962894684,
           0.022646482359710708,
           0.024936378404581815,
           0.025075069605227124,
           0.06040722624301712,
           0.029981733517633974,
           0.33368282670314314,
           0.2945527845488996,
           0.38919500791738826,
           0.4404161130934742,
           0.5428954510210618,
           0.5074884500563214,
           0.3332066883179206,
           0.23531988706153337,
           0.0728611526698382,
           0.002424625193222481,
           0.13329587822345546,
           0.014686588333035641,
           0.09894150865183025,
           0.19529588218879956,
           0.11064522780053436,
           0.15298239412565914,
           0.12077287227772265,
           0.15624262722041596,
           0.16496234456135733,
           0.12243157889358453,
           0.26632078492957845,
           0.26632078492957845,
           0.26632078492957845
          ],
          [
           0.3423274031030006,
           0.37547515158017053,
           0.37547515158017053,
           0.37547515158017053,
           0.4820222907622677,
           0.4446285722014271,
           0.4446285722014271,
           0.4446285722014271,
           0.4482302032799032,
           0.4612076069236282,
           0.4932918684416809,
           0.6861602544913641,
           0.9493115276478866,
           1,
           1,
           1,
           0.9825060848666559,
           0.9780379464301426,
           0.9095640778322409,
           0.9095640778322409,
           0.9425151068342682,
           0.9673208491751655,
           0.9172920114689589,
           0.8674004855348063,
           0.8831837393324978,
           0.8897446393609187,
           0.842304428454472,
           0.842304428454472,
           0.8801422548327791,
           0.854798883679441,
           0.8243227354897031,
           0.8218170243051764,
           0.796835054475429,
           0.7729020013784415,
           0.7711747634416707,
           0.7419084152296544,
           0.6679088938252378,
           0.7981106791025532,
           0.7981106791025532,
           0.3413864930579491,
           0.5816133934624684,
           0.4630177790924802,
           0.41366269848365106,
           0.41366269848365106,
           0.5305164810775265,
           0.5821709211356351,
           0.5821709211356351,
           0.5627233690787579,
           0.6409622864876635,
           0.6409622864876635,
           0.5620220724482803,
           0.5473804755604211,
           0.5166125880525327,
           0.3660024338876923,
           0.2625558969195209,
           0.024594226962894684,
           0.022646482359710708,
           0.024936378404581815,
           0.025075069605227124,
           0.06040722624301712,
           0.029981733517633974,
           0.33368282670314314,
           0.2945527845488996,
           0.38919500791738826,
           0.4404161130934742,
           0.5428954510210618,
           0.5074884500563214,
           0.3332066883179206,
           0.23531988706153337,
           0.0728611526698382,
           0.002424625193222481,
           0.13329587822345546,
           0.014686588333035641,
           0.09894150865183025,
           0.19529588218879956,
           0.11064522780053436,
           0.15298239412565914,
           0.12077287227772265,
           0.15624262722041596,
           0.16496234456135733,
           0.12243157889358453,
           0.26632078492957845,
           0.26632078492957845,
           0.26632078492957845
          ],
          [
           0.36728080937031155,
           0.404329916901618,
           0.404329916901618,
           0.404329916901618,
           0.5245634816554258,
           0.5120233819623299,
           0.5120233819623299,
           0.5120233819623299,
           0.38037633920395536,
           0.3784698674466485,
           0.45782915351645403,
           0.7204128595236129,
           0.9499203939031047,
           0.9825060848666559,
           0.9825060848666559,
           0.9825060848666559,
           1,
           0.9893722744945731,
           0.9301732362375251,
           0.9301732362375251,
           0.8993441180432551,
           0.9441565899064936,
           0.9067427533099055,
           0.885452552221369,
           0.869077924554275,
           0.870871748669025,
           0.845339700112379,
           0.845339700112379,
           0.8903110008570618,
           0.8606274331889737,
           0.8198513116128114,
           0.8023138162959498,
           0.7813477479262154,
           0.7632178830112404,
           0.7607627518844028,
           0.7338164089596924,
           0.6277762428378981,
           0.765655905844999,
           0.765655905844999,
           0.3620722304870863,
           0.5224160950327029,
           0.45687630144593777,
           0.39014449037092336,
           0.39014449037092336,
           0.5174258796200045,
           0.5759785652775978,
           0.5759785652775978,
           0.5570809492477716,
           0.6597802184657194,
           0.6597802184657194,
           0.5674545675299806,
           0.5598550770630601,
           0.5426756651329214,
           0.3660024338876923,
           0.27364905829453484,
           0.016719860233191275,
           0.015177099577123428,
           0.01845503670589537,
           0.020152968831380184,
           0.0874763415387523,
           0.01700496403880296,
           0.328612893217421,
           0.29385885201808637,
           0.3898176873609283,
           0.43456586952551307,
           0.5424521453806933,
           0.49556209895874176,
           0.32200283527764895,
           0.23999068944338844,
           0.06427006873320111,
           0.0006697849032716898,
           0.11505388465292676,
           0.012789661250249653,
           0.10308944729251805,
           0.20011361799176658,
           0.11692394389705234,
           0.15983334314042286,
           0.12009885179905502,
           0.13913587861678037,
           0.09413897877731019,
           0.19359120647157924,
           0.3023033267102683,
           0.3023033267102683,
           0.3023033267102683
          ],
          [
           0.4421472504057532,
           0.4745644051593947,
           0.4745644051593947,
           0.4745644051593947,
           0.5707391022701177,
           0.5420136741427991,
           0.5420136741427991,
           0.5420136741427991,
           0.36601212646184306,
           0.380696559233901,
           0.40465085108306703,
           0.700740021185754,
           0.9366758857340857,
           0.9780379464301426,
           0.9780379464301426,
           0.9780379464301426,
           0.9893722744945731,
           1,
           0.9430316922827354,
           0.9430316922827354,
           0.9180508006781581,
           0.9548593095345775,
           0.9343464291973597,
           0.8920077329241802,
           0.8921330847645287,
           0.8879131833942812,
           0.8551807602707848,
           0.8551807602707848,
           0.886067584640692,
           0.8495495671421616,
           0.8358872810365999,
           0.8260210571414874,
           0.8069553942816917,
           0.7890468642932883,
           0.787169750602508,
           0.755050295281412,
           0.6527413609383187,
           0.7274671372699417,
           0.7274671372699417,
           0.36904298882512654,
           0.5020822289111014,
           0.471056112393148,
           0.4043465323703719,
           0.4043465323703719,
           0.5030321942585655,
           0.559693571708316,
           0.559693571708316,
           0.5353878207602022,
           0.6433876034377921,
           0.6433876034377921,
           0.5788824874502317,
           0.5597666108244839,
           0.5423502616246093,
           0.3660773395932965,
           0.2767645589826101,
           0.011563588048063603,
           0.009622399426210963,
           0.012888976357467464,
           0.013976353144092865,
           0.08948764144653257,
           0.016497325876416086,
           0.32168016107227143,
           0.2695417715170982,
           0.3793145538699046,
           0.4360475145493399,
           0.5140804149675434,
           0.47938076684816805,
           0.3042885774353241,
           0.23803317410084981,
           0.06830203098341893,
           0.0011253839317542705,
           0.11596102927719787,
           0.012796052215620697,
           0.059165891663725316,
           0.1914859410311207,
           0.09945832814561177,
           0.16460302044495154,
           0.12018362695478674,
           0.15294761069767612,
           0.14816334668283254,
           0.10073410795294416,
           0.2279860568896788,
           0.2279860568896788,
           0.2279860568896788
          ],
          [
           0.4614873089191161,
           0.4907249630425602,
           0.4907249630425602,
           0.4907249630425602,
           0.5727803201229653,
           0.5452455775741811,
           0.5452455775741811,
           0.5452455775741811,
           0.24428437218681684,
           0.31185016883698113,
           0.31876325095834873,
           0.7419637484475607,
           0.8620461892161981,
           0.9095640778322409,
           0.9095640778322409,
           0.9095640778322409,
           0.9301732362375251,
           0.9430316922827354,
           1,
           1,
           0.828054646533783,
           0.8633877368205923,
           0.8499683775218991,
           0.8913296215435247,
           0.7924178872104114,
           0.77229680721318,
           0.7578875210375914,
           0.7578875210375914,
           0.7821096043361802,
           0.8483613735041695,
           0.7553210927923869,
           0.7423037084114622,
           0.7519432268580232,
           0.73347908241674,
           0.7316248018231881,
           0.674247486412046,
           0.5425396120324798,
           0.6343711714226183,
           0.6343711714226183,
           0.22690219333010678,
           0.39095774547380985,
           0.45975087700604844,
           0.39507460180461756,
           0.39507460180461756,
           0.46337850291061167,
           0.5183142549855795,
           0.5183142549855795,
           0.5068794793646285,
           0.5999220957415762,
           0.5999220957415762,
           0.5518534863805682,
           0.5498979889412272,
           0.5046768191683986,
           0.4618049086060528,
           0.2760513393586654,
           0.06343651329787664,
           0.061553180504498206,
           0.06480447673354846,
           0.06577354125479244,
           0.06765389653651244,
           0.021392090619338087,
           0.2782706780858145,
           0.17380616248335615,
           0.2848563042672077,
           0.3391377140250057,
           0.4255974881446961,
           0.37798635900495564,
           0.2217005890869237,
           0.18624758731251667,
           0.03632604003769758,
           0.004506422843327419,
           0.10127195885849938,
           0.008094153345795592,
           0.02993082416971971,
           0.23914426740401887,
           0.04446075353298717,
           0.15823063342409915,
           0.15000431916242937,
           0.15292002904875368,
           0.1447706831202169,
           0.06871389887614308,
           0.18666396910265876,
           0.18666396910265876,
           0.18666396910265876
          ],
          [
           0.4614873089191161,
           0.4907249630425602,
           0.4907249630425602,
           0.4907249630425602,
           0.5727803201229653,
           0.5452455775741811,
           0.5452455775741811,
           0.5452455775741811,
           0.24428437218681684,
           0.31185016883698113,
           0.31876325095834873,
           0.7419637484475607,
           0.8620461892161981,
           0.9095640778322409,
           0.9095640778322409,
           0.9095640778322409,
           0.9301732362375251,
           0.9430316922827354,
           1,
           1,
           0.828054646533783,
           0.8633877368205923,
           0.8499683775218991,
           0.8913296215435247,
           0.7924178872104114,
           0.77229680721318,
           0.7578875210375914,
           0.7578875210375914,
           0.7821096043361802,
           0.8483613735041695,
           0.7553210927923869,
           0.7423037084114622,
           0.7519432268580232,
           0.73347908241674,
           0.7316248018231881,
           0.674247486412046,
           0.5425396120324798,
           0.6343711714226183,
           0.6343711714226183,
           0.22690219333010678,
           0.39095774547380985,
           0.45975087700604844,
           0.39507460180461756,
           0.39507460180461756,
           0.46337850291061167,
           0.5183142549855795,
           0.5183142549855795,
           0.5068794793646285,
           0.5999220957415762,
           0.5999220957415762,
           0.5518534863805682,
           0.5498979889412272,
           0.5046768191683986,
           0.4618049086060528,
           0.2760513393586654,
           0.06343651329787664,
           0.061553180504498206,
           0.06480447673354846,
           0.06577354125479244,
           0.06765389653651244,
           0.021392090619338087,
           0.2782706780858145,
           0.17380616248335615,
           0.2848563042672077,
           0.3391377140250057,
           0.4255974881446961,
           0.37798635900495564,
           0.2217005890869237,
           0.18624758731251667,
           0.03632604003769758,
           0.004506422843327419,
           0.10127195885849938,
           0.008094153345795592,
           0.02993082416971971,
           0.23914426740401887,
           0.04446075353298717,
           0.15823063342409915,
           0.15000431916242937,
           0.15292002904875368,
           0.1447706831202169,
           0.06871389887614308,
           0.18666396910265876,
           0.18666396910265876,
           0.18666396910265876
          ],
          [
           0.4550100142278063,
           0.4665129737787905,
           0.4665129737787905,
           0.4665129737787905,
           0.4783594713337454,
           0.4341774343639014,
           0.4341774343639014,
           0.4341774343639014,
           0.4641818787186441,
           0.5057835518529885,
           0.3966034379569661,
           0.5531551830953825,
           0.884686173861116,
           0.9425151068342682,
           0.9425151068342682,
           0.9425151068342682,
           0.8993441180432551,
           0.9180508006781581,
           0.828054646533783,
           0.828054646533783,
           1,
           0.9570574809010548,
           0.950329412573049,
           0.8284904024013465,
           0.9031806961978444,
           0.8972112472451945,
           0.8316310449539354,
           0.8316310449539354,
           0.8116066186932042,
           0.7908236073405892,
           0.8106614245523744,
           0.8495570162021508,
           0.8318605314676527,
           0.7967428900858272,
           0.7984090894982095,
           0.7731492734537244,
           0.7187689547462708,
           0.7550847668365992,
           0.7550847668365992,
           0.3689674762967987,
           0.5615755172191534,
           0.5668856219207159,
           0.5132625031782461,
           0.5132625031782461,
           0.48403721364704894,
           0.5316267029033299,
           0.5316267029033299,
           0.5261649396936174,
           0.5782975654677827,
           0.5782975654677827,
           0.6023966083928373,
           0.5982635786290318,
           0.483818650812909,
           0.4037202419600881,
           0.22589015260332587,
           0.04746581035676016,
           0.04440963362613536,
           0.046368556424247066,
           0.04477115121107874,
           0.02885350900317568,
           0.029457562380472754,
           0.3730072723779648,
           0.25524709360786835,
           0.35105842805969995,
           0.397231614155706,
           0.4882280909480069,
           0.4819428286908102,
           0.2909464257267634,
           0.19800343315722452,
           0.06505274144760459,
           0.009549029793393074,
           0.1515460417905853,
           0.07167769364395041,
           0.06899600608589344,
           0.07987950674666093,
           0.09137639147004639,
           0.13984487217763245,
           0.12132192629985317,
           0.14673887799617397,
           0.18515752213146186,
           0.11622053625527401,
           0.009245514207538377,
           0.009245514207538377,
           0.009245514207538377
          ],
          [
           0.42063447276628707,
           0.44209860904856085,
           0.44209860904856085,
           0.44209860904856085,
           0.4962208480456557,
           0.4510272339373128,
           0.4510272339373128,
           0.4510272339373128,
           0.5502375551816802,
           0.5618608923319948,
           0.5084233767349736,
           0.5826433270724988,
           0.917795693487848,
           0.9673208491751655,
           0.9673208491751655,
           0.9673208491751655,
           0.9441565899064936,
           0.9548593095345775,
           0.8633877368205923,
           0.8633877368205923,
           0.9570574809010548,
           1,
           0.9707652748595985,
           0.8884854143132692,
           0.9679922351513445,
           0.9677987939341502,
           0.9334621881353824,
           0.9334621881353824,
           0.932637450787738,
           0.8761335351407161,
           0.9026495946683026,
           0.914741879918441,
           0.879513303620171,
           0.8677621676021727,
           0.8660577861251426,
           0.8384762418923409,
           0.77110814454745,
           0.749991883473187,
           0.749991883473187,
           0.3788878640415018,
           0.5300316829381366,
           0.43699525707284786,
           0.37639045312913233,
           0.37639045312913233,
           0.40472268745385725,
           0.45228430670266484,
           0.45228430670266484,
           0.43915888682249604,
           0.5108769353549817,
           0.5108769353549817,
           0.4847006031001691,
           0.45990097336569286,
           0.3916133844960866,
           0.2241943033512761,
           0.1394207067777775,
           0.05653106247140928,
           0.058613375451873055,
           0.05637585943306781,
           0.05654954570277506,
           0.09542491673959767,
           0.05485562005843567,
           0.35135802520513837,
           0.32373629504916734,
           0.4037323549050422,
           0.4726946747129685,
           0.5054203110083296,
           0.5076465926444446,
           0.3067043427942168,
           0.2425649856571141,
           0.09030264928171385,
           0.02045027546330878,
           0.11792701649251394,
           0.10755381120583728,
           0.08149312028114937,
           0.15000901156600352,
           0.15457178401417673,
           0.1482732013244954,
           0.09352829041023866,
           0.15190413942129366,
           0.19013583195927714,
           0.019112995433260293,
           0.11228694567083876,
           0.11228694567083876,
           0.11228694567083876
          ],
          [
           0.5933049918718245,
           0.6068934976447125,
           0.6068934976447125,
           0.6068934976447125,
           0.6167175774889707,
           0.5879161086266498,
           0.5879161086266498,
           0.5879161086266498,
           0.4667399988863917,
           0.47239115964227163,
           0.36861658673305864,
           0.5555317282097276,
           0.8538023501878916,
           0.9172920114689589,
           0.9172920114689589,
           0.9172920114689589,
           0.9067427533099055,
           0.9343464291973597,
           0.8499683775218991,
           0.8499683775218991,
           0.950329412573049,
           0.9707652748595985,
           1,
           0.9096087381760758,
           0.9760972365269428,
           0.9655231951359453,
           0.9251987061844641,
           0.9251987061844641,
           0.894588488850099,
           0.8274967018516838,
           0.90231636048332,
           0.9275497435948842,
           0.9027936857865158,
           0.895830262553189,
           0.8965149516300388,
           0.8673180878874643,
           0.7882538698360319,
           0.6314948771183951,
           0.6314948771183951,
           0.4029064042356334,
           0.41359432388146833,
           0.4915499890881038,
           0.4153817017574534,
           0.4153817017574534,
           0.3615155868432161,
           0.4102165391418768,
           0.4102165391418768,
           0.4105603415510597,
           0.4924261125462147,
           0.4924261125462147,
           0.5190790252931492,
           0.4747465087562953,
           0.392327109743909,
           0.24234357885942195,
           0.14052775569958445,
           0.04776423818148691,
           0.05068939498272634,
           0.04730960480356525,
           0.04760908958428022,
           0.09759974352134364,
           0.030227813376469105,
           0.3954440452561007,
           0.29727334041217174,
           0.37122684355346713,
           0.4298151445024708,
           0.4611190179468803,
           0.4705046238762208,
           0.25089515206540686,
           0.22837575651176664,
           0.08253105976715651,
           0.03156013589044555,
           0.1130047447804218,
           0.15357611269852706,
           0.07826632951037936,
           0.09624016291568911,
           0.1458081715608379,
           0.15418596361471848,
           0.09656954249389539,
           0.16332010680040765,
           0.15331192355469583,
           0.11280697408282885,
           0.027794301090376217,
           0.027794301090376217,
           0.027794301090376217
          ],
          [
           0.6017362324073491,
           0.6309971135270699,
           0.6309971135270699,
           0.6309971135270699,
           0.7026633314148767,
           0.6758322684795537,
           0.6758322684795537,
           0.6758322684795537,
           0.4352840517131485,
           0.4094492558110527,
           0.38784272276988235,
           0.6316067518231372,
           0.7805415602622953,
           0.8674004855348063,
           0.8674004855348063,
           0.8674004855348063,
           0.885452552221369,
           0.8920077329241802,
           0.8913296215435247,
           0.8913296215435247,
           0.8284904024013465,
           0.8884854143132692,
           0.9096087381760758,
           1,
           0.8921685893219349,
           0.8827996109833958,
           0.8599528791684432,
           0.8599528791684432,
           0.8599528791684432,
           0.8892327559585307,
           0.8993819264598456,
           0.8883128436048705,
           0.894861801940729,
           0.9066049840828813,
           0.9075549938488746,
           0.8875463486519887,
           0.7502766240118605,
           0.5095243432946025,
           0.5095243432946025,
           0.20769762889604299,
           0.22568434214384916,
           0.30239748839548647,
           0.22115140713459422,
           0.22115140713459422,
           0.2527799495977336,
           0.303276519466103,
           0.303276519466103,
           0.3022780255223634,
           0.396760607653404,
           0.396760607653404,
           0.35581734748381993,
           0.40012353881255097,
           0.3527583574307289,
           0.2885410879978933,
           0.09548890183090646,
           0.04116031248181486,
           0.04452440293712155,
           0.040952327676775827,
           0.04055630629251555,
           0.10339600717921171,
           0.06477427181242,
           0.3665927075866671,
           0.31411890005730103,
           0.3094751792467004,
           0.35686526003353236,
           0.4271753718404436,
           0.41016555833645957,
           0.18541142829862434,
           0.20696464597855016,
           0.03085449717367306,
           0.04417533585263483,
           0.092911177421815,
           0.19038507973301896,
           0.16952409349583786,
           0.13803270661429295,
           0.2167772534921965,
           0.1401867004823737,
           0.12405274666903122,
           0.028102595126064174,
           0.1565292289563218,
           0.027125465526968963,
           0.14451481142703057,
           0.14451481142703057,
           0.14451481142703057
          ],
          [
           0.5279889997534616,
           0.5414697627994691,
           0.5414697627994691,
           0.5414697627994691,
           0.5557458592257114,
           0.5198382114969027,
           0.5198382114969027,
           0.5198382114969027,
           0.5931162979397152,
           0.5796949441049155,
           0.47780787190442164,
           0.5004838421022587,
           0.8213414462604488,
           0.8831837393324978,
           0.8831837393324978,
           0.8831837393324978,
           0.869077924554275,
           0.8921330847645287,
           0.7924178872104114,
           0.7924178872104114,
           0.9031806961978444,
           0.9679922351513445,
           0.9760972365269428,
           0.8921685893219349,
           1,
           0.9945664108211634,
           0.9659141216493848,
           0.9659141216493848,
           0.9339895804757258,
           0.8429276810883655,
           0.9496205491234653,
           0.9643249499062505,
           0.9296605815349134,
           0.9325233091057196,
           0.9317862209063567,
           0.8998493294415266,
           0.8473262959250722,
           0.6069198352871196,
           0.6069198352871196,
           0.36899591317068625,
           0.3754041558597524,
           0.36134342647944884,
           0.2894021020016203,
           0.2894021020016203,
           0.24616176712738888,
           0.28864286116568166,
           0.28864286116568166,
           0.2811360723495725,
           0.3519938791478395,
           0.3519938791478395,
           0.36551526395725753,
           0.3299865241487806,
           0.24215719204179612,
           0.07065149801168676,
           0.023394861512755896,
           0.13223363473638078,
           0.1344639988046515,
           0.131664466166218,
           0.13120579307248426,
           0.13611035210141986,
           0.06245152862517976,
           0.38112406671884036,
           0.34951613984649466,
           0.39481079290592397,
           0.467914619061663,
           0.44610925550167163,
           0.4730353475968715,
           0.25536299056820233,
           0.24848201780866722,
           0.10292130608633997,
           0.04552712008464619,
           0.09145605058299182,
           0.20016926491000997,
           0.09156350935897759,
           0.12135290148908194,
           0.20021139207480246,
           0.1403562988521576,
           0.05848541638955574,
           0.1434236187881006,
           0.16834118079580038,
           0.10635687685777186,
           0.009246226773112405,
           0.009246226773112405,
           0.009246226773112405
          ],
          [
           0.49336422635084765,
           0.5121865945859027,
           0.5121865945859027,
           0.5121865945859027,
           0.5503428068101325,
           0.5142488731500773,
           0.5142488731500773,
           0.5142488731500773,
           0.6234301309764959,
           0.5765231352525927,
           0.5084905941114488,
           0.4959720226213032,
           0.8218203154322615,
           0.8897446393609187,
           0.8897446393609187,
           0.8897446393609187,
           0.870871748669025,
           0.8879131833942812,
           0.77229680721318,
           0.77229680721318,
           0.8972112472451945,
           0.9677987939341502,
           0.9655231951359453,
           0.8827996109833958,
           0.9945664108211634,
           1,
           0.9607430018827922,
           0.9607430018827922,
           0.9434035341761469,
           0.8271692299509674,
           0.9515375771031095,
           0.9604754413935633,
           0.9209396481810619,
           0.9231458886038472,
           0.9227575148834106,
           0.8931948188122025,
           0.8668998581043015,
           0.6092904192156354,
           0.6092904192156354,
           0.3689674762967987,
           0.39097161120424184,
           0.3227585101827089,
           0.2592493844104783,
           0.2592493844104783,
           0.25690393988071347,
           0.297221855459598,
           0.297221855459598,
           0.28439778336292904,
           0.3519667525450961,
           0.3519667525450961,
           0.3384198355900108,
           0.2995975669808757,
           0.23148523622164366,
           0.032329549776339235,
           0.03513914258500558,
           0.14578605273504824,
           0.14826318858809423,
           0.1455564075339833,
           0.145677418743245,
           0.13138327404122,
           0.06155393091547679,
           0.39504748541361057,
           0.3738953146222501,
           0.41728988339938283,
           0.4921359580399062,
           0.4703466326027752,
           0.49894712467894026,
           0.26673016905250196,
           0.2590869405087076,
           0.11286146774439446,
           0.04560296163954185,
           0.09775177224180108,
           0.18950591783642512,
           0.10227887972488105,
           0.14354157871561848,
           0.21428471990765566,
           0.14524924914237655,
           0.05453071690145009,
           0.14341256576768927,
           0.1683282074897081,
           0.048680589155235106,
           0.06082049075986057,
           0.06082049075986057,
           0.06082049075986057
          ],
          [
           0.43661747401009854,
           0.45196685387218416,
           0.45196685387218416,
           0.45196685387218416,
           0.4805203114539255,
           0.4508426060373453,
           0.4508426060373453,
           0.4508426060373453,
           0.5749304628997906,
           0.5419618920492933,
           0.4747838181899877,
           0.4351340061570871,
           0.8263320135583585,
           0.842304428454472,
           0.842304428454472,
           0.842304428454472,
           0.845339700112379,
           0.8551807602707848,
           0.7578875210375914,
           0.7578875210375914,
           0.8316310449539354,
           0.9334621881353824,
           0.9251987061844641,
           0.8599528791684432,
           0.9659141216493848,
           0.9607430018827922,
           1,
           1,
           0.9760283253301674,
           0.8382910208790105,
           0.9101327349548252,
           0.9165372184099708,
           0.8675930962660855,
           0.8848424454059953,
           0.8831989743501031,
           0.8622890092191344,
           0.7754596553712353,
           0.6155343753589658,
           0.6155343753589658,
           0.42068181986964187,
           0.4053797134683844,
           0.3360560907122722,
           0.2531960368054884,
           0.2531960368054884,
           0.2169939544121075,
           0.26218658717231996,
           0.26218658717231996,
           0.2643998272925442,
           0.33871320971616287,
           0.33871320971616287,
           0.3319757415135821,
           0.296625103341575,
           0.21281585591786312,
           0.010776516592113079,
           0.04437272529178207,
           0.184052015989688,
           0.18560116734988588,
           0.18276511437540946,
           0.18149867039151094,
           0.16662414096468978,
           0.11040656797290074,
           0.3246978570326032,
           0.3809556542551831,
           0.39952909409389087,
           0.4589684567708048,
           0.42771819522413107,
           0.46439881533949584,
           0.2555667410788164,
           0.2595572592866359,
           0.12757109347555629,
           0.04195867197736944,
           0.06661233542015321,
           0.2092153585286693,
           0.10732209481649835,
           0.12228622743084733,
           0.20738657152771484,
           0.1347339346939657,
           0.04457541186906984,
           0.12202913001314478,
           0.14140130406290205,
           0.050654960325029176,
           0.03923096569144663,
           0.03923096569144663,
           0.03923096569144663
          ],
          [
           0.43661747401009854,
           0.45196685387218416,
           0.45196685387218416,
           0.45196685387218416,
           0.4805203114539255,
           0.4508426060373453,
           0.4508426060373453,
           0.4508426060373453,
           0.5749304628997906,
           0.5419618920492933,
           0.4747838181899877,
           0.4351340061570871,
           0.8263320135583585,
           0.842304428454472,
           0.842304428454472,
           0.842304428454472,
           0.845339700112379,
           0.8551807602707848,
           0.7578875210375914,
           0.7578875210375914,
           0.8316310449539354,
           0.9334621881353824,
           0.9251987061844641,
           0.8599528791684432,
           0.9659141216493848,
           0.9607430018827922,
           1,
           1,
           0.9760283253301674,
           0.8382910208790105,
           0.9101327349548252,
           0.9165372184099708,
           0.8675930962660855,
           0.8848424454059953,
           0.8831989743501031,
           0.8622890092191344,
           0.7754596553712353,
           0.6155343753589658,
           0.6155343753589658,
           0.42068181986964187,
           0.4053797134683844,
           0.3360560907122722,
           0.2531960368054884,
           0.2531960368054884,
           0.2169939544121075,
           0.26218658717231996,
           0.26218658717231996,
           0.2643998272925442,
           0.33871320971616287,
           0.33871320971616287,
           0.3319757415135821,
           0.296625103341575,
           0.21281585591786312,
           0.010776516592113079,
           0.04437272529178207,
           0.184052015989688,
           0.18560116734988588,
           0.18276511437540946,
           0.18149867039151094,
           0.16662414096468978,
           0.11040656797290074,
           0.3246978570326032,
           0.3809556542551831,
           0.39952909409389087,
           0.4589684567708048,
           0.42771819522413107,
           0.46439881533949584,
           0.2555667410788164,
           0.2595572592866359,
           0.12757109347555629,
           0.04195867197736944,
           0.06661233542015321,
           0.2092153585286693,
           0.10732209481649835,
           0.12228622743084733,
           0.20738657152771484,
           0.1347339346939657,
           0.04457541186906984,
           0.12202913001314478,
           0.14140130406290205,
           0.050654960325029176,
           0.03923096569144663,
           0.03923096569144663,
           0.03923096569144663
          ],
          [
           0.3479878613721205,
           0.3797839839062706,
           0.3797839839062706,
           0.3797839839062706,
           0.4805203114539255,
           0.4508426060373453,
           0.4508426060373453,
           0.4508426060373453,
           0.5619802331948656,
           0.4821325254555721,
           0.5176914565102566,
           0.48384624051100017,
           0.8683691454422823,
           0.8801422548327791,
           0.8801422548327791,
           0.8801422548327791,
           0.8903110008570618,
           0.886067584640692,
           0.7821096043361802,
           0.7821096043361802,
           0.8116066186932042,
           0.932637450787738,
           0.894588488850099,
           0.8599528791684432,
           0.9339895804757258,
           0.9434035341761469,
           0.9760283253301674,
           0.9760283253301674,
           1,
           0.8382910208790105,
           0.8940983751463283,
           0.8785219363776917,
           0.8220068136454037,
           0.8387664042375226,
           0.8371229331816303,
           0.8289770328067988,
           0.7509978590159596,
           0.655156806861353,
           0.655156806861353,
           0.42068181986964187,
           0.4504206734175669,
           0.26222079327945197,
           0.18703381001096617,
           0.18703381001096617,
           0.2761371860402861,
           0.32404382893435657,
           0.32404382893435657,
           0.3060136984021262,
           0.40238224170089926,
           0.40238224170089926,
           0.3173802719293993,
           0.296625103341575,
           0.2826606627090752,
           0.010776516592113079,
           0.02560640916899373,
           0.18500727865659425,
           0.1864629869122093,
           0.18361317294047333,
           0.18233751214123203,
           0.16783354409838888,
           0.09148509391900793,
           0.31616933247887774,
           0.4002178160606832,
           0.43216307943219917,
           0.4922812983381806,
           0.47577515221149563,
           0.49707355844823586,
           0.28495220780929026,
           0.2777508199610983,
           0.12961378565689247,
           0.031119997695470757,
           0.07070806720533053,
           0.14845112990214274,
           0.11473586997540204,
           0.17525636992245294,
           0.21449492861548197,
           0.14614300540068867,
           0.05105027256584168,
           0.09209231995678248,
           0.14140130406290205,
           0.12243157889358453,
           0.2495289320985898,
           0.2495289320985898,
           0.2495289320985898
          ],
          [
           0.29765969900220574,
           0.3180419581146699,
           0.3180419581146699,
           0.3180419581146699,
           0.3770423990824852,
           0.35757339373821195,
           0.35757339373821195,
           0.35757339373821195,
           0.5139952474258347,
           0.6149231427585992,
           0.6079747537345052,
           0.6625518655138233,
           0.827189261271187,
           0.854798883679441,
           0.854798883679441,
           0.854798883679441,
           0.8606274331889737,
           0.8495495671421616,
           0.8483613735041695,
           0.8483613735041695,
           0.7908236073405892,
           0.8761335351407161,
           0.8274967018516838,
           0.8892327559585307,
           0.8429276810883655,
           0.8271692299509674,
           0.8382910208790105,
           0.8382910208790105,
           0.8382910208790105,
           1,
           0.8338224648844667,
           0.8244066251492633,
           0.8098601635450852,
           0.8288671680658172,
           0.8243078803150283,
           0.8176617244220107,
           0.6024187896136562,
           0.6864130934438853,
           0.6864130934438853,
           0.19747401721543353,
           0.4031957776141031,
           0.30933006238781113,
           0.2565012227455928,
           0.2565012227455928,
           0.27822946504797547,
           0.31863493886110267,
           0.31863493886110267,
           0.3316773817786563,
           0.3606711427889107,
           0.3606711427889107,
           0.32096926354590577,
           0.39674296939102033,
           0.2937108406717541,
           0.2743380754104577,
           0.036102170112316444,
           0.060222033737209045,
           0.06075159368745447,
           0.0603637870128444,
           0.05876026903218466,
           0.12346430463534976,
           0.02542643795646158,
           0.2482531991168001,
           0.23618202941693098,
           0.28031080480178383,
           0.3601992581883484,
           0.3778093639534336,
           0.3622261445530549,
           0.2232367650358697,
           0.18252145072157439,
           0.012060523922156417,
           0.0337271952984972,
           0.06454663355573377,
           0.14693823613202134,
           0.10244024572157874,
           0.19134504945493036,
           0.19670343180612118,
           0.10737686033701499,
           0.12037196511721862,
           0.00883349792229151,
           0.09937309152607308,
           0.05479769030824186,
           0.13740128142681102,
           0.13740128142681102,
           0.13740128142681102
          ],
          [
           0.5123201796241794,
           0.5350963696872163,
           0.5350963696872163,
           0.5350963696872163,
           0.5875963605099817,
           0.5605853338279567,
           0.5605853338279567,
           0.5605853338279567,
           0.6983001256258313,
           0.5968332715970164,
           0.5584181287340826,
           0.5688937281642181,
           0.7501466577260204,
           0.8243227354897031,
           0.8243227354897031,
           0.8243227354897031,
           0.8198513116128114,
           0.8358872810365999,
           0.7553210927923869,
           0.7553210927923869,
           0.8106614245523744,
           0.9026495946683026,
           0.90231636048332,
           0.8993819264598456,
           0.9496205491234653,
           0.9515375771031095,
           0.9101327349548252,
           0.9101327349548252,
           0.8940983751463283,
           0.8338224648844667,
           1,
           0.9871323223726475,
           0.9780385451208705,
           0.9790124809341144,
           0.9784132255555225,
           0.9218157456270573,
           0.9095684034130597,
           0.48276568920417623,
           0.48276568920417623,
           0.1012020973529666,
           0.24901194122940695,
           0.14557457289725867,
           0.07674988453268378,
           0.07674988453268378,
           0.08784008228187053,
           0.12580417558178694,
           0.12580417558178694,
           0.11330773184211694,
           0.18953311594681424,
           0.18953311594681424,
           0.15828567174827732,
           0.1398652627008542,
           0.07948989359814941,
           0.032329549776339235,
           0.02560574718210079,
           0.15499751141147977,
           0.15727295313168307,
           0.1541616402911903,
           0.15338510723936827,
           0.15164223900819457,
           0.04419352525023962,
           0.37741561954620895,
           0.3620858561531334,
           0.35581790775712496,
           0.4299501738820884,
           0.4148501866165535,
           0.42839751601389586,
           0.17664752050712504,
           0.22772616404855087,
           0.04506659386934669,
           0.067136856682492,
           0.07135645194162428,
           0.23917492435317486,
           0.15595755328481672,
           0.14152240834911914,
           0.27684034914346217,
           0.12085871673181925,
           0.06078605557146599,
           0.13961106607799248,
           0.1447671669912528,
           0.0032700522499714327,
           0.09920186865926313,
           0.09920186865926313,
           0.09920186865926313
          ],
          [
           0.5472910465331224,
           0.5612944090584414,
           0.5612944090584414,
           0.5612944090584414,
           0.576211090427053,
           0.5432115484931351,
           0.5432115484931351,
           0.5432115484931351,
           0.689563082954938,
           0.6079014602298023,
           0.509440360904119,
           0.5283613907896011,
           0.7576044718368475,
           0.8218170243051764,
           0.8218170243051764,
           0.8218170243051764,
           0.8023138162959498,
           0.8260210571414874,
           0.7423037084114622,
           0.7423037084114622,
           0.8495570162021508,
           0.914741879918441,
           0.9275497435948842,
           0.8883128436048705,
           0.9643249499062505,
           0.9604754413935633,
           0.9165372184099708,
           0.9165372184099708,
           0.8785219363776917,
           0.8244066251492633,
           0.9871323223726475,
           1,
           0.9852516365920893,
           0.982865798750918,
           0.9830293476197656,
           0.9335980173949051,
           0.9145102023146623,
           0.4996092108469407,
           0.4996092108469407,
           0.12887415894759435,
           0.29023056653592694,
           0.21966673414625354,
           0.14683351969394384,
           0.14683351969394384,
           0.09304161090834545,
           0.13082872682899227,
           0.13082872682899227,
           0.13164841784810902,
           0.19705662073769786,
           0.19705662073769786,
           0.20757009655922973,
           0.18350231294219357,
           0.08978568009564343,
           0.07069601572820254,
           0.03439189623640125,
           0.13204544262654,
           0.1349345867671118,
           0.13185295737984246,
           0.13194795738011109,
           0.13059810271424271,
           0.0331407805589712,
           0.39117185256926035,
           0.3324413442921968,
           0.3401094830112245,
           0.41352625227639583,
           0.40107847819717524,
           0.42384355496750853,
           0.17221966101694736,
           0.2131085306719317,
           0.043883847958611666,
           0.0659178333736993,
           0.08209740029403205,
           0.26180965078421997,
           0.14125229444645748,
           0.089167474951685,
           0.25871703210381797,
           0.117714487310162,
           0.0672546187887438,
           0.14731817862945532,
           0.16171076638049842,
           0.10247235765745705,
           0.009252052847773383,
           0.009252052847773383,
           0.009252052847773383
          ],
          [
           0.5781521365255432,
           0.5897662806336262,
           0.5897662806336262,
           0.5897662806336262,
           0.592852753879135,
           0.5660138951240046,
           0.5660138951240046,
           0.5660138951240046,
           0.681875552924822,
           0.6107704479061233,
           0.5014777313162545,
           0.555777623254763,
           0.7087086626537851,
           0.796835054475429,
           0.796835054475429,
           0.796835054475429,
           0.7813477479262154,
           0.8069553942816917,
           0.7519432268580232,
           0.7519432268580232,
           0.8318605314676527,
           0.879513303620171,
           0.9027936857865158,
           0.894861801940729,
           0.9296605815349134,
           0.9209396481810619,
           0.8675930962660855,
           0.8675930962660855,
           0.8220068136454037,
           0.8098601635450852,
           0.9780385451208705,
           0.9852516365920893,
           1,
           0.9885599082988533,
           0.9889849525491755,
           0.9257741016058892,
           0.9025138885105847,
           0.4441098356021843,
           0.4441098356021843,
           0.02809154107763633,
           0.21069883018208393,
           0.20954846935846372,
           0.14012988164947904,
           0.14012988164947904,
           0.06906555526527454,
           0.105577094876817,
           0.105577094876817,
           0.10842093011845488,
           0.16345479800250026,
           0.16345479800250026,
           0.18807655335512646,
           0.18953080152841092,
           0.07159137756491912,
           0.14731985794698393,
           0.015102814939543201,
           0.0845397822937381,
           0.08729355014245352,
           0.08413383509143055,
           0.08437132742468549,
           0.10871832948758774,
           0.07671883001284704,
           0.40113950554266475,
           0.31229743257867737,
           0.29859215107483,
           0.3607445053542887,
           0.38100980908437826,
           0.3919254951265797,
           0.14199169415533505,
           0.1930358136793713,
           0.018101682945252957,
           0.0656719054759359,
           0.09080049892954448,
           0.25941301603286243,
           0.15889122472519382,
           0.10443984177052512,
           0.2522616694599951,
           0.11067138215625047,
           0.08392259499900256,
           0.13394591069957906,
           0.14480726902511248,
           0.1221774848453614,
           0.045240584637302114,
           0.045240584637302114,
           0.045240584637302114
          ],
          [
           0.5891431089875478,
           0.601022726296427,
           0.601022726296427,
           0.601022726296427,
           0.6043459847934526,
           0.581867182760178,
           0.581867182760178,
           0.581867182760178,
           0.6741123363591098,
           0.6120513274910192,
           0.5075435113592426,
           0.5403798667916934,
           0.6844467825125898,
           0.7729020013784415,
           0.7729020013784415,
           0.7729020013784415,
           0.7632178830112404,
           0.7890468642932883,
           0.73347908241674,
           0.73347908241674,
           0.7967428900858272,
           0.8677621676021727,
           0.895830262553189,
           0.9066049840828813,
           0.9325233091057196,
           0.9231458886038472,
           0.8848424454059953,
           0.8848424454059953,
           0.8387664042375226,
           0.8288671680658172,
           0.9790124809341144,
           0.982865798750918,
           0.9885599082988533,
           1,
           0.9995715591839943,
           0.956818274084537,
           0.8905298690675065,
           0.41495698024508815,
           0.41495698024508815,
           0.0634394787132802,
           0.16719602582175247,
           0.17581536996339528,
           0.09947168590131894,
           0.09947168590131894,
           0.016867516378298943,
           0.05209889591278342,
           0.05209889591278342,
           0.06679782526471446,
           0.12268674271244172,
           0.12268674271244172,
           0.14491973122263102,
           0.15383783912102358,
           0.04800031833554973,
           0.08813242744870742,
           0.05901148083812581,
           0.1225554009513262,
           0.1252359247867397,
           0.1219607778440709,
           0.12170370909167767,
           0.13243926376872542,
           0.06955662447103636,
           0.3883064592970376,
           0.31873037927391623,
           0.293886003007998,
           0.36033554955764885,
           0.35303373257423903,
           0.37433549376972064,
           0.1397717194796865,
           0.20290999702952253,
           0.023512877829831382,
           0.06837699174924161,
           0.07336506071748056,
           0.28538312672614996,
           0.15813648165475902,
           0.09562931208331452,
           0.2737412512963844,
           0.11047984355568562,
           0.07712695100036504,
           0.08291226587433578,
           0.13281385035043605,
           0.11543985392748234,
           0.04560210609574801,
           0.04560210609574801,
           0.04560210609574801
          ],
          [
           0.597043035283676,
           0.6091367554095051,
           0.6091367554095051,
           0.6091367554095051,
           0.6127230439149856,
           0.588301629380891,
           0.588301629380891,
           0.588301629380891,
           0.6704921346777297,
           0.6046818991547849,
           0.4977940800038817,
           0.535626242747437,
           0.6821337621920537,
           0.7711747634416707,
           0.7711747634416707,
           0.7711747634416707,
           0.7607627518844028,
           0.787169750602508,
           0.7316248018231881,
           0.7316248018231881,
           0.7984090894982095,
           0.8660577861251426,
           0.8965149516300388,
           0.9075549938488746,
           0.9317862209063567,
           0.9227575148834106,
           0.8831989743501031,
           0.8831989743501031,
           0.8371229331816303,
           0.8243078803150283,
           0.9784132255555225,
           0.9830293476197656,
           0.9889849525491755,
           0.9995715591839943,
           1,
           0.9571757224823869,
           0.8959744948465692,
           0.4096276234968113,
           0.4096276234968113,
           0.0634394787132802,
           0.1648273561747586,
           0.17581536996339528,
           0.09947168590131894,
           0.09947168590131894,
           0.016867516378298943,
           0.05209889591278342,
           0.05209889591278342,
           0.06679782526471446,
           0.12268674271244172,
           0.12268674271244172,
           0.14491973122263102,
           0.15383783912102358,
           0.04800031833554973,
           0.08813242744870742,
           0.05736108797453713,
           0.1236491163605656,
           0.12644084585806592,
           0.12309159606330054,
           0.12298276727106179,
           0.13243926376872542,
           0.07190626364727284,
           0.3932978582838,
           0.31814471051789767,
           0.2923699110264154,
           0.3575927440191297,
           0.3505523342721235,
           0.37274114226743615,
           0.13441830022411866,
           0.20161551819233134,
           0.024037165390553953,
           0.06919326876446268,
           0.07346620167416741,
           0.28722696777626566,
           0.15938434056312603,
           0.09459261309281244,
           0.2733479823802161,
           0.11034808018302793,
           0.07737136657294039,
           0.08291226587433578,
           0.13960124967630344,
           0.11942125359589918,
           0.04560210609574801,
           0.04560210609574801,
           0.04560210609574801
          ],
          [
           0.5577785650649603,
           0.570776691446072,
           0.570776691446072,
           0.570776691446072,
           0.5809025609372108,
           0.5525450461188913,
           0.5525450461188913,
           0.5525450461188913,
           0.6284270481365569,
           0.5771677222617357,
           0.4769140846381047,
           0.45510569330901524,
           0.6674329181501311,
           0.7419084152296544,
           0.7419084152296544,
           0.7419084152296544,
           0.7338164089596924,
           0.755050295281412,
           0.674247486412046,
           0.674247486412046,
           0.7731492734537244,
           0.8384762418923409,
           0.8673180878874643,
           0.8875463486519887,
           0.8998493294415266,
           0.8931948188122025,
           0.8622890092191344,
           0.8622890092191344,
           0.8289770328067988,
           0.8176617244220107,
           0.9218157456270573,
           0.9335980173949051,
           0.9257741016058892,
           0.956818274084537,
           0.9571757224823869,
           1,
           0.8378383756926141,
           0.41555766422343093,
           0.41555766422343093,
           0.15981346942769725,
           0.16601206886952435,
           0.1452208972281486,
           0.07008687042468176,
           0.07008687042468176,
           0.005798910417488819,
           0.039628892120462056,
           0.039628892120462056,
           0.05764086201638962,
           0.1000943751452733,
           0.1000943751452733,
           0.1110883554611743,
           0.23973513513317674,
           0.1330547632380979,
           0.11375338848319172,
           0.07202781473176771,
           0.1011337181400825,
           0.1039958919357958,
           0.10035441876531638,
           0.10040824944194063,
           0.11880224010389288,
           0.07072110739142086,
           0.389811440460348,
           0.28437877975035114,
           0.2747821649386332,
           0.332615649004837,
           0.33895177405837934,
           0.3644691399246099,
           0.17625929080938163,
           0.20843427837430234,
           0.021608405724993715,
           0.05110467811068352,
           0.07927263912145072,
           0.30990206797750003,
           0.16705899728740714,
           0.002836385221565554,
           0.29975136162714483,
           0.09765957395081504,
           0.08323590115570671,
           0.15521478578242795,
           0.14813468233688734,
           0.10634986672104864,
           0.02363879460656318,
           0.02363879460656318,
           0.02363879460656318
          ],
          [
           0.5309189742597004,
           0.5497742461344434,
           0.5497742461344434,
           0.5497742461344434,
           0.5852549033170916,
           0.5403957024313496,
           0.5403957024313496,
           0.5403957024313496,
           0.7217955665919372,
           0.5194659081045865,
           0.440229486861374,
           0.38281149531709163,
           0.5662828643789316,
           0.6679088938252378,
           0.6679088938252378,
           0.6679088938252378,
           0.6277762428378981,
           0.6527413609383187,
           0.5425396120324798,
           0.5425396120324798,
           0.7187689547462708,
           0.77110814454745,
           0.7882538698360319,
           0.7502766240118605,
           0.8473262959250722,
           0.8668998581043015,
           0.7754596553712353,
           0.7754596553712353,
           0.7509978590159596,
           0.6024187896136562,
           0.9095684034130597,
           0.9145102023146623,
           0.9025138885105847,
           0.8905298690675065,
           0.8959744948465692,
           0.8378383756926141,
           1,
           0.31262684849409783,
           0.31262684849409783,
           0.030242176287585833,
           0.14336824502990617,
           0.003529323252709044,
           0.06648817897351754,
           0.06648817897351754,
           0.059775628028730356,
           0.031019908554216317,
           0.031019908554216317,
           0.06459333325590443,
           0.016733827900990445,
           0.016733827900990445,
           0.002267565357773273,
           0.02430016136869525,
           0.06946068101937179,
           0.12414449083738327,
           0.06091807790812948,
           0.1837313099942465,
           0.18876661183238996,
           0.18318021821379005,
           0.18611809924029346,
           0.1120859877282371,
           0.04990420927916956,
           0.3984455388715556,
           0.36273324915670785,
           0.3220198908082466,
           0.3871989858131572,
           0.34903990952486424,
           0.3953444426126234,
           0.10938307978166051,
           0.1889884400468443,
           0.05636697724563618,
           0.08649725273271595,
           0.07760720197084499,
           0.28017028530246724,
           0.15627244485341082,
           0.0637684947228947,
           0.2827694567152741,
           0.10524548072437441,
           0.027192423621402784,
           0.1339249820072048,
           0.1986449513561076,
           0.07550824512851587,
           0.049831840186190045,
           0.049831840186190045,
           0.049831840186190045
          ],
          [
           0.08206880266004143,
           0.06429210103699219,
           0.06429210103699219,
           0.06429210103699219,
           0.012701837109633565,
           0.032922979963184475,
           0.032922979963184475,
           0.032922979963184475,
           0.3263475836253803,
           0.4902450730260483,
           0.5146488688536062,
           0.4380010561377879,
           0.832469187099956,
           0.7981106791025532,
           0.7981106791025532,
           0.7981106791025532,
           0.765655905844999,
           0.7274671372699417,
           0.6343711714226183,
           0.6343711714226183,
           0.7550847668365992,
           0.749991883473187,
           0.6314948771183951,
           0.5095243432946025,
           0.6069198352871196,
           0.6092904192156354,
           0.6155343753589658,
           0.6155343753589658,
           0.655156806861353,
           0.6864130934438853,
           0.48276568920417623,
           0.4996092108469407,
           0.4441098356021843,
           0.41495698024508815,
           0.4096276234968113,
           0.41555766422343093,
           0.31262684849409783,
           1,
           1,
           0.42070235153374824,
           0.7770060285795225,
           0.514497773728353,
           0.4574946493990836,
           0.4574946493990836,
           0.5353515503627531,
           0.5880558930381578,
           0.5880558930381578,
           0.5866773167457446,
           0.6570873636565862,
           0.6570873636565862,
           0.5941794013022291,
           0.5810954521635914,
           0.5351243614717508,
           0.3564407035114978,
           0.23252899229542434,
           0.05835084523636325,
           0.060059360898181945,
           0.059263882917457676,
           0.0619303248576611,
           0.02774213035366561,
           0.11177853604053446,
           0.12901597201358364,
           0.16371470656443196,
           0.33512708689475185,
           0.39965513979380174,
           0.4746679822823164,
           0.4413262124927265,
           0.3567132496000888,
           0.1491604238104048,
           0.0489321576172116,
           0.0252419714077419,
           0.10504422784713732,
           0.09924177731269705,
           0.029107145434558737,
           0.1253021430121519,
           0.018432726157345005,
           0.10374249651504285,
           0.10677560551757188,
           0.12773761356507995,
           0.13972519164951563,
           0.10170564518211019,
           0.223152625377821,
           0.223152625377821,
           0.223152625377821
          ],
          [
           0.08206880266004143,
           0.06429210103699219,
           0.06429210103699219,
           0.06429210103699219,
           0.012701837109633565,
           0.032922979963184475,
           0.032922979963184475,
           0.032922979963184475,
           0.3263475836253803,
           0.4902450730260483,
           0.5146488688536062,
           0.4380010561377879,
           0.832469187099956,
           0.7981106791025532,
           0.7981106791025532,
           0.7981106791025532,
           0.765655905844999,
           0.7274671372699417,
           0.6343711714226183,
           0.6343711714226183,
           0.7550847668365992,
           0.749991883473187,
           0.6314948771183951,
           0.5095243432946025,
           0.6069198352871196,
           0.6092904192156354,
           0.6155343753589658,
           0.6155343753589658,
           0.655156806861353,
           0.6864130934438853,
           0.48276568920417623,
           0.4996092108469407,
           0.4441098356021843,
           0.41495698024508815,
           0.4096276234968113,
           0.41555766422343093,
           0.31262684849409783,
           1,
           1,
           0.42070235153374824,
           0.7770060285795225,
           0.514497773728353,
           0.4574946493990836,
           0.4574946493990836,
           0.5353515503627531,
           0.5880558930381578,
           0.5880558930381578,
           0.5866773167457446,
           0.6570873636565862,
           0.6570873636565862,
           0.5941794013022291,
           0.5810954521635914,
           0.5351243614717508,
           0.3564407035114978,
           0.23252899229542434,
           0.05835084523636325,
           0.060059360898181945,
           0.059263882917457676,
           0.0619303248576611,
           0.02774213035366561,
           0.11177853604053446,
           0.12901597201358364,
           0.16371470656443196,
           0.33512708689475185,
           0.39965513979380174,
           0.4746679822823164,
           0.4413262124927265,
           0.3567132496000888,
           0.1491604238104048,
           0.0489321576172116,
           0.0252419714077419,
           0.10504422784713732,
           0.09924177731269705,
           0.029107145434558737,
           0.1253021430121519,
           0.018432726157345005,
           0.10374249651504285,
           0.10677560551757188,
           0.12773761356507995,
           0.13972519164951563,
           0.10170564518211019,
           0.223152625377821,
           0.223152625377821,
           0.223152625377821
          ],
          [
           0.13337781439295146,
           0.13290390751867745,
           0.13290390751867745,
           0.13290390751867745,
           0.1210466470316286,
           0.11476299961714806,
           0.11476299961714806,
           0.11476299961714806,
           0.1732591329811807,
           0.046643453236680725,
           0.0888032897688051,
           0.12346799528016295,
           0.3620722304870863,
           0.3413864930579491,
           0.3413864930579491,
           0.3413864930579491,
           0.3620722304870863,
           0.36904298882512654,
           0.22690219333010678,
           0.22690219333010678,
           0.3689674762967987,
           0.3788878640415018,
           0.4029064042356334,
           0.20769762889604299,
           0.36899591317068625,
           0.3689674762967987,
           0.42068181986964187,
           0.42068181986964187,
           0.42068181986964187,
           0.19747401721543353,
           0.1012020973529666,
           0.12887415894759435,
           0.02809154107763633,
           0.0634394787132802,
           0.0634394787132802,
           0.15981346942769725,
           0.030242176287585833,
           0.42070235153374824,
           0.42070235153374824,
           1,
           0.3620722304870863,
           0.5239433187803657,
           0.5017898103426928,
           0.5017898103426928,
           0.5083521892229413,
           0.5316798457465768,
           0.5316798457465768,
           0.5011660674086831,
           0.547252676326963,
           0.547252676326963,
           0.5728312614680579,
           0.5391699178094003,
           0.5602357539672718,
           0.09108190948327063,
           0.1353867145688953,
           0.10226578973315269,
           0.10226578973315269,
           0.10226888777225597,
           0.10226578973315269,
           0.06349980551147325,
           0.31391239803192156,
           0.08251346555115766,
           0.16192906648014363,
           0.2901850554269649,
           0.3057012377210951,
           0.23523320300765432,
           0.29171366538194193,
           0.2969001730076262,
           0.17092135950429602,
           0.22326913107308544,
           0.035708585234968754,
           0.04563268043051536,
           0.07916327044313218,
           0.12412046650464019,
           0.0019188694401795301,
           0.0839430578318325,
           0.10274379200554305,
           0.03064573279083323,
           0.05873738016700149,
           0.03200388292884867,
           0.05631917738891245,
           0.04561806106964158,
           0.04561806106964158,
           0.04561806106964158
          ],
          [
           0.2513072341355524,
           0.2381181874805562,
           0.2381181874805562,
           0.2381181874805562,
           0.16676297586405409,
           0.23085424725265744,
           0.23085424725265744,
           0.23085424725265744,
           0.2607273583442675,
           0.2610071485398317,
           0.2809051240368001,
           0.23291875906096188,
           0.693982104206276,
           0.5816133934624684,
           0.5816133934624684,
           0.5816133934624684,
           0.5224160950327029,
           0.5020822289111014,
           0.39095774547380985,
           0.39095774547380985,
           0.5615755172191534,
           0.5300316829381366,
           0.41359432388146833,
           0.22568434214384916,
           0.3754041558597524,
           0.39097161120424184,
           0.4053797134683844,
           0.4053797134683844,
           0.4504206734175669,
           0.4031957776141031,
           0.24901194122940695,
           0.29023056653592694,
           0.21069883018208393,
           0.16719602582175247,
           0.1648273561747586,
           0.16601206886952435,
           0.14336824502990617,
           0.7770060285795225,
           0.7770060285795225,
           0.3620722304870863,
           1,
           0.5365842931324791,
           0.5762925878546614,
           0.5762925878546614,
           0.6649506042133736,
           0.6783153867442812,
           0.6783153867442812,
           0.7110444700371746,
           0.6581018053977556,
           0.6581018053977556,
           0.5962786893410716,
           0.44896440503987617,
           0.4376484523929708,
           0.3085276787297559,
           0.22877539979618833,
           0.05505174956479159,
           0.05388681435788906,
           0.0509503333010776,
           0.045834934052823684,
           0.056004649962673826,
           0.08730032084577652,
           0.07417936553234611,
           0.016313188681329225,
           0.23825626208958017,
           0.3369652961889903,
           0.34683382130445933,
           0.3546982658560903,
           0.2645439169807572,
           0.08694582842436877,
           0.05867425340163909,
           0.05550614947050784,
           0.11475645937929171,
           0.15125238203630606,
           0.09165166476606125,
           0.024262263507730367,
           0.035423295014208774,
           0.04661081046308798,
           0.08469284601338027,
           0.2815337211600063,
           0.17653249837756305,
           0.0801059969411241,
           0.22314173479275057,
           0.22314173479275057,
           0.22314173479275057
          ],
          [
           0.31087378438466684,
           0.2866409708291216,
           0.2866409708291216,
           0.2866409708291216,
           0.1668119734185335,
           0.15815260406646972,
           0.15815260406646972,
           0.15815260406646972,
           0.201958521764898,
           0.05448560683570541,
           0.15027459812342106,
           0.24858907739580957,
           0.48719383082488765,
           0.4630177790924802,
           0.4630177790924802,
           0.4630177790924802,
           0.45687630144593777,
           0.471056112393148,
           0.45975087700604844,
           0.45975087700604844,
           0.5668856219207159,
           0.43699525707284786,
           0.4915499890881038,
           0.30239748839548647,
           0.36134342647944884,
           0.3227585101827089,
           0.3360560907122722,
           0.3360560907122722,
           0.26222079327945197,
           0.30933006238781113,
           0.14557457289725867,
           0.21966673414625354,
           0.20954846935846372,
           0.17581536996339528,
           0.17581536996339528,
           0.1452208972281486,
           0.003529323252709044,
           0.514497773728353,
           0.514497773728353,
           0.5239433187803657,
           0.5365842931324791,
           1,
           0.9529966155108327,
           0.9529966155108327,
           0.6214472365327534,
           0.655352700823648,
           0.655352700823648,
           0.8050734322584021,
           0.7481598385002878,
           0.7481598385002878,
           0.9146555958513828,
           0.7047203878869037,
           0.5086679720365315,
           0.5542683343552314,
           0.2662441382723149,
           0.22256359234620518,
           0.22154019088410637,
           0.22200811311326754,
           0.22230885241861573,
           0.07533410112635511,
           0.15020848280770646,
           0.20848830198722043,
           0.06379955812736159,
           0.12334035245072136,
           0.13559039702949952,
           0.2512261005128713,
           0.22205617195205787,
           0.22509022858799882,
           0.06276755765144842,
           0.06167195616038164,
           0.05845324661538626,
           0.110055582886141,
           0.08657329204073,
           0.07819025528265935,
           0.07426962416627586,
           0.17712730805912974,
           0.06776529981636147,
           0.08295670142929273,
           0.3574394745812136,
           0.04410391365092514,
           0.32576689693127614,
           0.3643700084510418,
           0.3643700084510418,
           0.3643700084510418
          ],
          [
           0.18263466931958228,
           0.1573490541545511,
           0.1573490541545511,
           0.1573490541545511,
           0.042907596804799664,
           0.02718347321357576,
           0.02718347321357576,
           0.02718347321357576,
           0.16948377585448873,
           0.06689035404149052,
           0.12943627313211625,
           0.20941656713930587,
           0.4262898643769414,
           0.41366269848365106,
           0.41366269848365106,
           0.41366269848365106,
           0.39014449037092336,
           0.4043465323703719,
           0.39507460180461756,
           0.39507460180461756,
           0.5132625031782461,
           0.37639045312913233,
           0.4153817017574534,
           0.22115140713459422,
           0.2894021020016203,
           0.2592493844104783,
           0.2531960368054884,
           0.2531960368054884,
           0.18703381001096617,
           0.2565012227455928,
           0.07674988453268378,
           0.14683351969394384,
           0.14012988164947904,
           0.09947168590131894,
           0.09947168590131894,
           0.07008687042468176,
           0.06648817897351754,
           0.4574946493990836,
           0.4574946493990836,
           0.5017898103426928,
           0.5762925878546614,
           0.9529966155108327,
           1,
           1,
           0.7559050919202119,
           0.759408895802548,
           0.759408895802548,
           0.8708430492362266,
           0.7155359419844377,
           0.7155359419844377,
           0.8704550650119405,
           0.6991177635829727,
           0.4955759221581538,
           0.5422586091990824,
           0.2666516251497215,
           0.23927341236428298,
           0.23929984011302616,
           0.23657554613891854,
           0.23474740582151518,
           0.11022258507518078,
           0.1408063549429172,
           0.1976551787300429,
           0.11976198637228781,
           0.09598250138609082,
           0.11856001782557317,
           0.22874130789904445,
           0.20000330982738382,
           0.20378055222160285,
           0.04580231720352384,
           0.07212477938724726,
           0.07133764087728628,
           0.11984113713284916,
           0.1021382656283932,
           0.07481322532357286,
           0.03401754966656655,
           0.19202654925618792,
           0.048518121246698874,
           0.08909961665807696,
           0.31443463479367495,
           0.052276114404611704,
           0.30831299759821956,
           0.33733944792607834,
           0.33733944792607834,
           0.33733944792607834
          ],
          [
           0.18263466931958228,
           0.1573490541545511,
           0.1573490541545511,
           0.1573490541545511,
           0.042907596804799664,
           0.02718347321357576,
           0.02718347321357576,
           0.02718347321357576,
           0.16948377585448873,
           0.06689035404149052,
           0.12943627313211625,
           0.20941656713930587,
           0.4262898643769414,
           0.41366269848365106,
           0.41366269848365106,
           0.41366269848365106,
           0.39014449037092336,
           0.4043465323703719,
           0.39507460180461756,
           0.39507460180461756,
           0.5132625031782461,
           0.37639045312913233,
           0.4153817017574534,
           0.22115140713459422,
           0.2894021020016203,
           0.2592493844104783,
           0.2531960368054884,
           0.2531960368054884,
           0.18703381001096617,
           0.2565012227455928,
           0.07674988453268378,
           0.14683351969394384,
           0.14012988164947904,
           0.09947168590131894,
           0.09947168590131894,
           0.07008687042468176,
           0.06648817897351754,
           0.4574946493990836,
           0.4574946493990836,
           0.5017898103426928,
           0.5762925878546614,
           0.9529966155108327,
           1,
           1,
           0.7559050919202119,
           0.759408895802548,
           0.759408895802548,
           0.8708430492362266,
           0.7155359419844377,
           0.7155359419844377,
           0.8704550650119405,
           0.6991177635829727,
           0.4955759221581538,
           0.5422586091990824,
           0.2666516251497215,
           0.23927341236428298,
           0.23929984011302616,
           0.23657554613891854,
           0.23474740582151518,
           0.11022258507518078,
           0.1408063549429172,
           0.1976551787300429,
           0.11976198637228781,
           0.09598250138609082,
           0.11856001782557317,
           0.22874130789904445,
           0.20000330982738382,
           0.20378055222160285,
           0.04580231720352384,
           0.07212477938724726,
           0.07133764087728628,
           0.11984113713284916,
           0.1021382656283932,
           0.07481322532357286,
           0.03401754966656655,
           0.19202654925618792,
           0.048518121246698874,
           0.08909961665807696,
           0.31443463479367495,
           0.052276114404611704,
           0.30831299759821956,
           0.33733944792607834,
           0.33733944792607834,
           0.33733944792607834
          ],
          [
           0.0738265763232332,
           0.053906014758734334,
           0.053906014758734334,
           0.053906014758734334,
           0.03101765040189288,
           0.0068666268102511255,
           0.0068666268102511255,
           0.0068666268102511255,
           0.11270500753576096,
           0.05023242775325164,
           0.023623570696024557,
           0.314807555459286,
           0.5292631373004855,
           0.5305164810775265,
           0.5305164810775265,
           0.5305164810775265,
           0.5174258796200045,
           0.5030321942585655,
           0.46337850291061167,
           0.46337850291061167,
           0.48403721364704894,
           0.40472268745385725,
           0.3615155868432161,
           0.2527799495977336,
           0.24616176712738888,
           0.25690393988071347,
           0.2169939544121075,
           0.2169939544121075,
           0.2761371860402861,
           0.27822946504797547,
           0.08784008228187053,
           0.09304161090834545,
           0.06906555526527454,
           0.016867516378298943,
           0.016867516378298943,
           0.005798910417488819,
           0.059775628028730356,
           0.5353515503627531,
           0.5353515503627531,
           0.5083521892229413,
           0.6649506042133736,
           0.6214472365327534,
           0.7559050919202119,
           0.7559050919202119,
           1,
           0.99377061237255,
           0.99377061237255,
           0.9271110143527715,
           0.8331465000406704,
           0.8331465000406704,
           0.7686454164029227,
           0.7133777812970028,
           0.7386008123819798,
           0.48833249229326403,
           0.43378679923551366,
           0.19676426391213975,
           0.19754943244355108,
           0.19248929414420546,
           0.18910615012355164,
           0.09811544779888365,
           0.07582868093535426,
           0.12049885135206485,
           0.0016783068550586294,
           0.19979703176841304,
           0.2182827307246872,
           0.36357170259767163,
           0.30112645839672575,
           0.23977697652086283,
           0.08427902572089208,
           0.08682163696323623,
           0.07502840219045082,
           0.13133795446000504,
           0.2416149060235752,
           0.009586784672982178,
           0.1513772198806357,
           0.1493007546915177,
           0.07951210349940149,
           0.11119072206874442,
           0.17478558723346646,
           0.07656063198719738,
           0.1563927428488065,
           0.24457964904453455,
           0.24457964904453455,
           0.24457964904453455
          ],
          [
           0.030760473318362958,
           0.008247605219254417,
           0.008247605219254417,
           0.008247605219254417,
           0.08379073969923054,
           0.061424466492146695,
           0.061424466492146695,
           0.061424466492146695,
           0.12493090518951355,
           0.05611722457511864,
           0.024916734942878726,
           0.35567273024785656,
           0.5854399278646069,
           0.5821709211356351,
           0.5821709211356351,
           0.5821709211356351,
           0.5759785652775978,
           0.559693571708316,
           0.5183142549855795,
           0.5183142549855795,
           0.5316267029033299,
           0.45228430670266484,
           0.4102165391418768,
           0.303276519466103,
           0.28864286116568166,
           0.297221855459598,
           0.26218658717231996,
           0.26218658717231996,
           0.32404382893435657,
           0.31863493886110267,
           0.12580417558178694,
           0.13082872682899227,
           0.105577094876817,
           0.05209889591278342,
           0.05209889591278342,
           0.039628892120462056,
           0.031019908554216317,
           0.5880558930381578,
           0.5880558930381578,
           0.5316798457465768,
           0.6783153867442812,
           0.655352700823648,
           0.759408895802548,
           0.759408895802548,
           0.99377061237255,
           1,
           1,
           0.938510009909378,
           0.8822114773246416,
           0.8822114773246416,
           0.8134500982065702,
           0.7526633684009523,
           0.7825074257273529,
           0.5200795257029629,
           0.4558350967036328,
           0.20118859678303933,
           0.20157248186019475,
           0.1975919686503984,
           0.19492831706327368,
           0.08919099144489152,
           0.08164017879540371,
           0.1274443334305659,
           0.025984412841888852,
           0.22158233305526057,
           0.2344492795950056,
           0.3947637377150274,
           0.3269389117358768,
           0.2618752337880235,
           0.096081203697076,
           0.08584335839652991,
           0.07314671230683681,
           0.1346420969308695,
           0.24807636506256467,
           0.004328392102641293,
           0.14685215546417563,
           0.14754582811296274,
           0.09102933575958026,
           0.11519223818217861,
           0.1888282574816113,
           0.07679274807530405,
           0.16934346495383906,
           0.26048004152729864,
           0.26048004152729864,
           0.26048004152729864
          ],
          [
           0.030760473318362958,
           0.008247605219254417,
           0.008247605219254417,
           0.008247605219254417,
           0.08379073969923054,
           0.061424466492146695,
           0.061424466492146695,
           0.061424466492146695,
           0.12493090518951355,
           0.05611722457511864,
           0.024916734942878726,
           0.35567273024785656,
           0.5854399278646069,
           0.5821709211356351,
           0.5821709211356351,
           0.5821709211356351,
           0.5759785652775978,
           0.559693571708316,
           0.5183142549855795,
           0.5183142549855795,
           0.5316267029033299,
           0.45228430670266484,
           0.4102165391418768,
           0.303276519466103,
           0.28864286116568166,
           0.297221855459598,
           0.26218658717231996,
           0.26218658717231996,
           0.32404382893435657,
           0.31863493886110267,
           0.12580417558178694,
           0.13082872682899227,
           0.105577094876817,
           0.05209889591278342,
           0.05209889591278342,
           0.039628892120462056,
           0.031019908554216317,
           0.5880558930381578,
           0.5880558930381578,
           0.5316798457465768,
           0.6783153867442812,
           0.655352700823648,
           0.759408895802548,
           0.759408895802548,
           0.99377061237255,
           1,
           1,
           0.938510009909378,
           0.8822114773246416,
           0.8822114773246416,
           0.8134500982065702,
           0.7526633684009523,
           0.7825074257273529,
           0.5200795257029629,
           0.4558350967036328,
           0.20118859678303933,
           0.20157248186019475,
           0.1975919686503984,
           0.19492831706327368,
           0.08919099144489152,
           0.08164017879540371,
           0.1274443334305659,
           0.025984412841888852,
           0.22158233305526057,
           0.2344492795950056,
           0.3947637377150274,
           0.3269389117358768,
           0.2618752337880235,
           0.096081203697076,
           0.08584335839652991,
           0.07314671230683681,
           0.1346420969308695,
           0.24807636506256467,
           0.004328392102641293,
           0.14685215546417563,
           0.14754582811296274,
           0.09102933575958026,
           0.11519223818217861,
           0.1888282574816113,
           0.07679274807530405,
           0.16934346495383906,
           0.26048004152729864,
           0.26048004152729864,
           0.26048004152729864
          ],
          [
           0.015948946628449166,
           0.031189254764986914,
           0.031189254764986914,
           0.031189254764986914,
           0.09074726536823846,
           0.07144309145255129,
           0.07144309145255129,
           0.07144309145255129,
           0.14793507253899577,
           0.03352690504998449,
           0.0062384242004848165,
           0.3697672287742803,
           0.5808787947316739,
           0.5627233690787579,
           0.5627233690787579,
           0.5627233690787579,
           0.5570809492477716,
           0.5353878207602022,
           0.5068794793646285,
           0.5068794793646285,
           0.5261649396936174,
           0.43915888682249604,
           0.4105603415510597,
           0.3022780255223634,
           0.2811360723495725,
           0.28439778336292904,
           0.2643998272925442,
           0.2643998272925442,
           0.3060136984021262,
           0.3316773817786563,
           0.11330773184211694,
           0.13164841784810902,
           0.10842093011845488,
           0.06679782526471446,
           0.06679782526471446,
           0.05764086201638962,
           0.06459333325590443,
           0.5866773167457446,
           0.5866773167457446,
           0.5011660674086831,
           0.7110444700371746,
           0.8050734322584021,
           0.8708430492362266,
           0.8708430492362266,
           0.9271110143527715,
           0.938510009909378,
           0.938510009909378,
           1,
           0.8999650879435929,
           0.8999650879435929,
           0.8693730577950078,
           0.7185958410769073,
           0.6808803142464668,
           0.5672610909234441,
           0.4190626462343521,
           0.22933473288700057,
           0.22935439836923113,
           0.22637964013159367,
           0.22438503841408194,
           0.09934063130876046,
           0.08171380905046656,
           0.1960398026568189,
           0.034616569538454496,
           0.1927019878034579,
           0.219830466413179,
           0.3777622858194115,
           0.3092112193080418,
           0.2728693362659111,
           0.09561826851923186,
           0.0703430599779173,
           0.08519926946185898,
           0.1344434327335941,
           0.21572286295354356,
           0.016128758211553334,
           0.09017437425731553,
           0.14254333065665603,
           0.07807373220631755,
           0.1150845690496249,
           0.27684041972912604,
           0.06825039344762804,
           0.09594628534030458,
           0.16521529256953368,
           0.16521529256953368,
           0.16521529256953368
          ],
          [
           0.14156290455989917,
           0.17026895731801991,
           0.17026895731801991,
           0.17026895731801991,
           0.2741153342721595,
           0.25988574465768094,
           0.25988574465768094,
           0.25988574465768094,
           0.20581991645726191,
           0.12434345116681118,
           0.02860013654253826,
           0.41577461939072324,
           0.6580095848995158,
           0.6409622864876635,
           0.6409622864876635,
           0.6409622864876635,
           0.6597802184657194,
           0.6433876034377921,
           0.5999220957415762,
           0.5999220957415762,
           0.5782975654677827,
           0.5108769353549817,
           0.4924261125462147,
           0.396760607653404,
           0.3519938791478395,
           0.3519667525450961,
           0.33871320971616287,
           0.33871320971616287,
           0.40238224170089926,
           0.3606711427889107,
           0.18953311594681424,
           0.19705662073769786,
           0.16345479800250026,
           0.12268674271244172,
           0.12268674271244172,
           0.1000943751452733,
           0.016733827900990445,
           0.6570873636565862,
           0.6570873636565862,
           0.547252676326963,
           0.6581018053977556,
           0.7481598385002878,
           0.7155359419844377,
           0.7155359419844377,
           0.8331465000406704,
           0.8822114773246416,
           0.8822114773246416,
           0.8999650879435929,
           1,
           1,
           0.9299057522767564,
           0.7185920469117119,
           0.8254700530283949,
           0.5540043915060341,
           0.5099672152087976,
           0.17772738692412024,
           0.17666357802679541,
           0.17694248901822543,
           0.17711949612564892,
           0.03832198392389308,
           0.04925731337255632,
           0.1507030326200889,
           0.08772961310198918,
           0.2617261897634809,
           0.2753369353599789,
           0.42739350654563085,
           0.3538898963402822,
           0.265828541779915,
           0.10927823183275362,
           0.051136095125000794,
           0.05470190050526453,
           0.11639535398833198,
           0.260473349111629,
           0.036218387731334886,
           0.10331272684167475,
           0.13464065176300585,
           0.1258881942113106,
           0.11559698163513167,
           0.3572692617303455,
           0.07247416828287823,
           0.18586131978551437,
           0.2774711938731786,
           0.2774711938731786,
           0.2774711938731786
          ],
          [
           0.14156290455989917,
           0.17026895731801991,
           0.17026895731801991,
           0.17026895731801991,
           0.2741153342721595,
           0.25988574465768094,
           0.25988574465768094,
           0.25988574465768094,
           0.20581991645726191,
           0.12434345116681118,
           0.02860013654253826,
           0.41577461939072324,
           0.6580095848995158,
           0.6409622864876635,
           0.6409622864876635,
           0.6409622864876635,
           0.6597802184657194,
           0.6433876034377921,
           0.5999220957415762,
           0.5999220957415762,
           0.5782975654677827,
           0.5108769353549817,
           0.4924261125462147,
           0.396760607653404,
           0.3519938791478395,
           0.3519667525450961,
           0.33871320971616287,
           0.33871320971616287,
           0.40238224170089926,
           0.3606711427889107,
           0.18953311594681424,
           0.19705662073769786,
           0.16345479800250026,
           0.12268674271244172,
           0.12268674271244172,
           0.1000943751452733,
           0.016733827900990445,
           0.6570873636565862,
           0.6570873636565862,
           0.547252676326963,
           0.6581018053977556,
           0.7481598385002878,
           0.7155359419844377,
           0.7155359419844377,
           0.8331465000406704,
           0.8822114773246416,
           0.8822114773246416,
           0.8999650879435929,
           1,
           1,
           0.9299057522767564,
           0.7185920469117119,
           0.8254700530283949,
           0.5540043915060341,
           0.5099672152087976,
           0.17772738692412024,
           0.17666357802679541,
           0.17694248901822543,
           0.17711949612564892,
           0.03832198392389308,
           0.04925731337255632,
           0.1507030326200889,
           0.08772961310198918,
           0.2617261897634809,
           0.2753369353599789,
           0.42739350654563085,
           0.3538898963402822,
           0.265828541779915,
           0.10927823183275362,
           0.051136095125000794,
           0.05470190050526453,
           0.11639535398833198,
           0.260473349111629,
           0.036218387731334886,
           0.10331272684167475,
           0.13464065176300585,
           0.1258881942113106,
           0.11559698163513167,
           0.3572692617303455,
           0.07247416828287823,
           0.18586131978551437,
           0.2774711938731786,
           0.2774711938731786,
           0.2774711938731786
          ],
          [
           0.27795563904630716,
           0.2769680303597591,
           0.2769680303597591,
           0.2769680303597591,
           0.2522578307585999,
           0.23916288509178954,
           0.23916288509178954,
           0.23916288509178954,
           0.2510334069482603,
           0.06528594413889878,
           0.147503768091455,
           0.3206007044884499,
           0.5739414429007285,
           0.5620220724482803,
           0.5620220724482803,
           0.5620220724482803,
           0.5674545675299806,
           0.5788824874502317,
           0.5518534863805682,
           0.5518534863805682,
           0.6023966083928373,
           0.4847006031001691,
           0.5190790252931492,
           0.35581734748381993,
           0.36551526395725753,
           0.3384198355900108,
           0.3319757415135821,
           0.3319757415135821,
           0.3173802719293993,
           0.32096926354590577,
           0.15828567174827732,
           0.20757009655922973,
           0.18807655335512646,
           0.14491973122263102,
           0.14491973122263102,
           0.1110883554611743,
           0.002267565357773273,
           0.5941794013022291,
           0.5941794013022291,
           0.5728312614680579,
           0.5962786893410716,
           0.9146555958513828,
           0.8704550650119405,
           0.8704550650119405,
           0.7686454164029227,
           0.8134500982065702,
           0.8134500982065702,
           0.8693730577950078,
           0.9299057522767564,
           0.9299057522767564,
           1,
           0.7704762219608284,
           0.7594615198209025,
           0.6059858343066338,
           0.43993350379311574,
           0.21532488405017278,
           0.21421135273461017,
           0.21450418735008042,
           0.21468858044127986,
           0.058300489952893386,
           0.08186460017071202,
           0.15919836833040438,
           0.01079361496588458,
           0.19084573382575729,
           0.20064856840995585,
           0.3343451091806307,
           0.2829619367835204,
           0.2234799981171855,
           0.06976442213022052,
           0.045634906161420075,
           0.05032289579148544,
           0.11584097773813279,
           0.1945201871361086,
           0.08439334911238036,
           0.00507699951797049,
           0.18582426864361545,
           0.10908932808510233,
           0.11177932613817375,
           0.39079132757997354,
           0.06669519793781711,
           0.11736759230120326,
           0.0950667648467313,
           0.0950667648467313,
           0.0950667648467313
          ],
          [
           0.21039558997830404,
           0.20964802999719725,
           0.20964802999719725,
           0.20964802999719725,
           0.19094390497420607,
           0.18103182393582357,
           0.18103182393582357,
           0.18103182393582357,
           0.24375641935172876,
           0.026031262177369317,
           0.09791915745991167,
           0.32075635786241524,
           0.5615995589005325,
           0.5473804755604211,
           0.5473804755604211,
           0.5473804755604211,
           0.5598550770630601,
           0.5597666108244839,
           0.5498979889412272,
           0.5498979889412272,
           0.5982635786290318,
           0.45990097336569286,
           0.4747465087562953,
           0.40012353881255097,
           0.3299865241487806,
           0.2995975669808757,
           0.296625103341575,
           0.296625103341575,
           0.296625103341575,
           0.39674296939102033,
           0.1398652627008542,
           0.18350231294219357,
           0.18953080152841092,
           0.15383783912102358,
           0.15383783912102358,
           0.23973513513317674,
           0.02430016136869525,
           0.5810954521635914,
           0.5810954521635914,
           0.5391699178094003,
           0.44896440503987617,
           0.7047203878869037,
           0.6991177635829727,
           0.6991177635829727,
           0.7133777812970028,
           0.7526633684009523,
           0.7526633684009523,
           0.7185958410769073,
           0.7185920469117119,
           0.7185920469117119,
           0.7704762219608284,
           1,
           0.8581658908183206,
           0.7490344282087421,
           0.365162336793817,
           0.31930187082929323,
           0.31805273301384424,
           0.3183835846985334,
           0.3185880777918938,
           0.11368044953716926,
           0.08848000241580999,
           0.10935241641762013,
           0.028384929081535486,
           0.10725289446640653,
           0.05777363069412425,
           0.3097053126532395,
           0.2399795166823361,
           0.2932892871635723,
           0.07090173775025559,
           0.03326633632381467,
           0.07894092907527107,
           0.14446984535729301,
           0.12826325208363823,
           0.03201017833423229,
           0.09484725673215247,
           0.13241519406727228,
           0.06711226053209517,
           0.1419582251837717,
           0.24128281161033788,
           0.05048422678882589,
           0.0888401613698896,
           0.07195978518688903,
           0.07195978518688903,
           0.07195978518688903
          ],
          [
           0.14181666335871276,
           0.1676359265199184,
           0.1676359265199184,
           0.1676359265199184,
           0.2599561949990696,
           0.2464616198692249,
           0.2464616198692249,
           0.2464616198692249,
           0.30699987072418317,
           0.2043089913516891,
           0.12244472953429412,
           0.2795163971840181,
           0.5144767801445131,
           0.5166125880525327,
           0.5166125880525327,
           0.5166125880525327,
           0.5426756651329214,
           0.5423502616246093,
           0.5046768191683986,
           0.5046768191683986,
           0.483818650812909,
           0.3916133844960866,
           0.392327109743909,
           0.3527583574307289,
           0.24215719204179612,
           0.23148523622164366,
           0.21281585591786312,
           0.21281585591786312,
           0.2826606627090752,
           0.2937108406717541,
           0.07948989359814941,
           0.08978568009564343,
           0.07159137756491912,
           0.04800031833554973,
           0.04800031833554973,
           0.1330547632380979,
           0.06946068101937179,
           0.5351243614717508,
           0.5351243614717508,
           0.5602357539672718,
           0.4376484523929708,
           0.5086679720365315,
           0.4955759221581538,
           0.4955759221581538,
           0.7386008123819798,
           0.7825074257273529,
           0.7825074257273529,
           0.6808803142464668,
           0.8254700530283949,
           0.8254700530283949,
           0.7594615198209025,
           0.8581658908183206,
           1,
           0.6341210341973098,
           0.5082238064918764,
           0.2299225754871052,
           0.22884374471976118,
           0.2289026994056318,
           0.22893044558508507,
           0.06238937989423701,
           0.0171741186145622,
           0.040807264918957455,
           0.043776219842096356,
           0.1657105193207174,
           0.1369315221098398,
           0.3251234901995269,
           0.2534239015357176,
           0.22563251273546947,
           0.0643922425122985,
           0.008164599174921064,
           0.056700392392763525,
           0.11413440315416337,
           0.23642661607463092,
           0.02202708159710251,
           0.007642647354698277,
           0.12092512942602594,
           0.10687228304870944,
           0.1438257003303109,
           0.1261426584450357,
           0.06873059134967469,
           0.16148497490955277,
           0.24518621041336996,
           0.24518621041336996,
           0.24518621041336996
          ],
          [
           0.18529330298222052,
           0.1846349343439288,
           0.1846349343439288,
           0.1846349343439288,
           0.16816239751338102,
           0.1594329263527986,
           0.1594329263527986,
           0.1594329263527986,
           0.24069787893911776,
           0.06479877895778484,
           0.12336875478009551,
           0.45221456662459697,
           0.3660024338876923,
           0.3660024338876923,
           0.3660024338876923,
           0.3660024338876923,
           0.3660024338876923,
           0.3660773395932965,
           0.4618049086060528,
           0.4618049086060528,
           0.4037202419600881,
           0.2241943033512761,
           0.24234357885942195,
           0.2885410879978933,
           0.07065149801168676,
           0.032329549776339235,
           0.010776516592113079,
           0.010776516592113079,
           0.010776516592113079,
           0.2743380754104577,
           0.032329549776339235,
           0.07069601572820254,
           0.14731985794698393,
           0.08813242744870742,
           0.08813242744870742,
           0.11375338848319172,
           0.12414449083738327,
           0.3564407035114978,
           0.3564407035114978,
           0.09108190948327063,
           0.3085276787297559,
           0.5542683343552314,
           0.5422586091990824,
           0.5422586091990824,
           0.48833249229326403,
           0.5200795257029629,
           0.5200795257029629,
           0.5672610909234441,
           0.5540043915060341,
           0.5540043915060341,
           0.6059858343066338,
           0.7490344282087421,
           0.6341210341973098,
           1,
           0.3981764646218577,
           0.4644353163011585,
           0.46285899764515154,
           0.4632783708546307,
           0.4635345627834402,
           0.18164350116482716,
           0.1834261384141589,
           0.09274085875727862,
           0.19998109485581128,
           0.0990157223589123,
           0.14614518769057142,
           0.17536460334540413,
           0.04963986531229481,
           0.0904167998743618,
           0.06239127696749893,
           0.1559608777689105,
           0.06855886778748356,
           0.1308102343575843,
           0.12635276604603807,
           0.07302405020786515,
           0.13010802814877992,
           0.11661674408806155,
           0.012814325757158757,
           0.20365771376357802,
           0.0816001014051797,
           0.04446095629271351,
           0.07824064629585546,
           0.06337426692519885,
           0.06337426692519885,
           0.06337426692519885
          ],
          [
           0.014834444212974978,
           0.036461827729976595,
           0.036461827729976595,
           0.036461827729976595,
           0.1215629000775652,
           0.17591999396901167,
           0.17591999396901167,
           0.17591999396901167,
           0.17133921508805422,
           0.20577020247985886,
           0.03157010844545902,
           0.2794831922457924,
           0.22930817858434488,
           0.2625558969195209,
           0.2625558969195209,
           0.2625558969195209,
           0.27364905829453484,
           0.2767645589826101,
           0.2760513393586654,
           0.2760513393586654,
           0.22589015260332587,
           0.1394207067777775,
           0.14052775569958445,
           0.09548890183090646,
           0.023394861512755896,
           0.03513914258500558,
           0.04437272529178207,
           0.04437272529178207,
           0.02560640916899373,
           0.036102170112316444,
           0.02560574718210079,
           0.03439189623640125,
           0.015102814939543201,
           0.05901148083812581,
           0.05736108797453713,
           0.07202781473176771,
           0.06091807790812948,
           0.23252899229542434,
           0.23252899229542434,
           0.1353867145688953,
           0.22877539979618833,
           0.2662441382723149,
           0.2666516251497215,
           0.2666516251497215,
           0.43378679923551366,
           0.4558350967036328,
           0.4558350967036328,
           0.4190626462343521,
           0.5099672152087976,
           0.5099672152087976,
           0.43993350379311574,
           0.365162336793817,
           0.5082238064918764,
           0.3981764646218577,
           1,
           0.4787352738671349,
           0.4704958011213219,
           0.46518515648409847,
           0.4510217860664643,
           0.2865363403408448,
           0.6418241407504329,
           0.30882242644007174,
           0.13494472177333428,
           0.10360835779682577,
           0.08585209855412629,
           0.12059718176202182,
           0.03439227221204969,
           0.35728724034215936,
           0.18153370050448672,
           0.11942532374802503,
           0.07781751712966063,
           0.12370346463330126,
           0.28404361233554576,
           0.23800257989342763,
           0.2759829998234739,
           0.010614953641537802,
           0.06062717945460248,
           0.29512062141400003,
           0.14053103571211303,
           0.15184632609627186,
           0.2839814405281245,
           0.23681364818897957,
           0.23681364818897957,
           0.23681364818897957
          ],
          [
           0.04058341719993432,
           0.03530567608049898,
           0.03530567608049898,
           0.03530567608049898,
           0.011234802642011528,
           0.004829600666675655,
           0.004829600666675655,
           0.004829600666675655,
           0.2286119329644338,
           0.11059900835090732,
           0.16605693040611297,
           0.13181048747925947,
           0.008412799551026438,
           0.024594226962894684,
           0.024594226962894684,
           0.024594226962894684,
           0.016719860233191275,
           0.011563588048063603,
           0.06343651329787664,
           0.06343651329787664,
           0.04746581035676016,
           0.05653106247140928,
           0.04776423818148691,
           0.04116031248181486,
           0.13223363473638078,
           0.14578605273504824,
           0.184052015989688,
           0.184052015989688,
           0.18500727865659425,
           0.060222033737209045,
           0.15499751141147977,
           0.13204544262654,
           0.0845397822937381,
           0.1225554009513262,
           0.1236491163605656,
           0.1011337181400825,
           0.1837313099942465,
           0.05835084523636325,
           0.05835084523636325,
           0.10226578973315269,
           0.05505174956479159,
           0.22256359234620518,
           0.23927341236428298,
           0.23927341236428298,
           0.19676426391213975,
           0.20118859678303933,
           0.20118859678303933,
           0.22933473288700057,
           0.17772738692412024,
           0.17772738692412024,
           0.21532488405017278,
           0.31930187082929323,
           0.2299225754871052,
           0.4644353163011585,
           0.4787352738671349,
           1,
           0.9978189316249797,
           0.9962133087083455,
           0.9910333855693608,
           0.6190277950531026,
           0.48595269901836563,
           0.1648175908334891,
           0.2872168426738292,
           0.3334891682258429,
           0.4019900164124165,
           0.2281550060792135,
           0.008487487432241394,
           0.2991597793460278,
           0.35527154860492666,
           0.1794247907757986,
           0.11957352899559869,
           0.2289308518447113,
           0.041494846689544465,
           0.019873736804963467,
           0.0952516640166716,
           0.04795080962622754,
           0.10729574280327184,
           0.31297995047756444,
           0.09161971745924787,
           0.04992028420748762,
           0.08784775734359812,
           0.07115594625358038,
           0.07115594625358038,
           0.07115594625358038
          ],
          [
           0.03391930250898937,
           0.02846095138455833,
           0.02846095138455833,
           0.02846095138455833,
           0.004168194591999363,
           0.01214544546353345,
           0.01214544546353345,
           0.01214544546353345,
           0.22874586842394745,
           0.10581310446873125,
           0.16133176701136323,
           0.13079150925282465,
           0.006522307997576611,
           0.022646482359710708,
           0.022646482359710708,
           0.022646482359710708,
           0.015177099577123428,
           0.009622399426210963,
           0.061553180504498206,
           0.061553180504498206,
           0.04440963362613536,
           0.058613375451873055,
           0.05068939498272634,
           0.04452440293712155,
           0.1344639988046515,
           0.14826318858809423,
           0.18560116734988588,
           0.18560116734988588,
           0.1864629869122093,
           0.06075159368745447,
           0.15727295313168307,
           0.1349345867671118,
           0.08729355014245352,
           0.1252359247867397,
           0.12644084585806592,
           0.1039958919357958,
           0.18876661183238996,
           0.060059360898181945,
           0.060059360898181945,
           0.10226578973315269,
           0.05388681435788906,
           0.22154019088410637,
           0.23929984011302616,
           0.23929984011302616,
           0.19754943244355108,
           0.20157248186019475,
           0.20157248186019475,
           0.22935439836923113,
           0.17666357802679541,
           0.17666357802679541,
           0.21421135273461017,
           0.31805273301384424,
           0.22884374471976118,
           0.46285899764515154,
           0.4704958011213219,
           0.9978189316249797,
           1,
           0.9982126819526114,
           0.9952743518541226,
           0.6240422334174163,
           0.48184281484796976,
           0.1738793751329419,
           0.27746529911718576,
           0.3318615468261861,
           0.4001618374068543,
           0.23524006377657167,
           0.01215939588076484,
           0.30093950465499475,
           0.35655745560626395,
           0.1771053105057889,
           0.12403839836976947,
           0.2313032148610553,
           0.039804289861282906,
           0.03176563956233471,
           0.08936534391180766,
           0.05321884132910426,
           0.1019832585014678,
           0.3190316607403423,
           0.09161971745924787,
           0.04992028420748762,
           0.08784775734359812,
           0.07115594625358038,
           0.07115594625358038,
           0.07115594625358038
          ],
          [
           0.04225072577708188,
           0.037017978642893246,
           0.037017978642893246,
           0.037017978642893246,
           0.013001848520488952,
           0.0030007303688117876,
           0.0030007303688117876,
           0.0030007303688117876,
           0.2319154369984731,
           0.11183700701013768,
           0.1673142047080371,
           0.13620454058813403,
           0.009244286002952181,
           0.024936378404581815,
           0.024936378404581815,
           0.024936378404581815,
           0.01845503670589537,
           0.012888976357467464,
           0.06480447673354846,
           0.06480447673354846,
           0.046368556424247066,
           0.05637585943306781,
           0.04730960480356525,
           0.040952327676775827,
           0.131664466166218,
           0.1455564075339833,
           0.18276511437540946,
           0.18276511437540946,
           0.18361317294047333,
           0.0603637870128444,
           0.1541616402911903,
           0.13185295737984246,
           0.08413383509143055,
           0.1219607778440709,
           0.12309159606330054,
           0.10035441876531638,
           0.18318021821379005,
           0.059263882917457676,
           0.059263882917457676,
           0.10226888777225597,
           0.0509503333010776,
           0.22200811311326754,
           0.23657554613891854,
           0.23657554613891854,
           0.19248929414420546,
           0.1975919686503984,
           0.1975919686503984,
           0.22637964013159367,
           0.17694248901822543,
           0.17694248901822543,
           0.21450418735008042,
           0.3183835846985334,
           0.2289026994056318,
           0.4632783708546307,
           0.46518515648409847,
           0.9962133087083455,
           0.9982126819526114,
           1,
           0.9970009405924503,
           0.6228380879053793,
           0.4779622634252459,
           0.17333594403493244,
           0.2836144793301224,
           0.33263062984846786,
           0.4040919960072519,
           0.2427902188279589,
           0.013903071768501803,
           0.29850180388024594,
           0.35584008727671596,
           0.18004636625424705,
           0.12372444458587013,
           0.22873700538170733,
           0.03599279741216984,
           0.044778533868657315,
           0.09944717339983712,
           0.053220453540303136,
           0.10127599765086154,
           0.3165003162364458,
           0.09162249298631378,
           0.04992179649222063,
           0.08785041860293125,
           0.07115810185130764,
           0.07115810185130764,
           0.07115810185130764
          ],
          [
           0.04058341719993432,
           0.03530567608049898,
           0.03530567608049898,
           0.03530567608049898,
           0.011234802642011528,
           0.004829600666675655,
           0.004829600666675655,
           0.004829600666675655,
           0.23592724775497442,
           0.10971688864431366,
           0.16504437359240773,
           0.14115917010466186,
           0.009857178468483392,
           0.025075069605227124,
           0.025075069605227124,
           0.025075069605227124,
           0.020152968831380184,
           0.013976353144092865,
           0.06577354125479244,
           0.06577354125479244,
           0.04477115121107874,
           0.05654954570277506,
           0.04760908958428022,
           0.04055630629251555,
           0.13120579307248426,
           0.145677418743245,
           0.18149867039151094,
           0.18149867039151094,
           0.18233751214123203,
           0.05876026903218466,
           0.15338510723936827,
           0.13194795738011109,
           0.08437132742468549,
           0.12170370909167767,
           0.12298276727106179,
           0.10040824944194063,
           0.18611809924029346,
           0.0619303248576611,
           0.0619303248576611,
           0.10226578973315269,
           0.045834934052823684,
           0.22230885241861573,
           0.23474740582151518,
           0.23474740582151518,
           0.18910615012355164,
           0.19492831706327368,
           0.19492831706327368,
           0.22438503841408194,
           0.17711949612564892,
           0.17711949612564892,
           0.21468858044127986,
           0.3185880777918938,
           0.22893044558508507,
           0.4635345627834402,
           0.4510217860664643,
           0.9910333855693608,
           0.9952743518541226,
           0.9970009405924503,
           1,
           0.6222104731979019,
           0.46728580670764813,
           0.1873230315289918,
           0.27700062485424,
           0.3232626027567537,
           0.4004621029064847,
           0.24853449788285048,
           0.015309099752541471,
           0.2939759882949097,
           0.352982345799223,
           0.1789173482249971,
           0.12122597148330308,
           0.22591097648042469,
           0.0328769177228415,
           0.04317812676810864,
           0.08895837160637288,
           0.05321884132910426,
           0.08827433698431633,
           0.3112243232106447,
           0.09161971745924787,
           0.04992028420748762,
           0.08784775734359812,
           0.07115594625358038,
           0.07115594625358038,
           0.07115594625358038
          ],
          [
           0.023833982474802916,
           0.0284399828484746,
           0.0284399828484746,
           0.0284399828484746,
           0.04501886828359874,
           0.056827564919840416,
           0.056827564919840416,
           0.056827564919840416,
           0.08013927802136898,
           0.07492686315725143,
           0.10858465688082482,
           0.0689304911894269,
           0.07910133546592235,
           0.06040722624301712,
           0.06040722624301712,
           0.06040722624301712,
           0.0874763415387523,
           0.08948764144653257,
           0.06765389653651244,
           0.06765389653651244,
           0.02885350900317568,
           0.09542491673959767,
           0.09759974352134364,
           0.10339600717921171,
           0.13611035210141986,
           0.13138327404122,
           0.16662414096468978,
           0.16662414096468978,
           0.16783354409838888,
           0.12346430463534976,
           0.15164223900819457,
           0.13059810271424271,
           0.10871832948758774,
           0.13243926376872542,
           0.13243926376872542,
           0.11880224010389288,
           0.1120859877282371,
           0.02774213035366561,
           0.02774213035366561,
           0.06349980551147325,
           0.056004649962673826,
           0.07533410112635511,
           0.11022258507518078,
           0.11022258507518078,
           0.09811544779888365,
           0.08919099144489152,
           0.08919099144489152,
           0.09934063130876046,
           0.03832198392389308,
           0.03832198392389308,
           0.058300489952893386,
           0.11368044953716926,
           0.06238937989423701,
           0.18164350116482716,
           0.2865363403408448,
           0.6190277950531026,
           0.6240422334174163,
           0.6228380879053793,
           0.6222104731979019,
           1,
           0.2981512017275089,
           0.1291587756182769,
           0.16978116988466913,
           0.1851817622360822,
           0.22845377556667762,
           0.14953185645386094,
           0.2093819796358763,
           0.1989231851341709,
           0.39618969753991556,
           0.024371601110023164,
           0.10360194695748634,
           0.39510218025381894,
           0.0922082648536333,
           0.020268148494039358,
           0.04152817387230886,
           0.02176824232272005,
           0.06769565041525054,
           0.15557549422722433,
           0.05688934935973348,
           0.030996957501862432,
           0.05454722953290008,
           0.044182798175981024,
           0.044182798175981024,
           0.044182798175981024
          ],
          [
           0.045844932212141566,
           0.05540204146293957,
           0.05540204146293957,
           0.05540204146293957,
           0.09007170989238249,
           0.14771079417855038,
           0.14771079417855038,
           0.14771079417855038,
           0.09370309578169334,
           0.060250321538148764,
           0.051820811241029635,
           0.10485297846298655,
           0.050903775675279504,
           0.029981733517633974,
           0.029981733517633974,
           0.029981733517633974,
           0.01700496403880296,
           0.016497325876416086,
           0.021392090619338087,
           0.021392090619338087,
           0.029457562380472754,
           0.05485562005843567,
           0.030227813376469105,
           0.06477427181242,
           0.06245152862517976,
           0.06155393091547679,
           0.11040656797290074,
           0.11040656797290074,
           0.09148509391900793,
           0.02542643795646158,
           0.04419352525023962,
           0.0331407805589712,
           0.07671883001284704,
           0.06955662447103636,
           0.07190626364727284,
           0.07072110739142086,
           0.04990420927916956,
           0.11177853604053446,
           0.11177853604053446,
           0.31391239803192156,
           0.08730032084577652,
           0.15020848280770646,
           0.1408063549429172,
           0.1408063549429172,
           0.07582868093535426,
           0.08164017879540371,
           0.08164017879540371,
           0.08171380905046656,
           0.04925731337255632,
           0.04925731337255632,
           0.08186460017071202,
           0.08848000241580999,
           0.0171741186145622,
           0.1834261384141589,
           0.6418241407504329,
           0.48595269901836563,
           0.48184281484796976,
           0.4779622634252459,
           0.46728580670764813,
           0.2981512017275089,
           1,
           0.3201823590886682,
           0.23800836838019945,
           0.3473555072326199,
           0.29598672219120226,
           0.11174595820818956,
           0.2068917713138807,
           0.7999752543579974,
           0.38327704026968834,
           0.34449904105114154,
           0.00446259314440087,
           0.03737703166569352,
           0.03475583651732602,
           0.11038749021367066,
           0.07978156672395981,
           0.26913258661193984,
           0.0443570372728198,
           0.3430283196133676,
           0.004990803519696204,
           0.16516800515063979,
           0.17323783613156032,
           0.09276725913604629,
           0.09276725913604629,
           0.09276725913604629
          ],
          [
           0.23645378665812458,
           0.24218799461298762,
           0.24218799461298762,
           0.24218799461298762,
           0.24737359432048567,
           0.2902675256394624,
           0.2902675256394624,
           0.2902675256394624,
           0.28441303458401795,
           0.18799623310308533,
           0.2118089963676178,
           0.2177734853294586,
           0.2688277780468033,
           0.33368282670314314,
           0.33368282670314314,
           0.33368282670314314,
           0.328612893217421,
           0.32168016107227143,
           0.2782706780858145,
           0.2782706780858145,
           0.3730072723779648,
           0.35135802520513837,
           0.3954440452561007,
           0.3665927075866671,
           0.38112406671884036,
           0.39504748541361057,
           0.3246978570326032,
           0.3246978570326032,
           0.31616933247887774,
           0.2482531991168001,
           0.37741561954620895,
           0.39117185256926035,
           0.40113950554266475,
           0.3883064592970376,
           0.3932978582838,
           0.389811440460348,
           0.3984455388715556,
           0.12901597201358364,
           0.12901597201358364,
           0.08251346555115766,
           0.07417936553234611,
           0.20848830198722043,
           0.1976551787300429,
           0.1976551787300429,
           0.12049885135206485,
           0.1274443334305659,
           0.1274443334305659,
           0.1960398026568189,
           0.1507030326200889,
           0.1507030326200889,
           0.15919836833040438,
           0.10935241641762013,
           0.040807264918957455,
           0.09274085875727862,
           0.30882242644007174,
           0.1648175908334891,
           0.1738793751329419,
           0.17333594403493244,
           0.1873230315289918,
           0.1291587756182769,
           0.3201823590886682,
           1,
           0.15882445565549333,
           0.3101670503515771,
           0.3194083269018267,
           0.443922905435805,
           0.41108734565641514,
           0.16671383799489267,
           0.07449605341458065,
           0.06445907284116419,
           0.0031111709494897975,
           0.18515365773987513,
           0.07924096829615332,
           0.15933782602293547,
           0.45276157905571746,
           0.11766049989466328,
           0.12593027307484161,
           0.05040748491764506,
           0.07947367177221773,
           0.10362493207991168,
           0.054594527594055565,
           0.007521382245103914,
           0.007521382245103914,
           0.007521382245103914
          ],
          [
           0.08839617205482533,
           0.10893125665573027,
           0.10893125665573027,
           0.10893125665573027,
           0.18418052201338167,
           0.19598682027036202,
           0.19598682027036202,
           0.19598682027036202,
           0.31481238984035365,
           0.237831251947612,
           0.33047051852793674,
           0.11929315320787183,
           0.23585628520229326,
           0.2945527845488996,
           0.2945527845488996,
           0.2945527845488996,
           0.29385885201808637,
           0.2695417715170982,
           0.17380616248335615,
           0.17380616248335615,
           0.25524709360786835,
           0.32373629504916734,
           0.29727334041217174,
           0.31411890005730103,
           0.34951613984649466,
           0.3738953146222501,
           0.3809556542551831,
           0.3809556542551831,
           0.4002178160606832,
           0.23618202941693098,
           0.3620858561531334,
           0.3324413442921968,
           0.31229743257867737,
           0.31873037927391623,
           0.31814471051789767,
           0.28437877975035114,
           0.36273324915670785,
           0.16371470656443196,
           0.16371470656443196,
           0.16192906648014363,
           0.016313188681329225,
           0.06379955812736159,
           0.11976198637228781,
           0.11976198637228781,
           0.0016783068550586294,
           0.025984412841888852,
           0.025984412841888852,
           0.034616569538454496,
           0.08772961310198918,
           0.08772961310198918,
           0.01079361496588458,
           0.028384929081535486,
           0.043776219842096356,
           0.19998109485581128,
           0.13494472177333428,
           0.2872168426738292,
           0.27746529911718576,
           0.2836144793301224,
           0.27700062485424,
           0.16978116988466913,
           0.23800836838019945,
           0.15882445565549333,
           1,
           0.4714086647930607,
           0.2883899100438163,
           0.44134634067935563,
           0.449828384369761,
           0.2859877515113984,
           0.23717581143782596,
           0.16889157704001978,
           0.05119820890808344,
           0.043404705478058754,
           0.03565392545518453,
           0.35159012094600034,
           0.19570387233443898,
           0.11832187577687707,
           0.11652648249901959,
           0.08172131094074961,
           0.09075892591872765,
           0.016104620181331866,
           0.17601904643903765,
           0.20238323181678095,
           0.20238323181678095,
           0.20238323181678095
          ],
          [
           0.07154099907501957,
           0.09157677978599575,
           0.09157677978599575,
           0.09157677978599575,
           0.16609544866383666,
           0.16063091343588148,
           0.16063091343588148,
           0.16063091343588148,
           0.2598781003932539,
           0.1946937238446223,
           0.26946500667698126,
           0.12790728919962957,
           0.3704823956471613,
           0.38919500791738826,
           0.38919500791738826,
           0.38919500791738826,
           0.3898176873609283,
           0.3793145538699046,
           0.2848563042672077,
           0.2848563042672077,
           0.35105842805969995,
           0.4037323549050422,
           0.37122684355346713,
           0.3094751792467004,
           0.39481079290592397,
           0.41728988339938283,
           0.39952909409389087,
           0.39952909409389087,
           0.43216307943219917,
           0.28031080480178383,
           0.35581790775712496,
           0.3401094830112245,
           0.29859215107483,
           0.293886003007998,
           0.2923699110264154,
           0.2747821649386332,
           0.3220198908082466,
           0.33512708689475185,
           0.33512708689475185,
           0.2901850554269649,
           0.23825626208958017,
           0.12334035245072136,
           0.09598250138609082,
           0.09598250138609082,
           0.19979703176841304,
           0.22158233305526057,
           0.22158233305526057,
           0.1927019878034579,
           0.2617261897634809,
           0.2617261897634809,
           0.19084573382575729,
           0.10725289446640653,
           0.1657105193207174,
           0.0990157223589123,
           0.10360835779682577,
           0.3334891682258429,
           0.3318615468261861,
           0.33263062984846786,
           0.3232626027567537,
           0.1851817622360822,
           0.3473555072326199,
           0.3101670503515771,
           0.4714086647930607,
           1,
           0.7119288697321544,
           0.6119600625313032,
           0.6651450548340158,
           0.4482949637880447,
           0.33574686286794475,
           0.2643108757787223,
           0.10682030060193948,
           0.06823094228165306,
           0.01835994815307409,
           0.09580761040106962,
           0.3073783737474348,
           0.11418713341974016,
           0.46284966004110945,
           0.20527011813860624,
           0.13862107672256202,
           0.03433828569467305,
           0.14603965070036828,
           0.20190908671836644,
           0.20190908671836644,
           0.20190908671836644
          ],
          [
           0.08175268302082316,
           0.10303285919573575,
           0.10303285919573575,
           0.10303285919573575,
           0.1817486744938623,
           0.14472489357916068,
           0.14472489357916068,
           0.14472489357916068,
           0.3416599471237916,
           0.2717337100475154,
           0.3134826315037424,
           0.1129745213485463,
           0.4200700894537551,
           0.4404161130934742,
           0.4404161130934742,
           0.4404161130934742,
           0.43456586952551307,
           0.4360475145493399,
           0.3391377140250057,
           0.3391377140250057,
           0.397231614155706,
           0.4726946747129685,
           0.4298151445024708,
           0.35686526003353236,
           0.467914619061663,
           0.4921359580399062,
           0.4589684567708048,
           0.4589684567708048,
           0.4922812983381806,
           0.3601992581883484,
           0.4299501738820884,
           0.41352625227639583,
           0.3607445053542887,
           0.36033554955764885,
           0.3575927440191297,
           0.332615649004837,
           0.3871989858131572,
           0.39965513979380174,
           0.39965513979380174,
           0.3057012377210951,
           0.3369652961889903,
           0.13559039702949952,
           0.11856001782557317,
           0.11856001782557317,
           0.2182827307246872,
           0.2344492795950056,
           0.2344492795950056,
           0.219830466413179,
           0.2753369353599789,
           0.2753369353599789,
           0.20064856840995585,
           0.05777363069412425,
           0.1369315221098398,
           0.14614518769057142,
           0.08585209855412629,
           0.4019900164124165,
           0.4001618374068543,
           0.4040919960072519,
           0.4004621029064847,
           0.22845377556667762,
           0.29598672219120226,
           0.3194083269018267,
           0.2883899100438163,
           0.7119288697321544,
           1,
           0.6103090160246292,
           0.6752950072991162,
           0.41283977001742267,
           0.3619957279617114,
           0.24580420801065436,
           0.06532371737178827,
           0.10025562688872137,
           0.07090248882854241,
           0.29251784313474544,
           0.31895149957514973,
           0.03756566962930565,
           0.20917999887432653,
           0.14728086160554993,
           0.20582517136136294,
           0.13172244803329586,
           0.09780112126338901,
           0.2127051568045877,
           0.2127051568045877,
           0.2127051568045877
          ],
          [
           0.11949503198338875,
           0.14799491213087548,
           0.14799491213087548,
           0.14799491213087548,
           0.2526687338617836,
           0.22483123671544925,
           0.22483123671544925,
           0.22483123671544925,
           0.2393697947243005,
           0.20828564565379787,
           0.28458497520037235,
           0.31680664808596487,
           0.5111034680182526,
           0.5428954510210618,
           0.5428954510210618,
           0.5428954510210618,
           0.5424521453806933,
           0.5140804149675434,
           0.4255974881446961,
           0.4255974881446961,
           0.4882280909480069,
           0.5054203110083296,
           0.4611190179468803,
           0.4271753718404436,
           0.44610925550167163,
           0.4703466326027752,
           0.42771819522413107,
           0.42771819522413107,
           0.47577515221149563,
           0.3778093639534336,
           0.4148501866165535,
           0.40107847819717524,
           0.38100980908437826,
           0.35303373257423903,
           0.3505523342721235,
           0.33895177405837934,
           0.34903990952486424,
           0.4746679822823164,
           0.4746679822823164,
           0.23523320300765432,
           0.34683382130445933,
           0.2512261005128713,
           0.22874130789904445,
           0.22874130789904445,
           0.36357170259767163,
           0.3947637377150274,
           0.3947637377150274,
           0.3777622858194115,
           0.42739350654563085,
           0.42739350654563085,
           0.3343451091806307,
           0.3097053126532395,
           0.3251234901995269,
           0.17536460334540413,
           0.12059718176202182,
           0.2281550060792135,
           0.23524006377657167,
           0.2427902188279589,
           0.24853449788285048,
           0.14953185645386094,
           0.11174595820818956,
           0.443922905435805,
           0.44134634067935563,
           0.6119600625313032,
           0.6103090160246292,
           1,
           0.849069331905105,
           0.37255058067300967,
           0.18267995400487308,
           0.14549117001735823,
           0.021211264692578596,
           0.2624375981182722,
           0.0633894558811963,
           0.11130357961309263,
           0.21901761789064847,
           0.13174078461010433,
           0.09353178191629426,
           0.0017595936295958727,
           0.11044125491988856,
           0.11144894638272916,
           0.1665980810449228,
           0.28184375900124153,
           0.28184375900124153,
           0.28184375900124153
          ],
          [
           0.1233106359851409,
           0.14575368894226715,
           0.14575368894226715,
           0.14575368894226715,
           0.2259989928821278,
           0.20251059030798813,
           0.20251059030798813,
           0.20251059030798813,
           0.31517173849855645,
           0.2464145477488178,
           0.2955975637162684,
           0.19579229145288124,
           0.47657181153929956,
           0.5074884500563214,
           0.5074884500563214,
           0.5074884500563214,
           0.49556209895874176,
           0.47938076684816805,
           0.37798635900495564,
           0.37798635900495564,
           0.4819428286908102,
           0.5076465926444446,
           0.4705046238762208,
           0.41016555833645957,
           0.4730353475968715,
           0.49894712467894026,
           0.46439881533949584,
           0.46439881533949584,
           0.49707355844823586,
           0.3622261445530549,
           0.42839751601389586,
           0.42384355496750853,
           0.3919254951265797,
           0.37433549376972064,
           0.37274114226743615,
           0.3644691399246099,
           0.3953444426126234,
           0.4413262124927265,
           0.4413262124927265,
           0.29171366538194193,
           0.3546982658560903,
           0.22205617195205787,
           0.20000330982738382,
           0.20000330982738382,
           0.30112645839672575,
           0.3269389117358768,
           0.3269389117358768,
           0.3092112193080418,
           0.3538898963402822,
           0.3538898963402822,
           0.2829619367835204,
           0.2399795166823361,
           0.2534239015357176,
           0.04963986531229481,
           0.03439227221204969,
           0.008487487432241394,
           0.01215939588076484,
           0.013903071768501803,
           0.015309099752541471,
           0.2093819796358763,
           0.2068917713138807,
           0.41108734565641514,
           0.449828384369761,
           0.6651450548340158,
           0.6752950072991162,
           0.849069331905105,
           1,
           0.42876646299407084,
           0.18551036664517423,
           0.17645560953818412,
           0.017627721115925806,
           0.32529214048500715,
           0.048159887917626897,
           0.01856093419125685,
           0.2652780778243355,
           0.10573356089800888,
           0.06446336823121922,
           0.06332852808246106,
           0.11008257185121724,
           0.09540676979892938,
           0.11943931853091933,
           0.2131132654972205,
           0.2131132654972205,
           0.2131132654972205
          ],
          [
           0.013325507910053689,
           0.002192492851839895,
           0.002192492851839895,
           0.002192492851839895,
           0.0431811509990948,
           0.00043046625213009204,
           0.00043046625213009204,
           0.00043046625213009204,
           0.08336116242789766,
           0.19760766915985598,
           0.19341324549760275,
           0.17550844961462067,
           0.32058140676101404,
           0.3332066883179206,
           0.3332066883179206,
           0.3332066883179206,
           0.32200283527764895,
           0.3042885774353241,
           0.2217005890869237,
           0.2217005890869237,
           0.2909464257267634,
           0.3067043427942168,
           0.25089515206540686,
           0.18541142829862434,
           0.25536299056820233,
           0.26673016905250196,
           0.2555667410788164,
           0.2555667410788164,
           0.28495220780929026,
           0.2232367650358697,
           0.17664752050712504,
           0.17221966101694736,
           0.14199169415533505,
           0.1397717194796865,
           0.13441830022411866,
           0.17625929080938163,
           0.10938307978166051,
           0.3567132496000888,
           0.3567132496000888,
           0.2969001730076262,
           0.2645439169807572,
           0.22509022858799882,
           0.20378055222160285,
           0.20378055222160285,
           0.23977697652086283,
           0.2618752337880235,
           0.2618752337880235,
           0.2728693362659111,
           0.265828541779915,
           0.265828541779915,
           0.2234799981171855,
           0.2932892871635723,
           0.22563251273546947,
           0.0904167998743618,
           0.35728724034215936,
           0.2991597793460278,
           0.30093950465499475,
           0.29850180388024594,
           0.2939759882949097,
           0.1989231851341709,
           0.7999752543579974,
           0.16671383799489267,
           0.2859877515113984,
           0.4482949637880447,
           0.41283977001742267,
           0.37255058067300967,
           0.42876646299407084,
           1,
           0.4386896474643322,
           0.30790828522314584,
           0.05560549802583023,
           0.0805816064543728,
           0.11056701009442149,
           0.21564811591192323,
           0.06631707786086864,
           0.1795802008505121,
           0.05172343046472043,
           0.2310574187332417,
           0.07808664370812844,
           0.136879892572066,
           0.025257874709028582,
           0.1282417140589154,
           0.1282417140589154,
           0.1282417140589154
          ],
          [
           0.06975312092401581,
           0.08129744721385808,
           0.08129744721385808,
           0.08129744721385808,
           0.12210162185236162,
           0.10807963139319794,
           0.10807963139319794,
           0.10807963139319794,
           0.13798957833759207,
           0.1332113043903333,
           0.156249218530254,
           0.1271804548665937,
           0.21759979979699093,
           0.23531988706153337,
           0.23531988706153337,
           0.23531988706153337,
           0.23999068944338844,
           0.23803317410084981,
           0.18624758731251667,
           0.18624758731251667,
           0.19800343315722452,
           0.2425649856571141,
           0.22837575651176664,
           0.20696464597855016,
           0.24848201780866722,
           0.2590869405087076,
           0.2595572592866359,
           0.2595572592866359,
           0.2777508199610983,
           0.18252145072157439,
           0.22772616404855087,
           0.2131085306719317,
           0.1930358136793713,
           0.20290999702952253,
           0.20161551819233134,
           0.20843427837430234,
           0.1889884400468443,
           0.1491604238104048,
           0.1491604238104048,
           0.17092135950429602,
           0.08694582842436877,
           0.06276755765144842,
           0.04580231720352384,
           0.04580231720352384,
           0.08427902572089208,
           0.096081203697076,
           0.096081203697076,
           0.09561826851923186,
           0.10927823183275362,
           0.10927823183275362,
           0.06976442213022052,
           0.07090173775025559,
           0.0643922425122985,
           0.06239127696749893,
           0.18153370050448672,
           0.35527154860492666,
           0.35655745560626395,
           0.35584008727671596,
           0.352982345799223,
           0.39618969753991556,
           0.38327704026968834,
           0.07449605341458065,
           0.23717581143782596,
           0.33574686286794475,
           0.3619957279617114,
           0.18267995400487308,
           0.18551036664517423,
           0.4386896474643322,
           1,
           0.8441272487696172,
           0.43536958979374935,
           0.20655696559290546,
           0.13175566169174124,
           0.0353542090341672,
           0.12501559846460658,
           0.048600913217503115,
           0.10889253200512924,
           0.13375618489979757,
           0.00007653792793220173,
           0.05558483073882899,
           0.05604541439709775,
           0.10770954423704762,
           0.10770954423704762,
           0.10770954423704762
          ],
          [
           0.004221586167809012,
           0.0034180022477050694,
           0.0034180022477050694,
           0.0034180022477050694,
           0.00010070154770086721,
           0.021746514195005614,
           0.021746514195005614,
           0.021746514195005614,
           0.0269494492362438,
           0.04662239220846611,
           0.02216690587205233,
           0.06412507051719853,
           0.059943587277939914,
           0.0728611526698382,
           0.0728611526698382,
           0.0728611526698382,
           0.06427006873320111,
           0.06830203098341893,
           0.03632604003769758,
           0.03632604003769758,
           0.06505274144760459,
           0.09030264928171385,
           0.08253105976715651,
           0.03085449717367306,
           0.10292130608633997,
           0.11286146774439446,
           0.12757109347555629,
           0.12757109347555629,
           0.12961378565689247,
           0.012060523922156417,
           0.04506659386934669,
           0.043883847958611666,
           0.018101682945252957,
           0.023512877829831382,
           0.024037165390553953,
           0.021608405724993715,
           0.05636697724563618,
           0.0489321576172116,
           0.0489321576172116,
           0.22326913107308544,
           0.05867425340163909,
           0.06167195616038164,
           0.07212477938724726,
           0.07212477938724726,
           0.08682163696323623,
           0.08584335839652991,
           0.08584335839652991,
           0.0703430599779173,
           0.051136095125000794,
           0.051136095125000794,
           0.045634906161420075,
           0.03326633632381467,
           0.008164599174921064,
           0.1559608777689105,
           0.11942532374802503,
           0.1794247907757986,
           0.1771053105057889,
           0.18004636625424705,
           0.1789173482249971,
           0.024371601110023164,
           0.34449904105114154,
           0.06445907284116419,
           0.16889157704001978,
           0.2643108757787223,
           0.24580420801065436,
           0.14549117001735823,
           0.17645560953818412,
           0.30790828522314584,
           0.8441272487696172,
           1,
           0.4920520620676346,
           0.3237254472804979,
           0.1391381849332868,
           0.04804666955600816,
           0.14514045746615256,
           0.11893632634140695,
           0.16937981789003254,
           0.039996431268389664,
           0.014671315211850318,
           0.06626691344087082,
           0.030441424044251687,
           0.010242198864057856,
           0.010242198864057856,
           0.010242198864057856
          ],
          [
           0.04426173263871806,
           0.04399812583342385,
           0.04399812583342385,
           0.04399812583342385,
           0.03963938194862043,
           0.052747739781368035,
           0.052747739781368035,
           0.052747739781368035,
           0.0683492501431025,
           0.02944811265293167,
           0.03534271925344433,
           0.0009825177545249042,
           0.009482177061420433,
           0.002424625193222481,
           0.002424625193222481,
           0.002424625193222481,
           0.0006697849032716898,
           0.0011253839317542705,
           0.004506422843327419,
           0.004506422843327419,
           0.009549029793393074,
           0.02045027546330878,
           0.03156013589044555,
           0.04417533585263483,
           0.04552712008464619,
           0.04560296163954185,
           0.04195867197736944,
           0.04195867197736944,
           0.031119997695470757,
           0.0337271952984972,
           0.067136856682492,
           0.0659178333736993,
           0.0656719054759359,
           0.06837699174924161,
           0.06919326876446268,
           0.05110467811068352,
           0.08649725273271595,
           0.0252419714077419,
           0.0252419714077419,
           0.035708585234968754,
           0.05550614947050784,
           0.05845324661538626,
           0.07133764087728628,
           0.07133764087728628,
           0.07502840219045082,
           0.07314671230683681,
           0.07314671230683681,
           0.08519926946185898,
           0.05470190050526453,
           0.05470190050526453,
           0.05032289579148544,
           0.07894092907527107,
           0.056700392392763525,
           0.06855886778748356,
           0.07781751712966063,
           0.11957352899559869,
           0.12403839836976947,
           0.12372444458587013,
           0.12122597148330308,
           0.10360194695748634,
           0.00446259314440087,
           0.0031111709494897975,
           0.05119820890808344,
           0.10682030060193948,
           0.06532371737178827,
           0.021211264692578596,
           0.017627721115925806,
           0.05560549802583023,
           0.43536958979374935,
           0.4920520620676346,
           1,
           0.15690607112789212,
           0.45562734927200604,
           0.02615955446172247,
           0.014304449627896799,
           0.030028899539063018,
           0.14890828623907093,
           0.0068864717298259695,
           0.044884429740307714,
           0.03551384816586367,
           0.007395685696058471,
           0.016324902726021703,
           0.016324902726021703,
           0.016324902726021703
          ],
          [
           0.044917769772839365,
           0.047339390265811396,
           0.047339390265811396,
           0.047339390265811396,
           0.05363530456067483,
           0.044804764763126614,
           0.044804764763126614,
           0.044804764763126614,
           0.06680371898570364,
           0.059224097852549284,
           0.047150196834561044,
           0.040017957313138994,
           0.10726619226609986,
           0.13329587822345546,
           0.13329587822345546,
           0.13329587822345546,
           0.11505388465292676,
           0.11596102927719787,
           0.10127195885849938,
           0.10127195885849938,
           0.1515460417905853,
           0.11792701649251394,
           0.1130047447804218,
           0.092911177421815,
           0.09145605058299182,
           0.09775177224180108,
           0.06661233542015321,
           0.06661233542015321,
           0.07070806720533053,
           0.06454663355573377,
           0.07135645194162428,
           0.08209740029403205,
           0.09080049892954448,
           0.07336506071748056,
           0.07346620167416741,
           0.07927263912145072,
           0.07760720197084499,
           0.10504422784713732,
           0.10504422784713732,
           0.04563268043051536,
           0.11475645937929171,
           0.110055582886141,
           0.11984113713284916,
           0.11984113713284916,
           0.13133795446000504,
           0.1346420969308695,
           0.1346420969308695,
           0.1344434327335941,
           0.11639535398833198,
           0.11639535398833198,
           0.11584097773813279,
           0.14446984535729301,
           0.11413440315416337,
           0.1308102343575843,
           0.12370346463330126,
           0.2289308518447113,
           0.2313032148610553,
           0.22873700538170733,
           0.22591097648042469,
           0.39510218025381894,
           0.03737703166569352,
           0.18515365773987513,
           0.043404705478058754,
           0.06823094228165306,
           0.10025562688872137,
           0.2624375981182722,
           0.32529214048500715,
           0.0805816064543728,
           0.20655696559290546,
           0.3237254472804979,
           0.15690607112789212,
           1,
           0.4839208778257298,
           0.010785946584789674,
           0.0785541752142165,
           0.08525220440099866,
           0.0641826415578278,
           0.0075922017035977805,
           0.014250437187636912,
           0.03251737543846206,
           0.008015614803070977,
           0.013436123362641338,
           0.013436123362641338,
           0.013436123362641338
          ],
          [
           0.2237124744756925,
           0.21197259169818441,
           0.21197259169818441,
           0.21197259169818441,
           0.1484562861625867,
           0.13718363972867437,
           0.13718363972867437,
           0.13718363972867437,
           0.20786897466577317,
           0.1608905886166509,
           0.03643719899958597,
           0.015760976143151327,
           0.009934243655851762,
           0.014686588333035641,
           0.014686588333035641,
           0.014686588333035641,
           0.012789661250249653,
           0.012796052215620697,
           0.008094153345795592,
           0.008094153345795592,
           0.07167769364395041,
           0.10755381120583728,
           0.15357611269852706,
           0.19038507973301896,
           0.20016926491000997,
           0.18950591783642512,
           0.2092153585286693,
           0.2092153585286693,
           0.14845112990214274,
           0.14693823613202134,
           0.23917492435317486,
           0.26180965078421997,
           0.25941301603286243,
           0.28538312672614996,
           0.28722696777626566,
           0.30990206797750003,
           0.28017028530246724,
           0.09924177731269705,
           0.09924177731269705,
           0.07916327044313218,
           0.15125238203630606,
           0.08657329204073,
           0.1021382656283932,
           0.1021382656283932,
           0.2416149060235752,
           0.24807636506256467,
           0.24807636506256467,
           0.21572286295354356,
           0.260473349111629,
           0.260473349111629,
           0.1945201871361086,
           0.12826325208363823,
           0.23642661607463092,
           0.12635276604603807,
           0.28404361233554576,
           0.041494846689544465,
           0.039804289861282906,
           0.03599279741216984,
           0.0328769177228415,
           0.0922082648536333,
           0.03475583651732602,
           0.07924096829615332,
           0.03565392545518453,
           0.01835994815307409,
           0.07090248882854241,
           0.0633894558811963,
           0.048159887917626897,
           0.11056701009442149,
           0.13175566169174124,
           0.1391381849332868,
           0.45562734927200604,
           0.4839208778257298,
           1,
           0.16697562461381849,
           0.22597000820480684,
           0.20097726636590985,
           0.1443184362952596,
           0.12715897501921386,
           0.10779640241056905,
           0.05006584167272831,
           0.19285046121435592,
           0.19862917154174495,
           0.19862917154174495,
           0.19862917154174495
          ],
          [
           0.08809814761430888,
           0.10177768641857901,
           0.10177768641857901,
           0.10177768641857901,
           0.14972206945802963,
           0.16349336942679196,
           0.16349336942679196,
           0.16349336942679196,
           0.11515629347528153,
           0.05339763282552054,
           0.11423250125146711,
           0.19296745745527488,
           0.06927989577069424,
           0.09894150865183025,
           0.09894150865183025,
           0.09894150865183025,
           0.10308944729251805,
           0.059165891663725316,
           0.02993082416971971,
           0.02993082416971971,
           0.06899600608589344,
           0.08149312028114937,
           0.07826632951037936,
           0.16952409349583786,
           0.09156350935897759,
           0.10227887972488105,
           0.10732209481649835,
           0.10732209481649835,
           0.11473586997540204,
           0.10244024572157874,
           0.15595755328481672,
           0.14125229444645748,
           0.15889122472519382,
           0.15813648165475902,
           0.15938434056312603,
           0.16705899728740714,
           0.15627244485341082,
           0.029107145434558737,
           0.029107145434558737,
           0.12412046650464019,
           0.09165166476606125,
           0.07819025528265935,
           0.07481322532357286,
           0.07481322532357286,
           0.009586784672982178,
           0.004328392102641293,
           0.004328392102641293,
           0.016128758211553334,
           0.036218387731334886,
           0.036218387731334886,
           0.08439334911238036,
           0.03201017833423229,
           0.02202708159710251,
           0.07302405020786515,
           0.23800257989342763,
           0.019873736804963467,
           0.03176563956233471,
           0.044778533868657315,
           0.04317812676810864,
           0.020268148494039358,
           0.11038749021367066,
           0.15933782602293547,
           0.35159012094600034,
           0.09580761040106962,
           0.29251784313474544,
           0.11130357961309263,
           0.01856093419125685,
           0.21564811591192323,
           0.0353542090341672,
           0.04804666955600816,
           0.02615955446172247,
           0.010785946584789674,
           0.16697562461381849,
           1,
           0.33479000631497347,
           0.21398379064319026,
           0.12861271263612112,
           0.03715431857673264,
           0.10940142509482016,
           0.025749647661640045,
           0.11879701551997697,
           0.12598521468882842,
           0.12598521468882842,
           0.12598521468882842
          ],
          [
           0.1989360428533735,
           0.18040748900433076,
           0.18040748900433076,
           0.18040748900433076,
           0.09168230556682193,
           0.0569260941787204,
           0.0569260941787204,
           0.0569260941787204,
           0.2051174760812373,
           0.22200757289263096,
           0.38772342226275874,
           0.2091667715283831,
           0.12417846433199908,
           0.19529588218879956,
           0.19529588218879956,
           0.19529588218879956,
           0.20011361799176658,
           0.1914859410311207,
           0.23914426740401887,
           0.23914426740401887,
           0.07987950674666093,
           0.15000901156600352,
           0.09624016291568911,
           0.13803270661429295,
           0.12135290148908194,
           0.14354157871561848,
           0.12228622743084733,
           0.12228622743084733,
           0.17525636992245294,
           0.19134504945493036,
           0.14152240834911914,
           0.089167474951685,
           0.10443984177052512,
           0.09562931208331452,
           0.09459261309281244,
           0.002836385221565554,
           0.0637684947228947,
           0.1253021430121519,
           0.1253021430121519,
           0.0019188694401795301,
           0.024262263507730367,
           0.07426962416627586,
           0.03401754966656655,
           0.03401754966656655,
           0.1513772198806357,
           0.14685215546417563,
           0.14685215546417563,
           0.09017437425731553,
           0.10331272684167475,
           0.10331272684167475,
           0.00507699951797049,
           0.09484725673215247,
           0.007642647354698277,
           0.13010802814877992,
           0.2759829998234739,
           0.0952516640166716,
           0.08936534391180766,
           0.09944717339983712,
           0.08895837160637288,
           0.04152817387230886,
           0.07978156672395981,
           0.45276157905571746,
           0.19570387233443898,
           0.3073783737474348,
           0.31895149957514973,
           0.21901761789064847,
           0.2652780778243355,
           0.06631707786086864,
           0.12501559846460658,
           0.14514045746615256,
           0.014304449627896799,
           0.0785541752142165,
           0.22597000820480684,
           0.33479000631497347,
           1,
           0.06055269306437943,
           0.1745386811224787,
           0.010125491763062785,
           0.20155069991486585,
           0.11521186597664212,
           0.28723780043503894,
           0.2668793075873779,
           0.2668793075873779,
           0.2668793075873779
          ],
          [
           0.07789209920878304,
           0.09076149090649992,
           0.09076149090649992,
           0.09076149090649992,
           0.13623928047907505,
           0.1275329583815641,
           0.1275329583815641,
           0.1275329583815641,
           0.29859708793854306,
           0.19018992573284027,
           0.22446514984392152,
           0.06054253246046254,
           0.09388808903691463,
           0.11064522780053436,
           0.11064522780053436,
           0.11064522780053436,
           0.11692394389705234,
           0.09945832814561177,
           0.04446075353298717,
           0.04446075353298717,
           0.09137639147004639,
           0.15457178401417673,
           0.1458081715608379,
           0.2167772534921965,
           0.20021139207480246,
           0.21428471990765566,
           0.20738657152771484,
           0.20738657152771484,
           0.21449492861548197,
           0.19670343180612118,
           0.27684034914346217,
           0.25871703210381797,
           0.2522616694599951,
           0.2737412512963844,
           0.2733479823802161,
           0.29975136162714483,
           0.2827694567152741,
           0.018432726157345005,
           0.018432726157345005,
           0.0839430578318325,
           0.035423295014208774,
           0.17712730805912974,
           0.19202654925618792,
           0.19202654925618792,
           0.1493007546915177,
           0.14754582811296274,
           0.14754582811296274,
           0.14254333065665603,
           0.13464065176300585,
           0.13464065176300585,
           0.18582426864361545,
           0.13241519406727228,
           0.12092512942602594,
           0.11661674408806155,
           0.010614953641537802,
           0.04795080962622754,
           0.05321884132910426,
           0.053220453540303136,
           0.05321884132910426,
           0.02176824232272005,
           0.26913258661193984,
           0.11766049989466328,
           0.11832187577687707,
           0.11418713341974016,
           0.03756566962930565,
           0.13174078461010433,
           0.10573356089800888,
           0.1795802008505121,
           0.048600913217503115,
           0.11893632634140695,
           0.030028899539063018,
           0.08525220440099866,
           0.20097726636590985,
           0.21398379064319026,
           0.06055269306437943,
           1,
           0.007788138663034455,
           0.12330765951066694,
           0.09753945476294763,
           0.040976178985612205,
           0.07475703221065842,
           0.12003240069916617,
           0.12003240069916617,
           0.12003240069916617
          ],
          [
           0.07636739899507085,
           0.08327971793687156,
           0.08327971793687156,
           0.08327971793687156,
           0.10512574080466262,
           0.12173322534254066,
           0.12173322534254066,
           0.12173322534254066,
           0.04051578455165563,
           0.005634935470671757,
           0.0447664968581084,
           0.09138799811372159,
           0.13829860736259256,
           0.15298239412565914,
           0.15298239412565914,
           0.15298239412565914,
           0.15983334314042286,
           0.16460302044495154,
           0.15823063342409915,
           0.15823063342409915,
           0.13984487217763245,
           0.1482732013244954,
           0.15418596361471848,
           0.1401867004823737,
           0.1403562988521576,
           0.14524924914237655,
           0.1347339346939657,
           0.1347339346939657,
           0.14614300540068867,
           0.10737686033701499,
           0.12085871673181925,
           0.117714487310162,
           0.11067138215625047,
           0.11047984355568562,
           0.11034808018302793,
           0.09765957395081504,
           0.10524548072437441,
           0.10374249651504285,
           0.10374249651504285,
           0.10274379200554305,
           0.04661081046308798,
           0.06776529981636147,
           0.048518121246698874,
           0.048518121246698874,
           0.07951210349940149,
           0.09102933575958026,
           0.09102933575958026,
           0.07807373220631755,
           0.1258881942113106,
           0.1258881942113106,
           0.10908932808510233,
           0.06711226053209517,
           0.10687228304870944,
           0.012814325757158757,
           0.06062717945460248,
           0.10729574280327184,
           0.1019832585014678,
           0.10127599765086154,
           0.08827433698431633,
           0.06769565041525054,
           0.0443570372728198,
           0.12593027307484161,
           0.11652648249901959,
           0.46284966004110945,
           0.20917999887432653,
           0.09353178191629426,
           0.06446336823121922,
           0.05172343046472043,
           0.10889253200512924,
           0.16937981789003254,
           0.14890828623907093,
           0.0641826415578278,
           0.1443184362952596,
           0.12861271263612112,
           0.1745386811224787,
           0.007788138663034455,
           1,
           0.4841445348837246,
           0.06487499008318985,
           0.03912108652680631,
           0.0674172459347324,
           0.054029674079249745,
           0.054029674079249745,
           0.054029674079249745
          ],
          [
           0.0359378511945764,
           0.03917644150210975,
           0.03917644150210975,
           0.03917644150210975,
           0.049400039124827426,
           0.05606487536078064,
           0.05606487536078064,
           0.05606487536078064,
           0.017700302970806044,
           0.01527557742184604,
           0.027649555741285588,
           0.12226478031647134,
           0.11322335132566219,
           0.12077287227772265,
           0.12077287227772265,
           0.12077287227772265,
           0.12009885179905502,
           0.12018362695478674,
           0.15000431916242937,
           0.15000431916242937,
           0.12132192629985317,
           0.09352829041023866,
           0.09656954249389539,
           0.12405274666903122,
           0.05848541638955574,
           0.05453071690145009,
           0.04457541186906984,
           0.04457541186906984,
           0.05105027256584168,
           0.12037196511721862,
           0.06078605557146599,
           0.0672546187887438,
           0.08392259499900256,
           0.07712695100036504,
           0.07737136657294039,
           0.08323590115570671,
           0.027192423621402784,
           0.10677560551757188,
           0.10677560551757188,
           0.03064573279083323,
           0.08469284601338027,
           0.08295670142929273,
           0.08909961665807696,
           0.08909961665807696,
           0.11119072206874442,
           0.11519223818217861,
           0.11519223818217861,
           0.1150845690496249,
           0.11559698163513167,
           0.11559698163513167,
           0.11177932613817375,
           0.1419582251837717,
           0.1438257003303109,
           0.20365771376357802,
           0.29512062141400003,
           0.31297995047756444,
           0.3190316607403423,
           0.3165003162364458,
           0.3112243232106447,
           0.15557549422722433,
           0.3430283196133676,
           0.05040748491764506,
           0.08172131094074961,
           0.20527011813860624,
           0.14728086160554993,
           0.0017595936295958727,
           0.06332852808246106,
           0.2310574187332417,
           0.13375618489979757,
           0.039996431268389664,
           0.0068864717298259695,
           0.0075922017035977805,
           0.12715897501921386,
           0.03715431857673264,
           0.010125491763062785,
           0.12330765951066694,
           0.4841445348837246,
           1,
           0.02396266363181394,
           0.014928530119958813,
           0.029552560294703774,
           0.02526648917092307,
           0.02526648917092307,
           0.02526648917092307
          ],
          [
           0.11949291842267666,
           0.11906834619733839,
           0.11906834619733839,
           0.11906834619733839,
           0.10844545012917314,
           0.10281594291830175,
           0.10281594291830175,
           0.10281594291830175,
           0.07046810544769051,
           0.023678729417292703,
           0.0025196614990341416,
           0.17097343851799107,
           0.15244112753071917,
           0.15624262722041596,
           0.15624262722041596,
           0.15624262722041596,
           0.13913587861678037,
           0.15294761069767612,
           0.15292002904875368,
           0.15292002904875368,
           0.14673887799617397,
           0.15190413942129366,
           0.16332010680040765,
           0.028102595126064174,
           0.1434236187881006,
           0.14341256576768927,
           0.12202913001314478,
           0.12202913001314478,
           0.09209231995678248,
           0.00883349792229151,
           0.13961106607799248,
           0.14731817862945532,
           0.13394591069957906,
           0.08291226587433578,
           0.08291226587433578,
           0.15521478578242795,
           0.1339249820072048,
           0.12773761356507995,
           0.12773761356507995,
           0.05873738016700149,
           0.2815337211600063,
           0.3574394745812136,
           0.31443463479367495,
           0.31443463479367495,
           0.17478558723346646,
           0.1888282574816113,
           0.1888282574816113,
           0.27684041972912604,
           0.3572692617303455,
           0.3572692617303455,
           0.39079132757997354,
           0.24128281161033788,
           0.1261426584450357,
           0.0816001014051797,
           0.14053103571211303,
           0.09161971745924787,
           0.09161971745924787,
           0.09162249298631378,
           0.09161971745924787,
           0.05688934935973348,
           0.004990803519696204,
           0.07947367177221773,
           0.09075892591872765,
           0.13862107672256202,
           0.20582517136136294,
           0.11044125491988856,
           0.11008257185121724,
           0.07808664370812844,
           0.00007653792793220173,
           0.014671315211850318,
           0.044884429740307714,
           0.014250437187636912,
           0.10779640241056905,
           0.10940142509482016,
           0.20155069991486585,
           0.09753945476294763,
           0.06487499008318985,
           0.02396266363181394,
           1,
           0.028672215011403757,
           0.05045623891795615,
           0.04086913010836853,
           0.04086913010836853,
           0.04086913010836853
          ],
          [
           0.239949073048688,
           0.24844800930049146,
           0.24844800930049146,
           0.24844800930049146,
           0.2643929734004634,
           0.05602070420949957,
           0.05602070420949957,
           0.05602070420949957,
           0.007814009014234924,
           0.19593214862815864,
           0.18416029395386566,
           0.13095310455614656,
           0.1076024304907132,
           0.16496234456135733,
           0.16496234456135733,
           0.16496234456135733,
           0.09413897877731019,
           0.14816334668283254,
           0.1447706831202169,
           0.1447706831202169,
           0.18515752213146186,
           0.19013583195927714,
           0.15331192355469583,
           0.1565292289563218,
           0.16834118079580038,
           0.1683282074897081,
           0.14140130406290205,
           0.14140130406290205,
           0.14140130406290205,
           0.09937309152607308,
           0.1447671669912528,
           0.16171076638049842,
           0.14480726902511248,
           0.13281385035043605,
           0.13960124967630344,
           0.14813468233688734,
           0.1986449513561076,
           0.13972519164951563,
           0.13972519164951563,
           0.03200388292884867,
           0.17653249837756305,
           0.04410391365092514,
           0.052276114404611704,
           0.052276114404611704,
           0.07656063198719738,
           0.07679274807530405,
           0.07679274807530405,
           0.06825039344762804,
           0.07247416828287823,
           0.07247416828287823,
           0.06669519793781711,
           0.05048422678882589,
           0.06873059134967469,
           0.04446095629271351,
           0.15184632609627186,
           0.04992028420748762,
           0.04992028420748762,
           0.04992179649222063,
           0.04992028420748762,
           0.030996957501862432,
           0.16516800515063979,
           0.10362493207991168,
           0.016104620181331866,
           0.03433828569467305,
           0.13172244803329586,
           0.11144894638272916,
           0.09540676979892938,
           0.136879892572066,
           0.05558483073882899,
           0.06626691344087082,
           0.03551384816586367,
           0.03251737543846206,
           0.05006584167272831,
           0.025749647661640045,
           0.11521186597664212,
           0.040976178985612205,
           0.03912108652680631,
           0.014928530119958813,
           0.028672215011403757,
           1,
           0.5682590622346213,
           0.02226811702655621,
           0.02226811702655621,
           0.02226811702655621
          ],
          [
           0.4222529634725271,
           0.36109816925326216,
           0.36109816925326216,
           0.36109816925326216,
           0.08576894075984084,
           0.09858303709087159,
           0.09858303709087159,
           0.09858303709087159,
           0.08692239218789506,
           0.2513871409343639,
           0.36184205899293154,
           0.3256272784515578,
           0.16792438126425627,
           0.12243157889358453,
           0.12243157889358453,
           0.12243157889358453,
           0.19359120647157924,
           0.10073410795294416,
           0.06871389887614308,
           0.06871389887614308,
           0.11622053625527401,
           0.019112995433260293,
           0.11280697408282885,
           0.027125465526968963,
           0.10635687685777186,
           0.048680589155235106,
           0.050654960325029176,
           0.050654960325029176,
           0.12243157889358453,
           0.05479769030824186,
           0.0032700522499714327,
           0.10247235765745705,
           0.1221774848453614,
           0.11543985392748234,
           0.11942125359589918,
           0.10634986672104864,
           0.07550824512851587,
           0.10170564518211019,
           0.10170564518211019,
           0.05631917738891245,
           0.0801059969411241,
           0.32576689693127614,
           0.30831299759821956,
           0.30831299759821956,
           0.1563927428488065,
           0.16934346495383906,
           0.16934346495383906,
           0.09594628534030458,
           0.18586131978551437,
           0.18586131978551437,
           0.11736759230120326,
           0.0888401613698896,
           0.16148497490955277,
           0.07824064629585546,
           0.2839814405281245,
           0.08784775734359812,
           0.08784775734359812,
           0.08785041860293125,
           0.08784775734359812,
           0.05454722953290008,
           0.17323783613156032,
           0.054594527594055565,
           0.17601904643903765,
           0.14603965070036828,
           0.09780112126338901,
           0.1665980810449228,
           0.11943931853091933,
           0.025257874709028582,
           0.05604541439709775,
           0.030441424044251687,
           0.007395685696058471,
           0.008015614803070977,
           0.19285046121435592,
           0.11879701551997697,
           0.28723780043503894,
           0.07475703221065842,
           0.0674172459347324,
           0.029552560294703774,
           0.05045623891795615,
           0.5682590622346213,
           1,
           0.8099916082691649,
           0.8099916082691649,
           0.8099916082691649
          ],
          [
           0.3420213569795332,
           0.2616618962644557,
           0.2616618962644557,
           0.2616618962644557,
           0.08422355836525108,
           0.0798514327612938,
           0.0798514327612938,
           0.0798514327612938,
           0.10004060154768024,
           0.16579220723134844,
           0.30838329280788246,
           0.3023033267102683,
           0.2807138016418544,
           0.26632078492957845,
           0.26632078492957845,
           0.26632078492957845,
           0.3023033267102683,
           0.2279860568896788,
           0.18666396910265876,
           0.18666396910265876,
           0.009245514207538377,
           0.11228694567083876,
           0.027794301090376217,
           0.14451481142703057,
           0.009246226773112405,
           0.06082049075986057,
           0.03923096569144663,
           0.03923096569144663,
           0.2495289320985898,
           0.13740128142681102,
           0.09920186865926313,
           0.009252052847773383,
           0.045240584637302114,
           0.04560210609574801,
           0.04560210609574801,
           0.02363879460656318,
           0.049831840186190045,
           0.223152625377821,
           0.223152625377821,
           0.04561806106964158,
           0.22314173479275057,
           0.3643700084510418,
           0.33733944792607834,
           0.33733944792607834,
           0.24457964904453455,
           0.26048004152729864,
           0.26048004152729864,
           0.16521529256953368,
           0.2774711938731786,
           0.2774711938731786,
           0.0950667648467313,
           0.07195978518688903,
           0.24518621041336996,
           0.06337426692519885,
           0.23681364818897957,
           0.07115594625358038,
           0.07115594625358038,
           0.07115810185130764,
           0.07115594625358038,
           0.044182798175981024,
           0.09276725913604629,
           0.007521382245103914,
           0.20238323181678095,
           0.20190908671836644,
           0.2127051568045877,
           0.28184375900124153,
           0.2131132654972205,
           0.1282417140589154,
           0.10770954423704762,
           0.010242198864057856,
           0.016324902726021703,
           0.013436123362641338,
           0.19862917154174495,
           0.12598521468882842,
           0.2668793075873779,
           0.12003240069916617,
           0.054029674079249745,
           0.02526648917092307,
           0.04086913010836853,
           0.02226811702655621,
           0.8099916082691649,
           1,
           1,
           1
          ],
          [
           0.3420213569795332,
           0.2616618962644557,
           0.2616618962644557,
           0.2616618962644557,
           0.08422355836525108,
           0.0798514327612938,
           0.0798514327612938,
           0.0798514327612938,
           0.10004060154768024,
           0.16579220723134844,
           0.30838329280788246,
           0.3023033267102683,
           0.2807138016418544,
           0.26632078492957845,
           0.26632078492957845,
           0.26632078492957845,
           0.3023033267102683,
           0.2279860568896788,
           0.18666396910265876,
           0.18666396910265876,
           0.009245514207538377,
           0.11228694567083876,
           0.027794301090376217,
           0.14451481142703057,
           0.009246226773112405,
           0.06082049075986057,
           0.03923096569144663,
           0.03923096569144663,
           0.2495289320985898,
           0.13740128142681102,
           0.09920186865926313,
           0.009252052847773383,
           0.045240584637302114,
           0.04560210609574801,
           0.04560210609574801,
           0.02363879460656318,
           0.049831840186190045,
           0.223152625377821,
           0.223152625377821,
           0.04561806106964158,
           0.22314173479275057,
           0.3643700084510418,
           0.33733944792607834,
           0.33733944792607834,
           0.24457964904453455,
           0.26048004152729864,
           0.26048004152729864,
           0.16521529256953368,
           0.2774711938731786,
           0.2774711938731786,
           0.0950667648467313,
           0.07195978518688903,
           0.24518621041336996,
           0.06337426692519885,
           0.23681364818897957,
           0.07115594625358038,
           0.07115594625358038,
           0.07115810185130764,
           0.07115594625358038,
           0.044182798175981024,
           0.09276725913604629,
           0.007521382245103914,
           0.20238323181678095,
           0.20190908671836644,
           0.2127051568045877,
           0.28184375900124153,
           0.2131132654972205,
           0.1282417140589154,
           0.10770954423704762,
           0.010242198864057856,
           0.016324902726021703,
           0.013436123362641338,
           0.19862917154174495,
           0.12598521468882842,
           0.2668793075873779,
           0.12003240069916617,
           0.054029674079249745,
           0.02526648917092307,
           0.04086913010836853,
           0.02226811702655621,
           0.8099916082691649,
           1,
           1,
           1
          ],
          [
           0.3420213569795332,
           0.2616618962644557,
           0.2616618962644557,
           0.2616618962644557,
           0.08422355836525108,
           0.0798514327612938,
           0.0798514327612938,
           0.0798514327612938,
           0.10004060154768024,
           0.16579220723134844,
           0.30838329280788246,
           0.3023033267102683,
           0.2807138016418544,
           0.26632078492957845,
           0.26632078492957845,
           0.26632078492957845,
           0.3023033267102683,
           0.2279860568896788,
           0.18666396910265876,
           0.18666396910265876,
           0.009245514207538377,
           0.11228694567083876,
           0.027794301090376217,
           0.14451481142703057,
           0.009246226773112405,
           0.06082049075986057,
           0.03923096569144663,
           0.03923096569144663,
           0.2495289320985898,
           0.13740128142681102,
           0.09920186865926313,
           0.009252052847773383,
           0.045240584637302114,
           0.04560210609574801,
           0.04560210609574801,
           0.02363879460656318,
           0.049831840186190045,
           0.223152625377821,
           0.223152625377821,
           0.04561806106964158,
           0.22314173479275057,
           0.3643700084510418,
           0.33733944792607834,
           0.33733944792607834,
           0.24457964904453455,
           0.26048004152729864,
           0.26048004152729864,
           0.16521529256953368,
           0.2774711938731786,
           0.2774711938731786,
           0.0950667648467313,
           0.07195978518688903,
           0.24518621041336996,
           0.06337426692519885,
           0.23681364818897957,
           0.07115594625358038,
           0.07115594625358038,
           0.07115810185130764,
           0.07115594625358038,
           0.044182798175981024,
           0.09276725913604629,
           0.007521382245103914,
           0.20238323181678095,
           0.20190908671836644,
           0.2127051568045877,
           0.28184375900124153,
           0.2131132654972205,
           0.1282417140589154,
           0.10770954423704762,
           0.010242198864057856,
           0.016324902726021703,
           0.013436123362641338,
           0.19862917154174495,
           0.12598521468882842,
           0.2668793075873779,
           0.12003240069916617,
           0.054029674079249745,
           0.02526648917092307,
           0.04086913010836853,
           0.02226811702655621,
           0.8099916082691649,
           1,
           1,
           1
          ]
         ]
        }
       ],
       "layout": {
        "autosize": false,
        "height": 800,
        "hovermode": "closest",
        "showlegend": false,
        "template": {
         "data": {
          "bar": [
           {
            "error_x": {
             "color": "#2a3f5f"
            },
            "error_y": {
             "color": "#2a3f5f"
            },
            "marker": {
             "line": {
              "color": "#E5ECF6",
              "width": 0.5
             }
            },
            "type": "bar"
           }
          ],
          "barpolar": [
           {
            "marker": {
             "line": {
              "color": "#E5ECF6",
              "width": 0.5
             }
            },
            "type": "barpolar"
           }
          ],
          "carpet": [
           {
            "aaxis": {
             "endlinecolor": "#2a3f5f",
             "gridcolor": "white",
             "linecolor": "white",
             "minorgridcolor": "white",
             "startlinecolor": "#2a3f5f"
            },
            "baxis": {
             "endlinecolor": "#2a3f5f",
             "gridcolor": "white",
             "linecolor": "white",
             "minorgridcolor": "white",
             "startlinecolor": "#2a3f5f"
            },
            "type": "carpet"
           }
          ],
          "choropleth": [
           {
            "colorbar": {
             "outlinewidth": 0,
             "ticks": ""
            },
            "type": "choropleth"
           }
          ],
          "contour": [
           {
            "colorbar": {
             "outlinewidth": 0,
             "ticks": ""
            },
            "colorscale": [
             [
              0,
              "#0d0887"
             ],
             [
              0.1111111111111111,
              "#46039f"
             ],
             [
              0.2222222222222222,
              "#7201a8"
             ],
             [
              0.3333333333333333,
              "#9c179e"
             ],
             [
              0.4444444444444444,
              "#bd3786"
             ],
             [
              0.5555555555555556,
              "#d8576b"
             ],
             [
              0.6666666666666666,
              "#ed7953"
             ],
             [
              0.7777777777777778,
              "#fb9f3a"
             ],
             [
              0.8888888888888888,
              "#fdca26"
             ],
             [
              1,
              "#f0f921"
             ]
            ],
            "type": "contour"
           }
          ],
          "contourcarpet": [
           {
            "colorbar": {
             "outlinewidth": 0,
             "ticks": ""
            },
            "type": "contourcarpet"
           }
          ],
          "heatmap": [
           {
            "colorbar": {
             "outlinewidth": 0,
             "ticks": ""
            },
            "colorscale": [
             [
              0,
              "#0d0887"
             ],
             [
              0.1111111111111111,
              "#46039f"
             ],
             [
              0.2222222222222222,
              "#7201a8"
             ],
             [
              0.3333333333333333,
              "#9c179e"
             ],
             [
              0.4444444444444444,
              "#bd3786"
             ],
             [
              0.5555555555555556,
              "#d8576b"
             ],
             [
              0.6666666666666666,
              "#ed7953"
             ],
             [
              0.7777777777777778,
              "#fb9f3a"
             ],
             [
              0.8888888888888888,
              "#fdca26"
             ],
             [
              1,
              "#f0f921"
             ]
            ],
            "type": "heatmap"
           }
          ],
          "heatmapgl": [
           {
            "colorbar": {
             "outlinewidth": 0,
             "ticks": ""
            },
            "colorscale": [
             [
              0,
              "#0d0887"
             ],
             [
              0.1111111111111111,
              "#46039f"
             ],
             [
              0.2222222222222222,
              "#7201a8"
             ],
             [
              0.3333333333333333,
              "#9c179e"
             ],
             [
              0.4444444444444444,
              "#bd3786"
             ],
             [
              0.5555555555555556,
              "#d8576b"
             ],
             [
              0.6666666666666666,
              "#ed7953"
             ],
             [
              0.7777777777777778,
              "#fb9f3a"
             ],
             [
              0.8888888888888888,
              "#fdca26"
             ],
             [
              1,
              "#f0f921"
             ]
            ],
            "type": "heatmapgl"
           }
          ],
          "histogram": [
           {
            "marker": {
             "colorbar": {
              "outlinewidth": 0,
              "ticks": ""
             }
            },
            "type": "histogram"
           }
          ],
          "histogram2d": [
           {
            "colorbar": {
             "outlinewidth": 0,
             "ticks": ""
            },
            "colorscale": [
             [
              0,
              "#0d0887"
             ],
             [
              0.1111111111111111,
              "#46039f"
             ],
             [
              0.2222222222222222,
              "#7201a8"
             ],
             [
              0.3333333333333333,
              "#9c179e"
             ],
             [
              0.4444444444444444,
              "#bd3786"
             ],
             [
              0.5555555555555556,
              "#d8576b"
             ],
             [
              0.6666666666666666,
              "#ed7953"
             ],
             [
              0.7777777777777778,
              "#fb9f3a"
             ],
             [
              0.8888888888888888,
              "#fdca26"
             ],
             [
              1,
              "#f0f921"
             ]
            ],
            "type": "histogram2d"
           }
          ],
          "histogram2dcontour": [
           {
            "colorbar": {
             "outlinewidth": 0,
             "ticks": ""
            },
            "colorscale": [
             [
              0,
              "#0d0887"
             ],
             [
              0.1111111111111111,
              "#46039f"
             ],
             [
              0.2222222222222222,
              "#7201a8"
             ],
             [
              0.3333333333333333,
              "#9c179e"
             ],
             [
              0.4444444444444444,
              "#bd3786"
             ],
             [
              0.5555555555555556,
              "#d8576b"
             ],
             [
              0.6666666666666666,
              "#ed7953"
             ],
             [
              0.7777777777777778,
              "#fb9f3a"
             ],
             [
              0.8888888888888888,
              "#fdca26"
             ],
             [
              1,
              "#f0f921"
             ]
            ],
            "type": "histogram2dcontour"
           }
          ],
          "mesh3d": [
           {
            "colorbar": {
             "outlinewidth": 0,
             "ticks": ""
            },
            "type": "mesh3d"
           }
          ],
          "parcoords": [
           {
            "line": {
             "colorbar": {
              "outlinewidth": 0,
              "ticks": ""
             }
            },
            "type": "parcoords"
           }
          ],
          "pie": [
           {
            "automargin": true,
            "type": "pie"
           }
          ],
          "scatter": [
           {
            "marker": {
             "colorbar": {
              "outlinewidth": 0,
              "ticks": ""
             }
            },
            "type": "scatter"
           }
          ],
          "scatter3d": [
           {
            "line": {
             "colorbar": {
              "outlinewidth": 0,
              "ticks": ""
             }
            },
            "marker": {
             "colorbar": {
              "outlinewidth": 0,
              "ticks": ""
             }
            },
            "type": "scatter3d"
           }
          ],
          "scattercarpet": [
           {
            "marker": {
             "colorbar": {
              "outlinewidth": 0,
              "ticks": ""
             }
            },
            "type": "scattercarpet"
           }
          ],
          "scattergeo": [
           {
            "marker": {
             "colorbar": {
              "outlinewidth": 0,
              "ticks": ""
             }
            },
            "type": "scattergeo"
           }
          ],
          "scattergl": [
           {
            "marker": {
             "colorbar": {
              "outlinewidth": 0,
              "ticks": ""
             }
            },
            "type": "scattergl"
           }
          ],
          "scattermapbox": [
           {
            "marker": {
             "colorbar": {
              "outlinewidth": 0,
              "ticks": ""
             }
            },
            "type": "scattermapbox"
           }
          ],
          "scatterpolar": [
           {
            "marker": {
             "colorbar": {
              "outlinewidth": 0,
              "ticks": ""
             }
            },
            "type": "scatterpolar"
           }
          ],
          "scatterpolargl": [
           {
            "marker": {
             "colorbar": {
              "outlinewidth": 0,
              "ticks": ""
             }
            },
            "type": "scatterpolargl"
           }
          ],
          "scatterternary": [
           {
            "marker": {
             "colorbar": {
              "outlinewidth": 0,
              "ticks": ""
             }
            },
            "type": "scatterternary"
           }
          ],
          "surface": [
           {
            "colorbar": {
             "outlinewidth": 0,
             "ticks": ""
            },
            "colorscale": [
             [
              0,
              "#0d0887"
             ],
             [
              0.1111111111111111,
              "#46039f"
             ],
             [
              0.2222222222222222,
              "#7201a8"
             ],
             [
              0.3333333333333333,
              "#9c179e"
             ],
             [
              0.4444444444444444,
              "#bd3786"
             ],
             [
              0.5555555555555556,
              "#d8576b"
             ],
             [
              0.6666666666666666,
              "#ed7953"
             ],
             [
              0.7777777777777778,
              "#fb9f3a"
             ],
             [
              0.8888888888888888,
              "#fdca26"
             ],
             [
              1,
              "#f0f921"
             ]
            ],
            "type": "surface"
           }
          ],
          "table": [
           {
            "cells": {
             "fill": {
              "color": "#EBF0F8"
             },
             "line": {
              "color": "white"
             }
            },
            "header": {
             "fill": {
              "color": "#C8D4E3"
             },
             "line": {
              "color": "white"
             }
            },
            "type": "table"
           }
          ]
         },
         "layout": {
          "annotationdefaults": {
           "arrowcolor": "#2a3f5f",
           "arrowhead": 0,
           "arrowwidth": 1
          },
          "autotypenumbers": "strict",
          "coloraxis": {
           "colorbar": {
            "outlinewidth": 0,
            "ticks": ""
           }
          },
          "colorscale": {
           "diverging": [
            [
             0,
             "#8e0152"
            ],
            [
             0.1,
             "#c51b7d"
            ],
            [
             0.2,
             "#de77ae"
            ],
            [
             0.3,
             "#f1b6da"
            ],
            [
             0.4,
             "#fde0ef"
            ],
            [
             0.5,
             "#f7f7f7"
            ],
            [
             0.6,
             "#e6f5d0"
            ],
            [
             0.7,
             "#b8e186"
            ],
            [
             0.8,
             "#7fbc41"
            ],
            [
             0.9,
             "#4d9221"
            ],
            [
             1,
             "#276419"
            ]
           ],
           "sequential": [
            [
             0,
             "#0d0887"
            ],
            [
             0.1111111111111111,
             "#46039f"
            ],
            [
             0.2222222222222222,
             "#7201a8"
            ],
            [
             0.3333333333333333,
             "#9c179e"
            ],
            [
             0.4444444444444444,
             "#bd3786"
            ],
            [
             0.5555555555555556,
             "#d8576b"
            ],
            [
             0.6666666666666666,
             "#ed7953"
            ],
            [
             0.7777777777777778,
             "#fb9f3a"
            ],
            [
             0.8888888888888888,
             "#fdca26"
            ],
            [
             1,
             "#f0f921"
            ]
           ],
           "sequentialminus": [
            [
             0,
             "#0d0887"
            ],
            [
             0.1111111111111111,
             "#46039f"
            ],
            [
             0.2222222222222222,
             "#7201a8"
            ],
            [
             0.3333333333333333,
             "#9c179e"
            ],
            [
             0.4444444444444444,
             "#bd3786"
            ],
            [
             0.5555555555555556,
             "#d8576b"
            ],
            [
             0.6666666666666666,
             "#ed7953"
            ],
            [
             0.7777777777777778,
             "#fb9f3a"
            ],
            [
             0.8888888888888888,
             "#fdca26"
            ],
            [
             1,
             "#f0f921"
            ]
           ]
          },
          "colorway": [
           "#636efa",
           "#EF553B",
           "#00cc96",
           "#ab63fa",
           "#FFA15A",
           "#19d3f3",
           "#FF6692",
           "#B6E880",
           "#FF97FF",
           "#FECB52"
          ],
          "font": {
           "color": "#2a3f5f"
          },
          "geo": {
           "bgcolor": "white",
           "lakecolor": "white",
           "landcolor": "#E5ECF6",
           "showlakes": true,
           "showland": true,
           "subunitcolor": "white"
          },
          "hoverlabel": {
           "align": "left"
          },
          "hovermode": "closest",
          "mapbox": {
           "style": "light"
          },
          "paper_bgcolor": "white",
          "plot_bgcolor": "#E5ECF6",
          "polar": {
           "angularaxis": {
            "gridcolor": "white",
            "linecolor": "white",
            "ticks": ""
           },
           "bgcolor": "#E5ECF6",
           "radialaxis": {
            "gridcolor": "white",
            "linecolor": "white",
            "ticks": ""
           }
          },
          "scene": {
           "xaxis": {
            "backgroundcolor": "#E5ECF6",
            "gridcolor": "white",
            "gridwidth": 2,
            "linecolor": "white",
            "showbackground": true,
            "ticks": "",
            "zerolinecolor": "white"
           },
           "yaxis": {
            "backgroundcolor": "#E5ECF6",
            "gridcolor": "white",
            "gridwidth": 2,
            "linecolor": "white",
            "showbackground": true,
            "ticks": "",
            "zerolinecolor": "white"
           },
           "zaxis": {
            "backgroundcolor": "#E5ECF6",
            "gridcolor": "white",
            "gridwidth": 2,
            "linecolor": "white",
            "showbackground": true,
            "ticks": "",
            "zerolinecolor": "white"
           }
          },
          "shapedefaults": {
           "line": {
            "color": "#2a3f5f"
           }
          },
          "ternary": {
           "aaxis": {
            "gridcolor": "white",
            "linecolor": "white",
            "ticks": ""
           },
           "baxis": {
            "gridcolor": "white",
            "linecolor": "white",
            "ticks": ""
           },
           "bgcolor": "#E5ECF6",
           "caxis": {
            "gridcolor": "white",
            "linecolor": "white",
            "ticks": ""
           }
          },
          "title": {
           "x": 0.05
          },
          "xaxis": {
           "automargin": true,
           "gridcolor": "white",
           "linecolor": "white",
           "ticks": "",
           "title": {
            "standoff": 15
           },
           "zerolinecolor": "white",
           "zerolinewidth": 2
          },
          "yaxis": {
           "automargin": true,
           "gridcolor": "white",
           "linecolor": "white",
           "ticks": "",
           "title": {
            "standoff": 15
           },
           "zerolinecolor": "white",
           "zerolinewidth": 2
          }
         }
        },
        "title": {
         "text": "FQ+reacción+sc precursoras",
         "x": 0.5,
         "xanchor": "center",
         "y": 0.9,
         "yanchor": "top"
        },
        "width": 800,
        "xaxis": {
         "domain": [
          0.15,
          1
         ],
         "mirror": false,
         "rangemode": "tozero",
         "showgrid": false,
         "showline": false,
         "showticklabels": true,
         "tickmode": "array",
         "ticks": "",
         "ticktext": [
          "_feat_CyclomaticNumber",
          "_feat_SmallestRingSize",
          "_feat_LargestRingSize",
          "_feat_RingAtomCount",
          "_feat_CarboRingCount",
          "_feat_AromaticRingCount",
          "_feat_CarboaromaticRingCount",
          "_feat_AromaticAtomCount",
          "_feat_BalabanIndex",
          "_feat_Aliphatic AtomCount",
          "_feat_ChainAtomCount",
          "_feat_ASA-",
          "_feat_ASA_H",
          "_feat_molsurfaceareaVDWp",
          "_feat_msareaVDWp",
          "_feat_VanderWaalsSurfaceArea",
          "_feat_ASA",
          "_feat_MaximalProjectionRadius",
          "_feat_minimalprojectionsize",
          "_feat_LengthPerpendicularToTheMinArea",
          "_feat_MinimalProjectionArea",
          "_feat_BondCount",
          "_feat_AtomCount_C",
          "_feat_WienerPolarity",
          "_feat_AvgPol",
          "_feat_VanderWaalsVolume",
          "_feat_molsurfaceareaASAp",
          "_feat_msareaASAp",
          "_feat_ASA+",
          "_feat_RotatableBondCount",
          "_feat_MaximalProjectionArea",
          "_feat_MolPol",
          "_raw_molweight",
          "_feat_HyperWienerIndex",
          "_feat_WienerIndex",
          "_feat_Refractivity",
          "_feat_MinimalProjectionRadius",
          "_feat_maximalprojectionsize",
          "_feat_LengthPerpendicularToTheMaxArea",
          "_feat_fr_guanido",
          "_feat_ASA_P",
          "_feat_donsitecount",
          "_feat_ProtPolarSurfaceArea",
          "_feat_Protpsa",
          "_feat_Accsitecount",
          "_feat_acceptorcount",
          "_feat_Hacceptorcount",
          "_feat_PolarSurfaceArea",
          "_feat_AtomCount_N",
          "_feat_Hdonorcount",
          "_feat_donorcount",
          "_feat_fr_quatN",
          "_feat_fr_NH2",
          "_feat_fr_amidine",
          "_raw_reagent_1_chemicals_1_actual_amount",
          "_raw_reagent_3_chemicals_1_actual_amount",
          "_raw_reagent_3_chemicals_0_actual_amount",
          "_raw_reagent_4_chemicals_1_actual_amount",
          "_raw_reagent_3_chemicals_2_actual_amount",
          "_raw_reagent_3_volume",
          "_raw_reagent_1_chemicals_0_actual_amount",
          "_raw_reagent_2_chemicals_1_actual_amount",
          "_raw_reagent_0_chemicals_0_actual_amount",
          "_raw_reagent_6_volume",
          "_raw_reagent_6_chemicals_0_actual_amount",
          "_raw_reagent_4_chemicals_0_actual_amount",
          "_raw_reagent_4_volume",
          "_raw_reagent_1_chemicals_2_actual_amount",
          "_raw_reagent_1_volume",
          "_rxn_M_inorganic",
          "_raw_reagent_0_volume",
          "_raw_reagent_2_volume",
          "_rxn_M_organic",
          "_raw_reagent_5_chemicals_0_actual_amount",
          "_raw_reagent_2_chemicals_0_actual_amount",
          "_rxn_temperatureC_actual_bulk",
          "_rxn_M_acid",
          "_raw_reagent_5_volume",
          "_feat_fr_NH1",
          "_feat_CarboaliphaticRingCount",
          "_feat_AliphaticRingCount",
          "_feat_fr_NH0",
          "_feat_fr_Imine",
          "_feat_HeteroaliphaticRingCount"
         ],
         "tickvals": [
          5,
          15,
          25,
          35,
          45,
          55,
          65,
          75,
          85,
          95,
          105,
          115,
          125,
          135,
          145,
          155,
          165,
          175,
          185,
          195,
          205,
          215,
          225,
          235,
          245,
          255,
          265,
          275,
          285,
          295,
          305,
          315,
          325,
          335,
          345,
          355,
          365,
          375,
          385,
          395,
          405,
          415,
          425,
          435,
          445,
          455,
          465,
          475,
          485,
          495,
          505,
          515,
          525,
          535,
          545,
          555,
          565,
          575,
          585,
          595,
          605,
          615,
          625,
          635,
          645,
          655,
          665,
          675,
          685,
          695,
          705,
          715,
          725,
          735,
          745,
          755,
          765,
          775,
          785,
          795,
          805,
          815,
          825,
          835
         ],
         "type": "linear",
         "zeroline": false
        },
        "xaxis2": {
         "domain": [
          0,
          0.15
         ],
         "mirror": false,
         "showgrid": false,
         "showline": false,
         "showticklabels": false,
         "ticks": "",
         "zeroline": false
        },
        "yaxis": {
         "domain": [
          0,
          0.85
         ],
         "mirror": false,
         "rangemode": "tozero",
         "showgrid": false,
         "showline": false,
         "showticklabels": false,
         "ticks": "",
         "ticktext": [
          "_feat_CyclomaticNumber",
          "_feat_SmallestRingSize",
          "_feat_LargestRingSize",
          "_feat_RingAtomCount",
          "_feat_CarboRingCount",
          "_feat_AromaticRingCount",
          "_feat_CarboaromaticRingCount",
          "_feat_AromaticAtomCount",
          "_feat_BalabanIndex",
          "_feat_Aliphatic AtomCount",
          "_feat_ChainAtomCount",
          "_feat_ASA-",
          "_feat_ASA_H",
          "_feat_molsurfaceareaVDWp",
          "_feat_msareaVDWp",
          "_feat_VanderWaalsSurfaceArea",
          "_feat_ASA",
          "_feat_MaximalProjectionRadius",
          "_feat_minimalprojectionsize",
          "_feat_LengthPerpendicularToTheMinArea",
          "_feat_MinimalProjectionArea",
          "_feat_BondCount",
          "_feat_AtomCount_C",
          "_feat_WienerPolarity",
          "_feat_AvgPol",
          "_feat_VanderWaalsVolume",
          "_feat_molsurfaceareaASAp",
          "_feat_msareaASAp",
          "_feat_ASA+",
          "_feat_RotatableBondCount",
          "_feat_MaximalProjectionArea",
          "_feat_MolPol",
          "_raw_molweight",
          "_feat_HyperWienerIndex",
          "_feat_WienerIndex",
          "_feat_Refractivity",
          "_feat_MinimalProjectionRadius",
          "_feat_maximalprojectionsize",
          "_feat_LengthPerpendicularToTheMaxArea",
          "_feat_fr_guanido",
          "_feat_ASA_P",
          "_feat_donsitecount",
          "_feat_ProtPolarSurfaceArea",
          "_feat_Protpsa",
          "_feat_Accsitecount",
          "_feat_acceptorcount",
          "_feat_Hacceptorcount",
          "_feat_PolarSurfaceArea",
          "_feat_AtomCount_N",
          "_feat_Hdonorcount",
          "_feat_donorcount",
          "_feat_fr_quatN",
          "_feat_fr_NH2",
          "_feat_fr_amidine",
          "_raw_reagent_1_chemicals_1_actual_amount",
          "_raw_reagent_3_chemicals_1_actual_amount",
          "_raw_reagent_3_chemicals_0_actual_amount",
          "_raw_reagent_4_chemicals_1_actual_amount",
          "_raw_reagent_3_chemicals_2_actual_amount",
          "_raw_reagent_3_volume",
          "_raw_reagent_1_chemicals_0_actual_amount",
          "_raw_reagent_2_chemicals_1_actual_amount",
          "_raw_reagent_0_chemicals_0_actual_amount",
          "_raw_reagent_6_volume",
          "_raw_reagent_6_chemicals_0_actual_amount",
          "_raw_reagent_4_chemicals_0_actual_amount",
          "_raw_reagent_4_volume",
          "_raw_reagent_1_chemicals_2_actual_amount",
          "_raw_reagent_1_volume",
          "_rxn_M_inorganic",
          "_raw_reagent_0_volume",
          "_raw_reagent_2_volume",
          "_rxn_M_organic",
          "_raw_reagent_5_chemicals_0_actual_amount",
          "_raw_reagent_2_chemicals_0_actual_amount",
          "_rxn_temperatureC_actual_bulk",
          "_rxn_M_acid",
          "_raw_reagent_5_volume",
          "_feat_fr_NH1",
          "_feat_CarboaliphaticRingCount",
          "_feat_AliphaticRingCount",
          "_feat_fr_NH0",
          "_feat_fr_Imine",
          "_feat_HeteroaliphaticRingCount"
         ],
         "tickvals": [
          5,
          15,
          25,
          35,
          45,
          55,
          65,
          75,
          85,
          95,
          105,
          115,
          125,
          135,
          145,
          155,
          165,
          175,
          185,
          195,
          205,
          215,
          225,
          235,
          245,
          255,
          265,
          275,
          285,
          295,
          305,
          315,
          325,
          335,
          345,
          355,
          365,
          375,
          385,
          395,
          405,
          415,
          425,
          435,
          445,
          455,
          465,
          475,
          485,
          495,
          505,
          515,
          525,
          535,
          545,
          555,
          565,
          575,
          585,
          595,
          605,
          615,
          625,
          635,
          645,
          655,
          665,
          675,
          685,
          695,
          705,
          715,
          725,
          735,
          745,
          755,
          765,
          775,
          785,
          795,
          805,
          815,
          825,
          835
         ],
         "type": "linear",
         "zeroline": false
        },
        "yaxis2": {
         "domain": [
          0.825,
          0.975
         ],
         "mirror": false,
         "showgrid": false,
         "showline": false,
         "showticklabels": false,
         "ticks": "",
         "zeroline": false
        }
       }
      },
      "text/html": "<div>                            <div id=\"410c21a8-96f1-4600-9a33-4b5ca416b367\" class=\"plotly-graph-div\" style=\"height:800px; width:800px;\"></div>            <script type=\"text/javascript\">                require([\"plotly\"], function(Plotly) {                    window.PLOTLYENV=window.PLOTLYENV || {};                                    if (document.getElementById(\"410c21a8-96f1-4600-9a33-4b5ca416b367\")) {                    Plotly.newPlot(                        \"410c21a8-96f1-4600-9a33-4b5ca416b367\",                        [{\"hoverinfo\": \"text\", \"marker\": {\"color\": \"rgb(61,153,112)\"}, \"mode\": \"lines\", \"type\": \"scatter\", \"x\": [15.0, 15.0, 25.0, 25.0], \"xaxis\": \"x\", \"y\": [0.0, 0.0, 0.0, 0.0], \"yaxis\": \"y2\"}, {\"hoverinfo\": \"text\", \"marker\": {\"color\": \"rgb(61,153,112)\"}, \"mode\": \"lines\", \"type\": \"scatter\", \"x\": [20.0, 20.0, 35.0, 35.0], \"xaxis\": \"x\", \"y\": [0.0, 0.0, 0.0, 0.0], \"yaxis\": \"y2\"}, {\"hoverinfo\": \"text\", \"marker\": {\"color\": \"rgb(61,153,112)\"}, \"mode\": \"lines\", \"type\": \"scatter\", \"x\": [5.0, 5.0, 27.5, 27.5], \"xaxis\": \"x\", \"y\": [0.0, 0.23272233612431234, 0.23272233612431234, 0.0], \"yaxis\": \"y2\"}, {\"hoverinfo\": \"text\", \"marker\": {\"color\": \"rgb(61,153,112)\"}, \"mode\": \"lines\", \"type\": \"scatter\", \"x\": [55.0, 55.0, 65.0, 65.0], \"xaxis\": \"x\", \"y\": [0.0, 0.0, 0.0, 0.0], \"yaxis\": \"y2\"}, {\"hoverinfo\": \"text\", \"marker\": {\"color\": \"rgb(61,153,112)\"}, \"mode\": \"lines\", \"type\": \"scatter\", \"x\": [60.0, 60.0, 75.0, 75.0], \"xaxis\": \"x\", \"y\": [0.0, 0.0, 0.0, 0.0], \"yaxis\": \"y2\"}, {\"hoverinfo\": \"text\", \"marker\": {\"color\": \"rgb(61,153,112)\"}, \"mode\": \"lines\", \"type\": \"scatter\", \"x\": [45.0, 45.0, 67.5, 67.5], \"xaxis\": \"x\", \"y\": [0.0, 0.35228995536714974, 0.35228995536714974, 0.0], \"yaxis\": \"y2\"}, {\"hoverinfo\": \"text\", \"marker\": {\"color\": \"rgb(61,153,112)\"}, \"mode\": \"lines\", \"type\": \"scatter\", \"x\": [16.25, 16.25, 56.25, 56.25], \"xaxis\": \"x\", \"y\": [0.23272233612431234, 0.8225423946856198, 0.8225423946856198, 0.35228995536714974], \"yaxis\": \"y2\"}, {\"hoverinfo\": \"text\", \"marker\": {\"color\": \"rgb(255,65,54)\"}, \"mode\": \"lines\", \"type\": \"scatter\", \"x\": [95.0, 95.0, 105.0, 105.0], \"xaxis\": \"x\", \"y\": [0.0, 0.8496656116699915, 0.8496656116699915, 0.0], \"yaxis\": \"y2\"}, {\"hoverinfo\": \"text\", \"marker\": {\"color\": \"rgb(255,65,54)\"}, \"mode\": \"lines\", \"type\": \"scatter\", \"x\": [85.0, 85.0, 100.0, 100.0], \"xaxis\": \"x\", \"y\": [0.0, 0.966950327866998, 0.966950327866998, 0.8496656116699915], \"yaxis\": \"y2\"}, {\"hoverinfo\": \"text\", \"marker\": {\"color\": \"rgb(35,205,205)\"}, \"mode\": \"lines\", \"type\": \"scatter\", \"x\": [145.0, 145.0, 155.0, 155.0], \"xaxis\": \"x\", \"y\": [0.0, 0.0, 0.0, 0.0], \"yaxis\": \"y2\"}, {\"hoverinfo\": \"text\", \"marker\": {\"color\": \"rgb(35,205,205)\"}, \"mode\": \"lines\", \"type\": \"scatter\", \"x\": [135.0, 135.0, 150.0, 150.0], \"xaxis\": \"x\", \"y\": [0.0, 0.0, 0.0, 0.0], \"yaxis\": \"y2\"}, {\"hoverinfo\": \"text\", \"marker\": {\"color\": \"rgb(35,205,205)\"}, \"mode\": \"lines\", \"type\": \"scatter\", \"x\": [142.5, 142.5, 165.0, 165.0], \"xaxis\": \"x\", \"y\": [0.0, 0.2570942575691794, 0.2570942575691794, 0.0], \"yaxis\": \"y2\"}, {\"hoverinfo\": \"text\", \"marker\": {\"color\": \"rgb(35,205,205)\"}, \"mode\": \"lines\", \"type\": \"scatter\", \"x\": [153.75, 153.75, 175.0, 175.0], \"xaxis\": \"x\", \"y\": [0.2570942575691794, 0.29978174957798703, 0.29978174957798703, 0.0], \"yaxis\": \"y2\"}, {\"hoverinfo\": \"text\", \"marker\": {\"color\": \"rgb(35,205,205)\"}, \"mode\": \"lines\", \"type\": \"scatter\", \"x\": [125.0, 125.0, 164.375, 164.375], \"xaxis\": \"x\", \"y\": [0.0, 0.6170913823333711, 0.6170913823333711, 0.29978174957798703], \"yaxis\": \"y2\"}, {\"hoverinfo\": \"text\", \"marker\": {\"color\": \"rgb(35,205,205)\"}, \"mode\": \"lines\", \"type\": \"scatter\", \"x\": [185.0, 185.0, 195.0, 195.0], \"xaxis\": \"x\", \"y\": [0.0, 0.0, 0.0, 0.0], \"yaxis\": \"y2\"}, {\"hoverinfo\": \"text\", \"marker\": {\"color\": \"rgb(35,205,205)\"}, \"mode\": \"lines\", \"type\": \"scatter\", \"x\": [144.6875, 144.6875, 190.0, 190.0], \"xaxis\": \"x\", \"y\": [0.6170913823333711, 0.7329422983701843, 0.7329422983701843, 0.0], \"yaxis\": \"y2\"}, {\"hoverinfo\": \"text\", \"marker\": {\"color\": \"rgb(35,205,205)\"}, \"mode\": \"lines\", \"type\": \"scatter\", \"x\": [215.0, 215.0, 225.0, 225.0], \"xaxis\": \"x\", \"y\": [0.0, 0.5897856575177266, 0.5897856575177266, 0.0], \"yaxis\": \"y2\"}, {\"hoverinfo\": \"text\", \"marker\": {\"color\": \"rgb(35,205,205)\"}, \"mode\": \"lines\", \"type\": \"scatter\", \"x\": [205.0, 205.0, 220.0, 220.0], \"xaxis\": \"x\", \"y\": [0.0, 0.5999579056035879, 0.5999579056035879, 0.5897856575177266], \"yaxis\": \"y2\"}, {\"hoverinfo\": \"text\", \"marker\": {\"color\": \"rgb(35,205,205)\"}, \"mode\": \"lines\", \"type\": \"scatter\", \"x\": [167.34375, 167.34375, 212.5, 212.5], \"xaxis\": \"x\", \"y\": [0.7329422983701843, 0.7211554229540333, 0.7211554229540333, 0.5999579056035879], \"yaxis\": \"y2\"}, {\"hoverinfo\": \"text\", \"marker\": {\"color\": \"rgb(35,205,205)\"}, \"mode\": \"lines\", \"type\": \"scatter\", \"x\": [245.0, 245.0, 255.0, 255.0], \"xaxis\": \"x\", \"y\": [0.0, 0.17865320422845038, 0.17865320422845038, 0.0], \"yaxis\": \"y2\"}, {\"hoverinfo\": \"text\", \"marker\": {\"color\": \"rgb(35,205,205)\"}, \"mode\": \"lines\", \"type\": \"scatter\", \"x\": [265.0, 265.0, 275.0, 275.0], \"xaxis\": \"x\", \"y\": [0.0, 0.0, 0.0, 0.0], \"yaxis\": \"y2\"}, {\"hoverinfo\": \"text\", \"marker\": {\"color\": \"rgb(35,205,205)\"}, \"mode\": \"lines\", \"type\": \"scatter\", \"x\": [250.0, 250.0, 270.0, 270.0], \"xaxis\": \"x\", \"y\": [0.17865320422845038, 0.35022051064743154, 0.35022051064743154, 0.0], \"yaxis\": \"y2\"}, {\"hoverinfo\": \"text\", \"marker\": {\"color\": \"rgb(35,205,205)\"}, \"mode\": \"lines\", \"type\": \"scatter\", \"x\": [260.0, 260.0, 285.0, 285.0], \"xaxis\": \"x\", \"y\": [0.35022051064743154, 0.5533842316671019, 0.5533842316671019, 0.0], \"yaxis\": \"y2\"}, {\"hoverinfo\": \"text\", \"marker\": {\"color\": \"rgb(35,205,205)\"}, \"mode\": \"lines\", \"type\": \"scatter\", \"x\": [272.5, 272.5, 295.0, 295.0], \"xaxis\": \"x\", \"y\": [0.5533842316671019, 0.8252781924159924, 0.8252781924159924, 0.0], \"yaxis\": \"y2\"}, {\"hoverinfo\": \"text\", \"marker\": {\"color\": \"rgb(35,205,205)\"}, \"mode\": \"lines\", \"type\": \"scatter\", \"x\": [235.0, 235.0, 283.75, 283.75], \"xaxis\": \"x\", \"y\": [0.0, 0.9172572393901185, 0.9172572393901185, 0.8252781924159924], \"yaxis\": \"y2\"}, {\"hoverinfo\": \"text\", \"marker\": {\"color\": \"rgb(35,205,205)\"}, \"mode\": \"lines\", \"type\": \"scatter\", \"x\": [189.921875, 189.921875, 259.375, 259.375], \"xaxis\": \"x\", \"y\": [0.7211554229540333, 0.9013987479259493, 0.9013987479259493, 0.9172572393901185], \"yaxis\": \"y2\"}, {\"hoverinfo\": \"text\", \"marker\": {\"color\": \"rgb(35,205,205)\"}, \"mode\": \"lines\", \"type\": \"scatter\", \"x\": [305.0, 305.0, 315.0, 315.0], \"xaxis\": \"x\", \"y\": [0.0, 0.28452022608451233, 0.28452022608451233, 0.0], \"yaxis\": \"y2\"}, {\"hoverinfo\": \"text\", \"marker\": {\"color\": \"rgb(35,205,205)\"}, \"mode\": \"lines\", \"type\": \"scatter\", \"x\": [335.0, 335.0, 345.0, 345.0], \"xaxis\": \"x\", \"y\": [0.0, 0.030933886566840752, 0.030933886566840752, 0.0], \"yaxis\": \"y2\"}, {\"hoverinfo\": \"text\", \"marker\": {\"color\": \"rgb(35,205,205)\"}, \"mode\": \"lines\", \"type\": \"scatter\", \"x\": [325.0, 325.0, 340.0, 340.0], \"xaxis\": \"x\", \"y\": [0.0, 0.23512748450091794, 0.23512748450091794, 0.030933886566840752], \"yaxis\": \"y2\"}, {\"hoverinfo\": \"text\", \"marker\": {\"color\": \"rgb(35,205,205)\"}, \"mode\": \"lines\", \"type\": \"scatter\", \"x\": [310.0, 310.0, 332.5, 332.5], \"xaxis\": \"x\", \"y\": [0.28452022608451233, 0.3202721490338715, 0.3202721490338715, 0.23512748450091794], \"yaxis\": \"y2\"}, {\"hoverinfo\": \"text\", \"marker\": {\"color\": \"rgb(35,205,205)\"}, \"mode\": \"lines\", \"type\": \"scatter\", \"x\": [321.25, 321.25, 355.0, 355.0], \"xaxis\": \"x\", \"y\": [0.3202721490338715, 0.4176607831912853, 0.4176607831912853, 0.0], \"yaxis\": \"y2\"}, {\"hoverinfo\": \"text\", \"marker\": {\"color\": \"rgb(35,205,205)\"}, \"mode\": \"lines\", \"type\": \"scatter\", \"x\": [338.125, 338.125, 365.0, 365.0], \"xaxis\": \"x\", \"y\": [0.4176607831912853, 0.7401350512949869, 0.7401350512949869, 0.0], \"yaxis\": \"y2\"}, {\"hoverinfo\": \"text\", \"marker\": {\"color\": \"rgb(35,205,205)\"}, \"mode\": \"lines\", \"type\": \"scatter\", \"x\": [224.6484375, 224.6484375, 351.5625, 351.5625], \"xaxis\": \"x\", \"y\": [0.9013987479259493, 1.5809623817564868, 1.5809623817564868, 0.7401350512949869], \"yaxis\": \"y2\"}, {\"hoverinfo\": \"text\", \"marker\": {\"color\": \"rgb(0,116,217)\"}, \"mode\": \"lines\", \"type\": \"scatter\", \"x\": [115.0, 115.0, 288.10546875, 288.10546875], \"xaxis\": \"x\", \"y\": [0.0, 1.882743509785516, 1.882743509785516, 1.5809623817564868], \"yaxis\": \"y2\"}, {\"hoverinfo\": \"text\", \"marker\": {\"color\": \"rgb(0,116,217)\"}, \"mode\": \"lines\", \"type\": \"scatter\", \"x\": [92.5, 92.5, 201.552734375, 201.552734375], \"xaxis\": \"x\", \"y\": [0.966950327866998, 1.9630006416511423, 1.9630006416511423, 1.882743509785516], \"yaxis\": \"y2\"}, {\"hoverinfo\": \"text\", \"marker\": {\"color\": \"rgb(133,20,75)\"}, \"mode\": \"lines\", \"type\": \"scatter\", \"x\": [375.0, 375.0, 385.0, 385.0], \"xaxis\": \"x\", \"y\": [0.0, 0.0, 0.0, 0.0], \"yaxis\": \"y2\"}, {\"hoverinfo\": \"text\", \"marker\": {\"color\": \"rgb(0,116,217)\"}, \"mode\": \"lines\", \"type\": \"scatter\", \"x\": [147.0263671875, 147.0263671875, 380.0, 380.0], \"xaxis\": \"x\", \"y\": [1.9630006416511423, 2.0146397217413425, 2.0146397217413425, 0.0], \"yaxis\": \"y2\"}, {\"hoverinfo\": \"text\", \"marker\": {\"color\": \"rgb(255,220,0)\"}, \"mode\": \"lines\", \"type\": \"scatter\", \"x\": [425.0, 425.0, 435.0, 435.0], \"xaxis\": \"x\", \"y\": [0.0, 0.0, 0.0, 0.0], \"yaxis\": \"y2\"}, {\"hoverinfo\": \"text\", \"marker\": {\"color\": \"rgb(255,220,0)\"}, \"mode\": \"lines\", \"type\": \"scatter\", \"x\": [415.0, 415.0, 430.0, 430.0], \"xaxis\": \"x\", \"y\": [0.0, 0.5749702712536731, 0.5749702712536731, 0.0], \"yaxis\": \"y2\"}, {\"hoverinfo\": \"text\", \"marker\": {\"color\": \"rgb(255,220,0)\"}, \"mode\": \"lines\", \"type\": \"scatter\", \"x\": [455.0, 455.0, 465.0, 465.0], \"xaxis\": \"x\", \"y\": [0.0, 0.0, 0.0, 0.0], \"yaxis\": \"y2\"}, {\"hoverinfo\": \"text\", \"marker\": {\"color\": \"rgb(255,220,0)\"}, \"mode\": \"lines\", \"type\": \"scatter\", \"x\": [445.0, 445.0, 460.0, 460.0], \"xaxis\": \"x\", \"y\": [0.0, 0.3158783259584002, 0.3158783259584002, 0.0], \"yaxis\": \"y2\"}, {\"hoverinfo\": \"text\", \"marker\": {\"color\": \"rgb(255,220,0)\"}, \"mode\": \"lines\", \"type\": \"scatter\", \"x\": [452.5, 452.5, 475.0, 475.0], \"xaxis\": \"x\", \"y\": [0.3158783259584002, 0.40606661230279867, 0.40606661230279867, 0.0], \"yaxis\": \"y2\"}, {\"hoverinfo\": \"text\", \"marker\": {\"color\": \"rgb(255,220,0)\"}, \"mode\": \"lines\", \"type\": \"scatter\", \"x\": [485.0, 485.0, 495.0, 495.0], \"xaxis\": \"x\", \"y\": [0.0, 0.0, 0.0, 0.0], \"yaxis\": \"y2\"}, {\"hoverinfo\": \"text\", \"marker\": {\"color\": \"rgb(255,220,0)\"}, \"mode\": \"lines\", \"type\": \"scatter\", \"x\": [490.0, 490.0, 505.0, 505.0], \"xaxis\": \"x\", \"y\": [0.0, 0.6633234064833606, 0.6633234064833606, 0.0], \"yaxis\": \"y2\"}, {\"hoverinfo\": \"text\", \"marker\": {\"color\": \"rgb(255,220,0)\"}, \"mode\": \"lines\", \"type\": \"scatter\", \"x\": [463.75, 463.75, 497.5, 497.5], \"xaxis\": \"x\", \"y\": [0.40606661230279867, 0.7756350419252821, 0.7756350419252821, 0.6633234064833606], \"yaxis\": \"y2\"}, {\"hoverinfo\": \"text\", \"marker\": {\"color\": \"rgb(255,220,0)\"}, \"mode\": \"lines\", \"type\": \"scatter\", \"x\": [515.0, 515.0, 525.0, 525.0], \"xaxis\": \"x\", \"y\": [0.0, 0.7872949023179604, 0.7872949023179604, 0.0], \"yaxis\": \"y2\"}, {\"hoverinfo\": \"text\", \"marker\": {\"color\": \"rgb(255,220,0)\"}, \"mode\": \"lines\", \"type\": \"scatter\", \"x\": [480.625, 480.625, 520.0, 520.0], \"xaxis\": \"x\", \"y\": [0.7756350419252821, 0.7737749242586186, 0.7737749242586186, 0.7872949023179604], \"yaxis\": \"y2\"}, {\"hoverinfo\": \"text\", \"marker\": {\"color\": \"rgb(255,220,0)\"}, \"mode\": \"lines\", \"type\": \"scatter\", \"x\": [422.5, 422.5, 500.3125, 500.3125], \"xaxis\": \"x\", \"y\": [0.5749702712536731, 0.9526880674059116, 0.9526880674059116, 0.7737749242586186], \"yaxis\": \"y2\"}, {\"hoverinfo\": \"text\", \"marker\": {\"color\": \"rgb(255,220,0)\"}, \"mode\": \"lines\", \"type\": \"scatter\", \"x\": [405.0, 405.0, 461.40625, 461.40625], \"xaxis\": \"x\", \"y\": [0.0, 1.251227466354911, 1.251227466354911, 0.9526880674059116], \"yaxis\": \"y2\"}, {\"hoverinfo\": \"text\", \"marker\": {\"color\": \"rgb(255,220,0)\"}, \"mode\": \"lines\", \"type\": \"scatter\", \"x\": [395.0, 395.0, 433.203125, 433.203125], \"xaxis\": \"x\", \"y\": [0.0, 1.4163373050484684, 1.4163373050484684, 1.251227466354911], \"yaxis\": \"y2\"}, {\"hoverinfo\": \"text\", \"marker\": {\"color\": \"rgb(255,220,0)\"}, \"mode\": \"lines\", \"type\": \"scatter\", \"x\": [535.0, 535.0, 545.0, 545.0], \"xaxis\": \"x\", \"y\": [0.0, 1.5187757845935246, 1.5187757845935246, 0.0], \"yaxis\": \"y2\"}, {\"hoverinfo\": \"text\", \"marker\": {\"color\": \"rgb(255,220,0)\"}, \"mode\": \"lines\", \"type\": \"scatter\", \"x\": [555.0, 555.0, 565.0, 565.0], \"xaxis\": \"x\", \"y\": [0.0, 0.036123378728196834, 0.036123378728196834, 0.0], \"yaxis\": \"y2\"}, {\"hoverinfo\": \"text\", \"marker\": {\"color\": \"rgb(255,220,0)\"}, \"mode\": \"lines\", \"type\": \"scatter\", \"x\": [575.0, 575.0, 585.0, 585.0], \"xaxis\": \"x\", \"y\": [0.0, 0.035850595128976474, 0.035850595128976474, 0.0], \"yaxis\": \"y2\"}, {\"hoverinfo\": \"text\", \"marker\": {\"color\": \"rgb(255,220,0)\"}, \"mode\": \"lines\", \"type\": \"scatter\", \"x\": [560.0, 560.0, 580.0, 580.0], \"xaxis\": \"x\", \"y\": [0.036123378728196834, 0.04320999624577331, 0.04320999624577331, 0.035850595128976474], \"yaxis\": \"y2\"}, {\"hoverinfo\": \"text\", \"marker\": {\"color\": \"rgb(255,220,0)\"}, \"mode\": \"lines\", \"type\": \"scatter\", \"x\": [570.0, 570.0, 595.0, 595.0], \"xaxis\": \"x\", \"y\": [0.04320999624577331, 1.1760997353810778, 1.1760997353810778, 0.0], \"yaxis\": \"y2\"}, {\"hoverinfo\": \"text\", \"marker\": {\"color\": \"rgb(255,220,0)\"}, \"mode\": \"lines\", \"type\": \"scatter\", \"x\": [582.5, 582.5, 605.0, 605.0], \"xaxis\": \"x\", \"y\": [1.1760997353810778, 1.4301723507196589, 1.4301723507196589, 0.0], \"yaxis\": \"y2\"}, {\"hoverinfo\": \"text\", \"marker\": {\"color\": \"rgb(255,220,0)\"}, \"mode\": \"lines\", \"type\": \"scatter\", \"x\": [635.0, 635.0, 645.0, 645.0], \"xaxis\": \"x\", \"y\": [0.0, 0.7056639461703166, 0.7056639461703166, 0.0], \"yaxis\": \"y2\"}, {\"hoverinfo\": \"text\", \"marker\": {\"color\": \"rgb(255,220,0)\"}, \"mode\": \"lines\", \"type\": \"scatter\", \"x\": [655.0, 655.0, 665.0, 665.0], \"xaxis\": \"x\", \"y\": [0.0, 0.657036205785555, 0.657036205785555, 0.0], \"yaxis\": \"y2\"}, {\"hoverinfo\": \"text\", \"marker\": {\"color\": \"rgb(255,220,0)\"}, \"mode\": \"lines\", \"type\": \"scatter\", \"x\": [640.0, 640.0, 660.0, 660.0], \"xaxis\": \"x\", \"y\": [0.7056639461703166, 1.063389691773093, 1.063389691773093, 0.657036205785555], \"yaxis\": \"y2\"}, {\"hoverinfo\": \"text\", \"marker\": {\"color\": \"rgb(255,220,0)\"}, \"mode\": \"lines\", \"type\": \"scatter\", \"x\": [625.0, 625.0, 650.0, 650.0], \"xaxis\": \"x\", \"y\": [0.0, 1.48065003548875, 1.48065003548875, 1.063389691773093], \"yaxis\": \"y2\"}, {\"hoverinfo\": \"text\", \"marker\": {\"color\": \"rgb(255,220,0)\"}, \"mode\": \"lines\", \"type\": \"scatter\", \"x\": [615.0, 615.0, 637.5, 637.5], \"xaxis\": \"x\", \"y\": [0.0, 1.3104445099215112, 1.3104445099215112, 1.48065003548875], \"yaxis\": \"y2\"}, {\"hoverinfo\": \"text\", \"marker\": {\"color\": \"rgb(255,220,0)\"}, \"mode\": \"lines\", \"type\": \"scatter\", \"x\": [626.25, 626.25, 675.0, 675.0], \"xaxis\": \"x\", \"y\": [1.3104445099215112, 1.5638760370851024, 1.5638760370851024, 0.0], \"yaxis\": \"y2\"}, {\"hoverinfo\": \"text\", \"marker\": {\"color\": \"rgb(255,220,0)\"}, \"mode\": \"lines\", \"type\": \"scatter\", \"x\": [685.0, 685.0, 695.0, 695.0], \"xaxis\": \"x\", \"y\": [0.0, 1.1000071040466979, 1.1000071040466979, 0.0], \"yaxis\": \"y2\"}, {\"hoverinfo\": \"text\", \"marker\": {\"color\": \"rgb(255,220,0)\"}, \"mode\": \"lines\", \"type\": \"scatter\", \"x\": [690.0, 690.0, 705.0, 705.0], \"xaxis\": \"x\", \"y\": [1.1000071040466979, 1.32780708995779, 1.32780708995779, 0.0], \"yaxis\": \"y2\"}, {\"hoverinfo\": \"text\", \"marker\": {\"color\": \"rgb(255,220,0)\"}, \"mode\": \"lines\", \"type\": \"scatter\", \"x\": [697.5, 697.5, 715.0, 715.0], \"xaxis\": \"x\", \"y\": [1.32780708995779, 1.3013112982589221, 1.3013112982589221, 0.0], \"yaxis\": \"y2\"}, {\"hoverinfo\": \"text\", \"marker\": {\"color\": \"rgb(255,220,0)\"}, \"mode\": \"lines\", \"type\": \"scatter\", \"x\": [706.25, 706.25, 725.0, 725.0], \"xaxis\": \"x\", \"y\": [1.3013112982589221, 1.3417019160769164, 1.3417019160769164, 0.0], \"yaxis\": \"y2\"}, {\"hoverinfo\": \"text\", \"marker\": {\"color\": \"rgb(255,220,0)\"}, \"mode\": \"lines\", \"type\": \"scatter\", \"x\": [735.0, 735.0, 745.0, 745.0], \"xaxis\": \"x\", \"y\": [0.0, 1.3545165129126244, 1.3545165129126244, 0.0], \"yaxis\": \"y2\"}, {\"hoverinfo\": \"text\", \"marker\": {\"color\": \"rgb(255,220,0)\"}, \"mode\": \"lines\", \"type\": \"scatter\", \"x\": [715.625, 715.625, 740.0, 740.0], \"xaxis\": \"x\", \"y\": [1.3417019160769164, 1.3718296138411608, 1.3718296138411608, 1.3545165129126244], \"yaxis\": \"y2\"}, {\"hoverinfo\": \"text\", \"marker\": {\"color\": \"rgb(255,220,0)\"}, \"mode\": \"lines\", \"type\": \"scatter\", \"x\": [727.8125, 727.8125, 755.0, 755.0], \"xaxis\": \"x\", \"y\": [1.3718296138411608, 1.2264418074653862, 1.2264418074653862, 0.0], \"yaxis\": \"y2\"}, {\"hoverinfo\": \"text\", \"marker\": {\"color\": \"rgb(255,220,0)\"}, \"mode\": \"lines\", \"type\": \"scatter\", \"x\": [765.0, 765.0, 775.0, 775.0], \"xaxis\": \"x\", \"y\": [0.0, 1.1117662268366177, 1.1117662268366177, 0.0], \"yaxis\": \"y2\"}, {\"hoverinfo\": \"text\", \"marker\": {\"color\": \"rgb(255,220,0)\"}, \"mode\": \"lines\", \"type\": \"scatter\", \"x\": [741.40625, 741.40625, 770.0, 770.0], \"xaxis\": \"x\", \"y\": [1.2264418074653862, 1.3143677520472123, 1.3143677520472123, 1.1117662268366177], \"yaxis\": \"y2\"}, {\"hoverinfo\": \"text\", \"marker\": {\"color\": \"rgb(255,220,0)\"}, \"mode\": \"lines\", \"type\": \"scatter\", \"x\": [755.703125, 755.703125, 785.0, 785.0], \"xaxis\": \"x\", \"y\": [1.3143677520472123, 1.3587598928599176, 1.3587598928599176, 0.0], \"yaxis\": \"y2\"}, {\"hoverinfo\": \"text\", \"marker\": {\"color\": \"rgb(255,220,0)\"}, \"mode\": \"lines\", \"type\": \"scatter\", \"x\": [770.3515625, 770.3515625, 795.0, 795.0], \"xaxis\": \"x\", \"y\": [1.3587598928599176, 1.438190615407098, 1.438190615407098, 0.0], \"yaxis\": \"y2\"}, {\"hoverinfo\": \"text\", \"marker\": {\"color\": \"rgb(255,220,0)\"}, \"mode\": \"lines\", \"type\": \"scatter\", \"x\": [650.625, 650.625, 782.67578125, 782.67578125], \"xaxis\": \"x\", \"y\": [1.5638760370851024, 1.5692840374987629, 1.5692840374987629, 1.438190615407098], \"yaxis\": \"y2\"}, {\"hoverinfo\": \"text\", \"marker\": {\"color\": \"rgb(255,220,0)\"}, \"mode\": \"lines\", \"type\": \"scatter\", \"x\": [593.75, 593.75, 716.650390625, 716.650390625], \"xaxis\": \"x\", \"y\": [1.4301723507196589, 1.5077386383310771, 1.5077386383310771, 1.5692840374987629], \"yaxis\": \"y2\"}, {\"hoverinfo\": \"text\", \"marker\": {\"color\": \"rgb(255,220,0)\"}, \"mode\": \"lines\", \"type\": \"scatter\", \"x\": [540.0, 540.0, 655.2001953125, 655.2001953125], \"xaxis\": \"x\", \"y\": [1.5187757845935246, 1.6874511320025385, 1.6874511320025385, 1.5077386383310771], \"yaxis\": \"y2\"}, {\"hoverinfo\": \"text\", \"marker\": {\"color\": \"rgb(255,220,0)\"}, \"mode\": \"lines\", \"type\": \"scatter\", \"x\": [414.1015625, 414.1015625, 597.60009765625, 597.60009765625], \"xaxis\": \"x\", \"y\": [1.4163373050484684, 1.8657202219315796, 1.8657202219315796, 1.6874511320025385], \"yaxis\": \"y2\"}, {\"hoverinfo\": \"text\", \"marker\": {\"color\": \"rgb(40,35,35)\"}, \"mode\": \"lines\", \"type\": \"scatter\", \"x\": [815.0, 815.0, 825.0, 825.0], \"xaxis\": \"x\", \"y\": [0.0, 0.0, 0.0, 0.0], \"yaxis\": \"y2\"}, {\"hoverinfo\": \"text\", \"marker\": {\"color\": \"rgb(40,35,35)\"}, \"mode\": \"lines\", \"type\": \"scatter\", \"x\": [820.0, 820.0, 835.0, 835.0], \"xaxis\": \"x\", \"y\": [0.0, 0.0, 0.0, 0.0], \"yaxis\": \"y2\"}, {\"hoverinfo\": \"text\", \"marker\": {\"color\": \"rgb(40,35,35)\"}, \"mode\": \"lines\", \"type\": \"scatter\", \"x\": [805.0, 805.0, 827.5, 827.5], \"xaxis\": \"x\", \"y\": [0.0, 0.9549369736063766, 0.9549369736063766, 0.0], \"yaxis\": \"y2\"}, {\"hoverinfo\": \"text\", \"marker\": {\"color\": \"rgb(0,116,217)\"}, \"mode\": \"lines\", \"type\": \"scatter\", \"x\": [505.850830078125, 505.850830078125, 816.25, 816.25], \"xaxis\": \"x\", \"y\": [1.8657202219315796, 2.1917442443519235, 2.1917442443519235, 0.9549369736063766], \"yaxis\": \"y2\"}, {\"hoverinfo\": \"text\", \"marker\": {\"color\": \"rgb(0,116,217)\"}, \"mode\": \"lines\", \"type\": \"scatter\", \"x\": [263.51318359375, 263.51318359375, 661.0504150390625, 661.0504150390625], \"xaxis\": \"x\", \"y\": [2.0146397217413425, 2.5411476741310457, 2.5411476741310457, 2.1917442443519235], \"yaxis\": \"y2\"}, {\"hoverinfo\": \"text\", \"marker\": {\"color\": \"rgb(0,116,217)\"}, \"mode\": \"lines\", \"type\": \"scatter\", \"x\": [36.25, 36.25, 462.28179931640625, 462.28179931640625], \"xaxis\": \"x\", \"y\": [0.8225423946856198, 2.6658111467421843, 2.6658111467421843, 2.5411476741310457], \"yaxis\": \"y2\"}, {\"hoverinfo\": \"text\", \"marker\": {\"color\": \"rgb(61,153,112)\"}, \"mode\": \"lines\", \"type\": \"scatter\", \"x\": [-0.0, -0.0, -0.0, -0.0], \"xaxis\": \"x2\", \"y\": [15.0, 15.0, 25.0, 25.0], \"yaxis\": \"y\"}, {\"hoverinfo\": \"text\", \"marker\": {\"color\": \"rgb(61,153,112)\"}, \"mode\": \"lines\", \"type\": \"scatter\", \"x\": [-0.0, -0.0, -0.0, -0.0], \"xaxis\": \"x2\", \"y\": [20.0, 20.0, 35.0, 35.0], \"yaxis\": \"y\"}, {\"hoverinfo\": \"text\", \"marker\": {\"color\": \"rgb(61,153,112)\"}, \"mode\": \"lines\", \"type\": \"scatter\", \"x\": [-0.0, -0.23272233612431234, -0.23272233612431234, -0.0], \"xaxis\": \"x2\", \"y\": [5.0, 5.0, 27.5, 27.5], \"yaxis\": \"y\"}, {\"hoverinfo\": \"text\", \"marker\": {\"color\": \"rgb(61,153,112)\"}, \"mode\": \"lines\", \"type\": \"scatter\", \"x\": [-0.0, -0.0, -0.0, -0.0], \"xaxis\": \"x2\", \"y\": [55.0, 55.0, 65.0, 65.0], \"yaxis\": \"y\"}, {\"hoverinfo\": \"text\", \"marker\": {\"color\": \"rgb(61,153,112)\"}, \"mode\": \"lines\", \"type\": \"scatter\", \"x\": [-0.0, -0.0, -0.0, -0.0], \"xaxis\": \"x2\", \"y\": [60.0, 60.0, 75.0, 75.0], \"yaxis\": \"y\"}, {\"hoverinfo\": \"text\", \"marker\": {\"color\": \"rgb(61,153,112)\"}, \"mode\": \"lines\", \"type\": \"scatter\", \"x\": [-0.0, -0.35228995536714974, -0.35228995536714974, -0.0], \"xaxis\": \"x2\", \"y\": [45.0, 45.0, 67.5, 67.5], \"yaxis\": \"y\"}, {\"hoverinfo\": \"text\", \"marker\": {\"color\": \"rgb(61,153,112)\"}, \"mode\": \"lines\", \"type\": \"scatter\", \"x\": [-0.23272233612431234, -0.8225423946856198, -0.8225423946856198, -0.35228995536714974], \"xaxis\": \"x2\", \"y\": [16.25, 16.25, 56.25, 56.25], \"yaxis\": \"y\"}, {\"hoverinfo\": \"text\", \"marker\": {\"color\": \"rgb(255,65,54)\"}, \"mode\": \"lines\", \"type\": \"scatter\", \"x\": [-0.0, -0.8496656116699915, -0.8496656116699915, -0.0], \"xaxis\": \"x2\", \"y\": [95.0, 95.0, 105.0, 105.0], \"yaxis\": \"y\"}, {\"hoverinfo\": \"text\", \"marker\": {\"color\": \"rgb(255,65,54)\"}, \"mode\": \"lines\", \"type\": \"scatter\", \"x\": [-0.0, -0.966950327866998, -0.966950327866998, -0.8496656116699915], \"xaxis\": \"x2\", \"y\": [85.0, 85.0, 100.0, 100.0], \"yaxis\": \"y\"}, {\"hoverinfo\": \"text\", \"marker\": {\"color\": \"rgb(35,205,205)\"}, \"mode\": \"lines\", \"type\": \"scatter\", \"x\": [-0.0, -0.0, -0.0, -0.0], \"xaxis\": \"x2\", \"y\": [145.0, 145.0, 155.0, 155.0], \"yaxis\": \"y\"}, {\"hoverinfo\": \"text\", \"marker\": {\"color\": \"rgb(35,205,205)\"}, \"mode\": \"lines\", \"type\": \"scatter\", \"x\": [-0.0, -0.0, -0.0, -0.0], \"xaxis\": \"x2\", \"y\": [135.0, 135.0, 150.0, 150.0], \"yaxis\": \"y\"}, {\"hoverinfo\": \"text\", \"marker\": {\"color\": \"rgb(35,205,205)\"}, \"mode\": \"lines\", \"type\": \"scatter\", \"x\": [-0.0, -0.2570942575691794, -0.2570942575691794, -0.0], \"xaxis\": \"x2\", \"y\": [142.5, 142.5, 165.0, 165.0], \"yaxis\": \"y\"}, {\"hoverinfo\": \"text\", \"marker\": {\"color\": \"rgb(35,205,205)\"}, \"mode\": \"lines\", \"type\": \"scatter\", \"x\": [-0.2570942575691794, -0.29978174957798703, -0.29978174957798703, -0.0], \"xaxis\": \"x2\", \"y\": [153.75, 153.75, 175.0, 175.0], \"yaxis\": \"y\"}, {\"hoverinfo\": \"text\", \"marker\": {\"color\": \"rgb(35,205,205)\"}, \"mode\": \"lines\", \"type\": \"scatter\", \"x\": [-0.0, -0.6170913823333711, -0.6170913823333711, -0.29978174957798703], \"xaxis\": \"x2\", \"y\": [125.0, 125.0, 164.375, 164.375], \"yaxis\": \"y\"}, {\"hoverinfo\": \"text\", \"marker\": {\"color\": \"rgb(35,205,205)\"}, \"mode\": \"lines\", \"type\": \"scatter\", \"x\": [-0.0, -0.0, -0.0, -0.0], \"xaxis\": \"x2\", \"y\": [185.0, 185.0, 195.0, 195.0], \"yaxis\": \"y\"}, {\"hoverinfo\": \"text\", \"marker\": {\"color\": \"rgb(35,205,205)\"}, \"mode\": \"lines\", \"type\": \"scatter\", \"x\": [-0.6170913823333711, -0.7329422983701843, -0.7329422983701843, -0.0], \"xaxis\": \"x2\", \"y\": [144.6875, 144.6875, 190.0, 190.0], \"yaxis\": \"y\"}, {\"hoverinfo\": \"text\", \"marker\": {\"color\": \"rgb(35,205,205)\"}, \"mode\": \"lines\", \"type\": \"scatter\", \"x\": [-0.0, -0.5897856575177266, -0.5897856575177266, -0.0], \"xaxis\": \"x2\", \"y\": [215.0, 215.0, 225.0, 225.0], \"yaxis\": \"y\"}, {\"hoverinfo\": \"text\", \"marker\": {\"color\": \"rgb(35,205,205)\"}, \"mode\": \"lines\", \"type\": \"scatter\", \"x\": [-0.0, -0.5999579056035879, -0.5999579056035879, -0.5897856575177266], \"xaxis\": \"x2\", \"y\": [205.0, 205.0, 220.0, 220.0], \"yaxis\": \"y\"}, {\"hoverinfo\": \"text\", \"marker\": {\"color\": \"rgb(35,205,205)\"}, \"mode\": \"lines\", \"type\": \"scatter\", \"x\": [-0.7329422983701843, -0.7211554229540333, -0.7211554229540333, -0.5999579056035879], \"xaxis\": \"x2\", \"y\": [167.34375, 167.34375, 212.5, 212.5], \"yaxis\": \"y\"}, {\"hoverinfo\": \"text\", \"marker\": {\"color\": \"rgb(35,205,205)\"}, \"mode\": \"lines\", \"type\": \"scatter\", \"x\": [-0.0, -0.17865320422845038, -0.17865320422845038, -0.0], \"xaxis\": \"x2\", \"y\": [245.0, 245.0, 255.0, 255.0], \"yaxis\": \"y\"}, {\"hoverinfo\": \"text\", \"marker\": {\"color\": \"rgb(35,205,205)\"}, \"mode\": \"lines\", \"type\": \"scatter\", \"x\": [-0.0, -0.0, -0.0, -0.0], \"xaxis\": \"x2\", \"y\": [265.0, 265.0, 275.0, 275.0], \"yaxis\": \"y\"}, {\"hoverinfo\": \"text\", \"marker\": {\"color\": \"rgb(35,205,205)\"}, \"mode\": \"lines\", \"type\": \"scatter\", \"x\": [-0.17865320422845038, -0.35022051064743154, -0.35022051064743154, -0.0], \"xaxis\": \"x2\", \"y\": [250.0, 250.0, 270.0, 270.0], \"yaxis\": \"y\"}, {\"hoverinfo\": \"text\", \"marker\": {\"color\": \"rgb(35,205,205)\"}, \"mode\": \"lines\", \"type\": \"scatter\", \"x\": [-0.35022051064743154, -0.5533842316671019, -0.5533842316671019, -0.0], \"xaxis\": \"x2\", \"y\": [260.0, 260.0, 285.0, 285.0], \"yaxis\": \"y\"}, {\"hoverinfo\": \"text\", \"marker\": {\"color\": \"rgb(35,205,205)\"}, \"mode\": \"lines\", \"type\": \"scatter\", \"x\": [-0.5533842316671019, -0.8252781924159924, -0.8252781924159924, -0.0], \"xaxis\": \"x2\", \"y\": [272.5, 272.5, 295.0, 295.0], \"yaxis\": \"y\"}, {\"hoverinfo\": \"text\", \"marker\": {\"color\": \"rgb(35,205,205)\"}, \"mode\": \"lines\", \"type\": \"scatter\", \"x\": [-0.0, -0.9172572393901185, -0.9172572393901185, -0.8252781924159924], \"xaxis\": \"x2\", \"y\": [235.0, 235.0, 283.75, 283.75], \"yaxis\": \"y\"}, {\"hoverinfo\": \"text\", \"marker\": {\"color\": \"rgb(35,205,205)\"}, \"mode\": \"lines\", \"type\": \"scatter\", \"x\": [-0.7211554229540333, -0.9013987479259493, -0.9013987479259493, -0.9172572393901185], \"xaxis\": \"x2\", \"y\": [189.921875, 189.921875, 259.375, 259.375], \"yaxis\": \"y\"}, {\"hoverinfo\": \"text\", \"marker\": {\"color\": \"rgb(35,205,205)\"}, \"mode\": \"lines\", \"type\": \"scatter\", \"x\": [-0.0, -0.28452022608451233, -0.28452022608451233, -0.0], \"xaxis\": \"x2\", \"y\": [305.0, 305.0, 315.0, 315.0], \"yaxis\": \"y\"}, {\"hoverinfo\": \"text\", \"marker\": {\"color\": \"rgb(35,205,205)\"}, \"mode\": \"lines\", \"type\": \"scatter\", \"x\": [-0.0, -0.030933886566840752, -0.030933886566840752, -0.0], \"xaxis\": \"x2\", \"y\": [335.0, 335.0, 345.0, 345.0], \"yaxis\": \"y\"}, {\"hoverinfo\": \"text\", \"marker\": {\"color\": \"rgb(35,205,205)\"}, \"mode\": \"lines\", \"type\": \"scatter\", \"x\": [-0.0, -0.23512748450091794, -0.23512748450091794, -0.030933886566840752], \"xaxis\": \"x2\", \"y\": [325.0, 325.0, 340.0, 340.0], \"yaxis\": \"y\"}, {\"hoverinfo\": \"text\", \"marker\": {\"color\": \"rgb(35,205,205)\"}, \"mode\": \"lines\", \"type\": \"scatter\", \"x\": [-0.28452022608451233, -0.3202721490338715, -0.3202721490338715, -0.23512748450091794], \"xaxis\": \"x2\", \"y\": [310.0, 310.0, 332.5, 332.5], \"yaxis\": \"y\"}, {\"hoverinfo\": \"text\", \"marker\": {\"color\": \"rgb(35,205,205)\"}, \"mode\": \"lines\", \"type\": \"scatter\", \"x\": [-0.3202721490338715, -0.4176607831912853, -0.4176607831912853, -0.0], \"xaxis\": \"x2\", \"y\": [321.25, 321.25, 355.0, 355.0], \"yaxis\": \"y\"}, {\"hoverinfo\": \"text\", \"marker\": {\"color\": \"rgb(35,205,205)\"}, \"mode\": \"lines\", \"type\": \"scatter\", \"x\": [-0.4176607831912853, -0.7401350512949869, -0.7401350512949869, -0.0], \"xaxis\": \"x2\", \"y\": [338.125, 338.125, 365.0, 365.0], \"yaxis\": \"y\"}, {\"hoverinfo\": \"text\", \"marker\": {\"color\": \"rgb(35,205,205)\"}, \"mode\": \"lines\", \"type\": \"scatter\", \"x\": [-0.9013987479259493, -1.5809623817564868, -1.5809623817564868, -0.7401350512949869], \"xaxis\": \"x2\", \"y\": [224.6484375, 224.6484375, 351.5625, 351.5625], \"yaxis\": \"y\"}, {\"hoverinfo\": \"text\", \"marker\": {\"color\": \"rgb(0,116,217)\"}, \"mode\": \"lines\", \"type\": \"scatter\", \"x\": [-0.0, -1.882743509785516, -1.882743509785516, -1.5809623817564868], \"xaxis\": \"x2\", \"y\": [115.0, 115.0, 288.10546875, 288.10546875], \"yaxis\": \"y\"}, {\"hoverinfo\": \"text\", \"marker\": {\"color\": \"rgb(0,116,217)\"}, \"mode\": \"lines\", \"type\": \"scatter\", \"x\": [-0.966950327866998, -1.9630006416511423, -1.9630006416511423, -1.882743509785516], \"xaxis\": \"x2\", \"y\": [92.5, 92.5, 201.552734375, 201.552734375], \"yaxis\": \"y\"}, {\"hoverinfo\": \"text\", \"marker\": {\"color\": \"rgb(133,20,75)\"}, \"mode\": \"lines\", \"type\": \"scatter\", \"x\": [-0.0, -0.0, -0.0, -0.0], \"xaxis\": \"x2\", \"y\": [375.0, 375.0, 385.0, 385.0], \"yaxis\": \"y\"}, {\"hoverinfo\": \"text\", \"marker\": {\"color\": \"rgb(0,116,217)\"}, \"mode\": \"lines\", \"type\": \"scatter\", \"x\": [-1.9630006416511423, -2.0146397217413425, -2.0146397217413425, -0.0], \"xaxis\": \"x2\", \"y\": [147.0263671875, 147.0263671875, 380.0, 380.0], \"yaxis\": \"y\"}, {\"hoverinfo\": \"text\", \"marker\": {\"color\": \"rgb(255,220,0)\"}, \"mode\": \"lines\", \"type\": \"scatter\", \"x\": [-0.0, -0.0, -0.0, -0.0], \"xaxis\": \"x2\", \"y\": [425.0, 425.0, 435.0, 435.0], \"yaxis\": \"y\"}, {\"hoverinfo\": \"text\", \"marker\": {\"color\": \"rgb(255,220,0)\"}, \"mode\": \"lines\", \"type\": \"scatter\", \"x\": [-0.0, -0.5749702712536731, -0.5749702712536731, -0.0], \"xaxis\": \"x2\", \"y\": [415.0, 415.0, 430.0, 430.0], \"yaxis\": \"y\"}, {\"hoverinfo\": \"text\", \"marker\": {\"color\": \"rgb(255,220,0)\"}, \"mode\": \"lines\", \"type\": \"scatter\", \"x\": [-0.0, -0.0, -0.0, -0.0], \"xaxis\": \"x2\", \"y\": [455.0, 455.0, 465.0, 465.0], \"yaxis\": \"y\"}, {\"hoverinfo\": \"text\", \"marker\": {\"color\": \"rgb(255,220,0)\"}, \"mode\": \"lines\", \"type\": \"scatter\", \"x\": [-0.0, -0.3158783259584002, -0.3158783259584002, -0.0], \"xaxis\": \"x2\", \"y\": [445.0, 445.0, 460.0, 460.0], \"yaxis\": \"y\"}, {\"hoverinfo\": \"text\", \"marker\": {\"color\": \"rgb(255,220,0)\"}, \"mode\": \"lines\", \"type\": \"scatter\", \"x\": [-0.3158783259584002, -0.40606661230279867, -0.40606661230279867, -0.0], \"xaxis\": \"x2\", \"y\": [452.5, 452.5, 475.0, 475.0], \"yaxis\": \"y\"}, {\"hoverinfo\": \"text\", \"marker\": {\"color\": \"rgb(255,220,0)\"}, \"mode\": \"lines\", \"type\": \"scatter\", \"x\": [-0.0, -0.0, -0.0, -0.0], \"xaxis\": \"x2\", \"y\": [485.0, 485.0, 495.0, 495.0], \"yaxis\": \"y\"}, {\"hoverinfo\": \"text\", \"marker\": {\"color\": \"rgb(255,220,0)\"}, \"mode\": \"lines\", \"type\": \"scatter\", \"x\": [-0.0, -0.6633234064833606, -0.6633234064833606, -0.0], \"xaxis\": \"x2\", \"y\": [490.0, 490.0, 505.0, 505.0], \"yaxis\": \"y\"}, {\"hoverinfo\": \"text\", \"marker\": {\"color\": \"rgb(255,220,0)\"}, \"mode\": \"lines\", \"type\": \"scatter\", \"x\": [-0.40606661230279867, -0.7756350419252821, -0.7756350419252821, -0.6633234064833606], \"xaxis\": \"x2\", \"y\": [463.75, 463.75, 497.5, 497.5], \"yaxis\": \"y\"}, {\"hoverinfo\": \"text\", \"marker\": {\"color\": \"rgb(255,220,0)\"}, \"mode\": \"lines\", \"type\": \"scatter\", \"x\": [-0.0, -0.7872949023179604, -0.7872949023179604, -0.0], \"xaxis\": \"x2\", \"y\": [515.0, 515.0, 525.0, 525.0], \"yaxis\": \"y\"}, {\"hoverinfo\": \"text\", \"marker\": {\"color\": \"rgb(255,220,0)\"}, \"mode\": \"lines\", \"type\": \"scatter\", \"x\": [-0.7756350419252821, -0.7737749242586186, -0.7737749242586186, -0.7872949023179604], \"xaxis\": \"x2\", \"y\": [480.625, 480.625, 520.0, 520.0], \"yaxis\": \"y\"}, {\"hoverinfo\": \"text\", \"marker\": {\"color\": \"rgb(255,220,0)\"}, \"mode\": \"lines\", \"type\": \"scatter\", \"x\": [-0.5749702712536731, -0.9526880674059116, -0.9526880674059116, -0.7737749242586186], \"xaxis\": \"x2\", \"y\": [422.5, 422.5, 500.3125, 500.3125], \"yaxis\": \"y\"}, {\"hoverinfo\": \"text\", \"marker\": {\"color\": \"rgb(255,220,0)\"}, \"mode\": \"lines\", \"type\": \"scatter\", \"x\": [-0.0, -1.251227466354911, -1.251227466354911, -0.9526880674059116], \"xaxis\": \"x2\", \"y\": [405.0, 405.0, 461.40625, 461.40625], \"yaxis\": \"y\"}, {\"hoverinfo\": \"text\", \"marker\": {\"color\": \"rgb(255,220,0)\"}, \"mode\": \"lines\", \"type\": \"scatter\", \"x\": [-0.0, -1.4163373050484684, -1.4163373050484684, -1.251227466354911], \"xaxis\": \"x2\", \"y\": [395.0, 395.0, 433.203125, 433.203125], \"yaxis\": \"y\"}, {\"hoverinfo\": \"text\", \"marker\": {\"color\": \"rgb(255,220,0)\"}, \"mode\": \"lines\", \"type\": \"scatter\", \"x\": [-0.0, -1.5187757845935246, -1.5187757845935246, -0.0], \"xaxis\": \"x2\", \"y\": [535.0, 535.0, 545.0, 545.0], \"yaxis\": \"y\"}, {\"hoverinfo\": \"text\", \"marker\": {\"color\": \"rgb(255,220,0)\"}, \"mode\": \"lines\", \"type\": \"scatter\", \"x\": [-0.0, -0.036123378728196834, -0.036123378728196834, -0.0], \"xaxis\": \"x2\", \"y\": [555.0, 555.0, 565.0, 565.0], \"yaxis\": \"y\"}, {\"hoverinfo\": \"text\", \"marker\": {\"color\": \"rgb(255,220,0)\"}, \"mode\": \"lines\", \"type\": \"scatter\", \"x\": [-0.0, -0.035850595128976474, -0.035850595128976474, -0.0], \"xaxis\": \"x2\", \"y\": [575.0, 575.0, 585.0, 585.0], \"yaxis\": \"y\"}, {\"hoverinfo\": \"text\", \"marker\": {\"color\": \"rgb(255,220,0)\"}, \"mode\": \"lines\", \"type\": \"scatter\", \"x\": [-0.036123378728196834, -0.04320999624577331, -0.04320999624577331, -0.035850595128976474], \"xaxis\": \"x2\", \"y\": [560.0, 560.0, 580.0, 580.0], \"yaxis\": \"y\"}, {\"hoverinfo\": \"text\", \"marker\": {\"color\": \"rgb(255,220,0)\"}, \"mode\": \"lines\", \"type\": \"scatter\", \"x\": [-0.04320999624577331, -1.1760997353810778, -1.1760997353810778, -0.0], \"xaxis\": \"x2\", \"y\": [570.0, 570.0, 595.0, 595.0], \"yaxis\": \"y\"}, {\"hoverinfo\": \"text\", \"marker\": {\"color\": \"rgb(255,220,0)\"}, \"mode\": \"lines\", \"type\": \"scatter\", \"x\": [-1.1760997353810778, -1.4301723507196589, -1.4301723507196589, -0.0], \"xaxis\": \"x2\", \"y\": [582.5, 582.5, 605.0, 605.0], \"yaxis\": \"y\"}, {\"hoverinfo\": \"text\", \"marker\": {\"color\": \"rgb(255,220,0)\"}, \"mode\": \"lines\", \"type\": \"scatter\", \"x\": [-0.0, -0.7056639461703166, -0.7056639461703166, -0.0], \"xaxis\": \"x2\", \"y\": [635.0, 635.0, 645.0, 645.0], \"yaxis\": \"y\"}, {\"hoverinfo\": \"text\", \"marker\": {\"color\": \"rgb(255,220,0)\"}, \"mode\": \"lines\", \"type\": \"scatter\", \"x\": [-0.0, -0.657036205785555, -0.657036205785555, -0.0], \"xaxis\": \"x2\", \"y\": [655.0, 655.0, 665.0, 665.0], \"yaxis\": \"y\"}, {\"hoverinfo\": \"text\", \"marker\": {\"color\": \"rgb(255,220,0)\"}, \"mode\": \"lines\", \"type\": \"scatter\", \"x\": [-0.7056639461703166, -1.063389691773093, -1.063389691773093, -0.657036205785555], \"xaxis\": \"x2\", \"y\": [640.0, 640.0, 660.0, 660.0], \"yaxis\": \"y\"}, {\"hoverinfo\": \"text\", \"marker\": {\"color\": \"rgb(255,220,0)\"}, \"mode\": \"lines\", \"type\": \"scatter\", \"x\": [-0.0, -1.48065003548875, -1.48065003548875, -1.063389691773093], \"xaxis\": \"x2\", \"y\": [625.0, 625.0, 650.0, 650.0], \"yaxis\": \"y\"}, {\"hoverinfo\": \"text\", \"marker\": {\"color\": \"rgb(255,220,0)\"}, \"mode\": \"lines\", \"type\": \"scatter\", \"x\": [-0.0, -1.3104445099215112, -1.3104445099215112, -1.48065003548875], \"xaxis\": \"x2\", \"y\": [615.0, 615.0, 637.5, 637.5], \"yaxis\": \"y\"}, {\"hoverinfo\": \"text\", \"marker\": {\"color\": \"rgb(255,220,0)\"}, \"mode\": \"lines\", \"type\": \"scatter\", \"x\": [-1.3104445099215112, -1.5638760370851024, -1.5638760370851024, -0.0], \"xaxis\": \"x2\", \"y\": [626.25, 626.25, 675.0, 675.0], \"yaxis\": \"y\"}, {\"hoverinfo\": \"text\", \"marker\": {\"color\": \"rgb(255,220,0)\"}, \"mode\": \"lines\", \"type\": \"scatter\", \"x\": [-0.0, -1.1000071040466979, -1.1000071040466979, -0.0], \"xaxis\": \"x2\", \"y\": [685.0, 685.0, 695.0, 695.0], \"yaxis\": \"y\"}, {\"hoverinfo\": \"text\", \"marker\": {\"color\": \"rgb(255,220,0)\"}, \"mode\": \"lines\", \"type\": \"scatter\", \"x\": [-1.1000071040466979, -1.32780708995779, -1.32780708995779, -0.0], \"xaxis\": \"x2\", \"y\": [690.0, 690.0, 705.0, 705.0], \"yaxis\": \"y\"}, {\"hoverinfo\": \"text\", \"marker\": {\"color\": \"rgb(255,220,0)\"}, \"mode\": \"lines\", \"type\": \"scatter\", \"x\": [-1.32780708995779, -1.3013112982589221, -1.3013112982589221, -0.0], \"xaxis\": \"x2\", \"y\": [697.5, 697.5, 715.0, 715.0], \"yaxis\": \"y\"}, {\"hoverinfo\": \"text\", \"marker\": {\"color\": \"rgb(255,220,0)\"}, \"mode\": \"lines\", \"type\": \"scatter\", \"x\": [-1.3013112982589221, -1.3417019160769164, -1.3417019160769164, -0.0], \"xaxis\": \"x2\", \"y\": [706.25, 706.25, 725.0, 725.0], \"yaxis\": \"y\"}, {\"hoverinfo\": \"text\", \"marker\": {\"color\": \"rgb(255,220,0)\"}, \"mode\": \"lines\", \"type\": \"scatter\", \"x\": [-0.0, -1.3545165129126244, -1.3545165129126244, -0.0], \"xaxis\": \"x2\", \"y\": [735.0, 735.0, 745.0, 745.0], \"yaxis\": \"y\"}, {\"hoverinfo\": \"text\", \"marker\": {\"color\": \"rgb(255,220,0)\"}, \"mode\": \"lines\", \"type\": \"scatter\", \"x\": [-1.3417019160769164, -1.3718296138411608, -1.3718296138411608, -1.3545165129126244], \"xaxis\": \"x2\", \"y\": [715.625, 715.625, 740.0, 740.0], \"yaxis\": \"y\"}, {\"hoverinfo\": \"text\", \"marker\": {\"color\": \"rgb(255,220,0)\"}, \"mode\": \"lines\", \"type\": \"scatter\", \"x\": [-1.3718296138411608, -1.2264418074653862, -1.2264418074653862, -0.0], \"xaxis\": \"x2\", \"y\": [727.8125, 727.8125, 755.0, 755.0], \"yaxis\": \"y\"}, {\"hoverinfo\": \"text\", \"marker\": {\"color\": \"rgb(255,220,0)\"}, \"mode\": \"lines\", \"type\": \"scatter\", \"x\": [-0.0, -1.1117662268366177, -1.1117662268366177, -0.0], \"xaxis\": \"x2\", \"y\": [765.0, 765.0, 775.0, 775.0], \"yaxis\": \"y\"}, {\"hoverinfo\": \"text\", \"marker\": {\"color\": \"rgb(255,220,0)\"}, \"mode\": \"lines\", \"type\": \"scatter\", \"x\": [-1.2264418074653862, -1.3143677520472123, -1.3143677520472123, -1.1117662268366177], \"xaxis\": \"x2\", \"y\": [741.40625, 741.40625, 770.0, 770.0], \"yaxis\": \"y\"}, {\"hoverinfo\": \"text\", \"marker\": {\"color\": \"rgb(255,220,0)\"}, \"mode\": \"lines\", \"type\": \"scatter\", \"x\": [-1.3143677520472123, -1.3587598928599176, -1.3587598928599176, -0.0], \"xaxis\": \"x2\", \"y\": [755.703125, 755.703125, 785.0, 785.0], \"yaxis\": \"y\"}, {\"hoverinfo\": \"text\", \"marker\": {\"color\": \"rgb(255,220,0)\"}, \"mode\": \"lines\", \"type\": \"scatter\", \"x\": [-1.3587598928599176, -1.438190615407098, -1.438190615407098, -0.0], \"xaxis\": \"x2\", \"y\": [770.3515625, 770.3515625, 795.0, 795.0], \"yaxis\": \"y\"}, {\"hoverinfo\": \"text\", \"marker\": {\"color\": \"rgb(255,220,0)\"}, \"mode\": \"lines\", \"type\": \"scatter\", \"x\": [-1.5638760370851024, -1.5692840374987629, -1.5692840374987629, -1.438190615407098], \"xaxis\": \"x2\", \"y\": [650.625, 650.625, 782.67578125, 782.67578125], \"yaxis\": \"y\"}, {\"hoverinfo\": \"text\", \"marker\": {\"color\": \"rgb(255,220,0)\"}, \"mode\": \"lines\", \"type\": \"scatter\", \"x\": [-1.4301723507196589, -1.5077386383310771, -1.5077386383310771, -1.5692840374987629], \"xaxis\": \"x2\", \"y\": [593.75, 593.75, 716.650390625, 716.650390625], \"yaxis\": \"y\"}, {\"hoverinfo\": \"text\", \"marker\": {\"color\": \"rgb(255,220,0)\"}, \"mode\": \"lines\", \"type\": \"scatter\", \"x\": [-1.5187757845935246, -1.6874511320025385, -1.6874511320025385, -1.5077386383310771], \"xaxis\": \"x2\", \"y\": [540.0, 540.0, 655.2001953125, 655.2001953125], \"yaxis\": \"y\"}, {\"hoverinfo\": \"text\", \"marker\": {\"color\": \"rgb(255,220,0)\"}, \"mode\": \"lines\", \"type\": \"scatter\", \"x\": [-1.4163373050484684, -1.8657202219315796, -1.8657202219315796, -1.6874511320025385], \"xaxis\": \"x2\", \"y\": [414.1015625, 414.1015625, 597.60009765625, 597.60009765625], \"yaxis\": \"y\"}, {\"hoverinfo\": \"text\", \"marker\": {\"color\": \"rgb(40,35,35)\"}, \"mode\": \"lines\", \"type\": \"scatter\", \"x\": [-0.0, -0.0, -0.0, -0.0], \"xaxis\": \"x2\", \"y\": [815.0, 815.0, 825.0, 825.0], \"yaxis\": \"y\"}, {\"hoverinfo\": \"text\", \"marker\": {\"color\": \"rgb(40,35,35)\"}, \"mode\": \"lines\", \"type\": \"scatter\", \"x\": [-0.0, -0.0, -0.0, -0.0], \"xaxis\": \"x2\", \"y\": [820.0, 820.0, 835.0, 835.0], \"yaxis\": \"y\"}, {\"hoverinfo\": \"text\", \"marker\": {\"color\": \"rgb(40,35,35)\"}, \"mode\": \"lines\", \"type\": \"scatter\", \"x\": [-0.0, -0.9549369736063766, -0.9549369736063766, -0.0], \"xaxis\": \"x2\", \"y\": [805.0, 805.0, 827.5, 827.5], \"yaxis\": \"y\"}, {\"hoverinfo\": \"text\", \"marker\": {\"color\": \"rgb(0,116,217)\"}, \"mode\": \"lines\", \"type\": \"scatter\", \"x\": [-1.8657202219315796, -2.1917442443519235, -2.1917442443519235, -0.9549369736063766], \"xaxis\": \"x2\", \"y\": [505.850830078125, 505.850830078125, 816.25, 816.25], \"yaxis\": \"y\"}, {\"hoverinfo\": \"text\", \"marker\": {\"color\": \"rgb(0,116,217)\"}, \"mode\": \"lines\", \"type\": \"scatter\", \"x\": [-2.0146397217413425, -2.5411476741310457, -2.5411476741310457, -2.1917442443519235], \"xaxis\": \"x2\", \"y\": [263.51318359375, 263.51318359375, 661.0504150390625, 661.0504150390625], \"yaxis\": \"y\"}, {\"hoverinfo\": \"text\", \"marker\": {\"color\": \"rgb(0,116,217)\"}, \"mode\": \"lines\", \"type\": \"scatter\", \"x\": [-0.8225423946856198, -2.6658111467421843, -2.6658111467421843, -2.5411476741310457], \"xaxis\": \"x2\", \"y\": [36.25, 36.25, 462.28179931640625, 462.28179931640625], \"yaxis\": \"y\"}, {\"colorbar\": {\"title\": {\"text\": \"Correlaci\\u00f3n (abs)\"}}, \"type\": \"heatmap\", \"x\": [5, 15, 25, 35, 45, 55, 65, 75, 85, 95, 105, 115, 125, 135, 145, 155, 165, 175, 185, 195, 205, 215, 225, 235, 245, 255, 265, 275, 285, 295, 305, 315, 325, 335, 345, 355, 365, 375, 385, 395, 405, 415, 425, 435, 445, 455, 465, 475, 485, 495, 505, 515, 525, 535, 545, 555, 565, 575, 585, 595, 605, 615, 625, 635, 645, 655, 665, 675, 685, 695, 705, 715, 725, 735, 745, 755, 765, 775, 785, 795, 805, 815, 825, 835], \"y\": [5, 15, 25, 35, 45, 55, 65, 75, 85, 95, 105, 115, 125, 135, 145, 155, 165, 175, 185, 195, 205, 215, 225, 235, 245, 255, 265, 275, 285, 295, 305, 315, 325, 335, 345, 355, 365, 375, 385, 395, 405, 415, 425, 435, 445, 455, 465, 475, 485, 495, 505, 515, 525, 535, 545, 555, 565, 575, 585, 595, 605, 615, 625, 635, 645, 655, 665, 675, 685, 695, 705, 715, 725, 735, 745, 755, 765, 775, 785, 795, 805, 815, 825, 835], \"z\": [[1.0, 0.9964468837907493, 0.9964468837907493, 0.9964468837907493, 0.9075470878163188, 0.8604354490248182, 0.8604354490248182, 0.8604354490248182, 0.06623107250050131, 0.0642476147079002, 0.3240578671822735, 0.26040609170675166, 0.2332253609298242, 0.3423274031030006, 0.3423274031030006, 0.3423274031030006, 0.36728080937031155, 0.4421472504057532, 0.4614873089191161, 0.4614873089191161, 0.4550100142278063, 0.42063447276628707, 0.5933049918718245, 0.6017362324073491, 0.5279889997534616, 0.49336422635084765, 0.43661747401009854, 0.43661747401009854, 0.3479878613721205, 0.29765969900220574, 0.5123201796241794, 0.5472910465331224, 0.5781521365255432, 0.5891431089875478, 0.597043035283676, 0.5577785650649603, 0.5309189742597004, 0.08206880266004143, 0.08206880266004143, 0.13337781439295146, 0.2513072341355524, 0.31087378438466684, 0.18263466931958228, 0.18263466931958228, 0.0738265763232332, 0.030760473318362958, 0.030760473318362958, 0.015948946628449166, 0.14156290455989917, 0.14156290455989917, 0.27795563904630716, 0.21039558997830404, 0.14181666335871276, 0.18529330298222052, 0.014834444212974978, 0.04058341719993432, 0.03391930250898937, 0.04225072577708188, 0.04058341719993432, 0.023833982474802916, 0.045844932212141566, 0.23645378665812458, 0.08839617205482533, 0.07154099907501957, 0.08175268302082316, 0.11949503198338875, 0.1233106359851409, 0.013325507910053689, 0.06975312092401581, 0.004221586167809012, 0.04426173263871806, 0.044917769772839365, 0.2237124744756925, 0.08809814761430888, 0.1989360428533735, 0.07789209920878304, 0.07636739899507085, 0.0359378511945764, 0.11949291842267666, 0.239949073048688, 0.4222529634725271, 0.3420213569795332, 0.3420213569795332, 0.3420213569795332], [0.9964468837907493, 1.0, 1.0, 1.0, 0.9396921790511394, 0.8909118577774785, 0.8909118577774785, 0.8909118577774785, 0.05905953160727838, 0.08084861553688859, 0.3052003936603368, 0.2945586939727216, 0.26470626945084197, 0.37547515158017053, 0.37547515158017053, 0.37547515158017053, 0.404329916901618, 0.4745644051593947, 0.4907249630425602, 0.4907249630425602, 0.4665129737787905, 0.44209860904856085, 0.6068934976447125, 0.6309971135270699, 0.5414697627994691, 0.5121865945859027, 0.45196685387218416, 0.45196685387218416, 0.3797839839062706, 0.3180419581146699, 0.5350963696872163, 0.5612944090584414, 0.5897662806336262, 0.601022726296427, 0.6091367554095051, 0.570776691446072, 0.5497742461344434, 0.06429210103699219, 0.06429210103699219, 0.13290390751867745, 0.2381181874805562, 0.2866409708291216, 0.1573490541545511, 0.1573490541545511, 0.053906014758734334, 0.008247605219254417, 0.008247605219254417, 0.031189254764986914, 0.17026895731801991, 0.17026895731801991, 0.2769680303597591, 0.20964802999719725, 0.1676359265199184, 0.1846349343439288, 0.036461827729976595, 0.03530567608049898, 0.02846095138455833, 0.037017978642893246, 0.03530567608049898, 0.0284399828484746, 0.05540204146293957, 0.24218799461298762, 0.10893125665573027, 0.09157677978599575, 0.10303285919573575, 0.14799491213087548, 0.14575368894226715, 0.002192492851839895, 0.08129744721385808, 0.0034180022477050694, 0.04399812583342385, 0.047339390265811396, 0.21197259169818441, 0.10177768641857901, 0.18040748900433076, 0.09076149090649992, 0.08327971793687156, 0.03917644150210975, 0.11906834619733839, 0.24844800930049146, 0.36109816925326216, 0.2616618962644557, 0.2616618962644557, 0.2616618962644557], [0.9964468837907493, 1.0, 1.0, 1.0, 0.9396921790511394, 0.8909118577774785, 0.8909118577774785, 0.8909118577774785, 0.05905953160727838, 0.08084861553688859, 0.3052003936603368, 0.2945586939727216, 0.26470626945084197, 0.37547515158017053, 0.37547515158017053, 0.37547515158017053, 0.404329916901618, 0.4745644051593947, 0.4907249630425602, 0.4907249630425602, 0.4665129737787905, 0.44209860904856085, 0.6068934976447125, 0.6309971135270699, 0.5414697627994691, 0.5121865945859027, 0.45196685387218416, 0.45196685387218416, 0.3797839839062706, 0.3180419581146699, 0.5350963696872163, 0.5612944090584414, 0.5897662806336262, 0.601022726296427, 0.6091367554095051, 0.570776691446072, 0.5497742461344434, 0.06429210103699219, 0.06429210103699219, 0.13290390751867745, 0.2381181874805562, 0.2866409708291216, 0.1573490541545511, 0.1573490541545511, 0.053906014758734334, 0.008247605219254417, 0.008247605219254417, 0.031189254764986914, 0.17026895731801991, 0.17026895731801991, 0.2769680303597591, 0.20964802999719725, 0.1676359265199184, 0.1846349343439288, 0.036461827729976595, 0.03530567608049898, 0.02846095138455833, 0.037017978642893246, 0.03530567608049898, 0.0284399828484746, 0.05540204146293957, 0.24218799461298762, 0.10893125665573027, 0.09157677978599575, 0.10303285919573575, 0.14799491213087548, 0.14575368894226715, 0.002192492851839895, 0.08129744721385808, 0.0034180022477050694, 0.04399812583342385, 0.047339390265811396, 0.21197259169818441, 0.10177768641857901, 0.18040748900433076, 0.09076149090649992, 0.08327971793687156, 0.03917644150210975, 0.11906834619733839, 0.24844800930049146, 0.36109816925326216, 0.2616618962644557, 0.2616618962644557, 0.2616618962644557], [0.9964468837907493, 1.0, 1.0, 1.0, 0.9396921790511394, 0.8909118577774785, 0.8909118577774785, 0.8909118577774785, 0.05905953160727838, 0.08084861553688859, 0.3052003936603368, 0.2945586939727216, 0.26470626945084197, 0.37547515158017053, 0.37547515158017053, 0.37547515158017053, 0.404329916901618, 0.4745644051593947, 0.4907249630425602, 0.4907249630425602, 0.4665129737787905, 0.44209860904856085, 0.6068934976447125, 0.6309971135270699, 0.5414697627994691, 0.5121865945859027, 0.45196685387218416, 0.45196685387218416, 0.3797839839062706, 0.3180419581146699, 0.5350963696872163, 0.5612944090584414, 0.5897662806336262, 0.601022726296427, 0.6091367554095051, 0.570776691446072, 0.5497742461344434, 0.06429210103699219, 0.06429210103699219, 0.13290390751867745, 0.2381181874805562, 0.2866409708291216, 0.1573490541545511, 0.1573490541545511, 0.053906014758734334, 0.008247605219254417, 0.008247605219254417, 0.031189254764986914, 0.17026895731801991, 0.17026895731801991, 0.2769680303597591, 0.20964802999719725, 0.1676359265199184, 0.1846349343439288, 0.036461827729976595, 0.03530567608049898, 0.02846095138455833, 0.037017978642893246, 0.03530567608049898, 0.0284399828484746, 0.05540204146293957, 0.24218799461298762, 0.10893125665573027, 0.09157677978599575, 0.10303285919573575, 0.14799491213087548, 0.14575368894226715, 0.002192492851839895, 0.08129744721385808, 0.0034180022477050694, 0.04399812583342385, 0.047339390265811396, 0.21197259169818441, 0.10177768641857901, 0.18040748900433076, 0.09076149090649992, 0.08327971793687156, 0.03917644150210975, 0.11906834619733839, 0.24844800930049146, 0.36109816925326216, 0.2616618962644557, 0.2616618962644557, 0.2616618962644557], [0.9075470878163188, 0.9396921790511394, 0.9396921790511394, 0.9396921790511394, 1.0, 0.9480890419638086, 0.9480890419638086, 0.9480890419638086, 0.025522891709019016, 0.1422208584048713, 0.2058129132953055, 0.41123383845311196, 0.3727630673212234, 0.4820222907622677, 0.4820222907622677, 0.4820222907622677, 0.5245634816554258, 0.5707391022701177, 0.5727803201229653, 0.5727803201229653, 0.4783594713337454, 0.4962208480456557, 0.6167175774889707, 0.7026633314148767, 0.5557458592257114, 0.5503428068101325, 0.4805203114539255, 0.4805203114539255, 0.4805203114539255, 0.3770423990824852, 0.5875963605099817, 0.576211090427053, 0.592852753879135, 0.6043459847934526, 0.6127230439149856, 0.5809025609372108, 0.5852549033170916, 0.012701837109633565, 0.012701837109633565, 0.1210466470316286, 0.16676297586405409, 0.1668119734185335, 0.042907596804799664, 0.042907596804799664, 0.03101765040189288, 0.08379073969923054, 0.08379073969923054, 0.09074726536823846, 0.2741153342721595, 0.2741153342721595, 0.2522578307585999, 0.19094390497420607, 0.2599561949990696, 0.16816239751338102, 0.1215629000775652, 0.011234802642011528, 0.004168194591999363, 0.013001848520488952, 0.011234802642011528, 0.04501886828359874, 0.09007170989238249, 0.24737359432048567, 0.18418052201338167, 0.16609544866383666, 0.1817486744938623, 0.2526687338617836, 0.2259989928821278, 0.0431811509990948, 0.12210162185236162, 0.00010070154770086721, 0.03963938194862043, 0.05363530456067483, 0.1484562861625867, 0.14972206945802963, 0.09168230556682193, 0.13623928047907505, 0.10512574080466262, 0.049400039124827426, 0.10844545012917314, 0.2643929734004634, 0.08576894075984084, 0.08422355836525108, 0.08422355836525108, 0.08422355836525108], [0.8604354490248182, 0.8909118577774785, 0.8909118577774785, 0.8909118577774785, 0.9480890419638086, 1.0, 1.0, 1.0, 0.023846493643268973, 0.2118433539699705, 0.15234708112618522, 0.4689182188791279, 0.35042959974549853, 0.4446285722014271, 0.4446285722014271, 0.4446285722014271, 0.5120233819623299, 0.5420136741427991, 0.5452455775741811, 0.5452455775741811, 0.4341774343639014, 0.4510272339373128, 0.5879161086266498, 0.6758322684795537, 0.5198382114969027, 0.5142488731500773, 0.4508426060373453, 0.4508426060373453, 0.4508426060373453, 0.35757339373821195, 0.5605853338279567, 0.5432115484931351, 0.5660138951240046, 0.581867182760178, 0.588301629380891, 0.5525450461188913, 0.5403957024313496, 0.032922979963184475, 0.032922979963184475, 0.11476299961714806, 0.23085424725265744, 0.15815260406646972, 0.02718347321357576, 0.02718347321357576, 0.0068666268102511255, 0.061424466492146695, 0.061424466492146695, 0.07144309145255129, 0.25988574465768094, 0.25988574465768094, 0.23916288509178954, 0.18103182393582357, 0.2464616198692249, 0.1594329263527986, 0.17591999396901167, 0.004829600666675655, 0.01214544546353345, 0.0030007303688117876, 0.004829600666675655, 0.056827564919840416, 0.14771079417855038, 0.2902675256394624, 0.19598682027036202, 0.16063091343588148, 0.14472489357916068, 0.22483123671544925, 0.20251059030798813, 0.00043046625213009204, 0.10807963139319794, 0.021746514195005614, 0.052747739781368035, 0.044804764763126614, 0.13718363972867437, 0.16349336942679196, 0.0569260941787204, 0.1275329583815641, 0.12173322534254066, 0.05606487536078064, 0.10281594291830175, 0.05602070420949957, 0.09858303709087159, 0.0798514327612938, 0.0798514327612938, 0.0798514327612938], [0.8604354490248182, 0.8909118577774785, 0.8909118577774785, 0.8909118577774785, 0.9480890419638086, 1.0, 1.0, 1.0, 0.023846493643268973, 0.2118433539699705, 0.15234708112618522, 0.4689182188791279, 0.35042959974549853, 0.4446285722014271, 0.4446285722014271, 0.4446285722014271, 0.5120233819623299, 0.5420136741427991, 0.5452455775741811, 0.5452455775741811, 0.4341774343639014, 0.4510272339373128, 0.5879161086266498, 0.6758322684795537, 0.5198382114969027, 0.5142488731500773, 0.4508426060373453, 0.4508426060373453, 0.4508426060373453, 0.35757339373821195, 0.5605853338279567, 0.5432115484931351, 0.5660138951240046, 0.581867182760178, 0.588301629380891, 0.5525450461188913, 0.5403957024313496, 0.032922979963184475, 0.032922979963184475, 0.11476299961714806, 0.23085424725265744, 0.15815260406646972, 0.02718347321357576, 0.02718347321357576, 0.0068666268102511255, 0.061424466492146695, 0.061424466492146695, 0.07144309145255129, 0.25988574465768094, 0.25988574465768094, 0.23916288509178954, 0.18103182393582357, 0.2464616198692249, 0.1594329263527986, 0.17591999396901167, 0.004829600666675655, 0.01214544546353345, 0.0030007303688117876, 0.004829600666675655, 0.056827564919840416, 0.14771079417855038, 0.2902675256394624, 0.19598682027036202, 0.16063091343588148, 0.14472489357916068, 0.22483123671544925, 0.20251059030798813, 0.00043046625213009204, 0.10807963139319794, 0.021746514195005614, 0.052747739781368035, 0.044804764763126614, 0.13718363972867437, 0.16349336942679196, 0.0569260941787204, 0.1275329583815641, 0.12173322534254066, 0.05606487536078064, 0.10281594291830175, 0.05602070420949957, 0.09858303709087159, 0.0798514327612938, 0.0798514327612938, 0.0798514327612938], [0.8604354490248182, 0.8909118577774785, 0.8909118577774785, 0.8909118577774785, 0.9480890419638086, 1.0, 1.0, 1.0, 0.023846493643268973, 0.2118433539699705, 0.15234708112618522, 0.4689182188791279, 0.35042959974549853, 0.4446285722014271, 0.4446285722014271, 0.4446285722014271, 0.5120233819623299, 0.5420136741427991, 0.5452455775741811, 0.5452455775741811, 0.4341774343639014, 0.4510272339373128, 0.5879161086266498, 0.6758322684795537, 0.5198382114969027, 0.5142488731500773, 0.4508426060373453, 0.4508426060373453, 0.4508426060373453, 0.35757339373821195, 0.5605853338279567, 0.5432115484931351, 0.5660138951240046, 0.581867182760178, 0.588301629380891, 0.5525450461188913, 0.5403957024313496, 0.032922979963184475, 0.032922979963184475, 0.11476299961714806, 0.23085424725265744, 0.15815260406646972, 0.02718347321357576, 0.02718347321357576, 0.0068666268102511255, 0.061424466492146695, 0.061424466492146695, 0.07144309145255129, 0.25988574465768094, 0.25988574465768094, 0.23916288509178954, 0.18103182393582357, 0.2464616198692249, 0.1594329263527986, 0.17591999396901167, 0.004829600666675655, 0.01214544546353345, 0.0030007303688117876, 0.004829600666675655, 0.056827564919840416, 0.14771079417855038, 0.2902675256394624, 0.19598682027036202, 0.16063091343588148, 0.14472489357916068, 0.22483123671544925, 0.20251059030798813, 0.00043046625213009204, 0.10807963139319794, 0.021746514195005614, 0.052747739781368035, 0.044804764763126614, 0.13718363972867437, 0.16349336942679196, 0.0569260941787204, 0.1275329583815641, 0.12173322534254066, 0.05606487536078064, 0.10281594291830175, 0.05602070420949957, 0.09858303709087159, 0.0798514327612938, 0.0798514327612938, 0.0798514327612938], [0.06623107250050131, 0.05905953160727838, 0.05905953160727838, 0.05905953160727838, 0.025522891709019016, 0.023846493643268973, 0.023846493643268973, 0.023846493643268973, 1.0, 0.7907167814506373, 0.8113983053453189, 0.17011359674014814, 0.3929604550589789, 0.4482302032799032, 0.4482302032799032, 0.4482302032799032, 0.38037633920395536, 0.36601212646184306, 0.24428437218681684, 0.24428437218681684, 0.4641818787186441, 0.5502375551816802, 0.4667399988863917, 0.4352840517131485, 0.5931162979397152, 0.6234301309764959, 0.5749304628997906, 0.5749304628997906, 0.5619802331948656, 0.5139952474258347, 0.6983001256258313, 0.689563082954938, 0.681875552924822, 0.6741123363591098, 0.6704921346777297, 0.6284270481365569, 0.7217955665919372, 0.3263475836253803, 0.3263475836253803, 0.1732591329811807, 0.2607273583442675, 0.201958521764898, 0.16948377585448873, 0.16948377585448873, 0.11270500753576096, 0.12493090518951355, 0.12493090518951355, 0.14793507253899577, 0.20581991645726191, 0.20581991645726191, 0.2510334069482603, 0.24375641935172876, 0.30699987072418317, 0.24069787893911776, 0.17133921508805422, 0.2286119329644338, 0.22874586842394745, 0.2319154369984731, 0.23592724775497442, 0.08013927802136898, 0.09370309578169334, 0.28441303458401795, 0.31481238984035365, 0.2598781003932539, 0.3416599471237916, 0.2393697947243005, 0.31517173849855645, 0.08336116242789766, 0.13798957833759207, 0.0269494492362438, 0.0683492501431025, 0.06680371898570364, 0.20786897466577317, 0.11515629347528153, 0.2051174760812373, 0.29859708793854306, 0.04051578455165563, 0.017700302970806044, 0.07046810544769051, 0.007814009014234924, 0.08692239218789506, 0.10004060154768024, 0.10004060154768024, 0.10004060154768024], [0.0642476147079002, 0.08084861553688859, 0.08084861553688859, 0.08084861553688859, 0.1422208584048713, 0.2118433539699705, 0.2118433539699705, 0.2118433539699705, 0.7907167814506373, 1.0, 0.810119933017295, 0.1903134047551694, 0.37197398103535456, 0.4612076069236282, 0.4612076069236282, 0.4612076069236282, 0.3784698674466485, 0.380696559233901, 0.31185016883698113, 0.31185016883698113, 0.5057835518529885, 0.5618608923319948, 0.47239115964227163, 0.4094492558110527, 0.5796949441049155, 0.5765231352525927, 0.5419618920492933, 0.5419618920492933, 0.4821325254555721, 0.6149231427585992, 0.5968332715970164, 0.6079014602298023, 0.6107704479061233, 0.6120513274910192, 0.6046818991547849, 0.5771677222617357, 0.5194659081045865, 0.4902450730260483, 0.4902450730260483, 0.046643453236680725, 0.2610071485398317, 0.05448560683570541, 0.06689035404149052, 0.06689035404149052, 0.05023242775325164, 0.05611722457511864, 0.05611722457511864, 0.03352690504998449, 0.12434345116681118, 0.12434345116681118, 0.06528594413889878, 0.026031262177369317, 0.2043089913516891, 0.06479877895778484, 0.20577020247985886, 0.11059900835090732, 0.10581310446873125, 0.11183700701013768, 0.10971688864431366, 0.07492686315725143, 0.060250321538148764, 0.18799623310308533, 0.237831251947612, 0.1946937238446223, 0.2717337100475154, 0.20828564565379787, 0.2464145477488178, 0.19760766915985598, 0.1332113043903333, 0.04662239220846611, 0.02944811265293167, 0.059224097852549284, 0.1608905886166509, 0.05339763282552054, 0.22200757289263096, 0.19018992573284027, 0.005634935470671757, 0.01527557742184604, 0.023678729417292703, 0.19593214862815864, 0.2513871409343639, 0.16579220723134844, 0.16579220723134844, 0.16579220723134844], [0.3240578671822735, 0.3052003936603368, 0.3052003936603368, 0.3052003936603368, 0.2058129132953055, 0.15234708112618522, 0.15234708112618522, 0.15234708112618522, 0.8113983053453189, 0.810119933017295, 1.0, 0.36791647390807203, 0.4362578193160846, 0.4932918684416809, 0.4932918684416809, 0.4932918684416809, 0.45782915351645403, 0.40465085108306703, 0.31876325095834873, 0.31876325095834873, 0.3966034379569661, 0.5084233767349736, 0.36861658673305864, 0.38784272276988235, 0.47780787190442164, 0.5084905941114488, 0.4747838181899877, 0.4747838181899877, 0.5176914565102566, 0.6079747537345052, 0.5584181287340826, 0.509440360904119, 0.5014777313162545, 0.5075435113592426, 0.4977940800038817, 0.4769140846381047, 0.440229486861374, 0.5146488688536062, 0.5146488688536062, 0.0888032897688051, 0.2809051240368001, 0.15027459812342106, 0.12943627313211625, 0.12943627313211625, 0.023623570696024557, 0.024916734942878726, 0.024916734942878726, 0.0062384242004848165, 0.02860013654253826, 0.02860013654253826, 0.147503768091455, 0.09791915745991167, 0.12244472953429412, 0.12336875478009551, 0.03157010844545902, 0.16605693040611297, 0.16133176701136323, 0.1673142047080371, 0.16504437359240773, 0.10858465688082482, 0.051820811241029635, 0.2118089963676178, 0.33047051852793674, 0.26946500667698126, 0.3134826315037424, 0.28458497520037235, 0.2955975637162684, 0.19341324549760275, 0.156249218530254, 0.02216690587205233, 0.03534271925344433, 0.047150196834561044, 0.03643719899958597, 0.11423250125146711, 0.38772342226275874, 0.22446514984392152, 0.0447664968581084, 0.027649555741285588, 0.0025196614990341416, 0.18416029395386566, 0.36184205899293154, 0.30838329280788246, 0.30838329280788246, 0.30838329280788246], [0.26040609170675166, 0.2945586939727216, 0.2945586939727216, 0.2945586939727216, 0.41123383845311196, 0.4689182188791279, 0.4689182188791279, 0.4689182188791279, 0.17011359674014814, 0.1903134047551694, 0.36791647390807203, 1.0, 0.6558008609071226, 0.6861602544913641, 0.6861602544913641, 0.6861602544913641, 0.7204128595236129, 0.700740021185754, 0.7419637484475607, 0.7419637484475607, 0.5531551830953825, 0.5826433270724988, 0.5555317282097276, 0.6316067518231372, 0.5004838421022587, 0.4959720226213032, 0.4351340061570871, 0.4351340061570871, 0.48384624051100017, 0.6625518655138233, 0.5688937281642181, 0.5283613907896011, 0.555777623254763, 0.5403798667916934, 0.535626242747437, 0.45510569330901524, 0.38281149531709163, 0.4380010561377879, 0.4380010561377879, 0.12346799528016295, 0.23291875906096188, 0.24858907739580957, 0.20941656713930587, 0.20941656713930587, 0.314807555459286, 0.35567273024785656, 0.35567273024785656, 0.3697672287742803, 0.41577461939072324, 0.41577461939072324, 0.3206007044884499, 0.32075635786241524, 0.2795163971840181, 0.45221456662459697, 0.2794831922457924, 0.13181048747925947, 0.13079150925282465, 0.13620454058813403, 0.14115917010466186, 0.0689304911894269, 0.10485297846298655, 0.2177734853294586, 0.11929315320787183, 0.12790728919962957, 0.1129745213485463, 0.31680664808596487, 0.19579229145288124, 0.17550844961462067, 0.1271804548665937, 0.06412507051719853, 0.0009825177545249042, 0.040017957313138994, 0.015760976143151327, 0.19296745745527488, 0.2091667715283831, 0.06054253246046254, 0.09138799811372159, 0.12226478031647134, 0.17097343851799107, 0.13095310455614656, 0.3256272784515578, 0.3023033267102683, 0.3023033267102683, 0.3023033267102683], [0.2332253609298242, 0.26470626945084197, 0.26470626945084197, 0.26470626945084197, 0.3727630673212234, 0.35042959974549853, 0.35042959974549853, 0.35042959974549853, 0.3929604550589789, 0.37197398103535456, 0.4362578193160846, 0.6558008609071226, 1.0, 0.9493115276478866, 0.9493115276478866, 0.9493115276478866, 0.9499203939031047, 0.9366758857340857, 0.8620461892161981, 0.8620461892161981, 0.884686173861116, 0.917795693487848, 0.8538023501878916, 0.7805415602622953, 0.8213414462604488, 0.8218203154322615, 0.8263320135583585, 0.8263320135583585, 0.8683691454422823, 0.827189261271187, 0.7501466577260204, 0.7576044718368475, 0.7087086626537851, 0.6844467825125898, 0.6821337621920537, 0.6674329181501311, 0.5662828643789316, 0.832469187099956, 0.832469187099956, 0.3620722304870863, 0.693982104206276, 0.48719383082488765, 0.4262898643769414, 0.4262898643769414, 0.5292631373004855, 0.5854399278646069, 0.5854399278646069, 0.5808787947316739, 0.6580095848995158, 0.6580095848995158, 0.5739414429007285, 0.5615995589005325, 0.5144767801445131, 0.3660024338876923, 0.22930817858434488, 0.008412799551026438, 0.006522307997576611, 0.009244286002952181, 0.009857178468483392, 0.07910133546592235, 0.050903775675279504, 0.2688277780468033, 0.23585628520229326, 0.3704823956471613, 0.4200700894537551, 0.5111034680182526, 0.47657181153929956, 0.32058140676101404, 0.21759979979699093, 0.059943587277939914, 0.009482177061420433, 0.10726619226609986, 0.009934243655851762, 0.06927989577069424, 0.12417846433199908, 0.09388808903691463, 0.13829860736259256, 0.11322335132566219, 0.15244112753071917, 0.1076024304907132, 0.16792438126425627, 0.2807138016418544, 0.2807138016418544, 0.2807138016418544], [0.3423274031030006, 0.37547515158017053, 0.37547515158017053, 0.37547515158017053, 0.4820222907622677, 0.4446285722014271, 0.4446285722014271, 0.4446285722014271, 0.4482302032799032, 0.4612076069236282, 0.4932918684416809, 0.6861602544913641, 0.9493115276478866, 1.0, 1.0, 1.0, 0.9825060848666559, 0.9780379464301426, 0.9095640778322409, 0.9095640778322409, 0.9425151068342682, 0.9673208491751655, 0.9172920114689589, 0.8674004855348063, 0.8831837393324978, 0.8897446393609187, 0.842304428454472, 0.842304428454472, 0.8801422548327791, 0.854798883679441, 0.8243227354897031, 0.8218170243051764, 0.796835054475429, 0.7729020013784415, 0.7711747634416707, 0.7419084152296544, 0.6679088938252378, 0.7981106791025532, 0.7981106791025532, 0.3413864930579491, 0.5816133934624684, 0.4630177790924802, 0.41366269848365106, 0.41366269848365106, 0.5305164810775265, 0.5821709211356351, 0.5821709211356351, 0.5627233690787579, 0.6409622864876635, 0.6409622864876635, 0.5620220724482803, 0.5473804755604211, 0.5166125880525327, 0.3660024338876923, 0.2625558969195209, 0.024594226962894684, 0.022646482359710708, 0.024936378404581815, 0.025075069605227124, 0.06040722624301712, 0.029981733517633974, 0.33368282670314314, 0.2945527845488996, 0.38919500791738826, 0.4404161130934742, 0.5428954510210618, 0.5074884500563214, 0.3332066883179206, 0.23531988706153337, 0.0728611526698382, 0.002424625193222481, 0.13329587822345546, 0.014686588333035641, 0.09894150865183025, 0.19529588218879956, 0.11064522780053436, 0.15298239412565914, 0.12077287227772265, 0.15624262722041596, 0.16496234456135733, 0.12243157889358453, 0.26632078492957845, 0.26632078492957845, 0.26632078492957845], [0.3423274031030006, 0.37547515158017053, 0.37547515158017053, 0.37547515158017053, 0.4820222907622677, 0.4446285722014271, 0.4446285722014271, 0.4446285722014271, 0.4482302032799032, 0.4612076069236282, 0.4932918684416809, 0.6861602544913641, 0.9493115276478866, 1.0, 1.0, 1.0, 0.9825060848666559, 0.9780379464301426, 0.9095640778322409, 0.9095640778322409, 0.9425151068342682, 0.9673208491751655, 0.9172920114689589, 0.8674004855348063, 0.8831837393324978, 0.8897446393609187, 0.842304428454472, 0.842304428454472, 0.8801422548327791, 0.854798883679441, 0.8243227354897031, 0.8218170243051764, 0.796835054475429, 0.7729020013784415, 0.7711747634416707, 0.7419084152296544, 0.6679088938252378, 0.7981106791025532, 0.7981106791025532, 0.3413864930579491, 0.5816133934624684, 0.4630177790924802, 0.41366269848365106, 0.41366269848365106, 0.5305164810775265, 0.5821709211356351, 0.5821709211356351, 0.5627233690787579, 0.6409622864876635, 0.6409622864876635, 0.5620220724482803, 0.5473804755604211, 0.5166125880525327, 0.3660024338876923, 0.2625558969195209, 0.024594226962894684, 0.022646482359710708, 0.024936378404581815, 0.025075069605227124, 0.06040722624301712, 0.029981733517633974, 0.33368282670314314, 0.2945527845488996, 0.38919500791738826, 0.4404161130934742, 0.5428954510210618, 0.5074884500563214, 0.3332066883179206, 0.23531988706153337, 0.0728611526698382, 0.002424625193222481, 0.13329587822345546, 0.014686588333035641, 0.09894150865183025, 0.19529588218879956, 0.11064522780053436, 0.15298239412565914, 0.12077287227772265, 0.15624262722041596, 0.16496234456135733, 0.12243157889358453, 0.26632078492957845, 0.26632078492957845, 0.26632078492957845], [0.3423274031030006, 0.37547515158017053, 0.37547515158017053, 0.37547515158017053, 0.4820222907622677, 0.4446285722014271, 0.4446285722014271, 0.4446285722014271, 0.4482302032799032, 0.4612076069236282, 0.4932918684416809, 0.6861602544913641, 0.9493115276478866, 1.0, 1.0, 1.0, 0.9825060848666559, 0.9780379464301426, 0.9095640778322409, 0.9095640778322409, 0.9425151068342682, 0.9673208491751655, 0.9172920114689589, 0.8674004855348063, 0.8831837393324978, 0.8897446393609187, 0.842304428454472, 0.842304428454472, 0.8801422548327791, 0.854798883679441, 0.8243227354897031, 0.8218170243051764, 0.796835054475429, 0.7729020013784415, 0.7711747634416707, 0.7419084152296544, 0.6679088938252378, 0.7981106791025532, 0.7981106791025532, 0.3413864930579491, 0.5816133934624684, 0.4630177790924802, 0.41366269848365106, 0.41366269848365106, 0.5305164810775265, 0.5821709211356351, 0.5821709211356351, 0.5627233690787579, 0.6409622864876635, 0.6409622864876635, 0.5620220724482803, 0.5473804755604211, 0.5166125880525327, 0.3660024338876923, 0.2625558969195209, 0.024594226962894684, 0.022646482359710708, 0.024936378404581815, 0.025075069605227124, 0.06040722624301712, 0.029981733517633974, 0.33368282670314314, 0.2945527845488996, 0.38919500791738826, 0.4404161130934742, 0.5428954510210618, 0.5074884500563214, 0.3332066883179206, 0.23531988706153337, 0.0728611526698382, 0.002424625193222481, 0.13329587822345546, 0.014686588333035641, 0.09894150865183025, 0.19529588218879956, 0.11064522780053436, 0.15298239412565914, 0.12077287227772265, 0.15624262722041596, 0.16496234456135733, 0.12243157889358453, 0.26632078492957845, 0.26632078492957845, 0.26632078492957845], [0.36728080937031155, 0.404329916901618, 0.404329916901618, 0.404329916901618, 0.5245634816554258, 0.5120233819623299, 0.5120233819623299, 0.5120233819623299, 0.38037633920395536, 0.3784698674466485, 0.45782915351645403, 0.7204128595236129, 0.9499203939031047, 0.9825060848666559, 0.9825060848666559, 0.9825060848666559, 1.0, 0.9893722744945731, 0.9301732362375251, 0.9301732362375251, 0.8993441180432551, 0.9441565899064936, 0.9067427533099055, 0.885452552221369, 0.869077924554275, 0.870871748669025, 0.845339700112379, 0.845339700112379, 0.8903110008570618, 0.8606274331889737, 0.8198513116128114, 0.8023138162959498, 0.7813477479262154, 0.7632178830112404, 0.7607627518844028, 0.7338164089596924, 0.6277762428378981, 0.765655905844999, 0.765655905844999, 0.3620722304870863, 0.5224160950327029, 0.45687630144593777, 0.39014449037092336, 0.39014449037092336, 0.5174258796200045, 0.5759785652775978, 0.5759785652775978, 0.5570809492477716, 0.6597802184657194, 0.6597802184657194, 0.5674545675299806, 0.5598550770630601, 0.5426756651329214, 0.3660024338876923, 0.27364905829453484, 0.016719860233191275, 0.015177099577123428, 0.01845503670589537, 0.020152968831380184, 0.0874763415387523, 0.01700496403880296, 0.328612893217421, 0.29385885201808637, 0.3898176873609283, 0.43456586952551307, 0.5424521453806933, 0.49556209895874176, 0.32200283527764895, 0.23999068944338844, 0.06427006873320111, 0.0006697849032716898, 0.11505388465292676, 0.012789661250249653, 0.10308944729251805, 0.20011361799176658, 0.11692394389705234, 0.15983334314042286, 0.12009885179905502, 0.13913587861678037, 0.09413897877731019, 0.19359120647157924, 0.3023033267102683, 0.3023033267102683, 0.3023033267102683], [0.4421472504057532, 0.4745644051593947, 0.4745644051593947, 0.4745644051593947, 0.5707391022701177, 0.5420136741427991, 0.5420136741427991, 0.5420136741427991, 0.36601212646184306, 0.380696559233901, 0.40465085108306703, 0.700740021185754, 0.9366758857340857, 0.9780379464301426, 0.9780379464301426, 0.9780379464301426, 0.9893722744945731, 1.0, 0.9430316922827354, 0.9430316922827354, 0.9180508006781581, 0.9548593095345775, 0.9343464291973597, 0.8920077329241802, 0.8921330847645287, 0.8879131833942812, 0.8551807602707848, 0.8551807602707848, 0.886067584640692, 0.8495495671421616, 0.8358872810365999, 0.8260210571414874, 0.8069553942816917, 0.7890468642932883, 0.787169750602508, 0.755050295281412, 0.6527413609383187, 0.7274671372699417, 0.7274671372699417, 0.36904298882512654, 0.5020822289111014, 0.471056112393148, 0.4043465323703719, 0.4043465323703719, 0.5030321942585655, 0.559693571708316, 0.559693571708316, 0.5353878207602022, 0.6433876034377921, 0.6433876034377921, 0.5788824874502317, 0.5597666108244839, 0.5423502616246093, 0.3660773395932965, 0.2767645589826101, 0.011563588048063603, 0.009622399426210963, 0.012888976357467464, 0.013976353144092865, 0.08948764144653257, 0.016497325876416086, 0.32168016107227143, 0.2695417715170982, 0.3793145538699046, 0.4360475145493399, 0.5140804149675434, 0.47938076684816805, 0.3042885774353241, 0.23803317410084981, 0.06830203098341893, 0.0011253839317542705, 0.11596102927719787, 0.012796052215620697, 0.059165891663725316, 0.1914859410311207, 0.09945832814561177, 0.16460302044495154, 0.12018362695478674, 0.15294761069767612, 0.14816334668283254, 0.10073410795294416, 0.2279860568896788, 0.2279860568896788, 0.2279860568896788], [0.4614873089191161, 0.4907249630425602, 0.4907249630425602, 0.4907249630425602, 0.5727803201229653, 0.5452455775741811, 0.5452455775741811, 0.5452455775741811, 0.24428437218681684, 0.31185016883698113, 0.31876325095834873, 0.7419637484475607, 0.8620461892161981, 0.9095640778322409, 0.9095640778322409, 0.9095640778322409, 0.9301732362375251, 0.9430316922827354, 1.0, 1.0, 0.828054646533783, 0.8633877368205923, 0.8499683775218991, 0.8913296215435247, 0.7924178872104114, 0.77229680721318, 0.7578875210375914, 0.7578875210375914, 0.7821096043361802, 0.8483613735041695, 0.7553210927923869, 0.7423037084114622, 0.7519432268580232, 0.73347908241674, 0.7316248018231881, 0.674247486412046, 0.5425396120324798, 0.6343711714226183, 0.6343711714226183, 0.22690219333010678, 0.39095774547380985, 0.45975087700604844, 0.39507460180461756, 0.39507460180461756, 0.46337850291061167, 0.5183142549855795, 0.5183142549855795, 0.5068794793646285, 0.5999220957415762, 0.5999220957415762, 0.5518534863805682, 0.5498979889412272, 0.5046768191683986, 0.4618049086060528, 0.2760513393586654, 0.06343651329787664, 0.061553180504498206, 0.06480447673354846, 0.06577354125479244, 0.06765389653651244, 0.021392090619338087, 0.2782706780858145, 0.17380616248335615, 0.2848563042672077, 0.3391377140250057, 0.4255974881446961, 0.37798635900495564, 0.2217005890869237, 0.18624758731251667, 0.03632604003769758, 0.004506422843327419, 0.10127195885849938, 0.008094153345795592, 0.02993082416971971, 0.23914426740401887, 0.04446075353298717, 0.15823063342409915, 0.15000431916242937, 0.15292002904875368, 0.1447706831202169, 0.06871389887614308, 0.18666396910265876, 0.18666396910265876, 0.18666396910265876], [0.4614873089191161, 0.4907249630425602, 0.4907249630425602, 0.4907249630425602, 0.5727803201229653, 0.5452455775741811, 0.5452455775741811, 0.5452455775741811, 0.24428437218681684, 0.31185016883698113, 0.31876325095834873, 0.7419637484475607, 0.8620461892161981, 0.9095640778322409, 0.9095640778322409, 0.9095640778322409, 0.9301732362375251, 0.9430316922827354, 1.0, 1.0, 0.828054646533783, 0.8633877368205923, 0.8499683775218991, 0.8913296215435247, 0.7924178872104114, 0.77229680721318, 0.7578875210375914, 0.7578875210375914, 0.7821096043361802, 0.8483613735041695, 0.7553210927923869, 0.7423037084114622, 0.7519432268580232, 0.73347908241674, 0.7316248018231881, 0.674247486412046, 0.5425396120324798, 0.6343711714226183, 0.6343711714226183, 0.22690219333010678, 0.39095774547380985, 0.45975087700604844, 0.39507460180461756, 0.39507460180461756, 0.46337850291061167, 0.5183142549855795, 0.5183142549855795, 0.5068794793646285, 0.5999220957415762, 0.5999220957415762, 0.5518534863805682, 0.5498979889412272, 0.5046768191683986, 0.4618049086060528, 0.2760513393586654, 0.06343651329787664, 0.061553180504498206, 0.06480447673354846, 0.06577354125479244, 0.06765389653651244, 0.021392090619338087, 0.2782706780858145, 0.17380616248335615, 0.2848563042672077, 0.3391377140250057, 0.4255974881446961, 0.37798635900495564, 0.2217005890869237, 0.18624758731251667, 0.03632604003769758, 0.004506422843327419, 0.10127195885849938, 0.008094153345795592, 0.02993082416971971, 0.23914426740401887, 0.04446075353298717, 0.15823063342409915, 0.15000431916242937, 0.15292002904875368, 0.1447706831202169, 0.06871389887614308, 0.18666396910265876, 0.18666396910265876, 0.18666396910265876], [0.4550100142278063, 0.4665129737787905, 0.4665129737787905, 0.4665129737787905, 0.4783594713337454, 0.4341774343639014, 0.4341774343639014, 0.4341774343639014, 0.4641818787186441, 0.5057835518529885, 0.3966034379569661, 0.5531551830953825, 0.884686173861116, 0.9425151068342682, 0.9425151068342682, 0.9425151068342682, 0.8993441180432551, 0.9180508006781581, 0.828054646533783, 0.828054646533783, 1.0, 0.9570574809010548, 0.950329412573049, 0.8284904024013465, 0.9031806961978444, 0.8972112472451945, 0.8316310449539354, 0.8316310449539354, 0.8116066186932042, 0.7908236073405892, 0.8106614245523744, 0.8495570162021508, 0.8318605314676527, 0.7967428900858272, 0.7984090894982095, 0.7731492734537244, 0.7187689547462708, 0.7550847668365992, 0.7550847668365992, 0.3689674762967987, 0.5615755172191534, 0.5668856219207159, 0.5132625031782461, 0.5132625031782461, 0.48403721364704894, 0.5316267029033299, 0.5316267029033299, 0.5261649396936174, 0.5782975654677827, 0.5782975654677827, 0.6023966083928373, 0.5982635786290318, 0.483818650812909, 0.4037202419600881, 0.22589015260332587, 0.04746581035676016, 0.04440963362613536, 0.046368556424247066, 0.04477115121107874, 0.02885350900317568, 0.029457562380472754, 0.3730072723779648, 0.25524709360786835, 0.35105842805969995, 0.397231614155706, 0.4882280909480069, 0.4819428286908102, 0.2909464257267634, 0.19800343315722452, 0.06505274144760459, 0.009549029793393074, 0.1515460417905853, 0.07167769364395041, 0.06899600608589344, 0.07987950674666093, 0.09137639147004639, 0.13984487217763245, 0.12132192629985317, 0.14673887799617397, 0.18515752213146186, 0.11622053625527401, 0.009245514207538377, 0.009245514207538377, 0.009245514207538377], [0.42063447276628707, 0.44209860904856085, 0.44209860904856085, 0.44209860904856085, 0.4962208480456557, 0.4510272339373128, 0.4510272339373128, 0.4510272339373128, 0.5502375551816802, 0.5618608923319948, 0.5084233767349736, 0.5826433270724988, 0.917795693487848, 0.9673208491751655, 0.9673208491751655, 0.9673208491751655, 0.9441565899064936, 0.9548593095345775, 0.8633877368205923, 0.8633877368205923, 0.9570574809010548, 1.0, 0.9707652748595985, 0.8884854143132692, 0.9679922351513445, 0.9677987939341502, 0.9334621881353824, 0.9334621881353824, 0.932637450787738, 0.8761335351407161, 0.9026495946683026, 0.914741879918441, 0.879513303620171, 0.8677621676021727, 0.8660577861251426, 0.8384762418923409, 0.77110814454745, 0.749991883473187, 0.749991883473187, 0.3788878640415018, 0.5300316829381366, 0.43699525707284786, 0.37639045312913233, 0.37639045312913233, 0.40472268745385725, 0.45228430670266484, 0.45228430670266484, 0.43915888682249604, 0.5108769353549817, 0.5108769353549817, 0.4847006031001691, 0.45990097336569286, 0.3916133844960866, 0.2241943033512761, 0.1394207067777775, 0.05653106247140928, 0.058613375451873055, 0.05637585943306781, 0.05654954570277506, 0.09542491673959767, 0.05485562005843567, 0.35135802520513837, 0.32373629504916734, 0.4037323549050422, 0.4726946747129685, 0.5054203110083296, 0.5076465926444446, 0.3067043427942168, 0.2425649856571141, 0.09030264928171385, 0.02045027546330878, 0.11792701649251394, 0.10755381120583728, 0.08149312028114937, 0.15000901156600352, 0.15457178401417673, 0.1482732013244954, 0.09352829041023866, 0.15190413942129366, 0.19013583195927714, 0.019112995433260293, 0.11228694567083876, 0.11228694567083876, 0.11228694567083876], [0.5933049918718245, 0.6068934976447125, 0.6068934976447125, 0.6068934976447125, 0.6167175774889707, 0.5879161086266498, 0.5879161086266498, 0.5879161086266498, 0.4667399988863917, 0.47239115964227163, 0.36861658673305864, 0.5555317282097276, 0.8538023501878916, 0.9172920114689589, 0.9172920114689589, 0.9172920114689589, 0.9067427533099055, 0.9343464291973597, 0.8499683775218991, 0.8499683775218991, 0.950329412573049, 0.9707652748595985, 1.0, 0.9096087381760758, 0.9760972365269428, 0.9655231951359453, 0.9251987061844641, 0.9251987061844641, 0.894588488850099, 0.8274967018516838, 0.90231636048332, 0.9275497435948842, 0.9027936857865158, 0.895830262553189, 0.8965149516300388, 0.8673180878874643, 0.7882538698360319, 0.6314948771183951, 0.6314948771183951, 0.4029064042356334, 0.41359432388146833, 0.4915499890881038, 0.4153817017574534, 0.4153817017574534, 0.3615155868432161, 0.4102165391418768, 0.4102165391418768, 0.4105603415510597, 0.4924261125462147, 0.4924261125462147, 0.5190790252931492, 0.4747465087562953, 0.392327109743909, 0.24234357885942195, 0.14052775569958445, 0.04776423818148691, 0.05068939498272634, 0.04730960480356525, 0.04760908958428022, 0.09759974352134364, 0.030227813376469105, 0.3954440452561007, 0.29727334041217174, 0.37122684355346713, 0.4298151445024708, 0.4611190179468803, 0.4705046238762208, 0.25089515206540686, 0.22837575651176664, 0.08253105976715651, 0.03156013589044555, 0.1130047447804218, 0.15357611269852706, 0.07826632951037936, 0.09624016291568911, 0.1458081715608379, 0.15418596361471848, 0.09656954249389539, 0.16332010680040765, 0.15331192355469583, 0.11280697408282885, 0.027794301090376217, 0.027794301090376217, 0.027794301090376217], [0.6017362324073491, 0.6309971135270699, 0.6309971135270699, 0.6309971135270699, 0.7026633314148767, 0.6758322684795537, 0.6758322684795537, 0.6758322684795537, 0.4352840517131485, 0.4094492558110527, 0.38784272276988235, 0.6316067518231372, 0.7805415602622953, 0.8674004855348063, 0.8674004855348063, 0.8674004855348063, 0.885452552221369, 0.8920077329241802, 0.8913296215435247, 0.8913296215435247, 0.8284904024013465, 0.8884854143132692, 0.9096087381760758, 1.0, 0.8921685893219349, 0.8827996109833958, 0.8599528791684432, 0.8599528791684432, 0.8599528791684432, 0.8892327559585307, 0.8993819264598456, 0.8883128436048705, 0.894861801940729, 0.9066049840828813, 0.9075549938488746, 0.8875463486519887, 0.7502766240118605, 0.5095243432946025, 0.5095243432946025, 0.20769762889604299, 0.22568434214384916, 0.30239748839548647, 0.22115140713459422, 0.22115140713459422, 0.2527799495977336, 0.303276519466103, 0.303276519466103, 0.3022780255223634, 0.396760607653404, 0.396760607653404, 0.35581734748381993, 0.40012353881255097, 0.3527583574307289, 0.2885410879978933, 0.09548890183090646, 0.04116031248181486, 0.04452440293712155, 0.040952327676775827, 0.04055630629251555, 0.10339600717921171, 0.06477427181242, 0.3665927075866671, 0.31411890005730103, 0.3094751792467004, 0.35686526003353236, 0.4271753718404436, 0.41016555833645957, 0.18541142829862434, 0.20696464597855016, 0.03085449717367306, 0.04417533585263483, 0.092911177421815, 0.19038507973301896, 0.16952409349583786, 0.13803270661429295, 0.2167772534921965, 0.1401867004823737, 0.12405274666903122, 0.028102595126064174, 0.1565292289563218, 0.027125465526968963, 0.14451481142703057, 0.14451481142703057, 0.14451481142703057], [0.5279889997534616, 0.5414697627994691, 0.5414697627994691, 0.5414697627994691, 0.5557458592257114, 0.5198382114969027, 0.5198382114969027, 0.5198382114969027, 0.5931162979397152, 0.5796949441049155, 0.47780787190442164, 0.5004838421022587, 0.8213414462604488, 0.8831837393324978, 0.8831837393324978, 0.8831837393324978, 0.869077924554275, 0.8921330847645287, 0.7924178872104114, 0.7924178872104114, 0.9031806961978444, 0.9679922351513445, 0.9760972365269428, 0.8921685893219349, 1.0, 0.9945664108211634, 0.9659141216493848, 0.9659141216493848, 0.9339895804757258, 0.8429276810883655, 0.9496205491234653, 0.9643249499062505, 0.9296605815349134, 0.9325233091057196, 0.9317862209063567, 0.8998493294415266, 0.8473262959250722, 0.6069198352871196, 0.6069198352871196, 0.36899591317068625, 0.3754041558597524, 0.36134342647944884, 0.2894021020016203, 0.2894021020016203, 0.24616176712738888, 0.28864286116568166, 0.28864286116568166, 0.2811360723495725, 0.3519938791478395, 0.3519938791478395, 0.36551526395725753, 0.3299865241487806, 0.24215719204179612, 0.07065149801168676, 0.023394861512755896, 0.13223363473638078, 0.1344639988046515, 0.131664466166218, 0.13120579307248426, 0.13611035210141986, 0.06245152862517976, 0.38112406671884036, 0.34951613984649466, 0.39481079290592397, 0.467914619061663, 0.44610925550167163, 0.4730353475968715, 0.25536299056820233, 0.24848201780866722, 0.10292130608633997, 0.04552712008464619, 0.09145605058299182, 0.20016926491000997, 0.09156350935897759, 0.12135290148908194, 0.20021139207480246, 0.1403562988521576, 0.05848541638955574, 0.1434236187881006, 0.16834118079580038, 0.10635687685777186, 0.009246226773112405, 0.009246226773112405, 0.009246226773112405], [0.49336422635084765, 0.5121865945859027, 0.5121865945859027, 0.5121865945859027, 0.5503428068101325, 0.5142488731500773, 0.5142488731500773, 0.5142488731500773, 0.6234301309764959, 0.5765231352525927, 0.5084905941114488, 0.4959720226213032, 0.8218203154322615, 0.8897446393609187, 0.8897446393609187, 0.8897446393609187, 0.870871748669025, 0.8879131833942812, 0.77229680721318, 0.77229680721318, 0.8972112472451945, 0.9677987939341502, 0.9655231951359453, 0.8827996109833958, 0.9945664108211634, 1.0, 0.9607430018827922, 0.9607430018827922, 0.9434035341761469, 0.8271692299509674, 0.9515375771031095, 0.9604754413935633, 0.9209396481810619, 0.9231458886038472, 0.9227575148834106, 0.8931948188122025, 0.8668998581043015, 0.6092904192156354, 0.6092904192156354, 0.3689674762967987, 0.39097161120424184, 0.3227585101827089, 0.2592493844104783, 0.2592493844104783, 0.25690393988071347, 0.297221855459598, 0.297221855459598, 0.28439778336292904, 0.3519667525450961, 0.3519667525450961, 0.3384198355900108, 0.2995975669808757, 0.23148523622164366, 0.032329549776339235, 0.03513914258500558, 0.14578605273504824, 0.14826318858809423, 0.1455564075339833, 0.145677418743245, 0.13138327404122, 0.06155393091547679, 0.39504748541361057, 0.3738953146222501, 0.41728988339938283, 0.4921359580399062, 0.4703466326027752, 0.49894712467894026, 0.26673016905250196, 0.2590869405087076, 0.11286146774439446, 0.04560296163954185, 0.09775177224180108, 0.18950591783642512, 0.10227887972488105, 0.14354157871561848, 0.21428471990765566, 0.14524924914237655, 0.05453071690145009, 0.14341256576768927, 0.1683282074897081, 0.048680589155235106, 0.06082049075986057, 0.06082049075986057, 0.06082049075986057], [0.43661747401009854, 0.45196685387218416, 0.45196685387218416, 0.45196685387218416, 0.4805203114539255, 0.4508426060373453, 0.4508426060373453, 0.4508426060373453, 0.5749304628997906, 0.5419618920492933, 0.4747838181899877, 0.4351340061570871, 0.8263320135583585, 0.842304428454472, 0.842304428454472, 0.842304428454472, 0.845339700112379, 0.8551807602707848, 0.7578875210375914, 0.7578875210375914, 0.8316310449539354, 0.9334621881353824, 0.9251987061844641, 0.8599528791684432, 0.9659141216493848, 0.9607430018827922, 1.0, 1.0, 0.9760283253301674, 0.8382910208790105, 0.9101327349548252, 0.9165372184099708, 0.8675930962660855, 0.8848424454059953, 0.8831989743501031, 0.8622890092191344, 0.7754596553712353, 0.6155343753589658, 0.6155343753589658, 0.42068181986964187, 0.4053797134683844, 0.3360560907122722, 0.2531960368054884, 0.2531960368054884, 0.2169939544121075, 0.26218658717231996, 0.26218658717231996, 0.2643998272925442, 0.33871320971616287, 0.33871320971616287, 0.3319757415135821, 0.296625103341575, 0.21281585591786312, 0.010776516592113079, 0.04437272529178207, 0.184052015989688, 0.18560116734988588, 0.18276511437540946, 0.18149867039151094, 0.16662414096468978, 0.11040656797290074, 0.3246978570326032, 0.3809556542551831, 0.39952909409389087, 0.4589684567708048, 0.42771819522413107, 0.46439881533949584, 0.2555667410788164, 0.2595572592866359, 0.12757109347555629, 0.04195867197736944, 0.06661233542015321, 0.2092153585286693, 0.10732209481649835, 0.12228622743084733, 0.20738657152771484, 0.1347339346939657, 0.04457541186906984, 0.12202913001314478, 0.14140130406290205, 0.050654960325029176, 0.03923096569144663, 0.03923096569144663, 0.03923096569144663], [0.43661747401009854, 0.45196685387218416, 0.45196685387218416, 0.45196685387218416, 0.4805203114539255, 0.4508426060373453, 0.4508426060373453, 0.4508426060373453, 0.5749304628997906, 0.5419618920492933, 0.4747838181899877, 0.4351340061570871, 0.8263320135583585, 0.842304428454472, 0.842304428454472, 0.842304428454472, 0.845339700112379, 0.8551807602707848, 0.7578875210375914, 0.7578875210375914, 0.8316310449539354, 0.9334621881353824, 0.9251987061844641, 0.8599528791684432, 0.9659141216493848, 0.9607430018827922, 1.0, 1.0, 0.9760283253301674, 0.8382910208790105, 0.9101327349548252, 0.9165372184099708, 0.8675930962660855, 0.8848424454059953, 0.8831989743501031, 0.8622890092191344, 0.7754596553712353, 0.6155343753589658, 0.6155343753589658, 0.42068181986964187, 0.4053797134683844, 0.3360560907122722, 0.2531960368054884, 0.2531960368054884, 0.2169939544121075, 0.26218658717231996, 0.26218658717231996, 0.2643998272925442, 0.33871320971616287, 0.33871320971616287, 0.3319757415135821, 0.296625103341575, 0.21281585591786312, 0.010776516592113079, 0.04437272529178207, 0.184052015989688, 0.18560116734988588, 0.18276511437540946, 0.18149867039151094, 0.16662414096468978, 0.11040656797290074, 0.3246978570326032, 0.3809556542551831, 0.39952909409389087, 0.4589684567708048, 0.42771819522413107, 0.46439881533949584, 0.2555667410788164, 0.2595572592866359, 0.12757109347555629, 0.04195867197736944, 0.06661233542015321, 0.2092153585286693, 0.10732209481649835, 0.12228622743084733, 0.20738657152771484, 0.1347339346939657, 0.04457541186906984, 0.12202913001314478, 0.14140130406290205, 0.050654960325029176, 0.03923096569144663, 0.03923096569144663, 0.03923096569144663], [0.3479878613721205, 0.3797839839062706, 0.3797839839062706, 0.3797839839062706, 0.4805203114539255, 0.4508426060373453, 0.4508426060373453, 0.4508426060373453, 0.5619802331948656, 0.4821325254555721, 0.5176914565102566, 0.48384624051100017, 0.8683691454422823, 0.8801422548327791, 0.8801422548327791, 0.8801422548327791, 0.8903110008570618, 0.886067584640692, 0.7821096043361802, 0.7821096043361802, 0.8116066186932042, 0.932637450787738, 0.894588488850099, 0.8599528791684432, 0.9339895804757258, 0.9434035341761469, 0.9760283253301674, 0.9760283253301674, 1.0, 0.8382910208790105, 0.8940983751463283, 0.8785219363776917, 0.8220068136454037, 0.8387664042375226, 0.8371229331816303, 0.8289770328067988, 0.7509978590159596, 0.655156806861353, 0.655156806861353, 0.42068181986964187, 0.4504206734175669, 0.26222079327945197, 0.18703381001096617, 0.18703381001096617, 0.2761371860402861, 0.32404382893435657, 0.32404382893435657, 0.3060136984021262, 0.40238224170089926, 0.40238224170089926, 0.3173802719293993, 0.296625103341575, 0.2826606627090752, 0.010776516592113079, 0.02560640916899373, 0.18500727865659425, 0.1864629869122093, 0.18361317294047333, 0.18233751214123203, 0.16783354409838888, 0.09148509391900793, 0.31616933247887774, 0.4002178160606832, 0.43216307943219917, 0.4922812983381806, 0.47577515221149563, 0.49707355844823586, 0.28495220780929026, 0.2777508199610983, 0.12961378565689247, 0.031119997695470757, 0.07070806720533053, 0.14845112990214274, 0.11473586997540204, 0.17525636992245294, 0.21449492861548197, 0.14614300540068867, 0.05105027256584168, 0.09209231995678248, 0.14140130406290205, 0.12243157889358453, 0.2495289320985898, 0.2495289320985898, 0.2495289320985898], [0.29765969900220574, 0.3180419581146699, 0.3180419581146699, 0.3180419581146699, 0.3770423990824852, 0.35757339373821195, 0.35757339373821195, 0.35757339373821195, 0.5139952474258347, 0.6149231427585992, 0.6079747537345052, 0.6625518655138233, 0.827189261271187, 0.854798883679441, 0.854798883679441, 0.854798883679441, 0.8606274331889737, 0.8495495671421616, 0.8483613735041695, 0.8483613735041695, 0.7908236073405892, 0.8761335351407161, 0.8274967018516838, 0.8892327559585307, 0.8429276810883655, 0.8271692299509674, 0.8382910208790105, 0.8382910208790105, 0.8382910208790105, 1.0, 0.8338224648844667, 0.8244066251492633, 0.8098601635450852, 0.8288671680658172, 0.8243078803150283, 0.8176617244220107, 0.6024187896136562, 0.6864130934438853, 0.6864130934438853, 0.19747401721543353, 0.4031957776141031, 0.30933006238781113, 0.2565012227455928, 0.2565012227455928, 0.27822946504797547, 0.31863493886110267, 0.31863493886110267, 0.3316773817786563, 0.3606711427889107, 0.3606711427889107, 0.32096926354590577, 0.39674296939102033, 0.2937108406717541, 0.2743380754104577, 0.036102170112316444, 0.060222033737209045, 0.06075159368745447, 0.0603637870128444, 0.05876026903218466, 0.12346430463534976, 0.02542643795646158, 0.2482531991168001, 0.23618202941693098, 0.28031080480178383, 0.3601992581883484, 0.3778093639534336, 0.3622261445530549, 0.2232367650358697, 0.18252145072157439, 0.012060523922156417, 0.0337271952984972, 0.06454663355573377, 0.14693823613202134, 0.10244024572157874, 0.19134504945493036, 0.19670343180612118, 0.10737686033701499, 0.12037196511721862, 0.00883349792229151, 0.09937309152607308, 0.05479769030824186, 0.13740128142681102, 0.13740128142681102, 0.13740128142681102], [0.5123201796241794, 0.5350963696872163, 0.5350963696872163, 0.5350963696872163, 0.5875963605099817, 0.5605853338279567, 0.5605853338279567, 0.5605853338279567, 0.6983001256258313, 0.5968332715970164, 0.5584181287340826, 0.5688937281642181, 0.7501466577260204, 0.8243227354897031, 0.8243227354897031, 0.8243227354897031, 0.8198513116128114, 0.8358872810365999, 0.7553210927923869, 0.7553210927923869, 0.8106614245523744, 0.9026495946683026, 0.90231636048332, 0.8993819264598456, 0.9496205491234653, 0.9515375771031095, 0.9101327349548252, 0.9101327349548252, 0.8940983751463283, 0.8338224648844667, 1.0, 0.9871323223726475, 0.9780385451208705, 0.9790124809341144, 0.9784132255555225, 0.9218157456270573, 0.9095684034130597, 0.48276568920417623, 0.48276568920417623, 0.1012020973529666, 0.24901194122940695, 0.14557457289725867, 0.07674988453268378, 0.07674988453268378, 0.08784008228187053, 0.12580417558178694, 0.12580417558178694, 0.11330773184211694, 0.18953311594681424, 0.18953311594681424, 0.15828567174827732, 0.1398652627008542, 0.07948989359814941, 0.032329549776339235, 0.02560574718210079, 0.15499751141147977, 0.15727295313168307, 0.1541616402911903, 0.15338510723936827, 0.15164223900819457, 0.04419352525023962, 0.37741561954620895, 0.3620858561531334, 0.35581790775712496, 0.4299501738820884, 0.4148501866165535, 0.42839751601389586, 0.17664752050712504, 0.22772616404855087, 0.04506659386934669, 0.067136856682492, 0.07135645194162428, 0.23917492435317486, 0.15595755328481672, 0.14152240834911914, 0.27684034914346217, 0.12085871673181925, 0.06078605557146599, 0.13961106607799248, 0.1447671669912528, 0.0032700522499714327, 0.09920186865926313, 0.09920186865926313, 0.09920186865926313], [0.5472910465331224, 0.5612944090584414, 0.5612944090584414, 0.5612944090584414, 0.576211090427053, 0.5432115484931351, 0.5432115484931351, 0.5432115484931351, 0.689563082954938, 0.6079014602298023, 0.509440360904119, 0.5283613907896011, 0.7576044718368475, 0.8218170243051764, 0.8218170243051764, 0.8218170243051764, 0.8023138162959498, 0.8260210571414874, 0.7423037084114622, 0.7423037084114622, 0.8495570162021508, 0.914741879918441, 0.9275497435948842, 0.8883128436048705, 0.9643249499062505, 0.9604754413935633, 0.9165372184099708, 0.9165372184099708, 0.8785219363776917, 0.8244066251492633, 0.9871323223726475, 1.0, 0.9852516365920893, 0.982865798750918, 0.9830293476197656, 0.9335980173949051, 0.9145102023146623, 0.4996092108469407, 0.4996092108469407, 0.12887415894759435, 0.29023056653592694, 0.21966673414625354, 0.14683351969394384, 0.14683351969394384, 0.09304161090834545, 0.13082872682899227, 0.13082872682899227, 0.13164841784810902, 0.19705662073769786, 0.19705662073769786, 0.20757009655922973, 0.18350231294219357, 0.08978568009564343, 0.07069601572820254, 0.03439189623640125, 0.13204544262654, 0.1349345867671118, 0.13185295737984246, 0.13194795738011109, 0.13059810271424271, 0.0331407805589712, 0.39117185256926035, 0.3324413442921968, 0.3401094830112245, 0.41352625227639583, 0.40107847819717524, 0.42384355496750853, 0.17221966101694736, 0.2131085306719317, 0.043883847958611666, 0.0659178333736993, 0.08209740029403205, 0.26180965078421997, 0.14125229444645748, 0.089167474951685, 0.25871703210381797, 0.117714487310162, 0.0672546187887438, 0.14731817862945532, 0.16171076638049842, 0.10247235765745705, 0.009252052847773383, 0.009252052847773383, 0.009252052847773383], [0.5781521365255432, 0.5897662806336262, 0.5897662806336262, 0.5897662806336262, 0.592852753879135, 0.5660138951240046, 0.5660138951240046, 0.5660138951240046, 0.681875552924822, 0.6107704479061233, 0.5014777313162545, 0.555777623254763, 0.7087086626537851, 0.796835054475429, 0.796835054475429, 0.796835054475429, 0.7813477479262154, 0.8069553942816917, 0.7519432268580232, 0.7519432268580232, 0.8318605314676527, 0.879513303620171, 0.9027936857865158, 0.894861801940729, 0.9296605815349134, 0.9209396481810619, 0.8675930962660855, 0.8675930962660855, 0.8220068136454037, 0.8098601635450852, 0.9780385451208705, 0.9852516365920893, 1.0, 0.9885599082988533, 0.9889849525491755, 0.9257741016058892, 0.9025138885105847, 0.4441098356021843, 0.4441098356021843, 0.02809154107763633, 0.21069883018208393, 0.20954846935846372, 0.14012988164947904, 0.14012988164947904, 0.06906555526527454, 0.105577094876817, 0.105577094876817, 0.10842093011845488, 0.16345479800250026, 0.16345479800250026, 0.18807655335512646, 0.18953080152841092, 0.07159137756491912, 0.14731985794698393, 0.015102814939543201, 0.0845397822937381, 0.08729355014245352, 0.08413383509143055, 0.08437132742468549, 0.10871832948758774, 0.07671883001284704, 0.40113950554266475, 0.31229743257867737, 0.29859215107483, 0.3607445053542887, 0.38100980908437826, 0.3919254951265797, 0.14199169415533505, 0.1930358136793713, 0.018101682945252957, 0.0656719054759359, 0.09080049892954448, 0.25941301603286243, 0.15889122472519382, 0.10443984177052512, 0.2522616694599951, 0.11067138215625047, 0.08392259499900256, 0.13394591069957906, 0.14480726902511248, 0.1221774848453614, 0.045240584637302114, 0.045240584637302114, 0.045240584637302114], [0.5891431089875478, 0.601022726296427, 0.601022726296427, 0.601022726296427, 0.6043459847934526, 0.581867182760178, 0.581867182760178, 0.581867182760178, 0.6741123363591098, 0.6120513274910192, 0.5075435113592426, 0.5403798667916934, 0.6844467825125898, 0.7729020013784415, 0.7729020013784415, 0.7729020013784415, 0.7632178830112404, 0.7890468642932883, 0.73347908241674, 0.73347908241674, 0.7967428900858272, 0.8677621676021727, 0.895830262553189, 0.9066049840828813, 0.9325233091057196, 0.9231458886038472, 0.8848424454059953, 0.8848424454059953, 0.8387664042375226, 0.8288671680658172, 0.9790124809341144, 0.982865798750918, 0.9885599082988533, 1.0, 0.9995715591839943, 0.956818274084537, 0.8905298690675065, 0.41495698024508815, 0.41495698024508815, 0.0634394787132802, 0.16719602582175247, 0.17581536996339528, 0.09947168590131894, 0.09947168590131894, 0.016867516378298943, 0.05209889591278342, 0.05209889591278342, 0.06679782526471446, 0.12268674271244172, 0.12268674271244172, 0.14491973122263102, 0.15383783912102358, 0.04800031833554973, 0.08813242744870742, 0.05901148083812581, 0.1225554009513262, 0.1252359247867397, 0.1219607778440709, 0.12170370909167767, 0.13243926376872542, 0.06955662447103636, 0.3883064592970376, 0.31873037927391623, 0.293886003007998, 0.36033554955764885, 0.35303373257423903, 0.37433549376972064, 0.1397717194796865, 0.20290999702952253, 0.023512877829831382, 0.06837699174924161, 0.07336506071748056, 0.28538312672614996, 0.15813648165475902, 0.09562931208331452, 0.2737412512963844, 0.11047984355568562, 0.07712695100036504, 0.08291226587433578, 0.13281385035043605, 0.11543985392748234, 0.04560210609574801, 0.04560210609574801, 0.04560210609574801], [0.597043035283676, 0.6091367554095051, 0.6091367554095051, 0.6091367554095051, 0.6127230439149856, 0.588301629380891, 0.588301629380891, 0.588301629380891, 0.6704921346777297, 0.6046818991547849, 0.4977940800038817, 0.535626242747437, 0.6821337621920537, 0.7711747634416707, 0.7711747634416707, 0.7711747634416707, 0.7607627518844028, 0.787169750602508, 0.7316248018231881, 0.7316248018231881, 0.7984090894982095, 0.8660577861251426, 0.8965149516300388, 0.9075549938488746, 0.9317862209063567, 0.9227575148834106, 0.8831989743501031, 0.8831989743501031, 0.8371229331816303, 0.8243078803150283, 0.9784132255555225, 0.9830293476197656, 0.9889849525491755, 0.9995715591839943, 1.0, 0.9571757224823869, 0.8959744948465692, 0.4096276234968113, 0.4096276234968113, 0.0634394787132802, 0.1648273561747586, 0.17581536996339528, 0.09947168590131894, 0.09947168590131894, 0.016867516378298943, 0.05209889591278342, 0.05209889591278342, 0.06679782526471446, 0.12268674271244172, 0.12268674271244172, 0.14491973122263102, 0.15383783912102358, 0.04800031833554973, 0.08813242744870742, 0.05736108797453713, 0.1236491163605656, 0.12644084585806592, 0.12309159606330054, 0.12298276727106179, 0.13243926376872542, 0.07190626364727284, 0.3932978582838, 0.31814471051789767, 0.2923699110264154, 0.3575927440191297, 0.3505523342721235, 0.37274114226743615, 0.13441830022411866, 0.20161551819233134, 0.024037165390553953, 0.06919326876446268, 0.07346620167416741, 0.28722696777626566, 0.15938434056312603, 0.09459261309281244, 0.2733479823802161, 0.11034808018302793, 0.07737136657294039, 0.08291226587433578, 0.13960124967630344, 0.11942125359589918, 0.04560210609574801, 0.04560210609574801, 0.04560210609574801], [0.5577785650649603, 0.570776691446072, 0.570776691446072, 0.570776691446072, 0.5809025609372108, 0.5525450461188913, 0.5525450461188913, 0.5525450461188913, 0.6284270481365569, 0.5771677222617357, 0.4769140846381047, 0.45510569330901524, 0.6674329181501311, 0.7419084152296544, 0.7419084152296544, 0.7419084152296544, 0.7338164089596924, 0.755050295281412, 0.674247486412046, 0.674247486412046, 0.7731492734537244, 0.8384762418923409, 0.8673180878874643, 0.8875463486519887, 0.8998493294415266, 0.8931948188122025, 0.8622890092191344, 0.8622890092191344, 0.8289770328067988, 0.8176617244220107, 0.9218157456270573, 0.9335980173949051, 0.9257741016058892, 0.956818274084537, 0.9571757224823869, 1.0, 0.8378383756926141, 0.41555766422343093, 0.41555766422343093, 0.15981346942769725, 0.16601206886952435, 0.1452208972281486, 0.07008687042468176, 0.07008687042468176, 0.005798910417488819, 0.039628892120462056, 0.039628892120462056, 0.05764086201638962, 0.1000943751452733, 0.1000943751452733, 0.1110883554611743, 0.23973513513317674, 0.1330547632380979, 0.11375338848319172, 0.07202781473176771, 0.1011337181400825, 0.1039958919357958, 0.10035441876531638, 0.10040824944194063, 0.11880224010389288, 0.07072110739142086, 0.389811440460348, 0.28437877975035114, 0.2747821649386332, 0.332615649004837, 0.33895177405837934, 0.3644691399246099, 0.17625929080938163, 0.20843427837430234, 0.021608405724993715, 0.05110467811068352, 0.07927263912145072, 0.30990206797750003, 0.16705899728740714, 0.002836385221565554, 0.29975136162714483, 0.09765957395081504, 0.08323590115570671, 0.15521478578242795, 0.14813468233688734, 0.10634986672104864, 0.02363879460656318, 0.02363879460656318, 0.02363879460656318], [0.5309189742597004, 0.5497742461344434, 0.5497742461344434, 0.5497742461344434, 0.5852549033170916, 0.5403957024313496, 0.5403957024313496, 0.5403957024313496, 0.7217955665919372, 0.5194659081045865, 0.440229486861374, 0.38281149531709163, 0.5662828643789316, 0.6679088938252378, 0.6679088938252378, 0.6679088938252378, 0.6277762428378981, 0.6527413609383187, 0.5425396120324798, 0.5425396120324798, 0.7187689547462708, 0.77110814454745, 0.7882538698360319, 0.7502766240118605, 0.8473262959250722, 0.8668998581043015, 0.7754596553712353, 0.7754596553712353, 0.7509978590159596, 0.6024187896136562, 0.9095684034130597, 0.9145102023146623, 0.9025138885105847, 0.8905298690675065, 0.8959744948465692, 0.8378383756926141, 1.0, 0.31262684849409783, 0.31262684849409783, 0.030242176287585833, 0.14336824502990617, 0.003529323252709044, 0.06648817897351754, 0.06648817897351754, 0.059775628028730356, 0.031019908554216317, 0.031019908554216317, 0.06459333325590443, 0.016733827900990445, 0.016733827900990445, 0.002267565357773273, 0.02430016136869525, 0.06946068101937179, 0.12414449083738327, 0.06091807790812948, 0.1837313099942465, 0.18876661183238996, 0.18318021821379005, 0.18611809924029346, 0.1120859877282371, 0.04990420927916956, 0.3984455388715556, 0.36273324915670785, 0.3220198908082466, 0.3871989858131572, 0.34903990952486424, 0.3953444426126234, 0.10938307978166051, 0.1889884400468443, 0.05636697724563618, 0.08649725273271595, 0.07760720197084499, 0.28017028530246724, 0.15627244485341082, 0.0637684947228947, 0.2827694567152741, 0.10524548072437441, 0.027192423621402784, 0.1339249820072048, 0.1986449513561076, 0.07550824512851587, 0.049831840186190045, 0.049831840186190045, 0.049831840186190045], [0.08206880266004143, 0.06429210103699219, 0.06429210103699219, 0.06429210103699219, 0.012701837109633565, 0.032922979963184475, 0.032922979963184475, 0.032922979963184475, 0.3263475836253803, 0.4902450730260483, 0.5146488688536062, 0.4380010561377879, 0.832469187099956, 0.7981106791025532, 0.7981106791025532, 0.7981106791025532, 0.765655905844999, 0.7274671372699417, 0.6343711714226183, 0.6343711714226183, 0.7550847668365992, 0.749991883473187, 0.6314948771183951, 0.5095243432946025, 0.6069198352871196, 0.6092904192156354, 0.6155343753589658, 0.6155343753589658, 0.655156806861353, 0.6864130934438853, 0.48276568920417623, 0.4996092108469407, 0.4441098356021843, 0.41495698024508815, 0.4096276234968113, 0.41555766422343093, 0.31262684849409783, 1.0, 1.0, 0.42070235153374824, 0.7770060285795225, 0.514497773728353, 0.4574946493990836, 0.4574946493990836, 0.5353515503627531, 0.5880558930381578, 0.5880558930381578, 0.5866773167457446, 0.6570873636565862, 0.6570873636565862, 0.5941794013022291, 0.5810954521635914, 0.5351243614717508, 0.3564407035114978, 0.23252899229542434, 0.05835084523636325, 0.060059360898181945, 0.059263882917457676, 0.0619303248576611, 0.02774213035366561, 0.11177853604053446, 0.12901597201358364, 0.16371470656443196, 0.33512708689475185, 0.39965513979380174, 0.4746679822823164, 0.4413262124927265, 0.3567132496000888, 0.1491604238104048, 0.0489321576172116, 0.0252419714077419, 0.10504422784713732, 0.09924177731269705, 0.029107145434558737, 0.1253021430121519, 0.018432726157345005, 0.10374249651504285, 0.10677560551757188, 0.12773761356507995, 0.13972519164951563, 0.10170564518211019, 0.223152625377821, 0.223152625377821, 0.223152625377821], [0.08206880266004143, 0.06429210103699219, 0.06429210103699219, 0.06429210103699219, 0.012701837109633565, 0.032922979963184475, 0.032922979963184475, 0.032922979963184475, 0.3263475836253803, 0.4902450730260483, 0.5146488688536062, 0.4380010561377879, 0.832469187099956, 0.7981106791025532, 0.7981106791025532, 0.7981106791025532, 0.765655905844999, 0.7274671372699417, 0.6343711714226183, 0.6343711714226183, 0.7550847668365992, 0.749991883473187, 0.6314948771183951, 0.5095243432946025, 0.6069198352871196, 0.6092904192156354, 0.6155343753589658, 0.6155343753589658, 0.655156806861353, 0.6864130934438853, 0.48276568920417623, 0.4996092108469407, 0.4441098356021843, 0.41495698024508815, 0.4096276234968113, 0.41555766422343093, 0.31262684849409783, 1.0, 1.0, 0.42070235153374824, 0.7770060285795225, 0.514497773728353, 0.4574946493990836, 0.4574946493990836, 0.5353515503627531, 0.5880558930381578, 0.5880558930381578, 0.5866773167457446, 0.6570873636565862, 0.6570873636565862, 0.5941794013022291, 0.5810954521635914, 0.5351243614717508, 0.3564407035114978, 0.23252899229542434, 0.05835084523636325, 0.060059360898181945, 0.059263882917457676, 0.0619303248576611, 0.02774213035366561, 0.11177853604053446, 0.12901597201358364, 0.16371470656443196, 0.33512708689475185, 0.39965513979380174, 0.4746679822823164, 0.4413262124927265, 0.3567132496000888, 0.1491604238104048, 0.0489321576172116, 0.0252419714077419, 0.10504422784713732, 0.09924177731269705, 0.029107145434558737, 0.1253021430121519, 0.018432726157345005, 0.10374249651504285, 0.10677560551757188, 0.12773761356507995, 0.13972519164951563, 0.10170564518211019, 0.223152625377821, 0.223152625377821, 0.223152625377821], [0.13337781439295146, 0.13290390751867745, 0.13290390751867745, 0.13290390751867745, 0.1210466470316286, 0.11476299961714806, 0.11476299961714806, 0.11476299961714806, 0.1732591329811807, 0.046643453236680725, 0.0888032897688051, 0.12346799528016295, 0.3620722304870863, 0.3413864930579491, 0.3413864930579491, 0.3413864930579491, 0.3620722304870863, 0.36904298882512654, 0.22690219333010678, 0.22690219333010678, 0.3689674762967987, 0.3788878640415018, 0.4029064042356334, 0.20769762889604299, 0.36899591317068625, 0.3689674762967987, 0.42068181986964187, 0.42068181986964187, 0.42068181986964187, 0.19747401721543353, 0.1012020973529666, 0.12887415894759435, 0.02809154107763633, 0.0634394787132802, 0.0634394787132802, 0.15981346942769725, 0.030242176287585833, 0.42070235153374824, 0.42070235153374824, 1.0, 0.3620722304870863, 0.5239433187803657, 0.5017898103426928, 0.5017898103426928, 0.5083521892229413, 0.5316798457465768, 0.5316798457465768, 0.5011660674086831, 0.547252676326963, 0.547252676326963, 0.5728312614680579, 0.5391699178094003, 0.5602357539672718, 0.09108190948327063, 0.1353867145688953, 0.10226578973315269, 0.10226578973315269, 0.10226888777225597, 0.10226578973315269, 0.06349980551147325, 0.31391239803192156, 0.08251346555115766, 0.16192906648014363, 0.2901850554269649, 0.3057012377210951, 0.23523320300765432, 0.29171366538194193, 0.2969001730076262, 0.17092135950429602, 0.22326913107308544, 0.035708585234968754, 0.04563268043051536, 0.07916327044313218, 0.12412046650464019, 0.0019188694401795301, 0.0839430578318325, 0.10274379200554305, 0.03064573279083323, 0.05873738016700149, 0.03200388292884867, 0.05631917738891245, 0.04561806106964158, 0.04561806106964158, 0.04561806106964158], [0.2513072341355524, 0.2381181874805562, 0.2381181874805562, 0.2381181874805562, 0.16676297586405409, 0.23085424725265744, 0.23085424725265744, 0.23085424725265744, 0.2607273583442675, 0.2610071485398317, 0.2809051240368001, 0.23291875906096188, 0.693982104206276, 0.5816133934624684, 0.5816133934624684, 0.5816133934624684, 0.5224160950327029, 0.5020822289111014, 0.39095774547380985, 0.39095774547380985, 0.5615755172191534, 0.5300316829381366, 0.41359432388146833, 0.22568434214384916, 0.3754041558597524, 0.39097161120424184, 0.4053797134683844, 0.4053797134683844, 0.4504206734175669, 0.4031957776141031, 0.24901194122940695, 0.29023056653592694, 0.21069883018208393, 0.16719602582175247, 0.1648273561747586, 0.16601206886952435, 0.14336824502990617, 0.7770060285795225, 0.7770060285795225, 0.3620722304870863, 1.0, 0.5365842931324791, 0.5762925878546614, 0.5762925878546614, 0.6649506042133736, 0.6783153867442812, 0.6783153867442812, 0.7110444700371746, 0.6581018053977556, 0.6581018053977556, 0.5962786893410716, 0.44896440503987617, 0.4376484523929708, 0.3085276787297559, 0.22877539979618833, 0.05505174956479159, 0.05388681435788906, 0.0509503333010776, 0.045834934052823684, 0.056004649962673826, 0.08730032084577652, 0.07417936553234611, 0.016313188681329225, 0.23825626208958017, 0.3369652961889903, 0.34683382130445933, 0.3546982658560903, 0.2645439169807572, 0.08694582842436877, 0.05867425340163909, 0.05550614947050784, 0.11475645937929171, 0.15125238203630606, 0.09165166476606125, 0.024262263507730367, 0.035423295014208774, 0.04661081046308798, 0.08469284601338027, 0.2815337211600063, 0.17653249837756305, 0.0801059969411241, 0.22314173479275057, 0.22314173479275057, 0.22314173479275057], [0.31087378438466684, 0.2866409708291216, 0.2866409708291216, 0.2866409708291216, 0.1668119734185335, 0.15815260406646972, 0.15815260406646972, 0.15815260406646972, 0.201958521764898, 0.05448560683570541, 0.15027459812342106, 0.24858907739580957, 0.48719383082488765, 0.4630177790924802, 0.4630177790924802, 0.4630177790924802, 0.45687630144593777, 0.471056112393148, 0.45975087700604844, 0.45975087700604844, 0.5668856219207159, 0.43699525707284786, 0.4915499890881038, 0.30239748839548647, 0.36134342647944884, 0.3227585101827089, 0.3360560907122722, 0.3360560907122722, 0.26222079327945197, 0.30933006238781113, 0.14557457289725867, 0.21966673414625354, 0.20954846935846372, 0.17581536996339528, 0.17581536996339528, 0.1452208972281486, 0.003529323252709044, 0.514497773728353, 0.514497773728353, 0.5239433187803657, 0.5365842931324791, 1.0, 0.9529966155108327, 0.9529966155108327, 0.6214472365327534, 0.655352700823648, 0.655352700823648, 0.8050734322584021, 0.7481598385002878, 0.7481598385002878, 0.9146555958513828, 0.7047203878869037, 0.5086679720365315, 0.5542683343552314, 0.2662441382723149, 0.22256359234620518, 0.22154019088410637, 0.22200811311326754, 0.22230885241861573, 0.07533410112635511, 0.15020848280770646, 0.20848830198722043, 0.06379955812736159, 0.12334035245072136, 0.13559039702949952, 0.2512261005128713, 0.22205617195205787, 0.22509022858799882, 0.06276755765144842, 0.06167195616038164, 0.05845324661538626, 0.110055582886141, 0.08657329204073, 0.07819025528265935, 0.07426962416627586, 0.17712730805912974, 0.06776529981636147, 0.08295670142929273, 0.3574394745812136, 0.04410391365092514, 0.32576689693127614, 0.3643700084510418, 0.3643700084510418, 0.3643700084510418], [0.18263466931958228, 0.1573490541545511, 0.1573490541545511, 0.1573490541545511, 0.042907596804799664, 0.02718347321357576, 0.02718347321357576, 0.02718347321357576, 0.16948377585448873, 0.06689035404149052, 0.12943627313211625, 0.20941656713930587, 0.4262898643769414, 0.41366269848365106, 0.41366269848365106, 0.41366269848365106, 0.39014449037092336, 0.4043465323703719, 0.39507460180461756, 0.39507460180461756, 0.5132625031782461, 0.37639045312913233, 0.4153817017574534, 0.22115140713459422, 0.2894021020016203, 0.2592493844104783, 0.2531960368054884, 0.2531960368054884, 0.18703381001096617, 0.2565012227455928, 0.07674988453268378, 0.14683351969394384, 0.14012988164947904, 0.09947168590131894, 0.09947168590131894, 0.07008687042468176, 0.06648817897351754, 0.4574946493990836, 0.4574946493990836, 0.5017898103426928, 0.5762925878546614, 0.9529966155108327, 1.0, 1.0, 0.7559050919202119, 0.759408895802548, 0.759408895802548, 0.8708430492362266, 0.7155359419844377, 0.7155359419844377, 0.8704550650119405, 0.6991177635829727, 0.4955759221581538, 0.5422586091990824, 0.2666516251497215, 0.23927341236428298, 0.23929984011302616, 0.23657554613891854, 0.23474740582151518, 0.11022258507518078, 0.1408063549429172, 0.1976551787300429, 0.11976198637228781, 0.09598250138609082, 0.11856001782557317, 0.22874130789904445, 0.20000330982738382, 0.20378055222160285, 0.04580231720352384, 0.07212477938724726, 0.07133764087728628, 0.11984113713284916, 0.1021382656283932, 0.07481322532357286, 0.03401754966656655, 0.19202654925618792, 0.048518121246698874, 0.08909961665807696, 0.31443463479367495, 0.052276114404611704, 0.30831299759821956, 0.33733944792607834, 0.33733944792607834, 0.33733944792607834], [0.18263466931958228, 0.1573490541545511, 0.1573490541545511, 0.1573490541545511, 0.042907596804799664, 0.02718347321357576, 0.02718347321357576, 0.02718347321357576, 0.16948377585448873, 0.06689035404149052, 0.12943627313211625, 0.20941656713930587, 0.4262898643769414, 0.41366269848365106, 0.41366269848365106, 0.41366269848365106, 0.39014449037092336, 0.4043465323703719, 0.39507460180461756, 0.39507460180461756, 0.5132625031782461, 0.37639045312913233, 0.4153817017574534, 0.22115140713459422, 0.2894021020016203, 0.2592493844104783, 0.2531960368054884, 0.2531960368054884, 0.18703381001096617, 0.2565012227455928, 0.07674988453268378, 0.14683351969394384, 0.14012988164947904, 0.09947168590131894, 0.09947168590131894, 0.07008687042468176, 0.06648817897351754, 0.4574946493990836, 0.4574946493990836, 0.5017898103426928, 0.5762925878546614, 0.9529966155108327, 1.0, 1.0, 0.7559050919202119, 0.759408895802548, 0.759408895802548, 0.8708430492362266, 0.7155359419844377, 0.7155359419844377, 0.8704550650119405, 0.6991177635829727, 0.4955759221581538, 0.5422586091990824, 0.2666516251497215, 0.23927341236428298, 0.23929984011302616, 0.23657554613891854, 0.23474740582151518, 0.11022258507518078, 0.1408063549429172, 0.1976551787300429, 0.11976198637228781, 0.09598250138609082, 0.11856001782557317, 0.22874130789904445, 0.20000330982738382, 0.20378055222160285, 0.04580231720352384, 0.07212477938724726, 0.07133764087728628, 0.11984113713284916, 0.1021382656283932, 0.07481322532357286, 0.03401754966656655, 0.19202654925618792, 0.048518121246698874, 0.08909961665807696, 0.31443463479367495, 0.052276114404611704, 0.30831299759821956, 0.33733944792607834, 0.33733944792607834, 0.33733944792607834], [0.0738265763232332, 0.053906014758734334, 0.053906014758734334, 0.053906014758734334, 0.03101765040189288, 0.0068666268102511255, 0.0068666268102511255, 0.0068666268102511255, 0.11270500753576096, 0.05023242775325164, 0.023623570696024557, 0.314807555459286, 0.5292631373004855, 0.5305164810775265, 0.5305164810775265, 0.5305164810775265, 0.5174258796200045, 0.5030321942585655, 0.46337850291061167, 0.46337850291061167, 0.48403721364704894, 0.40472268745385725, 0.3615155868432161, 0.2527799495977336, 0.24616176712738888, 0.25690393988071347, 0.2169939544121075, 0.2169939544121075, 0.2761371860402861, 0.27822946504797547, 0.08784008228187053, 0.09304161090834545, 0.06906555526527454, 0.016867516378298943, 0.016867516378298943, 0.005798910417488819, 0.059775628028730356, 0.5353515503627531, 0.5353515503627531, 0.5083521892229413, 0.6649506042133736, 0.6214472365327534, 0.7559050919202119, 0.7559050919202119, 1.0, 0.99377061237255, 0.99377061237255, 0.9271110143527715, 0.8331465000406704, 0.8331465000406704, 0.7686454164029227, 0.7133777812970028, 0.7386008123819798, 0.48833249229326403, 0.43378679923551366, 0.19676426391213975, 0.19754943244355108, 0.19248929414420546, 0.18910615012355164, 0.09811544779888365, 0.07582868093535426, 0.12049885135206485, 0.0016783068550586294, 0.19979703176841304, 0.2182827307246872, 0.36357170259767163, 0.30112645839672575, 0.23977697652086283, 0.08427902572089208, 0.08682163696323623, 0.07502840219045082, 0.13133795446000504, 0.2416149060235752, 0.009586784672982178, 0.1513772198806357, 0.1493007546915177, 0.07951210349940149, 0.11119072206874442, 0.17478558723346646, 0.07656063198719738, 0.1563927428488065, 0.24457964904453455, 0.24457964904453455, 0.24457964904453455], [0.030760473318362958, 0.008247605219254417, 0.008247605219254417, 0.008247605219254417, 0.08379073969923054, 0.061424466492146695, 0.061424466492146695, 0.061424466492146695, 0.12493090518951355, 0.05611722457511864, 0.024916734942878726, 0.35567273024785656, 0.5854399278646069, 0.5821709211356351, 0.5821709211356351, 0.5821709211356351, 0.5759785652775978, 0.559693571708316, 0.5183142549855795, 0.5183142549855795, 0.5316267029033299, 0.45228430670266484, 0.4102165391418768, 0.303276519466103, 0.28864286116568166, 0.297221855459598, 0.26218658717231996, 0.26218658717231996, 0.32404382893435657, 0.31863493886110267, 0.12580417558178694, 0.13082872682899227, 0.105577094876817, 0.05209889591278342, 0.05209889591278342, 0.039628892120462056, 0.031019908554216317, 0.5880558930381578, 0.5880558930381578, 0.5316798457465768, 0.6783153867442812, 0.655352700823648, 0.759408895802548, 0.759408895802548, 0.99377061237255, 1.0, 1.0, 0.938510009909378, 0.8822114773246416, 0.8822114773246416, 0.8134500982065702, 0.7526633684009523, 0.7825074257273529, 0.5200795257029629, 0.4558350967036328, 0.20118859678303933, 0.20157248186019475, 0.1975919686503984, 0.19492831706327368, 0.08919099144489152, 0.08164017879540371, 0.1274443334305659, 0.025984412841888852, 0.22158233305526057, 0.2344492795950056, 0.3947637377150274, 0.3269389117358768, 0.2618752337880235, 0.096081203697076, 0.08584335839652991, 0.07314671230683681, 0.1346420969308695, 0.24807636506256467, 0.004328392102641293, 0.14685215546417563, 0.14754582811296274, 0.09102933575958026, 0.11519223818217861, 0.1888282574816113, 0.07679274807530405, 0.16934346495383906, 0.26048004152729864, 0.26048004152729864, 0.26048004152729864], [0.030760473318362958, 0.008247605219254417, 0.008247605219254417, 0.008247605219254417, 0.08379073969923054, 0.061424466492146695, 0.061424466492146695, 0.061424466492146695, 0.12493090518951355, 0.05611722457511864, 0.024916734942878726, 0.35567273024785656, 0.5854399278646069, 0.5821709211356351, 0.5821709211356351, 0.5821709211356351, 0.5759785652775978, 0.559693571708316, 0.5183142549855795, 0.5183142549855795, 0.5316267029033299, 0.45228430670266484, 0.4102165391418768, 0.303276519466103, 0.28864286116568166, 0.297221855459598, 0.26218658717231996, 0.26218658717231996, 0.32404382893435657, 0.31863493886110267, 0.12580417558178694, 0.13082872682899227, 0.105577094876817, 0.05209889591278342, 0.05209889591278342, 0.039628892120462056, 0.031019908554216317, 0.5880558930381578, 0.5880558930381578, 0.5316798457465768, 0.6783153867442812, 0.655352700823648, 0.759408895802548, 0.759408895802548, 0.99377061237255, 1.0, 1.0, 0.938510009909378, 0.8822114773246416, 0.8822114773246416, 0.8134500982065702, 0.7526633684009523, 0.7825074257273529, 0.5200795257029629, 0.4558350967036328, 0.20118859678303933, 0.20157248186019475, 0.1975919686503984, 0.19492831706327368, 0.08919099144489152, 0.08164017879540371, 0.1274443334305659, 0.025984412841888852, 0.22158233305526057, 0.2344492795950056, 0.3947637377150274, 0.3269389117358768, 0.2618752337880235, 0.096081203697076, 0.08584335839652991, 0.07314671230683681, 0.1346420969308695, 0.24807636506256467, 0.004328392102641293, 0.14685215546417563, 0.14754582811296274, 0.09102933575958026, 0.11519223818217861, 0.1888282574816113, 0.07679274807530405, 0.16934346495383906, 0.26048004152729864, 0.26048004152729864, 0.26048004152729864], [0.015948946628449166, 0.031189254764986914, 0.031189254764986914, 0.031189254764986914, 0.09074726536823846, 0.07144309145255129, 0.07144309145255129, 0.07144309145255129, 0.14793507253899577, 0.03352690504998449, 0.0062384242004848165, 0.3697672287742803, 0.5808787947316739, 0.5627233690787579, 0.5627233690787579, 0.5627233690787579, 0.5570809492477716, 0.5353878207602022, 0.5068794793646285, 0.5068794793646285, 0.5261649396936174, 0.43915888682249604, 0.4105603415510597, 0.3022780255223634, 0.2811360723495725, 0.28439778336292904, 0.2643998272925442, 0.2643998272925442, 0.3060136984021262, 0.3316773817786563, 0.11330773184211694, 0.13164841784810902, 0.10842093011845488, 0.06679782526471446, 0.06679782526471446, 0.05764086201638962, 0.06459333325590443, 0.5866773167457446, 0.5866773167457446, 0.5011660674086831, 0.7110444700371746, 0.8050734322584021, 0.8708430492362266, 0.8708430492362266, 0.9271110143527715, 0.938510009909378, 0.938510009909378, 1.0, 0.8999650879435929, 0.8999650879435929, 0.8693730577950078, 0.7185958410769073, 0.6808803142464668, 0.5672610909234441, 0.4190626462343521, 0.22933473288700057, 0.22935439836923113, 0.22637964013159367, 0.22438503841408194, 0.09934063130876046, 0.08171380905046656, 0.1960398026568189, 0.034616569538454496, 0.1927019878034579, 0.219830466413179, 0.3777622858194115, 0.3092112193080418, 0.2728693362659111, 0.09561826851923186, 0.0703430599779173, 0.08519926946185898, 0.1344434327335941, 0.21572286295354356, 0.016128758211553334, 0.09017437425731553, 0.14254333065665603, 0.07807373220631755, 0.1150845690496249, 0.27684041972912604, 0.06825039344762804, 0.09594628534030458, 0.16521529256953368, 0.16521529256953368, 0.16521529256953368], [0.14156290455989917, 0.17026895731801991, 0.17026895731801991, 0.17026895731801991, 0.2741153342721595, 0.25988574465768094, 0.25988574465768094, 0.25988574465768094, 0.20581991645726191, 0.12434345116681118, 0.02860013654253826, 0.41577461939072324, 0.6580095848995158, 0.6409622864876635, 0.6409622864876635, 0.6409622864876635, 0.6597802184657194, 0.6433876034377921, 0.5999220957415762, 0.5999220957415762, 0.5782975654677827, 0.5108769353549817, 0.4924261125462147, 0.396760607653404, 0.3519938791478395, 0.3519667525450961, 0.33871320971616287, 0.33871320971616287, 0.40238224170089926, 0.3606711427889107, 0.18953311594681424, 0.19705662073769786, 0.16345479800250026, 0.12268674271244172, 0.12268674271244172, 0.1000943751452733, 0.016733827900990445, 0.6570873636565862, 0.6570873636565862, 0.547252676326963, 0.6581018053977556, 0.7481598385002878, 0.7155359419844377, 0.7155359419844377, 0.8331465000406704, 0.8822114773246416, 0.8822114773246416, 0.8999650879435929, 1.0, 1.0, 0.9299057522767564, 0.7185920469117119, 0.8254700530283949, 0.5540043915060341, 0.5099672152087976, 0.17772738692412024, 0.17666357802679541, 0.17694248901822543, 0.17711949612564892, 0.03832198392389308, 0.04925731337255632, 0.1507030326200889, 0.08772961310198918, 0.2617261897634809, 0.2753369353599789, 0.42739350654563085, 0.3538898963402822, 0.265828541779915, 0.10927823183275362, 0.051136095125000794, 0.05470190050526453, 0.11639535398833198, 0.260473349111629, 0.036218387731334886, 0.10331272684167475, 0.13464065176300585, 0.1258881942113106, 0.11559698163513167, 0.3572692617303455, 0.07247416828287823, 0.18586131978551437, 0.2774711938731786, 0.2774711938731786, 0.2774711938731786], [0.14156290455989917, 0.17026895731801991, 0.17026895731801991, 0.17026895731801991, 0.2741153342721595, 0.25988574465768094, 0.25988574465768094, 0.25988574465768094, 0.20581991645726191, 0.12434345116681118, 0.02860013654253826, 0.41577461939072324, 0.6580095848995158, 0.6409622864876635, 0.6409622864876635, 0.6409622864876635, 0.6597802184657194, 0.6433876034377921, 0.5999220957415762, 0.5999220957415762, 0.5782975654677827, 0.5108769353549817, 0.4924261125462147, 0.396760607653404, 0.3519938791478395, 0.3519667525450961, 0.33871320971616287, 0.33871320971616287, 0.40238224170089926, 0.3606711427889107, 0.18953311594681424, 0.19705662073769786, 0.16345479800250026, 0.12268674271244172, 0.12268674271244172, 0.1000943751452733, 0.016733827900990445, 0.6570873636565862, 0.6570873636565862, 0.547252676326963, 0.6581018053977556, 0.7481598385002878, 0.7155359419844377, 0.7155359419844377, 0.8331465000406704, 0.8822114773246416, 0.8822114773246416, 0.8999650879435929, 1.0, 1.0, 0.9299057522767564, 0.7185920469117119, 0.8254700530283949, 0.5540043915060341, 0.5099672152087976, 0.17772738692412024, 0.17666357802679541, 0.17694248901822543, 0.17711949612564892, 0.03832198392389308, 0.04925731337255632, 0.1507030326200889, 0.08772961310198918, 0.2617261897634809, 0.2753369353599789, 0.42739350654563085, 0.3538898963402822, 0.265828541779915, 0.10927823183275362, 0.051136095125000794, 0.05470190050526453, 0.11639535398833198, 0.260473349111629, 0.036218387731334886, 0.10331272684167475, 0.13464065176300585, 0.1258881942113106, 0.11559698163513167, 0.3572692617303455, 0.07247416828287823, 0.18586131978551437, 0.2774711938731786, 0.2774711938731786, 0.2774711938731786], [0.27795563904630716, 0.2769680303597591, 0.2769680303597591, 0.2769680303597591, 0.2522578307585999, 0.23916288509178954, 0.23916288509178954, 0.23916288509178954, 0.2510334069482603, 0.06528594413889878, 0.147503768091455, 0.3206007044884499, 0.5739414429007285, 0.5620220724482803, 0.5620220724482803, 0.5620220724482803, 0.5674545675299806, 0.5788824874502317, 0.5518534863805682, 0.5518534863805682, 0.6023966083928373, 0.4847006031001691, 0.5190790252931492, 0.35581734748381993, 0.36551526395725753, 0.3384198355900108, 0.3319757415135821, 0.3319757415135821, 0.3173802719293993, 0.32096926354590577, 0.15828567174827732, 0.20757009655922973, 0.18807655335512646, 0.14491973122263102, 0.14491973122263102, 0.1110883554611743, 0.002267565357773273, 0.5941794013022291, 0.5941794013022291, 0.5728312614680579, 0.5962786893410716, 0.9146555958513828, 0.8704550650119405, 0.8704550650119405, 0.7686454164029227, 0.8134500982065702, 0.8134500982065702, 0.8693730577950078, 0.9299057522767564, 0.9299057522767564, 1.0, 0.7704762219608284, 0.7594615198209025, 0.6059858343066338, 0.43993350379311574, 0.21532488405017278, 0.21421135273461017, 0.21450418735008042, 0.21468858044127986, 0.058300489952893386, 0.08186460017071202, 0.15919836833040438, 0.01079361496588458, 0.19084573382575729, 0.20064856840995585, 0.3343451091806307, 0.2829619367835204, 0.2234799981171855, 0.06976442213022052, 0.045634906161420075, 0.05032289579148544, 0.11584097773813279, 0.1945201871361086, 0.08439334911238036, 0.00507699951797049, 0.18582426864361545, 0.10908932808510233, 0.11177932613817375, 0.39079132757997354, 0.06669519793781711, 0.11736759230120326, 0.0950667648467313, 0.0950667648467313, 0.0950667648467313], [0.21039558997830404, 0.20964802999719725, 0.20964802999719725, 0.20964802999719725, 0.19094390497420607, 0.18103182393582357, 0.18103182393582357, 0.18103182393582357, 0.24375641935172876, 0.026031262177369317, 0.09791915745991167, 0.32075635786241524, 0.5615995589005325, 0.5473804755604211, 0.5473804755604211, 0.5473804755604211, 0.5598550770630601, 0.5597666108244839, 0.5498979889412272, 0.5498979889412272, 0.5982635786290318, 0.45990097336569286, 0.4747465087562953, 0.40012353881255097, 0.3299865241487806, 0.2995975669808757, 0.296625103341575, 0.296625103341575, 0.296625103341575, 0.39674296939102033, 0.1398652627008542, 0.18350231294219357, 0.18953080152841092, 0.15383783912102358, 0.15383783912102358, 0.23973513513317674, 0.02430016136869525, 0.5810954521635914, 0.5810954521635914, 0.5391699178094003, 0.44896440503987617, 0.7047203878869037, 0.6991177635829727, 0.6991177635829727, 0.7133777812970028, 0.7526633684009523, 0.7526633684009523, 0.7185958410769073, 0.7185920469117119, 0.7185920469117119, 0.7704762219608284, 1.0, 0.8581658908183206, 0.7490344282087421, 0.365162336793817, 0.31930187082929323, 0.31805273301384424, 0.3183835846985334, 0.3185880777918938, 0.11368044953716926, 0.08848000241580999, 0.10935241641762013, 0.028384929081535486, 0.10725289446640653, 0.05777363069412425, 0.3097053126532395, 0.2399795166823361, 0.2932892871635723, 0.07090173775025559, 0.03326633632381467, 0.07894092907527107, 0.14446984535729301, 0.12826325208363823, 0.03201017833423229, 0.09484725673215247, 0.13241519406727228, 0.06711226053209517, 0.1419582251837717, 0.24128281161033788, 0.05048422678882589, 0.0888401613698896, 0.07195978518688903, 0.07195978518688903, 0.07195978518688903], [0.14181666335871276, 0.1676359265199184, 0.1676359265199184, 0.1676359265199184, 0.2599561949990696, 0.2464616198692249, 0.2464616198692249, 0.2464616198692249, 0.30699987072418317, 0.2043089913516891, 0.12244472953429412, 0.2795163971840181, 0.5144767801445131, 0.5166125880525327, 0.5166125880525327, 0.5166125880525327, 0.5426756651329214, 0.5423502616246093, 0.5046768191683986, 0.5046768191683986, 0.483818650812909, 0.3916133844960866, 0.392327109743909, 0.3527583574307289, 0.24215719204179612, 0.23148523622164366, 0.21281585591786312, 0.21281585591786312, 0.2826606627090752, 0.2937108406717541, 0.07948989359814941, 0.08978568009564343, 0.07159137756491912, 0.04800031833554973, 0.04800031833554973, 0.1330547632380979, 0.06946068101937179, 0.5351243614717508, 0.5351243614717508, 0.5602357539672718, 0.4376484523929708, 0.5086679720365315, 0.4955759221581538, 0.4955759221581538, 0.7386008123819798, 0.7825074257273529, 0.7825074257273529, 0.6808803142464668, 0.8254700530283949, 0.8254700530283949, 0.7594615198209025, 0.8581658908183206, 1.0, 0.6341210341973098, 0.5082238064918764, 0.2299225754871052, 0.22884374471976118, 0.2289026994056318, 0.22893044558508507, 0.06238937989423701, 0.0171741186145622, 0.040807264918957455, 0.043776219842096356, 0.1657105193207174, 0.1369315221098398, 0.3251234901995269, 0.2534239015357176, 0.22563251273546947, 0.0643922425122985, 0.008164599174921064, 0.056700392392763525, 0.11413440315416337, 0.23642661607463092, 0.02202708159710251, 0.007642647354698277, 0.12092512942602594, 0.10687228304870944, 0.1438257003303109, 0.1261426584450357, 0.06873059134967469, 0.16148497490955277, 0.24518621041336996, 0.24518621041336996, 0.24518621041336996], [0.18529330298222052, 0.1846349343439288, 0.1846349343439288, 0.1846349343439288, 0.16816239751338102, 0.1594329263527986, 0.1594329263527986, 0.1594329263527986, 0.24069787893911776, 0.06479877895778484, 0.12336875478009551, 0.45221456662459697, 0.3660024338876923, 0.3660024338876923, 0.3660024338876923, 0.3660024338876923, 0.3660024338876923, 0.3660773395932965, 0.4618049086060528, 0.4618049086060528, 0.4037202419600881, 0.2241943033512761, 0.24234357885942195, 0.2885410879978933, 0.07065149801168676, 0.032329549776339235, 0.010776516592113079, 0.010776516592113079, 0.010776516592113079, 0.2743380754104577, 0.032329549776339235, 0.07069601572820254, 0.14731985794698393, 0.08813242744870742, 0.08813242744870742, 0.11375338848319172, 0.12414449083738327, 0.3564407035114978, 0.3564407035114978, 0.09108190948327063, 0.3085276787297559, 0.5542683343552314, 0.5422586091990824, 0.5422586091990824, 0.48833249229326403, 0.5200795257029629, 0.5200795257029629, 0.5672610909234441, 0.5540043915060341, 0.5540043915060341, 0.6059858343066338, 0.7490344282087421, 0.6341210341973098, 1.0, 0.3981764646218577, 0.4644353163011585, 0.46285899764515154, 0.4632783708546307, 0.4635345627834402, 0.18164350116482716, 0.1834261384141589, 0.09274085875727862, 0.19998109485581128, 0.0990157223589123, 0.14614518769057142, 0.17536460334540413, 0.04963986531229481, 0.0904167998743618, 0.06239127696749893, 0.1559608777689105, 0.06855886778748356, 0.1308102343575843, 0.12635276604603807, 0.07302405020786515, 0.13010802814877992, 0.11661674408806155, 0.012814325757158757, 0.20365771376357802, 0.0816001014051797, 0.04446095629271351, 0.07824064629585546, 0.06337426692519885, 0.06337426692519885, 0.06337426692519885], [0.014834444212974978, 0.036461827729976595, 0.036461827729976595, 0.036461827729976595, 0.1215629000775652, 0.17591999396901167, 0.17591999396901167, 0.17591999396901167, 0.17133921508805422, 0.20577020247985886, 0.03157010844545902, 0.2794831922457924, 0.22930817858434488, 0.2625558969195209, 0.2625558969195209, 0.2625558969195209, 0.27364905829453484, 0.2767645589826101, 0.2760513393586654, 0.2760513393586654, 0.22589015260332587, 0.1394207067777775, 0.14052775569958445, 0.09548890183090646, 0.023394861512755896, 0.03513914258500558, 0.04437272529178207, 0.04437272529178207, 0.02560640916899373, 0.036102170112316444, 0.02560574718210079, 0.03439189623640125, 0.015102814939543201, 0.05901148083812581, 0.05736108797453713, 0.07202781473176771, 0.06091807790812948, 0.23252899229542434, 0.23252899229542434, 0.1353867145688953, 0.22877539979618833, 0.2662441382723149, 0.2666516251497215, 0.2666516251497215, 0.43378679923551366, 0.4558350967036328, 0.4558350967036328, 0.4190626462343521, 0.5099672152087976, 0.5099672152087976, 0.43993350379311574, 0.365162336793817, 0.5082238064918764, 0.3981764646218577, 1.0, 0.4787352738671349, 0.4704958011213219, 0.46518515648409847, 0.4510217860664643, 0.2865363403408448, 0.6418241407504329, 0.30882242644007174, 0.13494472177333428, 0.10360835779682577, 0.08585209855412629, 0.12059718176202182, 0.03439227221204969, 0.35728724034215936, 0.18153370050448672, 0.11942532374802503, 0.07781751712966063, 0.12370346463330126, 0.28404361233554576, 0.23800257989342763, 0.2759829998234739, 0.010614953641537802, 0.06062717945460248, 0.29512062141400003, 0.14053103571211303, 0.15184632609627186, 0.2839814405281245, 0.23681364818897957, 0.23681364818897957, 0.23681364818897957], [0.04058341719993432, 0.03530567608049898, 0.03530567608049898, 0.03530567608049898, 0.011234802642011528, 0.004829600666675655, 0.004829600666675655, 0.004829600666675655, 0.2286119329644338, 0.11059900835090732, 0.16605693040611297, 0.13181048747925947, 0.008412799551026438, 0.024594226962894684, 0.024594226962894684, 0.024594226962894684, 0.016719860233191275, 0.011563588048063603, 0.06343651329787664, 0.06343651329787664, 0.04746581035676016, 0.05653106247140928, 0.04776423818148691, 0.04116031248181486, 0.13223363473638078, 0.14578605273504824, 0.184052015989688, 0.184052015989688, 0.18500727865659425, 0.060222033737209045, 0.15499751141147977, 0.13204544262654, 0.0845397822937381, 0.1225554009513262, 0.1236491163605656, 0.1011337181400825, 0.1837313099942465, 0.05835084523636325, 0.05835084523636325, 0.10226578973315269, 0.05505174956479159, 0.22256359234620518, 0.23927341236428298, 0.23927341236428298, 0.19676426391213975, 0.20118859678303933, 0.20118859678303933, 0.22933473288700057, 0.17772738692412024, 0.17772738692412024, 0.21532488405017278, 0.31930187082929323, 0.2299225754871052, 0.4644353163011585, 0.4787352738671349, 1.0, 0.9978189316249797, 0.9962133087083455, 0.9910333855693608, 0.6190277950531026, 0.48595269901836563, 0.1648175908334891, 0.2872168426738292, 0.3334891682258429, 0.4019900164124165, 0.2281550060792135, 0.008487487432241394, 0.2991597793460278, 0.35527154860492666, 0.1794247907757986, 0.11957352899559869, 0.2289308518447113, 0.041494846689544465, 0.019873736804963467, 0.0952516640166716, 0.04795080962622754, 0.10729574280327184, 0.31297995047756444, 0.09161971745924787, 0.04992028420748762, 0.08784775734359812, 0.07115594625358038, 0.07115594625358038, 0.07115594625358038], [0.03391930250898937, 0.02846095138455833, 0.02846095138455833, 0.02846095138455833, 0.004168194591999363, 0.01214544546353345, 0.01214544546353345, 0.01214544546353345, 0.22874586842394745, 0.10581310446873125, 0.16133176701136323, 0.13079150925282465, 0.006522307997576611, 0.022646482359710708, 0.022646482359710708, 0.022646482359710708, 0.015177099577123428, 0.009622399426210963, 0.061553180504498206, 0.061553180504498206, 0.04440963362613536, 0.058613375451873055, 0.05068939498272634, 0.04452440293712155, 0.1344639988046515, 0.14826318858809423, 0.18560116734988588, 0.18560116734988588, 0.1864629869122093, 0.06075159368745447, 0.15727295313168307, 0.1349345867671118, 0.08729355014245352, 0.1252359247867397, 0.12644084585806592, 0.1039958919357958, 0.18876661183238996, 0.060059360898181945, 0.060059360898181945, 0.10226578973315269, 0.05388681435788906, 0.22154019088410637, 0.23929984011302616, 0.23929984011302616, 0.19754943244355108, 0.20157248186019475, 0.20157248186019475, 0.22935439836923113, 0.17666357802679541, 0.17666357802679541, 0.21421135273461017, 0.31805273301384424, 0.22884374471976118, 0.46285899764515154, 0.4704958011213219, 0.9978189316249797, 1.0, 0.9982126819526114, 0.9952743518541226, 0.6240422334174163, 0.48184281484796976, 0.1738793751329419, 0.27746529911718576, 0.3318615468261861, 0.4001618374068543, 0.23524006377657167, 0.01215939588076484, 0.30093950465499475, 0.35655745560626395, 0.1771053105057889, 0.12403839836976947, 0.2313032148610553, 0.039804289861282906, 0.03176563956233471, 0.08936534391180766, 0.05321884132910426, 0.1019832585014678, 0.3190316607403423, 0.09161971745924787, 0.04992028420748762, 0.08784775734359812, 0.07115594625358038, 0.07115594625358038, 0.07115594625358038], [0.04225072577708188, 0.037017978642893246, 0.037017978642893246, 0.037017978642893246, 0.013001848520488952, 0.0030007303688117876, 0.0030007303688117876, 0.0030007303688117876, 0.2319154369984731, 0.11183700701013768, 0.1673142047080371, 0.13620454058813403, 0.009244286002952181, 0.024936378404581815, 0.024936378404581815, 0.024936378404581815, 0.01845503670589537, 0.012888976357467464, 0.06480447673354846, 0.06480447673354846, 0.046368556424247066, 0.05637585943306781, 0.04730960480356525, 0.040952327676775827, 0.131664466166218, 0.1455564075339833, 0.18276511437540946, 0.18276511437540946, 0.18361317294047333, 0.0603637870128444, 0.1541616402911903, 0.13185295737984246, 0.08413383509143055, 0.1219607778440709, 0.12309159606330054, 0.10035441876531638, 0.18318021821379005, 0.059263882917457676, 0.059263882917457676, 0.10226888777225597, 0.0509503333010776, 0.22200811311326754, 0.23657554613891854, 0.23657554613891854, 0.19248929414420546, 0.1975919686503984, 0.1975919686503984, 0.22637964013159367, 0.17694248901822543, 0.17694248901822543, 0.21450418735008042, 0.3183835846985334, 0.2289026994056318, 0.4632783708546307, 0.46518515648409847, 0.9962133087083455, 0.9982126819526114, 1.0, 0.9970009405924503, 0.6228380879053793, 0.4779622634252459, 0.17333594403493244, 0.2836144793301224, 0.33263062984846786, 0.4040919960072519, 0.2427902188279589, 0.013903071768501803, 0.29850180388024594, 0.35584008727671596, 0.18004636625424705, 0.12372444458587013, 0.22873700538170733, 0.03599279741216984, 0.044778533868657315, 0.09944717339983712, 0.053220453540303136, 0.10127599765086154, 0.3165003162364458, 0.09162249298631378, 0.04992179649222063, 0.08785041860293125, 0.07115810185130764, 0.07115810185130764, 0.07115810185130764], [0.04058341719993432, 0.03530567608049898, 0.03530567608049898, 0.03530567608049898, 0.011234802642011528, 0.004829600666675655, 0.004829600666675655, 0.004829600666675655, 0.23592724775497442, 0.10971688864431366, 0.16504437359240773, 0.14115917010466186, 0.009857178468483392, 0.025075069605227124, 0.025075069605227124, 0.025075069605227124, 0.020152968831380184, 0.013976353144092865, 0.06577354125479244, 0.06577354125479244, 0.04477115121107874, 0.05654954570277506, 0.04760908958428022, 0.04055630629251555, 0.13120579307248426, 0.145677418743245, 0.18149867039151094, 0.18149867039151094, 0.18233751214123203, 0.05876026903218466, 0.15338510723936827, 0.13194795738011109, 0.08437132742468549, 0.12170370909167767, 0.12298276727106179, 0.10040824944194063, 0.18611809924029346, 0.0619303248576611, 0.0619303248576611, 0.10226578973315269, 0.045834934052823684, 0.22230885241861573, 0.23474740582151518, 0.23474740582151518, 0.18910615012355164, 0.19492831706327368, 0.19492831706327368, 0.22438503841408194, 0.17711949612564892, 0.17711949612564892, 0.21468858044127986, 0.3185880777918938, 0.22893044558508507, 0.4635345627834402, 0.4510217860664643, 0.9910333855693608, 0.9952743518541226, 0.9970009405924503, 1.0, 0.6222104731979019, 0.46728580670764813, 0.1873230315289918, 0.27700062485424, 0.3232626027567537, 0.4004621029064847, 0.24853449788285048, 0.015309099752541471, 0.2939759882949097, 0.352982345799223, 0.1789173482249971, 0.12122597148330308, 0.22591097648042469, 0.0328769177228415, 0.04317812676810864, 0.08895837160637288, 0.05321884132910426, 0.08827433698431633, 0.3112243232106447, 0.09161971745924787, 0.04992028420748762, 0.08784775734359812, 0.07115594625358038, 0.07115594625358038, 0.07115594625358038], [0.023833982474802916, 0.0284399828484746, 0.0284399828484746, 0.0284399828484746, 0.04501886828359874, 0.056827564919840416, 0.056827564919840416, 0.056827564919840416, 0.08013927802136898, 0.07492686315725143, 0.10858465688082482, 0.0689304911894269, 0.07910133546592235, 0.06040722624301712, 0.06040722624301712, 0.06040722624301712, 0.0874763415387523, 0.08948764144653257, 0.06765389653651244, 0.06765389653651244, 0.02885350900317568, 0.09542491673959767, 0.09759974352134364, 0.10339600717921171, 0.13611035210141986, 0.13138327404122, 0.16662414096468978, 0.16662414096468978, 0.16783354409838888, 0.12346430463534976, 0.15164223900819457, 0.13059810271424271, 0.10871832948758774, 0.13243926376872542, 0.13243926376872542, 0.11880224010389288, 0.1120859877282371, 0.02774213035366561, 0.02774213035366561, 0.06349980551147325, 0.056004649962673826, 0.07533410112635511, 0.11022258507518078, 0.11022258507518078, 0.09811544779888365, 0.08919099144489152, 0.08919099144489152, 0.09934063130876046, 0.03832198392389308, 0.03832198392389308, 0.058300489952893386, 0.11368044953716926, 0.06238937989423701, 0.18164350116482716, 0.2865363403408448, 0.6190277950531026, 0.6240422334174163, 0.6228380879053793, 0.6222104731979019, 1.0, 0.2981512017275089, 0.1291587756182769, 0.16978116988466913, 0.1851817622360822, 0.22845377556667762, 0.14953185645386094, 0.2093819796358763, 0.1989231851341709, 0.39618969753991556, 0.024371601110023164, 0.10360194695748634, 0.39510218025381894, 0.0922082648536333, 0.020268148494039358, 0.04152817387230886, 0.02176824232272005, 0.06769565041525054, 0.15557549422722433, 0.05688934935973348, 0.030996957501862432, 0.05454722953290008, 0.044182798175981024, 0.044182798175981024, 0.044182798175981024], [0.045844932212141566, 0.05540204146293957, 0.05540204146293957, 0.05540204146293957, 0.09007170989238249, 0.14771079417855038, 0.14771079417855038, 0.14771079417855038, 0.09370309578169334, 0.060250321538148764, 0.051820811241029635, 0.10485297846298655, 0.050903775675279504, 0.029981733517633974, 0.029981733517633974, 0.029981733517633974, 0.01700496403880296, 0.016497325876416086, 0.021392090619338087, 0.021392090619338087, 0.029457562380472754, 0.05485562005843567, 0.030227813376469105, 0.06477427181242, 0.06245152862517976, 0.06155393091547679, 0.11040656797290074, 0.11040656797290074, 0.09148509391900793, 0.02542643795646158, 0.04419352525023962, 0.0331407805589712, 0.07671883001284704, 0.06955662447103636, 0.07190626364727284, 0.07072110739142086, 0.04990420927916956, 0.11177853604053446, 0.11177853604053446, 0.31391239803192156, 0.08730032084577652, 0.15020848280770646, 0.1408063549429172, 0.1408063549429172, 0.07582868093535426, 0.08164017879540371, 0.08164017879540371, 0.08171380905046656, 0.04925731337255632, 0.04925731337255632, 0.08186460017071202, 0.08848000241580999, 0.0171741186145622, 0.1834261384141589, 0.6418241407504329, 0.48595269901836563, 0.48184281484796976, 0.4779622634252459, 0.46728580670764813, 0.2981512017275089, 1.0, 0.3201823590886682, 0.23800836838019945, 0.3473555072326199, 0.29598672219120226, 0.11174595820818956, 0.2068917713138807, 0.7999752543579974, 0.38327704026968834, 0.34449904105114154, 0.00446259314440087, 0.03737703166569352, 0.03475583651732602, 0.11038749021367066, 0.07978156672395981, 0.26913258661193984, 0.0443570372728198, 0.3430283196133676, 0.004990803519696204, 0.16516800515063979, 0.17323783613156032, 0.09276725913604629, 0.09276725913604629, 0.09276725913604629], [0.23645378665812458, 0.24218799461298762, 0.24218799461298762, 0.24218799461298762, 0.24737359432048567, 0.2902675256394624, 0.2902675256394624, 0.2902675256394624, 0.28441303458401795, 0.18799623310308533, 0.2118089963676178, 0.2177734853294586, 0.2688277780468033, 0.33368282670314314, 0.33368282670314314, 0.33368282670314314, 0.328612893217421, 0.32168016107227143, 0.2782706780858145, 0.2782706780858145, 0.3730072723779648, 0.35135802520513837, 0.3954440452561007, 0.3665927075866671, 0.38112406671884036, 0.39504748541361057, 0.3246978570326032, 0.3246978570326032, 0.31616933247887774, 0.2482531991168001, 0.37741561954620895, 0.39117185256926035, 0.40113950554266475, 0.3883064592970376, 0.3932978582838, 0.389811440460348, 0.3984455388715556, 0.12901597201358364, 0.12901597201358364, 0.08251346555115766, 0.07417936553234611, 0.20848830198722043, 0.1976551787300429, 0.1976551787300429, 0.12049885135206485, 0.1274443334305659, 0.1274443334305659, 0.1960398026568189, 0.1507030326200889, 0.1507030326200889, 0.15919836833040438, 0.10935241641762013, 0.040807264918957455, 0.09274085875727862, 0.30882242644007174, 0.1648175908334891, 0.1738793751329419, 0.17333594403493244, 0.1873230315289918, 0.1291587756182769, 0.3201823590886682, 1.0, 0.15882445565549333, 0.3101670503515771, 0.3194083269018267, 0.443922905435805, 0.41108734565641514, 0.16671383799489267, 0.07449605341458065, 0.06445907284116419, 0.0031111709494897975, 0.18515365773987513, 0.07924096829615332, 0.15933782602293547, 0.45276157905571746, 0.11766049989466328, 0.12593027307484161, 0.05040748491764506, 0.07947367177221773, 0.10362493207991168, 0.054594527594055565, 0.007521382245103914, 0.007521382245103914, 0.007521382245103914], [0.08839617205482533, 0.10893125665573027, 0.10893125665573027, 0.10893125665573027, 0.18418052201338167, 0.19598682027036202, 0.19598682027036202, 0.19598682027036202, 0.31481238984035365, 0.237831251947612, 0.33047051852793674, 0.11929315320787183, 0.23585628520229326, 0.2945527845488996, 0.2945527845488996, 0.2945527845488996, 0.29385885201808637, 0.2695417715170982, 0.17380616248335615, 0.17380616248335615, 0.25524709360786835, 0.32373629504916734, 0.29727334041217174, 0.31411890005730103, 0.34951613984649466, 0.3738953146222501, 0.3809556542551831, 0.3809556542551831, 0.4002178160606832, 0.23618202941693098, 0.3620858561531334, 0.3324413442921968, 0.31229743257867737, 0.31873037927391623, 0.31814471051789767, 0.28437877975035114, 0.36273324915670785, 0.16371470656443196, 0.16371470656443196, 0.16192906648014363, 0.016313188681329225, 0.06379955812736159, 0.11976198637228781, 0.11976198637228781, 0.0016783068550586294, 0.025984412841888852, 0.025984412841888852, 0.034616569538454496, 0.08772961310198918, 0.08772961310198918, 0.01079361496588458, 0.028384929081535486, 0.043776219842096356, 0.19998109485581128, 0.13494472177333428, 0.2872168426738292, 0.27746529911718576, 0.2836144793301224, 0.27700062485424, 0.16978116988466913, 0.23800836838019945, 0.15882445565549333, 1.0, 0.4714086647930607, 0.2883899100438163, 0.44134634067935563, 0.449828384369761, 0.2859877515113984, 0.23717581143782596, 0.16889157704001978, 0.05119820890808344, 0.043404705478058754, 0.03565392545518453, 0.35159012094600034, 0.19570387233443898, 0.11832187577687707, 0.11652648249901959, 0.08172131094074961, 0.09075892591872765, 0.016104620181331866, 0.17601904643903765, 0.20238323181678095, 0.20238323181678095, 0.20238323181678095], [0.07154099907501957, 0.09157677978599575, 0.09157677978599575, 0.09157677978599575, 0.16609544866383666, 0.16063091343588148, 0.16063091343588148, 0.16063091343588148, 0.2598781003932539, 0.1946937238446223, 0.26946500667698126, 0.12790728919962957, 0.3704823956471613, 0.38919500791738826, 0.38919500791738826, 0.38919500791738826, 0.3898176873609283, 0.3793145538699046, 0.2848563042672077, 0.2848563042672077, 0.35105842805969995, 0.4037323549050422, 0.37122684355346713, 0.3094751792467004, 0.39481079290592397, 0.41728988339938283, 0.39952909409389087, 0.39952909409389087, 0.43216307943219917, 0.28031080480178383, 0.35581790775712496, 0.3401094830112245, 0.29859215107483, 0.293886003007998, 0.2923699110264154, 0.2747821649386332, 0.3220198908082466, 0.33512708689475185, 0.33512708689475185, 0.2901850554269649, 0.23825626208958017, 0.12334035245072136, 0.09598250138609082, 0.09598250138609082, 0.19979703176841304, 0.22158233305526057, 0.22158233305526057, 0.1927019878034579, 0.2617261897634809, 0.2617261897634809, 0.19084573382575729, 0.10725289446640653, 0.1657105193207174, 0.0990157223589123, 0.10360835779682577, 0.3334891682258429, 0.3318615468261861, 0.33263062984846786, 0.3232626027567537, 0.1851817622360822, 0.3473555072326199, 0.3101670503515771, 0.4714086647930607, 1.0, 0.7119288697321544, 0.6119600625313032, 0.6651450548340158, 0.4482949637880447, 0.33574686286794475, 0.2643108757787223, 0.10682030060193948, 0.06823094228165306, 0.01835994815307409, 0.09580761040106962, 0.3073783737474348, 0.11418713341974016, 0.46284966004110945, 0.20527011813860624, 0.13862107672256202, 0.03433828569467305, 0.14603965070036828, 0.20190908671836644, 0.20190908671836644, 0.20190908671836644], [0.08175268302082316, 0.10303285919573575, 0.10303285919573575, 0.10303285919573575, 0.1817486744938623, 0.14472489357916068, 0.14472489357916068, 0.14472489357916068, 0.3416599471237916, 0.2717337100475154, 0.3134826315037424, 0.1129745213485463, 0.4200700894537551, 0.4404161130934742, 0.4404161130934742, 0.4404161130934742, 0.43456586952551307, 0.4360475145493399, 0.3391377140250057, 0.3391377140250057, 0.397231614155706, 0.4726946747129685, 0.4298151445024708, 0.35686526003353236, 0.467914619061663, 0.4921359580399062, 0.4589684567708048, 0.4589684567708048, 0.4922812983381806, 0.3601992581883484, 0.4299501738820884, 0.41352625227639583, 0.3607445053542887, 0.36033554955764885, 0.3575927440191297, 0.332615649004837, 0.3871989858131572, 0.39965513979380174, 0.39965513979380174, 0.3057012377210951, 0.3369652961889903, 0.13559039702949952, 0.11856001782557317, 0.11856001782557317, 0.2182827307246872, 0.2344492795950056, 0.2344492795950056, 0.219830466413179, 0.2753369353599789, 0.2753369353599789, 0.20064856840995585, 0.05777363069412425, 0.1369315221098398, 0.14614518769057142, 0.08585209855412629, 0.4019900164124165, 0.4001618374068543, 0.4040919960072519, 0.4004621029064847, 0.22845377556667762, 0.29598672219120226, 0.3194083269018267, 0.2883899100438163, 0.7119288697321544, 1.0, 0.6103090160246292, 0.6752950072991162, 0.41283977001742267, 0.3619957279617114, 0.24580420801065436, 0.06532371737178827, 0.10025562688872137, 0.07090248882854241, 0.29251784313474544, 0.31895149957514973, 0.03756566962930565, 0.20917999887432653, 0.14728086160554993, 0.20582517136136294, 0.13172244803329586, 0.09780112126338901, 0.2127051568045877, 0.2127051568045877, 0.2127051568045877], [0.11949503198338875, 0.14799491213087548, 0.14799491213087548, 0.14799491213087548, 0.2526687338617836, 0.22483123671544925, 0.22483123671544925, 0.22483123671544925, 0.2393697947243005, 0.20828564565379787, 0.28458497520037235, 0.31680664808596487, 0.5111034680182526, 0.5428954510210618, 0.5428954510210618, 0.5428954510210618, 0.5424521453806933, 0.5140804149675434, 0.4255974881446961, 0.4255974881446961, 0.4882280909480069, 0.5054203110083296, 0.4611190179468803, 0.4271753718404436, 0.44610925550167163, 0.4703466326027752, 0.42771819522413107, 0.42771819522413107, 0.47577515221149563, 0.3778093639534336, 0.4148501866165535, 0.40107847819717524, 0.38100980908437826, 0.35303373257423903, 0.3505523342721235, 0.33895177405837934, 0.34903990952486424, 0.4746679822823164, 0.4746679822823164, 0.23523320300765432, 0.34683382130445933, 0.2512261005128713, 0.22874130789904445, 0.22874130789904445, 0.36357170259767163, 0.3947637377150274, 0.3947637377150274, 0.3777622858194115, 0.42739350654563085, 0.42739350654563085, 0.3343451091806307, 0.3097053126532395, 0.3251234901995269, 0.17536460334540413, 0.12059718176202182, 0.2281550060792135, 0.23524006377657167, 0.2427902188279589, 0.24853449788285048, 0.14953185645386094, 0.11174595820818956, 0.443922905435805, 0.44134634067935563, 0.6119600625313032, 0.6103090160246292, 1.0, 0.849069331905105, 0.37255058067300967, 0.18267995400487308, 0.14549117001735823, 0.021211264692578596, 0.2624375981182722, 0.0633894558811963, 0.11130357961309263, 0.21901761789064847, 0.13174078461010433, 0.09353178191629426, 0.0017595936295958727, 0.11044125491988856, 0.11144894638272916, 0.1665980810449228, 0.28184375900124153, 0.28184375900124153, 0.28184375900124153], [0.1233106359851409, 0.14575368894226715, 0.14575368894226715, 0.14575368894226715, 0.2259989928821278, 0.20251059030798813, 0.20251059030798813, 0.20251059030798813, 0.31517173849855645, 0.2464145477488178, 0.2955975637162684, 0.19579229145288124, 0.47657181153929956, 0.5074884500563214, 0.5074884500563214, 0.5074884500563214, 0.49556209895874176, 0.47938076684816805, 0.37798635900495564, 0.37798635900495564, 0.4819428286908102, 0.5076465926444446, 0.4705046238762208, 0.41016555833645957, 0.4730353475968715, 0.49894712467894026, 0.46439881533949584, 0.46439881533949584, 0.49707355844823586, 0.3622261445530549, 0.42839751601389586, 0.42384355496750853, 0.3919254951265797, 0.37433549376972064, 0.37274114226743615, 0.3644691399246099, 0.3953444426126234, 0.4413262124927265, 0.4413262124927265, 0.29171366538194193, 0.3546982658560903, 0.22205617195205787, 0.20000330982738382, 0.20000330982738382, 0.30112645839672575, 0.3269389117358768, 0.3269389117358768, 0.3092112193080418, 0.3538898963402822, 0.3538898963402822, 0.2829619367835204, 0.2399795166823361, 0.2534239015357176, 0.04963986531229481, 0.03439227221204969, 0.008487487432241394, 0.01215939588076484, 0.013903071768501803, 0.015309099752541471, 0.2093819796358763, 0.2068917713138807, 0.41108734565641514, 0.449828384369761, 0.6651450548340158, 0.6752950072991162, 0.849069331905105, 1.0, 0.42876646299407084, 0.18551036664517423, 0.17645560953818412, 0.017627721115925806, 0.32529214048500715, 0.048159887917626897, 0.01856093419125685, 0.2652780778243355, 0.10573356089800888, 0.06446336823121922, 0.06332852808246106, 0.11008257185121724, 0.09540676979892938, 0.11943931853091933, 0.2131132654972205, 0.2131132654972205, 0.2131132654972205], [0.013325507910053689, 0.002192492851839895, 0.002192492851839895, 0.002192492851839895, 0.0431811509990948, 0.00043046625213009204, 0.00043046625213009204, 0.00043046625213009204, 0.08336116242789766, 0.19760766915985598, 0.19341324549760275, 0.17550844961462067, 0.32058140676101404, 0.3332066883179206, 0.3332066883179206, 0.3332066883179206, 0.32200283527764895, 0.3042885774353241, 0.2217005890869237, 0.2217005890869237, 0.2909464257267634, 0.3067043427942168, 0.25089515206540686, 0.18541142829862434, 0.25536299056820233, 0.26673016905250196, 0.2555667410788164, 0.2555667410788164, 0.28495220780929026, 0.2232367650358697, 0.17664752050712504, 0.17221966101694736, 0.14199169415533505, 0.1397717194796865, 0.13441830022411866, 0.17625929080938163, 0.10938307978166051, 0.3567132496000888, 0.3567132496000888, 0.2969001730076262, 0.2645439169807572, 0.22509022858799882, 0.20378055222160285, 0.20378055222160285, 0.23977697652086283, 0.2618752337880235, 0.2618752337880235, 0.2728693362659111, 0.265828541779915, 0.265828541779915, 0.2234799981171855, 0.2932892871635723, 0.22563251273546947, 0.0904167998743618, 0.35728724034215936, 0.2991597793460278, 0.30093950465499475, 0.29850180388024594, 0.2939759882949097, 0.1989231851341709, 0.7999752543579974, 0.16671383799489267, 0.2859877515113984, 0.4482949637880447, 0.41283977001742267, 0.37255058067300967, 0.42876646299407084, 1.0, 0.4386896474643322, 0.30790828522314584, 0.05560549802583023, 0.0805816064543728, 0.11056701009442149, 0.21564811591192323, 0.06631707786086864, 0.1795802008505121, 0.05172343046472043, 0.2310574187332417, 0.07808664370812844, 0.136879892572066, 0.025257874709028582, 0.1282417140589154, 0.1282417140589154, 0.1282417140589154], [0.06975312092401581, 0.08129744721385808, 0.08129744721385808, 0.08129744721385808, 0.12210162185236162, 0.10807963139319794, 0.10807963139319794, 0.10807963139319794, 0.13798957833759207, 0.1332113043903333, 0.156249218530254, 0.1271804548665937, 0.21759979979699093, 0.23531988706153337, 0.23531988706153337, 0.23531988706153337, 0.23999068944338844, 0.23803317410084981, 0.18624758731251667, 0.18624758731251667, 0.19800343315722452, 0.2425649856571141, 0.22837575651176664, 0.20696464597855016, 0.24848201780866722, 0.2590869405087076, 0.2595572592866359, 0.2595572592866359, 0.2777508199610983, 0.18252145072157439, 0.22772616404855087, 0.2131085306719317, 0.1930358136793713, 0.20290999702952253, 0.20161551819233134, 0.20843427837430234, 0.1889884400468443, 0.1491604238104048, 0.1491604238104048, 0.17092135950429602, 0.08694582842436877, 0.06276755765144842, 0.04580231720352384, 0.04580231720352384, 0.08427902572089208, 0.096081203697076, 0.096081203697076, 0.09561826851923186, 0.10927823183275362, 0.10927823183275362, 0.06976442213022052, 0.07090173775025559, 0.0643922425122985, 0.06239127696749893, 0.18153370050448672, 0.35527154860492666, 0.35655745560626395, 0.35584008727671596, 0.352982345799223, 0.39618969753991556, 0.38327704026968834, 0.07449605341458065, 0.23717581143782596, 0.33574686286794475, 0.3619957279617114, 0.18267995400487308, 0.18551036664517423, 0.4386896474643322, 1.0, 0.8441272487696172, 0.43536958979374935, 0.20655696559290546, 0.13175566169174124, 0.0353542090341672, 0.12501559846460658, 0.048600913217503115, 0.10889253200512924, 0.13375618489979757, 7.653792793220173e-05, 0.05558483073882899, 0.05604541439709775, 0.10770954423704762, 0.10770954423704762, 0.10770954423704762], [0.004221586167809012, 0.0034180022477050694, 0.0034180022477050694, 0.0034180022477050694, 0.00010070154770086721, 0.021746514195005614, 0.021746514195005614, 0.021746514195005614, 0.0269494492362438, 0.04662239220846611, 0.02216690587205233, 0.06412507051719853, 0.059943587277939914, 0.0728611526698382, 0.0728611526698382, 0.0728611526698382, 0.06427006873320111, 0.06830203098341893, 0.03632604003769758, 0.03632604003769758, 0.06505274144760459, 0.09030264928171385, 0.08253105976715651, 0.03085449717367306, 0.10292130608633997, 0.11286146774439446, 0.12757109347555629, 0.12757109347555629, 0.12961378565689247, 0.012060523922156417, 0.04506659386934669, 0.043883847958611666, 0.018101682945252957, 0.023512877829831382, 0.024037165390553953, 0.021608405724993715, 0.05636697724563618, 0.0489321576172116, 0.0489321576172116, 0.22326913107308544, 0.05867425340163909, 0.06167195616038164, 0.07212477938724726, 0.07212477938724726, 0.08682163696323623, 0.08584335839652991, 0.08584335839652991, 0.0703430599779173, 0.051136095125000794, 0.051136095125000794, 0.045634906161420075, 0.03326633632381467, 0.008164599174921064, 0.1559608777689105, 0.11942532374802503, 0.1794247907757986, 0.1771053105057889, 0.18004636625424705, 0.1789173482249971, 0.024371601110023164, 0.34449904105114154, 0.06445907284116419, 0.16889157704001978, 0.2643108757787223, 0.24580420801065436, 0.14549117001735823, 0.17645560953818412, 0.30790828522314584, 0.8441272487696172, 1.0, 0.4920520620676346, 0.3237254472804979, 0.1391381849332868, 0.04804666955600816, 0.14514045746615256, 0.11893632634140695, 0.16937981789003254, 0.039996431268389664, 0.014671315211850318, 0.06626691344087082, 0.030441424044251687, 0.010242198864057856, 0.010242198864057856, 0.010242198864057856], [0.04426173263871806, 0.04399812583342385, 0.04399812583342385, 0.04399812583342385, 0.03963938194862043, 0.052747739781368035, 0.052747739781368035, 0.052747739781368035, 0.0683492501431025, 0.02944811265293167, 0.03534271925344433, 0.0009825177545249042, 0.009482177061420433, 0.002424625193222481, 0.002424625193222481, 0.002424625193222481, 0.0006697849032716898, 0.0011253839317542705, 0.004506422843327419, 0.004506422843327419, 0.009549029793393074, 0.02045027546330878, 0.03156013589044555, 0.04417533585263483, 0.04552712008464619, 0.04560296163954185, 0.04195867197736944, 0.04195867197736944, 0.031119997695470757, 0.0337271952984972, 0.067136856682492, 0.0659178333736993, 0.0656719054759359, 0.06837699174924161, 0.06919326876446268, 0.05110467811068352, 0.08649725273271595, 0.0252419714077419, 0.0252419714077419, 0.035708585234968754, 0.05550614947050784, 0.05845324661538626, 0.07133764087728628, 0.07133764087728628, 0.07502840219045082, 0.07314671230683681, 0.07314671230683681, 0.08519926946185898, 0.05470190050526453, 0.05470190050526453, 0.05032289579148544, 0.07894092907527107, 0.056700392392763525, 0.06855886778748356, 0.07781751712966063, 0.11957352899559869, 0.12403839836976947, 0.12372444458587013, 0.12122597148330308, 0.10360194695748634, 0.00446259314440087, 0.0031111709494897975, 0.05119820890808344, 0.10682030060193948, 0.06532371737178827, 0.021211264692578596, 0.017627721115925806, 0.05560549802583023, 0.43536958979374935, 0.4920520620676346, 1.0, 0.15690607112789212, 0.45562734927200604, 0.02615955446172247, 0.014304449627896799, 0.030028899539063018, 0.14890828623907093, 0.0068864717298259695, 0.044884429740307714, 0.03551384816586367, 0.007395685696058471, 0.016324902726021703, 0.016324902726021703, 0.016324902726021703], [0.044917769772839365, 0.047339390265811396, 0.047339390265811396, 0.047339390265811396, 0.05363530456067483, 0.044804764763126614, 0.044804764763126614, 0.044804764763126614, 0.06680371898570364, 0.059224097852549284, 0.047150196834561044, 0.040017957313138994, 0.10726619226609986, 0.13329587822345546, 0.13329587822345546, 0.13329587822345546, 0.11505388465292676, 0.11596102927719787, 0.10127195885849938, 0.10127195885849938, 0.1515460417905853, 0.11792701649251394, 0.1130047447804218, 0.092911177421815, 0.09145605058299182, 0.09775177224180108, 0.06661233542015321, 0.06661233542015321, 0.07070806720533053, 0.06454663355573377, 0.07135645194162428, 0.08209740029403205, 0.09080049892954448, 0.07336506071748056, 0.07346620167416741, 0.07927263912145072, 0.07760720197084499, 0.10504422784713732, 0.10504422784713732, 0.04563268043051536, 0.11475645937929171, 0.110055582886141, 0.11984113713284916, 0.11984113713284916, 0.13133795446000504, 0.1346420969308695, 0.1346420969308695, 0.1344434327335941, 0.11639535398833198, 0.11639535398833198, 0.11584097773813279, 0.14446984535729301, 0.11413440315416337, 0.1308102343575843, 0.12370346463330126, 0.2289308518447113, 0.2313032148610553, 0.22873700538170733, 0.22591097648042469, 0.39510218025381894, 0.03737703166569352, 0.18515365773987513, 0.043404705478058754, 0.06823094228165306, 0.10025562688872137, 0.2624375981182722, 0.32529214048500715, 0.0805816064543728, 0.20655696559290546, 0.3237254472804979, 0.15690607112789212, 1.0, 0.4839208778257298, 0.010785946584789674, 0.0785541752142165, 0.08525220440099866, 0.0641826415578278, 0.0075922017035977805, 0.014250437187636912, 0.03251737543846206, 0.008015614803070977, 0.013436123362641338, 0.013436123362641338, 0.013436123362641338], [0.2237124744756925, 0.21197259169818441, 0.21197259169818441, 0.21197259169818441, 0.1484562861625867, 0.13718363972867437, 0.13718363972867437, 0.13718363972867437, 0.20786897466577317, 0.1608905886166509, 0.03643719899958597, 0.015760976143151327, 0.009934243655851762, 0.014686588333035641, 0.014686588333035641, 0.014686588333035641, 0.012789661250249653, 0.012796052215620697, 0.008094153345795592, 0.008094153345795592, 0.07167769364395041, 0.10755381120583728, 0.15357611269852706, 0.19038507973301896, 0.20016926491000997, 0.18950591783642512, 0.2092153585286693, 0.2092153585286693, 0.14845112990214274, 0.14693823613202134, 0.23917492435317486, 0.26180965078421997, 0.25941301603286243, 0.28538312672614996, 0.28722696777626566, 0.30990206797750003, 0.28017028530246724, 0.09924177731269705, 0.09924177731269705, 0.07916327044313218, 0.15125238203630606, 0.08657329204073, 0.1021382656283932, 0.1021382656283932, 0.2416149060235752, 0.24807636506256467, 0.24807636506256467, 0.21572286295354356, 0.260473349111629, 0.260473349111629, 0.1945201871361086, 0.12826325208363823, 0.23642661607463092, 0.12635276604603807, 0.28404361233554576, 0.041494846689544465, 0.039804289861282906, 0.03599279741216984, 0.0328769177228415, 0.0922082648536333, 0.03475583651732602, 0.07924096829615332, 0.03565392545518453, 0.01835994815307409, 0.07090248882854241, 0.0633894558811963, 0.048159887917626897, 0.11056701009442149, 0.13175566169174124, 0.1391381849332868, 0.45562734927200604, 0.4839208778257298, 1.0, 0.16697562461381849, 0.22597000820480684, 0.20097726636590985, 0.1443184362952596, 0.12715897501921386, 0.10779640241056905, 0.05006584167272831, 0.19285046121435592, 0.19862917154174495, 0.19862917154174495, 0.19862917154174495], [0.08809814761430888, 0.10177768641857901, 0.10177768641857901, 0.10177768641857901, 0.14972206945802963, 0.16349336942679196, 0.16349336942679196, 0.16349336942679196, 0.11515629347528153, 0.05339763282552054, 0.11423250125146711, 0.19296745745527488, 0.06927989577069424, 0.09894150865183025, 0.09894150865183025, 0.09894150865183025, 0.10308944729251805, 0.059165891663725316, 0.02993082416971971, 0.02993082416971971, 0.06899600608589344, 0.08149312028114937, 0.07826632951037936, 0.16952409349583786, 0.09156350935897759, 0.10227887972488105, 0.10732209481649835, 0.10732209481649835, 0.11473586997540204, 0.10244024572157874, 0.15595755328481672, 0.14125229444645748, 0.15889122472519382, 0.15813648165475902, 0.15938434056312603, 0.16705899728740714, 0.15627244485341082, 0.029107145434558737, 0.029107145434558737, 0.12412046650464019, 0.09165166476606125, 0.07819025528265935, 0.07481322532357286, 0.07481322532357286, 0.009586784672982178, 0.004328392102641293, 0.004328392102641293, 0.016128758211553334, 0.036218387731334886, 0.036218387731334886, 0.08439334911238036, 0.03201017833423229, 0.02202708159710251, 0.07302405020786515, 0.23800257989342763, 0.019873736804963467, 0.03176563956233471, 0.044778533868657315, 0.04317812676810864, 0.020268148494039358, 0.11038749021367066, 0.15933782602293547, 0.35159012094600034, 0.09580761040106962, 0.29251784313474544, 0.11130357961309263, 0.01856093419125685, 0.21564811591192323, 0.0353542090341672, 0.04804666955600816, 0.02615955446172247, 0.010785946584789674, 0.16697562461381849, 1.0, 0.33479000631497347, 0.21398379064319026, 0.12861271263612112, 0.03715431857673264, 0.10940142509482016, 0.025749647661640045, 0.11879701551997697, 0.12598521468882842, 0.12598521468882842, 0.12598521468882842], [0.1989360428533735, 0.18040748900433076, 0.18040748900433076, 0.18040748900433076, 0.09168230556682193, 0.0569260941787204, 0.0569260941787204, 0.0569260941787204, 0.2051174760812373, 0.22200757289263096, 0.38772342226275874, 0.2091667715283831, 0.12417846433199908, 0.19529588218879956, 0.19529588218879956, 0.19529588218879956, 0.20011361799176658, 0.1914859410311207, 0.23914426740401887, 0.23914426740401887, 0.07987950674666093, 0.15000901156600352, 0.09624016291568911, 0.13803270661429295, 0.12135290148908194, 0.14354157871561848, 0.12228622743084733, 0.12228622743084733, 0.17525636992245294, 0.19134504945493036, 0.14152240834911914, 0.089167474951685, 0.10443984177052512, 0.09562931208331452, 0.09459261309281244, 0.002836385221565554, 0.0637684947228947, 0.1253021430121519, 0.1253021430121519, 0.0019188694401795301, 0.024262263507730367, 0.07426962416627586, 0.03401754966656655, 0.03401754966656655, 0.1513772198806357, 0.14685215546417563, 0.14685215546417563, 0.09017437425731553, 0.10331272684167475, 0.10331272684167475, 0.00507699951797049, 0.09484725673215247, 0.007642647354698277, 0.13010802814877992, 0.2759829998234739, 0.0952516640166716, 0.08936534391180766, 0.09944717339983712, 0.08895837160637288, 0.04152817387230886, 0.07978156672395981, 0.45276157905571746, 0.19570387233443898, 0.3073783737474348, 0.31895149957514973, 0.21901761789064847, 0.2652780778243355, 0.06631707786086864, 0.12501559846460658, 0.14514045746615256, 0.014304449627896799, 0.0785541752142165, 0.22597000820480684, 0.33479000631497347, 1.0, 0.06055269306437943, 0.1745386811224787, 0.010125491763062785, 0.20155069991486585, 0.11521186597664212, 0.28723780043503894, 0.2668793075873779, 0.2668793075873779, 0.2668793075873779], [0.07789209920878304, 0.09076149090649992, 0.09076149090649992, 0.09076149090649992, 0.13623928047907505, 0.1275329583815641, 0.1275329583815641, 0.1275329583815641, 0.29859708793854306, 0.19018992573284027, 0.22446514984392152, 0.06054253246046254, 0.09388808903691463, 0.11064522780053436, 0.11064522780053436, 0.11064522780053436, 0.11692394389705234, 0.09945832814561177, 0.04446075353298717, 0.04446075353298717, 0.09137639147004639, 0.15457178401417673, 0.1458081715608379, 0.2167772534921965, 0.20021139207480246, 0.21428471990765566, 0.20738657152771484, 0.20738657152771484, 0.21449492861548197, 0.19670343180612118, 0.27684034914346217, 0.25871703210381797, 0.2522616694599951, 0.2737412512963844, 0.2733479823802161, 0.29975136162714483, 0.2827694567152741, 0.018432726157345005, 0.018432726157345005, 0.0839430578318325, 0.035423295014208774, 0.17712730805912974, 0.19202654925618792, 0.19202654925618792, 0.1493007546915177, 0.14754582811296274, 0.14754582811296274, 0.14254333065665603, 0.13464065176300585, 0.13464065176300585, 0.18582426864361545, 0.13241519406727228, 0.12092512942602594, 0.11661674408806155, 0.010614953641537802, 0.04795080962622754, 0.05321884132910426, 0.053220453540303136, 0.05321884132910426, 0.02176824232272005, 0.26913258661193984, 0.11766049989466328, 0.11832187577687707, 0.11418713341974016, 0.03756566962930565, 0.13174078461010433, 0.10573356089800888, 0.1795802008505121, 0.048600913217503115, 0.11893632634140695, 0.030028899539063018, 0.08525220440099866, 0.20097726636590985, 0.21398379064319026, 0.06055269306437943, 1.0, 0.007788138663034455, 0.12330765951066694, 0.09753945476294763, 0.040976178985612205, 0.07475703221065842, 0.12003240069916617, 0.12003240069916617, 0.12003240069916617], [0.07636739899507085, 0.08327971793687156, 0.08327971793687156, 0.08327971793687156, 0.10512574080466262, 0.12173322534254066, 0.12173322534254066, 0.12173322534254066, 0.04051578455165563, 0.005634935470671757, 0.0447664968581084, 0.09138799811372159, 0.13829860736259256, 0.15298239412565914, 0.15298239412565914, 0.15298239412565914, 0.15983334314042286, 0.16460302044495154, 0.15823063342409915, 0.15823063342409915, 0.13984487217763245, 0.1482732013244954, 0.15418596361471848, 0.1401867004823737, 0.1403562988521576, 0.14524924914237655, 0.1347339346939657, 0.1347339346939657, 0.14614300540068867, 0.10737686033701499, 0.12085871673181925, 0.117714487310162, 0.11067138215625047, 0.11047984355568562, 0.11034808018302793, 0.09765957395081504, 0.10524548072437441, 0.10374249651504285, 0.10374249651504285, 0.10274379200554305, 0.04661081046308798, 0.06776529981636147, 0.048518121246698874, 0.048518121246698874, 0.07951210349940149, 0.09102933575958026, 0.09102933575958026, 0.07807373220631755, 0.1258881942113106, 0.1258881942113106, 0.10908932808510233, 0.06711226053209517, 0.10687228304870944, 0.012814325757158757, 0.06062717945460248, 0.10729574280327184, 0.1019832585014678, 0.10127599765086154, 0.08827433698431633, 0.06769565041525054, 0.0443570372728198, 0.12593027307484161, 0.11652648249901959, 0.46284966004110945, 0.20917999887432653, 0.09353178191629426, 0.06446336823121922, 0.05172343046472043, 0.10889253200512924, 0.16937981789003254, 0.14890828623907093, 0.0641826415578278, 0.1443184362952596, 0.12861271263612112, 0.1745386811224787, 0.007788138663034455, 1.0, 0.4841445348837246, 0.06487499008318985, 0.03912108652680631, 0.0674172459347324, 0.054029674079249745, 0.054029674079249745, 0.054029674079249745], [0.0359378511945764, 0.03917644150210975, 0.03917644150210975, 0.03917644150210975, 0.049400039124827426, 0.05606487536078064, 0.05606487536078064, 0.05606487536078064, 0.017700302970806044, 0.01527557742184604, 0.027649555741285588, 0.12226478031647134, 0.11322335132566219, 0.12077287227772265, 0.12077287227772265, 0.12077287227772265, 0.12009885179905502, 0.12018362695478674, 0.15000431916242937, 0.15000431916242937, 0.12132192629985317, 0.09352829041023866, 0.09656954249389539, 0.12405274666903122, 0.05848541638955574, 0.05453071690145009, 0.04457541186906984, 0.04457541186906984, 0.05105027256584168, 0.12037196511721862, 0.06078605557146599, 0.0672546187887438, 0.08392259499900256, 0.07712695100036504, 0.07737136657294039, 0.08323590115570671, 0.027192423621402784, 0.10677560551757188, 0.10677560551757188, 0.03064573279083323, 0.08469284601338027, 0.08295670142929273, 0.08909961665807696, 0.08909961665807696, 0.11119072206874442, 0.11519223818217861, 0.11519223818217861, 0.1150845690496249, 0.11559698163513167, 0.11559698163513167, 0.11177932613817375, 0.1419582251837717, 0.1438257003303109, 0.20365771376357802, 0.29512062141400003, 0.31297995047756444, 0.3190316607403423, 0.3165003162364458, 0.3112243232106447, 0.15557549422722433, 0.3430283196133676, 0.05040748491764506, 0.08172131094074961, 0.20527011813860624, 0.14728086160554993, 0.0017595936295958727, 0.06332852808246106, 0.2310574187332417, 0.13375618489979757, 0.039996431268389664, 0.0068864717298259695, 0.0075922017035977805, 0.12715897501921386, 0.03715431857673264, 0.010125491763062785, 0.12330765951066694, 0.4841445348837246, 1.0, 0.02396266363181394, 0.014928530119958813, 0.029552560294703774, 0.02526648917092307, 0.02526648917092307, 0.02526648917092307], [0.11949291842267666, 0.11906834619733839, 0.11906834619733839, 0.11906834619733839, 0.10844545012917314, 0.10281594291830175, 0.10281594291830175, 0.10281594291830175, 0.07046810544769051, 0.023678729417292703, 0.0025196614990341416, 0.17097343851799107, 0.15244112753071917, 0.15624262722041596, 0.15624262722041596, 0.15624262722041596, 0.13913587861678037, 0.15294761069767612, 0.15292002904875368, 0.15292002904875368, 0.14673887799617397, 0.15190413942129366, 0.16332010680040765, 0.028102595126064174, 0.1434236187881006, 0.14341256576768927, 0.12202913001314478, 0.12202913001314478, 0.09209231995678248, 0.00883349792229151, 0.13961106607799248, 0.14731817862945532, 0.13394591069957906, 0.08291226587433578, 0.08291226587433578, 0.15521478578242795, 0.1339249820072048, 0.12773761356507995, 0.12773761356507995, 0.05873738016700149, 0.2815337211600063, 0.3574394745812136, 0.31443463479367495, 0.31443463479367495, 0.17478558723346646, 0.1888282574816113, 0.1888282574816113, 0.27684041972912604, 0.3572692617303455, 0.3572692617303455, 0.39079132757997354, 0.24128281161033788, 0.1261426584450357, 0.0816001014051797, 0.14053103571211303, 0.09161971745924787, 0.09161971745924787, 0.09162249298631378, 0.09161971745924787, 0.05688934935973348, 0.004990803519696204, 0.07947367177221773, 0.09075892591872765, 0.13862107672256202, 0.20582517136136294, 0.11044125491988856, 0.11008257185121724, 0.07808664370812844, 7.653792793220173e-05, 0.014671315211850318, 0.044884429740307714, 0.014250437187636912, 0.10779640241056905, 0.10940142509482016, 0.20155069991486585, 0.09753945476294763, 0.06487499008318985, 0.02396266363181394, 1.0, 0.028672215011403757, 0.05045623891795615, 0.04086913010836853, 0.04086913010836853, 0.04086913010836853], [0.239949073048688, 0.24844800930049146, 0.24844800930049146, 0.24844800930049146, 0.2643929734004634, 0.05602070420949957, 0.05602070420949957, 0.05602070420949957, 0.007814009014234924, 0.19593214862815864, 0.18416029395386566, 0.13095310455614656, 0.1076024304907132, 0.16496234456135733, 0.16496234456135733, 0.16496234456135733, 0.09413897877731019, 0.14816334668283254, 0.1447706831202169, 0.1447706831202169, 0.18515752213146186, 0.19013583195927714, 0.15331192355469583, 0.1565292289563218, 0.16834118079580038, 0.1683282074897081, 0.14140130406290205, 0.14140130406290205, 0.14140130406290205, 0.09937309152607308, 0.1447671669912528, 0.16171076638049842, 0.14480726902511248, 0.13281385035043605, 0.13960124967630344, 0.14813468233688734, 0.1986449513561076, 0.13972519164951563, 0.13972519164951563, 0.03200388292884867, 0.17653249837756305, 0.04410391365092514, 0.052276114404611704, 0.052276114404611704, 0.07656063198719738, 0.07679274807530405, 0.07679274807530405, 0.06825039344762804, 0.07247416828287823, 0.07247416828287823, 0.06669519793781711, 0.05048422678882589, 0.06873059134967469, 0.04446095629271351, 0.15184632609627186, 0.04992028420748762, 0.04992028420748762, 0.04992179649222063, 0.04992028420748762, 0.030996957501862432, 0.16516800515063979, 0.10362493207991168, 0.016104620181331866, 0.03433828569467305, 0.13172244803329586, 0.11144894638272916, 0.09540676979892938, 0.136879892572066, 0.05558483073882899, 0.06626691344087082, 0.03551384816586367, 0.03251737543846206, 0.05006584167272831, 0.025749647661640045, 0.11521186597664212, 0.040976178985612205, 0.03912108652680631, 0.014928530119958813, 0.028672215011403757, 1.0, 0.5682590622346213, 0.02226811702655621, 0.02226811702655621, 0.02226811702655621], [0.4222529634725271, 0.36109816925326216, 0.36109816925326216, 0.36109816925326216, 0.08576894075984084, 0.09858303709087159, 0.09858303709087159, 0.09858303709087159, 0.08692239218789506, 0.2513871409343639, 0.36184205899293154, 0.3256272784515578, 0.16792438126425627, 0.12243157889358453, 0.12243157889358453, 0.12243157889358453, 0.19359120647157924, 0.10073410795294416, 0.06871389887614308, 0.06871389887614308, 0.11622053625527401, 0.019112995433260293, 0.11280697408282885, 0.027125465526968963, 0.10635687685777186, 0.048680589155235106, 0.050654960325029176, 0.050654960325029176, 0.12243157889358453, 0.05479769030824186, 0.0032700522499714327, 0.10247235765745705, 0.1221774848453614, 0.11543985392748234, 0.11942125359589918, 0.10634986672104864, 0.07550824512851587, 0.10170564518211019, 0.10170564518211019, 0.05631917738891245, 0.0801059969411241, 0.32576689693127614, 0.30831299759821956, 0.30831299759821956, 0.1563927428488065, 0.16934346495383906, 0.16934346495383906, 0.09594628534030458, 0.18586131978551437, 0.18586131978551437, 0.11736759230120326, 0.0888401613698896, 0.16148497490955277, 0.07824064629585546, 0.2839814405281245, 0.08784775734359812, 0.08784775734359812, 0.08785041860293125, 0.08784775734359812, 0.05454722953290008, 0.17323783613156032, 0.054594527594055565, 0.17601904643903765, 0.14603965070036828, 0.09780112126338901, 0.1665980810449228, 0.11943931853091933, 0.025257874709028582, 0.05604541439709775, 0.030441424044251687, 0.007395685696058471, 0.008015614803070977, 0.19285046121435592, 0.11879701551997697, 0.28723780043503894, 0.07475703221065842, 0.0674172459347324, 0.029552560294703774, 0.05045623891795615, 0.5682590622346213, 1.0, 0.8099916082691649, 0.8099916082691649, 0.8099916082691649], [0.3420213569795332, 0.2616618962644557, 0.2616618962644557, 0.2616618962644557, 0.08422355836525108, 0.0798514327612938, 0.0798514327612938, 0.0798514327612938, 0.10004060154768024, 0.16579220723134844, 0.30838329280788246, 0.3023033267102683, 0.2807138016418544, 0.26632078492957845, 0.26632078492957845, 0.26632078492957845, 0.3023033267102683, 0.2279860568896788, 0.18666396910265876, 0.18666396910265876, 0.009245514207538377, 0.11228694567083876, 0.027794301090376217, 0.14451481142703057, 0.009246226773112405, 0.06082049075986057, 0.03923096569144663, 0.03923096569144663, 0.2495289320985898, 0.13740128142681102, 0.09920186865926313, 0.009252052847773383, 0.045240584637302114, 0.04560210609574801, 0.04560210609574801, 0.02363879460656318, 0.049831840186190045, 0.223152625377821, 0.223152625377821, 0.04561806106964158, 0.22314173479275057, 0.3643700084510418, 0.33733944792607834, 0.33733944792607834, 0.24457964904453455, 0.26048004152729864, 0.26048004152729864, 0.16521529256953368, 0.2774711938731786, 0.2774711938731786, 0.0950667648467313, 0.07195978518688903, 0.24518621041336996, 0.06337426692519885, 0.23681364818897957, 0.07115594625358038, 0.07115594625358038, 0.07115810185130764, 0.07115594625358038, 0.044182798175981024, 0.09276725913604629, 0.007521382245103914, 0.20238323181678095, 0.20190908671836644, 0.2127051568045877, 0.28184375900124153, 0.2131132654972205, 0.1282417140589154, 0.10770954423704762, 0.010242198864057856, 0.016324902726021703, 0.013436123362641338, 0.19862917154174495, 0.12598521468882842, 0.2668793075873779, 0.12003240069916617, 0.054029674079249745, 0.02526648917092307, 0.04086913010836853, 0.02226811702655621, 0.8099916082691649, 1.0, 1.0, 1.0], [0.3420213569795332, 0.2616618962644557, 0.2616618962644557, 0.2616618962644557, 0.08422355836525108, 0.0798514327612938, 0.0798514327612938, 0.0798514327612938, 0.10004060154768024, 0.16579220723134844, 0.30838329280788246, 0.3023033267102683, 0.2807138016418544, 0.26632078492957845, 0.26632078492957845, 0.26632078492957845, 0.3023033267102683, 0.2279860568896788, 0.18666396910265876, 0.18666396910265876, 0.009245514207538377, 0.11228694567083876, 0.027794301090376217, 0.14451481142703057, 0.009246226773112405, 0.06082049075986057, 0.03923096569144663, 0.03923096569144663, 0.2495289320985898, 0.13740128142681102, 0.09920186865926313, 0.009252052847773383, 0.045240584637302114, 0.04560210609574801, 0.04560210609574801, 0.02363879460656318, 0.049831840186190045, 0.223152625377821, 0.223152625377821, 0.04561806106964158, 0.22314173479275057, 0.3643700084510418, 0.33733944792607834, 0.33733944792607834, 0.24457964904453455, 0.26048004152729864, 0.26048004152729864, 0.16521529256953368, 0.2774711938731786, 0.2774711938731786, 0.0950667648467313, 0.07195978518688903, 0.24518621041336996, 0.06337426692519885, 0.23681364818897957, 0.07115594625358038, 0.07115594625358038, 0.07115810185130764, 0.07115594625358038, 0.044182798175981024, 0.09276725913604629, 0.007521382245103914, 0.20238323181678095, 0.20190908671836644, 0.2127051568045877, 0.28184375900124153, 0.2131132654972205, 0.1282417140589154, 0.10770954423704762, 0.010242198864057856, 0.016324902726021703, 0.013436123362641338, 0.19862917154174495, 0.12598521468882842, 0.2668793075873779, 0.12003240069916617, 0.054029674079249745, 0.02526648917092307, 0.04086913010836853, 0.02226811702655621, 0.8099916082691649, 1.0, 1.0, 1.0], [0.3420213569795332, 0.2616618962644557, 0.2616618962644557, 0.2616618962644557, 0.08422355836525108, 0.0798514327612938, 0.0798514327612938, 0.0798514327612938, 0.10004060154768024, 0.16579220723134844, 0.30838329280788246, 0.3023033267102683, 0.2807138016418544, 0.26632078492957845, 0.26632078492957845, 0.26632078492957845, 0.3023033267102683, 0.2279860568896788, 0.18666396910265876, 0.18666396910265876, 0.009245514207538377, 0.11228694567083876, 0.027794301090376217, 0.14451481142703057, 0.009246226773112405, 0.06082049075986057, 0.03923096569144663, 0.03923096569144663, 0.2495289320985898, 0.13740128142681102, 0.09920186865926313, 0.009252052847773383, 0.045240584637302114, 0.04560210609574801, 0.04560210609574801, 0.02363879460656318, 0.049831840186190045, 0.223152625377821, 0.223152625377821, 0.04561806106964158, 0.22314173479275057, 0.3643700084510418, 0.33733944792607834, 0.33733944792607834, 0.24457964904453455, 0.26048004152729864, 0.26048004152729864, 0.16521529256953368, 0.2774711938731786, 0.2774711938731786, 0.0950667648467313, 0.07195978518688903, 0.24518621041336996, 0.06337426692519885, 0.23681364818897957, 0.07115594625358038, 0.07115594625358038, 0.07115810185130764, 0.07115594625358038, 0.044182798175981024, 0.09276725913604629, 0.007521382245103914, 0.20238323181678095, 0.20190908671836644, 0.2127051568045877, 0.28184375900124153, 0.2131132654972205, 0.1282417140589154, 0.10770954423704762, 0.010242198864057856, 0.016324902726021703, 0.013436123362641338, 0.19862917154174495, 0.12598521468882842, 0.2668793075873779, 0.12003240069916617, 0.054029674079249745, 0.02526648917092307, 0.04086913010836853, 0.02226811702655621, 0.8099916082691649, 1.0, 1.0, 1.0]]}],                        {\"autosize\": false, \"height\": 800, \"hovermode\": \"closest\", \"showlegend\": false, \"template\": {\"data\": {\"bar\": [{\"error_x\": {\"color\": \"#2a3f5f\"}, \"error_y\": {\"color\": \"#2a3f5f\"}, \"marker\": {\"line\": {\"color\": \"#E5ECF6\", \"width\": 0.5}}, \"type\": \"bar\"}], \"barpolar\": [{\"marker\": {\"line\": {\"color\": \"#E5ECF6\", \"width\": 0.5}}, \"type\": \"barpolar\"}], \"carpet\": [{\"aaxis\": {\"endlinecolor\": \"#2a3f5f\", \"gridcolor\": \"white\", \"linecolor\": \"white\", \"minorgridcolor\": \"white\", \"startlinecolor\": \"#2a3f5f\"}, \"baxis\": {\"endlinecolor\": \"#2a3f5f\", \"gridcolor\": \"white\", \"linecolor\": \"white\", \"minorgridcolor\": \"white\", \"startlinecolor\": \"#2a3f5f\"}, \"type\": \"carpet\"}], \"choropleth\": [{\"colorbar\": {\"outlinewidth\": 0, \"ticks\": \"\"}, \"type\": \"choropleth\"}], \"contour\": [{\"colorbar\": {\"outlinewidth\": 0, \"ticks\": \"\"}, \"colorscale\": [[0.0, \"#0d0887\"], [0.1111111111111111, \"#46039f\"], [0.2222222222222222, \"#7201a8\"], [0.3333333333333333, \"#9c179e\"], [0.4444444444444444, \"#bd3786\"], [0.5555555555555556, \"#d8576b\"], [0.6666666666666666, \"#ed7953\"], [0.7777777777777778, \"#fb9f3a\"], [0.8888888888888888, \"#fdca26\"], [1.0, \"#f0f921\"]], \"type\": \"contour\"}], \"contourcarpet\": [{\"colorbar\": {\"outlinewidth\": 0, \"ticks\": \"\"}, \"type\": \"contourcarpet\"}], \"heatmap\": [{\"colorbar\": {\"outlinewidth\": 0, \"ticks\": \"\"}, \"colorscale\": [[0.0, \"#0d0887\"], [0.1111111111111111, \"#46039f\"], [0.2222222222222222, \"#7201a8\"], [0.3333333333333333, \"#9c179e\"], [0.4444444444444444, \"#bd3786\"], [0.5555555555555556, \"#d8576b\"], [0.6666666666666666, \"#ed7953\"], [0.7777777777777778, \"#fb9f3a\"], [0.8888888888888888, \"#fdca26\"], [1.0, \"#f0f921\"]], \"type\": \"heatmap\"}], \"heatmapgl\": [{\"colorbar\": {\"outlinewidth\": 0, \"ticks\": \"\"}, \"colorscale\": [[0.0, \"#0d0887\"], [0.1111111111111111, \"#46039f\"], [0.2222222222222222, \"#7201a8\"], [0.3333333333333333, \"#9c179e\"], [0.4444444444444444, \"#bd3786\"], [0.5555555555555556, \"#d8576b\"], [0.6666666666666666, \"#ed7953\"], [0.7777777777777778, \"#fb9f3a\"], [0.8888888888888888, \"#fdca26\"], [1.0, \"#f0f921\"]], \"type\": \"heatmapgl\"}], \"histogram\": [{\"marker\": {\"colorbar\": {\"outlinewidth\": 0, \"ticks\": \"\"}}, \"type\": \"histogram\"}], \"histogram2d\": [{\"colorbar\": {\"outlinewidth\": 0, \"ticks\": \"\"}, \"colorscale\": [[0.0, \"#0d0887\"], [0.1111111111111111, \"#46039f\"], [0.2222222222222222, \"#7201a8\"], [0.3333333333333333, \"#9c179e\"], [0.4444444444444444, \"#bd3786\"], [0.5555555555555556, \"#d8576b\"], [0.6666666666666666, \"#ed7953\"], [0.7777777777777778, \"#fb9f3a\"], [0.8888888888888888, \"#fdca26\"], [1.0, \"#f0f921\"]], \"type\": \"histogram2d\"}], \"histogram2dcontour\": [{\"colorbar\": {\"outlinewidth\": 0, \"ticks\": \"\"}, \"colorscale\": [[0.0, \"#0d0887\"], [0.1111111111111111, \"#46039f\"], [0.2222222222222222, \"#7201a8\"], [0.3333333333333333, \"#9c179e\"], [0.4444444444444444, \"#bd3786\"], [0.5555555555555556, \"#d8576b\"], [0.6666666666666666, \"#ed7953\"], [0.7777777777777778, \"#fb9f3a\"], [0.8888888888888888, \"#fdca26\"], [1.0, \"#f0f921\"]], \"type\": \"histogram2dcontour\"}], \"mesh3d\": [{\"colorbar\": {\"outlinewidth\": 0, \"ticks\": \"\"}, \"type\": \"mesh3d\"}], \"parcoords\": [{\"line\": {\"colorbar\": {\"outlinewidth\": 0, \"ticks\": \"\"}}, \"type\": \"parcoords\"}], \"pie\": [{\"automargin\": true, \"type\": \"pie\"}], \"scatter\": [{\"marker\": {\"colorbar\": {\"outlinewidth\": 0, \"ticks\": \"\"}}, \"type\": \"scatter\"}], \"scatter3d\": [{\"line\": {\"colorbar\": {\"outlinewidth\": 0, \"ticks\": \"\"}}, \"marker\": {\"colorbar\": {\"outlinewidth\": 0, \"ticks\": \"\"}}, \"type\": \"scatter3d\"}], \"scattercarpet\": [{\"marker\": {\"colorbar\": {\"outlinewidth\": 0, \"ticks\": \"\"}}, \"type\": \"scattercarpet\"}], \"scattergeo\": [{\"marker\": {\"colorbar\": {\"outlinewidth\": 0, \"ticks\": \"\"}}, \"type\": \"scattergeo\"}], \"scattergl\": [{\"marker\": {\"colorbar\": {\"outlinewidth\": 0, \"ticks\": \"\"}}, \"type\": \"scattergl\"}], \"scattermapbox\": [{\"marker\": {\"colorbar\": {\"outlinewidth\": 0, \"ticks\": \"\"}}, \"type\": \"scattermapbox\"}], \"scatterpolar\": [{\"marker\": {\"colorbar\": {\"outlinewidth\": 0, \"ticks\": \"\"}}, \"type\": \"scatterpolar\"}], \"scatterpolargl\": [{\"marker\": {\"colorbar\": {\"outlinewidth\": 0, \"ticks\": \"\"}}, \"type\": \"scatterpolargl\"}], \"scatterternary\": [{\"marker\": {\"colorbar\": {\"outlinewidth\": 0, \"ticks\": \"\"}}, \"type\": \"scatterternary\"}], \"surface\": [{\"colorbar\": {\"outlinewidth\": 0, \"ticks\": \"\"}, \"colorscale\": [[0.0, \"#0d0887\"], [0.1111111111111111, \"#46039f\"], [0.2222222222222222, \"#7201a8\"], [0.3333333333333333, \"#9c179e\"], [0.4444444444444444, \"#bd3786\"], [0.5555555555555556, \"#d8576b\"], [0.6666666666666666, \"#ed7953\"], [0.7777777777777778, \"#fb9f3a\"], [0.8888888888888888, \"#fdca26\"], [1.0, \"#f0f921\"]], \"type\": \"surface\"}], \"table\": [{\"cells\": {\"fill\": {\"color\": \"#EBF0F8\"}, \"line\": {\"color\": \"white\"}}, \"header\": {\"fill\": {\"color\": \"#C8D4E3\"}, \"line\": {\"color\": \"white\"}}, \"type\": \"table\"}]}, \"layout\": {\"annotationdefaults\": {\"arrowcolor\": \"#2a3f5f\", \"arrowhead\": 0, \"arrowwidth\": 1}, \"autotypenumbers\": \"strict\", \"coloraxis\": {\"colorbar\": {\"outlinewidth\": 0, \"ticks\": \"\"}}, \"colorscale\": {\"diverging\": [[0, \"#8e0152\"], [0.1, \"#c51b7d\"], [0.2, \"#de77ae\"], [0.3, \"#f1b6da\"], [0.4, \"#fde0ef\"], [0.5, \"#f7f7f7\"], [0.6, \"#e6f5d0\"], [0.7, \"#b8e186\"], [0.8, \"#7fbc41\"], [0.9, \"#4d9221\"], [1, \"#276419\"]], \"sequential\": [[0.0, \"#0d0887\"], [0.1111111111111111, \"#46039f\"], [0.2222222222222222, \"#7201a8\"], [0.3333333333333333, \"#9c179e\"], [0.4444444444444444, \"#bd3786\"], [0.5555555555555556, \"#d8576b\"], [0.6666666666666666, \"#ed7953\"], [0.7777777777777778, \"#fb9f3a\"], [0.8888888888888888, \"#fdca26\"], [1.0, \"#f0f921\"]], \"sequentialminus\": [[0.0, \"#0d0887\"], [0.1111111111111111, \"#46039f\"], [0.2222222222222222, \"#7201a8\"], [0.3333333333333333, \"#9c179e\"], [0.4444444444444444, \"#bd3786\"], [0.5555555555555556, \"#d8576b\"], [0.6666666666666666, \"#ed7953\"], [0.7777777777777778, \"#fb9f3a\"], [0.8888888888888888, \"#fdca26\"], [1.0, \"#f0f921\"]]}, \"colorway\": [\"#636efa\", \"#EF553B\", \"#00cc96\", \"#ab63fa\", \"#FFA15A\", \"#19d3f3\", \"#FF6692\", \"#B6E880\", \"#FF97FF\", \"#FECB52\"], \"font\": {\"color\": \"#2a3f5f\"}, \"geo\": {\"bgcolor\": \"white\", \"lakecolor\": \"white\", \"landcolor\": \"#E5ECF6\", \"showlakes\": true, \"showland\": true, \"subunitcolor\": \"white\"}, \"hoverlabel\": {\"align\": \"left\"}, \"hovermode\": \"closest\", \"mapbox\": {\"style\": \"light\"}, \"paper_bgcolor\": \"white\", \"plot_bgcolor\": \"#E5ECF6\", \"polar\": {\"angularaxis\": {\"gridcolor\": \"white\", \"linecolor\": \"white\", \"ticks\": \"\"}, \"bgcolor\": \"#E5ECF6\", \"radialaxis\": {\"gridcolor\": \"white\", \"linecolor\": \"white\", \"ticks\": \"\"}}, \"scene\": {\"xaxis\": {\"backgroundcolor\": \"#E5ECF6\", \"gridcolor\": \"white\", \"gridwidth\": 2, \"linecolor\": \"white\", \"showbackground\": true, \"ticks\": \"\", \"zerolinecolor\": \"white\"}, \"yaxis\": {\"backgroundcolor\": \"#E5ECF6\", \"gridcolor\": \"white\", \"gridwidth\": 2, \"linecolor\": \"white\", \"showbackground\": true, \"ticks\": \"\", \"zerolinecolor\": \"white\"}, \"zaxis\": {\"backgroundcolor\": \"#E5ECF6\", \"gridcolor\": \"white\", \"gridwidth\": 2, \"linecolor\": \"white\", \"showbackground\": true, \"ticks\": \"\", \"zerolinecolor\": \"white\"}}, \"shapedefaults\": {\"line\": {\"color\": \"#2a3f5f\"}}, \"ternary\": {\"aaxis\": {\"gridcolor\": \"white\", \"linecolor\": \"white\", \"ticks\": \"\"}, \"baxis\": {\"gridcolor\": \"white\", \"linecolor\": \"white\", \"ticks\": \"\"}, \"bgcolor\": \"#E5ECF6\", \"caxis\": {\"gridcolor\": \"white\", \"linecolor\": \"white\", \"ticks\": \"\"}}, \"title\": {\"x\": 0.05}, \"xaxis\": {\"automargin\": true, \"gridcolor\": \"white\", \"linecolor\": \"white\", \"ticks\": \"\", \"title\": {\"standoff\": 15}, \"zerolinecolor\": \"white\", \"zerolinewidth\": 2}, \"yaxis\": {\"automargin\": true, \"gridcolor\": \"white\", \"linecolor\": \"white\", \"ticks\": \"\", \"title\": {\"standoff\": 15}, \"zerolinecolor\": \"white\", \"zerolinewidth\": 2}}}, \"title\": {\"text\": \"FQ+reacci\\u00f3n+sc precursoras\", \"x\": 0.5, \"xanchor\": \"center\", \"y\": 0.9, \"yanchor\": \"top\"}, \"width\": 800, \"xaxis\": {\"domain\": [0.15, 1], \"mirror\": false, \"rangemode\": \"tozero\", \"showgrid\": false, \"showline\": false, \"showticklabels\": true, \"tickmode\": \"array\", \"ticks\": \"\", \"ticktext\": [\"_feat_CyclomaticNumber\", \"_feat_SmallestRingSize\", \"_feat_LargestRingSize\", \"_feat_RingAtomCount\", \"_feat_CarboRingCount\", \"_feat_AromaticRingCount\", \"_feat_CarboaromaticRingCount\", \"_feat_AromaticAtomCount\", \"_feat_BalabanIndex\", \"_feat_Aliphatic AtomCount\", \"_feat_ChainAtomCount\", \"_feat_ASA-\", \"_feat_ASA_H\", \"_feat_molsurfaceareaVDWp\", \"_feat_msareaVDWp\", \"_feat_VanderWaalsSurfaceArea\", \"_feat_ASA\", \"_feat_MaximalProjectionRadius\", \"_feat_minimalprojectionsize\", \"_feat_LengthPerpendicularToTheMinArea\", \"_feat_MinimalProjectionArea\", \"_feat_BondCount\", \"_feat_AtomCount_C\", \"_feat_WienerPolarity\", \"_feat_AvgPol\", \"_feat_VanderWaalsVolume\", \"_feat_molsurfaceareaASAp\", \"_feat_msareaASAp\", \"_feat_ASA+\", \"_feat_RotatableBondCount\", \"_feat_MaximalProjectionArea\", \"_feat_MolPol\", \"_raw_molweight\", \"_feat_HyperWienerIndex\", \"_feat_WienerIndex\", \"_feat_Refractivity\", \"_feat_MinimalProjectionRadius\", \"_feat_maximalprojectionsize\", \"_feat_LengthPerpendicularToTheMaxArea\", \"_feat_fr_guanido\", \"_feat_ASA_P\", \"_feat_donsitecount\", \"_feat_ProtPolarSurfaceArea\", \"_feat_Protpsa\", \"_feat_Accsitecount\", \"_feat_acceptorcount\", \"_feat_Hacceptorcount\", \"_feat_PolarSurfaceArea\", \"_feat_AtomCount_N\", \"_feat_Hdonorcount\", \"_feat_donorcount\", \"_feat_fr_quatN\", \"_feat_fr_NH2\", \"_feat_fr_amidine\", \"_raw_reagent_1_chemicals_1_actual_amount\", \"_raw_reagent_3_chemicals_1_actual_amount\", \"_raw_reagent_3_chemicals_0_actual_amount\", \"_raw_reagent_4_chemicals_1_actual_amount\", \"_raw_reagent_3_chemicals_2_actual_amount\", \"_raw_reagent_3_volume\", \"_raw_reagent_1_chemicals_0_actual_amount\", \"_raw_reagent_2_chemicals_1_actual_amount\", \"_raw_reagent_0_chemicals_0_actual_amount\", \"_raw_reagent_6_volume\", \"_raw_reagent_6_chemicals_0_actual_amount\", \"_raw_reagent_4_chemicals_0_actual_amount\", \"_raw_reagent_4_volume\", \"_raw_reagent_1_chemicals_2_actual_amount\", \"_raw_reagent_1_volume\", \"_rxn_M_inorganic\", \"_raw_reagent_0_volume\", \"_raw_reagent_2_volume\", \"_rxn_M_organic\", \"_raw_reagent_5_chemicals_0_actual_amount\", \"_raw_reagent_2_chemicals_0_actual_amount\", \"_rxn_temperatureC_actual_bulk\", \"_rxn_M_acid\", \"_raw_reagent_5_volume\", \"_feat_fr_NH1\", \"_feat_CarboaliphaticRingCount\", \"_feat_AliphaticRingCount\", \"_feat_fr_NH0\", \"_feat_fr_Imine\", \"_feat_HeteroaliphaticRingCount\"], \"tickvals\": [5, 15, 25, 35, 45, 55, 65, 75, 85, 95, 105, 115, 125, 135, 145, 155, 165, 175, 185, 195, 205, 215, 225, 235, 245, 255, 265, 275, 285, 295, 305, 315, 325, 335, 345, 355, 365, 375, 385, 395, 405, 415, 425, 435, 445, 455, 465, 475, 485, 495, 505, 515, 525, 535, 545, 555, 565, 575, 585, 595, 605, 615, 625, 635, 645, 655, 665, 675, 685, 695, 705, 715, 725, 735, 745, 755, 765, 775, 785, 795, 805, 815, 825, 835], \"type\": \"linear\", \"zeroline\": false}, \"xaxis2\": {\"domain\": [0, 0.15], \"mirror\": false, \"showgrid\": false, \"showline\": false, \"showticklabels\": false, \"ticks\": \"\", \"zeroline\": false}, \"yaxis\": {\"domain\": [0, 0.85], \"mirror\": false, \"rangemode\": \"tozero\", \"showgrid\": false, \"showline\": false, \"showticklabels\": false, \"ticks\": \"\", \"ticktext\": [\"_feat_CyclomaticNumber\", \"_feat_SmallestRingSize\", \"_feat_LargestRingSize\", \"_feat_RingAtomCount\", \"_feat_CarboRingCount\", \"_feat_AromaticRingCount\", \"_feat_CarboaromaticRingCount\", \"_feat_AromaticAtomCount\", \"_feat_BalabanIndex\", \"_feat_Aliphatic AtomCount\", \"_feat_ChainAtomCount\", \"_feat_ASA-\", \"_feat_ASA_H\", \"_feat_molsurfaceareaVDWp\", \"_feat_msareaVDWp\", \"_feat_VanderWaalsSurfaceArea\", \"_feat_ASA\", \"_feat_MaximalProjectionRadius\", \"_feat_minimalprojectionsize\", \"_feat_LengthPerpendicularToTheMinArea\", \"_feat_MinimalProjectionArea\", \"_feat_BondCount\", \"_feat_AtomCount_C\", \"_feat_WienerPolarity\", \"_feat_AvgPol\", \"_feat_VanderWaalsVolume\", \"_feat_molsurfaceareaASAp\", \"_feat_msareaASAp\", \"_feat_ASA+\", \"_feat_RotatableBondCount\", \"_feat_MaximalProjectionArea\", \"_feat_MolPol\", \"_raw_molweight\", \"_feat_HyperWienerIndex\", \"_feat_WienerIndex\", \"_feat_Refractivity\", \"_feat_MinimalProjectionRadius\", \"_feat_maximalprojectionsize\", \"_feat_LengthPerpendicularToTheMaxArea\", \"_feat_fr_guanido\", \"_feat_ASA_P\", \"_feat_donsitecount\", \"_feat_ProtPolarSurfaceArea\", \"_feat_Protpsa\", \"_feat_Accsitecount\", \"_feat_acceptorcount\", \"_feat_Hacceptorcount\", \"_feat_PolarSurfaceArea\", \"_feat_AtomCount_N\", \"_feat_Hdonorcount\", \"_feat_donorcount\", \"_feat_fr_quatN\", \"_feat_fr_NH2\", \"_feat_fr_amidine\", \"_raw_reagent_1_chemicals_1_actual_amount\", \"_raw_reagent_3_chemicals_1_actual_amount\", \"_raw_reagent_3_chemicals_0_actual_amount\", \"_raw_reagent_4_chemicals_1_actual_amount\", \"_raw_reagent_3_chemicals_2_actual_amount\", \"_raw_reagent_3_volume\", \"_raw_reagent_1_chemicals_0_actual_amount\", \"_raw_reagent_2_chemicals_1_actual_amount\", \"_raw_reagent_0_chemicals_0_actual_amount\", \"_raw_reagent_6_volume\", \"_raw_reagent_6_chemicals_0_actual_amount\", \"_raw_reagent_4_chemicals_0_actual_amount\", \"_raw_reagent_4_volume\", \"_raw_reagent_1_chemicals_2_actual_amount\", \"_raw_reagent_1_volume\", \"_rxn_M_inorganic\", \"_raw_reagent_0_volume\", \"_raw_reagent_2_volume\", \"_rxn_M_organic\", \"_raw_reagent_5_chemicals_0_actual_amount\", \"_raw_reagent_2_chemicals_0_actual_amount\", \"_rxn_temperatureC_actual_bulk\", \"_rxn_M_acid\", \"_raw_reagent_5_volume\", \"_feat_fr_NH1\", \"_feat_CarboaliphaticRingCount\", \"_feat_AliphaticRingCount\", \"_feat_fr_NH0\", \"_feat_fr_Imine\", \"_feat_HeteroaliphaticRingCount\"], \"tickvals\": [5, 15, 25, 35, 45, 55, 65, 75, 85, 95, 105, 115, 125, 135, 145, 155, 165, 175, 185, 195, 205, 215, 225, 235, 245, 255, 265, 275, 285, 295, 305, 315, 325, 335, 345, 355, 365, 375, 385, 395, 405, 415, 425, 435, 445, 455, 465, 475, 485, 495, 505, 515, 525, 535, 545, 555, 565, 575, 585, 595, 605, 615, 625, 635, 645, 655, 665, 675, 685, 695, 705, 715, 725, 735, 745, 755, 765, 775, 785, 795, 805, 815, 825, 835], \"type\": \"linear\", \"zeroline\": false}, \"yaxis2\": {\"domain\": [0.825, 0.975], \"mirror\": false, \"showgrid\": false, \"showline\": false, \"showticklabels\": false, \"ticks\": \"\", \"zeroline\": false}},                        {\"responsive\": true}                    ).then(function(){\n                            \nvar gd = document.getElementById('410c21a8-96f1-4600-9a33-4b5ca416b367');\nvar x = new MutationObserver(function (mutations, observer) {{\n        var display = window.getComputedStyle(gd).display;\n        if (!display || display === 'none') {{\n            console.log([gd, 'removed!']);\n            Plotly.purge(gd);\n            observer.disconnect();\n        }}\n}});\n\n// Listen for the removal of the full notebook cells\nvar notebookContainer = gd.closest('#notebook-container');\nif (notebookContainer) {{\n    x.observe(notebookContainer, {childList: true});\n}}\n\n// Listen for the clearing of the current output cell\nvar outputEl = gd.closest('.output');\nif (outputEl) {{\n    x.observe(outputEl, {childList: true});\n}}\n\n                        })                };                });            </script>        </div>"
     },
     "metadata": {}
    }
   ],
   "source": [
    "plot_corr_dendogram(final_df, chem_col + solud_col +feat_col , 'FQ+reacción+sc precursoras')"
   ]
  },
  {
   "cell_type": "code",
   "execution_count": 197,
   "metadata": {},
   "outputs": [],
   "source": [
    "df_feat = final_df[feat_col]\n",
    "df_feat_noctes = df_feat.loc[:, (df_feat != df_feat.iloc[0]).any()] \n",
    "df_feat_cols = df_feat_noctes.columns"
   ]
  },
  {
   "cell_type": "code",
   "execution_count": 198,
   "metadata": {},
   "outputs": [],
   "source": [
    "corr_df = final_df[df_feat_cols].corr(method='spearman')"
   ]
  },
  {
   "cell_type": "code",
   "execution_count": 199,
   "metadata": {},
   "outputs": [
    {
     "output_type": "execute_result",
     "data": {
      "text/plain": [
       "                                _feat_BondCount  _feat_ChainAtomCount  \\\n",
       "_feat_BondCount                        1.000000              0.508423   \n",
       "_feat_ChainAtomCount                   0.508423              1.000000   \n",
       "_feat_HeteroaliphaticRingCount        -0.112287             -0.308383   \n",
       "_feat_VanderWaalsVolume                0.967799              0.508491   \n",
       "_feat_AliphaticRingCount               0.019113             -0.361842   \n",
       "\n",
       "                                _feat_HeteroaliphaticRingCount  \\\n",
       "_feat_BondCount                                      -0.112287   \n",
       "_feat_ChainAtomCount                                 -0.308383   \n",
       "_feat_HeteroaliphaticRingCount                        1.000000   \n",
       "_feat_VanderWaalsVolume                              -0.060820   \n",
       "_feat_AliphaticRingCount                              0.809992   \n",
       "\n",
       "                                _feat_VanderWaalsVolume  \\\n",
       "_feat_BondCount                                0.967799   \n",
       "_feat_ChainAtomCount                           0.508491   \n",
       "_feat_HeteroaliphaticRingCount                -0.060820   \n",
       "_feat_VanderWaalsVolume                        1.000000   \n",
       "_feat_AliphaticRingCount                       0.048681   \n",
       "\n",
       "                                _feat_AliphaticRingCount  _feat_Refractivity  \\\n",
       "_feat_BondCount                                 0.019113            0.838476   \n",
       "_feat_ChainAtomCount                           -0.361842            0.476914   \n",
       "_feat_HeteroaliphaticRingCount                  0.809992            0.023639   \n",
       "_feat_VanderWaalsVolume                         0.048681            0.893195   \n",
       "_feat_AliphaticRingCount                        1.000000            0.106350   \n",
       "\n",
       "                                _feat_RotatableBondCount  \\\n",
       "_feat_BondCount                                 0.876134   \n",
       "_feat_ChainAtomCount                            0.607975   \n",
       "_feat_HeteroaliphaticRingCount                 -0.137401   \n",
       "_feat_VanderWaalsVolume                         0.827169   \n",
       "_feat_AliphaticRingCount                       -0.054798   \n",
       "\n",
       "                                _feat_CarboaliphaticRingCount  \\\n",
       "_feat_BondCount                                      0.190136   \n",
       "_feat_ChainAtomCount                                -0.184160   \n",
       "_feat_HeteroaliphaticRingCount                      -0.022268   \n",
       "_feat_VanderWaalsVolume                              0.168328   \n",
       "_feat_AliphaticRingCount                             0.568259   \n",
       "\n",
       "                                _feat_VanderWaalsSurfaceArea  \\\n",
       "_feat_BondCount                                     0.967321   \n",
       "_feat_ChainAtomCount                                0.493292   \n",
       "_feat_HeteroaliphaticRingCount                     -0.266321   \n",
       "_feat_VanderWaalsVolume                             0.889745   \n",
       "_feat_AliphaticRingCount                           -0.122432   \n",
       "\n",
       "                                _feat_MinimalProjectionRadius  ...  \\\n",
       "_feat_BondCount                                      0.771108  ...   \n",
       "_feat_ChainAtomCount                                 0.440229  ...   \n",
       "_feat_HeteroaliphaticRingCount                      -0.049832  ...   \n",
       "_feat_VanderWaalsVolume                              0.866900  ...   \n",
       "_feat_AliphaticRingCount                             0.075508  ...   \n",
       "\n",
       "                                _feat_fr_NH2  _feat_ProtPolarSurfaceArea  \\\n",
       "_feat_BondCount                    -0.391613                   -0.376390   \n",
       "_feat_ChainAtomCount                0.122445                    0.129436   \n",
       "_feat_HeteroaliphaticRingCount      0.245186                   -0.337339   \n",
       "_feat_VanderWaalsVolume            -0.231485                   -0.259249   \n",
       "_feat_AliphaticRingCount            0.161485                   -0.308313   \n",
       "\n",
       "                                _feat_AromaticAtomCount  _feat_CarboRingCount  \\\n",
       "_feat_BondCount                                0.451027              0.496221   \n",
       "_feat_ChainAtomCount                          -0.152347             -0.205813   \n",
       "_feat_HeteroaliphaticRingCount                -0.079851             -0.084224   \n",
       "_feat_VanderWaalsVolume                        0.514249              0.550343   \n",
       "_feat_AliphaticRingCount                      -0.098583              0.085769   \n",
       "\n",
       "                                _feat_Aliphatic AtomCount  \\\n",
       "_feat_BondCount                                  0.561861   \n",
       "_feat_ChainAtomCount                             0.810120   \n",
       "_feat_HeteroaliphaticRingCount                   0.165792   \n",
       "_feat_VanderWaalsVolume                          0.576523   \n",
       "_feat_AliphaticRingCount                         0.251387   \n",
       "\n",
       "                                _feat_RingAtomCount  _feat_Accsitecount  \\\n",
       "_feat_BondCount                            0.442099           -0.404723   \n",
       "_feat_ChainAtomCount                      -0.305200           -0.023624   \n",
       "_feat_HeteroaliphaticRingCount             0.261662            0.244580   \n",
       "_feat_VanderWaalsVolume                    0.512187           -0.256904   \n",
       "_feat_AliphaticRingCount                   0.361098            0.156393   \n",
       "\n",
       "                                _feat_MinimalProjectionArea  \\\n",
       "_feat_BondCount                                    0.957057   \n",
       "_feat_ChainAtomCount                               0.396603   \n",
       "_feat_HeteroaliphaticRingCount                     0.009246   \n",
       "_feat_VanderWaalsVolume                            0.897211   \n",
       "_feat_AliphaticRingCount                           0.116221   \n",
       "\n",
       "                                _feat_maximalprojectionsize  _feat_ASA  \n",
       "_feat_BondCount                                    0.749992   0.944157  \n",
       "_feat_ChainAtomCount                               0.514649   0.457829  \n",
       "_feat_HeteroaliphaticRingCount                    -0.223153  -0.302303  \n",
       "_feat_VanderWaalsVolume                            0.609290   0.870872  \n",
       "_feat_AliphaticRingCount                          -0.101706  -0.193591  \n",
       "\n",
       "[5 rows x 59 columns]"
      ],
      "text/html": "<div>\n<style scoped>\n    .dataframe tbody tr th:only-of-type {\n        vertical-align: middle;\n    }\n\n    .dataframe tbody tr th {\n        vertical-align: top;\n    }\n\n    .dataframe thead th {\n        text-align: right;\n    }\n</style>\n<table border=\"1\" class=\"dataframe\">\n  <thead>\n    <tr style=\"text-align: right;\">\n      <th></th>\n      <th>_feat_BondCount</th>\n      <th>_feat_ChainAtomCount</th>\n      <th>_feat_HeteroaliphaticRingCount</th>\n      <th>_feat_VanderWaalsVolume</th>\n      <th>_feat_AliphaticRingCount</th>\n      <th>_feat_Refractivity</th>\n      <th>_feat_RotatableBondCount</th>\n      <th>_feat_CarboaliphaticRingCount</th>\n      <th>_feat_VanderWaalsSurfaceArea</th>\n      <th>_feat_MinimalProjectionRadius</th>\n      <th>...</th>\n      <th>_feat_fr_NH2</th>\n      <th>_feat_ProtPolarSurfaceArea</th>\n      <th>_feat_AromaticAtomCount</th>\n      <th>_feat_CarboRingCount</th>\n      <th>_feat_Aliphatic AtomCount</th>\n      <th>_feat_RingAtomCount</th>\n      <th>_feat_Accsitecount</th>\n      <th>_feat_MinimalProjectionArea</th>\n      <th>_feat_maximalprojectionsize</th>\n      <th>_feat_ASA</th>\n    </tr>\n  </thead>\n  <tbody>\n    <tr>\n      <th>_feat_BondCount</th>\n      <td>1.000000</td>\n      <td>0.508423</td>\n      <td>-0.112287</td>\n      <td>0.967799</td>\n      <td>0.019113</td>\n      <td>0.838476</td>\n      <td>0.876134</td>\n      <td>0.190136</td>\n      <td>0.967321</td>\n      <td>0.771108</td>\n      <td>...</td>\n      <td>-0.391613</td>\n      <td>-0.376390</td>\n      <td>0.451027</td>\n      <td>0.496221</td>\n      <td>0.561861</td>\n      <td>0.442099</td>\n      <td>-0.404723</td>\n      <td>0.957057</td>\n      <td>0.749992</td>\n      <td>0.944157</td>\n    </tr>\n    <tr>\n      <th>_feat_ChainAtomCount</th>\n      <td>0.508423</td>\n      <td>1.000000</td>\n      <td>-0.308383</td>\n      <td>0.508491</td>\n      <td>-0.361842</td>\n      <td>0.476914</td>\n      <td>0.607975</td>\n      <td>-0.184160</td>\n      <td>0.493292</td>\n      <td>0.440229</td>\n      <td>...</td>\n      <td>0.122445</td>\n      <td>0.129436</td>\n      <td>-0.152347</td>\n      <td>-0.205813</td>\n      <td>0.810120</td>\n      <td>-0.305200</td>\n      <td>-0.023624</td>\n      <td>0.396603</td>\n      <td>0.514649</td>\n      <td>0.457829</td>\n    </tr>\n    <tr>\n      <th>_feat_HeteroaliphaticRingCount</th>\n      <td>-0.112287</td>\n      <td>-0.308383</td>\n      <td>1.000000</td>\n      <td>-0.060820</td>\n      <td>0.809992</td>\n      <td>0.023639</td>\n      <td>-0.137401</td>\n      <td>-0.022268</td>\n      <td>-0.266321</td>\n      <td>-0.049832</td>\n      <td>...</td>\n      <td>0.245186</td>\n      <td>-0.337339</td>\n      <td>-0.079851</td>\n      <td>-0.084224</td>\n      <td>0.165792</td>\n      <td>0.261662</td>\n      <td>0.244580</td>\n      <td>0.009246</td>\n      <td>-0.223153</td>\n      <td>-0.302303</td>\n    </tr>\n    <tr>\n      <th>_feat_VanderWaalsVolume</th>\n      <td>0.967799</td>\n      <td>0.508491</td>\n      <td>-0.060820</td>\n      <td>1.000000</td>\n      <td>0.048681</td>\n      <td>0.893195</td>\n      <td>0.827169</td>\n      <td>0.168328</td>\n      <td>0.889745</td>\n      <td>0.866900</td>\n      <td>...</td>\n      <td>-0.231485</td>\n      <td>-0.259249</td>\n      <td>0.514249</td>\n      <td>0.550343</td>\n      <td>0.576523</td>\n      <td>0.512187</td>\n      <td>-0.256904</td>\n      <td>0.897211</td>\n      <td>0.609290</td>\n      <td>0.870872</td>\n    </tr>\n    <tr>\n      <th>_feat_AliphaticRingCount</th>\n      <td>0.019113</td>\n      <td>-0.361842</td>\n      <td>0.809992</td>\n      <td>0.048681</td>\n      <td>1.000000</td>\n      <td>0.106350</td>\n      <td>-0.054798</td>\n      <td>0.568259</td>\n      <td>-0.122432</td>\n      <td>0.075508</td>\n      <td>...</td>\n      <td>0.161485</td>\n      <td>-0.308313</td>\n      <td>-0.098583</td>\n      <td>0.085769</td>\n      <td>0.251387</td>\n      <td>0.361098</td>\n      <td>0.156393</td>\n      <td>0.116221</td>\n      <td>-0.101706</td>\n      <td>-0.193591</td>\n    </tr>\n  </tbody>\n</table>\n<p>5 rows × 59 columns</p>\n</div>"
     },
     "metadata": {},
     "execution_count": 199
    }
   ],
   "source": [
    "corr_df.head()"
   ]
  },
  {
   "cell_type": "code",
   "execution_count": 200,
   "metadata": {},
   "outputs": [],
   "source": [
    "#corr_df = corr_df.dropna(axis='columns')"
   ]
  },
  {
   "cell_type": "code",
   "execution_count": 202,
   "metadata": {},
   "outputs": [],
   "source": [
    "#corr_heapmap(corr_df, df_feat_cols)"
   ]
  },
  {
   "cell_type": "code",
   "execution_count": null,
   "metadata": {},
   "outputs": [],
   "source": []
  }
 ],
 "metadata": {
  "kernelspec": {
   "name": "python369jvsc74a57bd04503f7c3eaaf103fa321b77cde35cdda27ecf83413ee8f20a542a6bd46fac0df",
   "display_name": "Python 3.6.9 64-bit ('2021-re-pendleton-perovskite-OvfDPzZ5': pipenv)"
  },
  "language_info": {
   "codemirror_mode": {
    "name": "ipython",
    "version": 3
   },
   "file_extension": ".py",
   "mimetype": "text/x-python",
   "name": "python",
   "nbconvert_exporter": "python",
   "pygments_lexer": "ipython3",
   "version": "3.6.9"
  }
 },
 "nbformat": 4,
 "nbformat_minor": 2
}