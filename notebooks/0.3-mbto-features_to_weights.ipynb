{
 "cells": [
  {
   "source": [
    "## Ordering features by importance (rxn-physicochemical properties)- GBC"
   ],
   "cell_type": "markdown",
   "metadata": {}
  },
  {
   "cell_type": "code",
   "execution_count": 32,
   "metadata": {},
   "outputs": [],
   "source": [
    "import numpy as np\n",
    "import pandas as pd\n",
    "from src.config import raw_data_path, training_dataset_path, testing_dataset_path\n",
    "import src.data.notebook_utils as utils\n"
   ]
  },
  {
   "cell_type": "code",
   "execution_count": 2,
   "metadata": {},
   "outputs": [
    {
     "output_type": "stream",
     "name": "stdout",
     "text": [
      "/home/belu/VS Workplace/2021-re-pendleton-perovskite\n"
     ]
    }
   ],
   "source": [
    "%cd .."
   ]
  },
  {
   "cell_type": "code",
   "execution_count": 33,
   "metadata": {},
   "outputs": [],
   "source": [
    "folder = 'notebooks/results/'\n",
    "file = 'features.csv'\n",
    "df = pd.read_csv(folder + file, index_col=1)\n",
    "\n",
    "data = utils.read_data()\n",
    "columns_by_type = utils.get_columns(data.columns)\n",
    "predictors = columns_by_type['_feat_'] | columns_by_type['solUD'] "
   ]
  },
  {
   "cell_type": "code",
   "execution_count": 34,
   "metadata": {},
   "outputs": [],
   "source": [
    "# if feats_names_by_importance is index\n",
    "df = df.reset_index().rename({'index':'feats_names_by_importance'}, axis='columns')"
   ]
  },
  {
   "cell_type": "code",
   "execution_count": 35,
   "metadata": {},
   "outputs": [
    {
     "output_type": "execute_result",
     "data": {
      "text/plain": [
       "                           feats_names_by_importance  \\\n",
       "0  ['_rxn_M_organic' '_rxn_M_inorganic' '_rxn_M_a...   \n",
       "1  ['_rxn_M_organic' '_rxn_M_inorganic' '_rxn_M_a...   \n",
       "2  ['_rxn_M_organic' '_rxn_M_inorganic' '_rxn_M_a...   \n",
       "3  ['_rxn_M_organic' '_rxn_M_inorganic' '_feat_AS...   \n",
       "4  ['_rxn_M_organic' '_rxn_M_inorganic' '_rxn_M_a...   \n",
       "\n",
       "                             feats_importance_values  \n",
       "0  [0.22842081 0.18604353 0.17251794 0.1607025  0...  \n",
       "1  [2.26817202e-01 2.09639989e-01 1.63145387e-01 ...  \n",
       "2  [2.23563984e-01 1.93830753e-01 1.62923154e-01 ...  \n",
       "3  [2.28278260e-01 2.20237248e-01 1.55120340e-01 ...  \n",
       "4  [2.22716525e-01 2.01786642e-01 1.62002408e-01 ...  "
      ],
      "text/html": "<div>\n<style scoped>\n    .dataframe tbody tr th:only-of-type {\n        vertical-align: middle;\n    }\n\n    .dataframe tbody tr th {\n        vertical-align: top;\n    }\n\n    .dataframe thead th {\n        text-align: right;\n    }\n</style>\n<table border=\"1\" class=\"dataframe\">\n  <thead>\n    <tr style=\"text-align: right;\">\n      <th></th>\n      <th>feats_names_by_importance</th>\n      <th>feats_importance_values</th>\n    </tr>\n  </thead>\n  <tbody>\n    <tr>\n      <th>0</th>\n      <td>['_rxn_M_organic' '_rxn_M_inorganic' '_rxn_M_a...</td>\n      <td>[0.22842081 0.18604353 0.17251794 0.1607025  0...</td>\n    </tr>\n    <tr>\n      <th>1</th>\n      <td>['_rxn_M_organic' '_rxn_M_inorganic' '_rxn_M_a...</td>\n      <td>[2.26817202e-01 2.09639989e-01 1.63145387e-01 ...</td>\n    </tr>\n    <tr>\n      <th>2</th>\n      <td>['_rxn_M_organic' '_rxn_M_inorganic' '_rxn_M_a...</td>\n      <td>[2.23563984e-01 1.93830753e-01 1.62923154e-01 ...</td>\n    </tr>\n    <tr>\n      <th>3</th>\n      <td>['_rxn_M_organic' '_rxn_M_inorganic' '_feat_AS...</td>\n      <td>[2.28278260e-01 2.20237248e-01 1.55120340e-01 ...</td>\n    </tr>\n    <tr>\n      <th>4</th>\n      <td>['_rxn_M_organic' '_rxn_M_inorganic' '_rxn_M_a...</td>\n      <td>[2.22716525e-01 2.01786642e-01 1.62002408e-01 ...</td>\n    </tr>\n  </tbody>\n</table>\n</div>"
     },
     "metadata": {},
     "execution_count": 35
    }
   ],
   "source": [
    "df.head()"
   ]
  },
  {
   "cell_type": "code",
   "execution_count": 36,
   "metadata": {},
   "outputs": [
    {
     "output_type": "execute_result",
     "data": {
      "text/plain": [
       "75"
      ]
     },
     "metadata": {},
     "execution_count": 36
    }
   ],
   "source": [
    "len(predictors)"
   ]
  },
  {
   "cell_type": "code",
   "execution_count": 60,
   "metadata": {},
   "outputs": [],
   "source": [
    "def row_to_list(x):\n",
    "    l = x[1:-1].split(' ')\n",
    "    return [f.rstrip()[1:-1] for f in l]"
   ]
  },
  {
   "cell_type": "code",
   "execution_count": 61,
   "metadata": {},
   "outputs": [],
   "source": [
    "def isfloat(value):\n",
    "  try:\n",
    "    float(value)\n",
    "    return True\n",
    "  except ValueError:\n",
    "    return False\n",
    "\n",
    "def convert_to_float(f):\n",
    "    if isfloat(f): return float(f)\n",
    "    return 0"
   ]
  },
  {
   "cell_type": "code",
   "execution_count": 62,
   "metadata": {},
   "outputs": [],
   "source": [
    "def feat_values_to_list(x):\n",
    "    l = x[1:-1].split(' ')\n",
    "    return([convert_to_float(f.rstrip()) for f in l])"
   ]
  },
  {
   "cell_type": "code",
   "execution_count": 63,
   "metadata": {},
   "outputs": [],
   "source": [
    "weight_per_feature = {}\n",
    "for index, row in df.iterrows():\n",
    "    feat_names = row_to_list(row['feats_names_by_importance'])\n",
    "    feat_values = feat_values_to_list(row['feats_importance_values'])\n",
    "    for feat_name in feat_names: \n",
    "        if feat_name not in weight_per_feature.keys(): weight_per_feature[feat_name] = 0\n",
    "    i = 0\n",
    "    while(float(feat_values[i])>0.000001 and i < min(len(feat_names),len(feat_values)) ):        \n",
    "        weight_per_feature[feat_names[i]] += float(feat_values[i])\n",
    "        i+=1\n",
    "    "
   ]
  },
  {
   "cell_type": "code",
   "execution_count": 66,
   "metadata": {},
   "outputs": [],
   "source": [
    "df_weight_per_feature = pd.DataFrame(list(weight_per_feature.items()),columns = ['feature','weight'])"
   ]
  },
  {
   "cell_type": "code",
   "execution_count": 67,
   "metadata": {},
   "outputs": [],
   "source": [
    "df_weight_per_feature['weight'] = df_weight_per_feature['weight'].apply(lambda x: x/len(df))"
   ]
  },
  {
   "cell_type": "code",
   "execution_count": 68,
   "metadata": {},
   "outputs": [
    {
     "output_type": "execute_result",
     "data": {
      "text/plain": [
       "              feature    weight\n",
       "0      _rxn_M_organic  0.222841\n",
       "1    _rxn_M_inorganic  0.202689\n",
       "2         _rxn_M_acid  0.162786\n",
       "3          _feat_ASA-  0.146227\n",
       "4  _feat_BalabanIndex  0.026015"
      ],
      "text/html": "<div>\n<style scoped>\n    .dataframe tbody tr th:only-of-type {\n        vertical-align: middle;\n    }\n\n    .dataframe tbody tr th {\n        vertical-align: top;\n    }\n\n    .dataframe thead th {\n        text-align: right;\n    }\n</style>\n<table border=\"1\" class=\"dataframe\">\n  <thead>\n    <tr style=\"text-align: right;\">\n      <th></th>\n      <th>feature</th>\n      <th>weight</th>\n    </tr>\n  </thead>\n  <tbody>\n    <tr>\n      <th>0</th>\n      <td>_rxn_M_organic</td>\n      <td>0.222841</td>\n    </tr>\n    <tr>\n      <th>1</th>\n      <td>_rxn_M_inorganic</td>\n      <td>0.202689</td>\n    </tr>\n    <tr>\n      <th>2</th>\n      <td>_rxn_M_acid</td>\n      <td>0.162786</td>\n    </tr>\n    <tr>\n      <th>3</th>\n      <td>_feat_ASA-</td>\n      <td>0.146227</td>\n    </tr>\n    <tr>\n      <th>4</th>\n      <td>_feat_BalabanIndex</td>\n      <td>0.026015</td>\n    </tr>\n  </tbody>\n</table>\n</div>"
     },
     "metadata": {},
     "execution_count": 68
    }
   ],
   "source": [
    "df_weight_per_feature.head()"
   ]
  },
  {
   "cell_type": "code",
   "execution_count": 69,
   "metadata": {},
   "outputs": [],
   "source": [
    "df_weight_per_feature.to_csv(folder + 'fetures_sorted_by_weight.csv', index=None)"
   ]
  },
  {
   "cell_type": "code",
   "execution_count": null,
   "metadata": {},
   "outputs": [],
   "source": []
  }
 ],
 "metadata": {
  "kernelspec": {
   "name": "python369jvsc74a57bd04503f7c3eaaf103fa321b77cde35cdda27ecf83413ee8f20a542a6bd46fac0df",
   "display_name": "Python 3.6.9 64-bit ('2021-re-pendleton-perovskite-OvfDPzZ5': pipenv)"
  },
  "language_info": {
   "codemirror_mode": {
    "name": "ipython",
    "version": 3
   },
   "file_extension": ".py",
   "mimetype": "text/x-python",
   "name": "python",
   "nbconvert_exporter": "python",
   "pygments_lexer": "ipython3",
   "version": "3.6.9"
  }
 },
 "nbformat": 4,
 "nbformat_minor": 2
}